{
  "cells": [
    {
      "cell_type": "markdown",
      "metadata": {
        "toc": true,
        "id": "ctOFyviiScg_"
      },
      "source": [
        "<h1>Содержание<span class=\"tocSkip\"></span></h1>\n",
        "<div class=\"toc\"><ul class=\"toc-item\"><li><span><a href=\"#Подготовка-данных\" data-toc-modified-id=\"Подготовка-данных-1\"><span class=\"toc-item-num\">1&nbsp;&nbsp;</span>Подготовка данных</a></span><ul class=\"toc-item\"><li><span><a href=\"#Чтение-датасетов\" data-toc-modified-id=\"Чтение-датасетов-1.1\"><span class=\"toc-item-num\">1.1&nbsp;&nbsp;</span>Чтение датасетов</a></span></li><li><span><a href=\"#Расчет-эффективности-обогащения-на-стадии-флотации:\" data-toc-modified-id=\"Расчет-эффективности-обогащения-на-стадии-флотации:-1.2\"><span class=\"toc-item-num\">1.2&nbsp;&nbsp;</span>Расчет эффективности обогащения на стадии флотации:</a></span></li><li><span><a href=\"#Анализ-признаков,-недоступных-в-тестовой-выборке\" data-toc-modified-id=\"Анализ-признаков,-недоступных-в-тестовой-выборке-1.3\"><span class=\"toc-item-num\">1.3&nbsp;&nbsp;</span>Анализ признаков, недоступных в тестовой выборке</a></span></li><li><span><a href=\"#Предообработка-данных\" data-toc-modified-id=\"Предообработка-данных-1.4\"><span class=\"toc-item-num\">1.4&nbsp;&nbsp;</span>Предообработка данных</a></span></li></ul></li><li><span><a href=\"#Анализ-данных\" data-toc-modified-id=\"Анализ-данных-2\"><span class=\"toc-item-num\">2&nbsp;&nbsp;</span>Анализ данных</a></span><ul class=\"toc-item\"><li><span><a href=\"#Изменение-концентрации-металлов-(Au,-Ag,-Pb)-на-различных-этапах-очистки.\" data-toc-modified-id=\"Изменение-концентрации-металлов-(Au,-Ag,-Pb)-на-различных-этапах-очистки.-2.1\"><span class=\"toc-item-num\">2.1&nbsp;&nbsp;</span>Изменение концентрации металлов (Au, Ag, Pb) на различных этапах очистки.</a></span></li><li><span><a href=\"#Сравнение-распределения-размеров-гранул-сырья-на-обучающей-и-тестовой-выборках\" data-toc-modified-id=\"Сравнение-распределения-размеров-гранул-сырья-на-обучающей-и-тестовой-выборках-2.2\"><span class=\"toc-item-num\">2.2&nbsp;&nbsp;</span>Сравнение распределения размеров гранул сырья на обучающей и тестовой выборках</a></span></li><li><span><a href=\"#Исследование-суммарной-концентрации-всех-веществ-на-разных-стадиях:-в-сырье,-в-черновом-и-финальном-концентратах.\" data-toc-modified-id=\"Исследование-суммарной-концентрации-всех-веществ-на-разных-стадиях:-в-сырье,-в-черновом-и-финальном-концентратах.-2.3\"><span class=\"toc-item-num\">2.3&nbsp;&nbsp;</span>Исследование суммарной концентрации всех веществ на разных стадиях: в сырье, в черновом и финальном концентратах.</a></span></li></ul></li><li><span><a href=\"#Модель\" data-toc-modified-id=\"Модель-3\"><span class=\"toc-item-num\">3&nbsp;&nbsp;</span>Модель</a></span><ul class=\"toc-item\"><li><span><a href=\"#Функция-sMAPE\" data-toc-modified-id=\"Функция-sMAPE-3.1\"><span class=\"toc-item-num\">3.1&nbsp;&nbsp;</span>Функция sMAPE</a></span></li><li><span><a href=\"#Обучение-моделей\" data-toc-modified-id=\"Обучение-моделей-3.2\"><span class=\"toc-item-num\">3.2&nbsp;&nbsp;</span>Обучение моделей</a></span><ul class=\"toc-item\"><li><span><a href=\"#Дерево-решений\" data-toc-modified-id=\"Дерево-решений-3.2.1\"><span class=\"toc-item-num\">3.2.1&nbsp;&nbsp;</span>Дерево решений</a></span></li><li><span><a href=\"#Случайный-лес\" data-toc-modified-id=\"Случайный-лес-3.2.2\"><span class=\"toc-item-num\">3.2.2&nbsp;&nbsp;</span>Случайный лес</a></span></li><li><span><a href=\"#Линейная-регрессия\" data-toc-modified-id=\"Линейная-регрессия-3.2.3\"><span class=\"toc-item-num\">3.2.3&nbsp;&nbsp;</span>Линейная регрессия</a></span></li></ul></li><li><span><a href=\"#Выберем-лучшую-модель-и-проверим-её-на-тестовой-выборке\" data-toc-modified-id=\"Выберем-лучшую-модель-и-проверим-её-на-тестовой-выборке-3.3\"><span class=\"toc-item-num\">3.3&nbsp;&nbsp;</span>Выберем лучшую модель и проверим её на тестовой выборке</a></span></li><li><span><a href=\"#Проверка-финальной-модели-на-адекватность\" data-toc-modified-id=\"Проверка-финальной-модели-на-адекватность-3.4\"><span class=\"toc-item-num\">3.4&nbsp;&nbsp;</span>Проверка финальной модели на адекватность</a></span></li></ul></li></ul></div>"
      ]
    },
    {
      "cell_type": "markdown",
      "metadata": {
        "id": "B7xA2CkHSchA"
      },
      "source": [
        "# Восстановление золота из руды"
      ]
    },
    {
      "cell_type": "markdown",
      "metadata": {
        "id": "deF7hZgSSchA"
      },
      "source": [
        "Подготовьте прототип модели машинного обучения для «Цифры». Компания разрабатывает решения для эффективной работы промышленных предприятий.\n",
        "\n",
        "Модель должна предсказать коэффициент восстановления золота из золотосодержащей руды. Используйте данные с параметрами добычи и очистки. \n",
        "\n",
        "Модель поможет оптимизировать производство, чтобы не запускать предприятие с убыточными характеристиками.\n",
        "\n",
        "Вам нужно:\n",
        "\n",
        "1. Подготовить данные;\n",
        "2. Провести исследовательский анализ данных;\n",
        "3. Построить и обучить модель.\n",
        "\n",
        "Чтобы выполнить проект, обращайтесь к библиотекам *pandas*, *matplotlib* и *sklearn.* Вам поможет их документация."
      ]
    },
    {
      "cell_type": "markdown",
      "metadata": {
        "id": "k5UiaaNxSchA"
      },
      "source": [
        "## Подготовка данных"
      ]
    },
    {
      "cell_type": "code",
      "execution_count": null,
      "metadata": {
        "id": "nC7LQQBjSchA"
      },
      "outputs": [],
      "source": [
        "import pandas as pd\n",
        "import numpy as np\n",
        "import matplotlib.pyplot as plt\n",
        "import seaborn as sns\n",
        "\n",
        "from sklearn.tree import DecisionTreeRegressor\n",
        "from sklearn.ensemble import RandomForestRegressor\n",
        "from sklearn.linear_model import LinearRegression\n",
        "from sklearn.dummy import DummyRegressor\n",
        "\n",
        "from sklearn.metrics import mean_absolute_error, make_scorer\n",
        "\n",
        "from sklearn.model_selection import cross_val_score, GridSearchCV\n",
        "\n",
        "plt.rcParams[\"figure.figsize\"] = (10,10)"
      ]
    },
    {
      "cell_type": "markdown",
      "metadata": {
        "id": "J-05g6yQSchB"
      },
      "source": [
        "### Чтение датасетов"
      ]
    },
    {
      "cell_type": "code",
      "execution_count": null,
      "metadata": {
        "id": "Zr0rCycHSchB"
      },
      "outputs": [],
      "source": [
        "pd.set_option('max_columns', None)\n",
        "pd.set_option('max_rows', None)"
      ]
    },
    {
      "cell_type": "code",
      "execution_count": null,
      "metadata": {
        "id": "r6ZcLvfDSchC"
      },
      "outputs": [],
      "source": [
        "data_train = pd.read_csv('/datasets/gold_recovery_train_new.csv', parse_dates=['date'])"
      ]
    },
    {
      "cell_type": "code",
      "execution_count": null,
      "metadata": {
        "scrolled": false,
        "id": "7qTKgxnVSchC",
        "outputId": "ca2d6650-84a1-48c6-fe9c-fb35ea890486"
      },
      "outputs": [
        {
          "data": {
            "text/html": [
              "<div>\n",
              "<style scoped>\n",
              "    .dataframe tbody tr th:only-of-type {\n",
              "        vertical-align: middle;\n",
              "    }\n",
              "\n",
              "    .dataframe tbody tr th {\n",
              "        vertical-align: top;\n",
              "    }\n",
              "\n",
              "    .dataframe thead th {\n",
              "        text-align: right;\n",
              "    }\n",
              "</style>\n",
              "<table border=\"1\" class=\"dataframe\">\n",
              "  <thead>\n",
              "    <tr style=\"text-align: right;\">\n",
              "      <th></th>\n",
              "      <th>date</th>\n",
              "      <th>final.output.concentrate_ag</th>\n",
              "      <th>final.output.concentrate_pb</th>\n",
              "      <th>final.output.concentrate_sol</th>\n",
              "      <th>final.output.concentrate_au</th>\n",
              "      <th>final.output.recovery</th>\n",
              "      <th>final.output.tail_ag</th>\n",
              "      <th>final.output.tail_pb</th>\n",
              "      <th>final.output.tail_sol</th>\n",
              "      <th>final.output.tail_au</th>\n",
              "      <th>primary_cleaner.input.sulfate</th>\n",
              "      <th>primary_cleaner.input.depressant</th>\n",
              "      <th>primary_cleaner.input.feed_size</th>\n",
              "      <th>primary_cleaner.input.xanthate</th>\n",
              "      <th>primary_cleaner.output.concentrate_ag</th>\n",
              "      <th>primary_cleaner.output.concentrate_pb</th>\n",
              "      <th>primary_cleaner.output.concentrate_sol</th>\n",
              "      <th>primary_cleaner.output.concentrate_au</th>\n",
              "      <th>primary_cleaner.output.tail_ag</th>\n",
              "      <th>primary_cleaner.output.tail_pb</th>\n",
              "      <th>primary_cleaner.output.tail_sol</th>\n",
              "      <th>primary_cleaner.output.tail_au</th>\n",
              "      <th>primary_cleaner.state.floatbank8_a_air</th>\n",
              "      <th>primary_cleaner.state.floatbank8_a_level</th>\n",
              "      <th>primary_cleaner.state.floatbank8_b_air</th>\n",
              "      <th>primary_cleaner.state.floatbank8_b_level</th>\n",
              "      <th>primary_cleaner.state.floatbank8_c_air</th>\n",
              "      <th>primary_cleaner.state.floatbank8_c_level</th>\n",
              "      <th>primary_cleaner.state.floatbank8_d_air</th>\n",
              "      <th>primary_cleaner.state.floatbank8_d_level</th>\n",
              "      <th>rougher.calculation.sulfate_to_au_concentrate</th>\n",
              "      <th>rougher.calculation.floatbank10_sulfate_to_au_feed</th>\n",
              "      <th>rougher.calculation.floatbank11_sulfate_to_au_feed</th>\n",
              "      <th>rougher.calculation.au_pb_ratio</th>\n",
              "      <th>rougher.input.feed_ag</th>\n",
              "      <th>rougher.input.feed_pb</th>\n",
              "      <th>rougher.input.feed_rate</th>\n",
              "      <th>rougher.input.feed_size</th>\n",
              "      <th>rougher.input.feed_sol</th>\n",
              "      <th>rougher.input.feed_au</th>\n",
              "      <th>rougher.input.floatbank10_sulfate</th>\n",
              "      <th>rougher.input.floatbank10_xanthate</th>\n",
              "      <th>rougher.input.floatbank11_sulfate</th>\n",
              "      <th>rougher.input.floatbank11_xanthate</th>\n",
              "      <th>rougher.output.concentrate_ag</th>\n",
              "      <th>rougher.output.concentrate_pb</th>\n",
              "      <th>rougher.output.concentrate_sol</th>\n",
              "      <th>rougher.output.concentrate_au</th>\n",
              "      <th>rougher.output.recovery</th>\n",
              "      <th>rougher.output.tail_ag</th>\n",
              "      <th>rougher.output.tail_pb</th>\n",
              "      <th>rougher.output.tail_sol</th>\n",
              "      <th>rougher.output.tail_au</th>\n",
              "      <th>rougher.state.floatbank10_a_air</th>\n",
              "      <th>rougher.state.floatbank10_a_level</th>\n",
              "      <th>rougher.state.floatbank10_b_air</th>\n",
              "      <th>rougher.state.floatbank10_b_level</th>\n",
              "      <th>rougher.state.floatbank10_c_air</th>\n",
              "      <th>rougher.state.floatbank10_c_level</th>\n",
              "      <th>rougher.state.floatbank10_d_air</th>\n",
              "      <th>rougher.state.floatbank10_d_level</th>\n",
              "      <th>rougher.state.floatbank10_e_air</th>\n",
              "      <th>rougher.state.floatbank10_e_level</th>\n",
              "      <th>rougher.state.floatbank10_f_air</th>\n",
              "      <th>rougher.state.floatbank10_f_level</th>\n",
              "      <th>secondary_cleaner.output.tail_ag</th>\n",
              "      <th>secondary_cleaner.output.tail_pb</th>\n",
              "      <th>secondary_cleaner.output.tail_sol</th>\n",
              "      <th>secondary_cleaner.output.tail_au</th>\n",
              "      <th>secondary_cleaner.state.floatbank2_a_air</th>\n",
              "      <th>secondary_cleaner.state.floatbank2_a_level</th>\n",
              "      <th>secondary_cleaner.state.floatbank2_b_air</th>\n",
              "      <th>secondary_cleaner.state.floatbank2_b_level</th>\n",
              "      <th>secondary_cleaner.state.floatbank3_a_air</th>\n",
              "      <th>secondary_cleaner.state.floatbank3_a_level</th>\n",
              "      <th>secondary_cleaner.state.floatbank3_b_air</th>\n",
              "      <th>secondary_cleaner.state.floatbank3_b_level</th>\n",
              "      <th>secondary_cleaner.state.floatbank4_a_air</th>\n",
              "      <th>secondary_cleaner.state.floatbank4_a_level</th>\n",
              "      <th>secondary_cleaner.state.floatbank4_b_air</th>\n",
              "      <th>secondary_cleaner.state.floatbank4_b_level</th>\n",
              "      <th>secondary_cleaner.state.floatbank5_a_air</th>\n",
              "      <th>secondary_cleaner.state.floatbank5_a_level</th>\n",
              "      <th>secondary_cleaner.state.floatbank5_b_air</th>\n",
              "      <th>secondary_cleaner.state.floatbank5_b_level</th>\n",
              "      <th>secondary_cleaner.state.floatbank6_a_air</th>\n",
              "      <th>secondary_cleaner.state.floatbank6_a_level</th>\n",
              "    </tr>\n",
              "  </thead>\n",
              "  <tbody>\n",
              "    <tr>\n",
              "      <th>0</th>\n",
              "      <td>2016-01-15 00:00:00</td>\n",
              "      <td>6.055403</td>\n",
              "      <td>9.889648</td>\n",
              "      <td>5.507324</td>\n",
              "      <td>42.192020</td>\n",
              "      <td>70.541216</td>\n",
              "      <td>10.411962</td>\n",
              "      <td>0.895447</td>\n",
              "      <td>16.904297</td>\n",
              "      <td>2.143149</td>\n",
              "      <td>127.092003</td>\n",
              "      <td>10.128295</td>\n",
              "      <td>7.25</td>\n",
              "      <td>0.988759</td>\n",
              "      <td>8.547551</td>\n",
              "      <td>10.389648</td>\n",
              "      <td>19.529297</td>\n",
              "      <td>34.174427</td>\n",
              "      <td>14.936526</td>\n",
              "      <td>2.534912</td>\n",
              "      <td>7.476074</td>\n",
              "      <td>2.106679</td>\n",
              "      <td>1549.775757</td>\n",
              "      <td>-498.912140</td>\n",
              "      <td>1551.434204</td>\n",
              "      <td>-516.403442</td>\n",
              "      <td>1549.873901</td>\n",
              "      <td>-498.666595</td>\n",
              "      <td>1554.367432</td>\n",
              "      <td>-493.428131</td>\n",
              "      <td>41885.707031</td>\n",
              "      <td>3481.779053</td>\n",
              "      <td>3520.337158</td>\n",
              "      <td>2.838687</td>\n",
              "      <td>6.100378</td>\n",
              "      <td>2.284912</td>\n",
              "      <td>523.546326</td>\n",
              "      <td>55.486599</td>\n",
              "      <td>36.808594</td>\n",
              "      <td>6.486150</td>\n",
              "      <td>11.986616</td>\n",
              "      <td>6.007990</td>\n",
              "      <td>11.836743</td>\n",
              "      <td>6.005818</td>\n",
              "      <td>11.500771</td>\n",
              "      <td>7.101074</td>\n",
              "      <td>28.029297</td>\n",
              "      <td>19.793808</td>\n",
              "      <td>87.107763</td>\n",
              "      <td>5.008018</td>\n",
              "      <td>0.508728</td>\n",
              "      <td>19.154297</td>\n",
              "      <td>1.170244</td>\n",
              "      <td>999.706909</td>\n",
              "      <td>-404.066986</td>\n",
              "      <td>1603.011353</td>\n",
              "      <td>-434.715027</td>\n",
              "      <td>1602.375000</td>\n",
              "      <td>-442.204468</td>\n",
              "      <td>1598.937256</td>\n",
              "      <td>-451.294128</td>\n",
              "      <td>1404.472046</td>\n",
              "      <td>-455.462982</td>\n",
              "      <td>1416.354980</td>\n",
              "      <td>-451.939636</td>\n",
              "      <td>14.500184</td>\n",
              "      <td>4.694824</td>\n",
              "      <td>8.764648</td>\n",
              "      <td>2.606185</td>\n",
              "      <td>25.853109</td>\n",
              "      <td>-498.526489</td>\n",
              "      <td>23.893660</td>\n",
              "      <td>-501.406281</td>\n",
              "      <td>23.961798</td>\n",
              "      <td>-495.262817</td>\n",
              "      <td>21.940409</td>\n",
              "      <td>-499.340973</td>\n",
              "      <td>14.016835</td>\n",
              "      <td>-502.488007</td>\n",
              "      <td>12.099931</td>\n",
              "      <td>-504.715942</td>\n",
              "      <td>9.925633</td>\n",
              "      <td>-498.310211</td>\n",
              "      <td>8.079666</td>\n",
              "      <td>-500.470978</td>\n",
              "      <td>14.151341</td>\n",
              "      <td>-605.841980</td>\n",
              "    </tr>\n",
              "    <tr>\n",
              "      <th>1</th>\n",
              "      <td>2016-01-15 01:00:00</td>\n",
              "      <td>6.029369</td>\n",
              "      <td>9.968944</td>\n",
              "      <td>5.257781</td>\n",
              "      <td>42.701629</td>\n",
              "      <td>69.266198</td>\n",
              "      <td>10.462676</td>\n",
              "      <td>0.927452</td>\n",
              "      <td>16.634514</td>\n",
              "      <td>2.224930</td>\n",
              "      <td>125.629232</td>\n",
              "      <td>10.296251</td>\n",
              "      <td>7.25</td>\n",
              "      <td>1.002663</td>\n",
              "      <td>8.558743</td>\n",
              "      <td>10.497069</td>\n",
              "      <td>19.369147</td>\n",
              "      <td>34.118526</td>\n",
              "      <td>16.250511</td>\n",
              "      <td>3.049646</td>\n",
              "      <td>6.733907</td>\n",
              "      <td>2.353017</td>\n",
              "      <td>1576.166671</td>\n",
              "      <td>-500.904965</td>\n",
              "      <td>1575.950626</td>\n",
              "      <td>-499.865889</td>\n",
              "      <td>1575.994189</td>\n",
              "      <td>-499.315107</td>\n",
              "      <td>1574.479259</td>\n",
              "      <td>-498.931665</td>\n",
              "      <td>42050.861809</td>\n",
              "      <td>3498.370979</td>\n",
              "      <td>3489.981857</td>\n",
              "      <td>2.858998</td>\n",
              "      <td>6.161113</td>\n",
              "      <td>2.266033</td>\n",
              "      <td>525.290581</td>\n",
              "      <td>57.278666</td>\n",
              "      <td>35.753385</td>\n",
              "      <td>6.478583</td>\n",
              "      <td>11.971193</td>\n",
              "      <td>6.005766</td>\n",
              "      <td>11.996163</td>\n",
              "      <td>6.012594</td>\n",
              "      <td>11.615865</td>\n",
              "      <td>7.278807</td>\n",
              "      <td>28.067063</td>\n",
              "      <td>20.050975</td>\n",
              "      <td>86.843261</td>\n",
              "      <td>4.955378</td>\n",
              "      <td>0.536689</td>\n",
              "      <td>18.965234</td>\n",
              "      <td>1.184827</td>\n",
              "      <td>1000.286398</td>\n",
              "      <td>-400.065196</td>\n",
              "      <td>1600.754587</td>\n",
              "      <td>-449.953435</td>\n",
              "      <td>1600.479580</td>\n",
              "      <td>-449.830646</td>\n",
              "      <td>1600.527589</td>\n",
              "      <td>-449.953649</td>\n",
              "      <td>1399.227084</td>\n",
              "      <td>-450.869848</td>\n",
              "      <td>1399.719514</td>\n",
              "      <td>-450.119001</td>\n",
              "      <td>14.265474</td>\n",
              "      <td>4.592547</td>\n",
              "      <td>9.001494</td>\n",
              "      <td>2.488248</td>\n",
              "      <td>25.880539</td>\n",
              "      <td>-499.989656</td>\n",
              "      <td>23.889530</td>\n",
              "      <td>-500.372428</td>\n",
              "      <td>23.970550</td>\n",
              "      <td>-500.085473</td>\n",
              "      <td>22.085714</td>\n",
              "      <td>-499.446897</td>\n",
              "      <td>13.992281</td>\n",
              "      <td>-505.503262</td>\n",
              "      <td>11.950531</td>\n",
              "      <td>-501.331529</td>\n",
              "      <td>10.039245</td>\n",
              "      <td>-500.169983</td>\n",
              "      <td>7.984757</td>\n",
              "      <td>-500.582168</td>\n",
              "      <td>13.998353</td>\n",
              "      <td>-599.787184</td>\n",
              "    </tr>\n",
              "    <tr>\n",
              "      <th>2</th>\n",
              "      <td>2016-01-15 02:00:00</td>\n",
              "      <td>6.055926</td>\n",
              "      <td>10.213995</td>\n",
              "      <td>5.383759</td>\n",
              "      <td>42.657501</td>\n",
              "      <td>68.116445</td>\n",
              "      <td>10.507046</td>\n",
              "      <td>0.953716</td>\n",
              "      <td>16.208849</td>\n",
              "      <td>2.257889</td>\n",
              "      <td>123.819808</td>\n",
              "      <td>11.316280</td>\n",
              "      <td>7.25</td>\n",
              "      <td>0.991265</td>\n",
              "      <td>8.603505</td>\n",
              "      <td>10.354494</td>\n",
              "      <td>19.167579</td>\n",
              "      <td>33.969464</td>\n",
              "      <td>16.491823</td>\n",
              "      <td>3.124664</td>\n",
              "      <td>6.471768</td>\n",
              "      <td>2.416800</td>\n",
              "      <td>1601.556163</td>\n",
              "      <td>-499.997791</td>\n",
              "      <td>1600.386685</td>\n",
              "      <td>-500.607762</td>\n",
              "      <td>1602.003542</td>\n",
              "      <td>-500.870069</td>\n",
              "      <td>1599.541515</td>\n",
              "      <td>-499.827444</td>\n",
              "      <td>42018.101184</td>\n",
              "      <td>3495.348910</td>\n",
              "      <td>3502.359819</td>\n",
              "      <td>2.945989</td>\n",
              "      <td>6.116455</td>\n",
              "      <td>2.159622</td>\n",
              "      <td>530.026610</td>\n",
              "      <td>57.510649</td>\n",
              "      <td>35.971630</td>\n",
              "      <td>6.362222</td>\n",
              "      <td>11.920603</td>\n",
              "      <td>6.197377</td>\n",
              "      <td>11.920305</td>\n",
              "      <td>6.204633</td>\n",
              "      <td>11.695753</td>\n",
              "      <td>7.216833</td>\n",
              "      <td>27.454037</td>\n",
              "      <td>19.737170</td>\n",
              "      <td>86.842308</td>\n",
              "      <td>4.843460</td>\n",
              "      <td>0.546416</td>\n",
              "      <td>18.808533</td>\n",
              "      <td>1.162562</td>\n",
              "      <td>999.719565</td>\n",
              "      <td>-400.074028</td>\n",
              "      <td>1599.337330</td>\n",
              "      <td>-450.008530</td>\n",
              "      <td>1599.672797</td>\n",
              "      <td>-449.954491</td>\n",
              "      <td>1599.849325</td>\n",
              "      <td>-449.954185</td>\n",
              "      <td>1399.180945</td>\n",
              "      <td>-449.937588</td>\n",
              "      <td>1400.316682</td>\n",
              "      <td>-450.527147</td>\n",
              "      <td>14.115662</td>\n",
              "      <td>4.624775</td>\n",
              "      <td>8.842896</td>\n",
              "      <td>2.458187</td>\n",
              "      <td>26.005245</td>\n",
              "      <td>-499.929616</td>\n",
              "      <td>23.886657</td>\n",
              "      <td>-499.951928</td>\n",
              "      <td>23.913535</td>\n",
              "      <td>-499.442343</td>\n",
              "      <td>23.957717</td>\n",
              "      <td>-499.901982</td>\n",
              "      <td>14.015015</td>\n",
              "      <td>-502.520901</td>\n",
              "      <td>11.912783</td>\n",
              "      <td>-501.133383</td>\n",
              "      <td>10.070913</td>\n",
              "      <td>-500.129135</td>\n",
              "      <td>8.013877</td>\n",
              "      <td>-500.517572</td>\n",
              "      <td>14.028663</td>\n",
              "      <td>-601.427363</td>\n",
              "    </tr>\n",
              "    <tr>\n",
              "      <th>3</th>\n",
              "      <td>2016-01-15 03:00:00</td>\n",
              "      <td>6.047977</td>\n",
              "      <td>9.977019</td>\n",
              "      <td>4.858634</td>\n",
              "      <td>42.689819</td>\n",
              "      <td>68.347543</td>\n",
              "      <td>10.422762</td>\n",
              "      <td>0.883763</td>\n",
              "      <td>16.532835</td>\n",
              "      <td>2.146849</td>\n",
              "      <td>122.270188</td>\n",
              "      <td>11.322140</td>\n",
              "      <td>7.25</td>\n",
              "      <td>0.996739</td>\n",
              "      <td>7.221879</td>\n",
              "      <td>8.496563</td>\n",
              "      <td>15.978538</td>\n",
              "      <td>28.260743</td>\n",
              "      <td>16.024359</td>\n",
              "      <td>2.960362</td>\n",
              "      <td>6.843791</td>\n",
              "      <td>2.262051</td>\n",
              "      <td>1599.968720</td>\n",
              "      <td>-500.951778</td>\n",
              "      <td>1600.659236</td>\n",
              "      <td>-499.677094</td>\n",
              "      <td>1600.304144</td>\n",
              "      <td>-500.727997</td>\n",
              "      <td>1600.449520</td>\n",
              "      <td>-500.052575</td>\n",
              "      <td>42029.447991</td>\n",
              "      <td>3498.578313</td>\n",
              "      <td>3499.162912</td>\n",
              "      <td>3.002340</td>\n",
              "      <td>6.043309</td>\n",
              "      <td>2.037807</td>\n",
              "      <td>542.590390</td>\n",
              "      <td>57.792734</td>\n",
              "      <td>36.862241</td>\n",
              "      <td>6.118189</td>\n",
              "      <td>11.630094</td>\n",
              "      <td>6.203177</td>\n",
              "      <td>11.692450</td>\n",
              "      <td>6.196578</td>\n",
              "      <td>11.915047</td>\n",
              "      <td>7.175616</td>\n",
              "      <td>27.341277</td>\n",
              "      <td>19.320810</td>\n",
              "      <td>87.226430</td>\n",
              "      <td>4.655288</td>\n",
              "      <td>0.542525</td>\n",
              "      <td>19.330200</td>\n",
              "      <td>1.079755</td>\n",
              "      <td>999.814770</td>\n",
              "      <td>-400.200179</td>\n",
              "      <td>1600.059442</td>\n",
              "      <td>-450.619948</td>\n",
              "      <td>1600.012842</td>\n",
              "      <td>-449.910497</td>\n",
              "      <td>1597.725177</td>\n",
              "      <td>-450.130127</td>\n",
              "      <td>1400.943157</td>\n",
              "      <td>-450.030142</td>\n",
              "      <td>1400.234743</td>\n",
              "      <td>-449.790835</td>\n",
              "      <td>13.732071</td>\n",
              "      <td>4.482453</td>\n",
              "      <td>9.122857</td>\n",
              "      <td>2.322062</td>\n",
              "      <td>25.942508</td>\n",
              "      <td>-499.176749</td>\n",
              "      <td>23.955516</td>\n",
              "      <td>-499.848796</td>\n",
              "      <td>23.966838</td>\n",
              "      <td>-500.008812</td>\n",
              "      <td>23.954443</td>\n",
              "      <td>-499.944710</td>\n",
              "      <td>14.036510</td>\n",
              "      <td>-500.857308</td>\n",
              "      <td>11.999550</td>\n",
              "      <td>-501.193686</td>\n",
              "      <td>9.970366</td>\n",
              "      <td>-499.201640</td>\n",
              "      <td>7.977324</td>\n",
              "      <td>-500.255908</td>\n",
              "      <td>14.005551</td>\n",
              "      <td>-599.996129</td>\n",
              "    </tr>\n",
              "    <tr>\n",
              "      <th>4</th>\n",
              "      <td>2016-01-15 04:00:00</td>\n",
              "      <td>6.148599</td>\n",
              "      <td>10.142511</td>\n",
              "      <td>4.939416</td>\n",
              "      <td>42.774141</td>\n",
              "      <td>66.927016</td>\n",
              "      <td>10.360302</td>\n",
              "      <td>0.792826</td>\n",
              "      <td>16.525686</td>\n",
              "      <td>2.055292</td>\n",
              "      <td>117.988169</td>\n",
              "      <td>11.913613</td>\n",
              "      <td>7.25</td>\n",
              "      <td>1.009869</td>\n",
              "      <td>9.089428</td>\n",
              "      <td>9.986786</td>\n",
              "      <td>19.199864</td>\n",
              "      <td>33.044932</td>\n",
              "      <td>16.480185</td>\n",
              "      <td>3.112100</td>\n",
              "      <td>6.550154</td>\n",
              "      <td>2.277073</td>\n",
              "      <td>1601.339707</td>\n",
              "      <td>-498.975456</td>\n",
              "      <td>1601.437854</td>\n",
              "      <td>-500.323246</td>\n",
              "      <td>1599.581894</td>\n",
              "      <td>-500.888152</td>\n",
              "      <td>1602.649541</td>\n",
              "      <td>-500.593010</td>\n",
              "      <td>42125.354245</td>\n",
              "      <td>3494.800771</td>\n",
              "      <td>3506.679315</td>\n",
              "      <td>3.169615</td>\n",
              "      <td>6.060915</td>\n",
              "      <td>1.786875</td>\n",
              "      <td>540.531893</td>\n",
              "      <td>56.047189</td>\n",
              "      <td>34.347666</td>\n",
              "      <td>5.663707</td>\n",
              "      <td>10.957755</td>\n",
              "      <td>6.198826</td>\n",
              "      <td>10.960521</td>\n",
              "      <td>6.194897</td>\n",
              "      <td>12.411054</td>\n",
              "      <td>7.240205</td>\n",
              "      <td>27.041023</td>\n",
              "      <td>19.216101</td>\n",
              "      <td>86.688794</td>\n",
              "      <td>4.552800</td>\n",
              "      <td>0.515438</td>\n",
              "      <td>19.267422</td>\n",
              "      <td>1.012642</td>\n",
              "      <td>999.678690</td>\n",
              "      <td>-399.752729</td>\n",
              "      <td>1600.208824</td>\n",
              "      <td>-449.599614</td>\n",
              "      <td>1600.357732</td>\n",
              "      <td>-450.034364</td>\n",
              "      <td>1599.759049</td>\n",
              "      <td>-449.909799</td>\n",
              "      <td>1401.560902</td>\n",
              "      <td>-448.877187</td>\n",
              "      <td>1401.160227</td>\n",
              "      <td>-450.407128</td>\n",
              "      <td>14.079996</td>\n",
              "      <td>4.470737</td>\n",
              "      <td>8.871028</td>\n",
              "      <td>2.330448</td>\n",
              "      <td>26.024787</td>\n",
              "      <td>-500.279091</td>\n",
              "      <td>23.955345</td>\n",
              "      <td>-500.593614</td>\n",
              "      <td>23.985703</td>\n",
              "      <td>-500.083811</td>\n",
              "      <td>23.958945</td>\n",
              "      <td>-499.990309</td>\n",
              "      <td>14.027298</td>\n",
              "      <td>-499.838632</td>\n",
              "      <td>11.953070</td>\n",
              "      <td>-501.053894</td>\n",
              "      <td>9.925709</td>\n",
              "      <td>-501.686727</td>\n",
              "      <td>7.894242</td>\n",
              "      <td>-500.356035</td>\n",
              "      <td>13.996647</td>\n",
              "      <td>-601.496691</td>\n",
              "    </tr>\n",
              "  </tbody>\n",
              "</table>\n",
              "</div>"
            ],
            "text/plain": [
              "                 date  final.output.concentrate_ag  \\\n",
              "0 2016-01-15 00:00:00                     6.055403   \n",
              "1 2016-01-15 01:00:00                     6.029369   \n",
              "2 2016-01-15 02:00:00                     6.055926   \n",
              "3 2016-01-15 03:00:00                     6.047977   \n",
              "4 2016-01-15 04:00:00                     6.148599   \n",
              "\n",
              "   final.output.concentrate_pb  final.output.concentrate_sol  \\\n",
              "0                     9.889648                      5.507324   \n",
              "1                     9.968944                      5.257781   \n",
              "2                    10.213995                      5.383759   \n",
              "3                     9.977019                      4.858634   \n",
              "4                    10.142511                      4.939416   \n",
              "\n",
              "   final.output.concentrate_au  final.output.recovery  final.output.tail_ag  \\\n",
              "0                    42.192020              70.541216             10.411962   \n",
              "1                    42.701629              69.266198             10.462676   \n",
              "2                    42.657501              68.116445             10.507046   \n",
              "3                    42.689819              68.347543             10.422762   \n",
              "4                    42.774141              66.927016             10.360302   \n",
              "\n",
              "   final.output.tail_pb  final.output.tail_sol  final.output.tail_au  \\\n",
              "0              0.895447              16.904297              2.143149   \n",
              "1              0.927452              16.634514              2.224930   \n",
              "2              0.953716              16.208849              2.257889   \n",
              "3              0.883763              16.532835              2.146849   \n",
              "4              0.792826              16.525686              2.055292   \n",
              "\n",
              "   primary_cleaner.input.sulfate  primary_cleaner.input.depressant  \\\n",
              "0                     127.092003                         10.128295   \n",
              "1                     125.629232                         10.296251   \n",
              "2                     123.819808                         11.316280   \n",
              "3                     122.270188                         11.322140   \n",
              "4                     117.988169                         11.913613   \n",
              "\n",
              "   primary_cleaner.input.feed_size  primary_cleaner.input.xanthate  \\\n",
              "0                             7.25                        0.988759   \n",
              "1                             7.25                        1.002663   \n",
              "2                             7.25                        0.991265   \n",
              "3                             7.25                        0.996739   \n",
              "4                             7.25                        1.009869   \n",
              "\n",
              "   primary_cleaner.output.concentrate_ag  \\\n",
              "0                               8.547551   \n",
              "1                               8.558743   \n",
              "2                               8.603505   \n",
              "3                               7.221879   \n",
              "4                               9.089428   \n",
              "\n",
              "   primary_cleaner.output.concentrate_pb  \\\n",
              "0                              10.389648   \n",
              "1                              10.497069   \n",
              "2                              10.354494   \n",
              "3                               8.496563   \n",
              "4                               9.986786   \n",
              "\n",
              "   primary_cleaner.output.concentrate_sol  \\\n",
              "0                               19.529297   \n",
              "1                               19.369147   \n",
              "2                               19.167579   \n",
              "3                               15.978538   \n",
              "4                               19.199864   \n",
              "\n",
              "   primary_cleaner.output.concentrate_au  primary_cleaner.output.tail_ag  \\\n",
              "0                              34.174427                       14.936526   \n",
              "1                              34.118526                       16.250511   \n",
              "2                              33.969464                       16.491823   \n",
              "3                              28.260743                       16.024359   \n",
              "4                              33.044932                       16.480185   \n",
              "\n",
              "   primary_cleaner.output.tail_pb  primary_cleaner.output.tail_sol  \\\n",
              "0                        2.534912                         7.476074   \n",
              "1                        3.049646                         6.733907   \n",
              "2                        3.124664                         6.471768   \n",
              "3                        2.960362                         6.843791   \n",
              "4                        3.112100                         6.550154   \n",
              "\n",
              "   primary_cleaner.output.tail_au  primary_cleaner.state.floatbank8_a_air  \\\n",
              "0                        2.106679                             1549.775757   \n",
              "1                        2.353017                             1576.166671   \n",
              "2                        2.416800                             1601.556163   \n",
              "3                        2.262051                             1599.968720   \n",
              "4                        2.277073                             1601.339707   \n",
              "\n",
              "   primary_cleaner.state.floatbank8_a_level  \\\n",
              "0                               -498.912140   \n",
              "1                               -500.904965   \n",
              "2                               -499.997791   \n",
              "3                               -500.951778   \n",
              "4                               -498.975456   \n",
              "\n",
              "   primary_cleaner.state.floatbank8_b_air  \\\n",
              "0                             1551.434204   \n",
              "1                             1575.950626   \n",
              "2                             1600.386685   \n",
              "3                             1600.659236   \n",
              "4                             1601.437854   \n",
              "\n",
              "   primary_cleaner.state.floatbank8_b_level  \\\n",
              "0                               -516.403442   \n",
              "1                               -499.865889   \n",
              "2                               -500.607762   \n",
              "3                               -499.677094   \n",
              "4                               -500.323246   \n",
              "\n",
              "   primary_cleaner.state.floatbank8_c_air  \\\n",
              "0                             1549.873901   \n",
              "1                             1575.994189   \n",
              "2                             1602.003542   \n",
              "3                             1600.304144   \n",
              "4                             1599.581894   \n",
              "\n",
              "   primary_cleaner.state.floatbank8_c_level  \\\n",
              "0                               -498.666595   \n",
              "1                               -499.315107   \n",
              "2                               -500.870069   \n",
              "3                               -500.727997   \n",
              "4                               -500.888152   \n",
              "\n",
              "   primary_cleaner.state.floatbank8_d_air  \\\n",
              "0                             1554.367432   \n",
              "1                             1574.479259   \n",
              "2                             1599.541515   \n",
              "3                             1600.449520   \n",
              "4                             1602.649541   \n",
              "\n",
              "   primary_cleaner.state.floatbank8_d_level  \\\n",
              "0                               -493.428131   \n",
              "1                               -498.931665   \n",
              "2                               -499.827444   \n",
              "3                               -500.052575   \n",
              "4                               -500.593010   \n",
              "\n",
              "   rougher.calculation.sulfate_to_au_concentrate  \\\n",
              "0                                   41885.707031   \n",
              "1                                   42050.861809   \n",
              "2                                   42018.101184   \n",
              "3                                   42029.447991   \n",
              "4                                   42125.354245   \n",
              "\n",
              "   rougher.calculation.floatbank10_sulfate_to_au_feed  \\\n",
              "0                                        3481.779053    \n",
              "1                                        3498.370979    \n",
              "2                                        3495.348910    \n",
              "3                                        3498.578313    \n",
              "4                                        3494.800771    \n",
              "\n",
              "   rougher.calculation.floatbank11_sulfate_to_au_feed  \\\n",
              "0                                        3520.337158    \n",
              "1                                        3489.981857    \n",
              "2                                        3502.359819    \n",
              "3                                        3499.162912    \n",
              "4                                        3506.679315    \n",
              "\n",
              "   rougher.calculation.au_pb_ratio  rougher.input.feed_ag  \\\n",
              "0                         2.838687               6.100378   \n",
              "1                         2.858998               6.161113   \n",
              "2                         2.945989               6.116455   \n",
              "3                         3.002340               6.043309   \n",
              "4                         3.169615               6.060915   \n",
              "\n",
              "   rougher.input.feed_pb  rougher.input.feed_rate  rougher.input.feed_size  \\\n",
              "0               2.284912               523.546326                55.486599   \n",
              "1               2.266033               525.290581                57.278666   \n",
              "2               2.159622               530.026610                57.510649   \n",
              "3               2.037807               542.590390                57.792734   \n",
              "4               1.786875               540.531893                56.047189   \n",
              "\n",
              "   rougher.input.feed_sol  rougher.input.feed_au  \\\n",
              "0               36.808594               6.486150   \n",
              "1               35.753385               6.478583   \n",
              "2               35.971630               6.362222   \n",
              "3               36.862241               6.118189   \n",
              "4               34.347666               5.663707   \n",
              "\n",
              "   rougher.input.floatbank10_sulfate  rougher.input.floatbank10_xanthate  \\\n",
              "0                          11.986616                            6.007990   \n",
              "1                          11.971193                            6.005766   \n",
              "2                          11.920603                            6.197377   \n",
              "3                          11.630094                            6.203177   \n",
              "4                          10.957755                            6.198826   \n",
              "\n",
              "   rougher.input.floatbank11_sulfate  rougher.input.floatbank11_xanthate  \\\n",
              "0                          11.836743                            6.005818   \n",
              "1                          11.996163                            6.012594   \n",
              "2                          11.920305                            6.204633   \n",
              "3                          11.692450                            6.196578   \n",
              "4                          10.960521                            6.194897   \n",
              "\n",
              "   rougher.output.concentrate_ag  rougher.output.concentrate_pb  \\\n",
              "0                      11.500771                       7.101074   \n",
              "1                      11.615865                       7.278807   \n",
              "2                      11.695753                       7.216833   \n",
              "3                      11.915047                       7.175616   \n",
              "4                      12.411054                       7.240205   \n",
              "\n",
              "   rougher.output.concentrate_sol  rougher.output.concentrate_au  \\\n",
              "0                       28.029297                      19.793808   \n",
              "1                       28.067063                      20.050975   \n",
              "2                       27.454037                      19.737170   \n",
              "3                       27.341277                      19.320810   \n",
              "4                       27.041023                      19.216101   \n",
              "\n",
              "   rougher.output.recovery  rougher.output.tail_ag  rougher.output.tail_pb  \\\n",
              "0                87.107763                5.008018                0.508728   \n",
              "1                86.843261                4.955378                0.536689   \n",
              "2                86.842308                4.843460                0.546416   \n",
              "3                87.226430                4.655288                0.542525   \n",
              "4                86.688794                4.552800                0.515438   \n",
              "\n",
              "   rougher.output.tail_sol  rougher.output.tail_au  \\\n",
              "0                19.154297                1.170244   \n",
              "1                18.965234                1.184827   \n",
              "2                18.808533                1.162562   \n",
              "3                19.330200                1.079755   \n",
              "4                19.267422                1.012642   \n",
              "\n",
              "   rougher.state.floatbank10_a_air  rougher.state.floatbank10_a_level  \\\n",
              "0                       999.706909                        -404.066986   \n",
              "1                      1000.286398                        -400.065196   \n",
              "2                       999.719565                        -400.074028   \n",
              "3                       999.814770                        -400.200179   \n",
              "4                       999.678690                        -399.752729   \n",
              "\n",
              "   rougher.state.floatbank10_b_air  rougher.state.floatbank10_b_level  \\\n",
              "0                      1603.011353                        -434.715027   \n",
              "1                      1600.754587                        -449.953435   \n",
              "2                      1599.337330                        -450.008530   \n",
              "3                      1600.059442                        -450.619948   \n",
              "4                      1600.208824                        -449.599614   \n",
              "\n",
              "   rougher.state.floatbank10_c_air  rougher.state.floatbank10_c_level  \\\n",
              "0                      1602.375000                        -442.204468   \n",
              "1                      1600.479580                        -449.830646   \n",
              "2                      1599.672797                        -449.954491   \n",
              "3                      1600.012842                        -449.910497   \n",
              "4                      1600.357732                        -450.034364   \n",
              "\n",
              "   rougher.state.floatbank10_d_air  rougher.state.floatbank10_d_level  \\\n",
              "0                      1598.937256                        -451.294128   \n",
              "1                      1600.527589                        -449.953649   \n",
              "2                      1599.849325                        -449.954185   \n",
              "3                      1597.725177                        -450.130127   \n",
              "4                      1599.759049                        -449.909799   \n",
              "\n",
              "   rougher.state.floatbank10_e_air  rougher.state.floatbank10_e_level  \\\n",
              "0                      1404.472046                        -455.462982   \n",
              "1                      1399.227084                        -450.869848   \n",
              "2                      1399.180945                        -449.937588   \n",
              "3                      1400.943157                        -450.030142   \n",
              "4                      1401.560902                        -448.877187   \n",
              "\n",
              "   rougher.state.floatbank10_f_air  rougher.state.floatbank10_f_level  \\\n",
              "0                      1416.354980                        -451.939636   \n",
              "1                      1399.719514                        -450.119001   \n",
              "2                      1400.316682                        -450.527147   \n",
              "3                      1400.234743                        -449.790835   \n",
              "4                      1401.160227                        -450.407128   \n",
              "\n",
              "   secondary_cleaner.output.tail_ag  secondary_cleaner.output.tail_pb  \\\n",
              "0                         14.500184                          4.694824   \n",
              "1                         14.265474                          4.592547   \n",
              "2                         14.115662                          4.624775   \n",
              "3                         13.732071                          4.482453   \n",
              "4                         14.079996                          4.470737   \n",
              "\n",
              "   secondary_cleaner.output.tail_sol  secondary_cleaner.output.tail_au  \\\n",
              "0                           8.764648                          2.606185   \n",
              "1                           9.001494                          2.488248   \n",
              "2                           8.842896                          2.458187   \n",
              "3                           9.122857                          2.322062   \n",
              "4                           8.871028                          2.330448   \n",
              "\n",
              "   secondary_cleaner.state.floatbank2_a_air  \\\n",
              "0                                 25.853109   \n",
              "1                                 25.880539   \n",
              "2                                 26.005245   \n",
              "3                                 25.942508   \n",
              "4                                 26.024787   \n",
              "\n",
              "   secondary_cleaner.state.floatbank2_a_level  \\\n",
              "0                                 -498.526489   \n",
              "1                                 -499.989656   \n",
              "2                                 -499.929616   \n",
              "3                                 -499.176749   \n",
              "4                                 -500.279091   \n",
              "\n",
              "   secondary_cleaner.state.floatbank2_b_air  \\\n",
              "0                                 23.893660   \n",
              "1                                 23.889530   \n",
              "2                                 23.886657   \n",
              "3                                 23.955516   \n",
              "4                                 23.955345   \n",
              "\n",
              "   secondary_cleaner.state.floatbank2_b_level  \\\n",
              "0                                 -501.406281   \n",
              "1                                 -500.372428   \n",
              "2                                 -499.951928   \n",
              "3                                 -499.848796   \n",
              "4                                 -500.593614   \n",
              "\n",
              "   secondary_cleaner.state.floatbank3_a_air  \\\n",
              "0                                 23.961798   \n",
              "1                                 23.970550   \n",
              "2                                 23.913535   \n",
              "3                                 23.966838   \n",
              "4                                 23.985703   \n",
              "\n",
              "   secondary_cleaner.state.floatbank3_a_level  \\\n",
              "0                                 -495.262817   \n",
              "1                                 -500.085473   \n",
              "2                                 -499.442343   \n",
              "3                                 -500.008812   \n",
              "4                                 -500.083811   \n",
              "\n",
              "   secondary_cleaner.state.floatbank3_b_air  \\\n",
              "0                                 21.940409   \n",
              "1                                 22.085714   \n",
              "2                                 23.957717   \n",
              "3                                 23.954443   \n",
              "4                                 23.958945   \n",
              "\n",
              "   secondary_cleaner.state.floatbank3_b_level  \\\n",
              "0                                 -499.340973   \n",
              "1                                 -499.446897   \n",
              "2                                 -499.901982   \n",
              "3                                 -499.944710   \n",
              "4                                 -499.990309   \n",
              "\n",
              "   secondary_cleaner.state.floatbank4_a_air  \\\n",
              "0                                 14.016835   \n",
              "1                                 13.992281   \n",
              "2                                 14.015015   \n",
              "3                                 14.036510   \n",
              "4                                 14.027298   \n",
              "\n",
              "   secondary_cleaner.state.floatbank4_a_level  \\\n",
              "0                                 -502.488007   \n",
              "1                                 -505.503262   \n",
              "2                                 -502.520901   \n",
              "3                                 -500.857308   \n",
              "4                                 -499.838632   \n",
              "\n",
              "   secondary_cleaner.state.floatbank4_b_air  \\\n",
              "0                                 12.099931   \n",
              "1                                 11.950531   \n",
              "2                                 11.912783   \n",
              "3                                 11.999550   \n",
              "4                                 11.953070   \n",
              "\n",
              "   secondary_cleaner.state.floatbank4_b_level  \\\n",
              "0                                 -504.715942   \n",
              "1                                 -501.331529   \n",
              "2                                 -501.133383   \n",
              "3                                 -501.193686   \n",
              "4                                 -501.053894   \n",
              "\n",
              "   secondary_cleaner.state.floatbank5_a_air  \\\n",
              "0                                  9.925633   \n",
              "1                                 10.039245   \n",
              "2                                 10.070913   \n",
              "3                                  9.970366   \n",
              "4                                  9.925709   \n",
              "\n",
              "   secondary_cleaner.state.floatbank5_a_level  \\\n",
              "0                                 -498.310211   \n",
              "1                                 -500.169983   \n",
              "2                                 -500.129135   \n",
              "3                                 -499.201640   \n",
              "4                                 -501.686727   \n",
              "\n",
              "   secondary_cleaner.state.floatbank5_b_air  \\\n",
              "0                                  8.079666   \n",
              "1                                  7.984757   \n",
              "2                                  8.013877   \n",
              "3                                  7.977324   \n",
              "4                                  7.894242   \n",
              "\n",
              "   secondary_cleaner.state.floatbank5_b_level  \\\n",
              "0                                 -500.470978   \n",
              "1                                 -500.582168   \n",
              "2                                 -500.517572   \n",
              "3                                 -500.255908   \n",
              "4                                 -500.356035   \n",
              "\n",
              "   secondary_cleaner.state.floatbank6_a_air  \\\n",
              "0                                 14.151341   \n",
              "1                                 13.998353   \n",
              "2                                 14.028663   \n",
              "3                                 14.005551   \n",
              "4                                 13.996647   \n",
              "\n",
              "   secondary_cleaner.state.floatbank6_a_level  \n",
              "0                                 -605.841980  \n",
              "1                                 -599.787184  \n",
              "2                                 -601.427363  \n",
              "3                                 -599.996129  \n",
              "4                                 -601.496691  "
            ]
          },
          "execution_count": 4,
          "metadata": {},
          "output_type": "execute_result"
        }
      ],
      "source": [
        "data_train.head()"
      ]
    },
    {
      "cell_type": "code",
      "execution_count": null,
      "metadata": {
        "id": "QmEhcV4_SchC"
      },
      "outputs": [],
      "source": [
        "data_test = pd.read_csv('/datasets/gold_recovery_test_new.csv', parse_dates=['date'])"
      ]
    },
    {
      "cell_type": "code",
      "execution_count": null,
      "metadata": {
        "scrolled": false,
        "id": "tzQgTP2ySchC",
        "outputId": "25b667df-2be2-4916-b108-c0fb9673e802"
      },
      "outputs": [
        {
          "data": {
            "text/html": [
              "<div>\n",
              "<style scoped>\n",
              "    .dataframe tbody tr th:only-of-type {\n",
              "        vertical-align: middle;\n",
              "    }\n",
              "\n",
              "    .dataframe tbody tr th {\n",
              "        vertical-align: top;\n",
              "    }\n",
              "\n",
              "    .dataframe thead th {\n",
              "        text-align: right;\n",
              "    }\n",
              "</style>\n",
              "<table border=\"1\" class=\"dataframe\">\n",
              "  <thead>\n",
              "    <tr style=\"text-align: right;\">\n",
              "      <th></th>\n",
              "      <th>date</th>\n",
              "      <th>primary_cleaner.input.sulfate</th>\n",
              "      <th>primary_cleaner.input.depressant</th>\n",
              "      <th>primary_cleaner.input.feed_size</th>\n",
              "      <th>primary_cleaner.input.xanthate</th>\n",
              "      <th>primary_cleaner.state.floatbank8_a_air</th>\n",
              "      <th>primary_cleaner.state.floatbank8_a_level</th>\n",
              "      <th>primary_cleaner.state.floatbank8_b_air</th>\n",
              "      <th>primary_cleaner.state.floatbank8_b_level</th>\n",
              "      <th>primary_cleaner.state.floatbank8_c_air</th>\n",
              "      <th>primary_cleaner.state.floatbank8_c_level</th>\n",
              "      <th>primary_cleaner.state.floatbank8_d_air</th>\n",
              "      <th>primary_cleaner.state.floatbank8_d_level</th>\n",
              "      <th>rougher.input.feed_ag</th>\n",
              "      <th>rougher.input.feed_pb</th>\n",
              "      <th>rougher.input.feed_rate</th>\n",
              "      <th>rougher.input.feed_size</th>\n",
              "      <th>rougher.input.feed_sol</th>\n",
              "      <th>rougher.input.feed_au</th>\n",
              "      <th>rougher.input.floatbank10_sulfate</th>\n",
              "      <th>rougher.input.floatbank10_xanthate</th>\n",
              "      <th>rougher.input.floatbank11_sulfate</th>\n",
              "      <th>rougher.input.floatbank11_xanthate</th>\n",
              "      <th>rougher.state.floatbank10_a_air</th>\n",
              "      <th>rougher.state.floatbank10_a_level</th>\n",
              "      <th>rougher.state.floatbank10_b_air</th>\n",
              "      <th>rougher.state.floatbank10_b_level</th>\n",
              "      <th>rougher.state.floatbank10_c_air</th>\n",
              "      <th>rougher.state.floatbank10_c_level</th>\n",
              "      <th>rougher.state.floatbank10_d_air</th>\n",
              "      <th>rougher.state.floatbank10_d_level</th>\n",
              "      <th>rougher.state.floatbank10_e_air</th>\n",
              "      <th>rougher.state.floatbank10_e_level</th>\n",
              "      <th>rougher.state.floatbank10_f_air</th>\n",
              "      <th>rougher.state.floatbank10_f_level</th>\n",
              "      <th>secondary_cleaner.state.floatbank2_a_air</th>\n",
              "      <th>secondary_cleaner.state.floatbank2_a_level</th>\n",
              "      <th>secondary_cleaner.state.floatbank2_b_air</th>\n",
              "      <th>secondary_cleaner.state.floatbank2_b_level</th>\n",
              "      <th>secondary_cleaner.state.floatbank3_a_air</th>\n",
              "      <th>secondary_cleaner.state.floatbank3_a_level</th>\n",
              "      <th>secondary_cleaner.state.floatbank3_b_air</th>\n",
              "      <th>secondary_cleaner.state.floatbank3_b_level</th>\n",
              "      <th>secondary_cleaner.state.floatbank4_a_air</th>\n",
              "      <th>secondary_cleaner.state.floatbank4_a_level</th>\n",
              "      <th>secondary_cleaner.state.floatbank4_b_air</th>\n",
              "      <th>secondary_cleaner.state.floatbank4_b_level</th>\n",
              "      <th>secondary_cleaner.state.floatbank5_a_air</th>\n",
              "      <th>secondary_cleaner.state.floatbank5_a_level</th>\n",
              "      <th>secondary_cleaner.state.floatbank5_b_air</th>\n",
              "      <th>secondary_cleaner.state.floatbank5_b_level</th>\n",
              "      <th>secondary_cleaner.state.floatbank6_a_air</th>\n",
              "      <th>secondary_cleaner.state.floatbank6_a_level</th>\n",
              "    </tr>\n",
              "  </thead>\n",
              "  <tbody>\n",
              "    <tr>\n",
              "      <th>0</th>\n",
              "      <td>2016-09-01 00:59:59</td>\n",
              "      <td>210.800909</td>\n",
              "      <td>14.993118</td>\n",
              "      <td>8.080000</td>\n",
              "      <td>1.005021</td>\n",
              "      <td>1398.981301</td>\n",
              "      <td>-500.225577</td>\n",
              "      <td>1399.144926</td>\n",
              "      <td>-499.919735</td>\n",
              "      <td>1400.102998</td>\n",
              "      <td>-500.704369</td>\n",
              "      <td>1399.001695</td>\n",
              "      <td>-499.485144</td>\n",
              "      <td>13.128569</td>\n",
              "      <td>5.636710</td>\n",
              "      <td>489.793655</td>\n",
              "      <td>62.710452</td>\n",
              "      <td>42.022440</td>\n",
              "      <td>12.084103</td>\n",
              "      <td>16.922877</td>\n",
              "      <td>6.153479</td>\n",
              "      <td>16.867518</td>\n",
              "      <td>6.150709</td>\n",
              "      <td>1001.849317</td>\n",
              "      <td>-350.301265</td>\n",
              "      <td>1249.738612</td>\n",
              "      <td>-399.107531</td>\n",
              "      <td>1249.750520</td>\n",
              "      <td>-399.396730</td>\n",
              "      <td>1198.287855</td>\n",
              "      <td>-399.488594</td>\n",
              "      <td>999.472250</td>\n",
              "      <td>-399.530962</td>\n",
              "      <td>949.566189</td>\n",
              "      <td>-398.180807</td>\n",
              "      <td>24.938200</td>\n",
              "      <td>-500.490963</td>\n",
              "      <td>14.947607</td>\n",
              "      <td>-500.013837</td>\n",
              "      <td>20.018166</td>\n",
              "      <td>-450.395995</td>\n",
              "      <td>13.987058</td>\n",
              "      <td>-449.831513</td>\n",
              "      <td>12.023554</td>\n",
              "      <td>-497.795834</td>\n",
              "      <td>8.016656</td>\n",
              "      <td>-501.289139</td>\n",
              "      <td>7.946562</td>\n",
              "      <td>-432.317850</td>\n",
              "      <td>4.872511</td>\n",
              "      <td>-500.037437</td>\n",
              "      <td>26.705889</td>\n",
              "      <td>-499.709414</td>\n",
              "    </tr>\n",
              "    <tr>\n",
              "      <th>1</th>\n",
              "      <td>2016-09-01 01:59:59</td>\n",
              "      <td>215.392455</td>\n",
              "      <td>14.987471</td>\n",
              "      <td>8.080000</td>\n",
              "      <td>0.990469</td>\n",
              "      <td>1398.777912</td>\n",
              "      <td>-500.057435</td>\n",
              "      <td>1398.055362</td>\n",
              "      <td>-499.778182</td>\n",
              "      <td>1396.151033</td>\n",
              "      <td>-499.240168</td>\n",
              "      <td>1399.508091</td>\n",
              "      <td>-500.416324</td>\n",
              "      <td>13.036280</td>\n",
              "      <td>5.526065</td>\n",
              "      <td>490.104534</td>\n",
              "      <td>61.961163</td>\n",
              "      <td>41.187903</td>\n",
              "      <td>11.918977</td>\n",
              "      <td>17.002532</td>\n",
              "      <td>5.999043</td>\n",
              "      <td>16.996063</td>\n",
              "      <td>6.002315</td>\n",
              "      <td>998.690785</td>\n",
              "      <td>-350.425704</td>\n",
              "      <td>1248.395457</td>\n",
              "      <td>-399.946025</td>\n",
              "      <td>1249.514451</td>\n",
              "      <td>-399.630810</td>\n",
              "      <td>1200.506459</td>\n",
              "      <td>-399.942434</td>\n",
              "      <td>1000.002114</td>\n",
              "      <td>-399.491528</td>\n",
              "      <td>950.200009</td>\n",
              "      <td>-405.787514</td>\n",
              "      <td>24.923466</td>\n",
              "      <td>-499.813963</td>\n",
              "      <td>14.930873</td>\n",
              "      <td>-500.764452</td>\n",
              "      <td>19.988503</td>\n",
              "      <td>-450.114024</td>\n",
              "      <td>14.092981</td>\n",
              "      <td>-450.059163</td>\n",
              "      <td>12.058140</td>\n",
              "      <td>-498.695773</td>\n",
              "      <td>8.130979</td>\n",
              "      <td>-499.634209</td>\n",
              "      <td>7.958270</td>\n",
              "      <td>-525.839648</td>\n",
              "      <td>4.878850</td>\n",
              "      <td>-500.162375</td>\n",
              "      <td>25.019940</td>\n",
              "      <td>-499.819438</td>\n",
              "    </tr>\n",
              "    <tr>\n",
              "      <th>2</th>\n",
              "      <td>2016-09-01 02:59:59</td>\n",
              "      <td>215.259946</td>\n",
              "      <td>12.884934</td>\n",
              "      <td>7.786667</td>\n",
              "      <td>0.996043</td>\n",
              "      <td>1398.493666</td>\n",
              "      <td>-500.868360</td>\n",
              "      <td>1398.860436</td>\n",
              "      <td>-499.764529</td>\n",
              "      <td>1398.075709</td>\n",
              "      <td>-502.151509</td>\n",
              "      <td>1399.497088</td>\n",
              "      <td>-499.715479</td>\n",
              "      <td>13.138412</td>\n",
              "      <td>5.426561</td>\n",
              "      <td>489.617969</td>\n",
              "      <td>66.903807</td>\n",
              "      <td>42.546294</td>\n",
              "      <td>12.091332</td>\n",
              "      <td>16.992520</td>\n",
              "      <td>5.850632</td>\n",
              "      <td>16.982096</td>\n",
              "      <td>5.853594</td>\n",
              "      <td>998.516720</td>\n",
              "      <td>-349.783538</td>\n",
              "      <td>1247.440748</td>\n",
              "      <td>-400.264330</td>\n",
              "      <td>1248.207204</td>\n",
              "      <td>-401.074405</td>\n",
              "      <td>1199.770026</td>\n",
              "      <td>-400.790582</td>\n",
              "      <td>999.925519</td>\n",
              "      <td>-399.236999</td>\n",
              "      <td>950.320481</td>\n",
              "      <td>-400.864340</td>\n",
              "      <td>24.908732</td>\n",
              "      <td>-500.304035</td>\n",
              "      <td>14.996511</td>\n",
              "      <td>-500.993821</td>\n",
              "      <td>20.039689</td>\n",
              "      <td>-450.263164</td>\n",
              "      <td>14.077881</td>\n",
              "      <td>-449.660997</td>\n",
              "      <td>11.962366</td>\n",
              "      <td>-498.767484</td>\n",
              "      <td>8.096893</td>\n",
              "      <td>-500.827423</td>\n",
              "      <td>8.071056</td>\n",
              "      <td>-500.801673</td>\n",
              "      <td>4.905125</td>\n",
              "      <td>-499.828510</td>\n",
              "      <td>24.994862</td>\n",
              "      <td>-500.622559</td>\n",
              "    </tr>\n",
              "    <tr>\n",
              "      <th>3</th>\n",
              "      <td>2016-09-01 03:59:59</td>\n",
              "      <td>215.336236</td>\n",
              "      <td>12.006805</td>\n",
              "      <td>7.640000</td>\n",
              "      <td>0.863514</td>\n",
              "      <td>1399.618111</td>\n",
              "      <td>-498.863574</td>\n",
              "      <td>1397.440120</td>\n",
              "      <td>-499.211024</td>\n",
              "      <td>1400.129303</td>\n",
              "      <td>-498.355873</td>\n",
              "      <td>1401.065165</td>\n",
              "      <td>-501.038738</td>\n",
              "      <td>12.400507</td>\n",
              "      <td>5.114758</td>\n",
              "      <td>476.618130</td>\n",
              "      <td>59.865919</td>\n",
              "      <td>41.060195</td>\n",
              "      <td>12.181597</td>\n",
              "      <td>16.532144</td>\n",
              "      <td>5.801935</td>\n",
              "      <td>16.515277</td>\n",
              "      <td>5.803657</td>\n",
              "      <td>1000.276604</td>\n",
              "      <td>-350.172597</td>\n",
              "      <td>1251.322675</td>\n",
              "      <td>-398.655289</td>\n",
              "      <td>1250.493702</td>\n",
              "      <td>-399.746728</td>\n",
              "      <td>1199.398691</td>\n",
              "      <td>-397.503052</td>\n",
              "      <td>1001.930679</td>\n",
              "      <td>-400.437573</td>\n",
              "      <td>950.735324</td>\n",
              "      <td>-399.802986</td>\n",
              "      <td>24.893998</td>\n",
              "      <td>-499.382374</td>\n",
              "      <td>14.916674</td>\n",
              "      <td>-499.862299</td>\n",
              "      <td>20.031100</td>\n",
              "      <td>-449.372570</td>\n",
              "      <td>14.013968</td>\n",
              "      <td>-449.526900</td>\n",
              "      <td>12.033091</td>\n",
              "      <td>-498.350935</td>\n",
              "      <td>8.074946</td>\n",
              "      <td>-499.474407</td>\n",
              "      <td>7.897085</td>\n",
              "      <td>-500.868509</td>\n",
              "      <td>4.931400</td>\n",
              "      <td>-499.963623</td>\n",
              "      <td>24.948919</td>\n",
              "      <td>-498.709987</td>\n",
              "    </tr>\n",
              "    <tr>\n",
              "      <th>4</th>\n",
              "      <td>2016-09-01 04:59:59</td>\n",
              "      <td>199.099327</td>\n",
              "      <td>10.682530</td>\n",
              "      <td>7.530000</td>\n",
              "      <td>0.805575</td>\n",
              "      <td>1401.268123</td>\n",
              "      <td>-500.808305</td>\n",
              "      <td>1398.128818</td>\n",
              "      <td>-499.504543</td>\n",
              "      <td>1402.172226</td>\n",
              "      <td>-500.810606</td>\n",
              "      <td>1399.480508</td>\n",
              "      <td>-499.374053</td>\n",
              "      <td>11.327427</td>\n",
              "      <td>4.767383</td>\n",
              "      <td>488.248117</td>\n",
              "      <td>63.315324</td>\n",
              "      <td>41.269161</td>\n",
              "      <td>11.290425</td>\n",
              "      <td>13.607257</td>\n",
              "      <td>5.738081</td>\n",
              "      <td>13.650053</td>\n",
              "      <td>5.739634</td>\n",
              "      <td>996.541302</td>\n",
              "      <td>-350.562517</td>\n",
              "      <td>1304.658848</td>\n",
              "      <td>-399.511519</td>\n",
              "      <td>1306.455515</td>\n",
              "      <td>-399.050685</td>\n",
              "      <td>1248.699349</td>\n",
              "      <td>-400.876894</td>\n",
              "      <td>1058.839106</td>\n",
              "      <td>-398.988239</td>\n",
              "      <td>949.645313</td>\n",
              "      <td>-399.277632</td>\n",
              "      <td>24.886905</td>\n",
              "      <td>-499.357375</td>\n",
              "      <td>14.979233</td>\n",
              "      <td>-500.186804</td>\n",
              "      <td>19.962364</td>\n",
              "      <td>-450.638828</td>\n",
              "      <td>14.009245</td>\n",
              "      <td>-450.022259</td>\n",
              "      <td>12.025367</td>\n",
              "      <td>-500.786497</td>\n",
              "      <td>8.054678</td>\n",
              "      <td>-500.397500</td>\n",
              "      <td>8.107890</td>\n",
              "      <td>-509.526725</td>\n",
              "      <td>4.957674</td>\n",
              "      <td>-500.360026</td>\n",
              "      <td>25.003331</td>\n",
              "      <td>-500.856333</td>\n",
              "    </tr>\n",
              "  </tbody>\n",
              "</table>\n",
              "</div>"
            ],
            "text/plain": [
              "                 date  primary_cleaner.input.sulfate  \\\n",
              "0 2016-09-01 00:59:59                     210.800909   \n",
              "1 2016-09-01 01:59:59                     215.392455   \n",
              "2 2016-09-01 02:59:59                     215.259946   \n",
              "3 2016-09-01 03:59:59                     215.336236   \n",
              "4 2016-09-01 04:59:59                     199.099327   \n",
              "\n",
              "   primary_cleaner.input.depressant  primary_cleaner.input.feed_size  \\\n",
              "0                         14.993118                         8.080000   \n",
              "1                         14.987471                         8.080000   \n",
              "2                         12.884934                         7.786667   \n",
              "3                         12.006805                         7.640000   \n",
              "4                         10.682530                         7.530000   \n",
              "\n",
              "   primary_cleaner.input.xanthate  primary_cleaner.state.floatbank8_a_air  \\\n",
              "0                        1.005021                             1398.981301   \n",
              "1                        0.990469                             1398.777912   \n",
              "2                        0.996043                             1398.493666   \n",
              "3                        0.863514                             1399.618111   \n",
              "4                        0.805575                             1401.268123   \n",
              "\n",
              "   primary_cleaner.state.floatbank8_a_level  \\\n",
              "0                               -500.225577   \n",
              "1                               -500.057435   \n",
              "2                               -500.868360   \n",
              "3                               -498.863574   \n",
              "4                               -500.808305   \n",
              "\n",
              "   primary_cleaner.state.floatbank8_b_air  \\\n",
              "0                             1399.144926   \n",
              "1                             1398.055362   \n",
              "2                             1398.860436   \n",
              "3                             1397.440120   \n",
              "4                             1398.128818   \n",
              "\n",
              "   primary_cleaner.state.floatbank8_b_level  \\\n",
              "0                               -499.919735   \n",
              "1                               -499.778182   \n",
              "2                               -499.764529   \n",
              "3                               -499.211024   \n",
              "4                               -499.504543   \n",
              "\n",
              "   primary_cleaner.state.floatbank8_c_air  \\\n",
              "0                             1400.102998   \n",
              "1                             1396.151033   \n",
              "2                             1398.075709   \n",
              "3                             1400.129303   \n",
              "4                             1402.172226   \n",
              "\n",
              "   primary_cleaner.state.floatbank8_c_level  \\\n",
              "0                               -500.704369   \n",
              "1                               -499.240168   \n",
              "2                               -502.151509   \n",
              "3                               -498.355873   \n",
              "4                               -500.810606   \n",
              "\n",
              "   primary_cleaner.state.floatbank8_d_air  \\\n",
              "0                             1399.001695   \n",
              "1                             1399.508091   \n",
              "2                             1399.497088   \n",
              "3                             1401.065165   \n",
              "4                             1399.480508   \n",
              "\n",
              "   primary_cleaner.state.floatbank8_d_level  rougher.input.feed_ag  \\\n",
              "0                               -499.485144              13.128569   \n",
              "1                               -500.416324              13.036280   \n",
              "2                               -499.715479              13.138412   \n",
              "3                               -501.038738              12.400507   \n",
              "4                               -499.374053              11.327427   \n",
              "\n",
              "   rougher.input.feed_pb  rougher.input.feed_rate  rougher.input.feed_size  \\\n",
              "0               5.636710               489.793655                62.710452   \n",
              "1               5.526065               490.104534                61.961163   \n",
              "2               5.426561               489.617969                66.903807   \n",
              "3               5.114758               476.618130                59.865919   \n",
              "4               4.767383               488.248117                63.315324   \n",
              "\n",
              "   rougher.input.feed_sol  rougher.input.feed_au  \\\n",
              "0               42.022440              12.084103   \n",
              "1               41.187903              11.918977   \n",
              "2               42.546294              12.091332   \n",
              "3               41.060195              12.181597   \n",
              "4               41.269161              11.290425   \n",
              "\n",
              "   rougher.input.floatbank10_sulfate  rougher.input.floatbank10_xanthate  \\\n",
              "0                          16.922877                            6.153479   \n",
              "1                          17.002532                            5.999043   \n",
              "2                          16.992520                            5.850632   \n",
              "3                          16.532144                            5.801935   \n",
              "4                          13.607257                            5.738081   \n",
              "\n",
              "   rougher.input.floatbank11_sulfate  rougher.input.floatbank11_xanthate  \\\n",
              "0                          16.867518                            6.150709   \n",
              "1                          16.996063                            6.002315   \n",
              "2                          16.982096                            5.853594   \n",
              "3                          16.515277                            5.803657   \n",
              "4                          13.650053                            5.739634   \n",
              "\n",
              "   rougher.state.floatbank10_a_air  rougher.state.floatbank10_a_level  \\\n",
              "0                      1001.849317                        -350.301265   \n",
              "1                       998.690785                        -350.425704   \n",
              "2                       998.516720                        -349.783538   \n",
              "3                      1000.276604                        -350.172597   \n",
              "4                       996.541302                        -350.562517   \n",
              "\n",
              "   rougher.state.floatbank10_b_air  rougher.state.floatbank10_b_level  \\\n",
              "0                      1249.738612                        -399.107531   \n",
              "1                      1248.395457                        -399.946025   \n",
              "2                      1247.440748                        -400.264330   \n",
              "3                      1251.322675                        -398.655289   \n",
              "4                      1304.658848                        -399.511519   \n",
              "\n",
              "   rougher.state.floatbank10_c_air  rougher.state.floatbank10_c_level  \\\n",
              "0                      1249.750520                        -399.396730   \n",
              "1                      1249.514451                        -399.630810   \n",
              "2                      1248.207204                        -401.074405   \n",
              "3                      1250.493702                        -399.746728   \n",
              "4                      1306.455515                        -399.050685   \n",
              "\n",
              "   rougher.state.floatbank10_d_air  rougher.state.floatbank10_d_level  \\\n",
              "0                      1198.287855                        -399.488594   \n",
              "1                      1200.506459                        -399.942434   \n",
              "2                      1199.770026                        -400.790582   \n",
              "3                      1199.398691                        -397.503052   \n",
              "4                      1248.699349                        -400.876894   \n",
              "\n",
              "   rougher.state.floatbank10_e_air  rougher.state.floatbank10_e_level  \\\n",
              "0                       999.472250                        -399.530962   \n",
              "1                      1000.002114                        -399.491528   \n",
              "2                       999.925519                        -399.236999   \n",
              "3                      1001.930679                        -400.437573   \n",
              "4                      1058.839106                        -398.988239   \n",
              "\n",
              "   rougher.state.floatbank10_f_air  rougher.state.floatbank10_f_level  \\\n",
              "0                       949.566189                        -398.180807   \n",
              "1                       950.200009                        -405.787514   \n",
              "2                       950.320481                        -400.864340   \n",
              "3                       950.735324                        -399.802986   \n",
              "4                       949.645313                        -399.277632   \n",
              "\n",
              "   secondary_cleaner.state.floatbank2_a_air  \\\n",
              "0                                 24.938200   \n",
              "1                                 24.923466   \n",
              "2                                 24.908732   \n",
              "3                                 24.893998   \n",
              "4                                 24.886905   \n",
              "\n",
              "   secondary_cleaner.state.floatbank2_a_level  \\\n",
              "0                                 -500.490963   \n",
              "1                                 -499.813963   \n",
              "2                                 -500.304035   \n",
              "3                                 -499.382374   \n",
              "4                                 -499.357375   \n",
              "\n",
              "   secondary_cleaner.state.floatbank2_b_air  \\\n",
              "0                                 14.947607   \n",
              "1                                 14.930873   \n",
              "2                                 14.996511   \n",
              "3                                 14.916674   \n",
              "4                                 14.979233   \n",
              "\n",
              "   secondary_cleaner.state.floatbank2_b_level  \\\n",
              "0                                 -500.013837   \n",
              "1                                 -500.764452   \n",
              "2                                 -500.993821   \n",
              "3                                 -499.862299   \n",
              "4                                 -500.186804   \n",
              "\n",
              "   secondary_cleaner.state.floatbank3_a_air  \\\n",
              "0                                 20.018166   \n",
              "1                                 19.988503   \n",
              "2                                 20.039689   \n",
              "3                                 20.031100   \n",
              "4                                 19.962364   \n",
              "\n",
              "   secondary_cleaner.state.floatbank3_a_level  \\\n",
              "0                                 -450.395995   \n",
              "1                                 -450.114024   \n",
              "2                                 -450.263164   \n",
              "3                                 -449.372570   \n",
              "4                                 -450.638828   \n",
              "\n",
              "   secondary_cleaner.state.floatbank3_b_air  \\\n",
              "0                                 13.987058   \n",
              "1                                 14.092981   \n",
              "2                                 14.077881   \n",
              "3                                 14.013968   \n",
              "4                                 14.009245   \n",
              "\n",
              "   secondary_cleaner.state.floatbank3_b_level  \\\n",
              "0                                 -449.831513   \n",
              "1                                 -450.059163   \n",
              "2                                 -449.660997   \n",
              "3                                 -449.526900   \n",
              "4                                 -450.022259   \n",
              "\n",
              "   secondary_cleaner.state.floatbank4_a_air  \\\n",
              "0                                 12.023554   \n",
              "1                                 12.058140   \n",
              "2                                 11.962366   \n",
              "3                                 12.033091   \n",
              "4                                 12.025367   \n",
              "\n",
              "   secondary_cleaner.state.floatbank4_a_level  \\\n",
              "0                                 -497.795834   \n",
              "1                                 -498.695773   \n",
              "2                                 -498.767484   \n",
              "3                                 -498.350935   \n",
              "4                                 -500.786497   \n",
              "\n",
              "   secondary_cleaner.state.floatbank4_b_air  \\\n",
              "0                                  8.016656   \n",
              "1                                  8.130979   \n",
              "2                                  8.096893   \n",
              "3                                  8.074946   \n",
              "4                                  8.054678   \n",
              "\n",
              "   secondary_cleaner.state.floatbank4_b_level  \\\n",
              "0                                 -501.289139   \n",
              "1                                 -499.634209   \n",
              "2                                 -500.827423   \n",
              "3                                 -499.474407   \n",
              "4                                 -500.397500   \n",
              "\n",
              "   secondary_cleaner.state.floatbank5_a_air  \\\n",
              "0                                  7.946562   \n",
              "1                                  7.958270   \n",
              "2                                  8.071056   \n",
              "3                                  7.897085   \n",
              "4                                  8.107890   \n",
              "\n",
              "   secondary_cleaner.state.floatbank5_a_level  \\\n",
              "0                                 -432.317850   \n",
              "1                                 -525.839648   \n",
              "2                                 -500.801673   \n",
              "3                                 -500.868509   \n",
              "4                                 -509.526725   \n",
              "\n",
              "   secondary_cleaner.state.floatbank5_b_air  \\\n",
              "0                                  4.872511   \n",
              "1                                  4.878850   \n",
              "2                                  4.905125   \n",
              "3                                  4.931400   \n",
              "4                                  4.957674   \n",
              "\n",
              "   secondary_cleaner.state.floatbank5_b_level  \\\n",
              "0                                 -500.037437   \n",
              "1                                 -500.162375   \n",
              "2                                 -499.828510   \n",
              "3                                 -499.963623   \n",
              "4                                 -500.360026   \n",
              "\n",
              "   secondary_cleaner.state.floatbank6_a_air  \\\n",
              "0                                 26.705889   \n",
              "1                                 25.019940   \n",
              "2                                 24.994862   \n",
              "3                                 24.948919   \n",
              "4                                 25.003331   \n",
              "\n",
              "   secondary_cleaner.state.floatbank6_a_level  \n",
              "0                                 -499.709414  \n",
              "1                                 -499.819438  \n",
              "2                                 -500.622559  \n",
              "3                                 -498.709987  \n",
              "4                                 -500.856333  "
            ]
          },
          "execution_count": 6,
          "metadata": {},
          "output_type": "execute_result"
        }
      ],
      "source": [
        "data_test.head()"
      ]
    },
    {
      "cell_type": "code",
      "execution_count": null,
      "metadata": {
        "id": "EmNggJbjSchD"
      },
      "outputs": [],
      "source": [
        "data_full = pd.read_csv('/datasets/gold_recovery_full_new.csv', parse_dates=['date'])"
      ]
    },
    {
      "cell_type": "code",
      "execution_count": null,
      "metadata": {
        "scrolled": false,
        "id": "2VES97eVSchD",
        "outputId": "6c3358b7-6151-4f02-e7e2-b6cafca2a649"
      },
      "outputs": [
        {
          "data": {
            "text/html": [
              "<div>\n",
              "<style scoped>\n",
              "    .dataframe tbody tr th:only-of-type {\n",
              "        vertical-align: middle;\n",
              "    }\n",
              "\n",
              "    .dataframe tbody tr th {\n",
              "        vertical-align: top;\n",
              "    }\n",
              "\n",
              "    .dataframe thead th {\n",
              "        text-align: right;\n",
              "    }\n",
              "</style>\n",
              "<table border=\"1\" class=\"dataframe\">\n",
              "  <thead>\n",
              "    <tr style=\"text-align: right;\">\n",
              "      <th></th>\n",
              "      <th>date</th>\n",
              "      <th>final.output.concentrate_ag</th>\n",
              "      <th>final.output.concentrate_pb</th>\n",
              "      <th>final.output.concentrate_sol</th>\n",
              "      <th>final.output.concentrate_au</th>\n",
              "      <th>final.output.recovery</th>\n",
              "      <th>final.output.tail_ag</th>\n",
              "      <th>final.output.tail_pb</th>\n",
              "      <th>final.output.tail_sol</th>\n",
              "      <th>final.output.tail_au</th>\n",
              "      <th>primary_cleaner.input.sulfate</th>\n",
              "      <th>primary_cleaner.input.depressant</th>\n",
              "      <th>primary_cleaner.input.feed_size</th>\n",
              "      <th>primary_cleaner.input.xanthate</th>\n",
              "      <th>primary_cleaner.output.concentrate_ag</th>\n",
              "      <th>primary_cleaner.output.concentrate_pb</th>\n",
              "      <th>primary_cleaner.output.concentrate_sol</th>\n",
              "      <th>primary_cleaner.output.concentrate_au</th>\n",
              "      <th>primary_cleaner.output.tail_ag</th>\n",
              "      <th>primary_cleaner.output.tail_pb</th>\n",
              "      <th>primary_cleaner.output.tail_sol</th>\n",
              "      <th>primary_cleaner.output.tail_au</th>\n",
              "      <th>primary_cleaner.state.floatbank8_a_air</th>\n",
              "      <th>primary_cleaner.state.floatbank8_a_level</th>\n",
              "      <th>primary_cleaner.state.floatbank8_b_air</th>\n",
              "      <th>primary_cleaner.state.floatbank8_b_level</th>\n",
              "      <th>primary_cleaner.state.floatbank8_c_air</th>\n",
              "      <th>primary_cleaner.state.floatbank8_c_level</th>\n",
              "      <th>primary_cleaner.state.floatbank8_d_air</th>\n",
              "      <th>primary_cleaner.state.floatbank8_d_level</th>\n",
              "      <th>rougher.calculation.sulfate_to_au_concentrate</th>\n",
              "      <th>rougher.calculation.floatbank10_sulfate_to_au_feed</th>\n",
              "      <th>rougher.calculation.floatbank11_sulfate_to_au_feed</th>\n",
              "      <th>rougher.calculation.au_pb_ratio</th>\n",
              "      <th>rougher.input.feed_ag</th>\n",
              "      <th>rougher.input.feed_pb</th>\n",
              "      <th>rougher.input.feed_rate</th>\n",
              "      <th>rougher.input.feed_size</th>\n",
              "      <th>rougher.input.feed_sol</th>\n",
              "      <th>rougher.input.feed_au</th>\n",
              "      <th>rougher.input.floatbank10_sulfate</th>\n",
              "      <th>rougher.input.floatbank10_xanthate</th>\n",
              "      <th>rougher.input.floatbank11_sulfate</th>\n",
              "      <th>rougher.input.floatbank11_xanthate</th>\n",
              "      <th>rougher.output.concentrate_ag</th>\n",
              "      <th>rougher.output.concentrate_pb</th>\n",
              "      <th>rougher.output.concentrate_sol</th>\n",
              "      <th>rougher.output.concentrate_au</th>\n",
              "      <th>rougher.output.recovery</th>\n",
              "      <th>rougher.output.tail_ag</th>\n",
              "      <th>rougher.output.tail_pb</th>\n",
              "      <th>rougher.output.tail_sol</th>\n",
              "      <th>rougher.output.tail_au</th>\n",
              "      <th>rougher.state.floatbank10_a_air</th>\n",
              "      <th>rougher.state.floatbank10_a_level</th>\n",
              "      <th>rougher.state.floatbank10_b_air</th>\n",
              "      <th>rougher.state.floatbank10_b_level</th>\n",
              "      <th>rougher.state.floatbank10_c_air</th>\n",
              "      <th>rougher.state.floatbank10_c_level</th>\n",
              "      <th>rougher.state.floatbank10_d_air</th>\n",
              "      <th>rougher.state.floatbank10_d_level</th>\n",
              "      <th>rougher.state.floatbank10_e_air</th>\n",
              "      <th>rougher.state.floatbank10_e_level</th>\n",
              "      <th>rougher.state.floatbank10_f_air</th>\n",
              "      <th>rougher.state.floatbank10_f_level</th>\n",
              "      <th>secondary_cleaner.output.tail_ag</th>\n",
              "      <th>secondary_cleaner.output.tail_pb</th>\n",
              "      <th>secondary_cleaner.output.tail_sol</th>\n",
              "      <th>secondary_cleaner.output.tail_au</th>\n",
              "      <th>secondary_cleaner.state.floatbank2_a_air</th>\n",
              "      <th>secondary_cleaner.state.floatbank2_a_level</th>\n",
              "      <th>secondary_cleaner.state.floatbank2_b_air</th>\n",
              "      <th>secondary_cleaner.state.floatbank2_b_level</th>\n",
              "      <th>secondary_cleaner.state.floatbank3_a_air</th>\n",
              "      <th>secondary_cleaner.state.floatbank3_a_level</th>\n",
              "      <th>secondary_cleaner.state.floatbank3_b_air</th>\n",
              "      <th>secondary_cleaner.state.floatbank3_b_level</th>\n",
              "      <th>secondary_cleaner.state.floatbank4_a_air</th>\n",
              "      <th>secondary_cleaner.state.floatbank4_a_level</th>\n",
              "      <th>secondary_cleaner.state.floatbank4_b_air</th>\n",
              "      <th>secondary_cleaner.state.floatbank4_b_level</th>\n",
              "      <th>secondary_cleaner.state.floatbank5_a_air</th>\n",
              "      <th>secondary_cleaner.state.floatbank5_a_level</th>\n",
              "      <th>secondary_cleaner.state.floatbank5_b_air</th>\n",
              "      <th>secondary_cleaner.state.floatbank5_b_level</th>\n",
              "      <th>secondary_cleaner.state.floatbank6_a_air</th>\n",
              "      <th>secondary_cleaner.state.floatbank6_a_level</th>\n",
              "    </tr>\n",
              "  </thead>\n",
              "  <tbody>\n",
              "    <tr>\n",
              "      <th>0</th>\n",
              "      <td>2016-01-15 00:00:00</td>\n",
              "      <td>6.055403</td>\n",
              "      <td>9.889648</td>\n",
              "      <td>5.507324</td>\n",
              "      <td>42.192020</td>\n",
              "      <td>70.541216</td>\n",
              "      <td>10.411962</td>\n",
              "      <td>0.895447</td>\n",
              "      <td>16.904297</td>\n",
              "      <td>2.143149</td>\n",
              "      <td>127.092003</td>\n",
              "      <td>10.128295</td>\n",
              "      <td>7.25</td>\n",
              "      <td>0.988759</td>\n",
              "      <td>8.547551</td>\n",
              "      <td>10.389648</td>\n",
              "      <td>19.529297</td>\n",
              "      <td>34.174427</td>\n",
              "      <td>14.936526</td>\n",
              "      <td>2.534912</td>\n",
              "      <td>7.476074</td>\n",
              "      <td>2.106679</td>\n",
              "      <td>1549.775757</td>\n",
              "      <td>-498.912140</td>\n",
              "      <td>1551.434204</td>\n",
              "      <td>-516.403442</td>\n",
              "      <td>1549.873901</td>\n",
              "      <td>-498.666595</td>\n",
              "      <td>1554.367432</td>\n",
              "      <td>-493.428131</td>\n",
              "      <td>41885.707031</td>\n",
              "      <td>3481.779053</td>\n",
              "      <td>3520.337158</td>\n",
              "      <td>2.838687</td>\n",
              "      <td>6.100378</td>\n",
              "      <td>2.284912</td>\n",
              "      <td>523.546326</td>\n",
              "      <td>55.486599</td>\n",
              "      <td>36.808594</td>\n",
              "      <td>6.486150</td>\n",
              "      <td>11.986616</td>\n",
              "      <td>6.007990</td>\n",
              "      <td>11.836743</td>\n",
              "      <td>6.005818</td>\n",
              "      <td>11.500771</td>\n",
              "      <td>7.101074</td>\n",
              "      <td>28.029297</td>\n",
              "      <td>19.793808</td>\n",
              "      <td>87.107763</td>\n",
              "      <td>5.008018</td>\n",
              "      <td>0.508728</td>\n",
              "      <td>19.154297</td>\n",
              "      <td>1.170244</td>\n",
              "      <td>999.706909</td>\n",
              "      <td>-404.066986</td>\n",
              "      <td>1603.011353</td>\n",
              "      <td>-434.715027</td>\n",
              "      <td>1602.375000</td>\n",
              "      <td>-442.204468</td>\n",
              "      <td>1598.937256</td>\n",
              "      <td>-451.294128</td>\n",
              "      <td>1404.472046</td>\n",
              "      <td>-455.462982</td>\n",
              "      <td>1416.354980</td>\n",
              "      <td>-451.939636</td>\n",
              "      <td>14.500184</td>\n",
              "      <td>4.694824</td>\n",
              "      <td>8.764648</td>\n",
              "      <td>2.606185</td>\n",
              "      <td>25.853109</td>\n",
              "      <td>-498.526489</td>\n",
              "      <td>23.893660</td>\n",
              "      <td>-501.406281</td>\n",
              "      <td>23.961798</td>\n",
              "      <td>-495.262817</td>\n",
              "      <td>21.940409</td>\n",
              "      <td>-499.340973</td>\n",
              "      <td>14.016835</td>\n",
              "      <td>-502.488007</td>\n",
              "      <td>12.099931</td>\n",
              "      <td>-504.715942</td>\n",
              "      <td>9.925633</td>\n",
              "      <td>-498.310211</td>\n",
              "      <td>8.079666</td>\n",
              "      <td>-500.470978</td>\n",
              "      <td>14.151341</td>\n",
              "      <td>-605.841980</td>\n",
              "    </tr>\n",
              "    <tr>\n",
              "      <th>1</th>\n",
              "      <td>2016-01-15 01:00:00</td>\n",
              "      <td>6.029369</td>\n",
              "      <td>9.968944</td>\n",
              "      <td>5.257781</td>\n",
              "      <td>42.701629</td>\n",
              "      <td>69.266198</td>\n",
              "      <td>10.462676</td>\n",
              "      <td>0.927452</td>\n",
              "      <td>16.634514</td>\n",
              "      <td>2.224930</td>\n",
              "      <td>125.629232</td>\n",
              "      <td>10.296251</td>\n",
              "      <td>7.25</td>\n",
              "      <td>1.002663</td>\n",
              "      <td>8.558743</td>\n",
              "      <td>10.497069</td>\n",
              "      <td>19.369147</td>\n",
              "      <td>34.118526</td>\n",
              "      <td>16.250511</td>\n",
              "      <td>3.049646</td>\n",
              "      <td>6.733907</td>\n",
              "      <td>2.353017</td>\n",
              "      <td>1576.166671</td>\n",
              "      <td>-500.904965</td>\n",
              "      <td>1575.950626</td>\n",
              "      <td>-499.865889</td>\n",
              "      <td>1575.994189</td>\n",
              "      <td>-499.315107</td>\n",
              "      <td>1574.479259</td>\n",
              "      <td>-498.931665</td>\n",
              "      <td>42050.861809</td>\n",
              "      <td>3498.370979</td>\n",
              "      <td>3489.981857</td>\n",
              "      <td>2.858998</td>\n",
              "      <td>6.161113</td>\n",
              "      <td>2.266033</td>\n",
              "      <td>525.290581</td>\n",
              "      <td>57.278666</td>\n",
              "      <td>35.753385</td>\n",
              "      <td>6.478583</td>\n",
              "      <td>11.971193</td>\n",
              "      <td>6.005766</td>\n",
              "      <td>11.996163</td>\n",
              "      <td>6.012594</td>\n",
              "      <td>11.615865</td>\n",
              "      <td>7.278807</td>\n",
              "      <td>28.067063</td>\n",
              "      <td>20.050975</td>\n",
              "      <td>86.843261</td>\n",
              "      <td>4.955378</td>\n",
              "      <td>0.536689</td>\n",
              "      <td>18.965234</td>\n",
              "      <td>1.184827</td>\n",
              "      <td>1000.286398</td>\n",
              "      <td>-400.065196</td>\n",
              "      <td>1600.754587</td>\n",
              "      <td>-449.953435</td>\n",
              "      <td>1600.479580</td>\n",
              "      <td>-449.830646</td>\n",
              "      <td>1600.527589</td>\n",
              "      <td>-449.953649</td>\n",
              "      <td>1399.227084</td>\n",
              "      <td>-450.869848</td>\n",
              "      <td>1399.719514</td>\n",
              "      <td>-450.119001</td>\n",
              "      <td>14.265474</td>\n",
              "      <td>4.592547</td>\n",
              "      <td>9.001494</td>\n",
              "      <td>2.488248</td>\n",
              "      <td>25.880539</td>\n",
              "      <td>-499.989656</td>\n",
              "      <td>23.889530</td>\n",
              "      <td>-500.372428</td>\n",
              "      <td>23.970550</td>\n",
              "      <td>-500.085473</td>\n",
              "      <td>22.085714</td>\n",
              "      <td>-499.446897</td>\n",
              "      <td>13.992281</td>\n",
              "      <td>-505.503262</td>\n",
              "      <td>11.950531</td>\n",
              "      <td>-501.331529</td>\n",
              "      <td>10.039245</td>\n",
              "      <td>-500.169983</td>\n",
              "      <td>7.984757</td>\n",
              "      <td>-500.582168</td>\n",
              "      <td>13.998353</td>\n",
              "      <td>-599.787184</td>\n",
              "    </tr>\n",
              "    <tr>\n",
              "      <th>2</th>\n",
              "      <td>2016-01-15 02:00:00</td>\n",
              "      <td>6.055926</td>\n",
              "      <td>10.213995</td>\n",
              "      <td>5.383759</td>\n",
              "      <td>42.657501</td>\n",
              "      <td>68.116445</td>\n",
              "      <td>10.507046</td>\n",
              "      <td>0.953716</td>\n",
              "      <td>16.208849</td>\n",
              "      <td>2.257889</td>\n",
              "      <td>123.819808</td>\n",
              "      <td>11.316280</td>\n",
              "      <td>7.25</td>\n",
              "      <td>0.991265</td>\n",
              "      <td>8.603505</td>\n",
              "      <td>10.354494</td>\n",
              "      <td>19.167579</td>\n",
              "      <td>33.969464</td>\n",
              "      <td>16.491823</td>\n",
              "      <td>3.124664</td>\n",
              "      <td>6.471768</td>\n",
              "      <td>2.416800</td>\n",
              "      <td>1601.556163</td>\n",
              "      <td>-499.997791</td>\n",
              "      <td>1600.386685</td>\n",
              "      <td>-500.607762</td>\n",
              "      <td>1602.003542</td>\n",
              "      <td>-500.870069</td>\n",
              "      <td>1599.541515</td>\n",
              "      <td>-499.827444</td>\n",
              "      <td>42018.101184</td>\n",
              "      <td>3495.348910</td>\n",
              "      <td>3502.359819</td>\n",
              "      <td>2.945989</td>\n",
              "      <td>6.116455</td>\n",
              "      <td>2.159622</td>\n",
              "      <td>530.026610</td>\n",
              "      <td>57.510649</td>\n",
              "      <td>35.971630</td>\n",
              "      <td>6.362222</td>\n",
              "      <td>11.920603</td>\n",
              "      <td>6.197377</td>\n",
              "      <td>11.920305</td>\n",
              "      <td>6.204633</td>\n",
              "      <td>11.695753</td>\n",
              "      <td>7.216833</td>\n",
              "      <td>27.454037</td>\n",
              "      <td>19.737170</td>\n",
              "      <td>86.842308</td>\n",
              "      <td>4.843460</td>\n",
              "      <td>0.546416</td>\n",
              "      <td>18.808533</td>\n",
              "      <td>1.162562</td>\n",
              "      <td>999.719565</td>\n",
              "      <td>-400.074028</td>\n",
              "      <td>1599.337330</td>\n",
              "      <td>-450.008530</td>\n",
              "      <td>1599.672797</td>\n",
              "      <td>-449.954491</td>\n",
              "      <td>1599.849325</td>\n",
              "      <td>-449.954185</td>\n",
              "      <td>1399.180945</td>\n",
              "      <td>-449.937588</td>\n",
              "      <td>1400.316682</td>\n",
              "      <td>-450.527147</td>\n",
              "      <td>14.115662</td>\n",
              "      <td>4.624775</td>\n",
              "      <td>8.842896</td>\n",
              "      <td>2.458187</td>\n",
              "      <td>26.005245</td>\n",
              "      <td>-499.929616</td>\n",
              "      <td>23.886657</td>\n",
              "      <td>-499.951928</td>\n",
              "      <td>23.913535</td>\n",
              "      <td>-499.442343</td>\n",
              "      <td>23.957717</td>\n",
              "      <td>-499.901982</td>\n",
              "      <td>14.015015</td>\n",
              "      <td>-502.520901</td>\n",
              "      <td>11.912783</td>\n",
              "      <td>-501.133383</td>\n",
              "      <td>10.070913</td>\n",
              "      <td>-500.129135</td>\n",
              "      <td>8.013877</td>\n",
              "      <td>-500.517572</td>\n",
              "      <td>14.028663</td>\n",
              "      <td>-601.427363</td>\n",
              "    </tr>\n",
              "    <tr>\n",
              "      <th>3</th>\n",
              "      <td>2016-01-15 03:00:00</td>\n",
              "      <td>6.047977</td>\n",
              "      <td>9.977019</td>\n",
              "      <td>4.858634</td>\n",
              "      <td>42.689819</td>\n",
              "      <td>68.347543</td>\n",
              "      <td>10.422762</td>\n",
              "      <td>0.883763</td>\n",
              "      <td>16.532835</td>\n",
              "      <td>2.146849</td>\n",
              "      <td>122.270188</td>\n",
              "      <td>11.322140</td>\n",
              "      <td>7.25</td>\n",
              "      <td>0.996739</td>\n",
              "      <td>7.221879</td>\n",
              "      <td>8.496563</td>\n",
              "      <td>15.978538</td>\n",
              "      <td>28.260743</td>\n",
              "      <td>16.024359</td>\n",
              "      <td>2.960362</td>\n",
              "      <td>6.843791</td>\n",
              "      <td>2.262051</td>\n",
              "      <td>1599.968720</td>\n",
              "      <td>-500.951778</td>\n",
              "      <td>1600.659236</td>\n",
              "      <td>-499.677094</td>\n",
              "      <td>1600.304144</td>\n",
              "      <td>-500.727997</td>\n",
              "      <td>1600.449520</td>\n",
              "      <td>-500.052575</td>\n",
              "      <td>42029.447991</td>\n",
              "      <td>3498.578313</td>\n",
              "      <td>3499.162912</td>\n",
              "      <td>3.002340</td>\n",
              "      <td>6.043309</td>\n",
              "      <td>2.037807</td>\n",
              "      <td>542.590390</td>\n",
              "      <td>57.792734</td>\n",
              "      <td>36.862241</td>\n",
              "      <td>6.118189</td>\n",
              "      <td>11.630094</td>\n",
              "      <td>6.203177</td>\n",
              "      <td>11.692450</td>\n",
              "      <td>6.196578</td>\n",
              "      <td>11.915047</td>\n",
              "      <td>7.175616</td>\n",
              "      <td>27.341277</td>\n",
              "      <td>19.320810</td>\n",
              "      <td>87.226430</td>\n",
              "      <td>4.655288</td>\n",
              "      <td>0.542525</td>\n",
              "      <td>19.330200</td>\n",
              "      <td>1.079755</td>\n",
              "      <td>999.814770</td>\n",
              "      <td>-400.200179</td>\n",
              "      <td>1600.059442</td>\n",
              "      <td>-450.619948</td>\n",
              "      <td>1600.012842</td>\n",
              "      <td>-449.910497</td>\n",
              "      <td>1597.725177</td>\n",
              "      <td>-450.130127</td>\n",
              "      <td>1400.943157</td>\n",
              "      <td>-450.030142</td>\n",
              "      <td>1400.234743</td>\n",
              "      <td>-449.790835</td>\n",
              "      <td>13.732071</td>\n",
              "      <td>4.482453</td>\n",
              "      <td>9.122857</td>\n",
              "      <td>2.322062</td>\n",
              "      <td>25.942508</td>\n",
              "      <td>-499.176749</td>\n",
              "      <td>23.955516</td>\n",
              "      <td>-499.848796</td>\n",
              "      <td>23.966838</td>\n",
              "      <td>-500.008812</td>\n",
              "      <td>23.954443</td>\n",
              "      <td>-499.944710</td>\n",
              "      <td>14.036510</td>\n",
              "      <td>-500.857308</td>\n",
              "      <td>11.999550</td>\n",
              "      <td>-501.193686</td>\n",
              "      <td>9.970366</td>\n",
              "      <td>-499.201640</td>\n",
              "      <td>7.977324</td>\n",
              "      <td>-500.255908</td>\n",
              "      <td>14.005551</td>\n",
              "      <td>-599.996129</td>\n",
              "    </tr>\n",
              "    <tr>\n",
              "      <th>4</th>\n",
              "      <td>2016-01-15 04:00:00</td>\n",
              "      <td>6.148599</td>\n",
              "      <td>10.142511</td>\n",
              "      <td>4.939416</td>\n",
              "      <td>42.774141</td>\n",
              "      <td>66.927016</td>\n",
              "      <td>10.360302</td>\n",
              "      <td>0.792826</td>\n",
              "      <td>16.525686</td>\n",
              "      <td>2.055292</td>\n",
              "      <td>117.988169</td>\n",
              "      <td>11.913613</td>\n",
              "      <td>7.25</td>\n",
              "      <td>1.009869</td>\n",
              "      <td>9.089428</td>\n",
              "      <td>9.986786</td>\n",
              "      <td>19.199864</td>\n",
              "      <td>33.044932</td>\n",
              "      <td>16.480185</td>\n",
              "      <td>3.112100</td>\n",
              "      <td>6.550154</td>\n",
              "      <td>2.277073</td>\n",
              "      <td>1601.339707</td>\n",
              "      <td>-498.975456</td>\n",
              "      <td>1601.437854</td>\n",
              "      <td>-500.323246</td>\n",
              "      <td>1599.581894</td>\n",
              "      <td>-500.888152</td>\n",
              "      <td>1602.649541</td>\n",
              "      <td>-500.593010</td>\n",
              "      <td>42125.354245</td>\n",
              "      <td>3494.800771</td>\n",
              "      <td>3506.679315</td>\n",
              "      <td>3.169615</td>\n",
              "      <td>6.060915</td>\n",
              "      <td>1.786875</td>\n",
              "      <td>540.531893</td>\n",
              "      <td>56.047189</td>\n",
              "      <td>34.347666</td>\n",
              "      <td>5.663707</td>\n",
              "      <td>10.957755</td>\n",
              "      <td>6.198826</td>\n",
              "      <td>10.960521</td>\n",
              "      <td>6.194897</td>\n",
              "      <td>12.411054</td>\n",
              "      <td>7.240205</td>\n",
              "      <td>27.041023</td>\n",
              "      <td>19.216101</td>\n",
              "      <td>86.688794</td>\n",
              "      <td>4.552800</td>\n",
              "      <td>0.515438</td>\n",
              "      <td>19.267422</td>\n",
              "      <td>1.012642</td>\n",
              "      <td>999.678690</td>\n",
              "      <td>-399.752729</td>\n",
              "      <td>1600.208824</td>\n",
              "      <td>-449.599614</td>\n",
              "      <td>1600.357732</td>\n",
              "      <td>-450.034364</td>\n",
              "      <td>1599.759049</td>\n",
              "      <td>-449.909799</td>\n",
              "      <td>1401.560902</td>\n",
              "      <td>-448.877187</td>\n",
              "      <td>1401.160227</td>\n",
              "      <td>-450.407128</td>\n",
              "      <td>14.079996</td>\n",
              "      <td>4.470737</td>\n",
              "      <td>8.871028</td>\n",
              "      <td>2.330448</td>\n",
              "      <td>26.024787</td>\n",
              "      <td>-500.279091</td>\n",
              "      <td>23.955345</td>\n",
              "      <td>-500.593614</td>\n",
              "      <td>23.985703</td>\n",
              "      <td>-500.083811</td>\n",
              "      <td>23.958945</td>\n",
              "      <td>-499.990309</td>\n",
              "      <td>14.027298</td>\n",
              "      <td>-499.838632</td>\n",
              "      <td>11.953070</td>\n",
              "      <td>-501.053894</td>\n",
              "      <td>9.925709</td>\n",
              "      <td>-501.686727</td>\n",
              "      <td>7.894242</td>\n",
              "      <td>-500.356035</td>\n",
              "      <td>13.996647</td>\n",
              "      <td>-601.496691</td>\n",
              "    </tr>\n",
              "  </tbody>\n",
              "</table>\n",
              "</div>"
            ],
            "text/plain": [
              "                 date  final.output.concentrate_ag  \\\n",
              "0 2016-01-15 00:00:00                     6.055403   \n",
              "1 2016-01-15 01:00:00                     6.029369   \n",
              "2 2016-01-15 02:00:00                     6.055926   \n",
              "3 2016-01-15 03:00:00                     6.047977   \n",
              "4 2016-01-15 04:00:00                     6.148599   \n",
              "\n",
              "   final.output.concentrate_pb  final.output.concentrate_sol  \\\n",
              "0                     9.889648                      5.507324   \n",
              "1                     9.968944                      5.257781   \n",
              "2                    10.213995                      5.383759   \n",
              "3                     9.977019                      4.858634   \n",
              "4                    10.142511                      4.939416   \n",
              "\n",
              "   final.output.concentrate_au  final.output.recovery  final.output.tail_ag  \\\n",
              "0                    42.192020              70.541216             10.411962   \n",
              "1                    42.701629              69.266198             10.462676   \n",
              "2                    42.657501              68.116445             10.507046   \n",
              "3                    42.689819              68.347543             10.422762   \n",
              "4                    42.774141              66.927016             10.360302   \n",
              "\n",
              "   final.output.tail_pb  final.output.tail_sol  final.output.tail_au  \\\n",
              "0              0.895447              16.904297              2.143149   \n",
              "1              0.927452              16.634514              2.224930   \n",
              "2              0.953716              16.208849              2.257889   \n",
              "3              0.883763              16.532835              2.146849   \n",
              "4              0.792826              16.525686              2.055292   \n",
              "\n",
              "   primary_cleaner.input.sulfate  primary_cleaner.input.depressant  \\\n",
              "0                     127.092003                         10.128295   \n",
              "1                     125.629232                         10.296251   \n",
              "2                     123.819808                         11.316280   \n",
              "3                     122.270188                         11.322140   \n",
              "4                     117.988169                         11.913613   \n",
              "\n",
              "   primary_cleaner.input.feed_size  primary_cleaner.input.xanthate  \\\n",
              "0                             7.25                        0.988759   \n",
              "1                             7.25                        1.002663   \n",
              "2                             7.25                        0.991265   \n",
              "3                             7.25                        0.996739   \n",
              "4                             7.25                        1.009869   \n",
              "\n",
              "   primary_cleaner.output.concentrate_ag  \\\n",
              "0                               8.547551   \n",
              "1                               8.558743   \n",
              "2                               8.603505   \n",
              "3                               7.221879   \n",
              "4                               9.089428   \n",
              "\n",
              "   primary_cleaner.output.concentrate_pb  \\\n",
              "0                              10.389648   \n",
              "1                              10.497069   \n",
              "2                              10.354494   \n",
              "3                               8.496563   \n",
              "4                               9.986786   \n",
              "\n",
              "   primary_cleaner.output.concentrate_sol  \\\n",
              "0                               19.529297   \n",
              "1                               19.369147   \n",
              "2                               19.167579   \n",
              "3                               15.978538   \n",
              "4                               19.199864   \n",
              "\n",
              "   primary_cleaner.output.concentrate_au  primary_cleaner.output.tail_ag  \\\n",
              "0                              34.174427                       14.936526   \n",
              "1                              34.118526                       16.250511   \n",
              "2                              33.969464                       16.491823   \n",
              "3                              28.260743                       16.024359   \n",
              "4                              33.044932                       16.480185   \n",
              "\n",
              "   primary_cleaner.output.tail_pb  primary_cleaner.output.tail_sol  \\\n",
              "0                        2.534912                         7.476074   \n",
              "1                        3.049646                         6.733907   \n",
              "2                        3.124664                         6.471768   \n",
              "3                        2.960362                         6.843791   \n",
              "4                        3.112100                         6.550154   \n",
              "\n",
              "   primary_cleaner.output.tail_au  primary_cleaner.state.floatbank8_a_air  \\\n",
              "0                        2.106679                             1549.775757   \n",
              "1                        2.353017                             1576.166671   \n",
              "2                        2.416800                             1601.556163   \n",
              "3                        2.262051                             1599.968720   \n",
              "4                        2.277073                             1601.339707   \n",
              "\n",
              "   primary_cleaner.state.floatbank8_a_level  \\\n",
              "0                               -498.912140   \n",
              "1                               -500.904965   \n",
              "2                               -499.997791   \n",
              "3                               -500.951778   \n",
              "4                               -498.975456   \n",
              "\n",
              "   primary_cleaner.state.floatbank8_b_air  \\\n",
              "0                             1551.434204   \n",
              "1                             1575.950626   \n",
              "2                             1600.386685   \n",
              "3                             1600.659236   \n",
              "4                             1601.437854   \n",
              "\n",
              "   primary_cleaner.state.floatbank8_b_level  \\\n",
              "0                               -516.403442   \n",
              "1                               -499.865889   \n",
              "2                               -500.607762   \n",
              "3                               -499.677094   \n",
              "4                               -500.323246   \n",
              "\n",
              "   primary_cleaner.state.floatbank8_c_air  \\\n",
              "0                             1549.873901   \n",
              "1                             1575.994189   \n",
              "2                             1602.003542   \n",
              "3                             1600.304144   \n",
              "4                             1599.581894   \n",
              "\n",
              "   primary_cleaner.state.floatbank8_c_level  \\\n",
              "0                               -498.666595   \n",
              "1                               -499.315107   \n",
              "2                               -500.870069   \n",
              "3                               -500.727997   \n",
              "4                               -500.888152   \n",
              "\n",
              "   primary_cleaner.state.floatbank8_d_air  \\\n",
              "0                             1554.367432   \n",
              "1                             1574.479259   \n",
              "2                             1599.541515   \n",
              "3                             1600.449520   \n",
              "4                             1602.649541   \n",
              "\n",
              "   primary_cleaner.state.floatbank8_d_level  \\\n",
              "0                               -493.428131   \n",
              "1                               -498.931665   \n",
              "2                               -499.827444   \n",
              "3                               -500.052575   \n",
              "4                               -500.593010   \n",
              "\n",
              "   rougher.calculation.sulfate_to_au_concentrate  \\\n",
              "0                                   41885.707031   \n",
              "1                                   42050.861809   \n",
              "2                                   42018.101184   \n",
              "3                                   42029.447991   \n",
              "4                                   42125.354245   \n",
              "\n",
              "   rougher.calculation.floatbank10_sulfate_to_au_feed  \\\n",
              "0                                        3481.779053    \n",
              "1                                        3498.370979    \n",
              "2                                        3495.348910    \n",
              "3                                        3498.578313    \n",
              "4                                        3494.800771    \n",
              "\n",
              "   rougher.calculation.floatbank11_sulfate_to_au_feed  \\\n",
              "0                                        3520.337158    \n",
              "1                                        3489.981857    \n",
              "2                                        3502.359819    \n",
              "3                                        3499.162912    \n",
              "4                                        3506.679315    \n",
              "\n",
              "   rougher.calculation.au_pb_ratio  rougher.input.feed_ag  \\\n",
              "0                         2.838687               6.100378   \n",
              "1                         2.858998               6.161113   \n",
              "2                         2.945989               6.116455   \n",
              "3                         3.002340               6.043309   \n",
              "4                         3.169615               6.060915   \n",
              "\n",
              "   rougher.input.feed_pb  rougher.input.feed_rate  rougher.input.feed_size  \\\n",
              "0               2.284912               523.546326                55.486599   \n",
              "1               2.266033               525.290581                57.278666   \n",
              "2               2.159622               530.026610                57.510649   \n",
              "3               2.037807               542.590390                57.792734   \n",
              "4               1.786875               540.531893                56.047189   \n",
              "\n",
              "   rougher.input.feed_sol  rougher.input.feed_au  \\\n",
              "0               36.808594               6.486150   \n",
              "1               35.753385               6.478583   \n",
              "2               35.971630               6.362222   \n",
              "3               36.862241               6.118189   \n",
              "4               34.347666               5.663707   \n",
              "\n",
              "   rougher.input.floatbank10_sulfate  rougher.input.floatbank10_xanthate  \\\n",
              "0                          11.986616                            6.007990   \n",
              "1                          11.971193                            6.005766   \n",
              "2                          11.920603                            6.197377   \n",
              "3                          11.630094                            6.203177   \n",
              "4                          10.957755                            6.198826   \n",
              "\n",
              "   rougher.input.floatbank11_sulfate  rougher.input.floatbank11_xanthate  \\\n",
              "0                          11.836743                            6.005818   \n",
              "1                          11.996163                            6.012594   \n",
              "2                          11.920305                            6.204633   \n",
              "3                          11.692450                            6.196578   \n",
              "4                          10.960521                            6.194897   \n",
              "\n",
              "   rougher.output.concentrate_ag  rougher.output.concentrate_pb  \\\n",
              "0                      11.500771                       7.101074   \n",
              "1                      11.615865                       7.278807   \n",
              "2                      11.695753                       7.216833   \n",
              "3                      11.915047                       7.175616   \n",
              "4                      12.411054                       7.240205   \n",
              "\n",
              "   rougher.output.concentrate_sol  rougher.output.concentrate_au  \\\n",
              "0                       28.029297                      19.793808   \n",
              "1                       28.067063                      20.050975   \n",
              "2                       27.454037                      19.737170   \n",
              "3                       27.341277                      19.320810   \n",
              "4                       27.041023                      19.216101   \n",
              "\n",
              "   rougher.output.recovery  rougher.output.tail_ag  rougher.output.tail_pb  \\\n",
              "0                87.107763                5.008018                0.508728   \n",
              "1                86.843261                4.955378                0.536689   \n",
              "2                86.842308                4.843460                0.546416   \n",
              "3                87.226430                4.655288                0.542525   \n",
              "4                86.688794                4.552800                0.515438   \n",
              "\n",
              "   rougher.output.tail_sol  rougher.output.tail_au  \\\n",
              "0                19.154297                1.170244   \n",
              "1                18.965234                1.184827   \n",
              "2                18.808533                1.162562   \n",
              "3                19.330200                1.079755   \n",
              "4                19.267422                1.012642   \n",
              "\n",
              "   rougher.state.floatbank10_a_air  rougher.state.floatbank10_a_level  \\\n",
              "0                       999.706909                        -404.066986   \n",
              "1                      1000.286398                        -400.065196   \n",
              "2                       999.719565                        -400.074028   \n",
              "3                       999.814770                        -400.200179   \n",
              "4                       999.678690                        -399.752729   \n",
              "\n",
              "   rougher.state.floatbank10_b_air  rougher.state.floatbank10_b_level  \\\n",
              "0                      1603.011353                        -434.715027   \n",
              "1                      1600.754587                        -449.953435   \n",
              "2                      1599.337330                        -450.008530   \n",
              "3                      1600.059442                        -450.619948   \n",
              "4                      1600.208824                        -449.599614   \n",
              "\n",
              "   rougher.state.floatbank10_c_air  rougher.state.floatbank10_c_level  \\\n",
              "0                      1602.375000                        -442.204468   \n",
              "1                      1600.479580                        -449.830646   \n",
              "2                      1599.672797                        -449.954491   \n",
              "3                      1600.012842                        -449.910497   \n",
              "4                      1600.357732                        -450.034364   \n",
              "\n",
              "   rougher.state.floatbank10_d_air  rougher.state.floatbank10_d_level  \\\n",
              "0                      1598.937256                        -451.294128   \n",
              "1                      1600.527589                        -449.953649   \n",
              "2                      1599.849325                        -449.954185   \n",
              "3                      1597.725177                        -450.130127   \n",
              "4                      1599.759049                        -449.909799   \n",
              "\n",
              "   rougher.state.floatbank10_e_air  rougher.state.floatbank10_e_level  \\\n",
              "0                      1404.472046                        -455.462982   \n",
              "1                      1399.227084                        -450.869848   \n",
              "2                      1399.180945                        -449.937588   \n",
              "3                      1400.943157                        -450.030142   \n",
              "4                      1401.560902                        -448.877187   \n",
              "\n",
              "   rougher.state.floatbank10_f_air  rougher.state.floatbank10_f_level  \\\n",
              "0                      1416.354980                        -451.939636   \n",
              "1                      1399.719514                        -450.119001   \n",
              "2                      1400.316682                        -450.527147   \n",
              "3                      1400.234743                        -449.790835   \n",
              "4                      1401.160227                        -450.407128   \n",
              "\n",
              "   secondary_cleaner.output.tail_ag  secondary_cleaner.output.tail_pb  \\\n",
              "0                         14.500184                          4.694824   \n",
              "1                         14.265474                          4.592547   \n",
              "2                         14.115662                          4.624775   \n",
              "3                         13.732071                          4.482453   \n",
              "4                         14.079996                          4.470737   \n",
              "\n",
              "   secondary_cleaner.output.tail_sol  secondary_cleaner.output.tail_au  \\\n",
              "0                           8.764648                          2.606185   \n",
              "1                           9.001494                          2.488248   \n",
              "2                           8.842896                          2.458187   \n",
              "3                           9.122857                          2.322062   \n",
              "4                           8.871028                          2.330448   \n",
              "\n",
              "   secondary_cleaner.state.floatbank2_a_air  \\\n",
              "0                                 25.853109   \n",
              "1                                 25.880539   \n",
              "2                                 26.005245   \n",
              "3                                 25.942508   \n",
              "4                                 26.024787   \n",
              "\n",
              "   secondary_cleaner.state.floatbank2_a_level  \\\n",
              "0                                 -498.526489   \n",
              "1                                 -499.989656   \n",
              "2                                 -499.929616   \n",
              "3                                 -499.176749   \n",
              "4                                 -500.279091   \n",
              "\n",
              "   secondary_cleaner.state.floatbank2_b_air  \\\n",
              "0                                 23.893660   \n",
              "1                                 23.889530   \n",
              "2                                 23.886657   \n",
              "3                                 23.955516   \n",
              "4                                 23.955345   \n",
              "\n",
              "   secondary_cleaner.state.floatbank2_b_level  \\\n",
              "0                                 -501.406281   \n",
              "1                                 -500.372428   \n",
              "2                                 -499.951928   \n",
              "3                                 -499.848796   \n",
              "4                                 -500.593614   \n",
              "\n",
              "   secondary_cleaner.state.floatbank3_a_air  \\\n",
              "0                                 23.961798   \n",
              "1                                 23.970550   \n",
              "2                                 23.913535   \n",
              "3                                 23.966838   \n",
              "4                                 23.985703   \n",
              "\n",
              "   secondary_cleaner.state.floatbank3_a_level  \\\n",
              "0                                 -495.262817   \n",
              "1                                 -500.085473   \n",
              "2                                 -499.442343   \n",
              "3                                 -500.008812   \n",
              "4                                 -500.083811   \n",
              "\n",
              "   secondary_cleaner.state.floatbank3_b_air  \\\n",
              "0                                 21.940409   \n",
              "1                                 22.085714   \n",
              "2                                 23.957717   \n",
              "3                                 23.954443   \n",
              "4                                 23.958945   \n",
              "\n",
              "   secondary_cleaner.state.floatbank3_b_level  \\\n",
              "0                                 -499.340973   \n",
              "1                                 -499.446897   \n",
              "2                                 -499.901982   \n",
              "3                                 -499.944710   \n",
              "4                                 -499.990309   \n",
              "\n",
              "   secondary_cleaner.state.floatbank4_a_air  \\\n",
              "0                                 14.016835   \n",
              "1                                 13.992281   \n",
              "2                                 14.015015   \n",
              "3                                 14.036510   \n",
              "4                                 14.027298   \n",
              "\n",
              "   secondary_cleaner.state.floatbank4_a_level  \\\n",
              "0                                 -502.488007   \n",
              "1                                 -505.503262   \n",
              "2                                 -502.520901   \n",
              "3                                 -500.857308   \n",
              "4                                 -499.838632   \n",
              "\n",
              "   secondary_cleaner.state.floatbank4_b_air  \\\n",
              "0                                 12.099931   \n",
              "1                                 11.950531   \n",
              "2                                 11.912783   \n",
              "3                                 11.999550   \n",
              "4                                 11.953070   \n",
              "\n",
              "   secondary_cleaner.state.floatbank4_b_level  \\\n",
              "0                                 -504.715942   \n",
              "1                                 -501.331529   \n",
              "2                                 -501.133383   \n",
              "3                                 -501.193686   \n",
              "4                                 -501.053894   \n",
              "\n",
              "   secondary_cleaner.state.floatbank5_a_air  \\\n",
              "0                                  9.925633   \n",
              "1                                 10.039245   \n",
              "2                                 10.070913   \n",
              "3                                  9.970366   \n",
              "4                                  9.925709   \n",
              "\n",
              "   secondary_cleaner.state.floatbank5_a_level  \\\n",
              "0                                 -498.310211   \n",
              "1                                 -500.169983   \n",
              "2                                 -500.129135   \n",
              "3                                 -499.201640   \n",
              "4                                 -501.686727   \n",
              "\n",
              "   secondary_cleaner.state.floatbank5_b_air  \\\n",
              "0                                  8.079666   \n",
              "1                                  7.984757   \n",
              "2                                  8.013877   \n",
              "3                                  7.977324   \n",
              "4                                  7.894242   \n",
              "\n",
              "   secondary_cleaner.state.floatbank5_b_level  \\\n",
              "0                                 -500.470978   \n",
              "1                                 -500.582168   \n",
              "2                                 -500.517572   \n",
              "3                                 -500.255908   \n",
              "4                                 -500.356035   \n",
              "\n",
              "   secondary_cleaner.state.floatbank6_a_air  \\\n",
              "0                                 14.151341   \n",
              "1                                 13.998353   \n",
              "2                                 14.028663   \n",
              "3                                 14.005551   \n",
              "4                                 13.996647   \n",
              "\n",
              "   secondary_cleaner.state.floatbank6_a_level  \n",
              "0                                 -605.841980  \n",
              "1                                 -599.787184  \n",
              "2                                 -601.427363  \n",
              "3                                 -599.996129  \n",
              "4                                 -601.496691  "
            ]
          },
          "execution_count": 8,
          "metadata": {},
          "output_type": "execute_result"
        }
      ],
      "source": [
        "data_full.head()"
      ]
    },
    {
      "cell_type": "markdown",
      "metadata": {
        "id": "lSBwA1HcSchD"
      },
      "source": [
        "Вывод:\n",
        "\n",
        "Загрузили без ощибок 3 датасета (обучающий, тестовый и полный). Полный датасет содержит обучающую и тестовую выборки со всеми признаками. Параллельно с загрузкой выполнили преобразование дат"
      ]
    },
    {
      "cell_type": "markdown",
      "metadata": {
        "id": "75hP15xqSchD"
      },
      "source": [
        "### Расчет эффективности обогащения на стадии флотации:"
      ]
    },
    {
      "cell_type": "markdown",
      "metadata": {
        "id": "R1Yq-LKDSchE"
      },
      "source": [
        "Вычислите её на обучающей выборке для признака rougher.output.recovery (эффективность обогащения чернового концентрата )"
      ]
    },
    {
      "cell_type": "code",
      "execution_count": null,
      "metadata": {
        "id": "FEBH46PbSchE"
      },
      "outputs": [],
      "source": [
        "C = data_train['rougher.output.concentrate_au']\n",
        "F = data_train['rougher.input.feed_au']\n",
        "T = data_train['rougher.output.tail_au']\n",
        "recovery =  100*C*(F-T)/(F*(C-T))"
      ]
    },
    {
      "cell_type": "markdown",
      "metadata": {
        "id": "B5lyXtMBSchE"
      },
      "source": [
        "Найдите MAE между вашими расчётами и значением признака."
      ]
    },
    {
      "cell_type": "code",
      "execution_count": null,
      "metadata": {
        "scrolled": true,
        "id": "kazhQRLUSchE",
        "outputId": "a3c11593-6725-4f9b-d29b-d2c1de6ea336"
      },
      "outputs": [
        {
          "name": "stdout",
          "output_type": "stream",
          "text": [
            "MAE = 1.1498046842860452e-14\n"
          ]
        }
      ],
      "source": [
        "mae = mean_absolute_error(recovery, data_train['rougher.output.recovery'])\n",
        "print(f'MAE = {mae}')"
      ]
    },
    {
      "cell_type": "markdown",
      "metadata": {
        "id": "E-Q4ULqwSchE"
      },
      "source": [
        "Вывод -  средняя абсолютная погрешность практически равна нулю, следовательно эффективность обогащения рассчитана верно."
      ]
    },
    {
      "cell_type": "markdown",
      "metadata": {
        "id": "EyKEM0YhSchE"
      },
      "source": [
        "### Анализ признаков, недоступных в тестовой выборке"
      ]
    },
    {
      "cell_type": "markdown",
      "metadata": {
        "id": "dpMFvWDfSchE"
      },
      "source": [
        "Проанализируйте признаки, недоступные в тестовой выборке. Что это за параметры? К какому типу относятся?"
      ]
    },
    {
      "cell_type": "code",
      "execution_count": null,
      "metadata": {
        "id": "8UCQpoZ8SchE"
      },
      "outputs": [],
      "source": [
        "columns_not_in_test = []\n",
        "for s in data_full.columns:\n",
        "    if s not in data_test.columns:\n",
        "        columns_not_in_test.append(s)"
      ]
    },
    {
      "cell_type": "code",
      "execution_count": null,
      "metadata": {
        "scrolled": true,
        "id": "vbwwEQoESchE",
        "outputId": "995ac53f-b44c-438c-a392-5e0f40031c55"
      },
      "outputs": [
        {
          "data": {
            "text/plain": [
              "['final.output.concentrate_ag',\n",
              " 'final.output.concentrate_pb',\n",
              " 'final.output.concentrate_sol',\n",
              " 'final.output.concentrate_au',\n",
              " 'final.output.recovery',\n",
              " 'final.output.tail_ag',\n",
              " 'final.output.tail_pb',\n",
              " 'final.output.tail_sol',\n",
              " 'final.output.tail_au',\n",
              " 'primary_cleaner.output.concentrate_ag',\n",
              " 'primary_cleaner.output.concentrate_pb',\n",
              " 'primary_cleaner.output.concentrate_sol',\n",
              " 'primary_cleaner.output.concentrate_au',\n",
              " 'primary_cleaner.output.tail_ag',\n",
              " 'primary_cleaner.output.tail_pb',\n",
              " 'primary_cleaner.output.tail_sol',\n",
              " 'primary_cleaner.output.tail_au',\n",
              " 'rougher.calculation.sulfate_to_au_concentrate',\n",
              " 'rougher.calculation.floatbank10_sulfate_to_au_feed',\n",
              " 'rougher.calculation.floatbank11_sulfate_to_au_feed',\n",
              " 'rougher.calculation.au_pb_ratio',\n",
              " 'rougher.output.concentrate_ag',\n",
              " 'rougher.output.concentrate_pb',\n",
              " 'rougher.output.concentrate_sol',\n",
              " 'rougher.output.concentrate_au',\n",
              " 'rougher.output.recovery',\n",
              " 'rougher.output.tail_ag',\n",
              " 'rougher.output.tail_pb',\n",
              " 'rougher.output.tail_sol',\n",
              " 'rougher.output.tail_au',\n",
              " 'secondary_cleaner.output.tail_ag',\n",
              " 'secondary_cleaner.output.tail_pb',\n",
              " 'secondary_cleaner.output.tail_sol',\n",
              " 'secondary_cleaner.output.tail_au']"
            ]
          },
          "execution_count": 12,
          "metadata": {},
          "output_type": "execute_result"
        }
      ],
      "source": [
        "columns_not_in_test"
      ]
    },
    {
      "cell_type": "code",
      "execution_count": null,
      "metadata": {
        "scrolled": true,
        "id": "-2RwznUCSchF",
        "outputId": "a3e1b126-f384-4155-95f0-c9c917816c4b"
      },
      "outputs": [
        {
          "name": "stdout",
          "output_type": "stream",
          "text": [
            "<class 'pandas.core.frame.DataFrame'>\n",
            "RangeIndex: 19439 entries, 0 to 19438\n",
            "Data columns (total 34 columns):\n",
            " #   Column                                              Non-Null Count  Dtype  \n",
            "---  ------                                              --------------  -----  \n",
            " 0   final.output.concentrate_ag                         19438 non-null  float64\n",
            " 1   final.output.concentrate_pb                         19438 non-null  float64\n",
            " 2   final.output.concentrate_sol                        19228 non-null  float64\n",
            " 3   final.output.concentrate_au                         19439 non-null  float64\n",
            " 4   final.output.recovery                               19439 non-null  float64\n",
            " 5   final.output.tail_ag                                19438 non-null  float64\n",
            " 6   final.output.tail_pb                                19338 non-null  float64\n",
            " 7   final.output.tail_sol                               19433 non-null  float64\n",
            " 8   final.output.tail_au                                19439 non-null  float64\n",
            " 9   primary_cleaner.output.concentrate_ag               19439 non-null  float64\n",
            " 10  primary_cleaner.output.concentrate_pb               19323 non-null  float64\n",
            " 11  primary_cleaner.output.concentrate_sol              19069 non-null  float64\n",
            " 12  primary_cleaner.output.concentrate_au               19439 non-null  float64\n",
            " 13  primary_cleaner.output.tail_ag                      19435 non-null  float64\n",
            " 14  primary_cleaner.output.tail_pb                      19418 non-null  float64\n",
            " 15  primary_cleaner.output.tail_sol                     19377 non-null  float64\n",
            " 16  primary_cleaner.output.tail_au                      19439 non-null  float64\n",
            " 17  rougher.calculation.sulfate_to_au_concentrate       19437 non-null  float64\n",
            " 18  rougher.calculation.floatbank10_sulfate_to_au_feed  19437 non-null  float64\n",
            " 19  rougher.calculation.floatbank11_sulfate_to_au_feed  19437 non-null  float64\n",
            " 20  rougher.calculation.au_pb_ratio                     19439 non-null  float64\n",
            " 21  rougher.output.concentrate_ag                       19439 non-null  float64\n",
            " 22  rougher.output.concentrate_pb                       19439 non-null  float64\n",
            " 23  rougher.output.concentrate_sol                      19416 non-null  float64\n",
            " 24  rougher.output.concentrate_au                       19439 non-null  float64\n",
            " 25  rougher.output.recovery                             19439 non-null  float64\n",
            " 26  rougher.output.tail_ag                              19438 non-null  float64\n",
            " 27  rougher.output.tail_pb                              19439 non-null  float64\n",
            " 28  rougher.output.tail_sol                             19439 non-null  float64\n",
            " 29  rougher.output.tail_au                              19439 non-null  float64\n",
            " 30  secondary_cleaner.output.tail_ag                    19437 non-null  float64\n",
            " 31  secondary_cleaner.output.tail_pb                    19427 non-null  float64\n",
            " 32  secondary_cleaner.output.tail_sol                   17691 non-null  float64\n",
            " 33  secondary_cleaner.output.tail_au                    19439 non-null  float64\n",
            "dtypes: float64(34)\n",
            "memory usage: 5.0 MB\n"
          ]
        }
      ],
      "source": [
        "data_full[columns_not_in_test].info()"
      ]
    },
    {
      "cell_type": "markdown",
      "metadata": {
        "id": "FE6Pm_cZSchF"
      },
      "source": [
        "Вывод:\n",
        "\n",
        "В тестовой выборке отсутствуют параметры продукта и отвальных хвостов после каждого из этапов технологического процесса, а также некоторые расчетные характеристики. Пока процесс не закончился измерить их невозможно. Однако, все остальные параметры есть, а также характеристики изначальной смеси золотоносной руды."
      ]
    },
    {
      "cell_type": "markdown",
      "metadata": {
        "id": "4CELT2pOSchF"
      },
      "source": [
        "### Предообработка данных"
      ]
    },
    {
      "cell_type": "markdown",
      "metadata": {
        "id": "nayAHtGCSchL"
      },
      "source": [
        "Для машинного обучения необходимо заполнить пропуски в данных. Посмотрим на количество пропусков"
      ]
    },
    {
      "cell_type": "code",
      "execution_count": null,
      "metadata": {
        "scrolled": true,
        "id": "NZWeLSjjSchM",
        "outputId": "0c667c41-a600-4b5c-acad-ec49276c6677"
      },
      "outputs": [
        {
          "data": {
            "text/plain": [
              "secondary_cleaner.output.tail_sol                     0.113436\n",
              "rougher.state.floatbank10_e_air                       0.030815\n",
              "rougher.input.floatbank11_xanthate                    0.030249\n",
              "primary_cleaner.output.concentrate_sol                0.020213\n",
              "secondary_cleaner.state.floatbank2_a_air              0.015337\n",
              "final.output.concentrate_sol                          0.014913\n",
              "rougher.input.feed_size                               0.010177\n",
              "primary_cleaner.input.xanthate                        0.007068\n",
              "rougher.input.feed_pb                                 0.007068\n",
              "final.output.tail_pb                                  0.007068\n",
              "primary_cleaner.output.concentrate_pb                 0.006078\n",
              "rougher.input.feed_sol                                0.005513\n",
              "primary_cleaner.output.tail_sol                       0.003251\n",
              "rougher.input.floatbank11_sulfate                     0.002544\n",
              "primary_cleaner.input.depressant                      0.002262\n",
              "rougher.input.floatbank10_sulfate                     0.002050\n",
              "rougher.output.concentrate_sol                        0.001555\n",
              "secondary_cleaner.state.floatbank2_b_air              0.001484\n",
              "primary_cleaner.input.sulfate                         0.001414\n",
              "primary_cleaner.output.tail_pb                        0.001060\n",
              "secondary_cleaner.output.tail_pb                      0.000707\n",
              "rougher.input.feed_rate                               0.000565\n",
              "rougher.input.floatbank10_xanthate                    0.000565\n",
              "secondary_cleaner.state.floatbank4_a_air              0.000424\n",
              "final.output.tail_sol                                 0.000353\n",
              "secondary_cleaner.state.floatbank3_a_air              0.000283\n",
              "primary_cleaner.state.floatbank8_a_air                0.000283\n",
              "primary_cleaner.state.floatbank8_b_air                0.000283\n",
              "primary_cleaner.state.floatbank8_d_air                0.000212\n",
              "primary_cleaner.state.floatbank8_c_air                0.000141\n",
              "secondary_cleaner.output.tail_ag                      0.000141\n",
              "secondary_cleaner.state.floatbank6_a_air              0.000141\n",
              "rougher.state.floatbank10_b_level                     0.000071\n",
              "rougher.state.floatbank10_b_air                       0.000071\n",
              "rougher.state.floatbank10_c_level                     0.000071\n",
              "rougher.state.floatbank10_c_air                       0.000071\n",
              "secondary_cleaner.state.floatbank3_a_level            0.000071\n",
              "secondary_cleaner.state.floatbank2_a_level            0.000071\n",
              "secondary_cleaner.state.floatbank2_b_level            0.000071\n",
              "rougher.state.floatbank10_a_air                       0.000071\n",
              "secondary_cleaner.state.floatbank3_b_air              0.000071\n",
              "secondary_cleaner.state.floatbank3_b_level            0.000071\n",
              "secondary_cleaner.state.floatbank4_a_level            0.000071\n",
              "secondary_cleaner.state.floatbank4_b_air              0.000071\n",
              "secondary_cleaner.state.floatbank4_b_level            0.000071\n",
              "secondary_cleaner.state.floatbank5_a_air              0.000071\n",
              "secondary_cleaner.state.floatbank5_a_level            0.000071\n",
              "secondary_cleaner.state.floatbank5_b_air              0.000071\n",
              "secondary_cleaner.state.floatbank5_b_level            0.000071\n",
              "rougher.state.floatbank10_a_level                     0.000071\n",
              "secondary_cleaner.state.floatbank6_a_level            0.000071\n",
              "rougher.calculation.floatbank11_sulfate_to_au_feed    0.000071\n",
              "rougher.calculation.floatbank10_sulfate_to_au_feed    0.000071\n",
              "primary_cleaner.state.floatbank8_d_level              0.000071\n",
              "primary_cleaner.state.floatbank8_c_level              0.000071\n",
              "primary_cleaner.state.floatbank8_b_level              0.000071\n",
              "primary_cleaner.state.floatbank8_a_level              0.000071\n",
              "primary_cleaner.output.tail_ag                        0.000071\n",
              "final.output.concentrate_ag                           0.000071\n",
              "rougher.calculation.sulfate_to_au_concentrate         0.000071\n",
              "rougher.output.tail_ag                                0.000071\n",
              "final.output.concentrate_pb                           0.000071\n",
              "primary_cleaner.input.feed_size                       0.000000\n",
              "final.output.tail_au                                  0.000000\n",
              "primary_cleaner.output.concentrate_au                 0.000000\n",
              "final.output.tail_ag                                  0.000000\n",
              "primary_cleaner.output.tail_au                        0.000000\n",
              "final.output.recovery                                 0.000000\n",
              "final.output.concentrate_au                           0.000000\n",
              "primary_cleaner.output.concentrate_ag                 0.000000\n",
              "rougher.output.tail_sol                               0.000000\n",
              "rougher.output.tail_au                                0.000000\n",
              "secondary_cleaner.output.tail_au                      0.000000\n",
              "rougher.calculation.au_pb_ratio                       0.000000\n",
              "rougher.input.feed_ag                                 0.000000\n",
              "rougher.input.feed_au                                 0.000000\n",
              "rougher.state.floatbank10_f_level                     0.000000\n",
              "rougher.state.floatbank10_f_air                       0.000000\n",
              "rougher.state.floatbank10_e_level                     0.000000\n",
              "rougher.state.floatbank10_d_level                     0.000000\n",
              "rougher.state.floatbank10_d_air                       0.000000\n",
              "rougher.output.concentrate_ag                         0.000000\n",
              "rougher.output.concentrate_pb                         0.000000\n",
              "rougher.output.concentrate_au                         0.000000\n",
              "rougher.output.recovery                               0.000000\n",
              "rougher.output.tail_pb                                0.000000\n",
              "date                                                  0.000000\n",
              "dtype: float64"
            ]
          },
          "execution_count": 14,
          "metadata": {},
          "output_type": "execute_result"
        }
      ],
      "source": [
        "#пропуски в обучающем датасете\n",
        "data_train.isna().mean().sort_values(ascending=False)"
      ]
    },
    {
      "cell_type": "markdown",
      "metadata": {
        "id": "9rBi-5QTSchM"
      },
      "source": [
        "Процентное количество пропусков небольшое (есть лишь 7 столбцов по которому пропуски более 1%). Заполним пропуски - соседние параметры часто похожи, поэтому заполним пропуски в данных ближайшими по времени значениями:"
      ]
    },
    {
      "cell_type": "code",
      "execution_count": null,
      "metadata": {
        "id": "4gOvSb5nSchM"
      },
      "outputs": [],
      "source": [
        "data_train = data_train.fillna(method='ffill')"
      ]
    },
    {
      "cell_type": "code",
      "execution_count": null,
      "metadata": {
        "id": "RKf381WySchM",
        "outputId": "f9882010-6e81-4c25-b44d-2fef0b57ec79"
      },
      "outputs": [
        {
          "data": {
            "text/plain": [
              "date                                 0.0\n",
              "rougher.state.floatbank10_b_air      0.0\n",
              "rougher.state.floatbank10_f_air      0.0\n",
              "rougher.state.floatbank10_e_level    0.0\n",
              "rougher.state.floatbank10_e_air      0.0\n",
              "dtype: float64"
            ]
          },
          "execution_count": 16,
          "metadata": {},
          "output_type": "execute_result"
        }
      ],
      "source": [
        "data_train.isna().mean().sort_values(ascending=False).head()"
      ]
    },
    {
      "cell_type": "markdown",
      "metadata": {
        "id": "1gR4sA8ESchM"
      },
      "source": [
        "Пропуски в обучающем датасете заполнены. Выполним аналогичные действия для остальных датасетов"
      ]
    },
    {
      "cell_type": "code",
      "execution_count": null,
      "metadata": {
        "scrolled": true,
        "id": "jJBlORMASchM",
        "outputId": "4e437323-53c9-4f55-96e9-b762408a4a84"
      },
      "outputs": [
        {
          "data": {
            "text/plain": [
              "rougher.input.floatbank11_xanthate          0.004726\n",
              "rougher.input.feed_sol                      0.003970\n",
              "secondary_cleaner.state.floatbank3_a_air    0.001701\n",
              "rougher.input.floatbank11_sulfate           0.001512\n",
              "primary_cleaner.input.depressant            0.000945\n",
              "dtype: float64"
            ]
          },
          "execution_count": 17,
          "metadata": {},
          "output_type": "execute_result"
        }
      ],
      "source": [
        "#пропуски в тестовом датасете\n",
        "data_test.isna().mean().sort_values(ascending=False).head()"
      ]
    },
    {
      "cell_type": "markdown",
      "metadata": {
        "id": "gAwvVFBQSchM"
      },
      "source": [
        "Макс пропуски менее 1% в данных. Заполним соседними значениями"
      ]
    },
    {
      "cell_type": "code",
      "execution_count": null,
      "metadata": {
        "id": "6U5L00I5SchM"
      },
      "outputs": [],
      "source": [
        "data_test = data_test.fillna(method='ffill')"
      ]
    },
    {
      "cell_type": "code",
      "execution_count": null,
      "metadata": {
        "scrolled": true,
        "id": "4mFAJ9ukSchM",
        "outputId": "f3c30458-8e5d-4bcc-8366-2cb581785e58"
      },
      "outputs": [
        {
          "data": {
            "text/plain": [
              "date                                 0.0\n",
              "rougher.state.floatbank10_c_air      0.0\n",
              "rougher.state.floatbank10_d_air      0.0\n",
              "rougher.state.floatbank10_d_level    0.0\n",
              "rougher.state.floatbank10_e_air      0.0\n",
              "dtype: float64"
            ]
          },
          "execution_count": 19,
          "metadata": {},
          "output_type": "execute_result"
        }
      ],
      "source": [
        "#проверка\n",
        "data_test.isna().mean().sort_values(ascending=False).head()"
      ]
    },
    {
      "cell_type": "code",
      "execution_count": null,
      "metadata": {
        "id": "WC3scqCKSchN",
        "outputId": "a41eea8a-cbf4-4c66-f790-0a58ac4179c9"
      },
      "outputs": [
        {
          "data": {
            "text/plain": [
              "secondary_cleaner.output.tail_sol           0.089922\n",
              "rougher.input.floatbank11_xanthate          0.023304\n",
              "rougher.state.floatbank10_e_air             0.022429\n",
              "primary_cleaner.output.concentrate_sol      0.019034\n",
              "secondary_cleaner.state.floatbank2_a_air    0.011317\n",
              "dtype: float64"
            ]
          },
          "execution_count": 20,
          "metadata": {},
          "output_type": "execute_result"
        }
      ],
      "source": [
        "#пропуски в исходных данных\n",
        "data_full.isna().mean().sort_values(ascending=False).head()"
      ]
    },
    {
      "cell_type": "markdown",
      "metadata": {
        "id": "JS9ahZonSchN"
      },
      "source": [
        "Макс пропуски менее 9% в данных. Заполним соседними значениями"
      ]
    },
    {
      "cell_type": "code",
      "execution_count": null,
      "metadata": {
        "id": "hsB5yRO3SchN"
      },
      "outputs": [],
      "source": [
        "data_full = data_full.fillna(method='ffill')"
      ]
    },
    {
      "cell_type": "code",
      "execution_count": null,
      "metadata": {
        "id": "e_Gj0wrLSchN"
      },
      "outputs": [],
      "source": [
        "data_full_initial = data_full.copy()"
      ]
    },
    {
      "cell_type": "code",
      "execution_count": null,
      "metadata": {
        "scrolled": true,
        "id": "RIb8r7iVSchN",
        "outputId": "a7c770ba-7082-45c2-ea97-bab3763b4e06"
      },
      "outputs": [
        {
          "data": {
            "text/plain": [
              "date                                 0.0\n",
              "rougher.state.floatbank10_b_air      0.0\n",
              "rougher.state.floatbank10_f_air      0.0\n",
              "rougher.state.floatbank10_e_level    0.0\n",
              "rougher.state.floatbank10_e_air      0.0\n",
              "dtype: float64"
            ]
          },
          "execution_count": 23,
          "metadata": {},
          "output_type": "execute_result"
        }
      ],
      "source": [
        "#проверка\n",
        "data_full.isna().mean().sort_values(ascending=False).head()"
      ]
    },
    {
      "cell_type": "markdown",
      "metadata": {
        "id": "rPp_1YQ2SchN"
      },
      "source": [
        "Вывод - пропуски заполнены соседним значениями (предполагаем, что параметры не близки при небольшом промежутке времени между измерениями - это дано в условиях задачи)"
      ]
    },
    {
      "cell_type": "markdown",
      "metadata": {
        "id": "2o2AWdevSchN"
      },
      "source": [
        "Проверим, существуют ли строки с нулевыми выходными концентрациями золота после окончания процесса обработки:"
      ]
    },
    {
      "cell_type": "code",
      "execution_count": null,
      "metadata": {
        "scrolled": false,
        "id": "ocEjUFMDSchN",
        "outputId": "cae92d56-476e-4642-d704-273e844164a1"
      },
      "outputs": [
        {
          "data": {
            "text/html": [
              "<div>\n",
              "<style scoped>\n",
              "    .dataframe tbody tr th:only-of-type {\n",
              "        vertical-align: middle;\n",
              "    }\n",
              "\n",
              "    .dataframe tbody tr th {\n",
              "        vertical-align: top;\n",
              "    }\n",
              "\n",
              "    .dataframe thead th {\n",
              "        text-align: right;\n",
              "    }\n",
              "</style>\n",
              "<table border=\"1\" class=\"dataframe\">\n",
              "  <thead>\n",
              "    <tr style=\"text-align: right;\">\n",
              "      <th></th>\n",
              "      <th>date</th>\n",
              "      <th>final.output.concentrate_ag</th>\n",
              "      <th>final.output.concentrate_pb</th>\n",
              "      <th>final.output.concentrate_sol</th>\n",
              "      <th>final.output.concentrate_au</th>\n",
              "      <th>final.output.recovery</th>\n",
              "      <th>final.output.tail_ag</th>\n",
              "      <th>final.output.tail_pb</th>\n",
              "      <th>final.output.tail_sol</th>\n",
              "      <th>final.output.tail_au</th>\n",
              "      <th>primary_cleaner.input.sulfate</th>\n",
              "      <th>primary_cleaner.input.depressant</th>\n",
              "      <th>primary_cleaner.input.feed_size</th>\n",
              "      <th>primary_cleaner.input.xanthate</th>\n",
              "      <th>primary_cleaner.output.concentrate_ag</th>\n",
              "      <th>primary_cleaner.output.concentrate_pb</th>\n",
              "      <th>primary_cleaner.output.concentrate_sol</th>\n",
              "      <th>primary_cleaner.output.concentrate_au</th>\n",
              "      <th>primary_cleaner.output.tail_ag</th>\n",
              "      <th>primary_cleaner.output.tail_pb</th>\n",
              "      <th>primary_cleaner.output.tail_sol</th>\n",
              "      <th>primary_cleaner.output.tail_au</th>\n",
              "      <th>primary_cleaner.state.floatbank8_a_air</th>\n",
              "      <th>primary_cleaner.state.floatbank8_a_level</th>\n",
              "      <th>primary_cleaner.state.floatbank8_b_air</th>\n",
              "      <th>primary_cleaner.state.floatbank8_b_level</th>\n",
              "      <th>primary_cleaner.state.floatbank8_c_air</th>\n",
              "      <th>primary_cleaner.state.floatbank8_c_level</th>\n",
              "      <th>primary_cleaner.state.floatbank8_d_air</th>\n",
              "      <th>primary_cleaner.state.floatbank8_d_level</th>\n",
              "      <th>rougher.calculation.sulfate_to_au_concentrate</th>\n",
              "      <th>rougher.calculation.floatbank10_sulfate_to_au_feed</th>\n",
              "      <th>rougher.calculation.floatbank11_sulfate_to_au_feed</th>\n",
              "      <th>rougher.calculation.au_pb_ratio</th>\n",
              "      <th>rougher.input.feed_ag</th>\n",
              "      <th>rougher.input.feed_pb</th>\n",
              "      <th>rougher.input.feed_rate</th>\n",
              "      <th>rougher.input.feed_size</th>\n",
              "      <th>rougher.input.feed_sol</th>\n",
              "      <th>rougher.input.feed_au</th>\n",
              "      <th>rougher.input.floatbank10_sulfate</th>\n",
              "      <th>rougher.input.floatbank10_xanthate</th>\n",
              "      <th>rougher.input.floatbank11_sulfate</th>\n",
              "      <th>rougher.input.floatbank11_xanthate</th>\n",
              "      <th>rougher.output.concentrate_ag</th>\n",
              "      <th>rougher.output.concentrate_pb</th>\n",
              "      <th>rougher.output.concentrate_sol</th>\n",
              "      <th>rougher.output.concentrate_au</th>\n",
              "      <th>rougher.output.recovery</th>\n",
              "      <th>rougher.output.tail_ag</th>\n",
              "      <th>rougher.output.tail_pb</th>\n",
              "      <th>rougher.output.tail_sol</th>\n",
              "      <th>rougher.output.tail_au</th>\n",
              "      <th>rougher.state.floatbank10_a_air</th>\n",
              "      <th>rougher.state.floatbank10_a_level</th>\n",
              "      <th>rougher.state.floatbank10_b_air</th>\n",
              "      <th>rougher.state.floatbank10_b_level</th>\n",
              "      <th>rougher.state.floatbank10_c_air</th>\n",
              "      <th>rougher.state.floatbank10_c_level</th>\n",
              "      <th>rougher.state.floatbank10_d_air</th>\n",
              "      <th>rougher.state.floatbank10_d_level</th>\n",
              "      <th>rougher.state.floatbank10_e_air</th>\n",
              "      <th>rougher.state.floatbank10_e_level</th>\n",
              "      <th>rougher.state.floatbank10_f_air</th>\n",
              "      <th>rougher.state.floatbank10_f_level</th>\n",
              "      <th>secondary_cleaner.output.tail_ag</th>\n",
              "      <th>secondary_cleaner.output.tail_pb</th>\n",
              "      <th>secondary_cleaner.output.tail_sol</th>\n",
              "      <th>secondary_cleaner.output.tail_au</th>\n",
              "      <th>secondary_cleaner.state.floatbank2_a_air</th>\n",
              "      <th>secondary_cleaner.state.floatbank2_a_level</th>\n",
              "      <th>secondary_cleaner.state.floatbank2_b_air</th>\n",
              "      <th>secondary_cleaner.state.floatbank2_b_level</th>\n",
              "      <th>secondary_cleaner.state.floatbank3_a_air</th>\n",
              "      <th>secondary_cleaner.state.floatbank3_a_level</th>\n",
              "      <th>secondary_cleaner.state.floatbank3_b_air</th>\n",
              "      <th>secondary_cleaner.state.floatbank3_b_level</th>\n",
              "      <th>secondary_cleaner.state.floatbank4_a_air</th>\n",
              "      <th>secondary_cleaner.state.floatbank4_a_level</th>\n",
              "      <th>secondary_cleaner.state.floatbank4_b_air</th>\n",
              "      <th>secondary_cleaner.state.floatbank4_b_level</th>\n",
              "      <th>secondary_cleaner.state.floatbank5_a_air</th>\n",
              "      <th>secondary_cleaner.state.floatbank5_a_level</th>\n",
              "      <th>secondary_cleaner.state.floatbank5_b_air</th>\n",
              "      <th>secondary_cleaner.state.floatbank5_b_level</th>\n",
              "      <th>secondary_cleaner.state.floatbank6_a_air</th>\n",
              "      <th>secondary_cleaner.state.floatbank6_a_level</th>\n",
              "    </tr>\n",
              "  </thead>\n",
              "  <tbody>\n",
              "    <tr>\n",
              "      <th>644</th>\n",
              "      <td>2016-02-13 11:00:00</td>\n",
              "      <td>0.0</td>\n",
              "      <td>0.0</td>\n",
              "      <td>0.0</td>\n",
              "      <td>0.0</td>\n",
              "      <td>0.0</td>\n",
              "      <td>8.894029</td>\n",
              "      <td>0.843584</td>\n",
              "      <td>15.417342</td>\n",
              "      <td>1.779052</td>\n",
              "      <td>133.610147</td>\n",
              "      <td>14.032789</td>\n",
              "      <td>7.32</td>\n",
              "      <td>1.550190</td>\n",
              "      <td>8.986696</td>\n",
              "      <td>6.530607</td>\n",
              "      <td>11.969464</td>\n",
              "      <td>26.238846</td>\n",
              "      <td>13.854131</td>\n",
              "      <td>2.156414</td>\n",
              "      <td>8.174442</td>\n",
              "      <td>1.965728</td>\n",
              "      <td>1800.648807</td>\n",
              "      <td>-349.517991</td>\n",
              "      <td>1799.347332</td>\n",
              "      <td>-350.925554</td>\n",
              "      <td>1798.833149</td>\n",
              "      <td>-349.609813</td>\n",
              "      <td>1456.714168</td>\n",
              "      <td>-350.518404</td>\n",
              "      <td>45778.313924</td>\n",
              "      <td>2952.203313</td>\n",
              "      <td>2943.136954</td>\n",
              "      <td>2.894754</td>\n",
              "      <td>7.407737</td>\n",
              "      <td>1.934178</td>\n",
              "      <td>500.087438</td>\n",
              "      <td>51.965198</td>\n",
              "      <td>31.762853</td>\n",
              "      <td>5.598971</td>\n",
              "      <td>10.251319</td>\n",
              "      <td>6.620908</td>\n",
              "      <td>10.259054</td>\n",
              "      <td>6.620118</td>\n",
              "      <td>11.803589</td>\n",
              "      <td>7.143475</td>\n",
              "      <td>21.692525</td>\n",
              "      <td>15.935190</td>\n",
              "      <td>68.960993</td>\n",
              "      <td>5.114923</td>\n",
              "      <td>0.925673</td>\n",
              "      <td>20.699912</td>\n",
              "      <td>2.293607</td>\n",
              "      <td>999.884600</td>\n",
              "      <td>-499.972731</td>\n",
              "      <td>1499.290173</td>\n",
              "      <td>-399.546180</td>\n",
              "      <td>1499.161769</td>\n",
              "      <td>-398.630471</td>\n",
              "      <td>1499.040323</td>\n",
              "      <td>-399.389036</td>\n",
              "      <td>1501.877151</td>\n",
              "      <td>-397.227473</td>\n",
              "      <td>1501.061312</td>\n",
              "      <td>-400.602849</td>\n",
              "      <td>11.838086</td>\n",
              "      <td>3.905472</td>\n",
              "      <td>10.651508</td>\n",
              "      <td>2.283842</td>\n",
              "      <td>32.054894</td>\n",
              "      <td>-400.832639</td>\n",
              "      <td>30.998499</td>\n",
              "      <td>-401.051170</td>\n",
              "      <td>30.900779</td>\n",
              "      <td>-400.953348</td>\n",
              "      <td>29.003189</td>\n",
              "      <td>-401.031397</td>\n",
              "      <td>21.991762</td>\n",
              "      <td>-399.587122</td>\n",
              "      <td>21.988937</td>\n",
              "      <td>-401.366408</td>\n",
              "      <td>22.995012</td>\n",
              "      <td>-399.370680</td>\n",
              "      <td>20.966863</td>\n",
              "      <td>-399.308354</td>\n",
              "      <td>24.987274</td>\n",
              "      <td>-399.619808</td>\n",
              "    </tr>\n",
              "    <tr>\n",
              "      <th>1193</th>\n",
              "      <td>2016-03-11 10:00:00</td>\n",
              "      <td>0.0</td>\n",
              "      <td>0.0</td>\n",
              "      <td>0.0</td>\n",
              "      <td>0.0</td>\n",
              "      <td>0.0</td>\n",
              "      <td>10.817313</td>\n",
              "      <td>1.462800</td>\n",
              "      <td>16.407607</td>\n",
              "      <td>2.984504</td>\n",
              "      <td>111.502432</td>\n",
              "      <td>11.927825</td>\n",
              "      <td>7.79</td>\n",
              "      <td>0.992436</td>\n",
              "      <td>8.701237</td>\n",
              "      <td>7.234158</td>\n",
              "      <td>10.754321</td>\n",
              "      <td>34.564456</td>\n",
              "      <td>13.665507</td>\n",
              "      <td>2.569557</td>\n",
              "      <td>9.186415</td>\n",
              "      <td>4.009465</td>\n",
              "      <td>1600.246853</td>\n",
              "      <td>-402.167837</td>\n",
              "      <td>1601.734558</td>\n",
              "      <td>-398.906828</td>\n",
              "      <td>1595.110867</td>\n",
              "      <td>-401.693888</td>\n",
              "      <td>627.591922</td>\n",
              "      <td>-398.868839</td>\n",
              "      <td>32559.326343</td>\n",
              "      <td>2098.775030</td>\n",
              "      <td>2097.794484</td>\n",
              "      <td>3.007789</td>\n",
              "      <td>8.098125</td>\n",
              "      <td>2.588661</td>\n",
              "      <td>502.314489</td>\n",
              "      <td>49.985298</td>\n",
              "      <td>34.896012</td>\n",
              "      <td>7.786147</td>\n",
              "      <td>8.842907</td>\n",
              "      <td>7.265263</td>\n",
              "      <td>8.842783</td>\n",
              "      <td>7.269218</td>\n",
              "      <td>10.640168</td>\n",
              "      <td>7.565854</td>\n",
              "      <td>24.793448</td>\n",
              "      <td>18.682162</td>\n",
              "      <td>82.787322</td>\n",
              "      <td>6.102604</td>\n",
              "      <td>0.788412</td>\n",
              "      <td>21.096415</td>\n",
              "      <td>2.046213</td>\n",
              "      <td>1000.621368</td>\n",
              "      <td>-499.594073</td>\n",
              "      <td>1500.980640</td>\n",
              "      <td>-499.669103</td>\n",
              "      <td>1501.032313</td>\n",
              "      <td>-500.950129</td>\n",
              "      <td>1498.673085</td>\n",
              "      <td>-501.877154</td>\n",
              "      <td>1297.623855</td>\n",
              "      <td>-501.776602</td>\n",
              "      <td>1197.469227</td>\n",
              "      <td>-500.648180</td>\n",
              "      <td>11.644152</td>\n",
              "      <td>4.028016</td>\n",
              "      <td>11.880836</td>\n",
              "      <td>3.627020</td>\n",
              "      <td>30.029055</td>\n",
              "      <td>-449.465681</td>\n",
              "      <td>28.042141</td>\n",
              "      <td>-450.180346</td>\n",
              "      <td>27.039535</td>\n",
              "      <td>-449.388889</td>\n",
              "      <td>24.884122</td>\n",
              "      <td>-449.365144</td>\n",
              "      <td>11.979352</td>\n",
              "      <td>-453.431061</td>\n",
              "      <td>12.003445</td>\n",
              "      <td>-450.179844</td>\n",
              "      <td>11.982937</td>\n",
              "      <td>-449.856468</td>\n",
              "      <td>9.927727</td>\n",
              "      <td>-450.521700</td>\n",
              "      <td>19.971682</td>\n",
              "      <td>-500.685521</td>\n",
              "    </tr>\n",
              "    <tr>\n",
              "      <th>1194</th>\n",
              "      <td>2016-03-11 11:00:00</td>\n",
              "      <td>0.0</td>\n",
              "      <td>0.0</td>\n",
              "      <td>0.0</td>\n",
              "      <td>0.0</td>\n",
              "      <td>0.0</td>\n",
              "      <td>10.436792</td>\n",
              "      <td>1.207636</td>\n",
              "      <td>17.800392</td>\n",
              "      <td>2.747294</td>\n",
              "      <td>110.586754</td>\n",
              "      <td>12.018310</td>\n",
              "      <td>7.79</td>\n",
              "      <td>1.000046</td>\n",
              "      <td>8.697952</td>\n",
              "      <td>7.119325</td>\n",
              "      <td>10.194141</td>\n",
              "      <td>34.399450</td>\n",
              "      <td>13.008128</td>\n",
              "      <td>2.295769</td>\n",
              "      <td>9.822700</td>\n",
              "      <td>3.611843</td>\n",
              "      <td>1599.492169</td>\n",
              "      <td>-399.712307</td>\n",
              "      <td>1600.069554</td>\n",
              "      <td>-400.566751</td>\n",
              "      <td>1597.600427</td>\n",
              "      <td>-400.355176</td>\n",
              "      <td>620.987030</td>\n",
              "      <td>-400.064647</td>\n",
              "      <td>32534.407535</td>\n",
              "      <td>2102.119757</td>\n",
              "      <td>2101.265127</td>\n",
              "      <td>3.079615</td>\n",
              "      <td>7.832467</td>\n",
              "      <td>2.435125</td>\n",
              "      <td>501.677628</td>\n",
              "      <td>48.845911</td>\n",
              "      <td>34.196525</td>\n",
              "      <td>7.499248</td>\n",
              "      <td>8.501246</td>\n",
              "      <td>6.989404</td>\n",
              "      <td>8.511888</td>\n",
              "      <td>6.982774</td>\n",
              "      <td>10.415491</td>\n",
              "      <td>7.367937</td>\n",
              "      <td>24.200400</td>\n",
              "      <td>18.231121</td>\n",
              "      <td>83.515262</td>\n",
              "      <td>6.016604</td>\n",
              "      <td>0.695116</td>\n",
              "      <td>20.893637</td>\n",
              "      <td>1.883162</td>\n",
              "      <td>999.826851</td>\n",
              "      <td>-500.323676</td>\n",
              "      <td>1500.315649</td>\n",
              "      <td>-499.482887</td>\n",
              "      <td>1498.075323</td>\n",
              "      <td>-499.213575</td>\n",
              "      <td>1501.362418</td>\n",
              "      <td>-500.711943</td>\n",
              "      <td>1300.513265</td>\n",
              "      <td>-499.835501</td>\n",
              "      <td>1200.145997</td>\n",
              "      <td>-498.002888</td>\n",
              "      <td>11.344059</td>\n",
              "      <td>3.795803</td>\n",
              "      <td>11.783571</td>\n",
              "      <td>3.462723</td>\n",
              "      <td>29.995514</td>\n",
              "      <td>-446.314649</td>\n",
              "      <td>27.944098</td>\n",
              "      <td>-449.314545</td>\n",
              "      <td>27.022681</td>\n",
              "      <td>-412.624177</td>\n",
              "      <td>25.010402</td>\n",
              "      <td>-421.023904</td>\n",
              "      <td>12.034636</td>\n",
              "      <td>-446.590944</td>\n",
              "      <td>12.130405</td>\n",
              "      <td>-449.684812</td>\n",
              "      <td>11.844983</td>\n",
              "      <td>-450.881424</td>\n",
              "      <td>9.916784</td>\n",
              "      <td>-449.542871</td>\n",
              "      <td>20.004767</td>\n",
              "      <td>-500.137068</td>\n",
              "    </tr>\n",
              "    <tr>\n",
              "      <th>1195</th>\n",
              "      <td>2016-03-11 12:00:00</td>\n",
              "      <td>0.0</td>\n",
              "      <td>0.0</td>\n",
              "      <td>0.0</td>\n",
              "      <td>0.0</td>\n",
              "      <td>0.0</td>\n",
              "      <td>10.637073</td>\n",
              "      <td>1.405778</td>\n",
              "      <td>17.195897</td>\n",
              "      <td>2.791440</td>\n",
              "      <td>104.202288</td>\n",
              "      <td>12.009356</td>\n",
              "      <td>7.79</td>\n",
              "      <td>1.032094</td>\n",
              "      <td>8.921656</td>\n",
              "      <td>6.637383</td>\n",
              "      <td>10.291689</td>\n",
              "      <td>34.303756</td>\n",
              "      <td>13.088421</td>\n",
              "      <td>2.320117</td>\n",
              "      <td>9.669966</td>\n",
              "      <td>3.741261</td>\n",
              "      <td>1598.737484</td>\n",
              "      <td>-400.513059</td>\n",
              "      <td>1598.779541</td>\n",
              "      <td>-399.862718</td>\n",
              "      <td>1601.842631</td>\n",
              "      <td>-400.839380</td>\n",
              "      <td>615.876751</td>\n",
              "      <td>-399.840555</td>\n",
              "      <td>32614.935512</td>\n",
              "      <td>2100.138259</td>\n",
              "      <td>2099.194438</td>\n",
              "      <td>3.104556</td>\n",
              "      <td>7.600277</td>\n",
              "      <td>2.265148</td>\n",
              "      <td>502.999469</td>\n",
              "      <td>47.430198</td>\n",
              "      <td>31.994985</td>\n",
              "      <td>7.032278</td>\n",
              "      <td>7.984067</td>\n",
              "      <td>6.548808</td>\n",
              "      <td>7.985276</td>\n",
              "      <td>6.547925</td>\n",
              "      <td>10.197899</td>\n",
              "      <td>7.364725</td>\n",
              "      <td>22.839147</td>\n",
              "      <td>18.190655</td>\n",
              "      <td>83.702224</td>\n",
              "      <td>5.716353</td>\n",
              "      <td>0.652338</td>\n",
              "      <td>20.221484</td>\n",
              "      <td>1.694374</td>\n",
              "      <td>1000.694329</td>\n",
              "      <td>-499.966581</td>\n",
              "      <td>1500.338769</td>\n",
              "      <td>-500.170904</td>\n",
              "      <td>1501.268792</td>\n",
              "      <td>-499.772062</td>\n",
              "      <td>1500.508380</td>\n",
              "      <td>-498.921405</td>\n",
              "      <td>1298.806976</td>\n",
              "      <td>-501.174090</td>\n",
              "      <td>1199.749541</td>\n",
              "      <td>-499.076953</td>\n",
              "      <td>9.964582</td>\n",
              "      <td>3.606678</td>\n",
              "      <td>10.664451</td>\n",
              "      <td>3.488992</td>\n",
              "      <td>30.035842</td>\n",
              "      <td>-498.964978</td>\n",
              "      <td>27.997281</td>\n",
              "      <td>-497.340734</td>\n",
              "      <td>26.996184</td>\n",
              "      <td>-400.344496</td>\n",
              "      <td>25.036609</td>\n",
              "      <td>-441.604494</td>\n",
              "      <td>12.016716</td>\n",
              "      <td>-496.613149</td>\n",
              "      <td>12.055535</td>\n",
              "      <td>-496.908551</td>\n",
              "      <td>12.091144</td>\n",
              "      <td>-496.404140</td>\n",
              "      <td>9.976074</td>\n",
              "      <td>-496.783155</td>\n",
              "      <td>19.921634</td>\n",
              "      <td>-500.769011</td>\n",
              "    </tr>\n",
              "    <tr>\n",
              "      <th>1196</th>\n",
              "      <td>2016-03-11 13:00:00</td>\n",
              "      <td>0.0</td>\n",
              "      <td>0.0</td>\n",
              "      <td>0.0</td>\n",
              "      <td>0.0</td>\n",
              "      <td>0.0</td>\n",
              "      <td>10.530320</td>\n",
              "      <td>1.461550</td>\n",
              "      <td>17.556860</td>\n",
              "      <td>2.682127</td>\n",
              "      <td>102.438023</td>\n",
              "      <td>12.031551</td>\n",
              "      <td>7.79</td>\n",
              "      <td>0.955098</td>\n",
              "      <td>9.239378</td>\n",
              "      <td>6.249012</td>\n",
              "      <td>10.464946</td>\n",
              "      <td>33.956378</td>\n",
              "      <td>12.172650</td>\n",
              "      <td>2.040281</td>\n",
              "      <td>9.742966</td>\n",
              "      <td>3.869915</td>\n",
              "      <td>1597.982799</td>\n",
              "      <td>-399.485106</td>\n",
              "      <td>1597.494612</td>\n",
              "      <td>-399.626848</td>\n",
              "      <td>1602.547360</td>\n",
              "      <td>-400.172289</td>\n",
              "      <td>613.328125</td>\n",
              "      <td>-399.403101</td>\n",
              "      <td>32480.770879</td>\n",
              "      <td>2096.866328</td>\n",
              "      <td>2100.975298</td>\n",
              "      <td>3.099465</td>\n",
              "      <td>7.436860</td>\n",
              "      <td>2.265435</td>\n",
              "      <td>501.128474</td>\n",
              "      <td>47.440433</td>\n",
              "      <td>32.541806</td>\n",
              "      <td>7.021635</td>\n",
              "      <td>8.021768</td>\n",
              "      <td>6.531857</td>\n",
              "      <td>8.022532</td>\n",
              "      <td>6.533838</td>\n",
              "      <td>9.968103</td>\n",
              "      <td>7.282737</td>\n",
              "      <td>22.918014</td>\n",
              "      <td>18.194323</td>\n",
              "      <td>84.836821</td>\n",
              "      <td>5.405111</td>\n",
              "      <td>0.636144</td>\n",
              "      <td>19.054158</td>\n",
              "      <td>1.582981</td>\n",
              "      <td>999.571743</td>\n",
              "      <td>-499.769543</td>\n",
              "      <td>1498.904184</td>\n",
              "      <td>-499.759503</td>\n",
              "      <td>1497.744582</td>\n",
              "      <td>-500.817450</td>\n",
              "      <td>1497.460411</td>\n",
              "      <td>-499.781484</td>\n",
              "      <td>1299.624610</td>\n",
              "      <td>-501.187097</td>\n",
              "      <td>1198.830483</td>\n",
              "      <td>-500.974606</td>\n",
              "      <td>8.665906</td>\n",
              "      <td>3.729378</td>\n",
              "      <td>9.578744</td>\n",
              "      <td>3.401284</td>\n",
              "      <td>30.038790</td>\n",
              "      <td>-494.944110</td>\n",
              "      <td>27.992440</td>\n",
              "      <td>-500.194801</td>\n",
              "      <td>26.952931</td>\n",
              "      <td>-499.602693</td>\n",
              "      <td>24.969402</td>\n",
              "      <td>-479.404793</td>\n",
              "      <td>11.993898</td>\n",
              "      <td>-500.427824</td>\n",
              "      <td>12.083824</td>\n",
              "      <td>-500.162537</td>\n",
              "      <td>12.078809</td>\n",
              "      <td>-499.903743</td>\n",
              "      <td>10.075259</td>\n",
              "      <td>-499.540325</td>\n",
              "      <td>20.039788</td>\n",
              "      <td>-499.932405</td>\n",
              "    </tr>\n",
              "  </tbody>\n",
              "</table>\n",
              "</div>"
            ],
            "text/plain": [
              "                    date  final.output.concentrate_ag  \\\n",
              "644  2016-02-13 11:00:00                          0.0   \n",
              "1193 2016-03-11 10:00:00                          0.0   \n",
              "1194 2016-03-11 11:00:00                          0.0   \n",
              "1195 2016-03-11 12:00:00                          0.0   \n",
              "1196 2016-03-11 13:00:00                          0.0   \n",
              "\n",
              "      final.output.concentrate_pb  final.output.concentrate_sol  \\\n",
              "644                           0.0                           0.0   \n",
              "1193                          0.0                           0.0   \n",
              "1194                          0.0                           0.0   \n",
              "1195                          0.0                           0.0   \n",
              "1196                          0.0                           0.0   \n",
              "\n",
              "      final.output.concentrate_au  final.output.recovery  \\\n",
              "644                           0.0                    0.0   \n",
              "1193                          0.0                    0.0   \n",
              "1194                          0.0                    0.0   \n",
              "1195                          0.0                    0.0   \n",
              "1196                          0.0                    0.0   \n",
              "\n",
              "      final.output.tail_ag  final.output.tail_pb  final.output.tail_sol  \\\n",
              "644               8.894029              0.843584              15.417342   \n",
              "1193             10.817313              1.462800              16.407607   \n",
              "1194             10.436792              1.207636              17.800392   \n",
              "1195             10.637073              1.405778              17.195897   \n",
              "1196             10.530320              1.461550              17.556860   \n",
              "\n",
              "      final.output.tail_au  primary_cleaner.input.sulfate  \\\n",
              "644               1.779052                     133.610147   \n",
              "1193              2.984504                     111.502432   \n",
              "1194              2.747294                     110.586754   \n",
              "1195              2.791440                     104.202288   \n",
              "1196              2.682127                     102.438023   \n",
              "\n",
              "      primary_cleaner.input.depressant  primary_cleaner.input.feed_size  \\\n",
              "644                          14.032789                             7.32   \n",
              "1193                         11.927825                             7.79   \n",
              "1194                         12.018310                             7.79   \n",
              "1195                         12.009356                             7.79   \n",
              "1196                         12.031551                             7.79   \n",
              "\n",
              "      primary_cleaner.input.xanthate  primary_cleaner.output.concentrate_ag  \\\n",
              "644                         1.550190                               8.986696   \n",
              "1193                        0.992436                               8.701237   \n",
              "1194                        1.000046                               8.697952   \n",
              "1195                        1.032094                               8.921656   \n",
              "1196                        0.955098                               9.239378   \n",
              "\n",
              "      primary_cleaner.output.concentrate_pb  \\\n",
              "644                                6.530607   \n",
              "1193                               7.234158   \n",
              "1194                               7.119325   \n",
              "1195                               6.637383   \n",
              "1196                               6.249012   \n",
              "\n",
              "      primary_cleaner.output.concentrate_sol  \\\n",
              "644                                11.969464   \n",
              "1193                               10.754321   \n",
              "1194                               10.194141   \n",
              "1195                               10.291689   \n",
              "1196                               10.464946   \n",
              "\n",
              "      primary_cleaner.output.concentrate_au  primary_cleaner.output.tail_ag  \\\n",
              "644                               26.238846                       13.854131   \n",
              "1193                              34.564456                       13.665507   \n",
              "1194                              34.399450                       13.008128   \n",
              "1195                              34.303756                       13.088421   \n",
              "1196                              33.956378                       12.172650   \n",
              "\n",
              "      primary_cleaner.output.tail_pb  primary_cleaner.output.tail_sol  \\\n",
              "644                         2.156414                         8.174442   \n",
              "1193                        2.569557                         9.186415   \n",
              "1194                        2.295769                         9.822700   \n",
              "1195                        2.320117                         9.669966   \n",
              "1196                        2.040281                         9.742966   \n",
              "\n",
              "      primary_cleaner.output.tail_au  primary_cleaner.state.floatbank8_a_air  \\\n",
              "644                         1.965728                             1800.648807   \n",
              "1193                        4.009465                             1600.246853   \n",
              "1194                        3.611843                             1599.492169   \n",
              "1195                        3.741261                             1598.737484   \n",
              "1196                        3.869915                             1597.982799   \n",
              "\n",
              "      primary_cleaner.state.floatbank8_a_level  \\\n",
              "644                                -349.517991   \n",
              "1193                               -402.167837   \n",
              "1194                               -399.712307   \n",
              "1195                               -400.513059   \n",
              "1196                               -399.485106   \n",
              "\n",
              "      primary_cleaner.state.floatbank8_b_air  \\\n",
              "644                              1799.347332   \n",
              "1193                             1601.734558   \n",
              "1194                             1600.069554   \n",
              "1195                             1598.779541   \n",
              "1196                             1597.494612   \n",
              "\n",
              "      primary_cleaner.state.floatbank8_b_level  \\\n",
              "644                                -350.925554   \n",
              "1193                               -398.906828   \n",
              "1194                               -400.566751   \n",
              "1195                               -399.862718   \n",
              "1196                               -399.626848   \n",
              "\n",
              "      primary_cleaner.state.floatbank8_c_air  \\\n",
              "644                              1798.833149   \n",
              "1193                             1595.110867   \n",
              "1194                             1597.600427   \n",
              "1195                             1601.842631   \n",
              "1196                             1602.547360   \n",
              "\n",
              "      primary_cleaner.state.floatbank8_c_level  \\\n",
              "644                                -349.609813   \n",
              "1193                               -401.693888   \n",
              "1194                               -400.355176   \n",
              "1195                               -400.839380   \n",
              "1196                               -400.172289   \n",
              "\n",
              "      primary_cleaner.state.floatbank8_d_air  \\\n",
              "644                              1456.714168   \n",
              "1193                              627.591922   \n",
              "1194                              620.987030   \n",
              "1195                              615.876751   \n",
              "1196                              613.328125   \n",
              "\n",
              "      primary_cleaner.state.floatbank8_d_level  \\\n",
              "644                                -350.518404   \n",
              "1193                               -398.868839   \n",
              "1194                               -400.064647   \n",
              "1195                               -399.840555   \n",
              "1196                               -399.403101   \n",
              "\n",
              "      rougher.calculation.sulfate_to_au_concentrate  \\\n",
              "644                                    45778.313924   \n",
              "1193                                   32559.326343   \n",
              "1194                                   32534.407535   \n",
              "1195                                   32614.935512   \n",
              "1196                                   32480.770879   \n",
              "\n",
              "      rougher.calculation.floatbank10_sulfate_to_au_feed  \\\n",
              "644                                         2952.203313    \n",
              "1193                                        2098.775030    \n",
              "1194                                        2102.119757    \n",
              "1195                                        2100.138259    \n",
              "1196                                        2096.866328    \n",
              "\n",
              "      rougher.calculation.floatbank11_sulfate_to_au_feed  \\\n",
              "644                                         2943.136954    \n",
              "1193                                        2097.794484    \n",
              "1194                                        2101.265127    \n",
              "1195                                        2099.194438    \n",
              "1196                                        2100.975298    \n",
              "\n",
              "      rougher.calculation.au_pb_ratio  rougher.input.feed_ag  \\\n",
              "644                          2.894754               7.407737   \n",
              "1193                         3.007789               8.098125   \n",
              "1194                         3.079615               7.832467   \n",
              "1195                         3.104556               7.600277   \n",
              "1196                         3.099465               7.436860   \n",
              "\n",
              "      rougher.input.feed_pb  rougher.input.feed_rate  rougher.input.feed_size  \\\n",
              "644                1.934178               500.087438                51.965198   \n",
              "1193               2.588661               502.314489                49.985298   \n",
              "1194               2.435125               501.677628                48.845911   \n",
              "1195               2.265148               502.999469                47.430198   \n",
              "1196               2.265435               501.128474                47.440433   \n",
              "\n",
              "      rougher.input.feed_sol  rougher.input.feed_au  \\\n",
              "644                31.762853               5.598971   \n",
              "1193               34.896012               7.786147   \n",
              "1194               34.196525               7.499248   \n",
              "1195               31.994985               7.032278   \n",
              "1196               32.541806               7.021635   \n",
              "\n",
              "      rougher.input.floatbank10_sulfate  rougher.input.floatbank10_xanthate  \\\n",
              "644                           10.251319                            6.620908   \n",
              "1193                           8.842907                            7.265263   \n",
              "1194                           8.501246                            6.989404   \n",
              "1195                           7.984067                            6.548808   \n",
              "1196                           8.021768                            6.531857   \n",
              "\n",
              "      rougher.input.floatbank11_sulfate  rougher.input.floatbank11_xanthate  \\\n",
              "644                           10.259054                            6.620118   \n",
              "1193                           8.842783                            7.269218   \n",
              "1194                           8.511888                            6.982774   \n",
              "1195                           7.985276                            6.547925   \n",
              "1196                           8.022532                            6.533838   \n",
              "\n",
              "      rougher.output.concentrate_ag  rougher.output.concentrate_pb  \\\n",
              "644                       11.803589                       7.143475   \n",
              "1193                      10.640168                       7.565854   \n",
              "1194                      10.415491                       7.367937   \n",
              "1195                      10.197899                       7.364725   \n",
              "1196                       9.968103                       7.282737   \n",
              "\n",
              "      rougher.output.concentrate_sol  rougher.output.concentrate_au  \\\n",
              "644                        21.692525                      15.935190   \n",
              "1193                       24.793448                      18.682162   \n",
              "1194                       24.200400                      18.231121   \n",
              "1195                       22.839147                      18.190655   \n",
              "1196                       22.918014                      18.194323   \n",
              "\n",
              "      rougher.output.recovery  rougher.output.tail_ag  rougher.output.tail_pb  \\\n",
              "644                 68.960993                5.114923                0.925673   \n",
              "1193                82.787322                6.102604                0.788412   \n",
              "1194                83.515262                6.016604                0.695116   \n",
              "1195                83.702224                5.716353                0.652338   \n",
              "1196                84.836821                5.405111                0.636144   \n",
              "\n",
              "      rougher.output.tail_sol  rougher.output.tail_au  \\\n",
              "644                 20.699912                2.293607   \n",
              "1193                21.096415                2.046213   \n",
              "1194                20.893637                1.883162   \n",
              "1195                20.221484                1.694374   \n",
              "1196                19.054158                1.582981   \n",
              "\n",
              "      rougher.state.floatbank10_a_air  rougher.state.floatbank10_a_level  \\\n",
              "644                        999.884600                        -499.972731   \n",
              "1193                      1000.621368                        -499.594073   \n",
              "1194                       999.826851                        -500.323676   \n",
              "1195                      1000.694329                        -499.966581   \n",
              "1196                       999.571743                        -499.769543   \n",
              "\n",
              "      rougher.state.floatbank10_b_air  rougher.state.floatbank10_b_level  \\\n",
              "644                       1499.290173                        -399.546180   \n",
              "1193                      1500.980640                        -499.669103   \n",
              "1194                      1500.315649                        -499.482887   \n",
              "1195                      1500.338769                        -500.170904   \n",
              "1196                      1498.904184                        -499.759503   \n",
              "\n",
              "      rougher.state.floatbank10_c_air  rougher.state.floatbank10_c_level  \\\n",
              "644                       1499.161769                        -398.630471   \n",
              "1193                      1501.032313                        -500.950129   \n",
              "1194                      1498.075323                        -499.213575   \n",
              "1195                      1501.268792                        -499.772062   \n",
              "1196                      1497.744582                        -500.817450   \n",
              "\n",
              "      rougher.state.floatbank10_d_air  rougher.state.floatbank10_d_level  \\\n",
              "644                       1499.040323                        -399.389036   \n",
              "1193                      1498.673085                        -501.877154   \n",
              "1194                      1501.362418                        -500.711943   \n",
              "1195                      1500.508380                        -498.921405   \n",
              "1196                      1497.460411                        -499.781484   \n",
              "\n",
              "      rougher.state.floatbank10_e_air  rougher.state.floatbank10_e_level  \\\n",
              "644                       1501.877151                        -397.227473   \n",
              "1193                      1297.623855                        -501.776602   \n",
              "1194                      1300.513265                        -499.835501   \n",
              "1195                      1298.806976                        -501.174090   \n",
              "1196                      1299.624610                        -501.187097   \n",
              "\n",
              "      rougher.state.floatbank10_f_air  rougher.state.floatbank10_f_level  \\\n",
              "644                       1501.061312                        -400.602849   \n",
              "1193                      1197.469227                        -500.648180   \n",
              "1194                      1200.145997                        -498.002888   \n",
              "1195                      1199.749541                        -499.076953   \n",
              "1196                      1198.830483                        -500.974606   \n",
              "\n",
              "      secondary_cleaner.output.tail_ag  secondary_cleaner.output.tail_pb  \\\n",
              "644                          11.838086                          3.905472   \n",
              "1193                         11.644152                          4.028016   \n",
              "1194                         11.344059                          3.795803   \n",
              "1195                          9.964582                          3.606678   \n",
              "1196                          8.665906                          3.729378   \n",
              "\n",
              "      secondary_cleaner.output.tail_sol  secondary_cleaner.output.tail_au  \\\n",
              "644                           10.651508                          2.283842   \n",
              "1193                          11.880836                          3.627020   \n",
              "1194                          11.783571                          3.462723   \n",
              "1195                          10.664451                          3.488992   \n",
              "1196                           9.578744                          3.401284   \n",
              "\n",
              "      secondary_cleaner.state.floatbank2_a_air  \\\n",
              "644                                  32.054894   \n",
              "1193                                 30.029055   \n",
              "1194                                 29.995514   \n",
              "1195                                 30.035842   \n",
              "1196                                 30.038790   \n",
              "\n",
              "      secondary_cleaner.state.floatbank2_a_level  \\\n",
              "644                                  -400.832639   \n",
              "1193                                 -449.465681   \n",
              "1194                                 -446.314649   \n",
              "1195                                 -498.964978   \n",
              "1196                                 -494.944110   \n",
              "\n",
              "      secondary_cleaner.state.floatbank2_b_air  \\\n",
              "644                                  30.998499   \n",
              "1193                                 28.042141   \n",
              "1194                                 27.944098   \n",
              "1195                                 27.997281   \n",
              "1196                                 27.992440   \n",
              "\n",
              "      secondary_cleaner.state.floatbank2_b_level  \\\n",
              "644                                  -401.051170   \n",
              "1193                                 -450.180346   \n",
              "1194                                 -449.314545   \n",
              "1195                                 -497.340734   \n",
              "1196                                 -500.194801   \n",
              "\n",
              "      secondary_cleaner.state.floatbank3_a_air  \\\n",
              "644                                  30.900779   \n",
              "1193                                 27.039535   \n",
              "1194                                 27.022681   \n",
              "1195                                 26.996184   \n",
              "1196                                 26.952931   \n",
              "\n",
              "      secondary_cleaner.state.floatbank3_a_level  \\\n",
              "644                                  -400.953348   \n",
              "1193                                 -449.388889   \n",
              "1194                                 -412.624177   \n",
              "1195                                 -400.344496   \n",
              "1196                                 -499.602693   \n",
              "\n",
              "      secondary_cleaner.state.floatbank3_b_air  \\\n",
              "644                                  29.003189   \n",
              "1193                                 24.884122   \n",
              "1194                                 25.010402   \n",
              "1195                                 25.036609   \n",
              "1196                                 24.969402   \n",
              "\n",
              "      secondary_cleaner.state.floatbank3_b_level  \\\n",
              "644                                  -401.031397   \n",
              "1193                                 -449.365144   \n",
              "1194                                 -421.023904   \n",
              "1195                                 -441.604494   \n",
              "1196                                 -479.404793   \n",
              "\n",
              "      secondary_cleaner.state.floatbank4_a_air  \\\n",
              "644                                  21.991762   \n",
              "1193                                 11.979352   \n",
              "1194                                 12.034636   \n",
              "1195                                 12.016716   \n",
              "1196                                 11.993898   \n",
              "\n",
              "      secondary_cleaner.state.floatbank4_a_level  \\\n",
              "644                                  -399.587122   \n",
              "1193                                 -453.431061   \n",
              "1194                                 -446.590944   \n",
              "1195                                 -496.613149   \n",
              "1196                                 -500.427824   \n",
              "\n",
              "      secondary_cleaner.state.floatbank4_b_air  \\\n",
              "644                                  21.988937   \n",
              "1193                                 12.003445   \n",
              "1194                                 12.130405   \n",
              "1195                                 12.055535   \n",
              "1196                                 12.083824   \n",
              "\n",
              "      secondary_cleaner.state.floatbank4_b_level  \\\n",
              "644                                  -401.366408   \n",
              "1193                                 -450.179844   \n",
              "1194                                 -449.684812   \n",
              "1195                                 -496.908551   \n",
              "1196                                 -500.162537   \n",
              "\n",
              "      secondary_cleaner.state.floatbank5_a_air  \\\n",
              "644                                  22.995012   \n",
              "1193                                 11.982937   \n",
              "1194                                 11.844983   \n",
              "1195                                 12.091144   \n",
              "1196                                 12.078809   \n",
              "\n",
              "      secondary_cleaner.state.floatbank5_a_level  \\\n",
              "644                                  -399.370680   \n",
              "1193                                 -449.856468   \n",
              "1194                                 -450.881424   \n",
              "1195                                 -496.404140   \n",
              "1196                                 -499.903743   \n",
              "\n",
              "      secondary_cleaner.state.floatbank5_b_air  \\\n",
              "644                                  20.966863   \n",
              "1193                                  9.927727   \n",
              "1194                                  9.916784   \n",
              "1195                                  9.976074   \n",
              "1196                                 10.075259   \n",
              "\n",
              "      secondary_cleaner.state.floatbank5_b_level  \\\n",
              "644                                  -399.308354   \n",
              "1193                                 -450.521700   \n",
              "1194                                 -449.542871   \n",
              "1195                                 -496.783155   \n",
              "1196                                 -499.540325   \n",
              "\n",
              "      secondary_cleaner.state.floatbank6_a_air  \\\n",
              "644                                  24.987274   \n",
              "1193                                 19.971682   \n",
              "1194                                 20.004767   \n",
              "1195                                 19.921634   \n",
              "1196                                 20.039788   \n",
              "\n",
              "      secondary_cleaner.state.floatbank6_a_level  \n",
              "644                                  -399.619808  \n",
              "1193                                 -500.685521  \n",
              "1194                                 -500.137068  \n",
              "1195                                 -500.769011  \n",
              "1196                                 -499.932405  "
            ]
          },
          "execution_count": 24,
          "metadata": {},
          "output_type": "execute_result"
        }
      ],
      "source": [
        "data_full[data_full['final.output.concentrate_au'] == 0].head()"
      ]
    },
    {
      "cell_type": "code",
      "execution_count": null,
      "metadata": {
        "scrolled": true,
        "id": "5XrHXVpMSchO",
        "outputId": "9be4c644-13d1-4cc2-dbe3-709273d0e066"
      },
      "outputs": [
        {
          "data": {
            "text/plain": [
              "98"
            ]
          },
          "execution_count": 25,
          "metadata": {},
          "output_type": "execute_result"
        }
      ],
      "source": [
        "data_full.loc[data_full['final.output.concentrate_au'] == 0, 'final.output.concentrate_au'].count()"
      ]
    },
    {
      "cell_type": "markdown",
      "metadata": {
        "id": "URMAC6WqSchO"
      },
      "source": [
        "98 строк с нулевыми концентрациями после окончания очистки золота"
      ]
    },
    {
      "cell_type": "markdown",
      "metadata": {
        "id": "Px5LhI_bSchO"
      },
      "source": [
        "Удалим такие строки с нулевыми концентрациями в процессах output, а также близкими к нулю концентрациями, так как это неправильно и, скорее всего, произошла ошибка при измерениях"
      ]
    },
    {
      "cell_type": "markdown",
      "metadata": {
        "id": "E3cGYoCUSchO"
      },
      "source": [
        "Определим околонулевой порог и удалим строки с концентрациями на выходе менее этого порога"
      ]
    },
    {
      "cell_type": "code",
      "execution_count": null,
      "metadata": {
        "scrolled": true,
        "id": "291GcYlqSchO",
        "outputId": "a46f2a28-016e-4feb-bc2a-7aa72ffbbae1"
      },
      "outputs": [
        {
          "data": {
            "image/png": "[encoded data removed]",
            "text/plain": [
              "<Figure size 720x720 with 1 Axes>"
            ]
          },
          "metadata": {
            "needs_background": "light"
          },
          "output_type": "display_data"
        }
      ],
      "source": [
        "plt.grid()\n",
        "\n",
        "plt.hist(data_full['rougher.output.concentrate_au'], bins=100, label='rougher.output.concentrate_au', alpha=0.5);\n",
        "plt.hist(data_full['primary_cleaner.output.concentrate_au'], bins=100, label='primary_cleaner.output.concentrate_au', alpha=0.5);\n",
        "plt.hist(data_full['final.output.concentrate_au'], bins=100, label='final.output.concentrate_au', alpha=0.5);\n",
        "\n",
        "plt.title('Распределение концетраций золота на output процессах')\n",
        "plt.xlabel('Концентрация %')\n",
        "plt.ylabel('Количество измерений')\n",
        "plt.legend(loc='upper left');"
      ]
    },
    {
      "cell_type": "markdown",
      "metadata": {
        "id": "XJZvwKaqSchO"
      },
      "source": [
        "Исходя из распределения - возьмем в качестве порога для золота в процессах output значение в 1%"
      ]
    },
    {
      "cell_type": "markdown",
      "metadata": {
        "id": "sTIof1FUSchP"
      },
      "source": [
        "Выполним фильтрацию данных (исключение аномалий для Au):"
      ]
    },
    {
      "cell_type": "code",
      "execution_count": null,
      "metadata": {
        "id": "CPPk8gwPSchP"
      },
      "outputs": [],
      "source": [
        "#пороговая минимальныя концентрация золота\n",
        "thrs_au = 1\n",
        "\n",
        "col_au = ['rougher.output.concentrate_au',\n",
        "          'primary_cleaner.output.concentrate_au',\n",
        "          'final.output.concentrate_au']\n",
        "for col in col_au:\n",
        "    data_train = data_train[data_train[col] > thrs_au]\n",
        "    data_full = data_full[data_full[col] > thrs_au]"
      ]
    },
    {
      "cell_type": "code",
      "execution_count": null,
      "metadata": {
        "scrolled": false,
        "id": "40VHOpzDSchP",
        "outputId": "8ea74fbd-51a8-41b8-d192-93421ce840c2"
      },
      "outputs": [
        {
          "data": {
            "image/png": "[encoded data removed]",
            "text/plain": [
              "<Figure size 720x720 with 1 Axes>"
            ]
          },
          "metadata": {
            "needs_background": "light"
          },
          "output_type": "display_data"
        }
      ],
      "source": [
        "#проверка, что аномальные концентрации исключены\n",
        "plt.grid()\n",
        "\n",
        "plt.hist(data_full['rougher.input.feed_au'], bins=100, label='rougher.input.feed_au', alpha=0.5);\n",
        "plt.hist(data_full['rougher.output.concentrate_au'], bins=100, label='rougher.output.concentrate_au', alpha=0.5);\n",
        "plt.hist(data_full['primary_cleaner.output.concentrate_au'], bins=100, label='primary_cleaner.output.concentrate_au', alpha=0.5);\n",
        "plt.hist(data_full['final.output.concentrate_au'], bins=100, label='final.output.concentrate_au', alpha=0.5);\n",
        "\n",
        "plt.title('Распределение концетраций золота на output процессах')\n",
        "plt.xlabel('Концентрация %')\n",
        "plt.ylabel('Количество измерений')\n",
        "plt.legend(loc='upper left');"
      ]
    },
    {
      "cell_type": "markdown",
      "metadata": {
        "id": "zaw6D4C4SchP"
      },
      "source": [
        "Аналогично этапу с фильтрацией аномальных значений по золоту - посмотрим аномалии для свинца и серебра."
      ]
    },
    {
      "cell_type": "code",
      "execution_count": null,
      "metadata": {
        "scrolled": false,
        "id": "ukYstyYgSchP",
        "outputId": "dfab687b-6aea-469e-94fb-70e8c7f8bccb"
      },
      "outputs": [
        {
          "data": {
            "image/png": "[encoded data removed]",
            "text/plain": [
              "<Figure size 720x720 with 1 Axes>"
            ]
          },
          "metadata": {
            "needs_background": "light"
          },
          "output_type": "display_data"
        }
      ],
      "source": [
        "plt.grid()\n",
        "\n",
        "plt.hist(data_full['rougher.output.concentrate_ag'], bins=100, label='rougher.output.concentrate_ag', alpha=0.5);\n",
        "plt.hist(data_full['primary_cleaner.output.concentrate_ag'], bins=100, label='primary_cleaner.output.concentrate_ag', alpha=0.5);\n",
        "plt.hist(data_full['final.output.concentrate_ag'], bins=100, label='final.output.concentrate_ag', alpha=0.5);\n",
        "\n",
        "plt.title('Распределение концетраций Ag на output процессах')\n",
        "plt.xlabel('Концентрация %')\n",
        "plt.ylabel('Количество измерений')\n",
        "plt.legend(loc='upper left');"
      ]
    },
    {
      "cell_type": "markdown",
      "metadata": {
        "id": "_4YlOIO5SchQ"
      },
      "source": [
        "Каких-то аномальных всплесков в выходных концетрациях серебра не обнаружено"
      ]
    },
    {
      "cell_type": "code",
      "execution_count": null,
      "metadata": {
        "scrolled": false,
        "id": "q6d0SITjSchQ",
        "outputId": "dbd943c2-4b98-4df3-e9ff-672cc62902fa"
      },
      "outputs": [
        {
          "data": {
            "image/png": "[encoded data removed]",
            "text/plain": [
              "<Figure size 720x720 with 1 Axes>"
            ]
          },
          "metadata": {
            "needs_background": "light"
          },
          "output_type": "display_data"
        }
      ],
      "source": [
        "plt.grid()\n",
        "\n",
        "plt.hist(data_full['rougher.output.concentrate_pb'], bins=100, label='rougher.output.concentrate_pb', alpha=0.5);\n",
        "plt.hist(data_full['primary_cleaner.output.concentrate_pb'], bins=100, label='primary_cleaner.output.concentrate_pb', alpha=0.5);\n",
        "plt.hist(data_full['final.output.concentrate_pb'], bins=100, label='final.output.concentrate_pb', alpha=0.5);\n",
        "\n",
        "plt.title('Распределение концетраций Pb на output процессах')\n",
        "plt.xlabel('Концентрация %')\n",
        "plt.ylabel('Количество измерений')\n",
        "plt.legend(loc='upper left');"
      ]
    },
    {
      "cell_type": "markdown",
      "metadata": {
        "id": "w6ReLDqDSchQ"
      },
      "source": [
        "Каких-то аномальных всплесков в выходных концетрациях Pb не обнаружено"
      ]
    },
    {
      "cell_type": "code",
      "execution_count": null,
      "metadata": {
        "scrolled": false,
        "id": "LbzrW2ysSchQ",
        "outputId": "b3d02f33-eb3d-486d-a680-b881da726a81"
      },
      "outputs": [
        {
          "data": {
            "image/png": "[encoded data removed]",
            "text/plain": [
              "<Figure size 720x720 with 1 Axes>"
            ]
          },
          "metadata": {
            "needs_background": "light"
          },
          "output_type": "display_data"
        }
      ],
      "source": [
        "plt.grid()\n",
        "\n",
        "plt.hist(data_full['rougher.output.concentrate_sol'], bins=100, label='rougher.output.concentrate_sol', alpha=0.5);\n",
        "plt.hist(data_full['primary_cleaner.output.concentrate_sol'], bins=100, label='primary_cleaner.output.concentrate_sol', alpha=0.5);\n",
        "plt.hist(data_full['final.output.concentrate_sol'], bins=100, label='final.output.concentrate_sol', alpha=0.5);\n",
        "\n",
        "plt.title('Распределение концетраций Sol на output процессах')\n",
        "plt.xlabel('Концентрация %')\n",
        "plt.ylabel('Количество измерений')\n",
        "plt.legend(loc='upper left');"
      ]
    },
    {
      "cell_type": "markdown",
      "metadata": {
        "id": "OrRpsYBpSchQ"
      },
      "source": [
        "Также аномалий не выявлено"
      ]
    },
    {
      "cell_type": "markdown",
      "metadata": {
        "id": "f4lF20OQSchQ"
      },
      "source": [
        "Вывод - строки с ошибочно малыми концентрациями на выходе процессов удалены. Данные готовы к анализу и к обучению моделей"
      ]
    },
    {
      "cell_type": "markdown",
      "metadata": {
        "id": "PsU--FOySchQ"
      },
      "source": [
        "## Анализ данных"
      ]
    },
    {
      "cell_type": "markdown",
      "metadata": {
        "id": "qgO4WhN5SchQ"
      },
      "source": [
        "### Изменение концентрации металлов (Au, Ag, Pb) на различных этапах очистки. "
      ]
    },
    {
      "cell_type": "markdown",
      "metadata": {
        "id": "E8gVnqgKSchQ"
      },
      "source": [
        "Посмотрим изменение концентрации золота на разных этапах:"
      ]
    },
    {
      "cell_type": "code",
      "execution_count": null,
      "metadata": {
        "scrolled": false,
        "id": "YCAs1_SqSchR",
        "outputId": "7ce7d1ff-b098-4e30-8ddd-35b338f615ff"
      },
      "outputs": [
        {
          "data": {
            "image/png": "[encoded data removed]",
            "text/plain": [
              "<Figure size 720x720 with 1 Axes>"
            ]
          },
          "metadata": {
            "needs_background": "light"
          },
          "output_type": "display_data"
        }
      ],
      "source": [
        "plt.grid()\n",
        "\n",
        "plt.hist(data_full['rougher.input.feed_au'], bins=100, label='rougher.input.feed_au', alpha=0.5);\n",
        "plt.hist(data_full['rougher.output.concentrate_au'], bins=100, label='rougher.output.concentrate_au', alpha=0.5);\n",
        "plt.hist(data_full['primary_cleaner.output.concentrate_au'], bins=100, label='primary_cleaner.output.concentrate_au', alpha=0.5);\n",
        "plt.hist(data_full['final.output.concentrate_au'], bins=100, label='final.output.concentrate_au', alpha=0.5);\n",
        "\n",
        "plt.title('Распределение концетраций золота на output процессах')\n",
        "plt.xlabel('Концентрация %')\n",
        "plt.ylabel('Количество измерений')\n",
        "plt.legend(loc='upper left');"
      ]
    },
    {
      "cell_type": "markdown",
      "metadata": {
        "id": "f51G8wCXSchR"
      },
      "source": [
        "Посмотрим изменение концентрации серебра на разных этапах:"
      ]
    },
    {
      "cell_type": "code",
      "execution_count": null,
      "metadata": {
        "scrolled": false,
        "id": "0CoyIj8LSchR",
        "outputId": "d50469e6-f3af-408e-9fcd-95f1b330c6b9"
      },
      "outputs": [
        {
          "data": {
            "image/png": "[encoded data removed]",
            "text/plain": [
              "<Figure size 720x720 with 1 Axes>"
            ]
          },
          "metadata": {
            "needs_background": "light"
          },
          "output_type": "display_data"
        }
      ],
      "source": [
        "plt.grid()\n",
        "\n",
        "plt.hist(data_full['rougher.input.feed_ag'], bins=100, label='rougher.input.feed_ag', alpha=0.5);\n",
        "plt.hist(data_full['rougher.output.concentrate_ag'], bins=100, label='rougher.output.concentrate_ag', alpha=0.5);\n",
        "plt.hist(data_full['primary_cleaner.output.concentrate_ag'], bins=100, label='primary_cleaner.output.concentrate_ag', alpha=0.5);\n",
        "plt.hist(data_full['final.output.concentrate_ag'], bins=100, label='final.output.concentrate_ag', alpha=0.5);\n",
        "\n",
        "plt.title('Распределение концетраций Ag на output процессах')\n",
        "plt.xlabel('Концентрация %')\n",
        "plt.ylabel('Количество измерений')\n",
        "plt.legend(loc='upper left');"
      ]
    },
    {
      "cell_type": "markdown",
      "metadata": {
        "id": "71Yfez5sSchR"
      },
      "source": [
        "Посмотрим изменение концентрации свинца на разных этапах:"
      ]
    },
    {
      "cell_type": "code",
      "execution_count": null,
      "metadata": {
        "id": "g5X0wAYySchR",
        "outputId": "875b925d-4829-4c39-ff5d-58ee13b63520"
      },
      "outputs": [
        {
          "data": {
            "image/png": "[encoded data removed]",
            "text/plain": [
              "<Figure size 720x720 with 1 Axes>"
            ]
          },
          "metadata": {
            "needs_background": "light"
          },
          "output_type": "display_data"
        }
      ],
      "source": [
        "plt.grid()\n",
        "\n",
        "plt.hist(data_full['rougher.input.feed_pb'], bins=100, label='rougher.input.feed_pb', alpha=0.5);\n",
        "plt.hist(data_full['rougher.output.concentrate_pb'], bins=100, label='rougher.output.concentrate_pb', alpha=0.5);\n",
        "plt.hist(data_full['primary_cleaner.output.concentrate_pb'], bins=100, label='primary_cleaner.output.concentrate_pb', alpha=0.5);\n",
        "plt.hist(data_full['final.output.concentrate_pb'], bins=100, label='final.output.concentrate_pb', alpha=0.5);\n",
        "\n",
        "plt.title('Распределение концетраций Pb на output процессах')\n",
        "plt.xlabel('Концентрация %')\n",
        "plt.ylabel('Количество измерений')\n",
        "plt.legend(loc='upper left');"
      ]
    },
    {
      "cell_type": "markdown",
      "metadata": {
        "id": "cB7a9wwwSchR"
      },
      "source": [
        "Посмотрим изменение средней концентрации каждого металла (Au, Ag, Pb) на каждом этапе очистки и затем построим график"
      ]
    },
    {
      "cell_type": "code",
      "execution_count": null,
      "metadata": {
        "id": "L_dO7LSeSchR"
      },
      "outputs": [],
      "source": [
        "concentrate_ag = data_full[['rougher.input.feed_ag',\n",
        "                            'rougher.output.concentrate_ag',\n",
        "                            'primary_cleaner.output.concentrate_ag',\n",
        "                            'final.output.concentrate_ag']].mean()\n",
        "\n",
        "concentrate_pb = data_full[['rougher.input.feed_pb',\n",
        "                            'rougher.output.concentrate_pb',\n",
        "                            'primary_cleaner.output.concentrate_pb',\n",
        "                            'final.output.concentrate_pb']].mean()\n",
        "\n",
        "concentrate_au = data_full[['rougher.input.feed_au',\n",
        "                            'rougher.output.concentrate_au',\n",
        "                            'primary_cleaner.output.concentrate_au',\n",
        "                            'final.output.concentrate_au']].mean()"
      ]
    },
    {
      "cell_type": "code",
      "execution_count": null,
      "metadata": {
        "id": "EEgOBhWcSchR",
        "outputId": "3f1f5926-b128-4b4a-99ef-2cd96a5df92b"
      },
      "outputs": [
        {
          "data": {
            "image/png": "[encoded data removed]",
            "text/plain": [
              "<Figure size 1080x360 with 1 Axes>"
            ]
          },
          "metadata": {
            "needs_background": "light"
          },
          "output_type": "display_data"
        }
      ],
      "source": [
        "concentrate_au.plot(title='КОНЦЕНТРАЦИЯ ЗОЛОТА', style='x-', grid=True, figsize=(15, 5))\n",
        "plt.ylabel('Концентрация %', fontsize=14)\n",
        "plt.xlabel('Стадия', fontsize=14);"
      ]
    },
    {
      "cell_type": "code",
      "execution_count": null,
      "metadata": {
        "scrolled": true,
        "id": "UZMqKQeYSchR",
        "outputId": "c7ca34b4-0986-4d9d-eec7-5e5399dfcb8e"
      },
      "outputs": [
        {
          "data": {
            "image/png": "[encoded data removed]",
            "text/plain": [
              "<Figure size 1080x360 with 1 Axes>"
            ]
          },
          "metadata": {
            "needs_background": "light"
          },
          "output_type": "display_data"
        }
      ],
      "source": [
        "concentrate_ag.plot(title='КОНЦЕНТРАЦИЯ СЕРЕБРА', style='x-', grid=True, figsize=(15, 5))\n",
        "plt.ylabel('Концентрация %', fontsize=14)\n",
        "plt.xlabel('Стадия', fontsize=14);"
      ]
    },
    {
      "cell_type": "code",
      "execution_count": null,
      "metadata": {
        "scrolled": true,
        "id": "kdnsIAxPSchR",
        "outputId": "017184cf-b5fe-4750-e591-d373d3ac5e5c"
      },
      "outputs": [
        {
          "data": {
            "image/png": "[encoded data removed]",
            "text/plain": [
              "<Figure size 1080x360 with 1 Axes>"
            ]
          },
          "metadata": {
            "needs_background": "light"
          },
          "output_type": "display_data"
        }
      ],
      "source": [
        "concentrate_pb.plot(title='КОНЦЕНТРАЦИЯ СВИНЦА', style='x-', grid=True, figsize=(15, 5))\n",
        "plt.ylabel('Концентрация %', fontsize=14)\n",
        "plt.xlabel('Стадия', fontsize=14);"
      ]
    },
    {
      "cell_type": "markdown",
      "metadata": {
        "id": "J70ziYdGSchS"
      },
      "source": [
        "Вывод: концентрация золота растет от этапа к этапу (рост практически в 10 раз) - значит технологически процесс очистки идет корректно"
      ]
    },
    {
      "cell_type": "markdown",
      "metadata": {
        "id": "w5356BiZSchS"
      },
      "source": [
        "### Сравнение распределения размеров гранул сырья на обучающей и тестовой выборках"
      ]
    },
    {
      "cell_type": "markdown",
      "metadata": {
        "id": "gwN3EXLGSchS"
      },
      "source": [
        "Сравните распределения размеров гранул сырья на обучающей и тестовой выборках. Если распределения сильно отличаются друг от друга, оценка модели будет неправильной."
      ]
    },
    {
      "cell_type": "markdown",
      "metadata": {
        "id": "hBpG2ZXkSchS"
      },
      "source": [
        "На входе в процесс флотации:"
      ]
    },
    {
      "cell_type": "code",
      "execution_count": null,
      "metadata": {
        "scrolled": true,
        "id": "TpqT7-ZhSchS",
        "outputId": "ea4ab423-c98d-42ac-bbda-b368e4d398d5"
      },
      "outputs": [
        {
          "data": {
            "text/plain": [
              "count    13595.000000\n",
              "mean        60.228763\n",
              "std         23.183343\n",
              "min          9.659576\n",
              "25%         48.982107\n",
              "50%         55.266248\n",
              "75%         65.844767\n",
              "max        484.967466\n",
              "Name: rougher.input.feed_size, dtype: float64"
            ]
          },
          "execution_count": 39,
          "metadata": {},
          "output_type": "execute_result"
        }
      ],
      "source": [
        "data_train['rougher.input.feed_size'].describe()"
      ]
    },
    {
      "cell_type": "code",
      "execution_count": null,
      "metadata": {
        "id": "B_trbrR-SchS",
        "outputId": "4d54c509-f795-454f-ce10-067c932f472e"
      },
      "outputs": [
        {
          "data": {
            "text/plain": [
              "count    5290.000000\n",
              "mean       55.952754\n",
              "std        19.080334\n",
              "min         0.046369\n",
              "25%        43.906504\n",
              "50%        50.846843\n",
              "75%        62.451165\n",
              "max       392.494040\n",
              "Name: rougher.input.feed_size, dtype: float64"
            ]
          },
          "execution_count": 40,
          "metadata": {},
          "output_type": "execute_result"
        }
      ],
      "source": [
        "data_test['rougher.input.feed_size'].describe()"
      ]
    },
    {
      "cell_type": "code",
      "execution_count": null,
      "metadata": {
        "scrolled": false,
        "id": "TN6Y99IkSchS",
        "outputId": "0cc51fc4-c0fd-4423-946b-3aef5940575b"
      },
      "outputs": [
        {
          "data": {
            "image/png": "[encoded data removed]",
            "text/plain": [
              "<Figure size 720x720 with 1 Axes>"
            ]
          },
          "metadata": {
            "needs_background": "light"
          },
          "output_type": "display_data"
        }
      ],
      "source": [
        "plt.grid()\n",
        "\n",
        "sns.kdeplot(data_train['rougher.input.feed_size']);\n",
        "sns.kdeplot(data_test['rougher.input.feed_size']);\n",
        "\n",
        "plt.title('Сравнение распределения размеров гранул сырья (rougher.input.feed_size) на обучающей и тестовой выборках')\n",
        "plt.xlabel('Размер гранул')\n",
        "plt.ylabel('Плотность распределения');"
      ]
    },
    {
      "cell_type": "markdown",
      "metadata": {
        "id": "93cdUXP3SchT"
      },
      "source": [
        "Исследуем распределение на этапе primary_cleaner.input.feed_size"
      ]
    },
    {
      "cell_type": "code",
      "execution_count": null,
      "metadata": {
        "id": "SEsUPLeaSchT",
        "outputId": "d4bbfa81-1499-44d0-8c84-5389a3f652f4"
      },
      "outputs": [
        {
          "data": {
            "text/plain": [
              "count    13595.000000\n",
              "mean         7.328889\n",
              "std          0.614927\n",
              "min          1.080000\n",
              "25%          6.970000\n",
              "50%          7.300000\n",
              "75%          7.700000\n",
              "max         10.470000\n",
              "Name: primary_cleaner.input.feed_size, dtype: float64"
            ]
          },
          "execution_count": 42,
          "metadata": {},
          "output_type": "execute_result"
        }
      ],
      "source": [
        "data_train['primary_cleaner.input.feed_size'].describe()"
      ]
    },
    {
      "cell_type": "code",
      "execution_count": null,
      "metadata": {
        "scrolled": true,
        "id": "-iPiHM5nSchT",
        "outputId": "db40acc5-167d-4ace-aecb-339af809f385"
      },
      "outputs": [
        {
          "data": {
            "text/plain": [
              "count    5290.000000\n",
              "mean        7.266339\n",
              "std         0.610219\n",
              "min         5.650000\n",
              "25%         6.890000\n",
              "50%         7.250000\n",
              "75%         7.600000\n",
              "max        15.500000\n",
              "Name: primary_cleaner.input.feed_size, dtype: float64"
            ]
          },
          "execution_count": 43,
          "metadata": {},
          "output_type": "execute_result"
        }
      ],
      "source": [
        "data_test['primary_cleaner.input.feed_size'].describe()"
      ]
    },
    {
      "cell_type": "code",
      "execution_count": null,
      "metadata": {
        "id": "1QS8SsH1SchT",
        "outputId": "be0b14d2-38a4-4685-d1ed-92335b1b8e05"
      },
      "outputs": [
        {
          "data": {
            "image/png": "[encoded data removed]",
            "text/plain": [
              "<Figure size 720x720 with 1 Axes>"
            ]
          },
          "metadata": {
            "needs_background": "light"
          },
          "output_type": "display_data"
        }
      ],
      "source": [
        "plt.grid()\n",
        "\n",
        "sns.kdeplot(data_train['primary_cleaner.input.feed_size']);\n",
        "sns.kdeplot(data_test['primary_cleaner.input.feed_size']);\n",
        "\n",
        "plt.title('Сравнение распределения размеров гранул сырья (primary_cleaner.input.feed_size) на обучающей и тестовой выборках')\n",
        "plt.xlabel('Размер гранул')\n",
        "plt.ylabel('Плотность распределения');"
      ]
    },
    {
      "cell_type": "markdown",
      "metadata": {
        "id": "E_06h9q-SchT"
      },
      "source": [
        "Вывод:\n",
        "\n",
        "Опираясь на гистрограммы, а также квантили и средние видим, что распределения размеров гранул сырья на обучающей и тестовой выборках (этапы rougher.input.feed_size и primary_cleaner.input.feed_size) достаточно похожи, следовательно модель будет корректно работать. "
      ]
    },
    {
      "cell_type": "markdown",
      "metadata": {
        "id": "7Ms_xOS6SchT"
      },
      "source": [
        "### Исследование суммарной концентрации всех веществ на разных стадиях: в сырье, в черновом и финальном концентратах. "
      ]
    },
    {
      "cell_type": "markdown",
      "metadata": {
        "id": "nlA3SE6cSchT"
      },
      "source": [
        "Исследуйте суммарную концентрацию всех веществ на разных стадиях: в сырье, в черновом и финальном концентратах. "
      ]
    },
    {
      "cell_type": "code",
      "execution_count": null,
      "metadata": {
        "id": "RydYVgxfSchT"
      },
      "outputs": [],
      "source": [
        "concentrate = pd.DataFrame()\n",
        "\n",
        "concentrate['input_concentrate_sum'] = data_full[['rougher.input.feed_ag',\n",
        "                                                  'rougher.input.feed_pb',\n",
        "                                                  'rougher.input.feed_sol',\n",
        "                                                  'rougher.input.feed_au']].sum(axis=1)\n",
        "\n",
        "concentrate['rougher_concentrate_sum'] = data_full[['rougher.output.concentrate_ag',\n",
        "                                                    'rougher.output.concentrate_pb',\n",
        "                                                    'rougher.output.concentrate_sol',\n",
        "                                                    'rougher.output.concentrate_au']].sum(axis=1)\n",
        "\n",
        "concentrate['final_concentrate_sum'] = data_full[['final.output.concentrate_ag',\n",
        "                                                  'final.output.concentrate_pb',\n",
        "                                                  'final.output.concentrate_sol',\n",
        "                                                  'final.output.concentrate_au']].sum(axis=1)"
      ]
    },
    {
      "cell_type": "code",
      "execution_count": null,
      "metadata": {
        "scrolled": true,
        "id": "xQhZFPYaSchU",
        "outputId": "98d766af-1f35-4aa9-8320-e78fed0b1c48"
      },
      "outputs": [
        {
          "data": {
            "text/html": [
              "<div>\n",
              "<style scoped>\n",
              "    .dataframe tbody tr th:only-of-type {\n",
              "        vertical-align: middle;\n",
              "    }\n",
              "\n",
              "    .dataframe tbody tr th {\n",
              "        vertical-align: top;\n",
              "    }\n",
              "\n",
              "    .dataframe thead th {\n",
              "        text-align: right;\n",
              "    }\n",
              "</style>\n",
              "<table border=\"1\" class=\"dataframe\">\n",
              "  <thead>\n",
              "    <tr style=\"text-align: right;\">\n",
              "      <th></th>\n",
              "      <th>input_concentrate_sum</th>\n",
              "      <th>rougher_concentrate_sum</th>\n",
              "      <th>final_concentrate_sum</th>\n",
              "    </tr>\n",
              "  </thead>\n",
              "  <tbody>\n",
              "    <tr>\n",
              "      <th>count</th>\n",
              "      <td>18716.000000</td>\n",
              "      <td>18716.000000</td>\n",
              "      <td>18716.000000</td>\n",
              "    </tr>\n",
              "    <tr>\n",
              "      <th>mean</th>\n",
              "      <td>57.354077</td>\n",
              "      <td>69.636886</td>\n",
              "      <td>69.042080</td>\n",
              "    </tr>\n",
              "    <tr>\n",
              "      <th>std</th>\n",
              "      <td>7.078520</td>\n",
              "      <td>7.635810</td>\n",
              "      <td>5.426247</td>\n",
              "    </tr>\n",
              "    <tr>\n",
              "      <th>min</th>\n",
              "      <td>8.072476</td>\n",
              "      <td>5.577864</td>\n",
              "      <td>1.976540</td>\n",
              "    </tr>\n",
              "    <tr>\n",
              "      <th>25%</th>\n",
              "      <td>53.553459</td>\n",
              "      <td>66.390557</td>\n",
              "      <td>67.946259</td>\n",
              "    </tr>\n",
              "    <tr>\n",
              "      <th>50%</th>\n",
              "      <td>57.600880</td>\n",
              "      <td>70.345915</td>\n",
              "      <td>69.609638</td>\n",
              "    </tr>\n",
              "    <tr>\n",
              "      <th>75%</th>\n",
              "      <td>61.956041</td>\n",
              "      <td>74.460112</td>\n",
              "      <td>71.388876</td>\n",
              "    </tr>\n",
              "    <tr>\n",
              "      <th>max</th>\n",
              "      <td>76.978947</td>\n",
              "      <td>88.140119</td>\n",
              "      <td>80.210644</td>\n",
              "    </tr>\n",
              "  </tbody>\n",
              "</table>\n",
              "</div>"
            ],
            "text/plain": [
              "       input_concentrate_sum  rougher_concentrate_sum  final_concentrate_sum\n",
              "count           18716.000000             18716.000000           18716.000000\n",
              "mean               57.354077                69.636886              69.042080\n",
              "std                 7.078520                 7.635810               5.426247\n",
              "min                 8.072476                 5.577864               1.976540\n",
              "25%                53.553459                66.390557              67.946259\n",
              "50%                57.600880                70.345915              69.609638\n",
              "75%                61.956041                74.460112              71.388876\n",
              "max                76.978947                88.140119              80.210644"
            ]
          },
          "execution_count": 46,
          "metadata": {},
          "output_type": "execute_result"
        }
      ],
      "source": [
        "concentrate.describe()"
      ]
    },
    {
      "cell_type": "code",
      "execution_count": null,
      "metadata": {
        "scrolled": false,
        "id": "7foyouJdSchU",
        "outputId": "9e2a8f08-3074-4226-d484-a9bfe1843856"
      },
      "outputs": [
        {
          "data": {
            "image/png": "[encoded data removed]",
            "text/plain": [
              "<Figure size 1080x504 with 1 Axes>"
            ]
          },
          "metadata": {
            "needs_background": "light"
          },
          "output_type": "display_data"
        }
      ],
      "source": [
        "plt.figure(figsize=(15,7))\n",
        "plt.grid()\n",
        "\n",
        "plt.hist(concentrate['input_concentrate_sum'], alpha=0.5, bins=100, label='input_concentrate_sum', range=(10,100));\n",
        "plt.hist(concentrate['rougher_concentrate_sum'], alpha=0.5, bins=100, label='rougher_concentrate_sum', range=(10,100));\n",
        "plt.hist(concentrate['final_concentrate_sum'], alpha=0.5, bins=100, label='final_concentrate_sum', range=(10,100))\n",
        "\n",
        "plt.title('Суммарная концентрация всех веществ на разных стадиях')\n",
        "plt.xlabel('Концентрация %')\n",
        "plt.ylabel('Количество')\n",
        "plt.legend(loc='upper left')\n",
        "\n",
        "plt.show();"
      ]
    },
    {
      "cell_type": "markdown",
      "metadata": {
        "id": "V8Yk6ww0SchU"
      },
      "source": [
        "Вывод:\n",
        "\n",
        "При сравнении гистограмм суммарной концентрации веществ хорошо видно что среднее значение, вокруг которого распределена концентрация, смещается вправо, т.е. увеличивается, а на последнем этапе очистки уменьшается разброс значений (уменьшается среднекрвадратичное отклонение)."
      ]
    },
    {
      "cell_type": "markdown",
      "metadata": {
        "id": "hbZM_eStSchU"
      },
      "source": [
        "Вывод по разделу анализ данных:\n",
        "    \n",
        "- в процессе очистки концентрация золота растет от процесса к процессу (рост концетрации золота составляет практически х10)\n",
        "- размеры гранул в тестовых и обучающих выборках схожи, что позволит мдели работать корректно\n",
        "- суммарная концетнтрация веществ растет, значит технологически процесс очистки выстроен корректно"
      ]
    },
    {
      "cell_type": "markdown",
      "metadata": {
        "id": "XC2IRe_bSchU"
      },
      "source": [
        "## Модель"
      ]
    },
    {
      "cell_type": "markdown",
      "metadata": {
        "id": "3fe4KIRJSchU"
      },
      "source": [
        "### Функция sMAPE"
      ]
    },
    {
      "cell_type": "code",
      "execution_count": null,
      "metadata": {
        "id": "BTblK5NySchU"
      },
      "outputs": [],
      "source": [
        "# напишем базовую функцию s_mape_base\n",
        "def s_mape_base(target, predicted):\n",
        "    s_mape_base = abs(target-predicted) / ((abs(target)+abs(predicted))/2)\n",
        "    return 100 * s_mape_base.sum() / len(target)"
      ]
    },
    {
      "cell_type": "code",
      "execution_count": null,
      "metadata": {
        "id": "OHT1fC9vSchU"
      },
      "outputs": [],
      "source": [
        "# напишем основную функцию s_mape, которую затем будем использовать в метриках моделей\n",
        "def s_mape(target, predicted):\n",
        "    predicted_rougher_recovery = predicted[:,0]\n",
        "    predicted_final_recovery = predicted[:,1]\n",
        "    target_rougher_recovery = np.array(target)[:,0]\n",
        "    target_final_recovery = np.array(target)[:,1]\n",
        "        \n",
        "    sMAPE_rougher = s_mape_base(target_rougher_recovery, predicted_rougher_recovery)\n",
        "    \n",
        "    sMAPE_final = s_mape_base(target_final_recovery, predicted_final_recovery)\n",
        "    \n",
        "    sMAPE = 0.25*sMAPE_rougher + sMAPE_final*0.75\n",
        "    \n",
        "    return sMAPE"
      ]
    },
    {
      "cell_type": "markdown",
      "metadata": {
        "id": "5ZAUdO82SchV"
      },
      "source": [
        "<div class=\"alert alert-success\">\n",
        "<h2> Комментарий ревьюера <a class=\"tocSkip\"> </h2>\n",
        "\n",
        "<b>Все отлично!👍:</b> Есть функция для оценки `sMAPE`."
      ]
    },
    {
      "cell_type": "markdown",
      "metadata": {
        "id": "1Rj2hK6fSchV"
      },
      "source": [
        "<div class=\"alert alert-warning\">\n",
        "    <h2> Комментарий ревьюера <a class=\"tocSkip\"> </h2>\n",
        "\n",
        "<b>Некоторые замечания и рекомендации⚠️:</b> \n",
        "\n",
        "Сам расчёт метрики дублируется дважды - можно вынести его в функцию для лаконичности кода и более простого масштабирования."
      ]
    },
    {
      "cell_type": "markdown",
      "metadata": {
        "id": "65BHvvujSchV"
      },
      "source": [
        "<div class=\"alert alert-info\">\n",
        "<b>Комментарий студента: v1</b>\n",
        "<br> Сделано (вынесено в отдельную функцию)\n",
        "</div> "
      ]
    },
    {
      "cell_type": "markdown",
      "metadata": {
        "id": "z5QHg1Y-SchV"
      },
      "source": [
        "<div class=\"alert alert-success\">\n",
        "<h2> Комментарий ревьюера v.2 <a class=\"tocSkip\"> </h2>\n",
        "\n",
        "<b>Все отлично!👍:</b> Учтено."
      ]
    },
    {
      "cell_type": "markdown",
      "metadata": {
        "id": "jpCFXqbDSchV"
      },
      "source": [
        "### Обучение моделей"
      ]
    },
    {
      "cell_type": "markdown",
      "metadata": {
        "id": "UqDzkB4CSchV"
      },
      "source": [
        "Получим таргеты и признаки из обучающей выборки data_train"
      ]
    },
    {
      "cell_type": "code",
      "execution_count": null,
      "metadata": {
        "id": "dCvsI1jKSchV"
      },
      "outputs": [],
      "source": [
        "target_train = data_train[['rougher.output.recovery', 'final.output.recovery']]\n",
        "#features = data_train.drop(['date', 'rougher.output.recovery', 'final.output.recovery'], axis=1)\n",
        "\n",
        "features_train = data_train.drop(['date'], axis=1)\n",
        "\n",
        "#удалим столбцы, которых нет в тестовом датасете\n",
        "features_train = features_train.drop(columns_not_in_test, axis=1)"
      ]
    },
    {
      "cell_type": "markdown",
      "metadata": {
        "id": "OtB8TkpnSchV"
      },
      "source": [
        "#### Дерево решений"
      ]
    },
    {
      "cell_type": "code",
      "execution_count": null,
      "metadata": {
        "scrolled": true,
        "id": "S5HxnSG1SchW",
        "outputId": "1a30b323-63bf-4843-dbe6-464b8090b3f1"
      },
      "outputs": [
        {
          "name": "stdout",
          "output_type": "stream",
          "text": [
            "Fitting 3 folds for each of 10 candidates, totalling 30 fits\n",
            "[CV 1/3; 1/10] START max_depth=1................................................\n",
            "[CV 1/3; 1/10] END ..............................max_depth=1; total time=   0.1s\n",
            "[CV 2/3; 1/10] START max_depth=1................................................\n",
            "[CV 2/3; 1/10] END ..............................max_depth=1; total time=   0.1s\n",
            "[CV 3/3; 1/10] START max_depth=1................................................\n",
            "[CV 3/3; 1/10] END ..............................max_depth=1; total time=   0.1s\n",
            "[CV 1/3; 2/10] START max_depth=2................................................\n",
            "[CV 1/3; 2/10] END ..............................max_depth=2; total time=   0.1s\n",
            "[CV 2/3; 2/10] START max_depth=2................................................\n",
            "[CV 2/3; 2/10] END ..............................max_depth=2; total time=   0.1s\n",
            "[CV 3/3; 2/10] START max_depth=2................................................\n",
            "[CV 3/3; 2/10] END ..............................max_depth=2; total time=   0.1s\n",
            "[CV 1/3; 3/10] START max_depth=3................................................\n",
            "[CV 1/3; 3/10] END ..............................max_depth=3; total time=   0.2s\n",
            "[CV 2/3; 3/10] START max_depth=3................................................\n",
            "[CV 2/3; 3/10] END ..............................max_depth=3; total time=   0.1s\n",
            "[CV 3/3; 3/10] START max_depth=3................................................\n",
            "[CV 3/3; 3/10] END ..............................max_depth=3; total time=   0.2s\n",
            "[CV 1/3; 4/10] START max_depth=4................................................\n",
            "[CV 1/3; 4/10] END ..............................max_depth=4; total time=   0.2s\n",
            "[CV 2/3; 4/10] START max_depth=4................................................\n",
            "[CV 2/3; 4/10] END ..............................max_depth=4; total time=   0.2s\n",
            "[CV 3/3; 4/10] START max_depth=4................................................\n",
            "[CV 3/3; 4/10] END ..............................max_depth=4; total time=   0.2s\n",
            "[CV 1/3; 5/10] START max_depth=5................................................\n",
            "[CV 1/3; 5/10] END ..............................max_depth=5; total time=   0.3s\n",
            "[CV 2/3; 5/10] START max_depth=5................................................\n",
            "[CV 2/3; 5/10] END ..............................max_depth=5; total time=   0.3s\n",
            "[CV 3/3; 5/10] START max_depth=5................................................\n",
            "[CV 3/3; 5/10] END ..............................max_depth=5; total time=   0.3s\n",
            "[CV 1/3; 6/10] START max_depth=6................................................\n",
            "[CV 1/3; 6/10] END ..............................max_depth=6; total time=   0.3s\n",
            "[CV 2/3; 6/10] START max_depth=6................................................\n",
            "[CV 2/3; 6/10] END ..............................max_depth=6; total time=   0.3s\n",
            "[CV 3/3; 6/10] START max_depth=6................................................\n",
            "[CV 3/3; 6/10] END ..............................max_depth=6; total time=   0.3s\n",
            "[CV 1/3; 7/10] START max_depth=7................................................\n",
            "[CV 1/3; 7/10] END ..............................max_depth=7; total time=   0.3s\n",
            "[CV 2/3; 7/10] START max_depth=7................................................\n",
            "[CV 2/3; 7/10] END ..............................max_depth=7; total time=   0.4s\n",
            "[CV 3/3; 7/10] START max_depth=7................................................\n",
            "[CV 3/3; 7/10] END ..............................max_depth=7; total time=   0.4s\n",
            "[CV 1/3; 8/10] START max_depth=8................................................\n",
            "[CV 1/3; 8/10] END ..............................max_depth=8; total time=   0.4s\n",
            "[CV 2/3; 8/10] START max_depth=8................................................\n",
            "[CV 2/3; 8/10] END ..............................max_depth=8; total time=   0.4s\n",
            "[CV 3/3; 8/10] START max_depth=8................................................\n",
            "[CV 3/3; 8/10] END ..............................max_depth=8; total time=   0.4s\n",
            "[CV 1/3; 9/10] START max_depth=9................................................\n",
            "[CV 1/3; 9/10] END ..............................max_depth=9; total time=   0.4s\n",
            "[CV 2/3; 9/10] START max_depth=9................................................\n",
            "[CV 2/3; 9/10] END ..............................max_depth=9; total time=   0.4s\n",
            "[CV 3/3; 9/10] START max_depth=9................................................\n",
            "[CV 3/3; 9/10] END ..............................max_depth=9; total time=   0.4s\n",
            "[CV 1/3; 10/10] START max_depth=10..............................................\n",
            "[CV 1/3; 10/10] END ............................max_depth=10; total time=   0.6s\n",
            "[CV 2/3; 10/10] START max_depth=10..............................................\n",
            "[CV 2/3; 10/10] END ............................max_depth=10; total time=   0.6s\n",
            "[CV 3/3; 10/10] START max_depth=10..............................................\n",
            "[CV 3/3; 10/10] END ............................max_depth=10; total time=   0.5s\n",
            "CPU times: user 8.66 s, sys: 35.5 ms, total: 8.69 s\n",
            "Wall time: 8.75 s\n"
          ]
        },
        {
          "data": {
            "text/plain": [
              "GridSearchCV(cv=3, error_score='raise',\n",
              "             estimator=DecisionTreeRegressor(random_state=12345), n_jobs=-1,\n",
              "             param_grid={'max_depth': range(1, 11)},\n",
              "             scoring=make_scorer(s_mape, greater_is_better=False), verbose=10)"
            ]
          },
          "execution_count": 51,
          "metadata": {},
          "output_type": "execute_result"
        }
      ],
      "source": [
        "%%time\n",
        "\n",
        "model = DecisionTreeRegressor(random_state=12345)\n",
        "parametrs = {'max_depth': range(1, 11, 1)}\n",
        "grid = GridSearchCV(model,\n",
        "                    parametrs,\n",
        "                    scoring=make_scorer(\n",
        "                        s_mape,\n",
        "                        greater_is_better=False),\n",
        "                    n_jobs=-1,\n",
        "                    verbose=10,\n",
        "                    cv=3,\n",
        "                    error_score=\"raise\")\n",
        "grid.fit(features_train, target_train)"
      ]
    },
    {
      "cell_type": "code",
      "execution_count": null,
      "metadata": {
        "id": "rFR5DZdQSchW",
        "outputId": "15eea0b5-ad4b-4a4b-8d90-87db3becb759"
      },
      "outputs": [
        {
          "name": "stdout",
          "output_type": "stream",
          "text": [
            "\n",
            "best_model = {'max_depth': 4}\n",
            "best_score = 10.238918402209622\n",
            "\n"
          ]
        }
      ],
      "source": [
        "print('best_model =', grid.best_params_)\n",
        "print('best_score =', -grid.best_score_)"
      ]
    },
    {
      "cell_type": "markdown",
      "metadata": {
        "id": "OrSBMBXpSchW"
      },
      "source": [
        "Лучшей точностью обладает дерево с глубиной 4"
      ]
    },
    {
      "cell_type": "markdown",
      "metadata": {
        "id": "uyWGFz3GSchX"
      },
      "source": [
        "#### Случайный лес"
      ]
    },
    {
      "cell_type": "markdown",
      "metadata": {
        "id": "24JD1BsMSchX"
      },
      "source": [
        "Выполним также для проверки перебор параметров случайного леса с помощью GridSearchCV"
      ]
    },
    {
      "cell_type": "code",
      "execution_count": null,
      "metadata": {
        "id": "e6IirEhTSchX"
      },
      "outputs": [],
      "source": [
        "parametrs = {\n",
        "    'n_estimators': range (10, 101, 10),\n",
        "    'max_depth': range (1, 8, 1)\n",
        "}"
      ]
    },
    {
      "cell_type": "code",
      "execution_count": null,
      "metadata": {
        "id": "KpJzJsUqSchX",
        "outputId": "c62a8e1b-9872-4d99-aab6-2f2bdcf149a7"
      },
      "outputs": [
        {
          "name": "stdout",
          "output_type": "stream",
          "text": [
            "Fitting 3 folds for each of 70 candidates, totalling 210 fits\n",
            "[CV 1/3; 1/70] START max_depth=1, n_estimators=10...............................\n",
            "[CV 1/3; 1/70] END .............max_depth=1, n_estimators=10; total time=   0.4s\n",
            "[CV 2/3; 1/70] START max_depth=1, n_estimators=10...............................\n",
            "[CV 2/3; 1/70] END .............max_depth=1, n_estimators=10; total time=   0.3s\n",
            "[CV 3/3; 1/70] START max_depth=1, n_estimators=10...............................\n",
            "[CV 3/3; 1/70] END .............max_depth=1, n_estimators=10; total time=   0.3s\n",
            "[CV 1/3; 2/70] START max_depth=1, n_estimators=20...............................\n",
            "[CV 1/3; 2/70] END .............max_depth=1, n_estimators=20; total time=   0.6s\n",
            "[CV 2/3; 2/70] START max_depth=1, n_estimators=20...............................\n",
            "[CV 2/3; 2/70] END .............max_depth=1, n_estimators=20; total time=   0.7s\n",
            "[CV 3/3; 2/70] START max_depth=1, n_estimators=20...............................\n",
            "[CV 3/3; 2/70] END .............max_depth=1, n_estimators=20; total time=   0.7s\n",
            "[CV 1/3; 3/70] START max_depth=1, n_estimators=30...............................\n",
            "[CV 1/3; 3/70] END .............max_depth=1, n_estimators=30; total time=   1.2s\n",
            "[CV 2/3; 3/70] START max_depth=1, n_estimators=30...............................\n",
            "[CV 2/3; 3/70] END .............max_depth=1, n_estimators=30; total time=   1.0s\n",
            "[CV 3/3; 3/70] START max_depth=1, n_estimators=30...............................\n",
            "[CV 3/3; 3/70] END .............max_depth=1, n_estimators=30; total time=   1.0s\n",
            "[CV 1/3; 4/70] START max_depth=1, n_estimators=40...............................\n",
            "[CV 1/3; 4/70] END .............max_depth=1, n_estimators=40; total time=   1.3s\n",
            "[CV 2/3; 4/70] START max_depth=1, n_estimators=40...............................\n",
            "[CV 2/3; 4/70] END .............max_depth=1, n_estimators=40; total time=   1.5s\n",
            "[CV 3/3; 4/70] START max_depth=1, n_estimators=40...............................\n",
            "[CV 3/3; 4/70] END .............max_depth=1, n_estimators=40; total time=   1.6s\n",
            "[CV 1/3; 5/70] START max_depth=1, n_estimators=50...............................\n",
            "[CV 1/3; 5/70] END .............max_depth=1, n_estimators=50; total time=   1.6s\n",
            "[CV 2/3; 5/70] START max_depth=1, n_estimators=50...............................\n",
            "[CV 2/3; 5/70] END .............max_depth=1, n_estimators=50; total time=   1.6s\n",
            "[CV 3/3; 5/70] START max_depth=1, n_estimators=50...............................\n",
            "[CV 3/3; 5/70] END .............max_depth=1, n_estimators=50; total time=   1.6s\n",
            "[CV 1/3; 6/70] START max_depth=1, n_estimators=60...............................\n",
            "[CV 1/3; 6/70] END .............max_depth=1, n_estimators=60; total time=   1.9s\n",
            "[CV 2/3; 6/70] START max_depth=1, n_estimators=60...............................\n",
            "[CV 2/3; 6/70] END .............max_depth=1, n_estimators=60; total time=   1.9s\n",
            "[CV 3/3; 6/70] START max_depth=1, n_estimators=60...............................\n",
            "[CV 3/3; 6/70] END .............max_depth=1, n_estimators=60; total time=   2.0s\n",
            "[CV 1/3; 7/70] START max_depth=1, n_estimators=70...............................\n",
            "[CV 1/3; 7/70] END .............max_depth=1, n_estimators=70; total time=   2.4s\n",
            "[CV 2/3; 7/70] START max_depth=1, n_estimators=70...............................\n",
            "[CV 2/3; 7/70] END .............max_depth=1, n_estimators=70; total time=   2.3s\n",
            "[CV 3/3; 7/70] START max_depth=1, n_estimators=70...............................\n",
            "[CV 3/3; 7/70] END .............max_depth=1, n_estimators=70; total time=   2.3s\n",
            "[CV 1/3; 8/70] START max_depth=1, n_estimators=80...............................\n",
            "[CV 1/3; 8/70] END .............max_depth=1, n_estimators=80; total time=   2.6s\n",
            "[CV 2/3; 8/70] START max_depth=1, n_estimators=80...............................\n",
            "[CV 2/3; 8/70] END .............max_depth=1, n_estimators=80; total time=   2.6s\n",
            "[CV 3/3; 8/70] START max_depth=1, n_estimators=80...............................\n",
            "[CV 3/3; 8/70] END .............max_depth=1, n_estimators=80; total time=   2.7s\n",
            "[CV 1/3; 9/70] START max_depth=1, n_estimators=90...............................\n",
            "[CV 1/3; 9/70] END .............max_depth=1, n_estimators=90; total time=   3.5s\n",
            "[CV 2/3; 9/70] START max_depth=1, n_estimators=90...............................\n",
            "[CV 2/3; 9/70] END .............max_depth=1, n_estimators=90; total time=   3.2s\n",
            "[CV 3/3; 9/70] START max_depth=1, n_estimators=90...............................\n",
            "[CV 3/3; 9/70] END .............max_depth=1, n_estimators=90; total time=   3.0s\n",
            "[CV 1/3; 10/70] START max_depth=1, n_estimators=100.............................\n",
            "[CV 1/3; 10/70] END ...........max_depth=1, n_estimators=100; total time=   3.2s\n",
            "[CV 2/3; 10/70] START max_depth=1, n_estimators=100.............................\n",
            "[CV 2/3; 10/70] END ...........max_depth=1, n_estimators=100; total time=   3.4s\n",
            "[CV 3/3; 10/70] START max_depth=1, n_estimators=100.............................\n",
            "[CV 3/3; 10/70] END ...........max_depth=1, n_estimators=100; total time=   3.5s\n",
            "[CV 1/3; 11/70] START max_depth=2, n_estimators=10..............................\n",
            "[CV 1/3; 11/70] END ............max_depth=2, n_estimators=10; total time=   0.7s\n",
            "[CV 2/3; 11/70] START max_depth=2, n_estimators=10..............................\n",
            "[CV 2/3; 11/70] END ............max_depth=2, n_estimators=10; total time=   0.6s\n",
            "[CV 3/3; 11/70] START max_depth=2, n_estimators=10..............................\n",
            "[CV 3/3; 11/70] END ............max_depth=2, n_estimators=10; total time=   0.6s\n",
            "[CV 1/3; 12/70] START max_depth=2, n_estimators=20..............................\n",
            "[CV 1/3; 12/70] END ............max_depth=2, n_estimators=20; total time=   1.4s\n",
            "[CV 2/3; 12/70] START max_depth=2, n_estimators=20..............................\n",
            "[CV 2/3; 12/70] END ............max_depth=2, n_estimators=20; total time=   1.4s\n",
            "[CV 3/3; 12/70] START max_depth=2, n_estimators=20..............................\n",
            "[CV 3/3; 12/70] END ............max_depth=2, n_estimators=20; total time=   1.3s\n",
            "[CV 1/3; 13/70] START max_depth=2, n_estimators=30..............................\n",
            "[CV 1/3; 13/70] END ............max_depth=2, n_estimators=30; total time=   1.8s\n",
            "[CV 2/3; 13/70] START max_depth=2, n_estimators=30..............................\n",
            "[CV 2/3; 13/70] END ............max_depth=2, n_estimators=30; total time=   1.9s\n",
            "[CV 3/3; 13/70] START max_depth=2, n_estimators=30..............................\n",
            "[CV 3/3; 13/70] END ............max_depth=2, n_estimators=30; total time=   1.9s\n",
            "[CV 1/3; 14/70] START max_depth=2, n_estimators=40..............................\n",
            "[CV 1/3; 14/70] END ............max_depth=2, n_estimators=40; total time=   2.5s\n",
            "[CV 2/3; 14/70] START max_depth=2, n_estimators=40..............................\n",
            "[CV 2/3; 14/70] END ............max_depth=2, n_estimators=40; total time=   2.4s\n",
            "[CV 3/3; 14/70] START max_depth=2, n_estimators=40..............................\n",
            "[CV 3/3; 14/70] END ............max_depth=2, n_estimators=40; total time=   2.5s\n",
            "[CV 1/3; 15/70] START max_depth=2, n_estimators=50..............................\n",
            "[CV 1/3; 15/70] END ............max_depth=2, n_estimators=50; total time=   3.0s\n",
            "[CV 2/3; 15/70] START max_depth=2, n_estimators=50..............................\n",
            "[CV 2/3; 15/70] END ............max_depth=2, n_estimators=50; total time=   3.1s\n",
            "[CV 3/3; 15/70] START max_depth=2, n_estimators=50..............................\n",
            "[CV 3/3; 15/70] END ............max_depth=2, n_estimators=50; total time=   3.2s\n",
            "[CV 1/3; 16/70] START max_depth=2, n_estimators=60..............................\n",
            "[CV 1/3; 16/70] END ............max_depth=2, n_estimators=60; total time=   4.0s\n",
            "[CV 2/3; 16/70] START max_depth=2, n_estimators=60..............................\n",
            "[CV 2/3; 16/70] END ............max_depth=2, n_estimators=60; total time=   3.7s\n",
            "[CV 3/3; 16/70] START max_depth=2, n_estimators=60..............................\n",
            "[CV 3/3; 16/70] END ............max_depth=2, n_estimators=60; total time=   3.7s\n",
            "[CV 1/3; 17/70] START max_depth=2, n_estimators=70..............................\n",
            "[CV 1/3; 17/70] END ............max_depth=2, n_estimators=70; total time=   4.3s\n",
            "[CV 2/3; 17/70] START max_depth=2, n_estimators=70..............................\n",
            "[CV 2/3; 17/70] END ............max_depth=2, n_estimators=70; total time=   4.4s\n",
            "[CV 3/3; 17/70] START max_depth=2, n_estimators=70..............................\n",
            "[CV 3/3; 17/70] END ............max_depth=2, n_estimators=70; total time=   4.4s\n",
            "[CV 1/3; 18/70] START max_depth=2, n_estimators=80..............................\n",
            "[CV 1/3; 18/70] END ............max_depth=2, n_estimators=80; total time=   5.3s\n",
            "[CV 2/3; 18/70] START max_depth=2, n_estimators=80..............................\n",
            "[CV 2/3; 18/70] END ............max_depth=2, n_estimators=80; total time=   5.3s\n",
            "[CV 3/3; 18/70] START max_depth=2, n_estimators=80..............................\n",
            "[CV 3/3; 18/70] END ............max_depth=2, n_estimators=80; total time=   5.4s\n",
            "[CV 1/3; 19/70] START max_depth=2, n_estimators=90..............................\n",
            "[CV 1/3; 19/70] END ............max_depth=2, n_estimators=90; total time=   5.5s\n",
            "[CV 2/3; 19/70] START max_depth=2, n_estimators=90..............................\n",
            "[CV 2/3; 19/70] END ............max_depth=2, n_estimators=90; total time=   5.5s\n",
            "[CV 3/3; 19/70] START max_depth=2, n_estimators=90..............................\n",
            "[CV 3/3; 19/70] END ............max_depth=2, n_estimators=90; total time=   5.6s\n",
            "[CV 1/3; 20/70] START max_depth=2, n_estimators=100.............................\n",
            "[CV 1/3; 20/70] END ...........max_depth=2, n_estimators=100; total time=   6.4s\n",
            "[CV 2/3; 20/70] START max_depth=2, n_estimators=100.............................\n",
            "[CV 2/3; 20/70] END ...........max_depth=2, n_estimators=100; total time=   6.3s\n",
            "[CV 3/3; 20/70] START max_depth=2, n_estimators=100.............................\n",
            "[CV 3/3; 20/70] END ...........max_depth=2, n_estimators=100; total time=   6.6s\n",
            "[CV 1/3; 21/70] START max_depth=3, n_estimators=10..............................\n",
            "[CV 1/3; 21/70] END ............max_depth=3, n_estimators=10; total time=   0.9s\n",
            "[CV 2/3; 21/70] START max_depth=3, n_estimators=10..............................\n",
            "[CV 2/3; 21/70] END ............max_depth=3, n_estimators=10; total time=   0.9s\n",
            "[CV 3/3; 21/70] START max_depth=3, n_estimators=10..............................\n",
            "[CV 3/3; 21/70] END ............max_depth=3, n_estimators=10; total time=   0.9s\n",
            "[CV 1/3; 22/70] START max_depth=3, n_estimators=20..............................\n",
            "[CV 1/3; 22/70] END ............max_depth=3, n_estimators=20; total time=   1.8s\n",
            "[CV 2/3; 22/70] START max_depth=3, n_estimators=20..............................\n",
            "[CV 2/3; 22/70] END ............max_depth=3, n_estimators=20; total time=   1.8s\n",
            "[CV 3/3; 22/70] START max_depth=3, n_estimators=20..............................\n",
            "[CV 3/3; 22/70] END ............max_depth=3, n_estimators=20; total time=   1.8s\n",
            "[CV 1/3; 23/70] START max_depth=3, n_estimators=30..............................\n",
            "[CV 1/3; 23/70] END ............max_depth=3, n_estimators=30; total time=   2.8s\n",
            "[CV 2/3; 23/70] START max_depth=3, n_estimators=30..............................\n",
            "[CV 2/3; 23/70] END ............max_depth=3, n_estimators=30; total time=   2.8s\n",
            "[CV 3/3; 23/70] START max_depth=3, n_estimators=30..............................\n",
            "[CV 3/3; 23/70] END ............max_depth=3, n_estimators=30; total time=   2.9s\n",
            "[CV 1/3; 24/70] START max_depth=3, n_estimators=40..............................\n",
            "[CV 1/3; 24/70] END ............max_depth=3, n_estimators=40; total time=   3.8s\n",
            "[CV 2/3; 24/70] START max_depth=3, n_estimators=40..............................\n",
            "[CV 2/3; 24/70] END ............max_depth=3, n_estimators=40; total time=   3.5s\n",
            "[CV 3/3; 24/70] START max_depth=3, n_estimators=40..............................\n",
            "[CV 3/3; 24/70] END ............max_depth=3, n_estimators=40; total time=   3.6s\n",
            "[CV 1/3; 25/70] START max_depth=3, n_estimators=50..............................\n",
            "[CV 1/3; 25/70] END ............max_depth=3, n_estimators=50; total time=   4.5s\n",
            "[CV 2/3; 25/70] START max_depth=3, n_estimators=50..............................\n",
            "[CV 2/3; 25/70] END ............max_depth=3, n_estimators=50; total time=   4.5s\n",
            "[CV 3/3; 25/70] START max_depth=3, n_estimators=50..............................\n",
            "[CV 3/3; 25/70] END ............max_depth=3, n_estimators=50; total time=   4.6s\n",
            "[CV 1/3; 26/70] START max_depth=3, n_estimators=60..............................\n",
            "[CV 1/3; 26/70] END ............max_depth=3, n_estimators=60; total time=   5.9s\n",
            "[CV 2/3; 26/70] START max_depth=3, n_estimators=60..............................\n",
            "[CV 2/3; 26/70] END ............max_depth=3, n_estimators=60; total time=   5.3s\n",
            "[CV 3/3; 26/70] START max_depth=3, n_estimators=60..............................\n",
            "[CV 3/3; 26/70] END ............max_depth=3, n_estimators=60; total time=   5.4s\n",
            "[CV 1/3; 27/70] START max_depth=3, n_estimators=70..............................\n",
            "[CV 1/3; 27/70] END ............max_depth=3, n_estimators=70; total time=   6.3s\n",
            "[CV 2/3; 27/70] START max_depth=3, n_estimators=70..............................\n",
            "[CV 2/3; 27/70] END ............max_depth=3, n_estimators=70; total time=   6.4s\n",
            "[CV 3/3; 27/70] START max_depth=3, n_estimators=70..............................\n",
            "[CV 3/3; 27/70] END ............max_depth=3, n_estimators=70; total time=   6.6s\n",
            "[CV 1/3; 28/70] START max_depth=3, n_estimators=80..............................\n",
            "[CV 1/3; 28/70] END ............max_depth=3, n_estimators=80; total time=   7.5s\n",
            "[CV 2/3; 28/70] START max_depth=3, n_estimators=80..............................\n",
            "[CV 2/3; 28/70] END ............max_depth=3, n_estimators=80; total time=   7.2s\n",
            "[CV 3/3; 28/70] START max_depth=3, n_estimators=80..............................\n",
            "[CV 3/3; 28/70] END ............max_depth=3, n_estimators=80; total time=   7.1s\n",
            "[CV 1/3; 29/70] START max_depth=3, n_estimators=90..............................\n",
            "[CV 1/3; 29/70] END ............max_depth=3, n_estimators=90; total time=   8.1s\n",
            "[CV 2/3; 29/70] START max_depth=3, n_estimators=90..............................\n",
            "[CV 2/3; 29/70] END ............max_depth=3, n_estimators=90; total time=   8.0s\n",
            "[CV 3/3; 29/70] START max_depth=3, n_estimators=90..............................\n",
            "[CV 3/3; 29/70] END ............max_depth=3, n_estimators=90; total time=   8.2s\n",
            "[CV 1/3; 30/70] START max_depth=3, n_estimators=100.............................\n",
            "[CV 1/3; 30/70] END ...........max_depth=3, n_estimators=100; total time=   9.0s\n",
            "[CV 2/3; 30/70] START max_depth=3, n_estimators=100.............................\n",
            "[CV 2/3; 30/70] END ...........max_depth=3, n_estimators=100; total time=   9.0s\n",
            "[CV 3/3; 30/70] START max_depth=3, n_estimators=100.............................\n",
            "[CV 3/3; 30/70] END ...........max_depth=3, n_estimators=100; total time=   9.0s\n",
            "[CV 1/3; 31/70] START max_depth=4, n_estimators=10..............................\n",
            "[CV 1/3; 31/70] END ............max_depth=4, n_estimators=10; total time=   1.2s\n",
            "[CV 2/3; 31/70] START max_depth=4, n_estimators=10..............................\n",
            "[CV 2/3; 31/70] END ............max_depth=4, n_estimators=10; total time=   1.2s\n",
            "[CV 3/3; 31/70] START max_depth=4, n_estimators=10..............................\n",
            "[CV 3/3; 31/70] END ............max_depth=4, n_estimators=10; total time=   1.2s\n",
            "[CV 1/3; 32/70] START max_depth=4, n_estimators=20..............................\n",
            "[CV 1/3; 32/70] END ............max_depth=4, n_estimators=20; total time=   2.3s\n",
            "[CV 2/3; 32/70] START max_depth=4, n_estimators=20..............................\n",
            "[CV 2/3; 32/70] END ............max_depth=4, n_estimators=20; total time=   2.3s\n",
            "[CV 3/3; 32/70] START max_depth=4, n_estimators=20..............................\n",
            "[CV 3/3; 32/70] END ............max_depth=4, n_estimators=20; total time=   2.5s\n",
            "[CV 1/3; 33/70] START max_depth=4, n_estimators=30..............................\n",
            "[CV 1/3; 33/70] END ............max_depth=4, n_estimators=30; total time=   4.2s\n",
            "[CV 2/3; 33/70] START max_depth=4, n_estimators=30..............................\n",
            "[CV 2/3; 33/70] END ............max_depth=4, n_estimators=30; total time=   4.8s\n",
            "[CV 3/3; 33/70] START max_depth=4, n_estimators=30..............................\n",
            "[CV 3/3; 33/70] END ............max_depth=4, n_estimators=30; total time=   3.5s\n",
            "[CV 1/3; 34/70] START max_depth=4, n_estimators=40..............................\n",
            "[CV 1/3; 34/70] END ............max_depth=4, n_estimators=40; total time=   4.7s\n",
            "[CV 2/3; 34/70] START max_depth=4, n_estimators=40..............................\n",
            "[CV 2/3; 34/70] END ............max_depth=4, n_estimators=40; total time=   4.7s\n",
            "[CV 3/3; 34/70] START max_depth=4, n_estimators=40..............................\n",
            "[CV 3/3; 34/70] END ............max_depth=4, n_estimators=40; total time=   4.8s\n",
            "[CV 1/3; 35/70] START max_depth=4, n_estimators=50..............................\n",
            "[CV 1/3; 35/70] END ............max_depth=4, n_estimators=50; total time=   6.0s\n",
            "[CV 2/3; 35/70] START max_depth=4, n_estimators=50..............................\n",
            "[CV 2/3; 35/70] END ............max_depth=4, n_estimators=50; total time=   6.1s\n",
            "[CV 3/3; 35/70] START max_depth=4, n_estimators=50..............................\n",
            "[CV 3/3; 35/70] END ............max_depth=4, n_estimators=50; total time=   6.0s\n",
            "[CV 1/3; 36/70] START max_depth=4, n_estimators=60..............................\n",
            "[CV 1/3; 36/70] END ............max_depth=4, n_estimators=60; total time=   7.0s\n",
            "[CV 2/3; 36/70] START max_depth=4, n_estimators=60..............................\n",
            "[CV 2/3; 36/70] END ............max_depth=4, n_estimators=60; total time=   6.8s\n",
            "[CV 3/3; 36/70] START max_depth=4, n_estimators=60..............................\n",
            "[CV 3/3; 36/70] END ............max_depth=4, n_estimators=60; total time=   7.3s\n",
            "[CV 1/3; 37/70] START max_depth=4, n_estimators=70..............................\n",
            "[CV 1/3; 37/70] END ............max_depth=4, n_estimators=70; total time=   8.4s\n",
            "[CV 2/3; 37/70] START max_depth=4, n_estimators=70..............................\n",
            "[CV 2/3; 37/70] END ............max_depth=4, n_estimators=70; total time=   8.1s\n",
            "[CV 3/3; 37/70] START max_depth=4, n_estimators=70..............................\n",
            "[CV 3/3; 37/70] END ............max_depth=4, n_estimators=70; total time=   8.3s\n",
            "[CV 1/3; 38/70] START max_depth=4, n_estimators=80..............................\n",
            "[CV 1/3; 38/70] END ............max_depth=4, n_estimators=80; total time=  10.0s\n",
            "[CV 2/3; 38/70] START max_depth=4, n_estimators=80..............................\n",
            "[CV 2/3; 38/70] END ............max_depth=4, n_estimators=80; total time=   9.6s\n",
            "[CV 3/3; 38/70] START max_depth=4, n_estimators=80..............................\n",
            "[CV 3/3; 38/70] END ............max_depth=4, n_estimators=80; total time=   9.4s\n",
            "[CV 1/3; 39/70] START max_depth=4, n_estimators=90..............................\n",
            "[CV 1/3; 39/70] END ............max_depth=4, n_estimators=90; total time=  11.2s\n",
            "[CV 2/3; 39/70] START max_depth=4, n_estimators=90..............................\n",
            "[CV 2/3; 39/70] END ............max_depth=4, n_estimators=90; total time=  10.2s\n",
            "[CV 3/3; 39/70] START max_depth=4, n_estimators=90..............................\n",
            "[CV 3/3; 39/70] END ............max_depth=4, n_estimators=90; total time=  10.4s\n",
            "[CV 1/3; 40/70] START max_depth=4, n_estimators=100.............................\n",
            "[CV 1/3; 40/70] END ...........max_depth=4, n_estimators=100; total time=  12.0s\n",
            "[CV 2/3; 40/70] START max_depth=4, n_estimators=100.............................\n",
            "[CV 2/3; 40/70] END ...........max_depth=4, n_estimators=100; total time=  11.5s\n",
            "[CV 3/3; 40/70] START max_depth=4, n_estimators=100.............................\n",
            "[CV 3/3; 40/70] END ...........max_depth=4, n_estimators=100; total time=  11.8s\n",
            "[CV 1/3; 41/70] START max_depth=5, n_estimators=10..............................\n",
            "[CV 1/3; 41/70] END ............max_depth=5, n_estimators=10; total time=   1.4s\n",
            "[CV 2/3; 41/70] START max_depth=5, n_estimators=10..............................\n",
            "[CV 2/3; 41/70] END ............max_depth=5, n_estimators=10; total time=   1.4s\n",
            "[CV 3/3; 41/70] START max_depth=5, n_estimators=10..............................\n",
            "[CV 3/3; 41/70] END ............max_depth=5, n_estimators=10; total time=   1.4s\n",
            "[CV 1/3; 42/70] START max_depth=5, n_estimators=20..............................\n",
            "[CV 1/3; 42/70] END ............max_depth=5, n_estimators=20; total time=   2.8s\n",
            "[CV 2/3; 42/70] START max_depth=5, n_estimators=20..............................\n",
            "[CV 2/3; 42/70] END ............max_depth=5, n_estimators=20; total time=   2.8s\n",
            "[CV 3/3; 42/70] START max_depth=5, n_estimators=20..............................\n",
            "[CV 3/3; 42/70] END ............max_depth=5, n_estimators=20; total time=   2.8s\n",
            "[CV 1/3; 43/70] START max_depth=5, n_estimators=30..............................\n",
            "[CV 1/3; 43/70] END ............max_depth=5, n_estimators=30; total time=   4.3s\n",
            "[CV 2/3; 43/70] START max_depth=5, n_estimators=30..............................\n",
            "[CV 2/3; 43/70] END ............max_depth=5, n_estimators=30; total time=   4.5s\n",
            "[CV 3/3; 43/70] START max_depth=5, n_estimators=30..............................\n",
            "[CV 3/3; 43/70] END ............max_depth=5, n_estimators=30; total time=   4.8s\n",
            "[CV 1/3; 44/70] START max_depth=5, n_estimators=40..............................\n",
            "[CV 1/3; 44/70] END ............max_depth=5, n_estimators=40; total time=   6.3s\n",
            "[CV 2/3; 44/70] START max_depth=5, n_estimators=40..............................\n",
            "[CV 2/3; 44/70] END ............max_depth=5, n_estimators=40; total time=   5.9s\n",
            "[CV 3/3; 44/70] START max_depth=5, n_estimators=40..............................\n",
            "[CV 3/3; 44/70] END ............max_depth=5, n_estimators=40; total time=   5.9s\n",
            "[CV 1/3; 45/70] START max_depth=5, n_estimators=50..............................\n",
            "[CV 1/3; 45/70] END ............max_depth=5, n_estimators=50; total time=   7.6s\n",
            "[CV 2/3; 45/70] START max_depth=5, n_estimators=50..............................\n",
            "[CV 2/3; 45/70] END ............max_depth=5, n_estimators=50; total time=   7.5s\n",
            "[CV 3/3; 45/70] START max_depth=5, n_estimators=50..............................\n",
            "[CV 3/3; 45/70] END ............max_depth=5, n_estimators=50; total time=   7.5s\n",
            "[CV 1/3; 46/70] START max_depth=5, n_estimators=60..............................\n",
            "[CV 1/3; 46/70] END ............max_depth=5, n_estimators=60; total time=   8.7s\n",
            "[CV 2/3; 46/70] START max_depth=5, n_estimators=60..............................\n",
            "[CV 2/3; 46/70] END ............max_depth=5, n_estimators=60; total time=   8.5s\n",
            "[CV 3/3; 46/70] START max_depth=5, n_estimators=60..............................\n",
            "[CV 3/3; 46/70] END ............max_depth=5, n_estimators=60; total time=   8.7s\n",
            "[CV 1/3; 47/70] START max_depth=5, n_estimators=70..............................\n",
            "[CV 1/3; 47/70] END ............max_depth=5, n_estimators=70; total time=   9.8s\n",
            "[CV 2/3; 47/70] START max_depth=5, n_estimators=70..............................\n",
            "[CV 2/3; 47/70] END ............max_depth=5, n_estimators=70; total time=  10.0s\n",
            "[CV 3/3; 47/70] START max_depth=5, n_estimators=70..............................\n",
            "[CV 3/3; 47/70] END ............max_depth=5, n_estimators=70; total time=  10.1s\n",
            "[CV 1/3; 48/70] START max_depth=5, n_estimators=80..............................\n",
            "[CV 1/3; 48/70] END ............max_depth=5, n_estimators=80; total time=  11.1s\n",
            "[CV 2/3; 48/70] START max_depth=5, n_estimators=80..............................\n",
            "[CV 2/3; 48/70] END ............max_depth=5, n_estimators=80; total time=  11.1s\n",
            "[CV 3/3; 48/70] START max_depth=5, n_estimators=80..............................\n",
            "[CV 3/3; 48/70] END ............max_depth=5, n_estimators=80; total time=  11.4s\n",
            "[CV 1/3; 49/70] START max_depth=5, n_estimators=90..............................\n",
            "[CV 1/3; 49/70] END ............max_depth=5, n_estimators=90; total time=  12.6s\n",
            "[CV 2/3; 49/70] START max_depth=5, n_estimators=90..............................\n",
            "[CV 2/3; 49/70] END ............max_depth=5, n_estimators=90; total time=  13.0s\n",
            "[CV 3/3; 49/70] START max_depth=5, n_estimators=90..............................\n",
            "[CV 3/3; 49/70] END ............max_depth=5, n_estimators=90; total time=  12.9s\n",
            "[CV 1/3; 50/70] START max_depth=5, n_estimators=100.............................\n",
            "[CV 1/3; 50/70] END ...........max_depth=5, n_estimators=100; total time=  14.6s\n",
            "[CV 2/3; 50/70] START max_depth=5, n_estimators=100.............................\n",
            "[CV 2/3; 50/70] END ...........max_depth=5, n_estimators=100; total time=  14.3s\n",
            "[CV 3/3; 50/70] START max_depth=5, n_estimators=100.............................\n",
            "[CV 3/3; 50/70] END ...........max_depth=5, n_estimators=100; total time=  14.8s\n",
            "[CV 1/3; 51/70] START max_depth=6, n_estimators=10..............................\n",
            "[CV 1/3; 51/70] END ............max_depth=6, n_estimators=10; total time=   1.8s\n",
            "[CV 2/3; 51/70] START max_depth=6, n_estimators=10..............................\n",
            "[CV 2/3; 51/70] END ............max_depth=6, n_estimators=10; total time=   1.8s\n",
            "[CV 3/3; 51/70] START max_depth=6, n_estimators=10..............................\n",
            "[CV 3/3; 51/70] END ............max_depth=6, n_estimators=10; total time=   1.7s\n",
            "[CV 1/3; 52/70] START max_depth=6, n_estimators=20..............................\n",
            "[CV 1/3; 52/70] END ............max_depth=6, n_estimators=20; total time=   3.4s\n",
            "[CV 2/3; 52/70] START max_depth=6, n_estimators=20..............................\n",
            "[CV 2/3; 52/70] END ............max_depth=6, n_estimators=20; total time=   3.3s\n",
            "[CV 3/3; 52/70] START max_depth=6, n_estimators=20..............................\n",
            "[CV 3/3; 52/70] END ............max_depth=6, n_estimators=20; total time=   3.4s\n",
            "[CV 1/3; 53/70] START max_depth=6, n_estimators=30..............................\n",
            "[CV 1/3; 53/70] END ............max_depth=6, n_estimators=30; total time=   5.0s\n",
            "[CV 2/3; 53/70] START max_depth=6, n_estimators=30..............................\n",
            "[CV 2/3; 53/70] END ............max_depth=6, n_estimators=30; total time=   5.0s\n",
            "[CV 3/3; 53/70] START max_depth=6, n_estimators=30..............................\n",
            "[CV 3/3; 53/70] END ............max_depth=6, n_estimators=30; total time=   5.2s\n",
            "[CV 1/3; 54/70] START max_depth=6, n_estimators=40..............................\n",
            "[CV 1/3; 54/70] END ............max_depth=6, n_estimators=40; total time=   6.7s\n",
            "[CV 2/3; 54/70] START max_depth=6, n_estimators=40..............................\n",
            "[CV 2/3; 54/70] END ............max_depth=6, n_estimators=40; total time=   6.7s\n",
            "[CV 3/3; 54/70] START max_depth=6, n_estimators=40..............................\n",
            "[CV 3/3; 54/70] END ............max_depth=6, n_estimators=40; total time=   6.7s\n",
            "[CV 1/3; 55/70] START max_depth=6, n_estimators=50..............................\n",
            "[CV 1/3; 55/70] END ............max_depth=6, n_estimators=50; total time=   8.6s\n",
            "[CV 2/3; 55/70] START max_depth=6, n_estimators=50..............................\n",
            "[CV 2/3; 55/70] END ............max_depth=6, n_estimators=50; total time=   8.6s\n",
            "[CV 3/3; 55/70] START max_depth=6, n_estimators=50..............................\n",
            "[CV 3/3; 55/70] END ............max_depth=6, n_estimators=50; total time=   8.4s\n",
            "[CV 1/3; 56/70] START max_depth=6, n_estimators=60..............................\n",
            "[CV 1/3; 56/70] END ............max_depth=6, n_estimators=60; total time=  10.0s\n",
            "[CV 2/3; 56/70] START max_depth=6, n_estimators=60..............................\n",
            "[CV 2/3; 56/70] END ............max_depth=6, n_estimators=60; total time=   9.9s\n",
            "[CV 3/3; 56/70] START max_depth=6, n_estimators=60..............................\n",
            "[CV 3/3; 56/70] END ............max_depth=6, n_estimators=60; total time=  10.2s\n",
            "[CV 1/3; 57/70] START max_depth=6, n_estimators=70..............................\n",
            "[CV 1/3; 57/70] END ............max_depth=6, n_estimators=70; total time=  12.2s\n",
            "[CV 2/3; 57/70] START max_depth=6, n_estimators=70..............................\n",
            "[CV 2/3; 57/70] END ............max_depth=6, n_estimators=70; total time=  12.1s\n",
            "[CV 3/3; 57/70] START max_depth=6, n_estimators=70..............................\n",
            "[CV 3/3; 57/70] END ............max_depth=6, n_estimators=70; total time=  12.4s\n",
            "[CV 1/3; 58/70] START max_depth=6, n_estimators=80..............................\n",
            "[CV 1/3; 58/70] END ............max_depth=6, n_estimators=80; total time=  13.6s\n",
            "[CV 2/3; 58/70] START max_depth=6, n_estimators=80..............................\n",
            "[CV 2/3; 58/70] END ............max_depth=6, n_estimators=80; total time=  13.5s\n",
            "[CV 3/3; 58/70] START max_depth=6, n_estimators=80..............................\n",
            "[CV 3/3; 58/70] END ............max_depth=6, n_estimators=80; total time=  14.4s\n",
            "[CV 1/3; 59/70] START max_depth=6, n_estimators=90..............................\n",
            "[CV 1/3; 59/70] END ............max_depth=6, n_estimators=90; total time=  15.3s\n",
            "[CV 2/3; 59/70] START max_depth=6, n_estimators=90..............................\n",
            "[CV 2/3; 59/70] END ............max_depth=6, n_estimators=90; total time=  16.0s\n",
            "[CV 3/3; 59/70] START max_depth=6, n_estimators=90..............................\n",
            "[CV 3/3; 59/70] END ............max_depth=6, n_estimators=90; total time=  15.9s\n",
            "[CV 1/3; 60/70] START max_depth=6, n_estimators=100.............................\n",
            "[CV 1/3; 60/70] END ...........max_depth=6, n_estimators=100; total time=  18.0s\n",
            "[CV 2/3; 60/70] START max_depth=6, n_estimators=100.............................\n",
            "[CV 2/3; 60/70] END ...........max_depth=6, n_estimators=100; total time=  17.5s\n",
            "[CV 3/3; 60/70] START max_depth=6, n_estimators=100.............................\n",
            "[CV 3/3; 60/70] END ...........max_depth=6, n_estimators=100; total time=  17.3s\n",
            "[CV 1/3; 61/70] START max_depth=7, n_estimators=10..............................\n",
            "[CV 1/3; 61/70] END ............max_depth=7, n_estimators=10; total time=   2.0s\n",
            "[CV 2/3; 61/70] START max_depth=7, n_estimators=10..............................\n",
            "[CV 2/3; 61/70] END ............max_depth=7, n_estimators=10; total time=   2.0s\n",
            "[CV 3/3; 61/70] START max_depth=7, n_estimators=10..............................\n",
            "[CV 3/3; 61/70] END ............max_depth=7, n_estimators=10; total time=   2.0s\n",
            "[CV 1/3; 62/70] START max_depth=7, n_estimators=20..............................\n",
            "[CV 1/3; 62/70] END ............max_depth=7, n_estimators=20; total time=   4.0s\n",
            "[CV 2/3; 62/70] START max_depth=7, n_estimators=20..............................\n",
            "[CV 2/3; 62/70] END ............max_depth=7, n_estimators=20; total time=   4.0s\n",
            "[CV 3/3; 62/70] START max_depth=7, n_estimators=20..............................\n",
            "[CV 3/3; 62/70] END ............max_depth=7, n_estimators=20; total time=   4.0s\n",
            "[CV 1/3; 63/70] START max_depth=7, n_estimators=30..............................\n",
            "[CV 1/3; 63/70] END ............max_depth=7, n_estimators=30; total time=   5.9s\n",
            "[CV 2/3; 63/70] START max_depth=7, n_estimators=30..............................\n",
            "[CV 2/3; 63/70] END ............max_depth=7, n_estimators=30; total time=   5.9s\n",
            "[CV 3/3; 63/70] START max_depth=7, n_estimators=30..............................\n",
            "[CV 3/3; 63/70] END ............max_depth=7, n_estimators=30; total time=   6.0s\n",
            "[CV 1/3; 64/70] START max_depth=7, n_estimators=40..............................\n",
            "[CV 1/3; 64/70] END ............max_depth=7, n_estimators=40; total time=   8.2s\n",
            "[CV 2/3; 64/70] START max_depth=7, n_estimators=40..............................\n",
            "[CV 2/3; 64/70] END ............max_depth=7, n_estimators=40; total time=   8.3s\n",
            "[CV 3/3; 64/70] START max_depth=7, n_estimators=40..............................\n",
            "[CV 3/3; 64/70] END ............max_depth=7, n_estimators=40; total time=   8.1s\n",
            "[CV 1/3; 65/70] START max_depth=7, n_estimators=50..............................\n",
            "[CV 1/3; 65/70] END ............max_depth=7, n_estimators=50; total time=   9.8s\n",
            "[CV 2/3; 65/70] START max_depth=7, n_estimators=50..............................\n",
            "[CV 2/3; 65/70] END ............max_depth=7, n_estimators=50; total time=   9.7s\n",
            "[CV 3/3; 65/70] START max_depth=7, n_estimators=50..............................\n",
            "[CV 3/3; 65/70] END ............max_depth=7, n_estimators=50; total time=   9.9s\n",
            "[CV 1/3; 66/70] START max_depth=7, n_estimators=60..............................\n",
            "[CV 1/3; 66/70] END ............max_depth=7, n_estimators=60; total time=  11.8s\n",
            "[CV 2/3; 66/70] START max_depth=7, n_estimators=60..............................\n",
            "[CV 2/3; 66/70] END ............max_depth=7, n_estimators=60; total time=  12.0s\n",
            "[CV 3/3; 66/70] START max_depth=7, n_estimators=60..............................\n",
            "[CV 3/3; 66/70] END ............max_depth=7, n_estimators=60; total time=  11.7s\n",
            "[CV 1/3; 67/70] START max_depth=7, n_estimators=70..............................\n",
            "[CV 1/3; 67/70] END ............max_depth=7, n_estimators=70; total time=  14.0s\n",
            "[CV 2/3; 67/70] START max_depth=7, n_estimators=70..............................\n",
            "[CV 2/3; 67/70] END ............max_depth=7, n_estimators=70; total time=  13.5s\n",
            "[CV 3/3; 67/70] START max_depth=7, n_estimators=70..............................\n",
            "[CV 3/3; 67/70] END ............max_depth=7, n_estimators=70; total time=  13.9s\n",
            "[CV 1/3; 68/70] START max_depth=7, n_estimators=80..............................\n",
            "[CV 1/3; 68/70] END ............max_depth=7, n_estimators=80; total time=  15.4s\n",
            "[CV 2/3; 68/70] START max_depth=7, n_estimators=80..............................\n",
            "[CV 2/3; 68/70] END ............max_depth=7, n_estimators=80; total time=  15.4s\n",
            "[CV 3/3; 68/70] START max_depth=7, n_estimators=80..............................\n",
            "[CV 3/3; 68/70] END ............max_depth=7, n_estimators=80; total time=  15.4s\n",
            "[CV 1/3; 69/70] START max_depth=7, n_estimators=90..............................\n",
            "[CV 1/3; 69/70] END ............max_depth=7, n_estimators=90; total time=  17.5s\n",
            "[CV 2/3; 69/70] START max_depth=7, n_estimators=90..............................\n",
            "[CV 2/3; 69/70] END ............max_depth=7, n_estimators=90; total time=  17.1s\n",
            "[CV 3/3; 69/70] START max_depth=7, n_estimators=90..............................\n",
            "[CV 3/3; 69/70] END ............max_depth=7, n_estimators=90; total time=  17.7s\n",
            "[CV 1/3; 70/70] START max_depth=7, n_estimators=100.............................\n",
            "[CV 1/3; 70/70] END ...........max_depth=7, n_estimators=100; total time=  19.5s\n",
            "[CV 2/3; 70/70] START max_depth=7, n_estimators=100.............................\n",
            "[CV 2/3; 70/70] END ...........max_depth=7, n_estimators=100; total time=  19.3s\n",
            "[CV 3/3; 70/70] START max_depth=7, n_estimators=100.............................\n",
            "[CV 3/3; 70/70] END ...........max_depth=7, n_estimators=100; total time=  19.6s\n",
            "CPU times: user 22min 34s, sys: 2.93 s, total: 22min 37s\n",
            "Wall time: 22min 40s\n"
          ]
        },
        {
          "data": {
            "text/plain": [
              "GridSearchCV(cv=3, error_score='raise',\n",
              "             estimator=RandomForestRegressor(random_state=12345), n_jobs=-1,\n",
              "             param_grid={'max_depth': range(1, 8),\n",
              "                         'n_estimators': range(10, 101, 10)},\n",
              "             scoring=make_scorer(s_mape, greater_is_better=False), verbose=10)"
            ]
          },
          "execution_count": 54,
          "metadata": {},
          "output_type": "execute_result"
        }
      ],
      "source": [
        "%%time\n",
        "\n",
        "#выполнение ячейки занимает около 23 минут. На выходе получаем лучшие параметры: глубина 3, количество деревьев 40\n",
        "\n",
        "model = RandomForestRegressor(random_state=12345)\n",
        "\n",
        "grid = GridSearchCV(model,\n",
        "                    parametrs,\n",
        "                    scoring=make_scorer(\n",
        "                        s_mape,\n",
        "                        greater_is_better=False),\n",
        "                    n_jobs=-1,\n",
        "                    verbose=10,\n",
        "                    cv=3,\n",
        "                    error_score=\"raise\")\n",
        "\n",
        "grid.fit(features_train, target_train)"
      ]
    },
    {
      "cell_type": "code",
      "execution_count": null,
      "metadata": {
        "scrolled": true,
        "id": "UViRP9wsSchY",
        "outputId": "21b23516-76c0-4525-dd91-7f407f8c1907"
      },
      "outputs": [
        {
          "name": "stdout",
          "output_type": "stream",
          "text": [
            "\n",
            "model_best = {'max_depth': 3, 'n_estimators': 40}\n",
            "best_score = 9.711337405061391\n",
            "\n"
          ]
        }
      ],
      "source": [
        "print('model_best =', grid.best_params_)\n",
        "print('best_score =', grid.best_score_)"
      ]
    },
    {
      "cell_type": "markdown",
      "metadata": {
        "id": "l6btEXD6SchY"
      },
      "source": [
        "model_best = {'max_depth': 3, 'n_estimators': 40}\n",
        "best_score = 9.711337405061391"
      ]
    },
    {
      "cell_type": "markdown",
      "metadata": {
        "id": "p_tXFHFBSchY"
      },
      "source": [
        "На выходе получаем лучшие параметры для модели случайный лес: глубина 3, количество деревьев 40"
      ]
    },
    {
      "cell_type": "markdown",
      "metadata": {
        "id": "tU1b25DmSchY"
      },
      "source": [
        "#### Линейная регрессия"
      ]
    },
    {
      "cell_type": "code",
      "execution_count": null,
      "metadata": {
        "scrolled": true,
        "id": "L6sVvaiOSchY",
        "outputId": "74e56638-5f5a-46ab-c110-b3664f1e0a09"
      },
      "outputs": [
        {
          "name": "stdout",
          "output_type": "stream",
          "text": [
            "model = LinearRegression()\n",
            "Средняя оценка качества модели 10.084 % и ее стандартное отклонение 1.703 %\n",
            "CPU times: user 490 ms, sys: 568 ms, total: 1.06 s\n",
            "Wall time: 1.01 s\n"
          ]
        }
      ],
      "source": [
        "%%time\n",
        "\n",
        "model = LinearRegression()\n",
        "\n",
        "scores = cross_val_score(model, features_train, target_train, scoring = make_scorer(s_mape, greater_is_better=False))\n",
        "final_score = -scores.mean()\n",
        "print('model =', model)\n",
        "print(f\"Средняя оценка качества модели {scores.mean():.3f} % и ее стандартное отклонение {scores.std():.3f} %\")"
      ]
    },
    {
      "cell_type": "markdown",
      "metadata": {
        "id": "Hl16FjXUSchY"
      },
      "source": [
        "Метрика sMAPE хуже, чем у случайного леса (9.71%)"
      ]
    },
    {
      "cell_type": "markdown",
      "metadata": {
        "id": "OsM0ekFZSchY"
      },
      "source": [
        "### Выберем лучшую модель и проверим её на тестовой выборке"
      ]
    },
    {
      "cell_type": "markdown",
      "metadata": {
        "id": "1KraUabVSchY"
      },
      "source": [
        "Лучшей моделью оказался случайный лес (его sMAPE = 9.71%)"
      ]
    },
    {
      "cell_type": "code",
      "execution_count": null,
      "metadata": {
        "id": "iFSssiELSchZ"
      },
      "outputs": [],
      "source": [
        "#подготовка признаков и таргетов\n",
        "features_test = data_test.drop(['date'], axis=1)"
      ]
    },
    {
      "cell_type": "code",
      "execution_count": null,
      "metadata": {
        "scrolled": true,
        "id": "Z2fTW4MWSchZ",
        "outputId": "f966216b-f968-4e4f-8b79-d4c5967b7e85"
      },
      "outputs": [
        {
          "name": "stdout",
          "output_type": "stream",
          "text": [
            "CPU times: user 5.6 s, sys: 28 ms, total: 5.63 s\n",
            "Wall time: 5.65 s\n"
          ]
        }
      ],
      "source": [
        "%%time\n",
        "\n",
        "model_test = RandomForestRegressor(random_state=12345,\n",
        "                              max_depth=3,\n",
        "                              n_estimators=40)\n",
        "model_test.fit(features_train, target_train)\n",
        "test_predicted = model_test.predict(features_test)"
      ]
    },
    {
      "cell_type": "code",
      "execution_count": null,
      "metadata": {
        "id": "AuJvXHDBSchZ"
      },
      "outputs": [],
      "source": [
        "full_recovery = data_full_initial[['date', 'rougher.output.recovery', 'final.output.recovery']]\n",
        "target_recovery = data_test.merge(full_recovery, on='date', how = 'inner')\n",
        "target_recovery = target_recovery[['rougher.output.recovery', 'final.output.recovery']]"
      ]
    },
    {
      "cell_type": "code",
      "execution_count": null,
      "metadata": {
        "id": "lJ61SYWcSchZ",
        "outputId": "b4d6ab01-1396-42ad-d93f-85c08172581b"
      },
      "outputs": [
        {
          "data": {
            "text/plain": [
              "5290"
            ]
          },
          "execution_count": 60,
          "metadata": {},
          "output_type": "execute_result"
        }
      ],
      "source": [
        "target_recovery.shape[0]"
      ]
    },
    {
      "cell_type": "code",
      "execution_count": null,
      "metadata": {
        "scrolled": true,
        "id": "X4eczlgzSchZ",
        "outputId": "313c7515-951a-4bfd-def7-f28379120579"
      },
      "outputs": [
        {
          "data": {
            "text/plain": [
              "5290"
            ]
          },
          "execution_count": 61,
          "metadata": {},
          "output_type": "execute_result"
        }
      ],
      "source": [
        "test_predicted.shape[0]"
      ]
    },
    {
      "cell_type": "markdown",
      "metadata": {
        "id": "kHhPi-hbSchZ"
      },
      "source": [
        "Теперь количество строк сходится. Можем вычислять итоговый  sMAPE на тестовой выборке:"
      ]
    },
    {
      "cell_type": "code",
      "execution_count": null,
      "metadata": {
        "id": "cuF8bpb0Schc",
        "outputId": "5e20df09-9705-4a70-a753-a260f95fcacc"
      },
      "outputs": [
        {
          "name": "stdout",
          "output_type": "stream",
          "text": [
            "Итоговое sMAPE = 9.340 %\n"
          ]
        }
      ],
      "source": [
        "S_MAPE = s_mape(target_recovery, test_predicted)\n",
        "print(f\"Итоговое sMAPE = {S_MAPE :.3f} %\")"
      ]
    },
    {
      "cell_type": "markdown",
      "metadata": {
        "id": "cIcWs8DYSchc"
      },
      "source": [
        "### Проверка финальной модели на адекватность"
      ]
    },
    {
      "cell_type": "markdown",
      "metadata": {
        "id": "thyzp2DnSchc"
      },
      "source": [
        "Возьмем константную модель, которая предсказывает среднее"
      ]
    },
    {
      "cell_type": "code",
      "execution_count": null,
      "metadata": {
        "id": "vdrhAugHSchc"
      },
      "outputs": [],
      "source": [
        "model_dum = DummyRegressor(strategy=\"mean\")\n",
        "model_dum.fit(features_train, target_train)\n",
        "predicted_mean = model_dum.predict(features_test)\n",
        "#predicted_mean"
      ]
    },
    {
      "cell_type": "code",
      "execution_count": null,
      "metadata": {
        "id": "BNTRHXN_Schc",
        "outputId": "1f194a21-79cb-4d4f-ec9c-89de676e0b9c"
      },
      "outputs": [
        {
          "data": {
            "text/plain": [
              "array([[84.51778647, 66.80292799],\n",
              "       [84.51778647, 66.80292799],\n",
              "       [84.51778647, 66.80292799],\n",
              "       ...,\n",
              "       [84.51778647, 66.80292799],\n",
              "       [84.51778647, 66.80292799],\n",
              "       [84.51778647, 66.80292799]])"
            ]
          },
          "execution_count": 64,
          "metadata": {},
          "output_type": "execute_result"
        }
      ],
      "source": [
        "predicted_mean"
      ]
    },
    {
      "cell_type": "code",
      "execution_count": null,
      "metadata": {
        "id": "ACGGYSEOSchc",
        "outputId": "189f6318-a7a8-4c5d-d193-a42689618439"
      },
      "outputs": [
        {
          "data": {
            "text/plain": [
              "5290"
            ]
          },
          "execution_count": 65,
          "metadata": {},
          "output_type": "execute_result"
        }
      ],
      "source": [
        "predicted_mean.shape[0]"
      ]
    },
    {
      "cell_type": "code",
      "execution_count": null,
      "metadata": {
        "id": "lXOliXALSchc",
        "outputId": "757c63b6-a8ce-4570-9fa6-52b0e314250c"
      },
      "outputs": [
        {
          "name": "stdout",
          "output_type": "stream",
          "text": [
            "Dummy(strategy-mean) sMAPE = 9.832 %\n"
          ]
        }
      ],
      "source": [
        "S_MAPE = s_mape(target_recovery, predicted_mean)\n",
        "print(f\"Dummy(strategy-mean) sMAPE = {S_MAPE :.3f} %\")"
      ]
    },
    {
      "cell_type": "markdown",
      "metadata": {
        "id": "Xh7AZ-cASchd"
      },
      "source": [
        "В данном случае метрика лучшей модели (случайный лес - sMAPE = 9.34%) на тестовой выборке чуть лучше, чем предсказания константной модели (9.82%)"
      ]
    }
  ],
  "metadata": {
    "ExecuteTimeLog": [
      {
        "duration": 396,
        "start_time": "2023-04-27T10:25:52.957Z"
      },
      {
        "duration": 106,
        "start_time": "2023-04-27T10:26:32.604Z"
      },
      {
        "duration": 1319,
        "start_time": "2023-04-27T10:26:52.793Z"
      },
      {
        "duration": 27,
        "start_time": "2023-04-27T10:27:01.061Z"
      },
      {
        "duration": 362,
        "start_time": "2023-04-29T10:23:00.806Z"
      },
      {
        "duration": 1201,
        "start_time": "2023-04-29T10:23:01.170Z"
      },
      {
        "duration": 33,
        "start_time": "2023-04-29T10:23:02.373Z"
      },
      {
        "duration": 153,
        "start_time": "2023-04-29T10:23:53.630Z"
      },
      {
        "duration": 21,
        "start_time": "2023-04-29T10:24:01.718Z"
      },
      {
        "duration": 549,
        "start_time": "2023-04-29T10:24:35.735Z"
      },
      {
        "duration": 21,
        "start_time": "2023-04-29T10:24:44.955Z"
      },
      {
        "duration": 45,
        "start_time": "2023-05-01T08:38:10.246Z"
      },
      {
        "duration": 382,
        "start_time": "2023-05-01T08:38:21.997Z"
      },
      {
        "duration": 780,
        "start_time": "2023-05-01T08:38:22.381Z"
      },
      {
        "duration": 30,
        "start_time": "2023-05-01T08:38:23.162Z"
      },
      {
        "duration": 390,
        "start_time": "2023-05-01T08:38:23.194Z"
      },
      {
        "duration": 20,
        "start_time": "2023-05-01T08:38:23.587Z"
      },
      {
        "duration": 1846,
        "start_time": "2023-05-01T08:38:23.608Z"
      },
      {
        "duration": 20,
        "start_time": "2023-05-01T08:38:25.455Z"
      },
      {
        "duration": 7,
        "start_time": "2023-05-01T08:38:25.477Z"
      },
      {
        "duration": 7,
        "start_time": "2023-05-01T08:38:46.210Z"
      },
      {
        "duration": 615,
        "start_time": "2023-05-01T08:48:17.457Z"
      },
      {
        "duration": 3,
        "start_time": "2023-05-01T09:15:13.936Z"
      },
      {
        "duration": 253,
        "start_time": "2023-05-01T09:15:14.882Z"
      },
      {
        "duration": 57,
        "start_time": "2023-05-01T09:15:15.525Z"
      },
      {
        "duration": 12,
        "start_time": "2023-05-01T09:15:49.021Z"
      },
      {
        "duration": 63,
        "start_time": "2023-05-01T09:16:11.750Z"
      },
      {
        "duration": 5,
        "start_time": "2023-05-01T09:17:39.195Z"
      },
      {
        "duration": 2,
        "start_time": "2023-05-01T09:20:26.417Z"
      },
      {
        "duration": 5,
        "start_time": "2023-05-01T09:21:50.944Z"
      },
      {
        "duration": 92,
        "start_time": "2023-05-01T09:23:07.007Z"
      },
      {
        "duration": 2,
        "start_time": "2023-05-01T09:23:13.752Z"
      },
      {
        "duration": 4,
        "start_time": "2023-05-01T09:23:21.839Z"
      },
      {
        "duration": 5,
        "start_time": "2023-05-01T09:23:46.803Z"
      },
      {
        "duration": 33,
        "start_time": "2023-05-01T09:24:50.101Z"
      },
      {
        "duration": 15,
        "start_time": "2023-05-01T09:29:59.447Z"
      },
      {
        "duration": 19,
        "start_time": "2023-05-01T09:33:01.049Z"
      },
      {
        "duration": 66,
        "start_time": "2023-05-01T09:33:09.298Z"
      },
      {
        "duration": 10,
        "start_time": "2023-05-01T09:35:24.906Z"
      },
      {
        "duration": 89,
        "start_time": "2023-05-01T09:35:45.008Z"
      },
      {
        "duration": 8,
        "start_time": "2023-05-01T09:35:56.127Z"
      },
      {
        "duration": 7,
        "start_time": "2023-05-01T09:36:08.181Z"
      },
      {
        "duration": 11,
        "start_time": "2023-05-01T09:36:14.029Z"
      },
      {
        "duration": 8,
        "start_time": "2023-05-01T09:36:20.612Z"
      },
      {
        "duration": 8,
        "start_time": "2023-05-01T09:36:33.811Z"
      },
      {
        "duration": 10,
        "start_time": "2023-05-01T09:36:41.302Z"
      },
      {
        "duration": 10,
        "start_time": "2023-05-01T09:36:46.792Z"
      },
      {
        "duration": 7,
        "start_time": "2023-05-01T09:36:50.090Z"
      },
      {
        "duration": 9,
        "start_time": "2023-05-01T09:37:02.690Z"
      },
      {
        "duration": 7,
        "start_time": "2023-05-01T09:37:07.956Z"
      },
      {
        "duration": 8,
        "start_time": "2023-05-01T09:37:16.591Z"
      },
      {
        "duration": 14,
        "start_time": "2023-05-01T09:37:29.446Z"
      },
      {
        "duration": 9,
        "start_time": "2023-05-01T09:37:33.758Z"
      },
      {
        "duration": 305,
        "start_time": "2023-05-01T09:38:50.849Z"
      },
      {
        "duration": 9,
        "start_time": "2023-05-01T09:39:34.723Z"
      },
      {
        "duration": 14,
        "start_time": "2023-05-01T09:39:43.027Z"
      },
      {
        "duration": 11,
        "start_time": "2023-05-01T09:40:44.909Z"
      },
      {
        "duration": 3,
        "start_time": "2023-05-01T09:41:38.853Z"
      },
      {
        "duration": 11,
        "start_time": "2023-05-01T09:41:43.491Z"
      },
      {
        "duration": 1228,
        "start_time": "2023-05-01T13:40:10.710Z"
      },
      {
        "duration": 3,
        "start_time": "2023-05-01T13:40:11.940Z"
      },
      {
        "duration": 10,
        "start_time": "2023-05-01T13:40:11.945Z"
      },
      {
        "duration": 1687,
        "start_time": "2023-05-01T13:40:11.956Z"
      },
      {
        "duration": 87,
        "start_time": "2023-05-01T13:40:13.645Z"
      },
      {
        "duration": 251,
        "start_time": "2023-05-01T13:40:13.733Z"
      },
      {
        "duration": 46,
        "start_time": "2023-05-01T13:40:13.986Z"
      },
      {
        "duration": 794,
        "start_time": "2023-05-01T13:40:14.035Z"
      },
      {
        "duration": 102,
        "start_time": "2023-05-01T13:40:14.830Z"
      },
      {
        "duration": 204,
        "start_time": "2023-05-01T13:40:14.933Z"
      },
      {
        "duration": 29,
        "start_time": "2023-05-01T13:40:15.139Z"
      },
      {
        "duration": 14,
        "start_time": "2023-05-01T13:40:15.170Z"
      },
      {
        "duration": 9,
        "start_time": "2023-05-01T13:40:15.186Z"
      },
      {
        "duration": 23,
        "start_time": "2023-05-01T13:40:15.199Z"
      },
      {
        "duration": 12,
        "start_time": "2023-05-01T13:40:15.224Z"
      },
      {
        "duration": 35,
        "start_time": "2023-05-01T13:40:15.238Z"
      },
      {
        "duration": 142,
        "start_time": "2023-05-01T13:43:21.811Z"
      },
      {
        "duration": 39702,
        "start_time": "2023-05-01T13:43:31.500Z"
      },
      {
        "duration": 11,
        "start_time": "2023-05-02T07:27:07.423Z"
      },
      {
        "duration": 10,
        "start_time": "2023-05-02T07:27:32.458Z"
      },
      {
        "duration": 13,
        "start_time": "2023-05-02T07:27:33.554Z"
      },
      {
        "duration": 11,
        "start_time": "2023-05-02T07:27:38.357Z"
      },
      {
        "duration": 9,
        "start_time": "2023-05-02T07:28:54.513Z"
      },
      {
        "duration": 9,
        "start_time": "2023-05-02T07:29:08.906Z"
      },
      {
        "duration": 5,
        "start_time": "2023-05-02T07:30:13.315Z"
      },
      {
        "duration": 9,
        "start_time": "2023-05-02T07:30:21.280Z"
      },
      {
        "duration": 11,
        "start_time": "2023-05-02T07:30:55.516Z"
      },
      {
        "duration": 15,
        "start_time": "2023-05-02T07:31:38.133Z"
      },
      {
        "duration": 12,
        "start_time": "2023-05-02T07:31:50.230Z"
      },
      {
        "duration": 72,
        "start_time": "2023-05-02T07:35:49.360Z"
      },
      {
        "duration": 11,
        "start_time": "2023-05-02T07:40:25.089Z"
      },
      {
        "duration": 6,
        "start_time": "2023-05-02T07:41:18.457Z"
      },
      {
        "duration": 7,
        "start_time": "2023-05-02T07:41:41.921Z"
      },
      {
        "duration": 8,
        "start_time": "2023-05-02T07:42:04.759Z"
      },
      {
        "duration": 749,
        "start_time": "2023-05-02T07:43:45.826Z"
      },
      {
        "duration": 271,
        "start_time": "2023-05-02T07:43:57.928Z"
      },
      {
        "duration": 187,
        "start_time": "2023-05-02T07:44:43.326Z"
      },
      {
        "duration": 270,
        "start_time": "2023-05-02T07:44:52.454Z"
      },
      {
        "duration": 7,
        "start_time": "2023-05-02T07:48:31.843Z"
      },
      {
        "duration": 391,
        "start_time": "2023-05-02T07:59:54.620Z"
      },
      {
        "duration": 156,
        "start_time": "2023-05-02T08:00:09.517Z"
      },
      {
        "duration": 272,
        "start_time": "2023-05-02T08:00:44.088Z"
      },
      {
        "duration": 87,
        "start_time": "2023-05-02T08:20:24.474Z"
      },
      {
        "duration": 12,
        "start_time": "2023-05-02T08:22:17.629Z"
      },
      {
        "duration": 243,
        "start_time": "2023-05-02T08:22:51.831Z"
      },
      {
        "duration": 18,
        "start_time": "2023-05-02T08:23:07.953Z"
      },
      {
        "duration": 4,
        "start_time": "2023-05-02T08:23:37.506Z"
      },
      {
        "duration": 224,
        "start_time": "2023-05-02T08:23:41.959Z"
      },
      {
        "duration": 231,
        "start_time": "2023-05-02T08:24:35.603Z"
      },
      {
        "duration": 228,
        "start_time": "2023-05-02T08:24:51.927Z"
      },
      {
        "duration": 245,
        "start_time": "2023-05-02T08:25:13.502Z"
      },
      {
        "duration": 213,
        "start_time": "2023-05-02T08:25:40.558Z"
      },
      {
        "duration": 489,
        "start_time": "2023-05-02T08:29:40.202Z"
      },
      {
        "duration": 423,
        "start_time": "2023-05-02T08:34:45.413Z"
      },
      {
        "duration": 214,
        "start_time": "2023-05-02T08:35:57.487Z"
      },
      {
        "duration": 210,
        "start_time": "2023-05-02T08:37:42.506Z"
      },
      {
        "duration": 255,
        "start_time": "2023-05-02T08:37:45.771Z"
      },
      {
        "duration": 198,
        "start_time": "2023-05-02T08:45:48.050Z"
      },
      {
        "duration": 425,
        "start_time": "2023-05-02T08:46:55.656Z"
      },
      {
        "duration": 186,
        "start_time": "2023-05-02T08:47:07.013Z"
      },
      {
        "duration": 198,
        "start_time": "2023-05-02T08:47:58.768Z"
      },
      {
        "duration": 186,
        "start_time": "2023-05-02T08:48:24.067Z"
      },
      {
        "duration": 387,
        "start_time": "2023-05-02T09:10:48.719Z"
      },
      {
        "duration": 371,
        "start_time": "2023-05-02T09:11:05.816Z"
      },
      {
        "duration": 767,
        "start_time": "2023-05-02T09:11:26.375Z"
      },
      {
        "duration": 12,
        "start_time": "2023-05-02T09:12:22.922Z"
      },
      {
        "duration": 14,
        "start_time": "2023-05-02T09:12:34.853Z"
      },
      {
        "duration": 1753,
        "start_time": "2023-05-03T05:18:45.658Z"
      },
      {
        "duration": 3,
        "start_time": "2023-05-03T05:18:47.413Z"
      },
      {
        "duration": 14,
        "start_time": "2023-05-03T05:18:47.417Z"
      },
      {
        "duration": 819,
        "start_time": "2023-05-03T05:18:47.433Z"
      },
      {
        "duration": 55,
        "start_time": "2023-05-03T05:18:48.254Z"
      },
      {
        "duration": 369,
        "start_time": "2023-05-03T05:18:48.310Z"
      },
      {
        "duration": 36,
        "start_time": "2023-05-03T05:18:48.681Z"
      },
      {
        "duration": 1722,
        "start_time": "2023-05-03T05:18:48.718Z"
      },
      {
        "duration": 55,
        "start_time": "2023-05-03T05:18:50.442Z"
      },
      {
        "duration": 136,
        "start_time": "2023-05-03T05:18:50.499Z"
      },
      {
        "duration": 23,
        "start_time": "2023-05-03T05:18:50.637Z"
      },
      {
        "duration": 10,
        "start_time": "2023-05-03T05:18:50.662Z"
      },
      {
        "duration": 32,
        "start_time": "2023-05-03T05:18:50.674Z"
      },
      {
        "duration": 21,
        "start_time": "2023-05-03T05:18:50.709Z"
      },
      {
        "duration": 12,
        "start_time": "2023-05-03T05:18:50.732Z"
      },
      {
        "duration": 24,
        "start_time": "2023-05-03T05:18:50.746Z"
      },
      {
        "duration": 24,
        "start_time": "2023-05-03T05:18:50.772Z"
      },
      {
        "duration": 8,
        "start_time": "2023-05-03T05:18:50.798Z"
      },
      {
        "duration": 19,
        "start_time": "2023-05-03T05:18:50.807Z"
      },
      {
        "duration": 5,
        "start_time": "2023-05-03T05:18:50.828Z"
      },
      {
        "duration": 13,
        "start_time": "2023-05-03T05:18:50.834Z"
      },
      {
        "duration": 17,
        "start_time": "2023-05-03T05:18:50.849Z"
      },
      {
        "duration": 18,
        "start_time": "2023-05-03T05:18:50.867Z"
      },
      {
        "duration": 84,
        "start_time": "2023-05-03T05:18:50.887Z"
      },
      {
        "duration": 80,
        "start_time": "2023-05-03T05:18:50.973Z"
      },
      {
        "duration": 5,
        "start_time": "2023-05-03T05:18:51.055Z"
      },
      {
        "duration": 276,
        "start_time": "2023-05-03T05:18:51.062Z"
      },
      {
        "duration": 227,
        "start_time": "2023-05-03T05:18:51.340Z"
      },
      {
        "duration": 156,
        "start_time": "2023-05-03T05:18:51.568Z"
      },
      {
        "duration": 239,
        "start_time": "2023-05-03T05:18:51.725Z"
      },
      {
        "duration": 22,
        "start_time": "2023-05-03T05:18:51.965Z"
      },
      {
        "duration": 223,
        "start_time": "2023-05-03T05:18:51.989Z"
      },
      {
        "duration": 155,
        "start_time": "2023-05-03T05:18:52.214Z"
      },
      {
        "duration": 158,
        "start_time": "2023-05-03T05:18:52.371Z"
      },
      {
        "duration": 9,
        "start_time": "2023-05-03T05:18:52.531Z"
      },
      {
        "duration": 80,
        "start_time": "2023-05-03T05:18:52.541Z"
      },
      {
        "duration": 460,
        "start_time": "2023-05-03T05:18:52.623Z"
      },
      {
        "duration": 12,
        "start_time": "2023-05-03T05:18:53.084Z"
      },
      {
        "duration": 19,
        "start_time": "2023-05-03T05:21:12.593Z"
      },
      {
        "duration": 537,
        "start_time": "2023-05-03T05:24:15.795Z"
      },
      {
        "duration": 607,
        "start_time": "2023-05-03T05:24:42.103Z"
      },
      {
        "duration": 549,
        "start_time": "2023-05-03T05:25:14.143Z"
      },
      {
        "duration": 7,
        "start_time": "2023-05-03T05:33:39.422Z"
      },
      {
        "duration": 8,
        "start_time": "2023-05-03T05:36:20.220Z"
      },
      {
        "duration": 52,
        "start_time": "2023-05-03T05:40:16.843Z"
      },
      {
        "duration": 4,
        "start_time": "2023-05-03T06:25:26.639Z"
      },
      {
        "duration": 50645,
        "start_time": "2023-05-03T06:35:32.570Z"
      },
      {
        "duration": 4,
        "start_time": "2023-05-03T06:38:56.413Z"
      },
      {
        "duration": 44204,
        "start_time": "2023-05-03T06:39:54.992Z"
      },
      {
        "duration": 1530,
        "start_time": "2023-05-04T04:18:04.882Z"
      },
      {
        "duration": 3,
        "start_time": "2023-05-04T04:18:06.414Z"
      },
      {
        "duration": 9,
        "start_time": "2023-05-04T04:18:06.420Z"
      },
      {
        "duration": 1297,
        "start_time": "2023-05-04T04:18:06.431Z"
      },
      {
        "duration": 102,
        "start_time": "2023-05-04T04:18:07.731Z"
      },
      {
        "duration": 189,
        "start_time": "2023-05-04T04:18:07.836Z"
      },
      {
        "duration": 43,
        "start_time": "2023-05-04T04:18:08.027Z"
      },
      {
        "duration": 629,
        "start_time": "2023-05-04T04:18:08.072Z"
      },
      {
        "duration": 93,
        "start_time": "2023-05-04T04:18:08.703Z"
      },
      {
        "duration": 175,
        "start_time": "2023-05-04T04:18:08.798Z"
      },
      {
        "duration": 31,
        "start_time": "2023-05-04T04:18:08.974Z"
      },
      {
        "duration": 8,
        "start_time": "2023-05-04T04:18:09.007Z"
      },
      {
        "duration": 7,
        "start_time": "2023-05-04T04:18:09.018Z"
      },
      {
        "duration": 33,
        "start_time": "2023-05-04T04:18:09.028Z"
      },
      {
        "duration": 21,
        "start_time": "2023-05-04T04:18:09.064Z"
      },
      {
        "duration": 15,
        "start_time": "2023-05-04T04:18:09.087Z"
      },
      {
        "duration": 13,
        "start_time": "2023-05-04T04:18:09.104Z"
      },
      {
        "duration": 9,
        "start_time": "2023-05-04T04:18:09.119Z"
      },
      {
        "duration": 9,
        "start_time": "2023-05-04T04:18:09.130Z"
      },
      {
        "duration": 4,
        "start_time": "2023-05-04T04:18:09.140Z"
      },
      {
        "duration": 13,
        "start_time": "2023-05-04T04:18:09.146Z"
      },
      {
        "duration": 40,
        "start_time": "2023-05-04T04:18:09.161Z"
      },
      {
        "duration": 13,
        "start_time": "2023-05-04T04:18:09.202Z"
      },
      {
        "duration": 9,
        "start_time": "2023-05-04T04:18:09.217Z"
      },
      {
        "duration": 88,
        "start_time": "2023-05-04T04:18:09.227Z"
      },
      {
        "duration": 7,
        "start_time": "2023-05-04T04:18:09.317Z"
      },
      {
        "duration": 313,
        "start_time": "2023-05-04T04:18:09.326Z"
      },
      {
        "duration": 370,
        "start_time": "2023-05-04T04:18:09.641Z"
      },
      {
        "duration": 200,
        "start_time": "2023-05-04T04:18:10.013Z"
      },
      {
        "duration": 341,
        "start_time": "2023-05-04T04:18:10.215Z"
      },
      {
        "duration": 14,
        "start_time": "2023-05-04T04:18:10.558Z"
      },
      {
        "duration": 194,
        "start_time": "2023-05-04T04:18:10.574Z"
      },
      {
        "duration": 231,
        "start_time": "2023-05-04T04:18:10.770Z"
      },
      {
        "duration": 173,
        "start_time": "2023-05-04T04:18:11.003Z"
      },
      {
        "duration": 16,
        "start_time": "2023-05-04T04:18:11.178Z"
      },
      {
        "duration": 11,
        "start_time": "2023-05-04T04:18:11.196Z"
      },
      {
        "duration": 571,
        "start_time": "2023-05-04T04:18:11.210Z"
      },
      {
        "duration": 17,
        "start_time": "2023-05-04T04:18:11.791Z"
      },
      {
        "duration": 22,
        "start_time": "2023-05-04T04:18:11.811Z"
      },
      {
        "duration": 690,
        "start_time": "2023-05-04T04:18:11.835Z"
      },
      {
        "duration": 5,
        "start_time": "2023-05-04T04:18:12.530Z"
      },
      {
        "duration": 14,
        "start_time": "2023-05-04T04:18:12.537Z"
      },
      {
        "duration": 6,
        "start_time": "2023-05-04T04:18:12.553Z"
      },
      {
        "duration": 52095,
        "start_time": "2023-05-04T04:18:12.560Z"
      },
      {
        "duration": 5,
        "start_time": "2023-05-04T04:19:04.658Z"
      },
      {
        "duration": 45559,
        "start_time": "2023-05-04T04:19:04.665Z"
      },
      {
        "duration": 183,
        "start_time": "2023-05-04T04:47:42.886Z"
      },
      {
        "duration": 5,
        "start_time": "2023-05-04T04:47:46.091Z"
      },
      {
        "duration": 409198,
        "start_time": "2023-05-04T04:47:48.034Z"
      },
      {
        "duration": 9,
        "start_time": "2023-05-04T05:25:21.671Z"
      },
      {
        "duration": 5,
        "start_time": "2023-05-04T05:25:58.717Z"
      },
      {
        "duration": 12,
        "start_time": "2023-05-04T05:27:49.389Z"
      },
      {
        "duration": 23924,
        "start_time": "2023-05-04T05:30:20.868Z"
      },
      {
        "duration": 9,
        "start_time": "2023-05-04T05:31:43.151Z"
      },
      {
        "duration": 16,
        "start_time": "2023-05-04T05:33:48.965Z"
      },
      {
        "duration": 15,
        "start_time": "2023-05-04T05:34:39.051Z"
      },
      {
        "duration": 6,
        "start_time": "2023-05-04T05:36:03.525Z"
      },
      {
        "duration": 4,
        "start_time": "2023-05-04T05:36:18.125Z"
      },
      {
        "duration": 343,
        "start_time": "2023-05-04T05:41:58.260Z"
      },
      {
        "duration": 16,
        "start_time": "2023-05-04T05:42:39.889Z"
      },
      {
        "duration": 5,
        "start_time": "2023-05-04T05:42:47.764Z"
      },
      {
        "duration": 7,
        "start_time": "2023-05-04T05:42:52.944Z"
      },
      {
        "duration": 7,
        "start_time": "2023-05-04T05:43:32.033Z"
      },
      {
        "duration": 4,
        "start_time": "2023-05-04T05:49:14.800Z"
      },
      {
        "duration": 2296,
        "start_time": "2023-05-04T05:50:51.612Z"
      },
      {
        "duration": 3,
        "start_time": "2023-05-04T05:56:44.045Z"
      },
      {
        "duration": 4,
        "start_time": "2023-05-04T05:57:25.840Z"
      },
      {
        "duration": 11,
        "start_time": "2023-05-04T05:58:06.351Z"
      },
      {
        "duration": 58,
        "start_time": "2023-05-04T05:58:20.393Z"
      },
      {
        "duration": 37,
        "start_time": "2023-05-04T05:59:14.429Z"
      },
      {
        "duration": 35,
        "start_time": "2023-05-04T05:59:59.522Z"
      },
      {
        "duration": 7,
        "start_time": "2023-05-04T06:01:08.426Z"
      },
      {
        "duration": 7,
        "start_time": "2023-05-04T06:01:47.262Z"
      },
      {
        "duration": 5,
        "start_time": "2023-05-04T06:02:17.935Z"
      },
      {
        "duration": 4,
        "start_time": "2023-05-04T06:03:44.490Z"
      },
      {
        "duration": 6,
        "start_time": "2023-05-04T06:04:25.878Z"
      },
      {
        "duration": 6,
        "start_time": "2023-05-04T06:04:52.870Z"
      },
      {
        "duration": 7,
        "start_time": "2023-05-04T06:04:53.624Z"
      },
      {
        "duration": 5,
        "start_time": "2023-05-04T06:04:54.434Z"
      },
      {
        "duration": 6,
        "start_time": "2023-05-04T06:04:55.121Z"
      },
      {
        "duration": 15551,
        "start_time": "2023-05-04T06:05:46.842Z"
      },
      {
        "duration": 6,
        "start_time": "2023-05-04T06:06:05.198Z"
      },
      {
        "duration": 4,
        "start_time": "2023-05-04T06:06:10.359Z"
      },
      {
        "duration": 40544,
        "start_time": "2023-05-04T06:07:40.409Z"
      },
      {
        "duration": 6,
        "start_time": "2023-05-04T06:08:32.945Z"
      },
      {
        "duration": 5,
        "start_time": "2023-05-04T06:08:46.225Z"
      },
      {
        "duration": 27443,
        "start_time": "2023-05-04T06:11:01.673Z"
      },
      {
        "duration": 7,
        "start_time": "2023-05-04T06:11:36.672Z"
      },
      {
        "duration": 5,
        "start_time": "2023-05-04T06:11:40.646Z"
      },
      {
        "duration": 17160,
        "start_time": "2023-05-04T06:12:06.089Z"
      },
      {
        "duration": 6,
        "start_time": "2023-05-04T06:20:18.174Z"
      },
      {
        "duration": 5,
        "start_time": "2023-05-04T06:20:22.417Z"
      },
      {
        "duration": 3,
        "start_time": "2023-05-04T06:21:53.863Z"
      },
      {
        "duration": 3,
        "start_time": "2023-05-04T06:24:49.850Z"
      },
      {
        "duration": 3,
        "start_time": "2023-05-04T06:26:34.622Z"
      },
      {
        "duration": 1377804,
        "start_time": "2023-05-04T06:49:55.424Z"
      },
      {
        "duration": 6,
        "start_time": "2023-05-04T09:10:27.117Z"
      },
      {
        "duration": 25490,
        "start_time": "2023-05-04T09:33:56.129Z"
      },
      {
        "duration": 5,
        "start_time": "2023-05-04T09:34:24.727Z"
      },
      {
        "duration": 4,
        "start_time": "2023-05-04T09:34:31.147Z"
      },
      {
        "duration": 6,
        "start_time": "2023-05-04T09:35:17.177Z"
      },
      {
        "duration": 11,
        "start_time": "2023-05-04T09:35:17.889Z"
      },
      {
        "duration": 4,
        "start_time": "2023-05-04T09:35:18.536Z"
      },
      {
        "duration": 6,
        "start_time": "2023-05-04T09:35:19.204Z"
      },
      {
        "duration": 5,
        "start_time": "2023-05-04T09:35:24.886Z"
      },
      {
        "duration": 5,
        "start_time": "2023-05-04T09:35:25.354Z"
      },
      {
        "duration": 4,
        "start_time": "2023-05-04T09:35:25.845Z"
      },
      {
        "duration": 5,
        "start_time": "2023-05-04T09:35:26.428Z"
      },
      {
        "duration": 1579,
        "start_time": "2023-05-10T07:51:14.403Z"
      },
      {
        "duration": 5,
        "start_time": "2023-05-10T07:51:27.441Z"
      },
      {
        "duration": 1159,
        "start_time": "2023-05-10T07:53:19.758Z"
      },
      {
        "duration": 63,
        "start_time": "2023-05-10T07:53:21.825Z"
      },
      {
        "duration": 113,
        "start_time": "2023-05-10T07:54:13.652Z"
      },
      {
        "duration": 276,
        "start_time": "2023-05-10T07:55:04.221Z"
      },
      {
        "duration": 59,
        "start_time": "2023-05-10T07:55:07.202Z"
      },
      {
        "duration": 12,
        "start_time": "2023-05-10T07:55:40.705Z"
      },
      {
        "duration": 64,
        "start_time": "2023-05-10T07:55:47.404Z"
      },
      {
        "duration": 153,
        "start_time": "2023-05-10T07:56:05.956Z"
      },
      {
        "duration": 42,
        "start_time": "2023-05-10T07:56:06.500Z"
      },
      {
        "duration": 8,
        "start_time": "2023-05-10T07:57:46.985Z"
      },
      {
        "duration": 42,
        "start_time": "2023-05-10T07:57:53.544Z"
      },
      {
        "duration": 651,
        "start_time": "2023-05-10T08:13:35.751Z"
      },
      {
        "duration": 65,
        "start_time": "2023-05-10T08:13:37.399Z"
      },
      {
        "duration": 1373,
        "start_time": "2023-05-10T08:13:52.040Z"
      },
      {
        "duration": 4,
        "start_time": "2023-05-10T08:13:53.416Z"
      },
      {
        "duration": 289,
        "start_time": "2023-05-10T08:13:53.422Z"
      },
      {
        "duration": 61,
        "start_time": "2023-05-10T08:13:53.713Z"
      },
      {
        "duration": 96,
        "start_time": "2023-05-10T08:13:53.777Z"
      },
      {
        "duration": 48,
        "start_time": "2023-05-10T08:13:53.874Z"
      },
      {
        "duration": 511,
        "start_time": "2023-05-10T08:13:53.924Z"
      },
      {
        "duration": 64,
        "start_time": "2023-05-10T08:13:57.201Z"
      },
      {
        "duration": 7,
        "start_time": "2023-05-10T08:17:28.602Z"
      },
      {
        "duration": 5,
        "start_time": "2023-05-10T08:17:31.800Z"
      },
      {
        "duration": 3,
        "start_time": "2023-05-10T08:17:39.248Z"
      },
      {
        "duration": 4,
        "start_time": "2023-05-10T08:17:40.865Z"
      },
      {
        "duration": 15,
        "start_time": "2023-05-10T08:17:44.380Z"
      },
      {
        "duration": 10,
        "start_time": "2023-05-10T08:18:33.200Z"
      },
      {
        "duration": 10,
        "start_time": "2023-05-10T08:18:43.851Z"
      },
      {
        "duration": 9,
        "start_time": "2023-05-10T08:19:22.821Z"
      },
      {
        "duration": 7,
        "start_time": "2023-05-10T08:19:31.978Z"
      },
      {
        "duration": 3,
        "start_time": "2023-05-10T08:19:38.425Z"
      },
      {
        "duration": 6,
        "start_time": "2023-05-10T08:19:40.869Z"
      },
      {
        "duration": 9,
        "start_time": "2023-05-10T08:19:46.259Z"
      },
      {
        "duration": 14,
        "start_time": "2023-05-10T08:19:52.867Z"
      },
      {
        "duration": 11,
        "start_time": "2023-05-10T08:19:53.945Z"
      },
      {
        "duration": 69,
        "start_time": "2023-05-10T08:20:19.883Z"
      },
      {
        "duration": 6,
        "start_time": "2023-05-10T08:49:04.490Z"
      },
      {
        "duration": 10,
        "start_time": "2023-05-10T08:49:15.070Z"
      },
      {
        "duration": 507,
        "start_time": "2023-05-10T08:49:18.402Z"
      },
      {
        "duration": 355,
        "start_time": "2023-05-10T08:50:49.716Z"
      },
      {
        "duration": 395,
        "start_time": "2023-05-10T08:51:40.739Z"
      },
      {
        "duration": 291,
        "start_time": "2023-05-10T08:52:11.473Z"
      },
      {
        "duration": 1361,
        "start_time": "2023-05-10T13:05:42.752Z"
      },
      {
        "duration": 3,
        "start_time": "2023-05-10T13:05:44.115Z"
      },
      {
        "duration": 1145,
        "start_time": "2023-05-10T13:05:44.119Z"
      },
      {
        "duration": 60,
        "start_time": "2023-05-10T13:05:45.265Z"
      },
      {
        "duration": 138,
        "start_time": "2023-05-10T13:05:45.327Z"
      },
      {
        "duration": 36,
        "start_time": "2023-05-10T13:05:45.467Z"
      },
      {
        "duration": 466,
        "start_time": "2023-05-10T13:05:45.505Z"
      },
      {
        "duration": 57,
        "start_time": "2023-05-10T13:05:45.973Z"
      },
      {
        "duration": 6,
        "start_time": "2023-05-10T13:05:46.031Z"
      },
      {
        "duration": 4,
        "start_time": "2023-05-10T13:05:46.038Z"
      },
      {
        "duration": 5,
        "start_time": "2023-05-10T13:05:46.044Z"
      },
      {
        "duration": 6,
        "start_time": "2023-05-10T13:05:46.050Z"
      },
      {
        "duration": 18,
        "start_time": "2023-05-10T13:05:46.058Z"
      },
      {
        "duration": 20,
        "start_time": "2023-05-10T13:05:46.078Z"
      },
      {
        "duration": 16,
        "start_time": "2023-05-10T13:05:46.100Z"
      },
      {
        "duration": 19,
        "start_time": "2023-05-10T13:05:46.118Z"
      },
      {
        "duration": 15,
        "start_time": "2023-05-10T13:05:46.138Z"
      },
      {
        "duration": 4,
        "start_time": "2023-05-10T13:05:46.155Z"
      },
      {
        "duration": 19,
        "start_time": "2023-05-10T13:05:46.160Z"
      },
      {
        "duration": 10,
        "start_time": "2023-05-10T13:05:46.180Z"
      },
      {
        "duration": 12,
        "start_time": "2023-05-10T13:05:46.192Z"
      },
      {
        "duration": 8,
        "start_time": "2023-05-10T13:05:46.206Z"
      },
      {
        "duration": 56,
        "start_time": "2023-05-10T13:05:57.800Z"
      },
      {
        "duration": 4,
        "start_time": "2023-05-10T13:24:07.864Z"
      },
      {
        "duration": 261,
        "start_time": "2023-05-10T13:24:16.007Z"
      },
      {
        "duration": 1519,
        "start_time": "2023-05-12T05:36:25.252Z"
      },
      {
        "duration": 3,
        "start_time": "2023-05-12T05:36:26.773Z"
      },
      {
        "duration": 803,
        "start_time": "2023-05-12T05:36:26.777Z"
      },
      {
        "duration": 57,
        "start_time": "2023-05-12T05:36:27.582Z"
      },
      {
        "duration": 374,
        "start_time": "2023-05-12T05:36:27.640Z"
      },
      {
        "duration": 34,
        "start_time": "2023-05-12T05:36:28.016Z"
      },
      {
        "duration": 1699,
        "start_time": "2023-05-12T05:36:28.052Z"
      },
      {
        "duration": 51,
        "start_time": "2023-05-12T05:36:29.753Z"
      },
      {
        "duration": 6,
        "start_time": "2023-05-12T05:36:29.805Z"
      },
      {
        "duration": 5,
        "start_time": "2023-05-12T05:36:29.813Z"
      },
      {
        "duration": 7,
        "start_time": "2023-05-12T05:36:29.819Z"
      },
      {
        "duration": 6,
        "start_time": "2023-05-12T05:36:29.827Z"
      },
      {
        "duration": 17,
        "start_time": "2023-05-12T05:36:29.834Z"
      },
      {
        "duration": 8,
        "start_time": "2023-05-12T05:36:29.853Z"
      },
      {
        "duration": 36,
        "start_time": "2023-05-12T05:36:29.862Z"
      },
      {
        "duration": 8,
        "start_time": "2023-05-12T05:36:29.899Z"
      },
      {
        "duration": 5,
        "start_time": "2023-05-12T05:36:29.909Z"
      },
      {
        "duration": 3,
        "start_time": "2023-05-12T05:36:29.916Z"
      },
      {
        "duration": 12,
        "start_time": "2023-05-12T05:36:29.922Z"
      },
      {
        "duration": 8,
        "start_time": "2023-05-12T05:36:29.935Z"
      },
      {
        "duration": 12,
        "start_time": "2023-05-12T05:36:29.944Z"
      },
      {
        "duration": 37,
        "start_time": "2023-05-12T05:36:29.958Z"
      },
      {
        "duration": 55,
        "start_time": "2023-05-12T05:44:50.608Z"
      },
      {
        "duration": 5,
        "start_time": "2023-05-12T05:44:51.917Z"
      },
      {
        "duration": 302,
        "start_time": "2023-05-12T05:44:54.914Z"
      },
      {
        "duration": 19,
        "start_time": "2023-05-12T05:55:13.254Z"
      },
      {
        "duration": 98,
        "start_time": "2023-05-12T06:00:37.319Z"
      },
      {
        "duration": 60,
        "start_time": "2023-05-12T06:00:45.404Z"
      },
      {
        "duration": 20,
        "start_time": "2023-05-12T06:00:55.320Z"
      },
      {
        "duration": 9,
        "start_time": "2023-05-12T06:02:28.924Z"
      },
      {
        "duration": 20,
        "start_time": "2023-05-12T06:02:39.696Z"
      },
      {
        "duration": 250,
        "start_time": "2023-05-12T06:12:51.973Z"
      },
      {
        "duration": 330,
        "start_time": "2023-05-12T06:13:41.904Z"
      },
      {
        "duration": 51,
        "start_time": "2023-05-12T06:13:57.835Z"
      },
      {
        "duration": 532,
        "start_time": "2023-05-12T06:15:45.845Z"
      },
      {
        "duration": 252,
        "start_time": "2023-05-12T06:20:42.631Z"
      },
      {
        "duration": 518,
        "start_time": "2023-05-12T06:21:14.812Z"
      },
      {
        "duration": 41,
        "start_time": "2023-05-12T06:22:42.475Z"
      },
      {
        "duration": 689,
        "start_time": "2023-05-12T06:22:54.054Z"
      },
      {
        "duration": 23,
        "start_time": "2023-05-12T06:23:15.112Z"
      },
      {
        "duration": 558,
        "start_time": "2023-05-12T06:24:00.908Z"
      },
      {
        "duration": 17,
        "start_time": "2023-05-12T06:27:40.465Z"
      },
      {
        "duration": 738,
        "start_time": "2023-05-12T06:34:52.234Z"
      },
      {
        "duration": 510,
        "start_time": "2023-05-12T06:36:21.327Z"
      },
      {
        "duration": 497,
        "start_time": "2023-05-12T06:37:43.935Z"
      },
      {
        "duration": 192,
        "start_time": "2023-05-12T06:55:33.072Z"
      },
      {
        "duration": 845,
        "start_time": "2023-05-12T06:55:48.774Z"
      },
      {
        "duration": 1528,
        "start_time": "2023-05-15T07:33:18.497Z"
      },
      {
        "duration": 4,
        "start_time": "2023-05-15T07:33:20.027Z"
      },
      {
        "duration": 1191,
        "start_time": "2023-05-15T07:33:20.033Z"
      },
      {
        "duration": 62,
        "start_time": "2023-05-15T07:33:21.226Z"
      },
      {
        "duration": 145,
        "start_time": "2023-05-15T07:33:21.290Z"
      },
      {
        "duration": 36,
        "start_time": "2023-05-15T07:33:21.437Z"
      },
      {
        "duration": 529,
        "start_time": "2023-05-15T07:33:21.475Z"
      },
      {
        "duration": 55,
        "start_time": "2023-05-15T07:33:22.006Z"
      },
      {
        "duration": 14,
        "start_time": "2023-05-15T07:33:22.063Z"
      },
      {
        "duration": 9,
        "start_time": "2023-05-15T07:33:22.080Z"
      },
      {
        "duration": 32,
        "start_time": "2023-05-15T07:33:22.091Z"
      },
      {
        "duration": 18,
        "start_time": "2023-05-15T07:33:22.125Z"
      },
      {
        "duration": 35,
        "start_time": "2023-05-15T07:33:22.145Z"
      },
      {
        "duration": 9,
        "start_time": "2023-05-15T07:33:22.182Z"
      },
      {
        "duration": 20,
        "start_time": "2023-05-15T07:33:22.192Z"
      },
      {
        "duration": 15,
        "start_time": "2023-05-15T07:33:22.214Z"
      },
      {
        "duration": 7,
        "start_time": "2023-05-15T07:33:22.230Z"
      },
      {
        "duration": 10,
        "start_time": "2023-05-15T07:33:22.239Z"
      },
      {
        "duration": 26,
        "start_time": "2023-05-15T07:33:22.251Z"
      },
      {
        "duration": 21,
        "start_time": "2023-05-15T07:33:22.279Z"
      },
      {
        "duration": 12,
        "start_time": "2023-05-15T07:33:22.302Z"
      },
      {
        "duration": 22,
        "start_time": "2023-05-15T07:33:22.316Z"
      },
      {
        "duration": 73,
        "start_time": "2023-05-15T07:33:22.340Z"
      },
      {
        "duration": 5,
        "start_time": "2023-05-15T07:33:22.415Z"
      },
      {
        "duration": 622,
        "start_time": "2023-05-15T07:33:22.422Z"
      },
      {
        "duration": 47,
        "start_time": "2023-05-15T07:33:23.046Z"
      },
      {
        "duration": 798,
        "start_time": "2023-05-15T07:33:23.095Z"
      },
      {
        "duration": 713,
        "start_time": "2023-05-15T07:36:57.494Z"
      },
      {
        "duration": 667,
        "start_time": "2023-05-15T07:38:28.628Z"
      },
      {
        "duration": 551,
        "start_time": "2023-05-15T07:38:30.341Z"
      },
      {
        "duration": 506,
        "start_time": "2023-05-15T07:38:34.750Z"
      },
      {
        "duration": 676,
        "start_time": "2023-05-15T07:38:38.278Z"
      },
      {
        "duration": 646,
        "start_time": "2023-05-15T07:56:44.238Z"
      },
      {
        "duration": 103,
        "start_time": "2023-05-15T07:57:17.476Z"
      },
      {
        "duration": 855,
        "start_time": "2023-05-15T07:58:58.794Z"
      },
      {
        "duration": 77,
        "start_time": "2023-05-15T08:00:24.990Z"
      },
      {
        "duration": 690,
        "start_time": "2023-05-15T08:01:22.906Z"
      },
      {
        "duration": 831,
        "start_time": "2023-05-15T08:01:28.408Z"
      },
      {
        "duration": 11,
        "start_time": "2023-05-15T08:07:47.206Z"
      },
      {
        "duration": 229,
        "start_time": "2023-05-15T08:07:49.330Z"
      },
      {
        "duration": 151,
        "start_time": "2023-05-15T08:07:52.804Z"
      },
      {
        "duration": 196,
        "start_time": "2023-05-15T08:07:54.155Z"
      },
      {
        "duration": 13,
        "start_time": "2023-05-15T08:09:14.215Z"
      },
      {
        "duration": 9,
        "start_time": "2023-05-15T08:09:19.237Z"
      },
      {
        "duration": 56,
        "start_time": "2023-05-15T08:10:41.568Z"
      },
      {
        "duration": 405,
        "start_time": "2023-05-15T08:10:58.508Z"
      },
      {
        "duration": 404,
        "start_time": "2023-05-15T08:11:03.047Z"
      },
      {
        "duration": 420,
        "start_time": "2023-05-15T08:12:47.432Z"
      },
      {
        "duration": 429,
        "start_time": "2023-05-15T08:13:19.365Z"
      },
      {
        "duration": 376,
        "start_time": "2023-05-15T08:13:33.605Z"
      },
      {
        "duration": 122,
        "start_time": "2023-05-15T08:14:10.980Z"
      },
      {
        "duration": 20,
        "start_time": "2023-05-15T08:15:10.508Z"
      },
      {
        "duration": 379,
        "start_time": "2023-05-15T08:15:26.483Z"
      },
      {
        "duration": 535,
        "start_time": "2023-05-15T08:16:47.513Z"
      },
      {
        "duration": 390,
        "start_time": "2023-05-15T08:16:59.826Z"
      },
      {
        "duration": 388,
        "start_time": "2023-05-15T08:17:19.945Z"
      },
      {
        "duration": 444,
        "start_time": "2023-05-15T08:17:24.182Z"
      },
      {
        "duration": 404,
        "start_time": "2023-05-15T08:17:39.418Z"
      },
      {
        "duration": 376,
        "start_time": "2023-05-15T08:17:52.078Z"
      },
      {
        "duration": 424,
        "start_time": "2023-05-15T08:18:15.262Z"
      },
      {
        "duration": 444,
        "start_time": "2023-05-15T08:18:56.452Z"
      },
      {
        "duration": 464,
        "start_time": "2023-05-15T08:19:40.113Z"
      },
      {
        "duration": 438,
        "start_time": "2023-05-15T08:21:05.054Z"
      },
      {
        "duration": 584,
        "start_time": "2023-05-15T08:22:34.328Z"
      },
      {
        "duration": 166,
        "start_time": "2023-05-15T08:22:44.103Z"
      },
      {
        "duration": 141,
        "start_time": "2023-05-15T08:22:48.887Z"
      },
      {
        "duration": 437,
        "start_time": "2023-05-15T08:23:02.275Z"
      },
      {
        "duration": 466,
        "start_time": "2023-05-15T08:23:11.132Z"
      },
      {
        "duration": 455,
        "start_time": "2023-05-15T08:23:21.948Z"
      },
      {
        "duration": 397,
        "start_time": "2023-05-15T08:23:56.785Z"
      },
      {
        "duration": 393,
        "start_time": "2023-05-15T08:24:01.300Z"
      },
      {
        "duration": 370,
        "start_time": "2023-05-15T08:24:13.010Z"
      },
      {
        "duration": 8,
        "start_time": "2023-05-15T08:25:10.579Z"
      },
      {
        "duration": 9,
        "start_time": "2023-05-15T08:25:21.422Z"
      },
      {
        "duration": 461,
        "start_time": "2023-05-15T08:25:49.812Z"
      },
      {
        "duration": 15,
        "start_time": "2023-05-15T08:28:17.307Z"
      },
      {
        "duration": 20,
        "start_time": "2023-05-15T08:28:19.544Z"
      },
      {
        "duration": 657,
        "start_time": "2023-05-15T08:28:21.788Z"
      },
      {
        "duration": 70,
        "start_time": "2023-05-15T08:29:32.971Z"
      },
      {
        "duration": 3,
        "start_time": "2023-05-15T08:40:15.674Z"
      },
      {
        "duration": 4,
        "start_time": "2023-05-15T08:43:02.394Z"
      },
      {
        "duration": 7,
        "start_time": "2023-05-15T08:44:34.283Z"
      },
      {
        "duration": 11,
        "start_time": "2023-05-15T09:02:20.995Z"
      },
      {
        "duration": 6,
        "start_time": "2023-05-15T09:04:41.853Z"
      },
      {
        "duration": 5,
        "start_time": "2023-05-15T09:05:25.397Z"
      },
      {
        "duration": 13430,
        "start_time": "2023-05-15T09:20:47.894Z"
      },
      {
        "duration": 4,
        "start_time": "2023-05-15T09:21:20.041Z"
      },
      {
        "duration": 3,
        "start_time": "2023-05-15T09:22:20.370Z"
      },
      {
        "duration": 3,
        "start_time": "2023-05-15T09:23:09.187Z"
      },
      {
        "duration": 4,
        "start_time": "2023-05-15T09:28:38.927Z"
      },
      {
        "duration": 3,
        "start_time": "2023-05-15T09:28:59.789Z"
      },
      {
        "duration": 7,
        "start_time": "2023-05-15T09:29:03.954Z"
      },
      {
        "duration": 426509,
        "start_time": "2023-05-15T09:29:35.690Z"
      },
      {
        "duration": 3,
        "start_time": "2023-05-15T09:38:49.351Z"
      },
      {
        "duration": 2112,
        "start_time": "2023-05-15T09:40:19.477Z"
      },
      {
        "duration": 11,
        "start_time": "2023-05-15T09:42:20.385Z"
      },
      {
        "duration": 1507,
        "start_time": "2023-05-15T09:42:39.994Z"
      },
      {
        "duration": 3,
        "start_time": "2023-05-15T09:42:41.503Z"
      },
      {
        "duration": 266,
        "start_time": "2023-05-15T09:42:41.508Z"
      },
      {
        "duration": 60,
        "start_time": "2023-05-15T09:42:41.775Z"
      },
      {
        "duration": 75,
        "start_time": "2023-05-15T09:42:41.838Z"
      },
      {
        "duration": 37,
        "start_time": "2023-05-15T09:42:41.915Z"
      },
      {
        "duration": 338,
        "start_time": "2023-05-15T09:42:41.953Z"
      },
      {
        "duration": 70,
        "start_time": "2023-05-15T09:42:42.292Z"
      },
      {
        "duration": 6,
        "start_time": "2023-05-15T09:42:42.374Z"
      },
      {
        "duration": 12,
        "start_time": "2023-05-15T09:42:42.381Z"
      },
      {
        "duration": 12,
        "start_time": "2023-05-15T09:42:42.394Z"
      },
      {
        "duration": 17,
        "start_time": "2023-05-15T09:42:42.408Z"
      },
      {
        "duration": 23,
        "start_time": "2023-05-15T09:42:42.427Z"
      },
      {
        "duration": 11,
        "start_time": "2023-05-15T09:42:42.454Z"
      },
      {
        "duration": 11,
        "start_time": "2023-05-15T09:42:42.476Z"
      },
      {
        "duration": 19,
        "start_time": "2023-05-15T09:42:42.489Z"
      },
      {
        "duration": 14,
        "start_time": "2023-05-15T09:42:42.510Z"
      },
      {
        "duration": 5,
        "start_time": "2023-05-15T09:42:42.526Z"
      },
      {
        "duration": 12,
        "start_time": "2023-05-15T09:42:42.532Z"
      },
      {
        "duration": 13,
        "start_time": "2023-05-15T09:42:42.546Z"
      },
      {
        "duration": 22,
        "start_time": "2023-05-15T09:42:42.560Z"
      },
      {
        "duration": 9,
        "start_time": "2023-05-15T09:42:42.583Z"
      },
      {
        "duration": 56,
        "start_time": "2023-05-15T09:42:42.593Z"
      },
      {
        "duration": 27,
        "start_time": "2023-05-15T09:42:42.650Z"
      },
      {
        "duration": 615,
        "start_time": "2023-05-15T09:42:42.679Z"
      },
      {
        "duration": 42,
        "start_time": "2023-05-15T09:42:43.296Z"
      },
      {
        "duration": 727,
        "start_time": "2023-05-15T09:42:43.340Z"
      },
      {
        "duration": 606,
        "start_time": "2023-05-15T09:42:44.070Z"
      },
      {
        "duration": 676,
        "start_time": "2023-05-15T09:42:44.678Z"
      },
      {
        "duration": 562,
        "start_time": "2023-05-15T09:42:45.356Z"
      },
      {
        "duration": 743,
        "start_time": "2023-05-15T09:42:45.919Z"
      },
      {
        "duration": 652,
        "start_time": "2023-05-15T09:42:46.664Z"
      },
      {
        "duration": 763,
        "start_time": "2023-05-15T09:42:47.318Z"
      },
      {
        "duration": 8,
        "start_time": "2023-05-15T09:42:48.082Z"
      },
      {
        "duration": 161,
        "start_time": "2023-05-15T09:42:48.092Z"
      },
      {
        "duration": 164,
        "start_time": "2023-05-15T09:42:48.254Z"
      },
      {
        "duration": 174,
        "start_time": "2023-05-15T09:42:48.419Z"
      },
      {
        "duration": 10,
        "start_time": "2023-05-15T09:42:48.595Z"
      },
      {
        "duration": 8,
        "start_time": "2023-05-15T09:42:48.607Z"
      },
      {
        "duration": 462,
        "start_time": "2023-05-15T09:42:48.617Z"
      },
      {
        "duration": 9,
        "start_time": "2023-05-15T09:42:49.084Z"
      },
      {
        "duration": 11,
        "start_time": "2023-05-15T09:42:49.094Z"
      },
      {
        "duration": 520,
        "start_time": "2023-05-15T09:42:49.106Z"
      },
      {
        "duration": 15,
        "start_time": "2023-05-15T09:42:49.628Z"
      },
      {
        "duration": 31,
        "start_time": "2023-05-15T09:42:49.645Z"
      },
      {
        "duration": 515,
        "start_time": "2023-05-15T09:42:49.679Z"
      },
      {
        "duration": 3,
        "start_time": "2023-05-15T09:42:50.196Z"
      },
      {
        "duration": 10,
        "start_time": "2023-05-15T09:42:50.200Z"
      },
      {
        "duration": 11,
        "start_time": "2023-05-15T09:42:52.817Z"
      },
      {
        "duration": 8165,
        "start_time": "2023-05-15T09:43:23.570Z"
      },
      {
        "duration": 4,
        "start_time": "2023-05-15T09:43:38.717Z"
      },
      {
        "duration": 469677,
        "start_time": "2023-05-15T09:47:58.977Z"
      },
      {
        "duration": 5,
        "start_time": "2023-05-15T09:56:43.475Z"
      },
      {
        "duration": 3,
        "start_time": "2023-05-15T09:57:32.081Z"
      },
      {
        "duration": 1325630,
        "start_time": "2023-05-15T09:57:35.490Z"
      },
      {
        "duration": 3,
        "start_time": "2023-05-15T10:21:19.301Z"
      },
      {
        "duration": 1788,
        "start_time": "2023-05-15T10:22:14.083Z"
      },
      {
        "duration": 1485,
        "start_time": "2023-05-15T10:22:22.692Z"
      },
      {
        "duration": 5,
        "start_time": "2023-05-15T10:23:23.697Z"
      },
      {
        "duration": 5391,
        "start_time": "2023-05-15T10:23:40.395Z"
      },
      {
        "duration": 11,
        "start_time": "2023-05-15T10:44:05.689Z"
      },
      {
        "duration": 4,
        "start_time": "2023-05-15T10:44:13.863Z"
      },
      {
        "duration": 4,
        "start_time": "2023-05-15T10:44:20.186Z"
      },
      {
        "duration": 1469,
        "start_time": "2023-05-15T10:49:00.823Z"
      },
      {
        "duration": 3,
        "start_time": "2023-05-15T10:49:02.295Z"
      },
      {
        "duration": 298,
        "start_time": "2023-05-15T10:49:02.300Z"
      },
      {
        "duration": 83,
        "start_time": "2023-05-15T10:49:02.600Z"
      },
      {
        "duration": 90,
        "start_time": "2023-05-15T10:49:02.685Z"
      },
      {
        "duration": 50,
        "start_time": "2023-05-15T10:49:02.776Z"
      },
      {
        "duration": 420,
        "start_time": "2023-05-15T10:49:02.828Z"
      },
      {
        "duration": 68,
        "start_time": "2023-05-15T10:49:03.250Z"
      },
      {
        "duration": 5,
        "start_time": "2023-05-15T10:49:03.320Z"
      },
      {
        "duration": 4,
        "start_time": "2023-05-15T10:49:03.327Z"
      },
      {
        "duration": 4,
        "start_time": "2023-05-15T10:49:03.333Z"
      },
      {
        "duration": 7,
        "start_time": "2023-05-15T10:49:03.338Z"
      },
      {
        "duration": 17,
        "start_time": "2023-05-15T10:49:03.391Z"
      },
      {
        "duration": 15,
        "start_time": "2023-05-15T10:49:03.411Z"
      },
      {
        "duration": 17,
        "start_time": "2023-05-15T10:49:03.427Z"
      },
      {
        "duration": 15,
        "start_time": "2023-05-15T10:49:03.446Z"
      },
      {
        "duration": 8,
        "start_time": "2023-05-15T10:49:03.462Z"
      },
      {
        "duration": 4,
        "start_time": "2023-05-15T10:49:03.475Z"
      },
      {
        "duration": 12,
        "start_time": "2023-05-15T10:49:03.480Z"
      },
      {
        "duration": 9,
        "start_time": "2023-05-15T10:49:03.494Z"
      },
      {
        "duration": 12,
        "start_time": "2023-05-15T10:49:03.505Z"
      },
      {
        "duration": 9,
        "start_time": "2023-05-15T10:49:03.519Z"
      },
      {
        "duration": 54,
        "start_time": "2023-05-15T10:49:03.529Z"
      },
      {
        "duration": 80,
        "start_time": "2023-05-15T10:49:03.585Z"
      },
      {
        "duration": 6,
        "start_time": "2023-05-15T10:49:03.676Z"
      },
      {
        "duration": 754,
        "start_time": "2023-05-15T10:49:03.684Z"
      },
      {
        "duration": 51,
        "start_time": "2023-05-15T10:49:04.440Z"
      },
      {
        "duration": 712,
        "start_time": "2023-05-15T10:49:04.492Z"
      },
      {
        "duration": 576,
        "start_time": "2023-05-15T10:49:05.206Z"
      },
      {
        "duration": 636,
        "start_time": "2023-05-15T10:49:05.784Z"
      },
      {
        "duration": 583,
        "start_time": "2023-05-15T10:49:06.421Z"
      },
      {
        "duration": 792,
        "start_time": "2023-05-15T10:49:07.006Z"
      },
      {
        "duration": 680,
        "start_time": "2023-05-15T10:49:07.800Z"
      },
      {
        "duration": 779,
        "start_time": "2023-05-15T10:49:08.482Z"
      },
      {
        "duration": 17,
        "start_time": "2023-05-15T10:49:09.263Z"
      },
      {
        "duration": 190,
        "start_time": "2023-05-15T10:49:09.281Z"
      },
      {
        "duration": 178,
        "start_time": "2023-05-15T10:49:09.472Z"
      },
      {
        "duration": 157,
        "start_time": "2023-05-15T10:49:09.651Z"
      },
      {
        "duration": 8,
        "start_time": "2023-05-15T10:49:09.809Z"
      },
      {
        "duration": 6,
        "start_time": "2023-05-15T10:49:09.819Z"
      },
      {
        "duration": 419,
        "start_time": "2023-05-15T10:49:09.828Z"
      },
      {
        "duration": 9,
        "start_time": "2023-05-15T10:49:10.248Z"
      },
      {
        "duration": 21,
        "start_time": "2023-05-15T10:49:10.259Z"
      },
      {
        "duration": 516,
        "start_time": "2023-05-15T10:49:10.281Z"
      },
      {
        "duration": 11,
        "start_time": "2023-05-15T10:49:10.799Z"
      },
      {
        "duration": 18,
        "start_time": "2023-05-15T10:49:10.812Z"
      },
      {
        "duration": 518,
        "start_time": "2023-05-15T10:49:10.831Z"
      },
      {
        "duration": 3,
        "start_time": "2023-05-15T10:49:11.351Z"
      },
      {
        "duration": 5,
        "start_time": "2023-05-15T10:49:11.356Z"
      },
      {
        "duration": 10,
        "start_time": "2023-05-15T10:49:11.375Z"
      },
      {
        "duration": 7728,
        "start_time": "2023-05-15T10:49:11.387Z"
      },
      {
        "duration": 3,
        "start_time": "2023-05-15T10:49:19.116Z"
      },
      {
        "duration": 4,
        "start_time": "2023-05-15T10:49:19.121Z"
      },
      {
        "duration": 4,
        "start_time": "2023-05-15T10:49:19.126Z"
      },
      {
        "duration": 6,
        "start_time": "2023-05-15T10:49:19.131Z"
      },
      {
        "duration": 1045,
        "start_time": "2023-05-15T10:49:19.138Z"
      },
      {
        "duration": 4,
        "start_time": "2023-05-15T10:49:24.702Z"
      },
      {
        "duration": 5682,
        "start_time": "2023-05-15T10:49:26.223Z"
      },
      {
        "duration": 14,
        "start_time": "2023-05-15T10:49:31.907Z"
      },
      {
        "duration": 4,
        "start_time": "2023-05-15T10:49:34.823Z"
      },
      {
        "duration": 4,
        "start_time": "2023-05-15T10:49:37.156Z"
      },
      {
        "duration": 3,
        "start_time": "2023-05-15T10:49:40.675Z"
      },
      {
        "duration": 7,
        "start_time": "2023-05-15T10:49:49.657Z"
      },
      {
        "duration": 4,
        "start_time": "2023-05-15T10:49:50.509Z"
      },
      {
        "duration": 4,
        "start_time": "2023-05-15T10:49:52.498Z"
      },
      {
        "duration": 4,
        "start_time": "2023-05-15T10:49:54.324Z"
      },
      {
        "duration": 1639,
        "start_time": "2023-05-15T10:58:09.465Z"
      },
      {
        "duration": 3,
        "start_time": "2023-05-15T10:58:11.106Z"
      },
      {
        "duration": 272,
        "start_time": "2023-05-15T10:58:11.110Z"
      },
      {
        "duration": 61,
        "start_time": "2023-05-15T10:58:11.384Z"
      },
      {
        "duration": 94,
        "start_time": "2023-05-15T10:58:11.446Z"
      },
      {
        "duration": 45,
        "start_time": "2023-05-15T10:58:11.542Z"
      },
      {
        "duration": 417,
        "start_time": "2023-05-15T10:58:11.588Z"
      },
      {
        "duration": 186,
        "start_time": "2023-05-15T10:58:12.007Z"
      },
      {
        "duration": 6,
        "start_time": "2023-05-15T10:58:12.195Z"
      },
      {
        "duration": 6,
        "start_time": "2023-05-15T10:58:12.205Z"
      },
      {
        "duration": 62,
        "start_time": "2023-05-15T10:58:12.213Z"
      },
      {
        "duration": 4,
        "start_time": "2023-05-15T10:58:12.278Z"
      },
      {
        "duration": 21,
        "start_time": "2023-05-15T10:58:12.284Z"
      },
      {
        "duration": 10,
        "start_time": "2023-05-15T10:58:12.306Z"
      },
      {
        "duration": 62,
        "start_time": "2023-05-15T10:58:12.317Z"
      },
      {
        "duration": 8,
        "start_time": "2023-05-15T10:58:12.381Z"
      },
      {
        "duration": 6,
        "start_time": "2023-05-15T10:58:12.390Z"
      },
      {
        "duration": 5,
        "start_time": "2023-05-15T10:58:12.398Z"
      },
      {
        "duration": 7,
        "start_time": "2023-05-15T10:58:12.405Z"
      },
      {
        "duration": 67,
        "start_time": "2023-05-15T10:58:12.413Z"
      },
      {
        "duration": 16,
        "start_time": "2023-05-15T10:58:12.481Z"
      },
      {
        "duration": 9,
        "start_time": "2023-05-15T10:58:12.499Z"
      },
      {
        "duration": 74,
        "start_time": "2023-05-15T10:58:12.510Z"
      },
      {
        "duration": 193,
        "start_time": "2023-05-15T10:58:12.586Z"
      },
      {
        "duration": 5,
        "start_time": "2023-05-15T10:58:12.781Z"
      },
      {
        "duration": 1193,
        "start_time": "2023-05-15T10:58:12.788Z"
      },
      {
        "duration": 51,
        "start_time": "2023-05-15T10:58:13.983Z"
      },
      {
        "duration": 792,
        "start_time": "2023-05-15T10:58:14.039Z"
      },
      {
        "duration": 583,
        "start_time": "2023-05-15T10:58:14.833Z"
      },
      {
        "duration": 682,
        "start_time": "2023-05-15T10:58:15.419Z"
      },
      {
        "duration": 657,
        "start_time": "2023-05-15T10:58:16.103Z"
      },
      {
        "duration": 762,
        "start_time": "2023-05-15T10:58:16.762Z"
      },
      {
        "duration": 665,
        "start_time": "2023-05-15T10:58:17.526Z"
      },
      {
        "duration": 786,
        "start_time": "2023-05-15T10:58:18.193Z"
      },
      {
        "duration": 9,
        "start_time": "2023-05-15T10:58:18.980Z"
      },
      {
        "duration": 177,
        "start_time": "2023-05-15T10:58:18.990Z"
      },
      {
        "duration": 219,
        "start_time": "2023-05-15T10:58:19.169Z"
      },
      {
        "duration": 226,
        "start_time": "2023-05-15T10:58:19.391Z"
      },
      {
        "duration": 11,
        "start_time": "2023-05-15T10:58:19.619Z"
      },
      {
        "duration": 9,
        "start_time": "2023-05-15T10:58:19.631Z"
      },
      {
        "duration": 437,
        "start_time": "2023-05-15T10:58:19.642Z"
      },
      {
        "duration": 11,
        "start_time": "2023-05-15T10:58:20.081Z"
      },
      {
        "duration": 19,
        "start_time": "2023-05-15T10:58:20.094Z"
      },
      {
        "duration": 497,
        "start_time": "2023-05-15T10:58:20.115Z"
      },
      {
        "duration": 11,
        "start_time": "2023-05-15T10:58:20.613Z"
      },
      {
        "duration": 18,
        "start_time": "2023-05-15T10:58:20.626Z"
      },
      {
        "duration": 537,
        "start_time": "2023-05-15T10:58:20.645Z"
      },
      {
        "duration": 3,
        "start_time": "2023-05-15T10:58:21.183Z"
      },
      {
        "duration": 9,
        "start_time": "2023-05-15T10:58:21.188Z"
      },
      {
        "duration": 14,
        "start_time": "2023-05-15T10:58:21.198Z"
      },
      {
        "duration": 8007,
        "start_time": "2023-05-15T10:58:21.213Z"
      },
      {
        "duration": 5,
        "start_time": "2023-05-15T10:58:29.224Z"
      },
      {
        "duration": 4,
        "start_time": "2023-05-15T10:58:29.231Z"
      },
      {
        "duration": 149,
        "start_time": "2023-05-15T10:58:29.237Z"
      },
      {
        "duration": 0,
        "start_time": "2023-05-15T10:58:29.389Z"
      },
      {
        "duration": 0,
        "start_time": "2023-05-15T10:58:29.390Z"
      },
      {
        "duration": 0,
        "start_time": "2023-05-15T10:58:29.391Z"
      },
      {
        "duration": 0,
        "start_time": "2023-05-15T10:58:29.393Z"
      },
      {
        "duration": 0,
        "start_time": "2023-05-15T10:58:29.395Z"
      },
      {
        "duration": 0,
        "start_time": "2023-05-15T10:58:29.398Z"
      },
      {
        "duration": 0,
        "start_time": "2023-05-15T10:58:29.399Z"
      },
      {
        "duration": 0,
        "start_time": "2023-05-15T10:58:29.401Z"
      },
      {
        "duration": 0,
        "start_time": "2023-05-15T10:58:29.402Z"
      },
      {
        "duration": 0,
        "start_time": "2023-05-15T10:58:29.403Z"
      },
      {
        "duration": 0,
        "start_time": "2023-05-15T10:58:29.404Z"
      },
      {
        "duration": 0,
        "start_time": "2023-05-15T10:58:29.405Z"
      },
      {
        "duration": 1882,
        "start_time": "2023-05-15T11:00:11.363Z"
      },
      {
        "duration": 3,
        "start_time": "2023-05-15T11:00:13.249Z"
      },
      {
        "duration": 299,
        "start_time": "2023-05-15T11:00:13.254Z"
      },
      {
        "duration": 76,
        "start_time": "2023-05-15T11:00:13.555Z"
      },
      {
        "duration": 82,
        "start_time": "2023-05-15T11:00:13.633Z"
      },
      {
        "duration": 53,
        "start_time": "2023-05-15T11:00:13.716Z"
      },
      {
        "duration": 422,
        "start_time": "2023-05-15T11:00:13.775Z"
      },
      {
        "duration": 105,
        "start_time": "2023-05-15T11:00:14.199Z"
      },
      {
        "duration": 8,
        "start_time": "2023-05-15T11:00:14.306Z"
      },
      {
        "duration": 5,
        "start_time": "2023-05-15T11:00:14.318Z"
      },
      {
        "duration": 11,
        "start_time": "2023-05-15T11:00:14.325Z"
      },
      {
        "duration": 12,
        "start_time": "2023-05-15T11:00:14.338Z"
      },
      {
        "duration": 38,
        "start_time": "2023-05-15T11:00:14.352Z"
      },
      {
        "duration": 12,
        "start_time": "2023-05-15T11:00:14.391Z"
      },
      {
        "duration": 12,
        "start_time": "2023-05-15T11:00:14.406Z"
      },
      {
        "duration": 11,
        "start_time": "2023-05-15T11:00:14.420Z"
      },
      {
        "duration": 8,
        "start_time": "2023-05-15T11:00:14.433Z"
      },
      {
        "duration": 35,
        "start_time": "2023-05-15T11:00:14.443Z"
      },
      {
        "duration": 9,
        "start_time": "2023-05-15T11:00:14.480Z"
      },
      {
        "duration": 11,
        "start_time": "2023-05-15T11:00:14.491Z"
      },
      {
        "duration": 19,
        "start_time": "2023-05-15T11:00:14.503Z"
      },
      {
        "duration": 9,
        "start_time": "2023-05-15T11:00:14.524Z"
      },
      {
        "duration": 46,
        "start_time": "2023-05-15T11:00:14.535Z"
      },
      {
        "duration": 96,
        "start_time": "2023-05-15T11:00:14.583Z"
      },
      {
        "duration": 7,
        "start_time": "2023-05-15T11:00:14.681Z"
      },
      {
        "duration": 723,
        "start_time": "2023-05-15T11:00:14.690Z"
      },
      {
        "duration": 43,
        "start_time": "2023-05-15T11:00:15.415Z"
      },
      {
        "duration": 837,
        "start_time": "2023-05-15T11:00:15.476Z"
      },
      {
        "duration": 613,
        "start_time": "2023-05-15T11:00:16.315Z"
      },
      {
        "duration": 991,
        "start_time": "2023-05-15T11:00:16.930Z"
      },
      {
        "duration": 1647,
        "start_time": "2023-05-15T11:00:17.975Z"
      },
      {
        "duration": 1575,
        "start_time": "2023-05-15T11:00:19.624Z"
      },
      {
        "duration": 862,
        "start_time": "2023-05-15T11:00:21.202Z"
      },
      {
        "duration": 980,
        "start_time": "2023-05-15T11:00:22.066Z"
      },
      {
        "duration": 11,
        "start_time": "2023-05-15T11:00:23.048Z"
      },
      {
        "duration": 199,
        "start_time": "2023-05-15T11:00:23.061Z"
      },
      {
        "duration": 180,
        "start_time": "2023-05-15T11:00:23.262Z"
      },
      {
        "duration": 194,
        "start_time": "2023-05-15T11:00:23.444Z"
      },
      {
        "duration": 12,
        "start_time": "2023-05-15T11:00:23.640Z"
      },
      {
        "duration": 21,
        "start_time": "2023-05-15T11:00:23.657Z"
      },
      {
        "duration": 557,
        "start_time": "2023-05-15T11:00:23.680Z"
      },
      {
        "duration": 11,
        "start_time": "2023-05-15T11:00:24.239Z"
      },
      {
        "duration": 9,
        "start_time": "2023-05-15T11:00:24.252Z"
      },
      {
        "duration": 600,
        "start_time": "2023-05-15T11:00:24.276Z"
      },
      {
        "duration": 14,
        "start_time": "2023-05-15T11:00:24.878Z"
      },
      {
        "duration": 20,
        "start_time": "2023-05-15T11:00:24.894Z"
      },
      {
        "duration": 693,
        "start_time": "2023-05-15T11:00:24.916Z"
      },
      {
        "duration": 5,
        "start_time": "2023-05-15T11:00:25.611Z"
      },
      {
        "duration": 7,
        "start_time": "2023-05-15T11:00:25.617Z"
      },
      {
        "duration": 16,
        "start_time": "2023-05-15T11:00:25.627Z"
      },
      {
        "duration": 8763,
        "start_time": "2023-05-15T11:00:25.646Z"
      },
      {
        "duration": 3,
        "start_time": "2023-05-15T11:00:34.412Z"
      },
      {
        "duration": 4,
        "start_time": "2023-05-15T11:00:34.418Z"
      },
      {
        "duration": 1360840,
        "start_time": "2023-05-15T11:00:34.424Z"
      },
      {
        "duration": 4,
        "start_time": "2023-05-15T11:23:15.266Z"
      },
      {
        "duration": 1018,
        "start_time": "2023-05-15T11:23:15.275Z"
      },
      {
        "duration": 83,
        "start_time": "2023-05-15T11:23:16.295Z"
      },
      {
        "duration": 5660,
        "start_time": "2023-05-15T11:23:16.380Z"
      },
      {
        "duration": 12,
        "start_time": "2023-05-15T11:23:22.042Z"
      },
      {
        "duration": 8,
        "start_time": "2023-05-15T11:23:22.056Z"
      },
      {
        "duration": 23,
        "start_time": "2023-05-15T11:23:22.066Z"
      },
      {
        "duration": 10,
        "start_time": "2023-05-15T11:23:22.091Z"
      },
      {
        "duration": 7,
        "start_time": "2023-05-15T11:23:22.103Z"
      },
      {
        "duration": 11,
        "start_time": "2023-05-15T11:23:22.111Z"
      },
      {
        "duration": 20,
        "start_time": "2023-05-15T11:23:22.124Z"
      },
      {
        "duration": 6,
        "start_time": "2023-05-15T11:23:22.145Z"
      },
      {
        "duration": 11,
        "start_time": "2023-05-16T08:43:44.556Z"
      },
      {
        "duration": 3,
        "start_time": "2023-05-16T08:43:44.688Z"
      },
      {
        "duration": 3,
        "start_time": "2023-05-16T08:43:44.836Z"
      },
      {
        "duration": 3,
        "start_time": "2023-05-16T08:43:44.942Z"
      },
      {
        "duration": 2,
        "start_time": "2023-05-16T08:43:45.443Z"
      },
      {
        "duration": 8,
        "start_time": "2023-05-16T08:43:45.530Z"
      },
      {
        "duration": 4,
        "start_time": "2023-05-16T08:43:45.611Z"
      },
      {
        "duration": 3,
        "start_time": "2023-05-16T08:43:45.694Z"
      },
      {
        "duration": 3,
        "start_time": "2023-05-16T08:43:45.778Z"
      },
      {
        "duration": 2,
        "start_time": "2023-05-16T08:43:45.862Z"
      },
      {
        "duration": 3,
        "start_time": "2023-05-16T08:43:45.946Z"
      },
      {
        "duration": 3,
        "start_time": "2023-05-16T08:43:46.292Z"
      },
      {
        "duration": 3,
        "start_time": "2023-05-16T08:43:48.813Z"
      },
      {
        "duration": 3,
        "start_time": "2023-05-16T08:43:49.313Z"
      },
      {
        "duration": 4,
        "start_time": "2023-05-16T08:43:49.396Z"
      },
      {
        "duration": 3,
        "start_time": "2023-05-16T08:43:49.480Z"
      },
      {
        "duration": 3,
        "start_time": "2023-05-16T08:43:49.564Z"
      },
      {
        "duration": 3,
        "start_time": "2023-05-16T08:43:49.649Z"
      },
      {
        "duration": 3,
        "start_time": "2023-05-16T08:43:54.198Z"
      },
      {
        "duration": 3,
        "start_time": "2023-05-16T08:43:54.362Z"
      },
      {
        "duration": 3,
        "start_time": "2023-05-16T08:43:54.502Z"
      },
      {
        "duration": 4,
        "start_time": "2023-05-16T08:43:54.617Z"
      },
      {
        "duration": 2,
        "start_time": "2023-05-16T08:43:54.752Z"
      },
      {
        "duration": 3,
        "start_time": "2023-05-16T08:43:54.872Z"
      },
      {
        "duration": 3,
        "start_time": "2023-05-16T08:43:54.993Z"
      },
      {
        "duration": 3,
        "start_time": "2023-05-16T08:43:55.496Z"
      },
      {
        "duration": 3,
        "start_time": "2023-05-16T08:43:55.577Z"
      },
      {
        "duration": 2,
        "start_time": "2023-05-16T08:43:55.661Z"
      },
      {
        "duration": 3,
        "start_time": "2023-05-16T08:43:55.745Z"
      },
      {
        "duration": 4,
        "start_time": "2023-05-16T08:43:55.829Z"
      },
      {
        "duration": 9,
        "start_time": "2023-05-16T08:43:55.928Z"
      },
      {
        "duration": 2,
        "start_time": "2023-05-16T08:43:55.999Z"
      },
      {
        "duration": 3,
        "start_time": "2023-05-16T08:43:56.083Z"
      },
      {
        "duration": 3,
        "start_time": "2023-05-16T08:43:56.163Z"
      },
      {
        "duration": 3,
        "start_time": "2023-05-16T08:43:56.250Z"
      },
      {
        "duration": 3,
        "start_time": "2023-05-16T08:43:56.375Z"
      },
      {
        "duration": 3,
        "start_time": "2023-05-16T08:43:56.493Z"
      },
      {
        "duration": 2,
        "start_time": "2023-05-16T08:43:56.612Z"
      },
      {
        "duration": 3,
        "start_time": "2023-05-16T08:43:56.763Z"
      },
      {
        "duration": 3,
        "start_time": "2023-05-16T08:43:56.882Z"
      },
      {
        "duration": 8,
        "start_time": "2023-05-16T08:43:57.017Z"
      },
      {
        "duration": 3,
        "start_time": "2023-05-16T08:43:57.094Z"
      },
      {
        "duration": 3,
        "start_time": "2023-05-16T08:43:57.182Z"
      },
      {
        "duration": 2,
        "start_time": "2023-05-16T08:43:57.288Z"
      },
      {
        "duration": 3,
        "start_time": "2023-05-16T08:43:57.377Z"
      },
      {
        "duration": 3,
        "start_time": "2023-05-16T08:43:57.454Z"
      },
      {
        "duration": 3,
        "start_time": "2023-05-16T08:43:57.557Z"
      },
      {
        "duration": 3,
        "start_time": "2023-05-16T08:43:57.647Z"
      },
      {
        "duration": 3,
        "start_time": "2023-05-16T08:43:57.738Z"
      },
      {
        "duration": 3,
        "start_time": "2023-05-16T08:43:57.857Z"
      },
      {
        "duration": 11,
        "start_time": "2023-05-16T08:43:57.917Z"
      },
      {
        "duration": 6,
        "start_time": "2023-05-16T08:43:58.524Z"
      },
      {
        "duration": 45,
        "start_time": "2023-05-16T08:44:26.658Z"
      },
      {
        "duration": 2,
        "start_time": "2023-05-16T08:44:34.158Z"
      },
      {
        "duration": 3,
        "start_time": "2023-05-16T08:44:34.950Z"
      }
    ],
    "kernelspec": {
      "display_name": "Python 3 (ipykernel)",
      "language": "python",
      "name": "python3"
    },
    "language_info": {
      "codemirror_mode": {
        "name": "ipython",
        "version": 3
      },
      "file_extension": ".py",
      "mimetype": "text/x-python",
      "name": "python",
      "nbconvert_exporter": "python",
      "pygments_lexer": "ipython3",
      "version": "3.9.5"
    },
    "toc": {
      "base_numbering": 1,
      "nav_menu": {},
      "number_sections": true,
      "sideBar": true,
      "skip_h1_title": true,
      "title_cell": "Содержание",
      "title_sidebar": "Contents",
      "toc_cell": true,
      "toc_position": {
        "height": "calc(100% - 180px)",
        "left": "10px",
        "top": "150px",
        "width": "275px"
      },
      "toc_section_display": true,
      "toc_window_display": true
    },
    "colab": {
      "provenance": []
    }
  },
  "nbformat": 4,
  "nbformat_minor": 0
}