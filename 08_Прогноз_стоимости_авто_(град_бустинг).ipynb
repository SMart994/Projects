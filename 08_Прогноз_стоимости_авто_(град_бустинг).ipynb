{
  "cells": [
    {
      "cell_type": "markdown",
      "metadata": {
        "id": "Dj4dm7UV2j6q"
      },
      "source": [
        "# Определение стоимости автомобилей"
      ]
    },
    {
      "cell_type": "markdown",
      "metadata": {
        "id": "4zD__DgV2j6q"
      },
      "source": [
        "Сервис по продаже автомобилей с пробегом «Не бит, не крашен» разрабатывает приложение для привлечения новых клиентов. В нём можно быстро узнать рыночную стоимость своего автомобиля. В вашем распоряжении исторические данные: технические характеристики, комплектации и цены автомобилей. Вам нужно построить модель для определения стоимости.\n",
        "\n",
        "Заказчику важны:\n",
        "\n",
        "- качество предсказания;\n",
        "- скорость предсказания;\n",
        "- время обучения."
      ]
    },
    {
      "cell_type": "markdown",
      "metadata": {
        "id": "1XVORiZl2j6q"
      },
      "source": [
        "## Подготовка данных"
      ]
    },
    {
      "cell_type": "code",
      "execution_count": null,
      "metadata": {
        "scrolled": true,
        "id": "L9jHXwDg2j6q",
        "outputId": "172095ba-bd46-45d8-8f99-f616c2083018"
      },
      "outputs": [
        {
          "name": "stdout",
          "output_type": "stream",
          "text": [
            "Collecting scikit-learn==1.1.3\n",
            "  Downloading scikit_learn-1.1.3-cp39-cp39-manylinux_2_17_x86_64.manylinux2014_x86_64.whl (30.8 MB)\n",
            "\u001b[K     |████████████████████████████████| 30.8 MB 43 kB/s  eta 0:00:01�████████████       | 24.0 MB 1.1 MB/s eta 0:00:07\n",
            "\u001b[?25hRequirement already satisfied: numpy>=1.17.3 in /opt/conda/lib/python3.9/site-packages (from scikit-learn==1.1.3) (1.21.1)\n",
            "Requirement already satisfied: scipy>=1.3.2 in /opt/conda/lib/python3.9/site-packages (from scikit-learn==1.1.3) (1.9.1)\n",
            "Requirement already satisfied: threadpoolctl>=2.0.0 in /opt/conda/lib/python3.9/site-packages (from scikit-learn==1.1.3) (3.1.0)\n",
            "Requirement already satisfied: joblib>=1.0.0 in /opt/conda/lib/python3.9/site-packages (from scikit-learn==1.1.3) (1.1.0)\n",
            "Installing collected packages: scikit-learn\n",
            "  Attempting uninstall: scikit-learn\n",
            "    Found existing installation: scikit-learn 0.24.1\n",
            "    Uninstalling scikit-learn-0.24.1:\n",
            "      Successfully uninstalled scikit-learn-0.24.1\n",
            "Successfully installed scikit-learn-1.1.3\n"
          ]
        }
      ],
      "source": [
        "!pip install scikit-learn==1.1.3"
      ]
    },
    {
      "cell_type": "code",
      "execution_count": null,
      "metadata": {
        "id": "5K15Lb232j6r",
        "outputId": "661bb5a1-c906-400b-fec8-60c1f5e1dc2c"
      },
      "outputs": [
        {
          "name": "stdout",
          "output_type": "stream",
          "text": [
            "Collecting category_encoders\n",
            "  Downloading category_encoders-2.6.1-py2.py3-none-any.whl (81 kB)\n",
            "\u001b[K     |████████████████████████████████| 81 kB 7.3 kB/s eta 0:00:01\n",
            "\u001b[?25hRequirement already satisfied: statsmodels>=0.9.0 in /opt/conda/lib/python3.9/site-packages (from category_encoders) (0.13.2)\n",
            "Requirement already satisfied: pandas>=1.0.5 in /opt/conda/lib/python3.9/site-packages (from category_encoders) (1.2.4)\n",
            "Requirement already satisfied: scikit-learn>=0.20.0 in /opt/conda/lib/python3.9/site-packages (from category_encoders) (1.1.3)\n",
            "Requirement already satisfied: numpy>=1.14.0 in /opt/conda/lib/python3.9/site-packages (from category_encoders) (1.21.1)\n",
            "Requirement already satisfied: patsy>=0.5.1 in /opt/conda/lib/python3.9/site-packages (from category_encoders) (0.5.2)\n",
            "Requirement already satisfied: scipy>=1.0.0 in /opt/conda/lib/python3.9/site-packages (from category_encoders) (1.9.1)\n",
            "Requirement already satisfied: python-dateutil>=2.7.3 in /opt/conda/lib/python3.9/site-packages (from pandas>=1.0.5->category_encoders) (2.8.1)\n",
            "Requirement already satisfied: pytz>=2017.3 in /opt/conda/lib/python3.9/site-packages (from pandas>=1.0.5->category_encoders) (2021.1)\n",
            "Requirement already satisfied: six in /opt/conda/lib/python3.9/site-packages (from patsy>=0.5.1->category_encoders) (1.16.0)\n",
            "Requirement already satisfied: joblib>=1.0.0 in /opt/conda/lib/python3.9/site-packages (from scikit-learn>=0.20.0->category_encoders) (1.1.0)\n",
            "Requirement already satisfied: threadpoolctl>=2.0.0 in /opt/conda/lib/python3.9/site-packages (from scikit-learn>=0.20.0->category_encoders) (3.1.0)\n",
            "Requirement already satisfied: packaging>=21.3 in /opt/conda/lib/python3.9/site-packages (from statsmodels>=0.9.0->category_encoders) (21.3)\n",
            "Requirement already satisfied: pyparsing!=3.0.5,>=2.0.2 in /opt/conda/lib/python3.9/site-packages (from packaging>=21.3->statsmodels>=0.9.0->category_encoders) (2.4.7)\n",
            "Installing collected packages: category-encoders\n",
            "Successfully installed category-encoders-2.6.1\n"
          ]
        }
      ],
      "source": [
        "!pip install category_encoders"
      ]
    },
    {
      "cell_type": "code",
      "execution_count": null,
      "metadata": {
        "id": "ZqS5AKRJ2j6t"
      },
      "outputs": [],
      "source": [
        "import warnings\n",
        "\n",
        "import pandas as pd\n",
        "import matplotlib.pyplot as plt\n",
        "\n",
        "import category_encoders as ce\n",
        "\n",
        "from scipy.stats import mode\n",
        "\n",
        "from sklearn.preprocessing import (\n",
        "    LabelEncoder,\n",
        "    OneHotEncoder,\n",
        "    OrdinalEncoder,\n",
        "    StandardScaler,\n",
        ")\n",
        "\n",
        "from sklearn.linear_model import Ridge\n",
        "\n",
        "from sklearn.model_selection import (\n",
        "    train_test_split,\n",
        "    GridSearchCV\n",
        ")\n",
        "from sklearn.metrics import mean_squared_error\n",
        "\n",
        "from catboost import CatBoostRegressor\n",
        "\n",
        "from lightgbm import LGBMRegressor\n",
        "\n",
        "warnings.filterwarnings(\"ignore\")\n",
        "\n",
        "plt.rcParams[\"figure.figsize\"] = (10,10)"
      ]
    },
    {
      "cell_type": "markdown",
      "metadata": {
        "id": "I0DjGCkB2j6u"
      },
      "source": [
        "### Чтение данных и первичный анализ"
      ]
    },
    {
      "cell_type": "code",
      "execution_count": null,
      "metadata": {
        "id": "VjQGMf2u2j6u"
      },
      "outputs": [],
      "source": [
        "try:\n",
        "    data = pd.read_csv('/datasets/autos.csv')\n",
        "except:\n",
        "    print('Please, chech path')"
      ]
    },
    {
      "cell_type": "code",
      "execution_count": null,
      "metadata": {
        "scrolled": true,
        "id": "SskqZ0612j6u",
        "outputId": "f9885d1f-6ab8-495d-e297-2c70a4e2b268"
      },
      "outputs": [
        {
          "data": {
            "text/html": [
              "<div>\n",
              "<style scoped>\n",
              "    .dataframe tbody tr th:only-of-type {\n",
              "        vertical-align: middle;\n",
              "    }\n",
              "\n",
              "    .dataframe tbody tr th {\n",
              "        vertical-align: top;\n",
              "    }\n",
              "\n",
              "    .dataframe thead th {\n",
              "        text-align: right;\n",
              "    }\n",
              "</style>\n",
              "<table border=\"1\" class=\"dataframe\">\n",
              "  <thead>\n",
              "    <tr style=\"text-align: right;\">\n",
              "      <th></th>\n",
              "      <th>DateCrawled</th>\n",
              "      <th>Price</th>\n",
              "      <th>VehicleType</th>\n",
              "      <th>RegistrationYear</th>\n",
              "      <th>Gearbox</th>\n",
              "      <th>Power</th>\n",
              "      <th>Model</th>\n",
              "      <th>Kilometer</th>\n",
              "      <th>RegistrationMonth</th>\n",
              "      <th>FuelType</th>\n",
              "      <th>Brand</th>\n",
              "      <th>Repaired</th>\n",
              "      <th>DateCreated</th>\n",
              "      <th>NumberOfPictures</th>\n",
              "      <th>PostalCode</th>\n",
              "      <th>LastSeen</th>\n",
              "    </tr>\n",
              "  </thead>\n",
              "  <tbody>\n",
              "    <tr>\n",
              "      <th>0</th>\n",
              "      <td>2016-03-24 11:52:17</td>\n",
              "      <td>480</td>\n",
              "      <td>NaN</td>\n",
              "      <td>1993</td>\n",
              "      <td>manual</td>\n",
              "      <td>0</td>\n",
              "      <td>golf</td>\n",
              "      <td>150000</td>\n",
              "      <td>0</td>\n",
              "      <td>petrol</td>\n",
              "      <td>volkswagen</td>\n",
              "      <td>NaN</td>\n",
              "      <td>2016-03-24 00:00:00</td>\n",
              "      <td>0</td>\n",
              "      <td>70435</td>\n",
              "      <td>2016-04-07 03:16:57</td>\n",
              "    </tr>\n",
              "    <tr>\n",
              "      <th>1</th>\n",
              "      <td>2016-03-24 10:58:45</td>\n",
              "      <td>18300</td>\n",
              "      <td>coupe</td>\n",
              "      <td>2011</td>\n",
              "      <td>manual</td>\n",
              "      <td>190</td>\n",
              "      <td>NaN</td>\n",
              "      <td>125000</td>\n",
              "      <td>5</td>\n",
              "      <td>gasoline</td>\n",
              "      <td>audi</td>\n",
              "      <td>yes</td>\n",
              "      <td>2016-03-24 00:00:00</td>\n",
              "      <td>0</td>\n",
              "      <td>66954</td>\n",
              "      <td>2016-04-07 01:46:50</td>\n",
              "    </tr>\n",
              "    <tr>\n",
              "      <th>2</th>\n",
              "      <td>2016-03-14 12:52:21</td>\n",
              "      <td>9800</td>\n",
              "      <td>suv</td>\n",
              "      <td>2004</td>\n",
              "      <td>auto</td>\n",
              "      <td>163</td>\n",
              "      <td>grand</td>\n",
              "      <td>125000</td>\n",
              "      <td>8</td>\n",
              "      <td>gasoline</td>\n",
              "      <td>jeep</td>\n",
              "      <td>NaN</td>\n",
              "      <td>2016-03-14 00:00:00</td>\n",
              "      <td>0</td>\n",
              "      <td>90480</td>\n",
              "      <td>2016-04-05 12:47:46</td>\n",
              "    </tr>\n",
              "    <tr>\n",
              "      <th>3</th>\n",
              "      <td>2016-03-17 16:54:04</td>\n",
              "      <td>1500</td>\n",
              "      <td>small</td>\n",
              "      <td>2001</td>\n",
              "      <td>manual</td>\n",
              "      <td>75</td>\n",
              "      <td>golf</td>\n",
              "      <td>150000</td>\n",
              "      <td>6</td>\n",
              "      <td>petrol</td>\n",
              "      <td>volkswagen</td>\n",
              "      <td>no</td>\n",
              "      <td>2016-03-17 00:00:00</td>\n",
              "      <td>0</td>\n",
              "      <td>91074</td>\n",
              "      <td>2016-03-17 17:40:17</td>\n",
              "    </tr>\n",
              "    <tr>\n",
              "      <th>4</th>\n",
              "      <td>2016-03-31 17:25:20</td>\n",
              "      <td>3600</td>\n",
              "      <td>small</td>\n",
              "      <td>2008</td>\n",
              "      <td>manual</td>\n",
              "      <td>69</td>\n",
              "      <td>fabia</td>\n",
              "      <td>90000</td>\n",
              "      <td>7</td>\n",
              "      <td>gasoline</td>\n",
              "      <td>skoda</td>\n",
              "      <td>no</td>\n",
              "      <td>2016-03-31 00:00:00</td>\n",
              "      <td>0</td>\n",
              "      <td>60437</td>\n",
              "      <td>2016-04-06 10:17:21</td>\n",
              "    </tr>\n",
              "  </tbody>\n",
              "</table>\n",
              "</div>"
            ],
            "text/plain": [
              "           DateCrawled  Price VehicleType  RegistrationYear Gearbox  Power  \\\n",
              "0  2016-03-24 11:52:17    480         NaN              1993  manual      0   \n",
              "1  2016-03-24 10:58:45  18300       coupe              2011  manual    190   \n",
              "2  2016-03-14 12:52:21   9800         suv              2004    auto    163   \n",
              "3  2016-03-17 16:54:04   1500       small              2001  manual     75   \n",
              "4  2016-03-31 17:25:20   3600       small              2008  manual     69   \n",
              "\n",
              "   Model  Kilometer  RegistrationMonth  FuelType       Brand Repaired  \\\n",
              "0   golf     150000                  0    petrol  volkswagen      NaN   \n",
              "1    NaN     125000                  5  gasoline        audi      yes   \n",
              "2  grand     125000                  8  gasoline        jeep      NaN   \n",
              "3   golf     150000                  6    petrol  volkswagen       no   \n",
              "4  fabia      90000                  7  gasoline       skoda       no   \n",
              "\n",
              "           DateCreated  NumberOfPictures  PostalCode             LastSeen  \n",
              "0  2016-03-24 00:00:00                 0       70435  2016-04-07 03:16:57  \n",
              "1  2016-03-24 00:00:00                 0       66954  2016-04-07 01:46:50  \n",
              "2  2016-03-14 00:00:00                 0       90480  2016-04-05 12:47:46  \n",
              "3  2016-03-17 00:00:00                 0       91074  2016-03-17 17:40:17  \n",
              "4  2016-03-31 00:00:00                 0       60437  2016-04-06 10:17:21  "
            ]
          },
          "execution_count": 5,
          "metadata": {},
          "output_type": "execute_result"
        }
      ],
      "source": [
        "data.head()"
      ]
    },
    {
      "cell_type": "markdown",
      "metadata": {
        "id": "cVOLGkxp2j6u"
      },
      "source": [
        "Первичные наблюдения:\n",
        "\n",
        "Скорее всего, нам не потребуются следующие столбцы (так как они связаны либо с датой объявления, либо с данными владельца анкеты):\n",
        "- DateCrawled\n",
        "- DateCreated\n",
        "- PostalCode\n",
        "- LastSeen"
      ]
    },
    {
      "cell_type": "code",
      "execution_count": null,
      "metadata": {
        "scrolled": false,
        "id": "7Wuqu-pH2j6u",
        "outputId": "6f7039a1-bb80-4f46-a62a-3383ab9e9a8a"
      },
      "outputs": [
        {
          "name": "stdout",
          "output_type": "stream",
          "text": [
            "<class 'pandas.core.frame.DataFrame'>\n",
            "RangeIndex: 354369 entries, 0 to 354368\n",
            "Data columns (total 16 columns):\n",
            " #   Column             Non-Null Count   Dtype \n",
            "---  ------             --------------   ----- \n",
            " 0   DateCrawled        354369 non-null  object\n",
            " 1   Price              354369 non-null  int64 \n",
            " 2   VehicleType        316879 non-null  object\n",
            " 3   RegistrationYear   354369 non-null  int64 \n",
            " 4   Gearbox            334536 non-null  object\n",
            " 5   Power              354369 non-null  int64 \n",
            " 6   Model              334664 non-null  object\n",
            " 7   Kilometer          354369 non-null  int64 \n",
            " 8   RegistrationMonth  354369 non-null  int64 \n",
            " 9   FuelType           321474 non-null  object\n",
            " 10  Brand              354369 non-null  object\n",
            " 11  Repaired           283215 non-null  object\n",
            " 12  DateCreated        354369 non-null  object\n",
            " 13  NumberOfPictures   354369 non-null  int64 \n",
            " 14  PostalCode         354369 non-null  int64 \n",
            " 15  LastSeen           354369 non-null  object\n",
            "dtypes: int64(7), object(9)\n",
            "memory usage: 43.3+ MB\n"
          ]
        }
      ],
      "source": [
        "data.info()"
      ]
    },
    {
      "cell_type": "markdown",
      "metadata": {
        "id": "PjK1bps72j6u"
      },
      "source": [
        "Целевой признак (цена) есть по всем объектам. По части столбцов есть пропуски. Более детальро посмотрим далее"
      ]
    },
    {
      "cell_type": "code",
      "execution_count": null,
      "metadata": {
        "scrolled": false,
        "id": "8jZeHEqY2j6u",
        "outputId": "8fc21d4c-c40b-4dee-d0e1-8db3c4c67bfb"
      },
      "outputs": [
        {
          "data": {
            "text/html": [
              "<div>\n",
              "<style scoped>\n",
              "    .dataframe tbody tr th:only-of-type {\n",
              "        vertical-align: middle;\n",
              "    }\n",
              "\n",
              "    .dataframe tbody tr th {\n",
              "        vertical-align: top;\n",
              "    }\n",
              "\n",
              "    .dataframe thead th {\n",
              "        text-align: right;\n",
              "    }\n",
              "</style>\n",
              "<table border=\"1\" class=\"dataframe\">\n",
              "  <thead>\n",
              "    <tr style=\"text-align: right;\">\n",
              "      <th></th>\n",
              "      <th>count</th>\n",
              "      <th>unique</th>\n",
              "      <th>top</th>\n",
              "      <th>freq</th>\n",
              "      <th>mean</th>\n",
              "      <th>std</th>\n",
              "      <th>min</th>\n",
              "      <th>25%</th>\n",
              "      <th>50%</th>\n",
              "      <th>75%</th>\n",
              "      <th>max</th>\n",
              "    </tr>\n",
              "  </thead>\n",
              "  <tbody>\n",
              "    <tr>\n",
              "      <th>DateCrawled</th>\n",
              "      <td>354369</td>\n",
              "      <td>271174</td>\n",
              "      <td>2016-03-24 14:49:47</td>\n",
              "      <td>7</td>\n",
              "      <td>NaN</td>\n",
              "      <td>NaN</td>\n",
              "      <td>NaN</td>\n",
              "      <td>NaN</td>\n",
              "      <td>NaN</td>\n",
              "      <td>NaN</td>\n",
              "      <td>NaN</td>\n",
              "    </tr>\n",
              "    <tr>\n",
              "      <th>Price</th>\n",
              "      <td>354369.0</td>\n",
              "      <td>NaN</td>\n",
              "      <td>NaN</td>\n",
              "      <td>NaN</td>\n",
              "      <td>4416.656776</td>\n",
              "      <td>4514.158514</td>\n",
              "      <td>0.0</td>\n",
              "      <td>1050.0</td>\n",
              "      <td>2700.0</td>\n",
              "      <td>6400.0</td>\n",
              "      <td>20000.0</td>\n",
              "    </tr>\n",
              "    <tr>\n",
              "      <th>VehicleType</th>\n",
              "      <td>316879</td>\n",
              "      <td>8</td>\n",
              "      <td>sedan</td>\n",
              "      <td>91457</td>\n",
              "      <td>NaN</td>\n",
              "      <td>NaN</td>\n",
              "      <td>NaN</td>\n",
              "      <td>NaN</td>\n",
              "      <td>NaN</td>\n",
              "      <td>NaN</td>\n",
              "      <td>NaN</td>\n",
              "    </tr>\n",
              "    <tr>\n",
              "      <th>RegistrationYear</th>\n",
              "      <td>354369.0</td>\n",
              "      <td>NaN</td>\n",
              "      <td>NaN</td>\n",
              "      <td>NaN</td>\n",
              "      <td>2004.234448</td>\n",
              "      <td>90.227958</td>\n",
              "      <td>1000.0</td>\n",
              "      <td>1999.0</td>\n",
              "      <td>2003.0</td>\n",
              "      <td>2008.0</td>\n",
              "      <td>9999.0</td>\n",
              "    </tr>\n",
              "    <tr>\n",
              "      <th>Gearbox</th>\n",
              "      <td>334536</td>\n",
              "      <td>2</td>\n",
              "      <td>manual</td>\n",
              "      <td>268251</td>\n",
              "      <td>NaN</td>\n",
              "      <td>NaN</td>\n",
              "      <td>NaN</td>\n",
              "      <td>NaN</td>\n",
              "      <td>NaN</td>\n",
              "      <td>NaN</td>\n",
              "      <td>NaN</td>\n",
              "    </tr>\n",
              "    <tr>\n",
              "      <th>Power</th>\n",
              "      <td>354369.0</td>\n",
              "      <td>NaN</td>\n",
              "      <td>NaN</td>\n",
              "      <td>NaN</td>\n",
              "      <td>110.094337</td>\n",
              "      <td>189.850405</td>\n",
              "      <td>0.0</td>\n",
              "      <td>69.0</td>\n",
              "      <td>105.0</td>\n",
              "      <td>143.0</td>\n",
              "      <td>20000.0</td>\n",
              "    </tr>\n",
              "    <tr>\n",
              "      <th>Model</th>\n",
              "      <td>334664</td>\n",
              "      <td>250</td>\n",
              "      <td>golf</td>\n",
              "      <td>29232</td>\n",
              "      <td>NaN</td>\n",
              "      <td>NaN</td>\n",
              "      <td>NaN</td>\n",
              "      <td>NaN</td>\n",
              "      <td>NaN</td>\n",
              "      <td>NaN</td>\n",
              "      <td>NaN</td>\n",
              "    </tr>\n",
              "    <tr>\n",
              "      <th>Kilometer</th>\n",
              "      <td>354369.0</td>\n",
              "      <td>NaN</td>\n",
              "      <td>NaN</td>\n",
              "      <td>NaN</td>\n",
              "      <td>128211.172535</td>\n",
              "      <td>37905.34153</td>\n",
              "      <td>5000.0</td>\n",
              "      <td>125000.0</td>\n",
              "      <td>150000.0</td>\n",
              "      <td>150000.0</td>\n",
              "      <td>150000.0</td>\n",
              "    </tr>\n",
              "    <tr>\n",
              "      <th>RegistrationMonth</th>\n",
              "      <td>354369.0</td>\n",
              "      <td>NaN</td>\n",
              "      <td>NaN</td>\n",
              "      <td>NaN</td>\n",
              "      <td>5.714645</td>\n",
              "      <td>3.726421</td>\n",
              "      <td>0.0</td>\n",
              "      <td>3.0</td>\n",
              "      <td>6.0</td>\n",
              "      <td>9.0</td>\n",
              "      <td>12.0</td>\n",
              "    </tr>\n",
              "    <tr>\n",
              "      <th>FuelType</th>\n",
              "      <td>321474</td>\n",
              "      <td>7</td>\n",
              "      <td>petrol</td>\n",
              "      <td>216352</td>\n",
              "      <td>NaN</td>\n",
              "      <td>NaN</td>\n",
              "      <td>NaN</td>\n",
              "      <td>NaN</td>\n",
              "      <td>NaN</td>\n",
              "      <td>NaN</td>\n",
              "      <td>NaN</td>\n",
              "    </tr>\n",
              "    <tr>\n",
              "      <th>Brand</th>\n",
              "      <td>354369</td>\n",
              "      <td>40</td>\n",
              "      <td>volkswagen</td>\n",
              "      <td>77013</td>\n",
              "      <td>NaN</td>\n",
              "      <td>NaN</td>\n",
              "      <td>NaN</td>\n",
              "      <td>NaN</td>\n",
              "      <td>NaN</td>\n",
              "      <td>NaN</td>\n",
              "      <td>NaN</td>\n",
              "    </tr>\n",
              "    <tr>\n",
              "      <th>Repaired</th>\n",
              "      <td>283215</td>\n",
              "      <td>2</td>\n",
              "      <td>no</td>\n",
              "      <td>247161</td>\n",
              "      <td>NaN</td>\n",
              "      <td>NaN</td>\n",
              "      <td>NaN</td>\n",
              "      <td>NaN</td>\n",
              "      <td>NaN</td>\n",
              "      <td>NaN</td>\n",
              "      <td>NaN</td>\n",
              "    </tr>\n",
              "    <tr>\n",
              "      <th>DateCreated</th>\n",
              "      <td>354369</td>\n",
              "      <td>109</td>\n",
              "      <td>2016-04-03 00:00:00</td>\n",
              "      <td>13719</td>\n",
              "      <td>NaN</td>\n",
              "      <td>NaN</td>\n",
              "      <td>NaN</td>\n",
              "      <td>NaN</td>\n",
              "      <td>NaN</td>\n",
              "      <td>NaN</td>\n",
              "      <td>NaN</td>\n",
              "    </tr>\n",
              "    <tr>\n",
              "      <th>NumberOfPictures</th>\n",
              "      <td>354369.0</td>\n",
              "      <td>NaN</td>\n",
              "      <td>NaN</td>\n",
              "      <td>NaN</td>\n",
              "      <td>0.0</td>\n",
              "      <td>0.0</td>\n",
              "      <td>0.0</td>\n",
              "      <td>0.0</td>\n",
              "      <td>0.0</td>\n",
              "      <td>0.0</td>\n",
              "      <td>0.0</td>\n",
              "    </tr>\n",
              "    <tr>\n",
              "      <th>PostalCode</th>\n",
              "      <td>354369.0</td>\n",
              "      <td>NaN</td>\n",
              "      <td>NaN</td>\n",
              "      <td>NaN</td>\n",
              "      <td>50508.689087</td>\n",
              "      <td>25783.096248</td>\n",
              "      <td>1067.0</td>\n",
              "      <td>30165.0</td>\n",
              "      <td>49413.0</td>\n",
              "      <td>71083.0</td>\n",
              "      <td>99998.0</td>\n",
              "    </tr>\n",
              "    <tr>\n",
              "      <th>LastSeen</th>\n",
              "      <td>354369</td>\n",
              "      <td>179150</td>\n",
              "      <td>2016-04-06 13:45:54</td>\n",
              "      <td>17</td>\n",
              "      <td>NaN</td>\n",
              "      <td>NaN</td>\n",
              "      <td>NaN</td>\n",
              "      <td>NaN</td>\n",
              "      <td>NaN</td>\n",
              "      <td>NaN</td>\n",
              "      <td>NaN</td>\n",
              "    </tr>\n",
              "  </tbody>\n",
              "</table>\n",
              "</div>"
            ],
            "text/plain": [
              "                      count  unique                  top    freq  \\\n",
              "DateCrawled          354369  271174  2016-03-24 14:49:47       7   \n",
              "Price              354369.0     NaN                  NaN     NaN   \n",
              "VehicleType          316879       8                sedan   91457   \n",
              "RegistrationYear   354369.0     NaN                  NaN     NaN   \n",
              "Gearbox              334536       2               manual  268251   \n",
              "Power              354369.0     NaN                  NaN     NaN   \n",
              "Model                334664     250                 golf   29232   \n",
              "Kilometer          354369.0     NaN                  NaN     NaN   \n",
              "RegistrationMonth  354369.0     NaN                  NaN     NaN   \n",
              "FuelType             321474       7               petrol  216352   \n",
              "Brand                354369      40           volkswagen   77013   \n",
              "Repaired             283215       2                   no  247161   \n",
              "DateCreated          354369     109  2016-04-03 00:00:00   13719   \n",
              "NumberOfPictures   354369.0     NaN                  NaN     NaN   \n",
              "PostalCode         354369.0     NaN                  NaN     NaN   \n",
              "LastSeen             354369  179150  2016-04-06 13:45:54      17   \n",
              "\n",
              "                            mean           std     min       25%       50%  \\\n",
              "DateCrawled                  NaN           NaN     NaN       NaN       NaN   \n",
              "Price                4416.656776   4514.158514     0.0    1050.0    2700.0   \n",
              "VehicleType                  NaN           NaN     NaN       NaN       NaN   \n",
              "RegistrationYear     2004.234448     90.227958  1000.0    1999.0    2003.0   \n",
              "Gearbox                      NaN           NaN     NaN       NaN       NaN   \n",
              "Power                 110.094337    189.850405     0.0      69.0     105.0   \n",
              "Model                        NaN           NaN     NaN       NaN       NaN   \n",
              "Kilometer          128211.172535   37905.34153  5000.0  125000.0  150000.0   \n",
              "RegistrationMonth       5.714645      3.726421     0.0       3.0       6.0   \n",
              "FuelType                     NaN           NaN     NaN       NaN       NaN   \n",
              "Brand                        NaN           NaN     NaN       NaN       NaN   \n",
              "Repaired                     NaN           NaN     NaN       NaN       NaN   \n",
              "DateCreated                  NaN           NaN     NaN       NaN       NaN   \n",
              "NumberOfPictures             0.0           0.0     0.0       0.0       0.0   \n",
              "PostalCode          50508.689087  25783.096248  1067.0   30165.0   49413.0   \n",
              "LastSeen                     NaN           NaN     NaN       NaN       NaN   \n",
              "\n",
              "                        75%       max  \n",
              "DateCrawled             NaN       NaN  \n",
              "Price                6400.0   20000.0  \n",
              "VehicleType             NaN       NaN  \n",
              "RegistrationYear     2008.0    9999.0  \n",
              "Gearbox                 NaN       NaN  \n",
              "Power                 143.0   20000.0  \n",
              "Model                   NaN       NaN  \n",
              "Kilometer          150000.0  150000.0  \n",
              "RegistrationMonth       9.0      12.0  \n",
              "FuelType                NaN       NaN  \n",
              "Brand                   NaN       NaN  \n",
              "Repaired                NaN       NaN  \n",
              "DateCreated             NaN       NaN  \n",
              "NumberOfPictures        0.0       0.0  \n",
              "PostalCode          71083.0   99998.0  \n",
              "LastSeen                NaN       NaN  "
            ]
          },
          "execution_count": 7,
          "metadata": {},
          "output_type": "execute_result"
        }
      ],
      "source": [
        "data.describe(include='all').T"
      ]
    },
    {
      "cell_type": "markdown",
      "metadata": {
        "id": "P43o-IPf2j6u"
      },
      "source": [
        "Наблюдения:\n",
        " - макс год регистрации 9999 - ошибка в данных (как и минимальный год)\n",
        " - макс мощность 20 000 л.с - выглядит подозрительно - надо проверить\n",
        " - число фотографий - либо 0, либо Nan - столбец можно будет удалить из-за неинформативности\n",
        " - надо преобразовать тип данных по столбцам год регистрации и месяц в int\n",
        " - посмотреть тип топлива (gasoline and petrol is the same)\n",
        "\n",
        "Самая популярная марка - Фольксваген (модель гольф). Правдоподобно) пробег ограничен значением в 150 тыс км и макс цена в 20 тыс евро"
      ]
    },
    {
      "cell_type": "markdown",
      "metadata": {
        "id": "t6CxdPi82j6u"
      },
      "source": [
        "### Предобработка данных"
      ]
    },
    {
      "cell_type": "markdown",
      "metadata": {
        "id": "x0OL_xzm2j6u"
      },
      "source": [
        "Найдем максимальную дату скачивания анкеты из базы"
      ]
    },
    {
      "cell_type": "code",
      "execution_count": null,
      "metadata": {
        "id": "DjlEyliU2j6v",
        "outputId": "5f09e41e-d9fc-4d91-f6ed-c06306327495"
      },
      "outputs": [
        {
          "data": {
            "text/plain": [
              "'2016-04-07 14:36:58'"
            ]
          },
          "execution_count": 8,
          "metadata": {},
          "output_type": "execute_result"
        }
      ],
      "source": [
        "data['DateCrawled'].max()"
      ]
    },
    {
      "cell_type": "markdown",
      "metadata": {
        "id": "4RRRd6Xf2j6v"
      },
      "source": [
        "Дата регистрации:"
      ]
    },
    {
      "cell_type": "markdown",
      "metadata": {
        "id": "eNmnQdOz2j6v"
      },
      "source": [
        "Получается, что дата регистрации автомобиля не модет быть старше 7 апреля 2016 года"
      ]
    },
    {
      "cell_type": "code",
      "execution_count": null,
      "metadata": {
        "id": "JvXesIb72j6v",
        "outputId": "4f9b8a6a-6843-445d-f9eb-f640a2d7e079"
      },
      "outputs": [
        {
          "data": {
            "text/plain": [
              "DateCrawled          13560\n",
              "Price                13560\n",
              "VehicleType             57\n",
              "RegistrationYear     13560\n",
              "Gearbox              12368\n",
              "Power                13560\n",
              "Model                11864\n",
              "Kilometer            13560\n",
              "RegistrationMonth    13560\n",
              "FuelType              8179\n",
              "Brand                13560\n",
              "Repaired              8205\n",
              "DateCreated          13560\n",
              "NumberOfPictures     13560\n",
              "PostalCode           13560\n",
              "LastSeen             13560\n",
              "dtype: int64"
            ]
          },
          "execution_count": 9,
          "metadata": {},
          "output_type": "execute_result"
        }
      ],
      "source": [
        "#посмотрим на объявления позднее 07/04/2016\n",
        "data.query('RegistrationYear >= 2016 & RegistrationMonth >= 4').count()"
      ]
    },
    {
      "cell_type": "code",
      "execution_count": null,
      "metadata": {
        "scrolled": true,
        "id": "p55W2NDU2j6v",
        "outputId": "c401b8c2-3f4a-4290-ee16-7a373a086576"
      },
      "outputs": [
        {
          "data": {
            "text/plain": [
              "354369"
            ]
          },
          "execution_count": 10,
          "metadata": {},
          "output_type": "execute_result"
        }
      ],
      "source": [
        "#зафиксируем размер исходного датасета, чтобы потом понять процент удаленных данных\n",
        "old_shape = data.shape[0]\n",
        "old_shape"
      ]
    },
    {
      "cell_type": "markdown",
      "metadata": {
        "id": "AFswpCbe2j6v"
      },
      "source": [
        "Удалим объявления позднее 04/2016:"
      ]
    },
    {
      "cell_type": "code",
      "execution_count": null,
      "metadata": {
        "id": "1CqkQZmF2j6v"
      },
      "outputs": [],
      "source": [
        "data = data.query('RegistrationYear <= 2016')"
      ]
    },
    {
      "cell_type": "code",
      "execution_count": null,
      "metadata": {
        "scrolled": true,
        "id": "6IT8ddZy2j6v"
      },
      "outputs": [],
      "source": [
        "#также удалим объявления 2016 года с регистрацией начиная с 04/2016\n",
        "#для этого присвоим таким объявлениям отриц цену и потом удалим строки с отриц ценами\n",
        "data.loc[(data['RegistrationYear'] == 2016) & (data['RegistrationMonth'] >=4), 'Price'] = -1\n",
        "data = data.query('Price >= 0')"
      ]
    },
    {
      "cell_type": "markdown",
      "metadata": {
        "id": "SND4OucQ2j6v"
      },
      "source": [
        "Пока работаем с датой регистрации - удалим строки со старой датой регистрации, считая их выборосами"
      ]
    },
    {
      "cell_type": "code",
      "execution_count": null,
      "metadata": {
        "scrolled": true,
        "id": "AhaGGAXh2j7j",
        "outputId": "aa40920d-3d93-4de1-a548-f18d38fa512b"
      },
      "outputs": [
        {
          "data": {
            "text/plain": [
              "1971.0"
            ]
          },
          "execution_count": 13,
          "metadata": {},
          "output_type": "execute_result"
        }
      ],
      "source": [
        "data = data.query('RegistrationYear > 1900')\n",
        "data['RegistrationYear'].quantile(0.005)"
      ]
    },
    {
      "cell_type": "markdown",
      "metadata": {
        "id": "ZbWFQr2b2j7j"
      },
      "source": [
        "Удалим автомобиль с годом регистрации младше 1972"
      ]
    },
    {
      "cell_type": "code",
      "execution_count": null,
      "metadata": {
        "id": "3Xf23eqo2j7j"
      },
      "outputs": [],
      "source": [
        "data = data.query('RegistrationYear >= 1972')"
      ]
    },
    {
      "cell_type": "code",
      "execution_count": null,
      "metadata": {
        "id": "XuQzTetD2j7j",
        "outputId": "66c668f9-901b-40bf-b7e8-953ac9068881"
      },
      "outputs": [
        {
          "data": {
            "text/plain": [
              "Text(0, 0.5, 'Количество авто')"
            ]
          },
          "execution_count": 15,
          "metadata": {},
          "output_type": "execute_result"
        },
        {
          "data": {
            "image/png": "[encoded data removed]",
            "text/plain": [
              "<Figure size 720x720 with 1 Axes>"
            ]
          },
          "metadata": {
            "needs_background": "light"
          },
          "output_type": "display_data"
        }
      ],
      "source": [
        "plt.grid()\n",
        "\n",
        "plt.hist(data['RegistrationYear'], bins=30);\n",
        "plt.title('Распределение автомобилей по году регистрации')\n",
        "plt.xlabel('RegistrationYear')\n",
        "plt.ylabel('Количество авто')"
      ]
    },
    {
      "cell_type": "markdown",
      "metadata": {
        "id": "tCMu3xfy2j7k"
      },
      "source": [
        "Посмотрим на распределение цен:"
      ]
    },
    {
      "cell_type": "code",
      "execution_count": null,
      "metadata": {
        "id": "S6vxlMIt2j7k",
        "outputId": "c2b311ef-817f-42c1-88c3-c0d8410e4a99"
      },
      "outputs": [
        {
          "data": {
            "text/plain": [
              "Text(0, 0.5, 'Количество авто')"
            ]
          },
          "execution_count": 16,
          "metadata": {},
          "output_type": "execute_result"
        },
        {
          "data": {
            "image/png": "[encoded data removed]",
            "text/plain": [
              "<Figure size 720x720 with 1 Axes>"
            ]
          },
          "metadata": {
            "needs_background": "light"
          },
          "output_type": "display_data"
        }
      ],
      "source": [
        "plt.grid()\n",
        "\n",
        "plt.hist(data['Price'], bins=100);\n",
        "\n",
        "plt.title('Распределение автомобилей цене')\n",
        "plt.xlabel('Цена (евро))')\n",
        "plt.ylabel('Количество авто')"
      ]
    },
    {
      "cell_type": "markdown",
      "metadata": {
        "id": "BCyPRpVa2j7k"
      },
      "source": [
        "Удалим выбросы (слишком низкие и слишком высокие цены)"
      ]
    },
    {
      "cell_type": "code",
      "execution_count": null,
      "metadata": {
        "scrolled": true,
        "id": "zO-UX-4o2j7k",
        "outputId": "f4ed4d80-5590-4c3d-e128-dae75a6908d6"
      },
      "outputs": [
        {
          "data": {
            "text/plain": [
              "200.0"
            ]
          },
          "execution_count": 17,
          "metadata": {},
          "output_type": "execute_result"
        }
      ],
      "source": [
        "data['Price'].quantile(0.05)"
      ]
    },
    {
      "cell_type": "code",
      "execution_count": null,
      "metadata": {
        "scrolled": false,
        "id": "Qlm7zeAj2j7k",
        "outputId": "e2b5f3ca-94f9-4352-cde5-f043697ca0cc"
      },
      "outputs": [
        {
          "data": {
            "text/html": [
              "<div>\n",
              "<style scoped>\n",
              "    .dataframe tbody tr th:only-of-type {\n",
              "        vertical-align: middle;\n",
              "    }\n",
              "\n",
              "    .dataframe tbody tr th {\n",
              "        vertical-align: top;\n",
              "    }\n",
              "\n",
              "    .dataframe thead th {\n",
              "        text-align: right;\n",
              "    }\n",
              "</style>\n",
              "<table border=\"1\" class=\"dataframe\">\n",
              "  <thead>\n",
              "    <tr style=\"text-align: right;\">\n",
              "      <th></th>\n",
              "      <th>DateCrawled</th>\n",
              "      <th>Price</th>\n",
              "      <th>VehicleType</th>\n",
              "      <th>RegistrationYear</th>\n",
              "      <th>Gearbox</th>\n",
              "      <th>Power</th>\n",
              "      <th>Model</th>\n",
              "      <th>Kilometer</th>\n",
              "      <th>RegistrationMonth</th>\n",
              "      <th>FuelType</th>\n",
              "      <th>Brand</th>\n",
              "      <th>Repaired</th>\n",
              "      <th>DateCreated</th>\n",
              "      <th>NumberOfPictures</th>\n",
              "      <th>PostalCode</th>\n",
              "      <th>LastSeen</th>\n",
              "    </tr>\n",
              "  </thead>\n",
              "  <tbody>\n",
              "    <tr>\n",
              "      <th>150611</th>\n",
              "      <td>2016-04-03 21:37:20</td>\n",
              "      <td>5</td>\n",
              "      <td>small</td>\n",
              "      <td>1993</td>\n",
              "      <td>NaN</td>\n",
              "      <td>0</td>\n",
              "      <td>polo</td>\n",
              "      <td>150000</td>\n",
              "      <td>0</td>\n",
              "      <td>NaN</td>\n",
              "      <td>volkswagen</td>\n",
              "      <td>yes</td>\n",
              "      <td>2016-04-03 00:00:00</td>\n",
              "      <td>0</td>\n",
              "      <td>45721</td>\n",
              "      <td>2016-04-05 22:18:18</td>\n",
              "    </tr>\n",
              "    <tr>\n",
              "      <th>297682</th>\n",
              "      <td>2016-03-14 21:39:54</td>\n",
              "      <td>0</td>\n",
              "      <td>NaN</td>\n",
              "      <td>1995</td>\n",
              "      <td>NaN</td>\n",
              "      <td>0</td>\n",
              "      <td>3er</td>\n",
              "      <td>125000</td>\n",
              "      <td>0</td>\n",
              "      <td>NaN</td>\n",
              "      <td>bmw</td>\n",
              "      <td>NaN</td>\n",
              "      <td>2016-03-14 00:00:00</td>\n",
              "      <td>0</td>\n",
              "      <td>84098</td>\n",
              "      <td>2016-04-06 12:15:21</td>\n",
              "    </tr>\n",
              "    <tr>\n",
              "      <th>303991</th>\n",
              "      <td>2016-03-27 19:54:50</td>\n",
              "      <td>180</td>\n",
              "      <td>NaN</td>\n",
              "      <td>2000</td>\n",
              "      <td>NaN</td>\n",
              "      <td>0</td>\n",
              "      <td>polo</td>\n",
              "      <td>150000</td>\n",
              "      <td>0</td>\n",
              "      <td>NaN</td>\n",
              "      <td>volkswagen</td>\n",
              "      <td>NaN</td>\n",
              "      <td>2016-03-27 00:00:00</td>\n",
              "      <td>0</td>\n",
              "      <td>38465</td>\n",
              "      <td>2016-04-05 18:45:51</td>\n",
              "    </tr>\n",
              "    <tr>\n",
              "      <th>116034</th>\n",
              "      <td>2016-04-07 14:07:17</td>\n",
              "      <td>0</td>\n",
              "      <td>sedan</td>\n",
              "      <td>1999</td>\n",
              "      <td>NaN</td>\n",
              "      <td>125</td>\n",
              "      <td>a3</td>\n",
              "      <td>150000</td>\n",
              "      <td>8</td>\n",
              "      <td>petrol</td>\n",
              "      <td>audi</td>\n",
              "      <td>no</td>\n",
              "      <td>2016-04-07 00:00:00</td>\n",
              "      <td>0</td>\n",
              "      <td>35415</td>\n",
              "      <td>2016-04-07 14:07:17</td>\n",
              "    </tr>\n",
              "    <tr>\n",
              "      <th>267448</th>\n",
              "      <td>2016-03-14 10:42:13</td>\n",
              "      <td>150</td>\n",
              "      <td>wagon</td>\n",
              "      <td>1997</td>\n",
              "      <td>manual</td>\n",
              "      <td>90</td>\n",
              "      <td>NaN</td>\n",
              "      <td>150000</td>\n",
              "      <td>7</td>\n",
              "      <td>NaN</td>\n",
              "      <td>ford</td>\n",
              "      <td>no</td>\n",
              "      <td>2016-03-14 00:00:00</td>\n",
              "      <td>0</td>\n",
              "      <td>21684</td>\n",
              "      <td>2016-03-15 23:46:21</td>\n",
              "    </tr>\n",
              "    <tr>\n",
              "      <th>172125</th>\n",
              "      <td>2016-03-18 10:48:43</td>\n",
              "      <td>170</td>\n",
              "      <td>NaN</td>\n",
              "      <td>1995</td>\n",
              "      <td>auto</td>\n",
              "      <td>101</td>\n",
              "      <td>astra</td>\n",
              "      <td>150000</td>\n",
              "      <td>0</td>\n",
              "      <td>NaN</td>\n",
              "      <td>opel</td>\n",
              "      <td>yes</td>\n",
              "      <td>2016-03-18 00:00:00</td>\n",
              "      <td>0</td>\n",
              "      <td>23847</td>\n",
              "      <td>2016-04-05 22:16:35</td>\n",
              "    </tr>\n",
              "    <tr>\n",
              "      <th>49618</th>\n",
              "      <td>2016-03-24 21:52:20</td>\n",
              "      <td>0</td>\n",
              "      <td>NaN</td>\n",
              "      <td>2000</td>\n",
              "      <td>NaN</td>\n",
              "      <td>0</td>\n",
              "      <td>corsa</td>\n",
              "      <td>20000</td>\n",
              "      <td>0</td>\n",
              "      <td>NaN</td>\n",
              "      <td>opel</td>\n",
              "      <td>NaN</td>\n",
              "      <td>2016-03-24 00:00:00</td>\n",
              "      <td>0</td>\n",
              "      <td>96465</td>\n",
              "      <td>2016-03-27 19:45:15</td>\n",
              "    </tr>\n",
              "    <tr>\n",
              "      <th>262497</th>\n",
              "      <td>2016-03-21 19:52:41</td>\n",
              "      <td>25</td>\n",
              "      <td>NaN</td>\n",
              "      <td>2007</td>\n",
              "      <td>NaN</td>\n",
              "      <td>0</td>\n",
              "      <td>passat</td>\n",
              "      <td>5000</td>\n",
              "      <td>0</td>\n",
              "      <td>NaN</td>\n",
              "      <td>volkswagen</td>\n",
              "      <td>NaN</td>\n",
              "      <td>2016-03-21 00:00:00</td>\n",
              "      <td>0</td>\n",
              "      <td>98596</td>\n",
              "      <td>2016-04-06 22:46:47</td>\n",
              "    </tr>\n",
              "    <tr>\n",
              "      <th>188686</th>\n",
              "      <td>2016-03-15 20:45:05</td>\n",
              "      <td>150</td>\n",
              "      <td>NaN</td>\n",
              "      <td>2000</td>\n",
              "      <td>manual</td>\n",
              "      <td>60</td>\n",
              "      <td>polo</td>\n",
              "      <td>150000</td>\n",
              "      <td>3</td>\n",
              "      <td>petrol</td>\n",
              "      <td>volkswagen</td>\n",
              "      <td>no</td>\n",
              "      <td>2016-03-15 00:00:00</td>\n",
              "      <td>0</td>\n",
              "      <td>25878</td>\n",
              "      <td>2016-03-20 18:48:29</td>\n",
              "    </tr>\n",
              "    <tr>\n",
              "      <th>309247</th>\n",
              "      <td>2016-04-02 17:54:54</td>\n",
              "      <td>13</td>\n",
              "      <td>NaN</td>\n",
              "      <td>1995</td>\n",
              "      <td>NaN</td>\n",
              "      <td>0</td>\n",
              "      <td>golf</td>\n",
              "      <td>5000</td>\n",
              "      <td>0</td>\n",
              "      <td>NaN</td>\n",
              "      <td>volkswagen</td>\n",
              "      <td>NaN</td>\n",
              "      <td>2016-04-02 00:00:00</td>\n",
              "      <td>0</td>\n",
              "      <td>49163</td>\n",
              "      <td>2016-04-06 17:18:00</td>\n",
              "    </tr>\n",
              "  </tbody>\n",
              "</table>\n",
              "</div>"
            ],
            "text/plain": [
              "                DateCrawled  Price VehicleType  RegistrationYear Gearbox  \\\n",
              "150611  2016-04-03 21:37:20      5       small              1993     NaN   \n",
              "297682  2016-03-14 21:39:54      0         NaN              1995     NaN   \n",
              "303991  2016-03-27 19:54:50    180         NaN              2000     NaN   \n",
              "116034  2016-04-07 14:07:17      0       sedan              1999     NaN   \n",
              "267448  2016-03-14 10:42:13    150       wagon              1997  manual   \n",
              "172125  2016-03-18 10:48:43    170         NaN              1995    auto   \n",
              "49618   2016-03-24 21:52:20      0         NaN              2000     NaN   \n",
              "262497  2016-03-21 19:52:41     25         NaN              2007     NaN   \n",
              "188686  2016-03-15 20:45:05    150         NaN              2000  manual   \n",
              "309247  2016-04-02 17:54:54     13         NaN              1995     NaN   \n",
              "\n",
              "        Power   Model  Kilometer  RegistrationMonth FuelType       Brand  \\\n",
              "150611      0    polo     150000                  0      NaN  volkswagen   \n",
              "297682      0     3er     125000                  0      NaN         bmw   \n",
              "303991      0    polo     150000                  0      NaN  volkswagen   \n",
              "116034    125      a3     150000                  8   petrol        audi   \n",
              "267448     90     NaN     150000                  7      NaN        ford   \n",
              "172125    101   astra     150000                  0      NaN        opel   \n",
              "49618       0   corsa      20000                  0      NaN        opel   \n",
              "262497      0  passat       5000                  0      NaN  volkswagen   \n",
              "188686     60    polo     150000                  3   petrol  volkswagen   \n",
              "309247      0    golf       5000                  0      NaN  volkswagen   \n",
              "\n",
              "       Repaired          DateCreated  NumberOfPictures  PostalCode  \\\n",
              "150611      yes  2016-04-03 00:00:00                 0       45721   \n",
              "297682      NaN  2016-03-14 00:00:00                 0       84098   \n",
              "303991      NaN  2016-03-27 00:00:00                 0       38465   \n",
              "116034       no  2016-04-07 00:00:00                 0       35415   \n",
              "267448       no  2016-03-14 00:00:00                 0       21684   \n",
              "172125      yes  2016-03-18 00:00:00                 0       23847   \n",
              "49618       NaN  2016-03-24 00:00:00                 0       96465   \n",
              "262497      NaN  2016-03-21 00:00:00                 0       98596   \n",
              "188686       no  2016-03-15 00:00:00                 0       25878   \n",
              "309247      NaN  2016-04-02 00:00:00                 0       49163   \n",
              "\n",
              "                   LastSeen  \n",
              "150611  2016-04-05 22:18:18  \n",
              "297682  2016-04-06 12:15:21  \n",
              "303991  2016-04-05 18:45:51  \n",
              "116034  2016-04-07 14:07:17  \n",
              "267448  2016-03-15 23:46:21  \n",
              "172125  2016-04-05 22:16:35  \n",
              "49618   2016-03-27 19:45:15  \n",
              "262497  2016-04-06 22:46:47  \n",
              "188686  2016-03-20 18:48:29  \n",
              "309247  2016-04-06 17:18:00  "
            ]
          },
          "execution_count": 18,
          "metadata": {},
          "output_type": "execute_result"
        }
      ],
      "source": [
        "data[data['Price'] < 200].sample(10)"
      ]
    },
    {
      "cell_type": "markdown",
      "metadata": {
        "id": "zwSx07eW2j7k"
      },
      "source": [
        "Среди машин с низкой ценой есть как и правдободобные вариант (старые, с большим пробегом, после ремонта - цена таких машин скорее всего очень низкая, так есть и хорошие машины (без ремонта, небольшой пробег - но цена практически 0). Так как мы готовим датасет к предсказанию правдоподобной цены, то проведем нижнюю границу в 100 евро, тем самым отбросим выбросы с нулевой ценой (порядка 3% данных)"
      ]
    },
    {
      "cell_type": "markdown",
      "metadata": {
        "id": "BWTuXCrd2j7k"
      },
      "source": [
        "Удалим автомобили с ценой ниже 100 евро"
      ]
    },
    {
      "cell_type": "code",
      "execution_count": null,
      "metadata": {
        "id": "xOynEx6d2j7k"
      },
      "outputs": [],
      "source": [
        "data = data.query('Price >= 100')"
      ]
    },
    {
      "cell_type": "code",
      "execution_count": null,
      "metadata": {
        "scrolled": false,
        "id": "vx33cCzO2j7k",
        "outputId": "6f10e912-d3ef-4e8e-e650-5bf3ae208d51"
      },
      "outputs": [
        {
          "data": {
            "text/plain": [
              "Text(0, 0.5, 'Количество авто')"
            ]
          },
          "execution_count": 20,
          "metadata": {},
          "output_type": "execute_result"
        },
        {
          "data": {
            "image/png": "[encoded data removed]",
            "text/plain": [
              "<Figure size 720x720 with 1 Axes>"
            ]
          },
          "metadata": {
            "needs_background": "light"
          },
          "output_type": "display_data"
        }
      ],
      "source": [
        "plt.grid()\n",
        "\n",
        "plt.hist(data['Price'], bins=100);\n",
        "\n",
        "plt.title('Распределение автомобилей цене')\n",
        "plt.xlabel('Цена (евро))')\n",
        "plt.ylabel('Количество авто')"
      ]
    },
    {
      "cell_type": "markdown",
      "metadata": {
        "id": "WmfZzVKc2j7k"
      },
      "source": [
        "Ограничивать справа смыла нет, так как у нас макс цена в 20 тыс евро. Это не походе на выброс в данных"
      ]
    },
    {
      "cell_type": "markdown",
      "metadata": {
        "id": "vkMyRDHP2j7k"
      },
      "source": [
        "Посмотрим на тип топлива:"
      ]
    },
    {
      "cell_type": "code",
      "execution_count": null,
      "metadata": {
        "id": "oZseOsOg2j7k",
        "outputId": "d56cfeea-cd0f-480b-aed3-7a0e247a0756"
      },
      "outputs": [
        {
          "data": {
            "text/plain": [
              "array(['petrol', 'gasoline', nan, 'lpg', 'other', 'hybrid', 'cng',\n",
              "       'electric'], dtype=object)"
            ]
          },
          "execution_count": 21,
          "metadata": {},
          "output_type": "execute_result"
        }
      ],
      "source": [
        "data['FuelType'].unique()"
      ]
    },
    {
      "cell_type": "markdown",
      "metadata": {
        "id": "6ybSNPGJ2j7k"
      },
      "source": [
        "Заменим gasoline на petrol, так как это одно и тоже"
      ]
    },
    {
      "cell_type": "code",
      "execution_count": null,
      "metadata": {
        "id": "tRF1VcHz2j7k"
      },
      "outputs": [],
      "source": [
        "data.loc[data['FuelType'] == 'gasoline', 'FuelType'] = 'petrol'"
      ]
    },
    {
      "cell_type": "code",
      "execution_count": null,
      "metadata": {
        "id": "cuCbc9ud2j7l",
        "outputId": "1847d88f-8f01-422e-9753-c6b46f99aa57"
      },
      "outputs": [
        {
          "data": {
            "text/plain": [
              "array(['petrol', nan, 'lpg', 'other', 'hybrid', 'cng', 'electric'],\n",
              "      dtype=object)"
            ]
          },
          "execution_count": 23,
          "metadata": {},
          "output_type": "execute_result"
        }
      ],
      "source": [
        "data['FuelType'].unique()"
      ]
    },
    {
      "cell_type": "markdown",
      "metadata": {
        "id": "OF2V-FN62j7l"
      },
      "source": [
        "Посмотрим на пропуски в данных"
      ]
    },
    {
      "cell_type": "code",
      "execution_count": null,
      "metadata": {
        "id": "_8rGXIpY2j7l",
        "outputId": "83707cb6-6084-413f-ff53-30589b7cc2dc"
      },
      "outputs": [
        {
          "data": {
            "text/plain": [
              "DateCrawled          0.000000\n",
              "Price                0.000000\n",
              "VehicleType          0.042660\n",
              "RegistrationYear     0.000000\n",
              "Gearbox              0.043065\n",
              "Power                0.000000\n",
              "Model                0.043973\n",
              "Kilometer            0.000000\n",
              "RegistrationMonth    0.000000\n",
              "FuelType             0.064790\n",
              "Brand                0.000000\n",
              "Repaired             0.174132\n",
              "DateCreated          0.000000\n",
              "NumberOfPictures     0.000000\n",
              "PostalCode           0.000000\n",
              "LastSeen             0.000000\n",
              "dtype: float64"
            ]
          },
          "execution_count": 24,
          "metadata": {},
          "output_type": "execute_result"
        }
      ],
      "source": [
        "data.isna().mean()"
      ]
    },
    {
      "cell_type": "markdown",
      "metadata": {
        "id": "eczEPQK22j7l"
      },
      "source": [
        "Самые значимые пропуски в следуюзих столбцах:\n",
        "- 3.5% пропусков в столбце тип кузова\n",
        "- 16% пропусков в столбце repair\n",
        "- 5% в столбце тип топлива\n",
        "- по 4% в тип коробки и модели"
      ]
    },
    {
      "cell_type": "markdown",
      "metadata": {
        "id": "y1miB8ro2j7l"
      },
      "source": [
        "Пропуски по типу кузова (категориальная переменная) заполним значением unknown"
      ]
    },
    {
      "cell_type": "code",
      "execution_count": null,
      "metadata": {
        "id": "_A_5_SsP2j7l"
      },
      "outputs": [],
      "source": [
        "data.loc[data['VehicleType'].isna(), 'VehicleType'] = 'unknown'"
      ]
    },
    {
      "cell_type": "markdown",
      "metadata": {
        "id": "fvZ0brmR2j7l"
      },
      "source": [
        "Аналогично поступим со столбоцом Repaired"
      ]
    },
    {
      "cell_type": "code",
      "execution_count": null,
      "metadata": {
        "id": "EhdKZ94C2j7l"
      },
      "outputs": [],
      "source": [
        "data.loc[data['Repaired'].isna(), 'Repaired'] = 'unknown'"
      ]
    },
    {
      "cell_type": "markdown",
      "metadata": {
        "id": "fCoKdZI12j7l"
      },
      "source": [
        "<div class=\"alert alert-success\">\n",
        "<b>ОТЛИЧНО! 👍</b>\n",
        "\n",
        "Заполнение пропусков одной \"заглушкой\" - верно.\n",
        "</div>"
      ]
    },
    {
      "cell_type": "markdown",
      "metadata": {
        "id": "NzaCsd-f2j7l"
      },
      "source": [
        "Пропуски по модели удалим, так как модель машины важна нам для прогнозирования цены"
      ]
    },
    {
      "cell_type": "code",
      "execution_count": null,
      "metadata": {
        "id": "P0NOTW8i2j7l",
        "outputId": "eac083c3-9915-4f37-90b0-fd3cd38b8c29"
      },
      "outputs": [
        {
          "data": {
            "text/html": [
              "<div>\n",
              "<style scoped>\n",
              "    .dataframe tbody tr th:only-of-type {\n",
              "        vertical-align: middle;\n",
              "    }\n",
              "\n",
              "    .dataframe tbody tr th {\n",
              "        vertical-align: top;\n",
              "    }\n",
              "\n",
              "    .dataframe thead th {\n",
              "        text-align: right;\n",
              "    }\n",
              "</style>\n",
              "<table border=\"1\" class=\"dataframe\">\n",
              "  <thead>\n",
              "    <tr style=\"text-align: right;\">\n",
              "      <th></th>\n",
              "      <th>DateCrawled</th>\n",
              "      <th>Price</th>\n",
              "      <th>VehicleType</th>\n",
              "      <th>RegistrationYear</th>\n",
              "      <th>Gearbox</th>\n",
              "      <th>Power</th>\n",
              "      <th>Model</th>\n",
              "      <th>Kilometer</th>\n",
              "      <th>RegistrationMonth</th>\n",
              "      <th>FuelType</th>\n",
              "      <th>Brand</th>\n",
              "      <th>Repaired</th>\n",
              "      <th>DateCreated</th>\n",
              "      <th>NumberOfPictures</th>\n",
              "      <th>PostalCode</th>\n",
              "      <th>LastSeen</th>\n",
              "    </tr>\n",
              "  </thead>\n",
              "  <tbody>\n",
              "    <tr>\n",
              "      <th>0</th>\n",
              "      <td>2016-03-24 11:52:17</td>\n",
              "      <td>480</td>\n",
              "      <td>unknown</td>\n",
              "      <td>1993</td>\n",
              "      <td>manual</td>\n",
              "      <td>0</td>\n",
              "      <td>golf</td>\n",
              "      <td>150000</td>\n",
              "      <td>0</td>\n",
              "      <td>petrol</td>\n",
              "      <td>volkswagen</td>\n",
              "      <td>unknown</td>\n",
              "      <td>2016-03-24 00:00:00</td>\n",
              "      <td>0</td>\n",
              "      <td>70435</td>\n",
              "      <td>2016-04-07 03:16:57</td>\n",
              "    </tr>\n",
              "    <tr>\n",
              "      <th>1</th>\n",
              "      <td>2016-03-24 10:58:45</td>\n",
              "      <td>18300</td>\n",
              "      <td>coupe</td>\n",
              "      <td>2011</td>\n",
              "      <td>manual</td>\n",
              "      <td>190</td>\n",
              "      <td>NaN</td>\n",
              "      <td>125000</td>\n",
              "      <td>5</td>\n",
              "      <td>petrol</td>\n",
              "      <td>audi</td>\n",
              "      <td>yes</td>\n",
              "      <td>2016-03-24 00:00:00</td>\n",
              "      <td>0</td>\n",
              "      <td>66954</td>\n",
              "      <td>2016-04-07 01:46:50</td>\n",
              "    </tr>\n",
              "    <tr>\n",
              "      <th>2</th>\n",
              "      <td>2016-03-14 12:52:21</td>\n",
              "      <td>9800</td>\n",
              "      <td>suv</td>\n",
              "      <td>2004</td>\n",
              "      <td>auto</td>\n",
              "      <td>163</td>\n",
              "      <td>grand</td>\n",
              "      <td>125000</td>\n",
              "      <td>8</td>\n",
              "      <td>petrol</td>\n",
              "      <td>jeep</td>\n",
              "      <td>unknown</td>\n",
              "      <td>2016-03-14 00:00:00</td>\n",
              "      <td>0</td>\n",
              "      <td>90480</td>\n",
              "      <td>2016-04-05 12:47:46</td>\n",
              "    </tr>\n",
              "    <tr>\n",
              "      <th>3</th>\n",
              "      <td>2016-03-17 16:54:04</td>\n",
              "      <td>1500</td>\n",
              "      <td>small</td>\n",
              "      <td>2001</td>\n",
              "      <td>manual</td>\n",
              "      <td>75</td>\n",
              "      <td>golf</td>\n",
              "      <td>150000</td>\n",
              "      <td>6</td>\n",
              "      <td>petrol</td>\n",
              "      <td>volkswagen</td>\n",
              "      <td>no</td>\n",
              "      <td>2016-03-17 00:00:00</td>\n",
              "      <td>0</td>\n",
              "      <td>91074</td>\n",
              "      <td>2016-03-17 17:40:17</td>\n",
              "    </tr>\n",
              "    <tr>\n",
              "      <th>4</th>\n",
              "      <td>2016-03-31 17:25:20</td>\n",
              "      <td>3600</td>\n",
              "      <td>small</td>\n",
              "      <td>2008</td>\n",
              "      <td>manual</td>\n",
              "      <td>69</td>\n",
              "      <td>fabia</td>\n",
              "      <td>90000</td>\n",
              "      <td>7</td>\n",
              "      <td>petrol</td>\n",
              "      <td>skoda</td>\n",
              "      <td>no</td>\n",
              "      <td>2016-03-31 00:00:00</td>\n",
              "      <td>0</td>\n",
              "      <td>60437</td>\n",
              "      <td>2016-04-06 10:17:21</td>\n",
              "    </tr>\n",
              "  </tbody>\n",
              "</table>\n",
              "</div>"
            ],
            "text/plain": [
              "           DateCrawled  Price VehicleType  RegistrationYear Gearbox  Power  \\\n",
              "0  2016-03-24 11:52:17    480     unknown              1993  manual      0   \n",
              "1  2016-03-24 10:58:45  18300       coupe              2011  manual    190   \n",
              "2  2016-03-14 12:52:21   9800         suv              2004    auto    163   \n",
              "3  2016-03-17 16:54:04   1500       small              2001  manual     75   \n",
              "4  2016-03-31 17:25:20   3600       small              2008  manual     69   \n",
              "\n",
              "   Model  Kilometer  RegistrationMonth FuelType       Brand Repaired  \\\n",
              "0   golf     150000                  0   petrol  volkswagen  unknown   \n",
              "1    NaN     125000                  5   petrol        audi      yes   \n",
              "2  grand     125000                  8   petrol        jeep  unknown   \n",
              "3   golf     150000                  6   petrol  volkswagen       no   \n",
              "4  fabia      90000                  7   petrol       skoda       no   \n",
              "\n",
              "           DateCreated  NumberOfPictures  PostalCode             LastSeen  \n",
              "0  2016-03-24 00:00:00                 0       70435  2016-04-07 03:16:57  \n",
              "1  2016-03-24 00:00:00                 0       66954  2016-04-07 01:46:50  \n",
              "2  2016-03-14 00:00:00                 0       90480  2016-04-05 12:47:46  \n",
              "3  2016-03-17 00:00:00                 0       91074  2016-03-17 17:40:17  \n",
              "4  2016-03-31 00:00:00                 0       60437  2016-04-06 10:17:21  "
            ]
          },
          "execution_count": 27,
          "metadata": {},
          "output_type": "execute_result"
        }
      ],
      "source": [
        "data.head()"
      ]
    },
    {
      "cell_type": "code",
      "execution_count": null,
      "metadata": {
        "id": "QwCVecys2j7l"
      },
      "outputs": [],
      "source": [
        "data = data.dropna(subset=['Model'])"
      ]
    },
    {
      "cell_type": "code",
      "execution_count": null,
      "metadata": {
        "id": "gsOu8PaR2j7l",
        "outputId": "d54eff33-cc5c-4800-d0b4-939c2320c678"
      },
      "outputs": [
        {
          "data": {
            "text/html": [
              "<div>\n",
              "<style scoped>\n",
              "    .dataframe tbody tr th:only-of-type {\n",
              "        vertical-align: middle;\n",
              "    }\n",
              "\n",
              "    .dataframe tbody tr th {\n",
              "        vertical-align: top;\n",
              "    }\n",
              "\n",
              "    .dataframe thead th {\n",
              "        text-align: right;\n",
              "    }\n",
              "</style>\n",
              "<table border=\"1\" class=\"dataframe\">\n",
              "  <thead>\n",
              "    <tr style=\"text-align: right;\">\n",
              "      <th></th>\n",
              "      <th>DateCrawled</th>\n",
              "      <th>Price</th>\n",
              "      <th>VehicleType</th>\n",
              "      <th>RegistrationYear</th>\n",
              "      <th>Gearbox</th>\n",
              "      <th>Power</th>\n",
              "      <th>Model</th>\n",
              "      <th>Kilometer</th>\n",
              "      <th>RegistrationMonth</th>\n",
              "      <th>FuelType</th>\n",
              "      <th>Brand</th>\n",
              "      <th>Repaired</th>\n",
              "      <th>DateCreated</th>\n",
              "      <th>NumberOfPictures</th>\n",
              "      <th>PostalCode</th>\n",
              "      <th>LastSeen</th>\n",
              "    </tr>\n",
              "  </thead>\n",
              "  <tbody>\n",
              "  </tbody>\n",
              "</table>\n",
              "</div>"
            ],
            "text/plain": [
              "Empty DataFrame\n",
              "Columns: [DateCrawled, Price, VehicleType, RegistrationYear, Gearbox, Power, Model, Kilometer, RegistrationMonth, FuelType, Brand, Repaired, DateCreated, NumberOfPictures, PostalCode, LastSeen]\n",
              "Index: []"
            ]
          },
          "execution_count": 29,
          "metadata": {},
          "output_type": "execute_result"
        }
      ],
      "source": [
        "data[data['Model'].isna()].head()"
      ]
    },
    {
      "cell_type": "markdown",
      "metadata": {
        "id": "IH-fk9N12j7l"
      },
      "source": [
        "Удаление пропусков по модели выпонено корректно"
      ]
    },
    {
      "cell_type": "markdown",
      "metadata": {
        "id": "KRlCB1yT2j7l"
      },
      "source": [
        "Остались пропуски по типу топлива и коробки передач. Здест пропуски заполним модой по группам модель-бренд"
      ]
    },
    {
      "cell_type": "code",
      "execution_count": null,
      "metadata": {
        "scrolled": true,
        "id": "hfRbgzE02j7l",
        "outputId": "a377c62d-3fc5-46ff-b10c-bef14efa5e3a"
      },
      "outputs": [
        {
          "data": {
            "text/plain": [
              "DateCrawled          0.000000\n",
              "Price                0.000000\n",
              "VehicleType          0.000000\n",
              "RegistrationYear     0.000000\n",
              "Gearbox              0.037856\n",
              "Power                0.000000\n",
              "Model                0.000000\n",
              "Kilometer            0.000000\n",
              "RegistrationMonth    0.000000\n",
              "FuelType             0.054277\n",
              "Brand                0.000000\n",
              "Repaired             0.000000\n",
              "DateCreated          0.000000\n",
              "NumberOfPictures     0.000000\n",
              "PostalCode           0.000000\n",
              "LastSeen             0.000000\n",
              "dtype: float64"
            ]
          },
          "execution_count": 30,
          "metadata": {},
          "output_type": "execute_result"
        }
      ],
      "source": [
        "data.isna().mean()"
      ]
    },
    {
      "cell_type": "code",
      "execution_count": null,
      "metadata": {
        "id": "AIu5UhPQ2j7l",
        "outputId": "8ff6c8bb-4a0a-47b0-aff3-236af2e4f792"
      },
      "outputs": [
        {
          "data": {
            "text/html": [
              "<div>\n",
              "<style scoped>\n",
              "    .dataframe tbody tr th:only-of-type {\n",
              "        vertical-align: middle;\n",
              "    }\n",
              "\n",
              "    .dataframe tbody tr th {\n",
              "        vertical-align: top;\n",
              "    }\n",
              "\n",
              "    .dataframe thead th {\n",
              "        text-align: right;\n",
              "    }\n",
              "</style>\n",
              "<table border=\"1\" class=\"dataframe\">\n",
              "  <thead>\n",
              "    <tr style=\"text-align: right;\">\n",
              "      <th></th>\n",
              "      <th></th>\n",
              "      <th>Gearbox</th>\n",
              "    </tr>\n",
              "    <tr>\n",
              "      <th>Brand</th>\n",
              "      <th>Model</th>\n",
              "      <th></th>\n",
              "    </tr>\n",
              "  </thead>\n",
              "  <tbody>\n",
              "    <tr>\n",
              "      <th rowspan=\"5\" valign=\"top\">alfa_romeo</th>\n",
              "      <th>145</th>\n",
              "      <td>manual</td>\n",
              "    </tr>\n",
              "    <tr>\n",
              "      <th>147</th>\n",
              "      <td>manual</td>\n",
              "    </tr>\n",
              "    <tr>\n",
              "      <th>156</th>\n",
              "      <td>manual</td>\n",
              "    </tr>\n",
              "    <tr>\n",
              "      <th>159</th>\n",
              "      <td>manual</td>\n",
              "    </tr>\n",
              "    <tr>\n",
              "      <th>other</th>\n",
              "      <td>manual</td>\n",
              "    </tr>\n",
              "    <tr>\n",
              "      <th>...</th>\n",
              "      <th>...</th>\n",
              "      <td>...</td>\n",
              "    </tr>\n",
              "    <tr>\n",
              "      <th rowspan=\"5\" valign=\"top\">volvo</th>\n",
              "      <th>v40</th>\n",
              "      <td>manual</td>\n",
              "    </tr>\n",
              "    <tr>\n",
              "      <th>v50</th>\n",
              "      <td>manual</td>\n",
              "    </tr>\n",
              "    <tr>\n",
              "      <th>v60</th>\n",
              "      <td>manual</td>\n",
              "    </tr>\n",
              "    <tr>\n",
              "      <th>v70</th>\n",
              "      <td>manual</td>\n",
              "    </tr>\n",
              "    <tr>\n",
              "      <th>xc_reihe</th>\n",
              "      <td>auto</td>\n",
              "    </tr>\n",
              "  </tbody>\n",
              "</table>\n",
              "<p>297 rows × 1 columns</p>\n",
              "</div>"
            ],
            "text/plain": [
              "                    Gearbox\n",
              "Brand      Model           \n",
              "alfa_romeo 145       manual\n",
              "           147       manual\n",
              "           156       manual\n",
              "           159       manual\n",
              "           other     manual\n",
              "...                     ...\n",
              "volvo      v40       manual\n",
              "           v50       manual\n",
              "           v60       manual\n",
              "           v70       manual\n",
              "           xc_reihe    auto\n",
              "\n",
              "[297 rows x 1 columns]"
            ]
          },
          "execution_count": 31,
          "metadata": {},
          "output_type": "execute_result"
        }
      ],
      "source": [
        "data.groupby(['Brand','Model']).agg({'Gearbox' : pd.Series.mode})"
      ]
    },
    {
      "cell_type": "code",
      "execution_count": null,
      "metadata": {
        "scrolled": true,
        "id": "qJ5V39W72j7l"
      },
      "outputs": [],
      "source": [
        "data['Gearbox'] = data.groupby(['Brand','Model']).Gearbox.apply(lambda x: x.fillna(x.mode()[0]))"
      ]
    },
    {
      "cell_type": "code",
      "execution_count": null,
      "metadata": {
        "scrolled": false,
        "id": "M8MTQtgp2j7m",
        "outputId": "a0865488-947e-4948-9dae-26d4e070bac1"
      },
      "outputs": [
        {
          "data": {
            "text/html": [
              "<div>\n",
              "<style scoped>\n",
              "    .dataframe tbody tr th:only-of-type {\n",
              "        vertical-align: middle;\n",
              "    }\n",
              "\n",
              "    .dataframe tbody tr th {\n",
              "        vertical-align: top;\n",
              "    }\n",
              "\n",
              "    .dataframe thead th {\n",
              "        text-align: right;\n",
              "    }\n",
              "</style>\n",
              "<table border=\"1\" class=\"dataframe\">\n",
              "  <thead>\n",
              "    <tr style=\"text-align: right;\">\n",
              "      <th></th>\n",
              "      <th>DateCrawled</th>\n",
              "      <th>Price</th>\n",
              "      <th>VehicleType</th>\n",
              "      <th>RegistrationYear</th>\n",
              "      <th>Gearbox</th>\n",
              "      <th>Power</th>\n",
              "      <th>Model</th>\n",
              "      <th>Kilometer</th>\n",
              "      <th>RegistrationMonth</th>\n",
              "      <th>FuelType</th>\n",
              "      <th>Brand</th>\n",
              "      <th>Repaired</th>\n",
              "      <th>DateCreated</th>\n",
              "      <th>NumberOfPictures</th>\n",
              "      <th>PostalCode</th>\n",
              "      <th>LastSeen</th>\n",
              "    </tr>\n",
              "  </thead>\n",
              "  <tbody>\n",
              "  </tbody>\n",
              "</table>\n",
              "</div>"
            ],
            "text/plain": [
              "Empty DataFrame\n",
              "Columns: [DateCrawled, Price, VehicleType, RegistrationYear, Gearbox, Power, Model, Kilometer, RegistrationMonth, FuelType, Brand, Repaired, DateCreated, NumberOfPictures, PostalCode, LastSeen]\n",
              "Index: []"
            ]
          },
          "execution_count": 33,
          "metadata": {},
          "output_type": "execute_result"
        }
      ],
      "source": [
        "data[data['Gearbox'].isna()].head()"
      ]
    },
    {
      "cell_type": "markdown",
      "metadata": {
        "id": "lm6R_b6s2j7m"
      },
      "source": [
        "Все пропуски по трансмиссии заполнены модой по группе. Сделаем аналогично с типом топлива"
      ]
    },
    {
      "cell_type": "code",
      "execution_count": null,
      "metadata": {
        "id": "DW84shmE2j7m"
      },
      "outputs": [],
      "source": [
        "data['FuelType'] = data.groupby(['Brand','Model']).FuelType.apply(lambda x: x.fillna(x.mode()[0]))"
      ]
    },
    {
      "cell_type": "code",
      "execution_count": null,
      "metadata": {
        "scrolled": true,
        "id": "f23iWlZe2j7m",
        "outputId": "65a9a50c-3049-460e-bfa6-6fb639a7bef2"
      },
      "outputs": [
        {
          "data": {
            "text/html": [
              "<div>\n",
              "<style scoped>\n",
              "    .dataframe tbody tr th:only-of-type {\n",
              "        vertical-align: middle;\n",
              "    }\n",
              "\n",
              "    .dataframe tbody tr th {\n",
              "        vertical-align: top;\n",
              "    }\n",
              "\n",
              "    .dataframe thead th {\n",
              "        text-align: right;\n",
              "    }\n",
              "</style>\n",
              "<table border=\"1\" class=\"dataframe\">\n",
              "  <thead>\n",
              "    <tr style=\"text-align: right;\">\n",
              "      <th></th>\n",
              "      <th>DateCrawled</th>\n",
              "      <th>Price</th>\n",
              "      <th>VehicleType</th>\n",
              "      <th>RegistrationYear</th>\n",
              "      <th>Gearbox</th>\n",
              "      <th>Power</th>\n",
              "      <th>Model</th>\n",
              "      <th>Kilometer</th>\n",
              "      <th>RegistrationMonth</th>\n",
              "      <th>FuelType</th>\n",
              "      <th>Brand</th>\n",
              "      <th>Repaired</th>\n",
              "      <th>DateCreated</th>\n",
              "      <th>NumberOfPictures</th>\n",
              "      <th>PostalCode</th>\n",
              "      <th>LastSeen</th>\n",
              "    </tr>\n",
              "  </thead>\n",
              "  <tbody>\n",
              "  </tbody>\n",
              "</table>\n",
              "</div>"
            ],
            "text/plain": [
              "Empty DataFrame\n",
              "Columns: [DateCrawled, Price, VehicleType, RegistrationYear, Gearbox, Power, Model, Kilometer, RegistrationMonth, FuelType, Brand, Repaired, DateCreated, NumberOfPictures, PostalCode, LastSeen]\n",
              "Index: []"
            ]
          },
          "execution_count": 35,
          "metadata": {},
          "output_type": "execute_result"
        }
      ],
      "source": [
        "data[data['FuelType'].isna()].head()"
      ]
    },
    {
      "cell_type": "markdown",
      "metadata": {
        "id": "94NGPhTh2j7m"
      },
      "source": [
        "Пропуски по типу топлива заполнены"
      ]
    },
    {
      "cell_type": "markdown",
      "metadata": {
        "id": "0h4akctt2j7m"
      },
      "source": [
        "Убедимся, что пропусков в данных нет:"
      ]
    },
    {
      "cell_type": "code",
      "execution_count": null,
      "metadata": {
        "id": "bz0Rs1-R2j7m",
        "outputId": "0d0c91c8-2b1d-405b-c00b-9ab6d3460ad4"
      },
      "outputs": [
        {
          "data": {
            "text/plain": [
              "DateCrawled          0.0\n",
              "Price                0.0\n",
              "VehicleType          0.0\n",
              "RegistrationYear     0.0\n",
              "Gearbox              0.0\n",
              "Power                0.0\n",
              "Model                0.0\n",
              "Kilometer            0.0\n",
              "RegistrationMonth    0.0\n",
              "FuelType             0.0\n",
              "Brand                0.0\n",
              "Repaired             0.0\n",
              "DateCreated          0.0\n",
              "NumberOfPictures     0.0\n",
              "PostalCode           0.0\n",
              "LastSeen             0.0\n",
              "dtype: float64"
            ]
          },
          "execution_count": 36,
          "metadata": {},
          "output_type": "execute_result"
        }
      ],
      "source": [
        "data.isna().mean()"
      ]
    },
    {
      "cell_type": "markdown",
      "metadata": {
        "id": "bfEG0Nur2j7m"
      },
      "source": [
        "Также при первичном осмотре данных были замечены выбросы по мощности. Посмотрим более детально:"
      ]
    },
    {
      "cell_type": "code",
      "execution_count": null,
      "metadata": {
        "scrolled": false,
        "id": "Q1bIOMQo2j7m",
        "outputId": "e0cb5df4-c194-4fac-cb55-ae34dd0dff2c"
      },
      "outputs": [
        {
          "data": {
            "text/plain": [
              "Text(0, 0.5, 'Количество авто')"
            ]
          },
          "execution_count": 37,
          "metadata": {},
          "output_type": "execute_result"
        },
        {
          "data": {
            "image/png": "[encoded data removed]",
            "text/plain": [
              "<Figure size 720x720 with 1 Axes>"
            ]
          },
          "metadata": {
            "needs_background": "light"
          },
          "output_type": "display_data"
        }
      ],
      "source": [
        "plt.grid()\n",
        "\n",
        "plt.hist(data['Power'], bins=50);\n",
        "\n",
        "plt.title('Распределение автомобилей по мощности')\n",
        "plt.xlabel('Мощность (лс))')\n",
        "plt.ylabel('Количество авто')"
      ]
    },
    {
      "cell_type": "code",
      "execution_count": null,
      "metadata": {
        "scrolled": false,
        "id": "t2-dmCy72j7m",
        "outputId": "0505e8d5-e71b-46f3-f6de-7b76c5ca41f3"
      },
      "outputs": [
        {
          "data": {
            "text/html": [
              "<div>\n",
              "<style scoped>\n",
              "    .dataframe tbody tr th:only-of-type {\n",
              "        vertical-align: middle;\n",
              "    }\n",
              "\n",
              "    .dataframe tbody tr th {\n",
              "        vertical-align: top;\n",
              "    }\n",
              "\n",
              "    .dataframe thead th {\n",
              "        text-align: right;\n",
              "    }\n",
              "</style>\n",
              "<table border=\"1\" class=\"dataframe\">\n",
              "  <thead>\n",
              "    <tr style=\"text-align: right;\">\n",
              "      <th></th>\n",
              "      <th>DateCrawled</th>\n",
              "      <th>Price</th>\n",
              "      <th>VehicleType</th>\n",
              "      <th>RegistrationYear</th>\n",
              "      <th>Gearbox</th>\n",
              "      <th>Power</th>\n",
              "      <th>Model</th>\n",
              "      <th>Kilometer</th>\n",
              "      <th>RegistrationMonth</th>\n",
              "      <th>FuelType</th>\n",
              "      <th>Brand</th>\n",
              "      <th>Repaired</th>\n",
              "      <th>DateCreated</th>\n",
              "      <th>NumberOfPictures</th>\n",
              "      <th>PostalCode</th>\n",
              "      <th>LastSeen</th>\n",
              "    </tr>\n",
              "  </thead>\n",
              "  <tbody>\n",
              "    <tr>\n",
              "      <th>1816</th>\n",
              "      <td>2016-03-22 20:52:00</td>\n",
              "      <td>3200</td>\n",
              "      <td>small</td>\n",
              "      <td>2004</td>\n",
              "      <td>manual</td>\n",
              "      <td>1398</td>\n",
              "      <td>corolla</td>\n",
              "      <td>5000</td>\n",
              "      <td>6</td>\n",
              "      <td>petrol</td>\n",
              "      <td>toyota</td>\n",
              "      <td>no</td>\n",
              "      <td>2016-03-22 00:00:00</td>\n",
              "      <td>0</td>\n",
              "      <td>22043</td>\n",
              "      <td>2016-03-22 21:43:26</td>\n",
              "    </tr>\n",
              "    <tr>\n",
              "      <th>5328</th>\n",
              "      <td>2016-03-29 19:44:48</td>\n",
              "      <td>500</td>\n",
              "      <td>wagon</td>\n",
              "      <td>1999</td>\n",
              "      <td>manual</td>\n",
              "      <td>1001</td>\n",
              "      <td>astra</td>\n",
              "      <td>150000</td>\n",
              "      <td>7</td>\n",
              "      <td>petrol</td>\n",
              "      <td>opel</td>\n",
              "      <td>unknown</td>\n",
              "      <td>2016-03-29 00:00:00</td>\n",
              "      <td>0</td>\n",
              "      <td>33154</td>\n",
              "      <td>2016-04-06 05:44:36</td>\n",
              "    </tr>\n",
              "    <tr>\n",
              "      <th>7661</th>\n",
              "      <td>2016-04-02 19:25:25</td>\n",
              "      <td>1499</td>\n",
              "      <td>small</td>\n",
              "      <td>1999</td>\n",
              "      <td>manual</td>\n",
              "      <td>7515</td>\n",
              "      <td>lupo</td>\n",
              "      <td>150000</td>\n",
              "      <td>4</td>\n",
              "      <td>petrol</td>\n",
              "      <td>volkswagen</td>\n",
              "      <td>unknown</td>\n",
              "      <td>2016-04-02 00:00:00</td>\n",
              "      <td>0</td>\n",
              "      <td>65830</td>\n",
              "      <td>2016-04-06 11:46:49</td>\n",
              "    </tr>\n",
              "    <tr>\n",
              "      <th>9664</th>\n",
              "      <td>2016-03-14 20:06:19</td>\n",
              "      <td>2599</td>\n",
              "      <td>unknown</td>\n",
              "      <td>2016</td>\n",
              "      <td>manual</td>\n",
              "      <td>1779</td>\n",
              "      <td>zafira</td>\n",
              "      <td>150000</td>\n",
              "      <td>0</td>\n",
              "      <td>petrol</td>\n",
              "      <td>opel</td>\n",
              "      <td>no</td>\n",
              "      <td>2016-03-14 00:00:00</td>\n",
              "      <td>0</td>\n",
              "      <td>60326</td>\n",
              "      <td>2016-04-07 09:45:27</td>\n",
              "    </tr>\n",
              "    <tr>\n",
              "      <th>9875</th>\n",
              "      <td>2016-03-31 20:51:13</td>\n",
              "      <td>550</td>\n",
              "      <td>wagon</td>\n",
              "      <td>2003</td>\n",
              "      <td>manual</td>\n",
              "      <td>1753</td>\n",
              "      <td>focus</td>\n",
              "      <td>150000</td>\n",
              "      <td>1</td>\n",
              "      <td>petrol</td>\n",
              "      <td>ford</td>\n",
              "      <td>yes</td>\n",
              "      <td>2016-03-31 00:00:00</td>\n",
              "      <td>0</td>\n",
              "      <td>21039</td>\n",
              "      <td>2016-03-31 20:51:13</td>\n",
              "    </tr>\n",
              "    <tr>\n",
              "      <th>...</th>\n",
              "      <td>...</td>\n",
              "      <td>...</td>\n",
              "      <td>...</td>\n",
              "      <td>...</td>\n",
              "      <td>...</td>\n",
              "      <td>...</td>\n",
              "      <td>...</td>\n",
              "      <td>...</td>\n",
              "      <td>...</td>\n",
              "      <td>...</td>\n",
              "      <td>...</td>\n",
              "      <td>...</td>\n",
              "      <td>...</td>\n",
              "      <td>...</td>\n",
              "      <td>...</td>\n",
              "      <td>...</td>\n",
              "    </tr>\n",
              "    <tr>\n",
              "      <th>348668</th>\n",
              "      <td>2016-03-05 17:53:09</td>\n",
              "      <td>1000</td>\n",
              "      <td>wagon</td>\n",
              "      <td>1996</td>\n",
              "      <td>manual</td>\n",
              "      <td>2598</td>\n",
              "      <td>a6</td>\n",
              "      <td>150000</td>\n",
              "      <td>7</td>\n",
              "      <td>petrol</td>\n",
              "      <td>audi</td>\n",
              "      <td>unknown</td>\n",
              "      <td>2016-03-05 00:00:00</td>\n",
              "      <td>0</td>\n",
              "      <td>7646</td>\n",
              "      <td>2016-03-07 16:17:01</td>\n",
              "    </tr>\n",
              "    <tr>\n",
              "      <th>348883</th>\n",
              "      <td>2016-03-13 11:51:57</td>\n",
              "      <td>7500</td>\n",
              "      <td>sedan</td>\n",
              "      <td>2011</td>\n",
              "      <td>manual</td>\n",
              "      <td>1548</td>\n",
              "      <td>scenic</td>\n",
              "      <td>90000</td>\n",
              "      <td>4</td>\n",
              "      <td>petrol</td>\n",
              "      <td>renault</td>\n",
              "      <td>unknown</td>\n",
              "      <td>2016-03-13 00:00:00</td>\n",
              "      <td>0</td>\n",
              "      <td>24568</td>\n",
              "      <td>2016-04-06 15:17:39</td>\n",
              "    </tr>\n",
              "    <tr>\n",
              "      <th>348968</th>\n",
              "      <td>2016-04-04 18:53:25</td>\n",
              "      <td>250</td>\n",
              "      <td>small</td>\n",
              "      <td>1999</td>\n",
              "      <td>manual</td>\n",
              "      <td>1241</td>\n",
              "      <td>ypsilon</td>\n",
              "      <td>150000</td>\n",
              "      <td>5</td>\n",
              "      <td>petrol</td>\n",
              "      <td>lancia</td>\n",
              "      <td>yes</td>\n",
              "      <td>2016-04-04 00:00:00</td>\n",
              "      <td>0</td>\n",
              "      <td>28259</td>\n",
              "      <td>2016-04-04 18:53:25</td>\n",
              "    </tr>\n",
              "    <tr>\n",
              "      <th>351947</th>\n",
              "      <td>2016-03-07 21:36:19</td>\n",
              "      <td>1500</td>\n",
              "      <td>bus</td>\n",
              "      <td>2001</td>\n",
              "      <td>manual</td>\n",
              "      <td>1001</td>\n",
              "      <td>zafira</td>\n",
              "      <td>5000</td>\n",
              "      <td>7</td>\n",
              "      <td>petrol</td>\n",
              "      <td>opel</td>\n",
              "      <td>no</td>\n",
              "      <td>2016-03-07 00:00:00</td>\n",
              "      <td>0</td>\n",
              "      <td>66117</td>\n",
              "      <td>2016-03-09 12:47:08</td>\n",
              "    </tr>\n",
              "    <tr>\n",
              "      <th>354260</th>\n",
              "      <td>2016-03-09 17:59:03</td>\n",
              "      <td>399</td>\n",
              "      <td>other</td>\n",
              "      <td>1994</td>\n",
              "      <td>manual</td>\n",
              "      <td>1103</td>\n",
              "      <td>3er</td>\n",
              "      <td>150000</td>\n",
              "      <td>0</td>\n",
              "      <td>petrol</td>\n",
              "      <td>bmw</td>\n",
              "      <td>unknown</td>\n",
              "      <td>2016-03-09 00:00:00</td>\n",
              "      <td>0</td>\n",
              "      <td>56235</td>\n",
              "      <td>2016-03-17 09:17:08</td>\n",
              "    </tr>\n",
              "  </tbody>\n",
              "</table>\n",
              "<p>226 rows × 16 columns</p>\n",
              "</div>"
            ],
            "text/plain": [
              "                DateCrawled  Price VehicleType  RegistrationYear Gearbox  \\\n",
              "1816    2016-03-22 20:52:00   3200       small              2004  manual   \n",
              "5328    2016-03-29 19:44:48    500       wagon              1999  manual   \n",
              "7661    2016-04-02 19:25:25   1499       small              1999  manual   \n",
              "9664    2016-03-14 20:06:19   2599     unknown              2016  manual   \n",
              "9875    2016-03-31 20:51:13    550       wagon              2003  manual   \n",
              "...                     ...    ...         ...               ...     ...   \n",
              "348668  2016-03-05 17:53:09   1000       wagon              1996  manual   \n",
              "348883  2016-03-13 11:51:57   7500       sedan              2011  manual   \n",
              "348968  2016-04-04 18:53:25    250       small              1999  manual   \n",
              "351947  2016-03-07 21:36:19   1500         bus              2001  manual   \n",
              "354260  2016-03-09 17:59:03    399       other              1994  manual   \n",
              "\n",
              "        Power    Model  Kilometer  RegistrationMonth FuelType       Brand  \\\n",
              "1816     1398  corolla       5000                  6   petrol      toyota   \n",
              "5328     1001    astra     150000                  7   petrol        opel   \n",
              "7661     7515     lupo     150000                  4   petrol  volkswagen   \n",
              "9664     1779   zafira     150000                  0   petrol        opel   \n",
              "9875     1753    focus     150000                  1   petrol        ford   \n",
              "...       ...      ...        ...                ...      ...         ...   \n",
              "348668   2598       a6     150000                  7   petrol        audi   \n",
              "348883   1548   scenic      90000                  4   petrol     renault   \n",
              "348968   1241  ypsilon     150000                  5   petrol      lancia   \n",
              "351947   1001   zafira       5000                  7   petrol        opel   \n",
              "354260   1103      3er     150000                  0   petrol         bmw   \n",
              "\n",
              "       Repaired          DateCreated  NumberOfPictures  PostalCode  \\\n",
              "1816         no  2016-03-22 00:00:00                 0       22043   \n",
              "5328    unknown  2016-03-29 00:00:00                 0       33154   \n",
              "7661    unknown  2016-04-02 00:00:00                 0       65830   \n",
              "9664         no  2016-03-14 00:00:00                 0       60326   \n",
              "9875        yes  2016-03-31 00:00:00                 0       21039   \n",
              "...         ...                  ...               ...         ...   \n",
              "348668  unknown  2016-03-05 00:00:00                 0        7646   \n",
              "348883  unknown  2016-03-13 00:00:00                 0       24568   \n",
              "348968      yes  2016-04-04 00:00:00                 0       28259   \n",
              "351947       no  2016-03-07 00:00:00                 0       66117   \n",
              "354260  unknown  2016-03-09 00:00:00                 0       56235   \n",
              "\n",
              "                   LastSeen  \n",
              "1816    2016-03-22 21:43:26  \n",
              "5328    2016-04-06 05:44:36  \n",
              "7661    2016-04-06 11:46:49  \n",
              "9664    2016-04-07 09:45:27  \n",
              "9875    2016-03-31 20:51:13  \n",
              "...                     ...  \n",
              "348668  2016-03-07 16:17:01  \n",
              "348883  2016-04-06 15:17:39  \n",
              "348968  2016-04-04 18:53:25  \n",
              "351947  2016-03-09 12:47:08  \n",
              "354260  2016-03-17 09:17:08  \n",
              "\n",
              "[226 rows x 16 columns]"
            ]
          },
          "execution_count": 38,
          "metadata": {},
          "output_type": "execute_result"
        }
      ],
      "source": [
        "data[data['Power'] > 1000]"
      ]
    },
    {
      "cell_type": "code",
      "execution_count": null,
      "metadata": {
        "id": "fSCu8ybV2j7m",
        "outputId": "c6e7cac0-b8c0-4dc7-b095-ffe707440953"
      },
      "outputs": [
        {
          "data": {
            "text/plain": [
              "333.0"
            ]
          },
          "execution_count": 39,
          "metadata": {},
          "output_type": "execute_result"
        }
      ],
      "source": [
        "data['Power'].quantile(0.995)"
      ]
    },
    {
      "cell_type": "code",
      "execution_count": null,
      "metadata": {
        "id": "2bb9XxWn2j7m",
        "outputId": "35871dc0-7920-46ab-9ca6-9c153f965bcb"
      },
      "outputs": [
        {
          "data": {
            "text/plain": [
              "0.0"
            ]
          },
          "execution_count": 40,
          "metadata": {},
          "output_type": "execute_result"
        }
      ],
      "source": [
        "data['Power'].quantile(0.025)"
      ]
    },
    {
      "cell_type": "markdown",
      "metadata": {
        "id": "0TIdc4xQ2j7n"
      },
      "source": [
        "Видим, что можно ограничить мощность в датасете значеним в 350 лс, а нижняя граница должна быть больше 0 лс"
      ]
    },
    {
      "cell_type": "code",
      "execution_count": null,
      "metadata": {
        "id": "wKpYwPCy2j7n"
      },
      "outputs": [],
      "source": [
        "data = data.query('0 < Power < 350')"
      ]
    },
    {
      "cell_type": "code",
      "execution_count": null,
      "metadata": {
        "id": "rrwc7Z8J2j7n",
        "outputId": "a5243d1f-04e3-48a5-b2d1-dba43eb6ddb8"
      },
      "outputs": [
        {
          "data": {
            "text/plain": [
              "Text(0, 0.5, 'Количество авто')"
            ]
          },
          "execution_count": 42,
          "metadata": {},
          "output_type": "execute_result"
        },
        {
          "data": {
            "image/png": "[encoded data removed]",
            "text/plain": [
              "<Figure size 720x720 with 1 Axes>"
            ]
          },
          "metadata": {
            "needs_background": "light"
          },
          "output_type": "display_data"
        }
      ],
      "source": [
        "plt.grid()\n",
        "\n",
        "plt.hist(data['Power'], bins=30);\n",
        "\n",
        "plt.title('Распределение автомобилей по мощности')\n",
        "plt.xlabel('Мощность (лс))')\n",
        "plt.ylabel('Количество авто')"
      ]
    },
    {
      "cell_type": "markdown",
      "metadata": {
        "id": "yNjj4PHF2j7n"
      },
      "source": [
        "На этом предобработка данных завершена. Посмотрим на то, какую часть данных от исходного датасета мы удалили:"
      ]
    },
    {
      "cell_type": "code",
      "execution_count": null,
      "metadata": {
        "id": "zJ-fvpZG2j7n",
        "outputId": "0a397a74-91ef-4f2d-f9e6-22aac435fa73"
      },
      "outputs": [
        {
          "name": "stdout",
          "output_type": "stream",
          "text": [
            "Было удалено 21.12% данных от исходного датасета\n"
          ]
        }
      ],
      "source": [
        "print(f'Было удалено {(1 - (data.shape[0] / old_shape))*100:.2f}% данных от исходного датасета')"
      ]
    },
    {
      "cell_type": "markdown",
      "metadata": {
        "id": "-k2rDTDm2j7n"
      },
      "source": [
        "Мы удалили порядка 20% в данных - это данные с неадекватно низкой ценой, выбросами по мощности, с пропусками по модели и некорректным годом регистрации. Пропуски по коробке и типу топлива были заполнены модой по группе"
      ]
    },
    {
      "cell_type": "markdown",
      "metadata": {
        "id": "_3JUWnpM2j7n"
      },
      "source": [
        "Проверим, нет ли МК в признаках"
      ]
    },
    {
      "cell_type": "code",
      "execution_count": null,
      "metadata": {
        "scrolled": true,
        "id": "30N9eT3M2j7n",
        "outputId": "429617c6-dd09-4325-8615-ef2268a10aff"
      },
      "outputs": [
        {
          "data": {
            "text/html": [
              "<div>\n",
              "<style scoped>\n",
              "    .dataframe tbody tr th:only-of-type {\n",
              "        vertical-align: middle;\n",
              "    }\n",
              "\n",
              "    .dataframe tbody tr th {\n",
              "        vertical-align: top;\n",
              "    }\n",
              "\n",
              "    .dataframe thead th {\n",
              "        text-align: right;\n",
              "    }\n",
              "</style>\n",
              "<table border=\"1\" class=\"dataframe\">\n",
              "  <thead>\n",
              "    <tr style=\"text-align: right;\">\n",
              "      <th></th>\n",
              "      <th>Price</th>\n",
              "      <th>RegistrationYear</th>\n",
              "      <th>Power</th>\n",
              "      <th>Kilometer</th>\n",
              "      <th>RegistrationMonth</th>\n",
              "      <th>NumberOfPictures</th>\n",
              "      <th>PostalCode</th>\n",
              "    </tr>\n",
              "  </thead>\n",
              "  <tbody>\n",
              "    <tr>\n",
              "      <th>Price</th>\n",
              "      <td>1.000000</td>\n",
              "      <td>0.580858</td>\n",
              "      <td>0.508472</td>\n",
              "      <td>-0.397632</td>\n",
              "      <td>0.066454</td>\n",
              "      <td>NaN</td>\n",
              "      <td>0.063334</td>\n",
              "    </tr>\n",
              "    <tr>\n",
              "      <th>RegistrationYear</th>\n",
              "      <td>0.580858</td>\n",
              "      <td>1.000000</td>\n",
              "      <td>0.156009</td>\n",
              "      <td>-0.370063</td>\n",
              "      <td>0.028869</td>\n",
              "      <td>NaN</td>\n",
              "      <td>0.034384</td>\n",
              "    </tr>\n",
              "    <tr>\n",
              "      <th>Power</th>\n",
              "      <td>0.508472</td>\n",
              "      <td>0.156009</td>\n",
              "      <td>1.000000</td>\n",
              "      <td>0.108153</td>\n",
              "      <td>0.042142</td>\n",
              "      <td>NaN</td>\n",
              "      <td>0.054804</td>\n",
              "    </tr>\n",
              "    <tr>\n",
              "      <th>Kilometer</th>\n",
              "      <td>-0.397632</td>\n",
              "      <td>-0.370063</td>\n",
              "      <td>0.108153</td>\n",
              "      <td>1.000000</td>\n",
              "      <td>-0.017548</td>\n",
              "      <td>NaN</td>\n",
              "      <td>-0.011249</td>\n",
              "    </tr>\n",
              "    <tr>\n",
              "      <th>RegistrationMonth</th>\n",
              "      <td>0.066454</td>\n",
              "      <td>0.028869</td>\n",
              "      <td>0.042142</td>\n",
              "      <td>-0.017548</td>\n",
              "      <td>1.000000</td>\n",
              "      <td>NaN</td>\n",
              "      <td>0.002682</td>\n",
              "    </tr>\n",
              "    <tr>\n",
              "      <th>NumberOfPictures</th>\n",
              "      <td>NaN</td>\n",
              "      <td>NaN</td>\n",
              "      <td>NaN</td>\n",
              "      <td>NaN</td>\n",
              "      <td>NaN</td>\n",
              "      <td>NaN</td>\n",
              "      <td>NaN</td>\n",
              "    </tr>\n",
              "    <tr>\n",
              "      <th>PostalCode</th>\n",
              "      <td>0.063334</td>\n",
              "      <td>0.034384</td>\n",
              "      <td>0.054804</td>\n",
              "      <td>-0.011249</td>\n",
              "      <td>0.002682</td>\n",
              "      <td>NaN</td>\n",
              "      <td>1.000000</td>\n",
              "    </tr>\n",
              "  </tbody>\n",
              "</table>\n",
              "</div>"
            ],
            "text/plain": [
              "                      Price  RegistrationYear     Power  Kilometer  \\\n",
              "Price              1.000000          0.580858  0.508472  -0.397632   \n",
              "RegistrationYear   0.580858          1.000000  0.156009  -0.370063   \n",
              "Power              0.508472          0.156009  1.000000   0.108153   \n",
              "Kilometer         -0.397632         -0.370063  0.108153   1.000000   \n",
              "RegistrationMonth  0.066454          0.028869  0.042142  -0.017548   \n",
              "NumberOfPictures        NaN               NaN       NaN        NaN   \n",
              "PostalCode         0.063334          0.034384  0.054804  -0.011249   \n",
              "\n",
              "                   RegistrationMonth  NumberOfPictures  PostalCode  \n",
              "Price                       0.066454               NaN    0.063334  \n",
              "RegistrationYear            0.028869               NaN    0.034384  \n",
              "Power                       0.042142               NaN    0.054804  \n",
              "Kilometer                  -0.017548               NaN   -0.011249  \n",
              "RegistrationMonth           1.000000               NaN    0.002682  \n",
              "NumberOfPictures                 NaN               NaN         NaN  \n",
              "PostalCode                  0.002682               NaN    1.000000  "
            ]
          },
          "execution_count": 44,
          "metadata": {},
          "output_type": "execute_result"
        }
      ],
      "source": [
        "data.corr()"
      ]
    },
    {
      "cell_type": "markdown",
      "metadata": {
        "id": "1vGBcbcd2j7n"
      },
      "source": [
        "Видим, что явной корреляции между признаками нет. На таргет ожидаемо больше всего влияют год, пробег и мощность"
      ]
    },
    {
      "cell_type": "markdown",
      "metadata": {
        "id": "A2mTHdHE2j7o"
      },
      "source": [
        "## Обучение моделей"
      ]
    },
    {
      "cell_type": "markdown",
      "metadata": {
        "id": "7kM62Lzk2j7o"
      },
      "source": [
        "Для обучения модели следющие столбцы не несут смысловой нагрузки:\n",
        "- DateCrawled\n",
        "- DateCreated\n",
        "- PostalCode\n",
        "- LastSeen\n",
        "- NumberOfPictures (везде 0)\n",
        "- RegistrationMonth\n",
        "\n",
        "Поэтому удалим данные столцы из датасета"
      ]
    },
    {
      "cell_type": "code",
      "execution_count": null,
      "metadata": {
        "id": "R40wFld82j7o"
      },
      "outputs": [],
      "source": [
        "data = data.drop(columns=['DateCrawled', 'DateCreated', 'PostalCode', 'LastSeen', 'NumberOfPictures', 'RegistrationMonth'])"
      ]
    },
    {
      "cell_type": "code",
      "execution_count": null,
      "metadata": {
        "scrolled": false,
        "id": "pYcwvuDy2j7o",
        "outputId": "60c3feb7-49a0-447a-b2fb-bc2b99f2d714"
      },
      "outputs": [
        {
          "data": {
            "text/html": [
              "<div>\n",
              "<style scoped>\n",
              "    .dataframe tbody tr th:only-of-type {\n",
              "        vertical-align: middle;\n",
              "    }\n",
              "\n",
              "    .dataframe tbody tr th {\n",
              "        vertical-align: top;\n",
              "    }\n",
              "\n",
              "    .dataframe thead th {\n",
              "        text-align: right;\n",
              "    }\n",
              "</style>\n",
              "<table border=\"1\" class=\"dataframe\">\n",
              "  <thead>\n",
              "    <tr style=\"text-align: right;\">\n",
              "      <th></th>\n",
              "      <th>Price</th>\n",
              "      <th>VehicleType</th>\n",
              "      <th>RegistrationYear</th>\n",
              "      <th>Gearbox</th>\n",
              "      <th>Power</th>\n",
              "      <th>Model</th>\n",
              "      <th>Kilometer</th>\n",
              "      <th>FuelType</th>\n",
              "      <th>Brand</th>\n",
              "      <th>Repaired</th>\n",
              "    </tr>\n",
              "  </thead>\n",
              "  <tbody>\n",
              "    <tr>\n",
              "      <th>2</th>\n",
              "      <td>9800</td>\n",
              "      <td>suv</td>\n",
              "      <td>2004</td>\n",
              "      <td>auto</td>\n",
              "      <td>163</td>\n",
              "      <td>grand</td>\n",
              "      <td>125000</td>\n",
              "      <td>petrol</td>\n",
              "      <td>jeep</td>\n",
              "      <td>unknown</td>\n",
              "    </tr>\n",
              "    <tr>\n",
              "      <th>3</th>\n",
              "      <td>1500</td>\n",
              "      <td>small</td>\n",
              "      <td>2001</td>\n",
              "      <td>manual</td>\n",
              "      <td>75</td>\n",
              "      <td>golf</td>\n",
              "      <td>150000</td>\n",
              "      <td>petrol</td>\n",
              "      <td>volkswagen</td>\n",
              "      <td>no</td>\n",
              "    </tr>\n",
              "    <tr>\n",
              "      <th>4</th>\n",
              "      <td>3600</td>\n",
              "      <td>small</td>\n",
              "      <td>2008</td>\n",
              "      <td>manual</td>\n",
              "      <td>69</td>\n",
              "      <td>fabia</td>\n",
              "      <td>90000</td>\n",
              "      <td>petrol</td>\n",
              "      <td>skoda</td>\n",
              "      <td>no</td>\n",
              "    </tr>\n",
              "    <tr>\n",
              "      <th>5</th>\n",
              "      <td>650</td>\n",
              "      <td>sedan</td>\n",
              "      <td>1995</td>\n",
              "      <td>manual</td>\n",
              "      <td>102</td>\n",
              "      <td>3er</td>\n",
              "      <td>150000</td>\n",
              "      <td>petrol</td>\n",
              "      <td>bmw</td>\n",
              "      <td>yes</td>\n",
              "    </tr>\n",
              "    <tr>\n",
              "      <th>6</th>\n",
              "      <td>2200</td>\n",
              "      <td>convertible</td>\n",
              "      <td>2004</td>\n",
              "      <td>manual</td>\n",
              "      <td>109</td>\n",
              "      <td>2_reihe</td>\n",
              "      <td>150000</td>\n",
              "      <td>petrol</td>\n",
              "      <td>peugeot</td>\n",
              "      <td>no</td>\n",
              "    </tr>\n",
              "  </tbody>\n",
              "</table>\n",
              "</div>"
            ],
            "text/plain": [
              "   Price  VehicleType  RegistrationYear Gearbox  Power    Model  Kilometer  \\\n",
              "2   9800          suv              2004    auto    163    grand     125000   \n",
              "3   1500        small              2001  manual     75     golf     150000   \n",
              "4   3600        small              2008  manual     69    fabia      90000   \n",
              "5    650        sedan              1995  manual    102      3er     150000   \n",
              "6   2200  convertible              2004  manual    109  2_reihe     150000   \n",
              "\n",
              "  FuelType       Brand Repaired  \n",
              "2   petrol        jeep  unknown  \n",
              "3   petrol  volkswagen       no  \n",
              "4   petrol       skoda       no  \n",
              "5   petrol         bmw      yes  \n",
              "6   petrol     peugeot       no  "
            ]
          },
          "execution_count": 46,
          "metadata": {},
          "output_type": "execute_result"
        }
      ],
      "source": [
        "data.head()"
      ]
    },
    {
      "cell_type": "markdown",
      "metadata": {
        "id": "Jy2QG5xs2j7o"
      },
      "source": [
        "Нам потребуются 3 выборки:\n",
        "- train (60%)\n",
        "- valid (20%)\n",
        "- test (20%) - для финальной оценки лучшей модели"
      ]
    },
    {
      "cell_type": "code",
      "execution_count": null,
      "metadata": {
        "id": "-pRG5uDc2j7o"
      },
      "outputs": [],
      "source": [
        "data_train, data_temp = train_test_split(data, test_size=0.4, random_state=12345)"
      ]
    },
    {
      "cell_type": "code",
      "execution_count": null,
      "metadata": {
        "id": "MyXm6fow2j7o",
        "outputId": "5b3d1f93-f2e4-4710-e0b4-5fddcb89668a"
      },
      "outputs": [
        {
          "data": {
            "text/plain": [
              "0.6"
            ]
          },
          "execution_count": 48,
          "metadata": {},
          "output_type": "execute_result"
        }
      ],
      "source": [
        "#checking the size of df_train\n",
        "data_train.shape[0] / data.shape[0]"
      ]
    },
    {
      "cell_type": "code",
      "execution_count": null,
      "metadata": {
        "id": "nCZTjXNh2j7o"
      },
      "outputs": [],
      "source": [
        "#divide df_temp at equal datasets (valid and test)\n",
        "data_valid, data_test = train_test_split(data_temp, test_size=0.5, random_state=12345)"
      ]
    },
    {
      "cell_type": "code",
      "execution_count": null,
      "metadata": {
        "scrolled": true,
        "id": "4jutbgAP2j7o",
        "outputId": "3c9e5bd4-44c5-43f8-8506-e7d456eaf127"
      },
      "outputs": [
        {
          "name": "stdout",
          "output_type": "stream",
          "text": [
            "0.6\n",
            "0.2\n",
            "0.2\n"
          ]
        }
      ],
      "source": [
        "print(data_train.shape[0] / data.shape[0])\n",
        "print(data_valid.shape[0] / data.shape[0])\n",
        "print(data_test.shape[0] / data.shape[0])"
      ]
    },
    {
      "cell_type": "markdown",
      "metadata": {
        "id": "NrQavulV2j7o"
      },
      "source": [
        "Разделение на 3 выборки проведено корректно"
      ]
    },
    {
      "cell_type": "code",
      "execution_count": null,
      "metadata": {
        "id": "qWgvx8Wl2j7p",
        "outputId": "46716726-0754-40cf-9e8f-a1ccc079ac28"
      },
      "outputs": [
        {
          "name": "stdout",
          "output_type": "stream",
          "text": [
            "(167712, 9)\n",
            "(167712,)\n"
          ]
        }
      ],
      "source": [
        "features_train = data_train.drop(columns='Price')\n",
        "target_train = data_train.Price\n",
        "\n",
        "print(features_train.shape)\n",
        "print(target_train.shape)"
      ]
    },
    {
      "cell_type": "code",
      "execution_count": null,
      "metadata": {
        "id": "ziuvoGg42j7p",
        "outputId": "a9d0e4b5-7734-4962-a285-da32790eb1f0"
      },
      "outputs": [
        {
          "name": "stdout",
          "output_type": "stream",
          "text": [
            "(55904, 9)\n",
            "(55904,)\n"
          ]
        }
      ],
      "source": [
        "features_valid = data_valid.drop(columns='Price')\n",
        "target_valid = data_valid.Price\n",
        "\n",
        "print(features_valid.shape)\n",
        "print(target_valid.shape)"
      ]
    },
    {
      "cell_type": "code",
      "execution_count": null,
      "metadata": {
        "id": "Rh_7J_qE2j7p",
        "outputId": "644f5862-7f9b-41cb-fd40-95fb56a61bc5"
      },
      "outputs": [
        {
          "name": "stdout",
          "output_type": "stream",
          "text": [
            "(55904, 9)\n",
            "(55904,)\n"
          ]
        }
      ],
      "source": [
        "features_test = data_test.drop(columns='Price')\n",
        "target_test = data_test.Price\n",
        "\n",
        "print(features_test.shape)\n",
        "print(target_test.shape)"
      ]
    },
    {
      "cell_type": "markdown",
      "metadata": {
        "id": "jTzEPzB32j7p"
      },
      "source": [
        "### Linear Model"
      ]
    },
    {
      "cell_type": "markdown",
      "metadata": {
        "id": "Ex4n4Pxu2j7p"
      },
      "source": [
        "Перед обучением модели необходимо катеориальные признаки с помощью OHE энкодера преобразовать в числовые"
      ]
    },
    {
      "cell_type": "code",
      "execution_count": null,
      "metadata": {
        "scrolled": true,
        "id": "ox_gqyh_2j7p",
        "outputId": "e68dd2bc-63db-4672-ed98-930c01cdffb2"
      },
      "outputs": [
        {
          "name": "stdout",
          "output_type": "stream",
          "text": [
            "<class 'pandas.core.frame.DataFrame'>\n",
            "Int64Index: 167712 entries, 141348 to 275821\n",
            "Data columns (total 9 columns):\n",
            " #   Column            Non-Null Count   Dtype \n",
            "---  ------            --------------   ----- \n",
            " 0   VehicleType       167712 non-null  object\n",
            " 1   RegistrationYear  167712 non-null  int64 \n",
            " 2   Gearbox           167712 non-null  object\n",
            " 3   Power             167712 non-null  int64 \n",
            " 4   Model             167712 non-null  object\n",
            " 5   Kilometer         167712 non-null  int64 \n",
            " 6   FuelType          167712 non-null  object\n",
            " 7   Brand             167712 non-null  object\n",
            " 8   Repaired          167712 non-null  object\n",
            "dtypes: int64(3), object(6)\n",
            "memory usage: 12.8+ MB\n"
          ]
        }
      ],
      "source": [
        "features_train.info()"
      ]
    },
    {
      "cell_type": "code",
      "execution_count": null,
      "metadata": {
        "id": "FtcQxGQg2j7p",
        "outputId": "65fba913-4379-4378-c48b-d6c761069d92"
      },
      "outputs": [
        {
          "name": "stdout",
          "output_type": "stream",
          "text": [
            "['VehicleType', 'Gearbox', 'Model', 'FuelType', 'Brand', 'Repaired']\n"
          ]
        }
      ],
      "source": [
        "#категориальные признаки для OHE Ridge\n",
        "ohe_features_ridge = features_train.select_dtypes(include='object').columns.to_list()\n",
        "print(ohe_features_ridge)"
      ]
    },
    {
      "cell_type": "code",
      "execution_count": null,
      "metadata": {
        "id": "YACE0i112j7p"
      },
      "outputs": [],
      "source": [
        "features_train_ridge = features_train.copy()\n",
        "features_valid_ridge = features_valid.copy()\n",
        "features_test_ridge = features_test.copy()"
      ]
    },
    {
      "cell_type": "code",
      "execution_count": null,
      "metadata": {
        "scrolled": false,
        "id": "Fkjqx2Iy2j7p"
      },
      "outputs": [],
      "source": [
        "# drop='first' удаляет первый признак из закодированных:\n",
        "# таким образом обходим dummy-ловушку\n",
        "# задаём handle_unknown='ignore':\n",
        "# игнорируется ранее невстречающиеся значения признака (при transform)\n",
        "#encoder_ohe = OneHotEncoder(drop='first', handle_unknown='ignore', sparse=False)\n",
        "\n",
        "# обучаем энкодер на заданных категориальных признаках тренировочной выборки\n",
        "#encoder_ohe.fit(features_train_ridge[ohe_features_ridge])\n",
        "\n",
        "# добавляем закодированные признаки в features_train_ohe\n",
        "# encoder_ohe.get_feature_names_out() позволяет получить названия колонок\n",
        "#features_train_ridge[\n",
        "    #encoder_ohe.get_feature_names_out()\n",
        "#] = encoder_ohe.transform(features_train_ridge[ohe_features_ridge])\n",
        "\n",
        "# удаляем незакодированные категориальные признаки (изначальные колонки)\n",
        "#features_train_ridge = features_train_ridge.drop(ohe_features_ridge, axis=1)\n",
        "\n",
        "#features_train_ridge.head()"
      ]
    },
    {
      "cell_type": "code",
      "execution_count": null,
      "metadata": {
        "scrolled": true,
        "id": "zgTiYSGW2j7p",
        "outputId": "5a40f3ed-2c5f-47aa-e1ac-2c41565b30f6"
      },
      "outputs": [
        {
          "data": {
            "text/html": [
              "<div>\n",
              "<style scoped>\n",
              "    .dataframe tbody tr th:only-of-type {\n",
              "        vertical-align: middle;\n",
              "    }\n",
              "\n",
              "    .dataframe tbody tr th {\n",
              "        vertical-align: top;\n",
              "    }\n",
              "\n",
              "    .dataframe thead th {\n",
              "        text-align: right;\n",
              "    }\n",
              "</style>\n",
              "<table border=\"1\" class=\"dataframe\">\n",
              "  <thead>\n",
              "    <tr style=\"text-align: right;\">\n",
              "      <th></th>\n",
              "      <th>VehicleType</th>\n",
              "      <th>RegistrationYear</th>\n",
              "      <th>Gearbox</th>\n",
              "      <th>Power</th>\n",
              "      <th>Model</th>\n",
              "      <th>Kilometer</th>\n",
              "      <th>FuelType</th>\n",
              "      <th>Brand</th>\n",
              "      <th>Repaired</th>\n",
              "    </tr>\n",
              "  </thead>\n",
              "  <tbody>\n",
              "    <tr>\n",
              "      <th>141348</th>\n",
              "      <td>6355.741829</td>\n",
              "      <td>1993</td>\n",
              "      <td>4344.442005</td>\n",
              "      <td>140</td>\n",
              "      <td>5428.054387</td>\n",
              "      <td>150000</td>\n",
              "      <td>4928.704136</td>\n",
              "      <td>6718.237413</td>\n",
              "      <td>5550.867867</td>\n",
              "    </tr>\n",
              "    <tr>\n",
              "      <th>203609</th>\n",
              "      <td>5220.216548</td>\n",
              "      <td>2002</td>\n",
              "      <td>4344.442005</td>\n",
              "      <td>131</td>\n",
              "      <td>2967.705317</td>\n",
              "      <td>150000</td>\n",
              "      <td>4928.704136</td>\n",
              "      <td>3614.549669</td>\n",
              "      <td>5550.867867</td>\n",
              "    </tr>\n",
              "    <tr>\n",
              "      <th>91591</th>\n",
              "      <td>2927.090187</td>\n",
              "      <td>2001</td>\n",
              "      <td>4344.442005</td>\n",
              "      <td>75</td>\n",
              "      <td>2176.326230</td>\n",
              "      <td>150000</td>\n",
              "      <td>4928.704136</td>\n",
              "      <td>3136.796801</td>\n",
              "      <td>5550.867867</td>\n",
              "    </tr>\n",
              "    <tr>\n",
              "      <th>159876</th>\n",
              "      <td>5220.216548</td>\n",
              "      <td>2000</td>\n",
              "      <td>4344.442005</td>\n",
              "      <td>101</td>\n",
              "      <td>3748.388110</td>\n",
              "      <td>150000</td>\n",
              "      <td>4928.704136</td>\n",
              "      <td>3614.549669</td>\n",
              "      <td>3204.759966</td>\n",
              "    </tr>\n",
              "    <tr>\n",
              "      <th>209415</th>\n",
              "      <td>6355.741829</td>\n",
              "      <td>2008</td>\n",
              "      <td>4344.442005</td>\n",
              "      <td>200</td>\n",
              "      <td>9792.109272</td>\n",
              "      <td>60000</td>\n",
              "      <td>4928.704136</td>\n",
              "      <td>6844.386329</td>\n",
              "      <td>5550.867867</td>\n",
              "    </tr>\n",
              "  </tbody>\n",
              "</table>\n",
              "</div>"
            ],
            "text/plain": [
              "        VehicleType  RegistrationYear      Gearbox  Power        Model  \\\n",
              "141348  6355.741829              1993  4344.442005    140  5428.054387   \n",
              "203609  5220.216548              2002  4344.442005    131  2967.705317   \n",
              "91591   2927.090187              2001  4344.442005     75  2176.326230   \n",
              "159876  5220.216548              2000  4344.442005    101  3748.388110   \n",
              "209415  6355.741829              2008  4344.442005    200  9792.109272   \n",
              "\n",
              "        Kilometer     FuelType        Brand     Repaired  \n",
              "141348     150000  4928.704136  6718.237413  5550.867867  \n",
              "203609     150000  4928.704136  3614.549669  5550.867867  \n",
              "91591      150000  4928.704136  3136.796801  5550.867867  \n",
              "159876     150000  4928.704136  3614.549669  3204.759966  \n",
              "209415      60000  4928.704136  6844.386329  5550.867867  "
            ]
          },
          "execution_count": 66,
          "metadata": {},
          "output_type": "execute_result"
        }
      ],
      "source": [
        "#загружаем TargetEncoder\n",
        "encoder_target = ce.TargetEncoder()\n",
        "\n",
        "#настраиваем его на обучающей выборке\n",
        "encoder_target.fit(features_train_ridge[ohe_features_ridge], target_train)\n",
        "\n",
        "#трансформируем категориальные переменные\n",
        "features_train_ridge[encoder_target.get_feature_names_out()] = \\\n",
        "encoder_target.transform(features_train_ridge[ohe_features_ridge])\n",
        "\n",
        "features_train_ridge.head()"
      ]
    },
    {
      "cell_type": "markdown",
      "metadata": {
        "id": "zJFC_Yxm2j7q"
      },
      "source": [
        "Применим теперь настроенные OHE encoder  к валидационной и тестовой выборке"
      ]
    },
    {
      "cell_type": "code",
      "execution_count": null,
      "metadata": {
        "id": "32C0nYwl2j7q"
      },
      "outputs": [],
      "source": [
        "# добавляем закодированные признаки в features_valid and features test\n",
        "# encoder_ohe.get_feature_names_out() позволяет получить названия колонок\n",
        "#features_valid_ridge[\n",
        "    #encoder_ohe.get_feature_names_out()\n",
        "#] = encoder_ohe.transform(features_valid_ridge[ohe_features_ridge])\n",
        "\n",
        "#features_test_ridge[\n",
        "    #encoder_ohe.get_feature_names_out()\n",
        "#] = encoder_ohe.transform(features_test_ridge[ohe_features_ridge])\n",
        "\n",
        "# удаляем незакодированные категориальные признаки (изначальные колонки)\n",
        "#features_valid_ridge = features_valid_ridge.drop(ohe_features_ridge, axis=1)\n",
        "#print(features_valid_ridge.columns)\n",
        "#features_test_ridge = features_test_ridge.drop(ohe_features_ridge, axis=1)\n",
        "#print(features_test_ridge.columns)"
      ]
    },
    {
      "cell_type": "code",
      "execution_count": null,
      "metadata": {
        "id": "69Qee8aB2j7q"
      },
      "outputs": [],
      "source": [
        "features_valid_ridge[\n",
        "    encoder_target.get_feature_names_out()\n",
        "] = encoder_target.transform(features_valid_ridge[ohe_features_ridge])\n",
        "\n",
        "\n",
        "features_test_ridge[\n",
        "    encoder_target.get_feature_names_out()\n",
        "] = encoder_target.transform(features_test_ridge[ohe_features_ridge])"
      ]
    },
    {
      "cell_type": "code",
      "execution_count": null,
      "metadata": {
        "id": "BYgsWEmB2j7v",
        "outputId": "a7aafe6a-ed3f-4387-b750-f43b2ad197d2"
      },
      "outputs": [
        {
          "name": "stdout",
          "output_type": "stream",
          "text": [
            "(167712, 9)\n",
            "(55904, 9)\n",
            "(55904, 9)\n"
          ]
        }
      ],
      "source": [
        "print(features_train_ridge.shape)\n",
        "print(features_valid_ridge.shape)\n",
        "print(features_test_ridge.shape)"
      ]
    },
    {
      "cell_type": "markdown",
      "metadata": {
        "id": "PUC5rC_52j7v"
      },
      "source": [
        "После кодирования столбцов с категориальными признаками методом TargetEncoder количество столбцов одинаковое."
      ]
    },
    {
      "cell_type": "markdown",
      "metadata": {
        "id": "OMEXLqIA2j7v"
      },
      "source": [
        "Теперь необходимо провести масштабирование численных признаков"
      ]
    },
    {
      "cell_type": "code",
      "execution_count": null,
      "metadata": {
        "id": "hFsBOe0O2j7v",
        "outputId": "a0e5f335-7893-4d4c-ff9c-662653b4db0a"
      },
      "outputs": [
        {
          "data": {
            "text/plain": [
              "['RegistrationYear', 'Power', 'Kilometer']"
            ]
          },
          "execution_count": 69,
          "metadata": {},
          "output_type": "execute_result"
        }
      ],
      "source": [
        "#численные признаки\n",
        "num_features = features_train.select_dtypes(exclude='object').columns.to_list()\n",
        "\n",
        "num_features"
      ]
    },
    {
      "cell_type": "code",
      "execution_count": null,
      "metadata": {
        "id": "DzytE_no2j7v",
        "outputId": "6c9f10a4-0f70-4525-e06f-8e9d8001327e"
      },
      "outputs": [
        {
          "data": {
            "text/html": [
              "<div>\n",
              "<style scoped>\n",
              "    .dataframe tbody tr th:only-of-type {\n",
              "        vertical-align: middle;\n",
              "    }\n",
              "\n",
              "    .dataframe tbody tr th {\n",
              "        vertical-align: top;\n",
              "    }\n",
              "\n",
              "    .dataframe thead th {\n",
              "        text-align: right;\n",
              "    }\n",
              "</style>\n",
              "<table border=\"1\" class=\"dataframe\">\n",
              "  <thead>\n",
              "    <tr style=\"text-align: right;\">\n",
              "      <th></th>\n",
              "      <th>VehicleType</th>\n",
              "      <th>RegistrationYear</th>\n",
              "      <th>Gearbox</th>\n",
              "      <th>Power</th>\n",
              "      <th>Model</th>\n",
              "      <th>Kilometer</th>\n",
              "      <th>FuelType</th>\n",
              "      <th>Brand</th>\n",
              "      <th>Repaired</th>\n",
              "    </tr>\n",
              "  </thead>\n",
              "  <tbody>\n",
              "    <tr>\n",
              "      <th>141348</th>\n",
              "      <td>6355.741829</td>\n",
              "      <td>-1.657445</td>\n",
              "      <td>4344.442005</td>\n",
              "      <td>0.383479</td>\n",
              "      <td>5428.054387</td>\n",
              "      <td>0.594052</td>\n",
              "      <td>4928.704136</td>\n",
              "      <td>6718.237413</td>\n",
              "      <td>5550.867867</td>\n",
              "    </tr>\n",
              "    <tr>\n",
              "      <th>203609</th>\n",
              "      <td>5220.216548</td>\n",
              "      <td>-0.146502</td>\n",
              "      <td>4344.442005</td>\n",
              "      <td>0.208241</td>\n",
              "      <td>2967.705317</td>\n",
              "      <td>0.594052</td>\n",
              "      <td>4928.704136</td>\n",
              "      <td>3614.549669</td>\n",
              "      <td>5550.867867</td>\n",
              "    </tr>\n",
              "    <tr>\n",
              "      <th>91591</th>\n",
              "      <td>2927.090187</td>\n",
              "      <td>-0.314384</td>\n",
              "      <td>4344.442005</td>\n",
              "      <td>-0.882131</td>\n",
              "      <td>2176.326230</td>\n",
              "      <td>0.594052</td>\n",
              "      <td>4928.704136</td>\n",
              "      <td>3136.796801</td>\n",
              "      <td>5550.867867</td>\n",
              "    </tr>\n",
              "    <tr>\n",
              "      <th>159876</th>\n",
              "      <td>5220.216548</td>\n",
              "      <td>-0.482267</td>\n",
              "      <td>4344.442005</td>\n",
              "      <td>-0.375887</td>\n",
              "      <td>3748.388110</td>\n",
              "      <td>0.594052</td>\n",
              "      <td>4928.704136</td>\n",
              "      <td>3614.549669</td>\n",
              "      <td>3204.759966</td>\n",
              "    </tr>\n",
              "    <tr>\n",
              "      <th>209415</th>\n",
              "      <td>6355.741829</td>\n",
              "      <td>0.860793</td>\n",
              "      <td>4344.442005</td>\n",
              "      <td>1.551734</td>\n",
              "      <td>9792.109272</td>\n",
              "      <td>-1.866715</td>\n",
              "      <td>4928.704136</td>\n",
              "      <td>6844.386329</td>\n",
              "      <td>5550.867867</td>\n",
              "    </tr>\n",
              "  </tbody>\n",
              "</table>\n",
              "</div>"
            ],
            "text/plain": [
              "        VehicleType  RegistrationYear      Gearbox     Power        Model  \\\n",
              "141348  6355.741829         -1.657445  4344.442005  0.383479  5428.054387   \n",
              "203609  5220.216548         -0.146502  4344.442005  0.208241  2967.705317   \n",
              "91591   2927.090187         -0.314384  4344.442005 -0.882131  2176.326230   \n",
              "159876  5220.216548         -0.482267  4344.442005 -0.375887  3748.388110   \n",
              "209415  6355.741829          0.860793  4344.442005  1.551734  9792.109272   \n",
              "\n",
              "        Kilometer     FuelType        Brand     Repaired  \n",
              "141348   0.594052  4928.704136  6718.237413  5550.867867  \n",
              "203609   0.594052  4928.704136  3614.549669  5550.867867  \n",
              "91591    0.594052  4928.704136  3136.796801  5550.867867  \n",
              "159876   0.594052  4928.704136  3614.549669  3204.759966  \n",
              "209415  -1.866715  4928.704136  6844.386329  5550.867867  "
            ]
          },
          "execution_count": 70,
          "metadata": {},
          "output_type": "execute_result"
        }
      ],
      "source": [
        "# создаём скелер\n",
        "scaler = StandardScaler()\n",
        "\n",
        "# обучаем его на численных признаках тренировочной выборки, трансформируем её же\n",
        "features_train_ridge[num_features] = scaler.fit_transform(features_train_ridge[num_features])\n",
        "\n",
        "# смотрим на результат\n",
        "features_train_ridge.head()"
      ]
    },
    {
      "cell_type": "code",
      "execution_count": null,
      "metadata": {
        "id": "hBS5BerL2j7v"
      },
      "outputs": [],
      "source": [
        "#масштабируем скелером валидационую и тестовую выборки\n",
        "features_valid_ridge[num_features] = scaler.transform(features_valid_ridge[num_features])\n",
        "features_test_ridge[num_features] = scaler.transform(features_test_ridge[num_features])"
      ]
    },
    {
      "cell_type": "markdown",
      "metadata": {
        "id": "hDqspWZf2j7v"
      },
      "source": [
        "ОНЕ кодировка и масштабирование признаков выполнено - можем обчуть линейную регрессию"
      ]
    },
    {
      "cell_type": "code",
      "execution_count": null,
      "metadata": {
        "id": "uYh5bUKZ2j7v",
        "outputId": "c574c8d3-081c-485e-c389-8b0225c40aaf"
      },
      "outputs": [
        {
          "name": "stdout",
          "output_type": "stream",
          "text": [
            "CPU times: user 641 ms, sys: 1.07 s, total: 1.71 s\n",
            "Wall time: 1.66 s\n"
          ]
        },
        {
          "data": {
            "text/html": [
              "<style>#sk-container-id-1 {color: black;background-color: white;}#sk-container-id-1 pre{padding: 0;}#sk-container-id-1 div.sk-toggleable {background-color: white;}#sk-container-id-1 label.sk-toggleable__label {cursor: pointer;display: block;width: 100%;margin-bottom: 0;padding: 0.3em;box-sizing: border-box;text-align: center;}#sk-container-id-1 label.sk-toggleable__label-arrow:before {content: \"▸\";float: left;margin-right: 0.25em;color: #696969;}#sk-container-id-1 label.sk-toggleable__label-arrow:hover:before {color: black;}#sk-container-id-1 div.sk-estimator:hover label.sk-toggleable__label-arrow:before {color: black;}#sk-container-id-1 div.sk-toggleable__content {max-height: 0;max-width: 0;overflow: hidden;text-align: left;background-color: #f0f8ff;}#sk-container-id-1 div.sk-toggleable__content pre {margin: 0.2em;color: black;border-radius: 0.25em;background-color: #f0f8ff;}#sk-container-id-1 input.sk-toggleable__control:checked~div.sk-toggleable__content {max-height: 200px;max-width: 100%;overflow: auto;}#sk-container-id-1 input.sk-toggleable__control:checked~label.sk-toggleable__label-arrow:before {content: \"▾\";}#sk-container-id-1 div.sk-estimator input.sk-toggleable__control:checked~label.sk-toggleable__label {background-color: #d4ebff;}#sk-container-id-1 div.sk-label input.sk-toggleable__control:checked~label.sk-toggleable__label {background-color: #d4ebff;}#sk-container-id-1 input.sk-hidden--visually {border: 0;clip: rect(1px 1px 1px 1px);clip: rect(1px, 1px, 1px, 1px);height: 1px;margin: -1px;overflow: hidden;padding: 0;position: absolute;width: 1px;}#sk-container-id-1 div.sk-estimator {font-family: monospace;background-color: #f0f8ff;border: 1px dotted black;border-radius: 0.25em;box-sizing: border-box;margin-bottom: 0.5em;}#sk-container-id-1 div.sk-estimator:hover {background-color: #d4ebff;}#sk-container-id-1 div.sk-parallel-item::after {content: \"\";width: 100%;border-bottom: 1px solid gray;flex-grow: 1;}#sk-container-id-1 div.sk-label:hover label.sk-toggleable__label {background-color: #d4ebff;}#sk-container-id-1 div.sk-serial::before {content: \"\";position: absolute;border-left: 1px solid gray;box-sizing: border-box;top: 0;bottom: 0;left: 50%;z-index: 0;}#sk-container-id-1 div.sk-serial {display: flex;flex-direction: column;align-items: center;background-color: white;padding-right: 0.2em;padding-left: 0.2em;position: relative;}#sk-container-id-1 div.sk-item {position: relative;z-index: 1;}#sk-container-id-1 div.sk-parallel {display: flex;align-items: stretch;justify-content: center;background-color: white;position: relative;}#sk-container-id-1 div.sk-item::before, #sk-container-id-1 div.sk-parallel-item::before {content: \"\";position: absolute;border-left: 1px solid gray;box-sizing: border-box;top: 0;bottom: 0;left: 50%;z-index: -1;}#sk-container-id-1 div.sk-parallel-item {display: flex;flex-direction: column;z-index: 1;position: relative;background-color: white;}#sk-container-id-1 div.sk-parallel-item:first-child::after {align-self: flex-end;width: 50%;}#sk-container-id-1 div.sk-parallel-item:last-child::after {align-self: flex-start;width: 50%;}#sk-container-id-1 div.sk-parallel-item:only-child::after {width: 0;}#sk-container-id-1 div.sk-dashed-wrapped {border: 1px dashed gray;margin: 0 0.4em 0.5em 0.4em;box-sizing: border-box;padding-bottom: 0.4em;background-color: white;}#sk-container-id-1 div.sk-label label {font-family: monospace;font-weight: bold;display: inline-block;line-height: 1.2em;}#sk-container-id-1 div.sk-label-container {text-align: center;}#sk-container-id-1 div.sk-container {/* jupyter's `normalize.less` sets `[hidden] { display: none; }` but bootstrap.min.css set `[hidden] { display: none !important; }` so we also need the `!important` here to be able to override the default hidden behavior on the sphinx rendered scikit-learn.org. See: https://github.com/scikit-learn/scikit-learn/issues/21755 */display: inline-block !important;position: relative;}#sk-container-id-1 div.sk-text-repr-fallback {display: none;}</style><div id=\"sk-container-id-1\" class=\"sk-top-container\"><div class=\"sk-text-repr-fallback\"><pre>GridSearchCV(cv=3, estimator=Ridge(), n_jobs=-1,\n",
              "             param_grid={&#x27;alpha&#x27;: [0, 0.1, 0.5, 0.75, 1.5]},\n",
              "             scoring=&#x27;neg_mean_squared_error&#x27;)</pre><b>In a Jupyter environment, please rerun this cell to show the HTML representation or trust the notebook. <br />On GitHub, the HTML representation is unable to render, please try loading this page with nbviewer.org.</b></div><div class=\"sk-container\" hidden><div class=\"sk-item sk-dashed-wrapped\"><div class=\"sk-label-container\"><div class=\"sk-label sk-toggleable\"><input class=\"sk-toggleable__control sk-hidden--visually\" id=\"sk-estimator-id-1\" type=\"checkbox\" ><label for=\"sk-estimator-id-1\" class=\"sk-toggleable__label sk-toggleable__label-arrow\">GridSearchCV</label><div class=\"sk-toggleable__content\"><pre>GridSearchCV(cv=3, estimator=Ridge(), n_jobs=-1,\n",
              "             param_grid={&#x27;alpha&#x27;: [0, 0.1, 0.5, 0.75, 1.5]},\n",
              "             scoring=&#x27;neg_mean_squared_error&#x27;)</pre></div></div></div><div class=\"sk-parallel\"><div class=\"sk-parallel-item\"><div class=\"sk-item\"><div class=\"sk-label-container\"><div class=\"sk-label sk-toggleable\"><input class=\"sk-toggleable__control sk-hidden--visually\" id=\"sk-estimator-id-2\" type=\"checkbox\" ><label for=\"sk-estimator-id-2\" class=\"sk-toggleable__label sk-toggleable__label-arrow\">estimator: Ridge</label><div class=\"sk-toggleable__content\"><pre>Ridge()</pre></div></div></div><div class=\"sk-serial\"><div class=\"sk-item\"><div class=\"sk-estimator sk-toggleable\"><input class=\"sk-toggleable__control sk-hidden--visually\" id=\"sk-estimator-id-3\" type=\"checkbox\" ><label for=\"sk-estimator-id-3\" class=\"sk-toggleable__label sk-toggleable__label-arrow\">Ridge</label><div class=\"sk-toggleable__content\"><pre>Ridge()</pre></div></div></div></div></div></div></div></div></div></div>"
            ],
            "text/plain": [
              "GridSearchCV(cv=3, estimator=Ridge(), n_jobs=-1,\n",
              "             param_grid={'alpha': [0, 0.1, 0.5, 0.75, 1.5]},\n",
              "             scoring='neg_mean_squared_error')"
            ]
          },
          "execution_count": 72,
          "metadata": {},
          "output_type": "execute_result"
        }
      ],
      "source": [
        "%%time\n",
        "\n",
        "model_ridge = Ridge()\n",
        "\n",
        "parameters = {\n",
        "    'alpha' : [0, 0.1, 0.5, 0.75, 1.5]\n",
        "}\n",
        "\n",
        "grid = GridSearchCV(\n",
        "    estimator=model_ridge,\n",
        "    param_grid = parameters,\n",
        "    cv=3,\n",
        "    n_jobs=-1,\n",
        "    scoring='neg_mean_squared_error') #настраиваем скориннг на mse\n",
        "\n",
        "grid.fit(features_train_ridge, target_train)"
      ]
    },
    {
      "cell_type": "code",
      "execution_count": null,
      "metadata": {
        "id": "ed9zOABG2j7v",
        "outputId": "99da0144-15d3-44da-c88d-6df7099298c9"
      },
      "outputs": [
        {
          "name": "stdout",
          "output_type": "stream",
          "text": [
            "Best_model: Ridge(alpha=1.5)\n",
            "Best_parametrs: {'alpha': 1.5}\n",
            "Best RMSE: 2666.185379251332\n"
          ]
        }
      ],
      "source": [
        "print(f'Best_model: {grid.best_estimator_}')\n",
        "print(f'Best_parametrs: {grid.best_params_}')\n",
        "print(f'Best RMSE: {(-grid.best_score_)**(0.5)}')"
      ]
    },
    {
      "cell_type": "markdown",
      "metadata": {
        "id": "_WseaZRA2j7v"
      },
      "source": [
        "Лучшие параметры Ridge модели:"
      ]
    },
    {
      "cell_type": "markdown",
      "metadata": {
        "id": "6YwAi9hJ2j7v"
      },
      "source": [
        "Обучим лучшую модель и посмотрим на время обучения:"
      ]
    },
    {
      "cell_type": "code",
      "execution_count": null,
      "metadata": {
        "id": "ZfsEMB8-2j7v",
        "outputId": "c0ace962-32c1-4ee3-eb45-b33e516428f0"
      },
      "outputs": [
        {
          "name": "stdout",
          "output_type": "stream",
          "text": [
            "CPU times: user 12.7 ms, sys: 3.37 ms, total: 16.1 ms\n",
            "Wall time: 13.2 ms\n"
          ]
        },
        {
          "data": {
            "text/html": [
              "<style>#sk-container-id-3 {color: black;background-color: white;}#sk-container-id-3 pre{padding: 0;}#sk-container-id-3 div.sk-toggleable {background-color: white;}#sk-container-id-3 label.sk-toggleable__label {cursor: pointer;display: block;width: 100%;margin-bottom: 0;padding: 0.3em;box-sizing: border-box;text-align: center;}#sk-container-id-3 label.sk-toggleable__label-arrow:before {content: \"▸\";float: left;margin-right: 0.25em;color: #696969;}#sk-container-id-3 label.sk-toggleable__label-arrow:hover:before {color: black;}#sk-container-id-3 div.sk-estimator:hover label.sk-toggleable__label-arrow:before {color: black;}#sk-container-id-3 div.sk-toggleable__content {max-height: 0;max-width: 0;overflow: hidden;text-align: left;background-color: #f0f8ff;}#sk-container-id-3 div.sk-toggleable__content pre {margin: 0.2em;color: black;border-radius: 0.25em;background-color: #f0f8ff;}#sk-container-id-3 input.sk-toggleable__control:checked~div.sk-toggleable__content {max-height: 200px;max-width: 100%;overflow: auto;}#sk-container-id-3 input.sk-toggleable__control:checked~label.sk-toggleable__label-arrow:before {content: \"▾\";}#sk-container-id-3 div.sk-estimator input.sk-toggleable__control:checked~label.sk-toggleable__label {background-color: #d4ebff;}#sk-container-id-3 div.sk-label input.sk-toggleable__control:checked~label.sk-toggleable__label {background-color: #d4ebff;}#sk-container-id-3 input.sk-hidden--visually {border: 0;clip: rect(1px 1px 1px 1px);clip: rect(1px, 1px, 1px, 1px);height: 1px;margin: -1px;overflow: hidden;padding: 0;position: absolute;width: 1px;}#sk-container-id-3 div.sk-estimator {font-family: monospace;background-color: #f0f8ff;border: 1px dotted black;border-radius: 0.25em;box-sizing: border-box;margin-bottom: 0.5em;}#sk-container-id-3 div.sk-estimator:hover {background-color: #d4ebff;}#sk-container-id-3 div.sk-parallel-item::after {content: \"\";width: 100%;border-bottom: 1px solid gray;flex-grow: 1;}#sk-container-id-3 div.sk-label:hover label.sk-toggleable__label {background-color: #d4ebff;}#sk-container-id-3 div.sk-serial::before {content: \"\";position: absolute;border-left: 1px solid gray;box-sizing: border-box;top: 0;bottom: 0;left: 50%;z-index: 0;}#sk-container-id-3 div.sk-serial {display: flex;flex-direction: column;align-items: center;background-color: white;padding-right: 0.2em;padding-left: 0.2em;position: relative;}#sk-container-id-3 div.sk-item {position: relative;z-index: 1;}#sk-container-id-3 div.sk-parallel {display: flex;align-items: stretch;justify-content: center;background-color: white;position: relative;}#sk-container-id-3 div.sk-item::before, #sk-container-id-3 div.sk-parallel-item::before {content: \"\";position: absolute;border-left: 1px solid gray;box-sizing: border-box;top: 0;bottom: 0;left: 50%;z-index: -1;}#sk-container-id-3 div.sk-parallel-item {display: flex;flex-direction: column;z-index: 1;position: relative;background-color: white;}#sk-container-id-3 div.sk-parallel-item:first-child::after {align-self: flex-end;width: 50%;}#sk-container-id-3 div.sk-parallel-item:last-child::after {align-self: flex-start;width: 50%;}#sk-container-id-3 div.sk-parallel-item:only-child::after {width: 0;}#sk-container-id-3 div.sk-dashed-wrapped {border: 1px dashed gray;margin: 0 0.4em 0.5em 0.4em;box-sizing: border-box;padding-bottom: 0.4em;background-color: white;}#sk-container-id-3 div.sk-label label {font-family: monospace;font-weight: bold;display: inline-block;line-height: 1.2em;}#sk-container-id-3 div.sk-label-container {text-align: center;}#sk-container-id-3 div.sk-container {/* jupyter's `normalize.less` sets `[hidden] { display: none; }` but bootstrap.min.css set `[hidden] { display: none !important; }` so we also need the `!important` here to be able to override the default hidden behavior on the sphinx rendered scikit-learn.org. See: https://github.com/scikit-learn/scikit-learn/issues/21755 */display: inline-block !important;position: relative;}#sk-container-id-3 div.sk-text-repr-fallback {display: none;}</style><div id=\"sk-container-id-3\" class=\"sk-top-container\"><div class=\"sk-text-repr-fallback\"><pre>Ridge(alpha=1.5)</pre><b>In a Jupyter environment, please rerun this cell to show the HTML representation or trust the notebook. <br />On GitHub, the HTML representation is unable to render, please try loading this page with nbviewer.org.</b></div><div class=\"sk-container\" hidden><div class=\"sk-item\"><div class=\"sk-estimator sk-toggleable\"><input class=\"sk-toggleable__control sk-hidden--visually\" id=\"sk-estimator-id-5\" type=\"checkbox\" checked><label for=\"sk-estimator-id-5\" class=\"sk-toggleable__label sk-toggleable__label-arrow\">Ridge</label><div class=\"sk-toggleable__content\"><pre>Ridge(alpha=1.5)</pre></div></div></div></div></div>"
            ],
            "text/plain": [
              "Ridge(alpha=1.5)"
            ]
          },
          "execution_count": 75,
          "metadata": {},
          "output_type": "execute_result"
        }
      ],
      "source": [
        "%%time\n",
        "\n",
        "model_ridge_best = Ridge(alpha=1.5)\n",
        "\n",
        "model_ridge_best.fit(features_train_ridge, target_train)"
      ]
    },
    {
      "cell_type": "code",
      "execution_count": null,
      "metadata": {
        "id": "jjxMB-kx2j7v",
        "outputId": "b843be6c-55c5-4d7e-dc1c-6622d226da99"
      },
      "outputs": [
        {
          "name": "stdout",
          "output_type": "stream",
          "text": [
            "CPU times: user 10.4 ms, sys: 2.05 ms, total: 12.4 ms\n",
            "Wall time: 5.63 ms\n"
          ]
        }
      ],
      "source": [
        "%%time\n",
        "\n",
        "predicted_valid = model_ridge_best.predict(features_valid_ridge)"
      ]
    },
    {
      "cell_type": "code",
      "execution_count": null,
      "metadata": {
        "id": "DpWgcd6b2j7w",
        "outputId": "ab7bb0a3-f554-4a1a-e5da-63db553ad606"
      },
      "outputs": [
        {
          "name": "stdout",
          "output_type": "stream",
          "text": [
            "RMSE Ridge = 2656.20\n"
          ]
        }
      ],
      "source": [
        "rmse_ridge_best = mean_squared_error(target_valid, model_ridge_best.predict(features_valid_ridge), squared=False)\n",
        "print(f'RMSE Ridge = {rmse_ridge_best:.2f}')"
      ]
    },
    {
      "cell_type": "markdown",
      "metadata": {
        "id": "hOY80Tfj2j7w"
      },
      "source": [
        "Запишем результаты"
      ]
    },
    {
      "cell_type": "code",
      "execution_count": null,
      "metadata": {
        "id": "Fc97lh_n2j7w"
      },
      "outputs": [],
      "source": [
        "model_list = []"
      ]
    },
    {
      "cell_type": "code",
      "execution_count": null,
      "metadata": {
        "id": "FhdT_Utp2j7w"
      },
      "outputs": [],
      "source": [
        "model_list.append(('Best Ridge', rmse_ridge_best, 5.86, 0.3))"
      ]
    },
    {
      "cell_type": "markdown",
      "metadata": {
        "id": "PfoC_86y2j7w"
      },
      "source": [
        "### CatBoost"
      ]
    },
    {
      "cell_type": "markdown",
      "metadata": {
        "id": "BcjUhoP92j7w"
      },
      "source": [
        "Используем модель градиентного бустинга"
      ]
    },
    {
      "cell_type": "markdown",
      "metadata": {
        "id": "ka4nSMQU2j7w"
      },
      "source": [
        "Заказчику важно:\n",
        "- качество предсказания;\n",
        "- время обучения модели;\n",
        "- время предсказания модели."
      ]
    },
    {
      "cell_type": "code",
      "execution_count": null,
      "metadata": {
        "id": "YGYy0oa72j7w",
        "outputId": "a7159feb-1351-4f61-97d1-13e73b072d1f"
      },
      "outputs": [
        {
          "data": {
            "text/html": [
              "<div>\n",
              "<style scoped>\n",
              "    .dataframe tbody tr th:only-of-type {\n",
              "        vertical-align: middle;\n",
              "    }\n",
              "\n",
              "    .dataframe tbody tr th {\n",
              "        vertical-align: top;\n",
              "    }\n",
              "\n",
              "    .dataframe thead th {\n",
              "        text-align: right;\n",
              "    }\n",
              "</style>\n",
              "<table border=\"1\" class=\"dataframe\">\n",
              "  <thead>\n",
              "    <tr style=\"text-align: right;\">\n",
              "      <th></th>\n",
              "      <th>Price</th>\n",
              "      <th>VehicleType</th>\n",
              "      <th>RegistrationYear</th>\n",
              "      <th>Gearbox</th>\n",
              "      <th>Power</th>\n",
              "      <th>Model</th>\n",
              "      <th>Kilometer</th>\n",
              "      <th>FuelType</th>\n",
              "      <th>Brand</th>\n",
              "      <th>Repaired</th>\n",
              "    </tr>\n",
              "  </thead>\n",
              "  <tbody>\n",
              "    <tr>\n",
              "      <th>2</th>\n",
              "      <td>9800</td>\n",
              "      <td>suv</td>\n",
              "      <td>2004</td>\n",
              "      <td>auto</td>\n",
              "      <td>163</td>\n",
              "      <td>grand</td>\n",
              "      <td>125000</td>\n",
              "      <td>petrol</td>\n",
              "      <td>jeep</td>\n",
              "      <td>unknown</td>\n",
              "    </tr>\n",
              "    <tr>\n",
              "      <th>3</th>\n",
              "      <td>1500</td>\n",
              "      <td>small</td>\n",
              "      <td>2001</td>\n",
              "      <td>manual</td>\n",
              "      <td>75</td>\n",
              "      <td>golf</td>\n",
              "      <td>150000</td>\n",
              "      <td>petrol</td>\n",
              "      <td>volkswagen</td>\n",
              "      <td>no</td>\n",
              "    </tr>\n",
              "    <tr>\n",
              "      <th>4</th>\n",
              "      <td>3600</td>\n",
              "      <td>small</td>\n",
              "      <td>2008</td>\n",
              "      <td>manual</td>\n",
              "      <td>69</td>\n",
              "      <td>fabia</td>\n",
              "      <td>90000</td>\n",
              "      <td>petrol</td>\n",
              "      <td>skoda</td>\n",
              "      <td>no</td>\n",
              "    </tr>\n",
              "    <tr>\n",
              "      <th>5</th>\n",
              "      <td>650</td>\n",
              "      <td>sedan</td>\n",
              "      <td>1995</td>\n",
              "      <td>manual</td>\n",
              "      <td>102</td>\n",
              "      <td>3er</td>\n",
              "      <td>150000</td>\n",
              "      <td>petrol</td>\n",
              "      <td>bmw</td>\n",
              "      <td>yes</td>\n",
              "    </tr>\n",
              "    <tr>\n",
              "      <th>6</th>\n",
              "      <td>2200</td>\n",
              "      <td>convertible</td>\n",
              "      <td>2004</td>\n",
              "      <td>manual</td>\n",
              "      <td>109</td>\n",
              "      <td>2_reihe</td>\n",
              "      <td>150000</td>\n",
              "      <td>petrol</td>\n",
              "      <td>peugeot</td>\n",
              "      <td>no</td>\n",
              "    </tr>\n",
              "  </tbody>\n",
              "</table>\n",
              "</div>"
            ],
            "text/plain": [
              "   Price  VehicleType  RegistrationYear Gearbox  Power    Model  Kilometer  \\\n",
              "2   9800          suv              2004    auto    163    grand     125000   \n",
              "3   1500        small              2001  manual     75     golf     150000   \n",
              "4   3600        small              2008  manual     69    fabia      90000   \n",
              "5    650        sedan              1995  manual    102      3er     150000   \n",
              "6   2200  convertible              2004  manual    109  2_reihe     150000   \n",
              "\n",
              "  FuelType       Brand Repaired  \n",
              "2   petrol        jeep  unknown  \n",
              "3   petrol  volkswagen       no  \n",
              "4   petrol       skoda       no  \n",
              "5   petrol         bmw      yes  \n",
              "6   petrol     peugeot       no  "
            ]
          },
          "execution_count": 80,
          "metadata": {},
          "output_type": "execute_result"
        }
      ],
      "source": [
        "data.head()"
      ]
    },
    {
      "cell_type": "code",
      "execution_count": null,
      "metadata": {
        "id": "vuMr-z022j7w"
      },
      "outputs": [],
      "source": [
        "cat_features = ['VehicleType',\n",
        "                'Gearbox',\n",
        "                'Model',\n",
        "                'RegistrationYear',\n",
        "                'FuelType', 'Brand', 'Repaired']"
      ]
    },
    {
      "cell_type": "code",
      "execution_count": null,
      "metadata": {
        "scrolled": true,
        "id": "mlHxd_vA2j7w"
      },
      "outputs": [],
      "source": [
        "#model_cat = CatBoostRegressor(iterations = 200,\n",
        "                              #verbose = 200,\n",
        "                              #loss_function='RMSE',\n",
        "                             #learning_rate=0.5,\n",
        "                             #random_seed=42)\n",
        "\n",
        "#model_cat.fit(features_train,\n",
        "              #target_train,\n",
        "              #cat_features=cat_features,\n",
        "              #verbose=False,\n",
        "              #eval_set=(features_valid, target_valid),\n",
        "              #plot=True)"
      ]
    },
    {
      "cell_type": "code",
      "execution_count": null,
      "metadata": {
        "scrolled": true,
        "id": "vIFSd1WU2j7w"
      },
      "outputs": [],
      "source": [
        "#print(f'best_iter = {model_cat.get_best_iteration()}')\n",
        "#print(f'best_score = {model_cat.get_best_score()}')"
      ]
    },
    {
      "cell_type": "code",
      "execution_count": null,
      "metadata": {
        "scrolled": true,
        "id": "nusmci082j7w"
      },
      "outputs": [],
      "source": [
        "#аргумент squared=False позволяет вычислить сразу RMSE\n",
        "#mse_cat = mean_squared_error(target_valid, model_cat.predict(features_valid), squared=False)\n",
        "#print(f'RMSE Cat Boost = {rmse_cat:.2f}')"
      ]
    },
    {
      "cell_type": "code",
      "execution_count": null,
      "metadata": {
        "scrolled": true,
        "id": "WYsANJ4i2j7w"
      },
      "outputs": [],
      "source": [
        "#print(model_cat.get_all_params())"
      ]
    },
    {
      "cell_type": "markdown",
      "metadata": {
        "id": "FgRI6FUJ2j7w"
      },
      "source": [
        "По умолчанию макс глубина дерева 6"
      ]
    },
    {
      "cell_type": "markdown",
      "metadata": {
        "id": "aJ65CytJ2j7w"
      },
      "source": [
        "Подбор параметров через GridSearchCV"
      ]
    },
    {
      "cell_type": "code",
      "execution_count": null,
      "metadata": {
        "scrolled": true,
        "id": "d5MARtrQ2j7w",
        "outputId": "2b8ecab6-7aa2-4dac-861e-24075f6f8dc8"
      },
      "outputs": [
        {
          "name": "stdout",
          "output_type": "stream",
          "text": [
            "0:\tlearn: 4371.8833089\ttotal: 86.3ms\tremaining: 17.2s\n",
            "199:\tlearn: 1903.9432409\ttotal: 4.35s\tremaining: 0us\n",
            "0:\tlearn: 4352.5883417\ttotal: 30.7ms\tremaining: 6.12s\n",
            "199:\tlearn: 1882.1663506\ttotal: 4.19s\tremaining: 0us\n",
            "0:\tlearn: 3547.1041149\ttotal: 29.7ms\tremaining: 5.91s\n",
            "199:\tlearn: 1780.8637710\ttotal: 4.66s\tremaining: 0us\n",
            "0:\tlearn: 3524.5464376\ttotal: 46.6ms\tremaining: 9.27s\n",
            "199:\tlearn: 1743.8661944\ttotal: 4.8s\tremaining: 0us\n",
            "0:\tlearn: 3224.0692395\ttotal: 56.5ms\tremaining: 11.2s\n",
            "199:\tlearn: 1770.5825278\ttotal: 4.65s\tremaining: 0us\n",
            "0:\tlearn: 3199.6735070\ttotal: 30.9ms\tremaining: 6.15s\n",
            "199:\tlearn: 1726.5168244\ttotal: 4.75s\tremaining: 0us\n",
            "0:\tlearn: 4318.0203613\ttotal: 66.2ms\tremaining: 13.2s\n",
            "199:\tlearn: 1739.4104061\ttotal: 10s\tremaining: 0us\n",
            "0:\tlearn: 4307.2337637\ttotal: 66.6ms\tremaining: 13.3s\n",
            "199:\tlearn: 1706.4974398\ttotal: 10.1s\tremaining: 0us\n",
            "0:\tlearn: 3275.9979960\ttotal: 87.2ms\tremaining: 17.3s\n",
            "199:\tlearn: 1623.4967805\ttotal: 9.64s\tremaining: 0us\n",
            "0:\tlearn: 3297.1518321\ttotal: 79.5ms\tremaining: 15.8s\n",
            "199:\tlearn: 1591.8115252\ttotal: 9.8s\tremaining: 0us\n",
            "0:\tlearn: 2842.5026523\ttotal: 68.9ms\tremaining: 13.7s\n",
            "199:\tlearn: 1608.7237979\ttotal: 10.1s\tremaining: 0us\n",
            "0:\tlearn: 2880.6063117\ttotal: 75.9ms\tremaining: 15.1s\n",
            "199:\tlearn: 1586.6463779\ttotal: 10s\tremaining: 0us\n",
            "0:\tlearn: 4298.2608968\ttotal: 108ms\tremaining: 21.5s\n",
            "199:\tlearn: 1650.8083972\ttotal: 17.3s\tremaining: 0us\n",
            "0:\tlearn: 4284.4263537\ttotal: 155ms\tremaining: 30.9s\n",
            "199:\tlearn: 1616.6637412\ttotal: 16s\tremaining: 0us\n",
            "0:\tlearn: 3171.1916927\ttotal: 114ms\tremaining: 22.8s\n",
            "199:\tlearn: 1501.3615301\ttotal: 16.3s\tremaining: 0us\n",
            "0:\tlearn: 3177.3609909\ttotal: 95.5ms\tremaining: 19s\n",
            "199:\tlearn: 1472.0136922\ttotal: 16.5s\tremaining: 0us\n",
            "0:\tlearn: 2689.0238150\ttotal: 108ms\tremaining: 21.4s\n",
            "199:\tlearn: 1483.2452217\ttotal: 16.1s\tremaining: 0us\n",
            "0:\tlearn: 2706.6456507\ttotal: 91.4ms\tremaining: 18.2s\n",
            "199:\tlearn: 1447.6151253\ttotal: 16s\tremaining: 0us\n",
            "0:\tlearn: 3133.5516230\ttotal: 192ms\tremaining: 38.2s\n",
            "199:\tlearn: 1505.5477426\ttotal: 31.4s\tremaining: 0us\n",
            "CPU times: user 3min 44s, sys: 1.74 s, total: 3min 45s\n",
            "Wall time: 4min\n"
          ]
        },
        {
          "data": {
            "text/html": [
              "<style>#sk-container-id-4 {color: black;background-color: white;}#sk-container-id-4 pre{padding: 0;}#sk-container-id-4 div.sk-toggleable {background-color: white;}#sk-container-id-4 label.sk-toggleable__label {cursor: pointer;display: block;width: 100%;margin-bottom: 0;padding: 0.3em;box-sizing: border-box;text-align: center;}#sk-container-id-4 label.sk-toggleable__label-arrow:before {content: \"▸\";float: left;margin-right: 0.25em;color: #696969;}#sk-container-id-4 label.sk-toggleable__label-arrow:hover:before {color: black;}#sk-container-id-4 div.sk-estimator:hover label.sk-toggleable__label-arrow:before {color: black;}#sk-container-id-4 div.sk-toggleable__content {max-height: 0;max-width: 0;overflow: hidden;text-align: left;background-color: #f0f8ff;}#sk-container-id-4 div.sk-toggleable__content pre {margin: 0.2em;color: black;border-radius: 0.25em;background-color: #f0f8ff;}#sk-container-id-4 input.sk-toggleable__control:checked~div.sk-toggleable__content {max-height: 200px;max-width: 100%;overflow: auto;}#sk-container-id-4 input.sk-toggleable__control:checked~label.sk-toggleable__label-arrow:before {content: \"▾\";}#sk-container-id-4 div.sk-estimator input.sk-toggleable__control:checked~label.sk-toggleable__label {background-color: #d4ebff;}#sk-container-id-4 div.sk-label input.sk-toggleable__control:checked~label.sk-toggleable__label {background-color: #d4ebff;}#sk-container-id-4 input.sk-hidden--visually {border: 0;clip: rect(1px 1px 1px 1px);clip: rect(1px, 1px, 1px, 1px);height: 1px;margin: -1px;overflow: hidden;padding: 0;position: absolute;width: 1px;}#sk-container-id-4 div.sk-estimator {font-family: monospace;background-color: #f0f8ff;border: 1px dotted black;border-radius: 0.25em;box-sizing: border-box;margin-bottom: 0.5em;}#sk-container-id-4 div.sk-estimator:hover {background-color: #d4ebff;}#sk-container-id-4 div.sk-parallel-item::after {content: \"\";width: 100%;border-bottom: 1px solid gray;flex-grow: 1;}#sk-container-id-4 div.sk-label:hover label.sk-toggleable__label {background-color: #d4ebff;}#sk-container-id-4 div.sk-serial::before {content: \"\";position: absolute;border-left: 1px solid gray;box-sizing: border-box;top: 0;bottom: 0;left: 50%;z-index: 0;}#sk-container-id-4 div.sk-serial {display: flex;flex-direction: column;align-items: center;background-color: white;padding-right: 0.2em;padding-left: 0.2em;position: relative;}#sk-container-id-4 div.sk-item {position: relative;z-index: 1;}#sk-container-id-4 div.sk-parallel {display: flex;align-items: stretch;justify-content: center;background-color: white;position: relative;}#sk-container-id-4 div.sk-item::before, #sk-container-id-4 div.sk-parallel-item::before {content: \"\";position: absolute;border-left: 1px solid gray;box-sizing: border-box;top: 0;bottom: 0;left: 50%;z-index: -1;}#sk-container-id-4 div.sk-parallel-item {display: flex;flex-direction: column;z-index: 1;position: relative;background-color: white;}#sk-container-id-4 div.sk-parallel-item:first-child::after {align-self: flex-end;width: 50%;}#sk-container-id-4 div.sk-parallel-item:last-child::after {align-self: flex-start;width: 50%;}#sk-container-id-4 div.sk-parallel-item:only-child::after {width: 0;}#sk-container-id-4 div.sk-dashed-wrapped {border: 1px dashed gray;margin: 0 0.4em 0.5em 0.4em;box-sizing: border-box;padding-bottom: 0.4em;background-color: white;}#sk-container-id-4 div.sk-label label {font-family: monospace;font-weight: bold;display: inline-block;line-height: 1.2em;}#sk-container-id-4 div.sk-label-container {text-align: center;}#sk-container-id-4 div.sk-container {/* jupyter's `normalize.less` sets `[hidden] { display: none; }` but bootstrap.min.css set `[hidden] { display: none !important; }` so we also need the `!important` here to be able to override the default hidden behavior on the sphinx rendered scikit-learn.org. See: https://github.com/scikit-learn/scikit-learn/issues/21755 */display: inline-block !important;position: relative;}#sk-container-id-4 div.sk-text-repr-fallback {display: none;}</style><div id=\"sk-container-id-4\" class=\"sk-top-container\"><div class=\"sk-text-repr-fallback\"><pre>GridSearchCV(cv=2,\n",
              "             estimator=&lt;catboost.core.CatBoostRegressor object at 0x7fd704e067f0&gt;,\n",
              "             n_jobs=-1,\n",
              "             param_grid={&#x27;depth&#x27;: [2, 4, 6], &#x27;learning_rate&#x27;: [0.1, 0.5, 0.75]},\n",
              "             scoring=&#x27;neg_mean_squared_error&#x27;)</pre><b>In a Jupyter environment, please rerun this cell to show the HTML representation or trust the notebook. <br />On GitHub, the HTML representation is unable to render, please try loading this page with nbviewer.org.</b></div><div class=\"sk-container\" hidden><div class=\"sk-item sk-dashed-wrapped\"><div class=\"sk-label-container\"><div class=\"sk-label sk-toggleable\"><input class=\"sk-toggleable__control sk-hidden--visually\" id=\"sk-estimator-id-6\" type=\"checkbox\" ><label for=\"sk-estimator-id-6\" class=\"sk-toggleable__label sk-toggleable__label-arrow\">GridSearchCV</label><div class=\"sk-toggleable__content\"><pre>GridSearchCV(cv=2,\n",
              "             estimator=&lt;catboost.core.CatBoostRegressor object at 0x7fd704e067f0&gt;,\n",
              "             n_jobs=-1,\n",
              "             param_grid={&#x27;depth&#x27;: [2, 4, 6], &#x27;learning_rate&#x27;: [0.1, 0.5, 0.75]},\n",
              "             scoring=&#x27;neg_mean_squared_error&#x27;)</pre></div></div></div><div class=\"sk-parallel\"><div class=\"sk-parallel-item\"><div class=\"sk-item\"><div class=\"sk-label-container\"><div class=\"sk-label sk-toggleable\"><input class=\"sk-toggleable__control sk-hidden--visually\" id=\"sk-estimator-id-7\" type=\"checkbox\" ><label for=\"sk-estimator-id-7\" class=\"sk-toggleable__label sk-toggleable__label-arrow\">estimator: CatBoostRegressor</label><div class=\"sk-toggleable__content\"><pre>&lt;catboost.core.CatBoostRegressor object at 0x7fd704e067f0&gt;</pre></div></div></div><div class=\"sk-serial\"><div class=\"sk-item\"><div class=\"sk-estimator sk-toggleable\"><input class=\"sk-toggleable__control sk-hidden--visually\" id=\"sk-estimator-id-8\" type=\"checkbox\" ><label for=\"sk-estimator-id-8\" class=\"sk-toggleable__label sk-toggleable__label-arrow\">CatBoostRegressor</label><div class=\"sk-toggleable__content\"><pre>&lt;catboost.core.CatBoostRegressor object at 0x7fd704e067f0&gt;</pre></div></div></div></div></div></div></div></div></div></div>"
            ],
            "text/plain": [
              "GridSearchCV(cv=2,\n",
              "             estimator=<catboost.core.CatBoostRegressor object at 0x7fd704e067f0>,\n",
              "             n_jobs=-1,\n",
              "             param_grid={'depth': [2, 4, 6], 'learning_rate': [0.1, 0.5, 0.75]},\n",
              "             scoring='neg_mean_squared_error')"
            ]
          },
          "execution_count": 84,
          "metadata": {},
          "output_type": "execute_result"
        }
      ],
      "source": [
        "%%time\n",
        "\n",
        "cat = CatBoostRegressor(iterations = 200,\n",
        "                        loss_function='RMSE',\n",
        "                        verbose = 200,\n",
        "                        cat_features = cat_features,\n",
        "                       random_seed=42)\n",
        "\n",
        "parameters = {'learning_rate': [0.1, 0.5, 0.75],\n",
        "             'depth': [2,4,6]}\n",
        "\n",
        "grid = GridSearchCV(\n",
        "    estimator=cat,\n",
        "    param_grid = parameters,\n",
        "    cv=2,\n",
        "    n_jobs=-1,\n",
        "    scoring='neg_mean_squared_error') #настраиваем скориннг на mse\n",
        "\n",
        "grid.fit(features_train, target_train)"
      ]
    },
    {
      "cell_type": "code",
      "execution_count": null,
      "metadata": {
        "id": "T2KmO3gK2j7x",
        "outputId": "cf678880-45a0-4b93-80c8-7fc4ea0d5e2b"
      },
      "outputs": [
        {
          "name": "stdout",
          "output_type": "stream",
          "text": [
            "Best_model: <catboost.core.CatBoostRegressor object at 0x7fd7051ded00>\n",
            "Best_parametrs: {'depth': 6, 'learning_rate': 0.5}\n",
            "Best RMSE: 1606.7525146952783\n"
          ]
        }
      ],
      "source": [
        "print(f'Best_model: {grid.best_estimator_}')\n",
        "print(f'Best_parametrs: {grid.best_params_}')\n",
        "print(f'Best RMSE: {(-grid.best_score_)**(0.5)}')"
      ]
    },
    {
      "cell_type": "markdown",
      "metadata": {
        "id": "cXsjrp1G2j7x"
      },
      "source": [
        "Таким образом лучшей моделью CatBoost является модель со следующими параметрами:\n",
        "- глубина дерева 6 (как по умолчанию)\n",
        "- скорость обучения 0.5\n",
        "\n",
        "Обучим модель с этими параметрами"
      ]
    },
    {
      "cell_type": "code",
      "execution_count": null,
      "metadata": {
        "scrolled": true,
        "colab": {
          "referenced_widgets": [
            "558166e5b55446bf8188dfd3bad21229"
          ]
        },
        "id": "whyX3xN62j7x",
        "outputId": "d5c56225-b61d-49e3-a12b-86e8d2d523df"
      },
      "outputs": [
        {
          "data": {
            "application/vnd.jupyter.widget-view+json": {
              "model_id": "558166e5b55446bf8188dfd3bad21229",
              "version_major": 2,
              "version_minor": 0
            },
            "text/plain": [
              "MetricVisualizer(layout=Layout(align_self='stretch', height='500px'))"
            ]
          },
          "metadata": {},
          "output_type": "display_data"
        },
        {
          "name": "stdout",
          "output_type": "stream",
          "text": [
            "CPU times: user 1min 45s, sys: 731 ms, total: 1min 46s\n",
            "Wall time: 1min 48s\n"
          ]
        },
        {
          "data": {
            "text/plain": [
              "<catboost.core.CatBoostRegressor at 0x7fd704e06b50>"
            ]
          },
          "execution_count": 86,
          "metadata": {},
          "output_type": "execute_result"
        }
      ],
      "source": [
        "%%time\n",
        "\n",
        "model_cat_best = CatBoostRegressor(\n",
        "    iterations = 1000, #увеличим число итераций, чтобы найти оптимальную точку (обучение остановится по детектору переобучения)\n",
        "    loss_function='RMSE',\n",
        "    depth=6,\n",
        "    learning_rate=0.5,\n",
        "    random_seed=42,\n",
        "    od_type='Iter', #детектор переобучения (если в течение 20 итераций модель не улучшилась, то перестаем обучаться)\n",
        "    od_wait=20\n",
        ")\n",
        "\n",
        "model_cat_best.fit(\n",
        "    features_train,\n",
        "    target_train,\n",
        "    cat_features=cat_features,\n",
        "    #verbose=False,\n",
        "    eval_set=(features_valid, target_valid),\n",
        "    logging_level='Silent',\n",
        "    plot=True,\n",
        ")"
      ]
    },
    {
      "cell_type": "markdown",
      "metadata": {
        "id": "UO9EMEeW2j7x"
      },
      "source": [
        "Модель стала переобучаться и расчет остановился раньше запланированных 1000 итераций"
      ]
    },
    {
      "cell_type": "code",
      "execution_count": null,
      "metadata": {
        "id": "Kor_nmWW2j7x",
        "outputId": "81562942-b1b0-437d-a3f9-23bf47aa465f"
      },
      "outputs": [
        {
          "name": "stdout",
          "output_type": "stream",
          "text": [
            "tree count = 516\n",
            "best_iter = 515\n",
            "best_score = {'learn': {'RMSE': 1410.3277440710563}, 'validation': {'RMSE': 1534.211571976282}}\n"
          ]
        }
      ],
      "source": [
        "print(f'tree count = {model_cat_best.tree_count_}')\n",
        "print(f'best_iter = {model_cat_best.get_best_iteration()}')\n",
        "print(f'best_score = {model_cat_best.get_best_score()}')"
      ]
    },
    {
      "cell_type": "markdown",
      "metadata": {
        "id": "E-Clu9zc2j7x"
      },
      "source": [
        "Видим по графику, что качество после 200 итерации практически не изменяется, поэтому ограничимся 200 итерациями и измерим время обучения модели"
      ]
    },
    {
      "cell_type": "code",
      "execution_count": null,
      "metadata": {
        "scrolled": false,
        "id": "aNBJ8rA02j7x",
        "outputId": "f22a5083-cd1b-487f-8805-36ffd481261c"
      },
      "outputs": [
        {
          "name": "stdout",
          "output_type": "stream",
          "text": [
            "CPU times: user 37.8 s, sys: 359 ms, total: 38.2 s\n",
            "Wall time: 39.7 s\n"
          ]
        },
        {
          "data": {
            "text/plain": [
              "<catboost.core.CatBoostRegressor at 0x7fd705204a30>"
            ]
          },
          "execution_count": 88,
          "metadata": {},
          "output_type": "execute_result"
        }
      ],
      "source": [
        "%%time\n",
        "\n",
        "model_cat_best = CatBoostRegressor(\n",
        "    iterations = 200,\n",
        "    loss_function='RMSE',\n",
        "    depth=6,\n",
        "    learning_rate=0.5,\n",
        "    random_seed=42,\n",
        "    od_type='Iter', #детектор переобучения (если в течение 20 итераций модель не улучшилась, то перестаем обучаться)\n",
        "    od_wait=20\n",
        ")\n",
        "\n",
        "model_cat_best.fit(\n",
        "    features_train,\n",
        "    target_train,\n",
        "    cat_features=cat_features,\n",
        "    #verbose=50,\n",
        "    eval_set=(features_valid, target_valid),\n",
        "    logging_level='Silent',\n",
        "    plot=False,\n",
        ")"
      ]
    },
    {
      "cell_type": "markdown",
      "metadata": {
        "id": "_V4KgE5S2j7x"
      },
      "source": [
        "Время обучения CatBoost модели 40 s"
      ]
    },
    {
      "cell_type": "code",
      "execution_count": null,
      "metadata": {
        "scrolled": false,
        "id": "12REFfpR2j7x",
        "outputId": "c91b2e48-f966-4e5b-e2ff-dd48f633ccd3"
      },
      "outputs": [
        {
          "name": "stdout",
          "output_type": "stream",
          "text": [
            "RMSE Cat Boost = 1562.66\n"
          ]
        }
      ],
      "source": [
        "#аргумент squared=False позволяет вычислить сразу RMSE\n",
        "rmse_cat_best = mean_squared_error(target_valid, model_cat_best.predict(features_valid), squared=False)\n",
        "print(f'RMSE Cat Boost = {rmse_cat_best:.2f}')"
      ]
    },
    {
      "cell_type": "code",
      "execution_count": null,
      "metadata": {
        "id": "1nfGCnKg2j7y",
        "outputId": "38040181-693f-43db-f83a-11b5765ce99f"
      },
      "outputs": [
        {
          "name": "stdout",
          "output_type": "stream",
          "text": [
            "CPU times: user 199 ms, sys: 0 ns, total: 199 ms\n",
            "Wall time: 197 ms\n"
          ]
        }
      ],
      "source": [
        "%%time\n",
        "\n",
        "predicted_answers = model_cat_best.predict(features_valid)"
      ]
    },
    {
      "cell_type": "markdown",
      "metadata": {
        "id": "FVj2dCkt2j7y"
      },
      "source": [
        "Время предсказания 0.2 секунды"
      ]
    },
    {
      "cell_type": "markdown",
      "metadata": {
        "id": "0U6rDvT42j7y"
      },
      "source": [
        "Создалим список с лучшими моделями и добавим туда лучшую модель catboost"
      ]
    },
    {
      "cell_type": "code",
      "execution_count": null,
      "metadata": {
        "id": "lSfckoSW2j7y"
      },
      "outputs": [],
      "source": [
        "model_list.append(('Best CatBoost', rmse_cat_best, 40, 0.2))"
      ]
    },
    {
      "cell_type": "markdown",
      "metadata": {
        "id": "1cOnVX7q2j7y"
      },
      "source": [
        "### LightGBM"
      ]
    },
    {
      "cell_type": "code",
      "execution_count": null,
      "metadata": {
        "id": "e6vE-m1S2j7y"
      },
      "outputs": [],
      "source": [
        "categorical_features = ['VehicleType',\n",
        "                'Gearbox',\n",
        "                'Model',\n",
        "                'FuelType',\n",
        "                'Brand',\n",
        "                'Repaired']"
      ]
    },
    {
      "cell_type": "code",
      "execution_count": null,
      "metadata": {
        "id": "d_NeGBs72j7y",
        "outputId": "661df25e-e462-4d37-d9c5-2d81d0f646a2"
      },
      "outputs": [
        {
          "name": "stdout",
          "output_type": "stream",
          "text": [
            "<class 'pandas.core.frame.DataFrame'>\n",
            "Int64Index: 167712 entries, 141348 to 275821\n",
            "Data columns (total 9 columns):\n",
            " #   Column            Non-Null Count   Dtype \n",
            "---  ------            --------------   ----- \n",
            " 0   VehicleType       167712 non-null  object\n",
            " 1   RegistrationYear  167712 non-null  int64 \n",
            " 2   Gearbox           167712 non-null  object\n",
            " 3   Power             167712 non-null  int64 \n",
            " 4   Model             167712 non-null  object\n",
            " 5   Kilometer         167712 non-null  int64 \n",
            " 6   FuelType          167712 non-null  object\n",
            " 7   Brand             167712 non-null  object\n",
            " 8   Repaired          167712 non-null  object\n",
            "dtypes: int64(3), object(6)\n",
            "memory usage: 16.8+ MB\n"
          ]
        }
      ],
      "source": [
        "features_train.info()"
      ]
    },
    {
      "cell_type": "code",
      "execution_count": null,
      "metadata": {
        "id": "qVB-gk422j7y"
      },
      "outputs": [],
      "source": [
        "for c in categorical_features:\n",
        "    features_train[c] = features_train[c].astype('category')"
      ]
    },
    {
      "cell_type": "markdown",
      "metadata": {
        "id": "nIzm8cTx2j7y"
      },
      "source": [
        "Изменение типа данных для категориальных переменных https://www.kaggle.com/code/mlisovyi/beware-of-categorical-features-in-lgbm"
      ]
    },
    {
      "cell_type": "code",
      "execution_count": null,
      "metadata": {
        "id": "vq9wTjkf2j7y"
      },
      "outputs": [],
      "source": [
        "for c in features_train.columns:\n",
        "    col_type = features_train[c].dtype\n",
        "    if col_type == 'object' or col_type.name == 'category':\n",
        "        features_train[c] = features_train[c].astype('category')\n",
        "        features_valid[c] = features_valid[c].astype('category')"
      ]
    },
    {
      "cell_type": "markdown",
      "metadata": {
        "id": "LyernKZO2j7y"
      },
      "source": [
        "Рассмотрим несколько моделей с разными ограничениями по макс глубине деревьев:"
      ]
    },
    {
      "cell_type": "code",
      "execution_count": null,
      "metadata": {
        "id": "nXF4Xxph2j7y"
      },
      "outputs": [],
      "source": [
        "#%%time\n",
        "\n",
        "#Default LightGBM\n",
        "#без ограничения макс глубины дерева\n",
        "\n",
        "#lgb = LGBMRegressor(random_state=42) #без ограничения макс глубины дерева\n",
        "\n",
        "#lgb.fit(features_train, target_train)\n",
        "\n",
        "#rmse_lgb = mean_squared_error(target_valid, lgb.predict(features_valid), squared=False)\n",
        "#print(f'RMSE LightGBM = {rmse_lgb:.2f}')"
      ]
    },
    {
      "cell_type": "code",
      "execution_count": null,
      "metadata": {
        "scrolled": false,
        "id": "VIv_sAGK2j7y",
        "outputId": "fe2d1eb1-63a7-4220-ef4c-3ca851bf80bb"
      },
      "outputs": [
        {
          "name": "stdout",
          "output_type": "stream",
          "text": [
            "[50]\tvalid's l2: 2.46699e+06\n",
            "[100]\tvalid's l2: 2.3914e+06\n",
            "RMSE LightGBM = 1546.41\n",
            "CPU times: user 5min 10s, sys: 1.26 s, total: 5min 12s\n",
            "Wall time: 5min 14s\n"
          ]
        }
      ],
      "source": [
        "%%time\n",
        "\n",
        "lgb = LGBMRegressor(random_state=42,\n",
        "                    num_leaves= 31, #default\n",
        "                    max_depth = 7, #ограничили макс глубину\n",
        "                    silent=True,\n",
        "                    n_estimators=100, #default\n",
        "                    learning_rate=0.5) #увеличили скорость обучения\n",
        "\n",
        "\n",
        "fit_params={\"early_stopping_rounds\":10,\n",
        "            \"eval_metric\" : 'l2', #default\n",
        "            \"eval_set\" : [(features_valid, target_valid)],\n",
        "            'eval_names': ['valid'],\n",
        "            'verbose': 50,\n",
        "            'feature_name': 'auto', # that's actually the default\n",
        "            'categorical_feature': 'auto' # that's actually the default\n",
        "           }\n",
        "\n",
        "lgb.fit(features_train, target_train, **fit_params)\n",
        "\n",
        "rmse_lgb_2 = mean_squared_error(target_valid, lgb.predict(features_valid), squared=False)\n",
        "print(f'RMSE LightGBM = {rmse_lgb_2:.2f}')"
      ]
    },
    {
      "cell_type": "code",
      "execution_count": null,
      "metadata": {
        "id": "aHqPFfTP2j7z",
        "outputId": "b0e32fdb-70e2-4188-8738-beb5c0baae69"
      },
      "outputs": [
        {
          "name": "stdout",
          "output_type": "stream",
          "text": [
            "CPU times: user 468 ms, sys: 3.5 ms, total: 471 ms\n",
            "Wall time: 430 ms\n"
          ]
        }
      ],
      "source": [
        "%%time\n",
        "\n",
        "predicted_answer = lgb.predict(features_valid)"
      ]
    },
    {
      "cell_type": "code",
      "execution_count": null,
      "metadata": {
        "scrolled": true,
        "id": "oLO04QiW2j7z",
        "outputId": "f258fa9c-5628-4009-ece6-30d8897ca29a"
      },
      "outputs": [
        {
          "name": "stdout",
          "output_type": "stream",
          "text": [
            "[50]\tvalid's l2: 2.43026e+06\n",
            "[100]\tvalid's l2: 2.35976e+06\n",
            "RMSE LightGBM = 1536.15\n",
            "CPU times: user 5min 55s, sys: 1.31 s, total: 5min 56s\n",
            "Wall time: 5min 59s\n"
          ]
        }
      ],
      "source": [
        "%%time\n",
        "\n",
        "lgb = LGBMRegressor(random_state=42,\n",
        "                    num_leaves= 31, #default\n",
        "                    max_depth = 15, #ограничили макс глубину\n",
        "                    silent=True,\n",
        "                    n_estimators=100, #default\n",
        "                    learning_rate=0.5) #увеличили скорость обучения\n",
        "\n",
        "\n",
        "fit_params={\"early_stopping_rounds\":10,\n",
        "            \"eval_metric\" : 'l2', #default\n",
        "            \"eval_set\" : [(features_valid, target_valid)],\n",
        "            'eval_names': ['valid'],\n",
        "            'verbose': 50,\n",
        "            'feature_name': 'auto', # that's actually the default\n",
        "            'categorical_feature': 'auto' # that's actually the default\n",
        "           }\n",
        "\n",
        "lgb.fit(features_train, target_train, **fit_params)\n",
        "\n",
        "rmse_lgb_3 = mean_squared_error(target_valid, lgb.predict(features_valid), squared=False)\n",
        "print(f'RMSE LightGBM = {rmse_lgb_3:.2f}')"
      ]
    },
    {
      "cell_type": "code",
      "execution_count": null,
      "metadata": {
        "id": "L_ulzwPU2j7z",
        "outputId": "5ca76f2d-9a4b-4bb3-ba83-71fbe931a06d"
      },
      "outputs": [
        {
          "name": "stdout",
          "output_type": "stream",
          "text": [
            "CPU times: user 382 ms, sys: 3.48 ms, total: 386 ms\n",
            "Wall time: 316 ms\n"
          ]
        }
      ],
      "source": [
        "%%time\n",
        "\n",
        "predicted_answer = lgb.predict(features_valid)"
      ]
    },
    {
      "cell_type": "markdown",
      "metadata": {
        "id": "p454HBWp2j7z"
      },
      "source": [
        "Видим, что качество практически одинаково при ограничении макс глубины в 7 и в 15\n",
        "\n",
        "Поэтому выбираем модель LightGMB с параметрами:\n",
        "- max depth 15\n",
        "- learning rate 0.5"
      ]
    },
    {
      "cell_type": "markdown",
      "metadata": {
        "id": "hogv0tmE2j7z"
      },
      "source": [
        "Запишем результаты"
      ]
    },
    {
      "cell_type": "code",
      "execution_count": null,
      "metadata": {
        "id": "Dk6CC4Sl2j7z"
      },
      "outputs": [],
      "source": [
        "model_list.append(('Best LightGBM', rmse_lgb_2, 314, 0.3))"
      ]
    },
    {
      "cell_type": "code",
      "execution_count": null,
      "metadata": {
        "id": "_-2PPrrD2j72"
      },
      "outputs": [],
      "source": [
        "#нижеуказанный код работает очень долго. Возможно, надо отдельно закодировать категориальные признаки и потом подключать\n",
        "#GS или RandomizedSearchCV для поиска лучших гиперпараметров\n",
        "\n",
        "#%%time\n",
        "\n",
        "\n",
        "#lgb = LGBMRegressor(random_state=42)\n",
        "\n",
        "#parameters = {'learning_rate': [0.1, 0.5],\n",
        "             #'max_depth': [5,10]}\n",
        "\n",
        "#grid = GridSearchCV(\n",
        "    #estimator=lgb,\n",
        "    #param_grid = parameters,\n",
        "    #cv=2,\n",
        "    #n_jobs=-1,\n",
        "    #scoring='neg_mean_squared_error') #настраиваем скориннг на mse\n",
        "\n",
        "#grid.fit(features_train, target_train)"
      ]
    },
    {
      "cell_type": "code",
      "execution_count": null,
      "metadata": {
        "id": "GKG4JT1c2j72"
      },
      "outputs": [],
      "source": [
        "#print(f'Best_model: {grid.best_estimator_}')\n",
        "#print(f'Best_parametrs: {grid.best_params_}')\n",
        "#print(f'Best RMSE: {(-grid.best_score_)**(0.5)}')"
      ]
    },
    {
      "cell_type": "code",
      "execution_count": null,
      "metadata": {
        "id": "nZt0Gzqo2j72"
      },
      "outputs": [],
      "source": [
        "#model_list.append(('Best LightGBM', rmse_lgb_2))"
      ]
    },
    {
      "cell_type": "markdown",
      "metadata": {
        "id": "8s3_VeCM2j72"
      },
      "source": [
        "## Анализ моделей"
      ]
    },
    {
      "cell_type": "markdown",
      "metadata": {
        "id": "pVJkwKaG2j72"
      },
      "source": [
        "Заказчику важны:\n",
        "\n",
        "- качество предсказания;\n",
        "- скорость предсказания;\n",
        "- время обучения.\n",
        "\n",
        "Посмотрим на результаты"
      ]
    },
    {
      "cell_type": "code",
      "execution_count": null,
      "metadata": {
        "id": "9yHSwh3e2j72",
        "outputId": "f0edf175-7682-452e-a738-c6dfdc643112"
      },
      "outputs": [
        {
          "data": {
            "text/html": [
              "<div>\n",
              "<style scoped>\n",
              "    .dataframe tbody tr th:only-of-type {\n",
              "        vertical-align: middle;\n",
              "    }\n",
              "\n",
              "    .dataframe tbody tr th {\n",
              "        vertical-align: top;\n",
              "    }\n",
              "\n",
              "    .dataframe thead th {\n",
              "        text-align: right;\n",
              "    }\n",
              "</style>\n",
              "<table border=\"1\" class=\"dataframe\">\n",
              "  <thead>\n",
              "    <tr style=\"text-align: right;\">\n",
              "      <th></th>\n",
              "      <th>name</th>\n",
              "      <th>RMSE</th>\n",
              "      <th>training_time</th>\n",
              "      <th>prediction_time</th>\n",
              "    </tr>\n",
              "  </thead>\n",
              "  <tbody>\n",
              "    <tr>\n",
              "      <th>2</th>\n",
              "      <td>Best LightGBM</td>\n",
              "      <td>1546.413999</td>\n",
              "      <td>314.00</td>\n",
              "      <td>0.3</td>\n",
              "    </tr>\n",
              "    <tr>\n",
              "      <th>1</th>\n",
              "      <td>Best CatBoost</td>\n",
              "      <td>1562.660723</td>\n",
              "      <td>40.00</td>\n",
              "      <td>0.2</td>\n",
              "    </tr>\n",
              "    <tr>\n",
              "      <th>0</th>\n",
              "      <td>Best Ridge</td>\n",
              "      <td>2656.198693</td>\n",
              "      <td>5.86</td>\n",
              "      <td>0.3</td>\n",
              "    </tr>\n",
              "  </tbody>\n",
              "</table>\n",
              "</div>"
            ],
            "text/plain": [
              "            name         RMSE  training_time  prediction_time\n",
              "2  Best LightGBM  1546.413999         314.00              0.3\n",
              "1  Best CatBoost  1562.660723          40.00              0.2\n",
              "0     Best Ridge  2656.198693           5.86              0.3"
            ]
          },
          "execution_count": 101,
          "metadata": {},
          "output_type": "execute_result"
        }
      ],
      "source": [
        "ml = pd.DataFrame(model_list)\n",
        "ml.columns = ('name', 'RMSE', 'training_time', 'prediction_time')\n",
        "ml = ml.sort_values(by='RMSE', ascending=True)\n",
        "ml"
      ]
    },
    {
      "cell_type": "markdown",
      "metadata": {
        "id": "qR1uUUhO2j72"
      },
      "source": [
        "Вывод:\n",
        "\n",
        "- Модели с градиентым бустингом показали ожидаемо лучший результат, чем простая линейная модель\n",
        "- Показатели качества LightGBM и CatBoost одинаковы (rmse порядка 1550), при этом качество модели CatBoost можно еще немного улучшить, увеличив число итерация (мы это видели на графике в разделе 2.1 где брали 1000 итераций и обучение останавливалось по детектору обучения - rmse опускался ниже 1500, однако закономерно расло и время обучения, поэтому число итераций ограничили на 200 - хорошее качество 1550 и небольшое время обучения (44 секунды вместо 139 секунд при 588 итерациях (отключение по переобучению) )\n",
        "- По времени обучения и предсказания с большим отрывом опережает линейная модель с регуляризацией Ridge (alpha=0.5)\n",
        "- Время предсказаний самое меньшее у линейно модели 0.15 секунды\n",
        "\n",
        "Таким образом, опираясь на критерии Заказчика предлагаю к использованию выбрать CatBoost модель. Она не уступает LightGMB по качеству, однако имеет меньшее время обучения и быстрее предсказывает ответ"
      ]
    },
    {
      "cell_type": "markdown",
      "metadata": {
        "id": "2qX3XJV_2j72"
      },
      "source": [
        "Проверим выбранную лучшую модель на тестовой выборке"
      ]
    },
    {
      "cell_type": "code",
      "execution_count": null,
      "metadata": {
        "scrolled": true,
        "id": "QGI54phU2j72",
        "outputId": "f897deab-383a-473a-d529-1176b0b98c83"
      },
      "outputs": [
        {
          "data": {
            "text/plain": [
              "{'iterations': 200,\n",
              " 'learning_rate': 0.5,\n",
              " 'depth': 6,\n",
              " 'loss_function': 'RMSE',\n",
              " 'od_wait': 20,\n",
              " 'od_type': 'Iter',\n",
              " 'random_seed': 42}"
            ]
          },
          "execution_count": 102,
          "metadata": {},
          "output_type": "execute_result"
        }
      ],
      "source": [
        "model_cat_best.get_params()"
      ]
    },
    {
      "cell_type": "code",
      "execution_count": null,
      "metadata": {
        "id": "1ugjIvjJ2j72",
        "outputId": "27628437-61db-4733-b512-cd92a047bb1d"
      },
      "outputs": [
        {
          "name": "stdout",
          "output_type": "stream",
          "text": [
            "RMSE CatBoost test = 1553.30\n"
          ]
        }
      ],
      "source": [
        "rmse_cat_test = mean_squared_error(target_test, model_cat_best.predict(features_test), squared=False)\n",
        "print(f'RMSE CatBoost test = {rmse_cat_test:.2f}')"
      ]
    },
    {
      "cell_type": "markdown",
      "metadata": {
        "id": "jwD3SHoF2j72"
      },
      "source": [
        "<div class=\"alert alert-success\">\n",
        "<b>ОТЛИЧНО! 👍</b>\n",
        "\n",
        "Здесь отлично: проверили \"качество\" нашей лучшей модели на тестовых данных и поняли что можем запустить её в промышленную эксплуатацию!\n",
        "</div>"
      ]
    },
    {
      "cell_type": "markdown",
      "metadata": {
        "id": "V0Y7JB5A2j72"
      },
      "source": [
        "На тестовой выборке (которую алгоритм до этого не видел) результат по качеству получился такой же по порядку, как и на обучающей выборке. Это говорит о том, что не было переобучения и модель корректно (предсказуемо по качеству) работает с новыми данными\n",
        "\n",
        "Поэтому в качестве финальной модели для Заказчика выбираем CatBoost"
      ]
    },
    {
      "cell_type": "markdown",
      "metadata": {
        "id": "KEkBFsp-2j73"
      },
      "source": [
        "<div class=\"alert alert-success\">\n",
        "<b>ОТЛИЧНО! 👍</b>\n",
        "\n",
        "Всё отлично, результат достигнут.\n",
        "\n",
        "Требованиям ТЗ твой проект устраивает.\n",
        "\n",
        "Во первых, для интересующей Заказчика метрики (RMSE) её порог (менее 2500) - достигнут.\n",
        "\n",
        "Во-вторых, оценки времени работы моделей являются реалистичными и позволят использовать модели в проде, на оборудовании Заказчика с требуемой производительноостью.\n",
        "\n",
        "</div>"
      ]
    },
    {
      "cell_type": "markdown",
      "metadata": {
        "id": "LoVdZ9Re2j73"
      },
      "source": [
        "## Чек-лист проверки"
      ]
    },
    {
      "cell_type": "markdown",
      "metadata": {
        "id": "w5tOmLht2j73"
      },
      "source": [
        "Поставьте 'x' в выполненных пунктах. Далее нажмите Shift+Enter."
      ]
    },
    {
      "cell_type": "markdown",
      "metadata": {
        "id": "pXjmH2Bh2j73"
      },
      "source": [
        "- [x]  Jupyter Notebook открыт\n",
        "- [x]  Весь код выполняется без ошибок\n",
        "- [x]  Ячейки с кодом расположены в порядке исполнения\n",
        "- [x]  Выполнена загрузка и подготовка данных\n",
        "- [x]  Выполнено обучение моделей\n",
        "- [x]  Есть анализ скорости работы и качества моделей"
      ]
    }
  ],
  "metadata": {
    "ExecuteTimeLog": [
      {
        "duration": 386,
        "start_time": "2023-06-09T10:20:52.579Z"
      },
      {
        "duration": 2832,
        "start_time": "2023-06-09T10:21:52.496Z"
      },
      {
        "duration": 21,
        "start_time": "2023-06-09T10:22:01.338Z"
      },
      {
        "duration": 146,
        "start_time": "2023-06-09T10:36:22.512Z"
      },
      {
        "duration": 95,
        "start_time": "2023-06-09T10:37:57.066Z"
      },
      {
        "duration": 893,
        "start_time": "2023-06-09T10:38:08.429Z"
      },
      {
        "duration": 859,
        "start_time": "2023-06-09T10:38:18.328Z"
      },
      {
        "duration": 31,
        "start_time": "2023-06-09T10:49:13.516Z"
      },
      {
        "duration": 69,
        "start_time": "2023-06-09T10:49:45.924Z"
      },
      {
        "duration": 96,
        "start_time": "2023-06-09T10:50:46.677Z"
      },
      {
        "duration": 127,
        "start_time": "2023-06-09T12:24:57.604Z"
      },
      {
        "duration": 65,
        "start_time": "2023-06-09T12:25:06.874Z"
      },
      {
        "duration": 70,
        "start_time": "2023-06-09T12:25:16.108Z"
      },
      {
        "duration": 1274,
        "start_time": "2023-06-09T12:25:37.387Z"
      },
      {
        "duration": 34,
        "start_time": "2023-06-09T12:25:46.494Z"
      },
      {
        "duration": 30,
        "start_time": "2023-06-09T12:25:56.497Z"
      },
      {
        "duration": 12,
        "start_time": "2023-06-09T12:27:29.290Z"
      },
      {
        "duration": 11,
        "start_time": "2023-06-09T12:27:34.230Z"
      },
      {
        "duration": 63,
        "start_time": "2023-06-09T12:27:50.475Z"
      },
      {
        "duration": 31,
        "start_time": "2023-06-09T12:27:53.926Z"
      },
      {
        "duration": 46,
        "start_time": "2023-06-09T12:28:08.169Z"
      },
      {
        "duration": 29,
        "start_time": "2023-06-09T12:28:10.251Z"
      },
      {
        "duration": 96,
        "start_time": "2023-06-09T12:28:34.867Z"
      },
      {
        "duration": 36,
        "start_time": "2023-06-09T12:29:13.953Z"
      },
      {
        "duration": 393,
        "start_time": "2023-06-09T12:45:15.387Z"
      },
      {
        "duration": 897,
        "start_time": "2023-06-09T12:45:15.782Z"
      },
      {
        "duration": 27,
        "start_time": "2023-06-09T12:45:16.682Z"
      },
      {
        "duration": 158,
        "start_time": "2023-06-09T12:45:16.711Z"
      },
      {
        "duration": 966,
        "start_time": "2023-06-09T12:45:16.871Z"
      },
      {
        "duration": 36,
        "start_time": "2023-06-09T12:46:34.705Z"
      },
      {
        "duration": 94,
        "start_time": "2023-06-09T12:46:38.237Z"
      },
      {
        "duration": 5,
        "start_time": "2023-06-09T12:48:00.486Z"
      },
      {
        "duration": 4,
        "start_time": "2023-06-09T12:52:42.079Z"
      },
      {
        "duration": 4,
        "start_time": "2023-06-09T12:53:21.489Z"
      },
      {
        "duration": 243,
        "start_time": "2023-06-09T12:53:25.477Z"
      },
      {
        "duration": 39,
        "start_time": "2023-06-09T12:53:55.335Z"
      },
      {
        "duration": 204,
        "start_time": "2023-06-09T12:55:05.851Z"
      },
      {
        "duration": 225,
        "start_time": "2023-06-09T12:55:53.230Z"
      },
      {
        "duration": 377,
        "start_time": "2023-06-09T13:07:32.196Z"
      },
      {
        "duration": 855,
        "start_time": "2023-06-09T13:07:32.575Z"
      },
      {
        "duration": 28,
        "start_time": "2023-06-09T13:07:33.432Z"
      },
      {
        "duration": 146,
        "start_time": "2023-06-09T13:07:33.462Z"
      },
      {
        "duration": 952,
        "start_time": "2023-06-09T13:07:33.611Z"
      },
      {
        "duration": 28,
        "start_time": "2023-06-09T13:08:32.185Z"
      },
      {
        "duration": 36,
        "start_time": "2023-06-09T13:12:01.084Z"
      },
      {
        "duration": 34,
        "start_time": "2023-06-09T13:12:27.256Z"
      },
      {
        "duration": 5,
        "start_time": "2023-06-09T13:12:58.826Z"
      },
      {
        "duration": 15,
        "start_time": "2023-06-09T13:16:18.092Z"
      },
      {
        "duration": 24,
        "start_time": "2023-06-09T13:16:26.619Z"
      },
      {
        "duration": 856,
        "start_time": "2023-06-09T13:16:59.758Z"
      },
      {
        "duration": 60,
        "start_time": "2023-06-09T13:17:15.743Z"
      },
      {
        "duration": 30,
        "start_time": "2023-06-09T13:17:16.818Z"
      },
      {
        "duration": 68,
        "start_time": "2023-06-09T13:37:15.963Z"
      },
      {
        "duration": 29,
        "start_time": "2023-06-09T13:37:25.103Z"
      },
      {
        "duration": 7,
        "start_time": "2023-06-09T13:37:39.418Z"
      },
      {
        "duration": 189,
        "start_time": "2023-06-09T13:38:15.460Z"
      },
      {
        "duration": 8,
        "start_time": "2023-06-09T13:38:21.679Z"
      },
      {
        "duration": 82,
        "start_time": "2023-06-09T13:39:00.519Z"
      },
      {
        "duration": 8,
        "start_time": "2023-06-09T13:39:01.488Z"
      },
      {
        "duration": 128,
        "start_time": "2023-06-09T13:39:23.568Z"
      },
      {
        "duration": 25,
        "start_time": "2023-06-09T13:51:46.594Z"
      },
      {
        "duration": 74,
        "start_time": "2023-06-09T13:51:59.145Z"
      },
      {
        "duration": 26,
        "start_time": "2023-06-09T13:52:00.123Z"
      },
      {
        "duration": 64,
        "start_time": "2023-06-09T13:52:47.491Z"
      },
      {
        "duration": 11,
        "start_time": "2023-06-09T13:52:48.209Z"
      },
      {
        "duration": 60,
        "start_time": "2023-06-09T13:56:29.455Z"
      },
      {
        "duration": 563,
        "start_time": "2023-06-09T13:57:51.930Z"
      },
      {
        "duration": 246,
        "start_time": "2023-06-09T13:58:01.800Z"
      },
      {
        "duration": 66,
        "start_time": "2023-06-09T13:58:51.165Z"
      },
      {
        "duration": 303,
        "start_time": "2023-06-09T13:58:51.674Z"
      },
      {
        "duration": 9,
        "start_time": "2023-06-09T14:00:45.543Z"
      },
      {
        "duration": 10,
        "start_time": "2023-06-09T14:00:57.561Z"
      },
      {
        "duration": 7,
        "start_time": "2023-06-09T14:01:02.678Z"
      },
      {
        "duration": 63,
        "start_time": "2023-06-09T14:01:35.080Z"
      },
      {
        "duration": 47,
        "start_time": "2023-06-09T14:02:33.034Z"
      },
      {
        "duration": 217,
        "start_time": "2023-06-09T14:02:33.673Z"
      },
      {
        "duration": 224,
        "start_time": "2023-06-09T14:02:40.593Z"
      },
      {
        "duration": 179,
        "start_time": "2023-06-09T14:03:12.754Z"
      },
      {
        "duration": 264,
        "start_time": "2023-06-09T14:04:23.881Z"
      },
      {
        "duration": 389,
        "start_time": "2023-06-09T14:04:28.755Z"
      },
      {
        "duration": 368,
        "start_time": "2023-06-09T14:04:53.120Z"
      },
      {
        "duration": 48,
        "start_time": "2023-06-09T14:05:25.488Z"
      },
      {
        "duration": 253,
        "start_time": "2023-06-09T14:08:14.528Z"
      },
      {
        "duration": 229,
        "start_time": "2023-06-09T14:08:21.599Z"
      },
      {
        "duration": 240,
        "start_time": "2023-06-09T14:08:26.387Z"
      },
      {
        "duration": 41,
        "start_time": "2023-06-09T14:08:49.873Z"
      },
      {
        "duration": 22,
        "start_time": "2023-06-09T14:10:25.744Z"
      },
      {
        "duration": 55,
        "start_time": "2023-06-09T14:13:21.307Z"
      },
      {
        "duration": 19,
        "start_time": "2023-06-09T14:13:22.711Z"
      },
      {
        "duration": 20,
        "start_time": "2023-06-09T14:26:13.056Z"
      },
      {
        "duration": 22,
        "start_time": "2023-06-09T14:30:19.583Z"
      },
      {
        "duration": 29,
        "start_time": "2023-06-09T14:30:37.912Z"
      },
      {
        "duration": 118,
        "start_time": "2023-06-09T14:32:00.210Z"
      },
      {
        "duration": 113,
        "start_time": "2023-06-09T14:33:17.702Z"
      },
      {
        "duration": 315,
        "start_time": "2023-06-09T14:38:40.250Z"
      },
      {
        "duration": 325,
        "start_time": "2023-06-09T14:39:06.208Z"
      },
      {
        "duration": 304,
        "start_time": "2023-06-09T14:39:26.002Z"
      },
      {
        "duration": 339,
        "start_time": "2023-06-09T14:43:07.144Z"
      },
      {
        "duration": 18,
        "start_time": "2023-06-09T15:38:53.783Z"
      },
      {
        "duration": 238,
        "start_time": "2023-06-09T15:39:13.028Z"
      },
      {
        "duration": 11,
        "start_time": "2023-06-09T15:39:43.770Z"
      },
      {
        "duration": 93,
        "start_time": "2023-06-09T15:39:47.677Z"
      },
      {
        "duration": 9,
        "start_time": "2023-06-09T15:39:50.402Z"
      },
      {
        "duration": 9,
        "start_time": "2023-06-09T15:39:56.134Z"
      },
      {
        "duration": 8,
        "start_time": "2023-06-09T15:39:58.852Z"
      },
      {
        "duration": 29,
        "start_time": "2023-06-09T15:40:14.994Z"
      },
      {
        "duration": 26,
        "start_time": "2023-06-09T15:52:22.393Z"
      },
      {
        "duration": 135,
        "start_time": "2023-06-09T15:52:36.370Z"
      },
      {
        "duration": 316,
        "start_time": "2023-06-10T09:45:23.263Z"
      },
      {
        "duration": 2622,
        "start_time": "2023-06-10T09:45:23.580Z"
      },
      {
        "duration": 17,
        "start_time": "2023-06-10T09:45:26.203Z"
      },
      {
        "duration": 106,
        "start_time": "2023-06-10T09:45:26.221Z"
      },
      {
        "duration": 703,
        "start_time": "2023-06-10T09:45:26.329Z"
      },
      {
        "duration": 20,
        "start_time": "2023-06-10T09:45:27.033Z"
      },
      {
        "duration": 26,
        "start_time": "2023-06-10T09:45:27.054Z"
      },
      {
        "duration": 4,
        "start_time": "2023-06-10T09:45:27.081Z"
      },
      {
        "duration": 41,
        "start_time": "2023-06-10T09:45:27.106Z"
      },
      {
        "duration": 59,
        "start_time": "2023-06-10T09:45:27.149Z"
      },
      {
        "duration": 52,
        "start_time": "2023-06-10T09:45:27.209Z"
      },
      {
        "duration": 59,
        "start_time": "2023-06-10T09:45:27.262Z"
      },
      {
        "duration": 486,
        "start_time": "2023-06-10T09:45:27.323Z"
      },
      {
        "duration": 217,
        "start_time": "2023-06-10T09:45:27.812Z"
      },
      {
        "duration": 8,
        "start_time": "2023-06-10T09:45:40.994Z"
      },
      {
        "duration": 29,
        "start_time": "2023-06-10T09:46:02.261Z"
      },
      {
        "duration": 93,
        "start_time": "2023-06-10T09:46:08.849Z"
      },
      {
        "duration": 9,
        "start_time": "2023-06-10T09:46:25.152Z"
      },
      {
        "duration": 21,
        "start_time": "2023-06-10T09:47:50.283Z"
      },
      {
        "duration": 5,
        "start_time": "2023-06-10T09:47:57.007Z"
      },
      {
        "duration": 375,
        "start_time": "2023-06-10T09:48:24.983Z"
      },
      {
        "duration": 642,
        "start_time": "2023-06-10T09:48:25.360Z"
      },
      {
        "duration": 18,
        "start_time": "2023-06-10T09:48:26.004Z"
      },
      {
        "duration": 112,
        "start_time": "2023-06-10T09:48:26.023Z"
      },
      {
        "duration": 691,
        "start_time": "2023-06-10T09:48:26.138Z"
      },
      {
        "duration": 21,
        "start_time": "2023-06-10T09:48:26.831Z"
      },
      {
        "duration": 31,
        "start_time": "2023-06-10T09:48:26.853Z"
      },
      {
        "duration": 4,
        "start_time": "2023-06-10T09:48:26.886Z"
      },
      {
        "duration": 55,
        "start_time": "2023-06-10T09:48:26.891Z"
      },
      {
        "duration": 63,
        "start_time": "2023-06-10T09:48:26.948Z"
      },
      {
        "duration": 52,
        "start_time": "2023-06-10T09:48:27.013Z"
      },
      {
        "duration": 57,
        "start_time": "2023-06-10T09:48:27.067Z"
      },
      {
        "duration": 336,
        "start_time": "2023-06-10T09:48:27.125Z"
      },
      {
        "duration": 227,
        "start_time": "2023-06-10T09:48:27.463Z"
      },
      {
        "duration": 16,
        "start_time": "2023-06-10T09:48:27.692Z"
      },
      {
        "duration": 23,
        "start_time": "2023-06-10T09:48:27.709Z"
      },
      {
        "duration": 42,
        "start_time": "2023-06-10T09:48:27.733Z"
      },
      {
        "duration": 31,
        "start_time": "2023-06-10T09:48:27.776Z"
      },
      {
        "duration": 36,
        "start_time": "2023-06-10T09:48:27.808Z"
      },
      {
        "duration": 15,
        "start_time": "2023-06-10T09:48:41.761Z"
      },
      {
        "duration": 21,
        "start_time": "2023-06-10T09:48:59.360Z"
      },
      {
        "duration": 15,
        "start_time": "2023-06-10T09:49:00.179Z"
      },
      {
        "duration": 96,
        "start_time": "2023-06-10T09:57:46.277Z"
      },
      {
        "duration": 15,
        "start_time": "2023-06-10T09:58:53.821Z"
      },
      {
        "duration": 15,
        "start_time": "2023-06-10T09:59:26.904Z"
      },
      {
        "duration": 81,
        "start_time": "2023-06-10T10:24:02.503Z"
      },
      {
        "duration": 11,
        "start_time": "2023-06-10T10:24:44.982Z"
      },
      {
        "duration": 25,
        "start_time": "2023-06-10T10:25:19.460Z"
      },
      {
        "duration": 37,
        "start_time": "2023-06-10T10:26:34.668Z"
      },
      {
        "duration": 15,
        "start_time": "2023-06-10T10:26:37.266Z"
      },
      {
        "duration": 15,
        "start_time": "2023-06-10T10:26:54.238Z"
      },
      {
        "duration": 79,
        "start_time": "2023-06-10T10:27:44.186Z"
      },
      {
        "duration": 456,
        "start_time": "2023-06-10T10:41:24.520Z"
      },
      {
        "duration": 50,
        "start_time": "2023-06-10T10:48:48.534Z"
      },
      {
        "duration": 136,
        "start_time": "2023-06-10T10:49:30.440Z"
      },
      {
        "duration": 9,
        "start_time": "2023-06-10T10:49:34.077Z"
      },
      {
        "duration": 149,
        "start_time": "2023-06-10T10:49:55.223Z"
      },
      {
        "duration": 15,
        "start_time": "2023-06-10T10:50:21.713Z"
      },
      {
        "duration": 120,
        "start_time": "2023-06-10T10:50:45.729Z"
      },
      {
        "duration": 278,
        "start_time": "2023-06-10T10:53:50.684Z"
      },
      {
        "duration": 96,
        "start_time": "2023-06-10T10:54:19.441Z"
      },
      {
        "duration": 15,
        "start_time": "2023-06-10T10:54:45.764Z"
      },
      {
        "duration": 285,
        "start_time": "2023-06-10T10:56:50.320Z"
      },
      {
        "duration": 24,
        "start_time": "2023-06-10T10:57:04.271Z"
      },
      {
        "duration": 95,
        "start_time": "2023-06-10T10:57:51.590Z"
      },
      {
        "duration": 187,
        "start_time": "2023-06-10T10:59:22.999Z"
      },
      {
        "duration": 20,
        "start_time": "2023-06-10T11:00:05.874Z"
      },
      {
        "duration": 7,
        "start_time": "2023-06-10T11:00:36.670Z"
      },
      {
        "duration": 25,
        "start_time": "2023-06-10T11:00:48.332Z"
      },
      {
        "duration": 18,
        "start_time": "2023-06-10T11:02:34.379Z"
      },
      {
        "duration": 31,
        "start_time": "2023-06-10T11:02:57.732Z"
      },
      {
        "duration": 42,
        "start_time": "2023-06-10T11:04:16.449Z"
      },
      {
        "duration": 8,
        "start_time": "2023-06-10T11:06:38.461Z"
      },
      {
        "duration": 9,
        "start_time": "2023-06-10T11:06:42.951Z"
      },
      {
        "duration": 9,
        "start_time": "2023-06-10T11:06:50.080Z"
      },
      {
        "duration": 10,
        "start_time": "2023-06-10T11:06:56.625Z"
      },
      {
        "duration": 6,
        "start_time": "2023-06-10T11:07:59.457Z"
      },
      {
        "duration": 6,
        "start_time": "2023-06-10T11:08:05.202Z"
      },
      {
        "duration": 7,
        "start_time": "2023-06-10T11:08:12.924Z"
      },
      {
        "duration": 8,
        "start_time": "2023-06-10T11:08:42.635Z"
      },
      {
        "duration": 6,
        "start_time": "2023-06-10T11:08:45.687Z"
      },
      {
        "duration": 10,
        "start_time": "2023-06-10T11:09:11.676Z"
      },
      {
        "duration": 276,
        "start_time": "2023-06-10T11:09:52.821Z"
      },
      {
        "duration": 254,
        "start_time": "2023-06-10T11:09:59.604Z"
      },
      {
        "duration": 38,
        "start_time": "2023-06-10T11:10:30.461Z"
      },
      {
        "duration": 255,
        "start_time": "2023-06-10T11:10:31.224Z"
      },
      {
        "duration": 8,
        "start_time": "2023-06-10T11:12:58.324Z"
      },
      {
        "duration": 4,
        "start_time": "2023-06-10T11:13:34.658Z"
      },
      {
        "duration": 246,
        "start_time": "2023-06-10T11:14:17.436Z"
      },
      {
        "duration": 150,
        "start_time": "2023-06-10T11:14:28.008Z"
      },
      {
        "duration": 235,
        "start_time": "2023-06-10T11:14:31.656Z"
      },
      {
        "duration": 4,
        "start_time": "2023-06-10T11:15:52.544Z"
      },
      {
        "duration": 8,
        "start_time": "2023-06-10T11:15:57.667Z"
      },
      {
        "duration": 8,
        "start_time": "2023-06-10T11:16:02.189Z"
      },
      {
        "duration": 9,
        "start_time": "2023-06-10T11:16:10.226Z"
      },
      {
        "duration": 4,
        "start_time": "2023-06-10T11:16:26.341Z"
      },
      {
        "duration": 3,
        "start_time": "2023-06-10T11:16:31.536Z"
      },
      {
        "duration": 3,
        "start_time": "2023-06-10T11:16:35.274Z"
      },
      {
        "duration": 766,
        "start_time": "2023-06-10T11:19:24.334Z"
      },
      {
        "duration": 745,
        "start_time": "2023-06-10T11:19:25.102Z"
      },
      {
        "duration": 18,
        "start_time": "2023-06-10T11:19:25.848Z"
      },
      {
        "duration": 178,
        "start_time": "2023-06-10T11:19:25.867Z"
      },
      {
        "duration": 844,
        "start_time": "2023-06-10T11:19:26.048Z"
      },
      {
        "duration": 47,
        "start_time": "2023-06-10T11:19:26.894Z"
      },
      {
        "duration": 29,
        "start_time": "2023-06-10T11:19:26.943Z"
      },
      {
        "duration": 4,
        "start_time": "2023-06-10T11:19:26.974Z"
      },
      {
        "duration": 53,
        "start_time": "2023-06-10T11:19:26.979Z"
      },
      {
        "duration": 68,
        "start_time": "2023-06-10T11:19:27.034Z"
      },
      {
        "duration": 69,
        "start_time": "2023-06-10T11:19:27.104Z"
      },
      {
        "duration": 57,
        "start_time": "2023-06-10T11:19:27.175Z"
      },
      {
        "duration": 448,
        "start_time": "2023-06-10T11:19:27.233Z"
      },
      {
        "duration": 244,
        "start_time": "2023-06-10T11:19:31.807Z"
      },
      {
        "duration": 8,
        "start_time": "2023-06-10T11:19:42.270Z"
      },
      {
        "duration": 9,
        "start_time": "2023-06-10T11:19:46.031Z"
      },
      {
        "duration": 14,
        "start_time": "2023-06-10T11:19:53.212Z"
      },
      {
        "duration": 9,
        "start_time": "2023-06-10T11:19:57.142Z"
      },
      {
        "duration": 11,
        "start_time": "2023-06-10T11:20:03.032Z"
      },
      {
        "duration": 11,
        "start_time": "2023-06-10T11:20:06.944Z"
      },
      {
        "duration": 11,
        "start_time": "2023-06-10T11:20:09.809Z"
      },
      {
        "duration": 8,
        "start_time": "2023-06-10T11:20:19.495Z"
      },
      {
        "duration": 8,
        "start_time": "2023-06-10T11:20:23.352Z"
      },
      {
        "duration": 9,
        "start_time": "2023-06-10T11:20:30.775Z"
      },
      {
        "duration": 32,
        "start_time": "2023-06-10T11:20:40.053Z"
      },
      {
        "duration": 9,
        "start_time": "2023-06-10T11:21:16.885Z"
      },
      {
        "duration": 36,
        "start_time": "2023-06-10T11:21:45.385Z"
      },
      {
        "duration": 45,
        "start_time": "2023-06-10T11:25:44.145Z"
      },
      {
        "duration": 10,
        "start_time": "2023-06-10T11:25:46.084Z"
      },
      {
        "duration": 226,
        "start_time": "2023-06-10T11:26:03.477Z"
      },
      {
        "duration": 831,
        "start_time": "2023-06-10T11:27:28.950Z"
      },
      {
        "duration": 860,
        "start_time": "2023-06-10T11:27:29.783Z"
      },
      {
        "duration": 20,
        "start_time": "2023-06-10T11:27:30.648Z"
      },
      {
        "duration": 157,
        "start_time": "2023-06-10T11:27:30.669Z"
      },
      {
        "duration": 931,
        "start_time": "2023-06-10T11:27:30.830Z"
      },
      {
        "duration": 23,
        "start_time": "2023-06-10T11:27:31.763Z"
      },
      {
        "duration": 67,
        "start_time": "2023-06-10T11:27:31.788Z"
      },
      {
        "duration": 14,
        "start_time": "2023-06-10T11:27:31.857Z"
      },
      {
        "duration": 87,
        "start_time": "2023-06-10T11:27:31.872Z"
      },
      {
        "duration": 66,
        "start_time": "2023-06-10T11:27:31.961Z"
      },
      {
        "duration": 63,
        "start_time": "2023-06-10T11:27:32.032Z"
      },
      {
        "duration": 56,
        "start_time": "2023-06-10T11:27:32.096Z"
      },
      {
        "duration": 463,
        "start_time": "2023-06-10T11:27:32.154Z"
      },
      {
        "duration": 286,
        "start_time": "2023-06-10T11:27:32.626Z"
      },
      {
        "duration": 12,
        "start_time": "2023-06-10T11:27:32.918Z"
      },
      {
        "duration": 36,
        "start_time": "2023-06-10T11:27:32.932Z"
      },
      {
        "duration": 50,
        "start_time": "2023-06-10T11:27:32.970Z"
      },
      {
        "duration": 251,
        "start_time": "2023-06-10T11:27:33.024Z"
      },
      {
        "duration": 17,
        "start_time": "2023-06-10T11:27:33.276Z"
      },
      {
        "duration": 41,
        "start_time": "2023-06-10T11:27:33.294Z"
      },
      {
        "duration": 17,
        "start_time": "2023-06-10T11:27:33.338Z"
      },
      {
        "duration": 117,
        "start_time": "2023-06-10T11:27:33.357Z"
      },
      {
        "duration": 18,
        "start_time": "2023-06-10T11:27:33.476Z"
      },
      {
        "duration": 30,
        "start_time": "2023-06-10T11:27:33.496Z"
      },
      {
        "duration": 23,
        "start_time": "2023-06-10T11:27:33.528Z"
      },
      {
        "duration": 39,
        "start_time": "2023-06-10T11:27:33.553Z"
      },
      {
        "duration": 32,
        "start_time": "2023-06-10T11:27:33.594Z"
      },
      {
        "duration": 106,
        "start_time": "2023-06-10T11:27:33.628Z"
      },
      {
        "duration": 108,
        "start_time": "2023-06-10T11:27:33.736Z"
      },
      {
        "duration": 288,
        "start_time": "2023-06-10T11:27:33.846Z"
      },
      {
        "duration": 17,
        "start_time": "2023-06-10T11:27:34.136Z"
      },
      {
        "duration": 284,
        "start_time": "2023-06-10T11:27:34.154Z"
      },
      {
        "duration": 15,
        "start_time": "2023-06-10T11:27:34.440Z"
      },
      {
        "duration": 103,
        "start_time": "2023-06-10T11:27:34.456Z"
      },
      {
        "duration": 195,
        "start_time": "2023-06-10T11:27:34.561Z"
      },
      {
        "duration": 18,
        "start_time": "2023-06-10T11:27:34.757Z"
      },
      {
        "duration": 7,
        "start_time": "2023-06-10T11:27:34.776Z"
      },
      {
        "duration": 36,
        "start_time": "2023-06-10T11:27:34.785Z"
      },
      {
        "duration": 160,
        "start_time": "2023-06-10T11:27:34.826Z"
      },
      {
        "duration": 52,
        "start_time": "2023-06-10T11:27:34.987Z"
      },
      {
        "duration": 248,
        "start_time": "2023-06-10T11:27:35.042Z"
      },
      {
        "duration": 9,
        "start_time": "2023-06-10T11:27:40.422Z"
      },
      {
        "duration": 4,
        "start_time": "2023-06-10T11:27:41.795Z"
      },
      {
        "duration": 20,
        "start_time": "2023-06-10T11:34:19.726Z"
      },
      {
        "duration": 9,
        "start_time": "2023-06-10T11:34:27.362Z"
      },
      {
        "duration": 868,
        "start_time": "2023-06-12T10:46:45.809Z"
      },
      {
        "duration": 1047,
        "start_time": "2023-06-12T10:46:46.679Z"
      },
      {
        "duration": 19,
        "start_time": "2023-06-12T10:46:47.728Z"
      },
      {
        "duration": 118,
        "start_time": "2023-06-12T10:46:47.749Z"
      },
      {
        "duration": 849,
        "start_time": "2023-06-12T10:46:47.869Z"
      },
      {
        "duration": 29,
        "start_time": "2023-06-12T10:46:48.720Z"
      },
      {
        "duration": 27,
        "start_time": "2023-06-12T10:46:48.751Z"
      },
      {
        "duration": 7,
        "start_time": "2023-06-12T10:46:48.780Z"
      },
      {
        "duration": 66,
        "start_time": "2023-06-12T10:46:48.788Z"
      },
      {
        "duration": 63,
        "start_time": "2023-06-12T10:46:48.857Z"
      },
      {
        "duration": 78,
        "start_time": "2023-06-12T10:46:48.921Z"
      },
      {
        "duration": 72,
        "start_time": "2023-06-12T10:46:49.000Z"
      },
      {
        "duration": 671,
        "start_time": "2023-06-12T10:46:49.075Z"
      },
      {
        "duration": 292,
        "start_time": "2023-06-12T10:46:49.749Z"
      },
      {
        "duration": 10,
        "start_time": "2023-06-12T10:46:50.043Z"
      },
      {
        "duration": 36,
        "start_time": "2023-06-12T10:46:50.055Z"
      },
      {
        "duration": 80,
        "start_time": "2023-06-12T10:46:50.093Z"
      },
      {
        "duration": 256,
        "start_time": "2023-06-12T10:46:50.175Z"
      },
      {
        "duration": 20,
        "start_time": "2023-06-12T10:46:50.432Z"
      },
      {
        "duration": 22,
        "start_time": "2023-06-12T10:46:50.454Z"
      },
      {
        "duration": 19,
        "start_time": "2023-06-12T10:46:50.478Z"
      },
      {
        "duration": 114,
        "start_time": "2023-06-12T10:46:50.499Z"
      },
      {
        "duration": 26,
        "start_time": "2023-06-12T10:46:50.615Z"
      },
      {
        "duration": 16,
        "start_time": "2023-06-12T10:46:50.643Z"
      },
      {
        "duration": 15,
        "start_time": "2023-06-12T10:46:50.661Z"
      },
      {
        "duration": 65,
        "start_time": "2023-06-12T10:46:50.678Z"
      },
      {
        "duration": 16,
        "start_time": "2023-06-12T10:46:50.745Z"
      },
      {
        "duration": 98,
        "start_time": "2023-06-12T10:46:50.764Z"
      },
      {
        "duration": 119,
        "start_time": "2023-06-12T10:46:50.863Z"
      },
      {
        "duration": 292,
        "start_time": "2023-06-12T10:46:50.984Z"
      },
      {
        "duration": 17,
        "start_time": "2023-06-12T10:46:51.278Z"
      },
      {
        "duration": 294,
        "start_time": "2023-06-12T10:46:51.296Z"
      },
      {
        "duration": 19,
        "start_time": "2023-06-12T10:46:51.591Z"
      },
      {
        "duration": 102,
        "start_time": "2023-06-12T10:46:51.612Z"
      },
      {
        "duration": 213,
        "start_time": "2023-06-12T10:46:51.716Z"
      },
      {
        "duration": 27,
        "start_time": "2023-06-12T10:46:51.931Z"
      },
      {
        "duration": 9,
        "start_time": "2023-06-12T10:46:51.960Z"
      },
      {
        "duration": 9,
        "start_time": "2023-06-12T10:46:51.970Z"
      },
      {
        "duration": 281,
        "start_time": "2023-06-12T10:46:51.981Z"
      },
      {
        "duration": 45,
        "start_time": "2023-06-12T10:46:52.264Z"
      },
      {
        "duration": 261,
        "start_time": "2023-06-12T10:46:52.310Z"
      },
      {
        "duration": 4,
        "start_time": "2023-06-12T10:46:52.573Z"
      },
      {
        "duration": 558,
        "start_time": "2023-06-12T10:47:48.280Z"
      },
      {
        "duration": 16,
        "start_time": "2023-06-12T10:49:33.604Z"
      },
      {
        "duration": 17,
        "start_time": "2023-06-12T10:49:50.071Z"
      },
      {
        "duration": 13,
        "start_time": "2023-06-12T10:49:50.980Z"
      },
      {
        "duration": 17,
        "start_time": "2023-06-12T10:52:55.149Z"
      },
      {
        "duration": 63,
        "start_time": "2023-06-12T10:52:56.472Z"
      },
      {
        "duration": 3,
        "start_time": "2023-06-12T10:53:30.977Z"
      },
      {
        "duration": 3,
        "start_time": "2023-06-12T10:54:24.589Z"
      },
      {
        "duration": 3,
        "start_time": "2023-06-12T10:54:56.405Z"
      },
      {
        "duration": 3,
        "start_time": "2023-06-12T11:04:24.781Z"
      },
      {
        "duration": 11,
        "start_time": "2023-06-12T11:04:52.190Z"
      },
      {
        "duration": 2,
        "start_time": "2023-06-12T11:06:48.538Z"
      },
      {
        "duration": 10467,
        "start_time": "2023-06-12T11:07:31.272Z"
      },
      {
        "duration": 123,
        "start_time": "2023-06-12T11:13:54.836Z"
      },
      {
        "duration": 3,
        "start_time": "2023-06-12T11:14:42.882Z"
      },
      {
        "duration": 5,
        "start_time": "2023-06-12T11:14:49.788Z"
      },
      {
        "duration": 4,
        "start_time": "2023-06-12T11:15:15.315Z"
      },
      {
        "duration": 10282,
        "start_time": "2023-06-12T11:35:52.721Z"
      },
      {
        "duration": 4,
        "start_time": "2023-06-12T11:37:29.198Z"
      },
      {
        "duration": 2293,
        "start_time": "2023-06-12T11:40:59.887Z"
      },
      {
        "duration": 2780,
        "start_time": "2023-06-12T11:42:07.269Z"
      },
      {
        "duration": 3727,
        "start_time": "2023-06-12T11:55:15.255Z"
      },
      {
        "duration": 12,
        "start_time": "2023-06-12T13:48:16.854Z"
      },
      {
        "duration": 3655,
        "start_time": "2023-06-12T13:48:27.171Z"
      },
      {
        "duration": 10401,
        "start_time": "2023-06-12T13:50:17.258Z"
      },
      {
        "duration": 11,
        "start_time": "2023-06-12T13:52:21.152Z"
      },
      {
        "duration": 5,
        "start_time": "2023-06-12T13:52:26.141Z"
      },
      {
        "duration": 11,
        "start_time": "2023-06-12T13:56:25.552Z"
      },
      {
        "duration": 10308,
        "start_time": "2023-06-12T13:56:32.985Z"
      },
      {
        "duration": 5,
        "start_time": "2023-06-12T13:56:47.227Z"
      },
      {
        "duration": 4,
        "start_time": "2023-06-12T13:57:14.473Z"
      },
      {
        "duration": 3,
        "start_time": "2023-06-12T14:04:45.245Z"
      },
      {
        "duration": 251967,
        "start_time": "2023-06-12T14:04:52.883Z"
      },
      {
        "duration": 4,
        "start_time": "2023-06-12T14:10:10.216Z"
      },
      {
        "duration": 3,
        "start_time": "2023-06-12T14:10:19.887Z"
      },
      {
        "duration": 3,
        "start_time": "2023-06-12T14:10:26.116Z"
      },
      {
        "duration": 72,
        "start_time": "2023-06-12T14:12:04.106Z"
      },
      {
        "duration": 1130,
        "start_time": "2023-06-12T14:14:16.383Z"
      },
      {
        "duration": 891,
        "start_time": "2023-06-12T14:14:17.515Z"
      },
      {
        "duration": 50,
        "start_time": "2023-06-12T14:14:18.408Z"
      },
      {
        "duration": 145,
        "start_time": "2023-06-12T14:14:18.461Z"
      },
      {
        "duration": 972,
        "start_time": "2023-06-12T14:14:18.608Z"
      },
      {
        "duration": 28,
        "start_time": "2023-06-12T14:14:19.582Z"
      },
      {
        "duration": 57,
        "start_time": "2023-06-12T14:14:19.612Z"
      },
      {
        "duration": 5,
        "start_time": "2023-06-12T14:14:19.670Z"
      },
      {
        "duration": 72,
        "start_time": "2023-06-12T14:14:19.677Z"
      },
      {
        "duration": 74,
        "start_time": "2023-06-12T14:14:19.753Z"
      },
      {
        "duration": 84,
        "start_time": "2023-06-12T14:14:19.829Z"
      },
      {
        "duration": 84,
        "start_time": "2023-06-12T14:14:19.915Z"
      },
      {
        "duration": 467,
        "start_time": "2023-06-12T14:14:20.001Z"
      },
      {
        "duration": 283,
        "start_time": "2023-06-12T14:14:20.470Z"
      },
      {
        "duration": 9,
        "start_time": "2023-06-12T14:14:20.755Z"
      },
      {
        "duration": 33,
        "start_time": "2023-06-12T14:14:20.766Z"
      },
      {
        "duration": 69,
        "start_time": "2023-06-12T14:14:20.801Z"
      },
      {
        "duration": 266,
        "start_time": "2023-06-12T14:14:20.872Z"
      },
      {
        "duration": 18,
        "start_time": "2023-06-12T14:14:21.140Z"
      },
      {
        "duration": 27,
        "start_time": "2023-06-12T14:14:21.161Z"
      },
      {
        "duration": 19,
        "start_time": "2023-06-12T14:14:21.190Z"
      },
      {
        "duration": 119,
        "start_time": "2023-06-12T14:14:21.210Z"
      },
      {
        "duration": 18,
        "start_time": "2023-06-12T14:14:21.330Z"
      },
      {
        "duration": 21,
        "start_time": "2023-06-12T14:14:21.350Z"
      },
      {
        "duration": 13,
        "start_time": "2023-06-12T14:14:21.373Z"
      },
      {
        "duration": 69,
        "start_time": "2023-06-12T14:14:21.388Z"
      },
      {
        "duration": 19,
        "start_time": "2023-06-12T14:14:21.459Z"
      },
      {
        "duration": 121,
        "start_time": "2023-06-12T14:14:21.482Z"
      },
      {
        "duration": 227,
        "start_time": "2023-06-12T14:14:21.605Z"
      },
      {
        "duration": 321,
        "start_time": "2023-06-12T14:14:21.834Z"
      },
      {
        "duration": 19,
        "start_time": "2023-06-12T14:14:22.158Z"
      },
      {
        "duration": 293,
        "start_time": "2023-06-12T14:14:22.179Z"
      },
      {
        "duration": 20,
        "start_time": "2023-06-12T14:14:22.474Z"
      },
      {
        "duration": 109,
        "start_time": "2023-06-12T14:14:22.496Z"
      },
      {
        "duration": 209,
        "start_time": "2023-06-12T14:14:22.607Z"
      },
      {
        "duration": 33,
        "start_time": "2023-06-12T14:14:22.818Z"
      },
      {
        "duration": 9,
        "start_time": "2023-06-12T14:14:22.853Z"
      },
      {
        "duration": 14,
        "start_time": "2023-06-12T14:14:22.864Z"
      },
      {
        "duration": 192,
        "start_time": "2023-06-12T14:14:22.879Z"
      },
      {
        "duration": 53,
        "start_time": "2023-06-12T14:14:23.073Z"
      },
      {
        "duration": 267,
        "start_time": "2023-06-12T14:14:23.128Z"
      },
      {
        "duration": 4,
        "start_time": "2023-06-12T14:14:23.397Z"
      },
      {
        "duration": 42,
        "start_time": "2023-06-12T14:14:23.402Z"
      },
      {
        "duration": 11,
        "start_time": "2023-06-12T14:14:23.446Z"
      },
      {
        "duration": 19,
        "start_time": "2023-06-12T14:14:23.459Z"
      },
      {
        "duration": 82,
        "start_time": "2023-06-12T14:14:23.479Z"
      },
      {
        "duration": 3,
        "start_time": "2023-06-12T14:14:23.563Z"
      },
      {
        "duration": 13,
        "start_time": "2023-06-12T14:14:23.568Z"
      },
      {
        "duration": 11,
        "start_time": "2023-06-12T14:14:26.444Z"
      },
      {
        "duration": 3,
        "start_time": "2023-06-12T14:14:27.326Z"
      },
      {
        "duration": 55014,
        "start_time": "2023-06-12T14:14:32.741Z"
      },
      {
        "duration": 3,
        "start_time": "2023-06-12T14:16:00.500Z"
      },
      {
        "duration": 51117,
        "start_time": "2023-06-12T14:16:04.682Z"
      },
      {
        "duration": 55859,
        "start_time": "2023-06-12T14:17:23.742Z"
      },
      {
        "duration": 4,
        "start_time": "2023-06-12T14:18:32.633Z"
      },
      {
        "duration": 4,
        "start_time": "2023-06-12T14:19:35.379Z"
      },
      {
        "duration": 255,
        "start_time": "2023-06-12T14:19:52.547Z"
      },
      {
        "duration": 5,
        "start_time": "2023-06-12T14:19:53.600Z"
      },
      {
        "duration": 99,
        "start_time": "2023-06-12T14:21:13.285Z"
      },
      {
        "duration": 8,
        "start_time": "2023-06-12T14:21:46.204Z"
      },
      {
        "duration": 183321,
        "start_time": "2023-06-12T14:25:24.518Z"
      },
      {
        "duration": 5,
        "start_time": "2023-06-12T14:29:04.309Z"
      },
      {
        "duration": 41800,
        "start_time": "2023-06-12T14:30:26.203Z"
      },
      {
        "duration": 138412,
        "start_time": "2023-06-12T14:33:39.916Z"
      },
      {
        "duration": 4,
        "start_time": "2023-06-12T14:37:07.883Z"
      },
      {
        "duration": 5,
        "start_time": "2023-06-12T14:42:55.150Z"
      },
      {
        "duration": 4,
        "start_time": "2023-06-12T14:43:03.536Z"
      },
      {
        "duration": 61,
        "start_time": "2023-06-12T14:43:14.008Z"
      },
      {
        "duration": 12,
        "start_time": "2023-06-12T14:43:28.149Z"
      },
      {
        "duration": 69,
        "start_time": "2023-06-12T14:43:43.996Z"
      },
      {
        "duration": 4,
        "start_time": "2023-06-12T14:43:44.740Z"
      },
      {
        "duration": 32,
        "start_time": "2023-06-12T14:45:03.985Z"
      },
      {
        "duration": 4,
        "start_time": "2023-06-12T14:46:20.469Z"
      },
      {
        "duration": 19,
        "start_time": "2023-06-12T14:48:11.458Z"
      },
      {
        "duration": 7,
        "start_time": "2023-06-12T14:49:18.932Z"
      },
      {
        "duration": 8,
        "start_time": "2023-06-12T14:49:19.998Z"
      },
      {
        "duration": 4,
        "start_time": "2023-06-12T14:49:33.738Z"
      },
      {
        "duration": 42856,
        "start_time": "2023-06-12T14:51:32.746Z"
      },
      {
        "duration": 3,
        "start_time": "2023-06-12T14:53:14.368Z"
      },
      {
        "duration": 226,
        "start_time": "2023-06-12T14:53:15.995Z"
      },
      {
        "duration": 5,
        "start_time": "2023-06-12T14:53:21.657Z"
      },
      {
        "duration": 6,
        "start_time": "2023-06-12T14:53:43.938Z"
      },
      {
        "duration": 10,
        "start_time": "2023-06-12T14:53:56.378Z"
      },
      {
        "duration": 4,
        "start_time": "2023-06-12T14:54:01.515Z"
      },
      {
        "duration": 218,
        "start_time": "2023-06-12T14:54:24.824Z"
      },
      {
        "duration": 1169,
        "start_time": "2023-06-12T14:56:13.346Z"
      },
      {
        "duration": 771,
        "start_time": "2023-06-12T14:56:14.517Z"
      },
      {
        "duration": 20,
        "start_time": "2023-06-12T14:56:15.289Z"
      },
      {
        "duration": 117,
        "start_time": "2023-06-12T14:56:15.311Z"
      },
      {
        "duration": 890,
        "start_time": "2023-06-12T14:56:15.430Z"
      },
      {
        "duration": 27,
        "start_time": "2023-06-12T14:56:16.322Z"
      },
      {
        "duration": 30,
        "start_time": "2023-06-12T14:56:16.351Z"
      },
      {
        "duration": 4,
        "start_time": "2023-06-12T14:56:16.383Z"
      },
      {
        "duration": 73,
        "start_time": "2023-06-12T14:56:16.388Z"
      },
      {
        "duration": 79,
        "start_time": "2023-06-12T14:56:16.463Z"
      },
      {
        "duration": 70,
        "start_time": "2023-06-12T14:56:16.543Z"
      },
      {
        "duration": 77,
        "start_time": "2023-06-12T14:56:16.616Z"
      },
      {
        "duration": 425,
        "start_time": "2023-06-12T14:56:16.695Z"
      },
      {
        "duration": 250,
        "start_time": "2023-06-12T14:56:17.123Z"
      },
      {
        "duration": 9,
        "start_time": "2023-06-12T14:56:17.376Z"
      },
      {
        "duration": 27,
        "start_time": "2023-06-12T14:56:17.387Z"
      },
      {
        "duration": 73,
        "start_time": "2023-06-12T14:56:17.416Z"
      },
      {
        "duration": 274,
        "start_time": "2023-06-12T14:56:17.491Z"
      },
      {
        "duration": 17,
        "start_time": "2023-06-12T14:56:17.767Z"
      },
      {
        "duration": 26,
        "start_time": "2023-06-12T14:56:17.786Z"
      },
      {
        "duration": 32,
        "start_time": "2023-06-12T14:56:17.814Z"
      },
      {
        "duration": 110,
        "start_time": "2023-06-12T14:56:17.848Z"
      },
      {
        "duration": 17,
        "start_time": "2023-06-12T14:56:17.960Z"
      },
      {
        "duration": 18,
        "start_time": "2023-06-12T14:56:17.979Z"
      },
      {
        "duration": 22,
        "start_time": "2023-06-12T14:56:17.999Z"
      },
      {
        "duration": 70,
        "start_time": "2023-06-12T14:56:18.022Z"
      },
      {
        "duration": 22,
        "start_time": "2023-06-12T14:56:18.094Z"
      },
      {
        "duration": 113,
        "start_time": "2023-06-12T14:56:18.118Z"
      },
      {
        "duration": 278,
        "start_time": "2023-06-12T14:56:18.233Z"
      },
      {
        "duration": 303,
        "start_time": "2023-06-12T14:56:18.513Z"
      },
      {
        "duration": 17,
        "start_time": "2023-06-12T14:56:18.817Z"
      },
      {
        "duration": 276,
        "start_time": "2023-06-12T14:56:18.843Z"
      },
      {
        "duration": 21,
        "start_time": "2023-06-12T14:56:19.121Z"
      },
      {
        "duration": 102,
        "start_time": "2023-06-12T14:56:19.144Z"
      },
      {
        "duration": 213,
        "start_time": "2023-06-12T14:56:19.247Z"
      },
      {
        "duration": 21,
        "start_time": "2023-06-12T14:56:19.461Z"
      },
      {
        "duration": 7,
        "start_time": "2023-06-12T14:56:19.484Z"
      },
      {
        "duration": 7,
        "start_time": "2023-06-12T14:56:19.493Z"
      },
      {
        "duration": 187,
        "start_time": "2023-06-12T14:56:19.501Z"
      },
      {
        "duration": 60,
        "start_time": "2023-06-12T14:56:19.689Z"
      },
      {
        "duration": 255,
        "start_time": "2023-06-12T14:56:19.753Z"
      },
      {
        "duration": 3,
        "start_time": "2023-06-12T14:56:20.010Z"
      },
      {
        "duration": 50,
        "start_time": "2023-06-12T14:56:20.015Z"
      },
      {
        "duration": 11,
        "start_time": "2023-06-12T14:56:20.068Z"
      },
      {
        "duration": 80,
        "start_time": "2023-06-12T14:56:20.080Z"
      },
      {
        "duration": 4,
        "start_time": "2023-06-12T14:56:20.162Z"
      },
      {
        "duration": 38,
        "start_time": "2023-06-12T14:56:20.167Z"
      },
      {
        "duration": 3,
        "start_time": "2023-06-12T14:56:20.207Z"
      },
      {
        "duration": 30,
        "start_time": "2023-06-12T14:56:20.212Z"
      },
      {
        "duration": 9,
        "start_time": "2023-06-12T14:56:20.244Z"
      },
      {
        "duration": 10,
        "start_time": "2023-06-12T14:56:20.254Z"
      },
      {
        "duration": 15,
        "start_time": "2023-06-12T14:56:20.266Z"
      },
      {
        "duration": 10,
        "start_time": "2023-06-12T14:56:20.283Z"
      },
      {
        "duration": 43487,
        "start_time": "2023-06-12T14:56:20.295Z"
      },
      {
        "duration": 3,
        "start_time": "2023-06-12T14:57:03.784Z"
      },
      {
        "duration": 224,
        "start_time": "2023-06-12T14:57:03.789Z"
      },
      {
        "duration": 4,
        "start_time": "2023-06-12T14:57:04.014Z"
      },
      {
        "duration": 273294,
        "start_time": "2023-06-12T14:57:04.019Z"
      },
      {
        "duration": 4,
        "start_time": "2023-06-12T15:02:31.222Z"
      },
      {
        "duration": 332,
        "start_time": "2023-06-12T15:07:49.280Z"
      },
      {
        "duration": 242,
        "start_time": "2023-06-12T15:08:04.617Z"
      },
      {
        "duration": 271,
        "start_time": "2023-06-12T15:08:31.943Z"
      },
      {
        "duration": 270,
        "start_time": "2023-06-12T15:08:36.549Z"
      },
      {
        "duration": 243,
        "start_time": "2023-06-12T15:09:21.772Z"
      },
      {
        "duration": 236,
        "start_time": "2023-06-12T15:09:35.046Z"
      },
      {
        "duration": 78,
        "start_time": "2023-06-12T15:10:11.543Z"
      },
      {
        "duration": 233,
        "start_time": "2023-06-12T15:10:16.471Z"
      },
      {
        "duration": 271,
        "start_time": "2023-06-12T15:10:33.912Z"
      },
      {
        "duration": 10,
        "start_time": "2023-06-12T15:10:46.679Z"
      },
      {
        "duration": 245,
        "start_time": "2023-06-12T15:10:54.150Z"
      },
      {
        "duration": 114878,
        "start_time": "2023-06-12T15:11:00.007Z"
      },
      {
        "duration": 3,
        "start_time": "2023-06-12T15:15:22.661Z"
      },
      {
        "duration": 3,
        "start_time": "2023-06-12T15:16:16.221Z"
      },
      {
        "duration": 3,
        "start_time": "2023-06-12T15:16:38.946Z"
      },
      {
        "duration": 151431,
        "start_time": "2023-06-12T15:32:37.207Z"
      },
      {
        "duration": 4,
        "start_time": "2023-06-12T15:35:54.720Z"
      },
      {
        "duration": 3,
        "start_time": "2023-06-12T15:36:41.848Z"
      },
      {
        "duration": 546,
        "start_time": "2023-06-12T15:36:49.177Z"
      },
      {
        "duration": 2,
        "start_time": "2023-06-12T15:36:54.149Z"
      },
      {
        "duration": 11,
        "start_time": "2023-06-12T15:36:54.701Z"
      },
      {
        "duration": 3,
        "start_time": "2023-06-12T15:37:09.288Z"
      },
      {
        "duration": 200,
        "start_time": "2023-06-12T15:39:46.803Z"
      },
      {
        "duration": 63,
        "start_time": "2023-06-12T15:41:29.717Z"
      },
      {
        "duration": 87,
        "start_time": "2023-06-12T15:41:35.327Z"
      },
      {
        "duration": 117,
        "start_time": "2023-06-12T16:02:00.777Z"
      },
      {
        "duration": 1208,
        "start_time": "2023-06-13T09:46:57.299Z"
      },
      {
        "duration": 3292,
        "start_time": "2023-06-13T09:46:58.509Z"
      },
      {
        "duration": 19,
        "start_time": "2023-06-13T09:47:01.803Z"
      },
      {
        "duration": 160,
        "start_time": "2023-06-13T09:47:01.825Z"
      },
      {
        "duration": 905,
        "start_time": "2023-06-13T09:47:01.987Z"
      },
      {
        "duration": 25,
        "start_time": "2023-06-13T09:47:02.894Z"
      },
      {
        "duration": 36,
        "start_time": "2023-06-13T09:47:02.921Z"
      },
      {
        "duration": 3,
        "start_time": "2023-06-13T09:47:02.959Z"
      },
      {
        "duration": 67,
        "start_time": "2023-06-13T09:47:02.964Z"
      },
      {
        "duration": 65,
        "start_time": "2023-06-13T09:47:03.034Z"
      },
      {
        "duration": 61,
        "start_time": "2023-06-13T09:47:03.101Z"
      },
      {
        "duration": 67,
        "start_time": "2023-06-13T09:47:03.164Z"
      },
      {
        "duration": 627,
        "start_time": "2023-06-13T09:47:03.233Z"
      },
      {
        "duration": 340,
        "start_time": "2023-06-13T09:47:03.862Z"
      },
      {
        "duration": 11,
        "start_time": "2023-06-13T09:47:04.204Z"
      },
      {
        "duration": 42,
        "start_time": "2023-06-13T09:47:04.218Z"
      },
      {
        "duration": 66,
        "start_time": "2023-06-13T09:47:04.262Z"
      },
      {
        "duration": 343,
        "start_time": "2023-06-13T09:47:04.330Z"
      },
      {
        "duration": 24,
        "start_time": "2023-06-13T09:47:04.678Z"
      },
      {
        "duration": 42,
        "start_time": "2023-06-13T09:47:04.704Z"
      },
      {
        "duration": 42,
        "start_time": "2023-06-13T09:47:04.748Z"
      },
      {
        "duration": 155,
        "start_time": "2023-06-13T09:47:04.792Z"
      },
      {
        "duration": 18,
        "start_time": "2023-06-13T09:47:04.949Z"
      },
      {
        "duration": 37,
        "start_time": "2023-06-13T09:47:04.969Z"
      },
      {
        "duration": 27,
        "start_time": "2023-06-13T09:47:05.008Z"
      },
      {
        "duration": 105,
        "start_time": "2023-06-13T09:47:05.036Z"
      },
      {
        "duration": 19,
        "start_time": "2023-06-13T09:47:05.143Z"
      },
      {
        "duration": 127,
        "start_time": "2023-06-13T09:47:05.166Z"
      },
      {
        "duration": 130,
        "start_time": "2023-06-13T09:47:05.295Z"
      },
      {
        "duration": 294,
        "start_time": "2023-06-13T09:47:05.427Z"
      },
      {
        "duration": 19,
        "start_time": "2023-06-13T09:47:05.723Z"
      },
      {
        "duration": 295,
        "start_time": "2023-06-13T09:47:05.744Z"
      },
      {
        "duration": 18,
        "start_time": "2023-06-13T09:47:06.040Z"
      },
      {
        "duration": 129,
        "start_time": "2023-06-13T09:47:06.060Z"
      },
      {
        "duration": 211,
        "start_time": "2023-06-13T09:47:06.191Z"
      },
      {
        "duration": 20,
        "start_time": "2023-06-13T09:47:06.404Z"
      },
      {
        "duration": 8,
        "start_time": "2023-06-13T09:47:06.426Z"
      },
      {
        "duration": 8,
        "start_time": "2023-06-13T09:47:06.435Z"
      },
      {
        "duration": 196,
        "start_time": "2023-06-13T09:47:06.445Z"
      },
      {
        "duration": 56,
        "start_time": "2023-06-13T09:47:06.642Z"
      },
      {
        "duration": 287,
        "start_time": "2023-06-13T09:47:06.699Z"
      },
      {
        "duration": 4,
        "start_time": "2023-06-13T09:47:06.988Z"
      },
      {
        "duration": 25,
        "start_time": "2023-06-13T09:47:06.993Z"
      },
      {
        "duration": 11,
        "start_time": "2023-06-13T09:47:07.019Z"
      },
      {
        "duration": 76,
        "start_time": "2023-06-13T09:47:07.032Z"
      },
      {
        "duration": 4,
        "start_time": "2023-06-13T09:47:07.110Z"
      },
      {
        "duration": 24,
        "start_time": "2023-06-13T09:47:07.115Z"
      },
      {
        "duration": 3,
        "start_time": "2023-06-13T09:47:07.141Z"
      },
      {
        "duration": 37,
        "start_time": "2023-06-13T09:47:07.146Z"
      },
      {
        "duration": 7,
        "start_time": "2023-06-13T09:47:07.185Z"
      },
      {
        "duration": 12,
        "start_time": "2023-06-13T09:47:07.193Z"
      },
      {
        "duration": 11,
        "start_time": "2023-06-13T09:47:07.206Z"
      },
      {
        "duration": 5,
        "start_time": "2023-06-13T09:47:07.219Z"
      },
      {
        "duration": 42567,
        "start_time": "2023-06-13T09:47:07.225Z"
      },
      {
        "duration": 4,
        "start_time": "2023-06-13T09:47:49.794Z"
      },
      {
        "duration": 253,
        "start_time": "2023-06-13T09:47:49.800Z"
      },
      {
        "duration": 4,
        "start_time": "2023-06-13T09:47:50.055Z"
      },
      {
        "duration": 275873,
        "start_time": "2023-06-13T09:47:50.061Z"
      },
      {
        "duration": 4,
        "start_time": "2023-06-13T09:52:25.935Z"
      },
      {
        "duration": 135922,
        "start_time": "2023-06-13T09:52:25.940Z"
      },
      {
        "duration": 3,
        "start_time": "2023-06-13T09:54:41.864Z"
      },
      {
        "duration": 6,
        "start_time": "2023-06-13T09:54:41.868Z"
      },
      {
        "duration": 483,
        "start_time": "2023-06-13T09:54:41.884Z"
      },
      {
        "duration": 10,
        "start_time": "2023-06-13T09:54:42.369Z"
      },
      {
        "duration": 3,
        "start_time": "2023-06-13T09:57:38.408Z"
      },
      {
        "duration": 1189,
        "start_time": "2023-06-13T13:39:51.094Z"
      },
      {
        "duration": 4970,
        "start_time": "2023-06-13T13:39:52.285Z"
      },
      {
        "duration": 18,
        "start_time": "2023-06-13T13:39:57.257Z"
      },
      {
        "duration": 118,
        "start_time": "2023-06-13T13:39:57.276Z"
      },
      {
        "duration": 845,
        "start_time": "2023-06-13T13:39:57.396Z"
      },
      {
        "duration": 26,
        "start_time": "2023-06-13T13:39:58.243Z"
      },
      {
        "duration": 24,
        "start_time": "2023-06-13T13:39:58.271Z"
      },
      {
        "duration": 30,
        "start_time": "2023-06-13T13:39:58.296Z"
      },
      {
        "duration": 58,
        "start_time": "2023-06-13T13:39:58.332Z"
      },
      {
        "duration": 64,
        "start_time": "2023-06-13T13:39:58.392Z"
      },
      {
        "duration": 73,
        "start_time": "2023-06-13T13:39:58.457Z"
      },
      {
        "duration": 58,
        "start_time": "2023-06-13T13:39:58.532Z"
      },
      {
        "duration": 738,
        "start_time": "2023-06-13T13:39:58.592Z"
      },
      {
        "duration": 281,
        "start_time": "2023-06-13T13:39:59.334Z"
      },
      {
        "duration": 16,
        "start_time": "2023-06-13T13:39:59.621Z"
      },
      {
        "duration": 60,
        "start_time": "2023-06-13T13:39:59.638Z"
      },
      {
        "duration": 61,
        "start_time": "2023-06-13T13:39:59.700Z"
      },
      {
        "duration": 360,
        "start_time": "2023-06-13T13:39:59.762Z"
      },
      {
        "duration": 35,
        "start_time": "2023-06-13T13:40:00.127Z"
      },
      {
        "duration": 63,
        "start_time": "2023-06-13T13:40:00.165Z"
      },
      {
        "duration": 52,
        "start_time": "2023-06-13T13:40:00.236Z"
      },
      {
        "duration": 174,
        "start_time": "2023-06-13T13:40:00.289Z"
      },
      {
        "duration": 17,
        "start_time": "2023-06-13T13:40:00.468Z"
      },
      {
        "duration": 46,
        "start_time": "2023-06-13T13:40:00.487Z"
      },
      {
        "duration": 35,
        "start_time": "2023-06-13T13:40:00.538Z"
      },
      {
        "duration": 162,
        "start_time": "2023-06-13T13:40:00.575Z"
      },
      {
        "duration": 22,
        "start_time": "2023-06-13T13:40:00.750Z"
      },
      {
        "duration": 194,
        "start_time": "2023-06-13T13:40:00.774Z"
      },
      {
        "duration": 236,
        "start_time": "2023-06-13T13:40:00.970Z"
      },
      {
        "duration": 353,
        "start_time": "2023-06-13T13:40:01.207Z"
      },
      {
        "duration": 18,
        "start_time": "2023-06-13T13:40:01.563Z"
      },
      {
        "duration": 409,
        "start_time": "2023-06-13T13:40:01.583Z"
      },
      {
        "duration": 37,
        "start_time": "2023-06-13T13:40:01.998Z"
      },
      {
        "duration": 216,
        "start_time": "2023-06-13T13:40:02.037Z"
      },
      {
        "duration": 296,
        "start_time": "2023-06-13T13:40:02.258Z"
      },
      {
        "duration": 33,
        "start_time": "2023-06-13T13:40:02.559Z"
      },
      {
        "duration": 268,
        "start_time": "2023-06-13T13:40:02.593Z"
      },
      {
        "duration": 48,
        "start_time": "2023-06-13T13:40:02.863Z"
      },
      {
        "duration": 271,
        "start_time": "2023-06-13T13:40:02.912Z"
      },
      {
        "duration": 55,
        "start_time": "2023-06-13T13:40:03.185Z"
      },
      {
        "duration": 318,
        "start_time": "2023-06-13T13:40:03.251Z"
      },
      {
        "duration": 3,
        "start_time": "2023-06-13T13:40:03.570Z"
      },
      {
        "duration": 55,
        "start_time": "2023-06-13T13:40:03.574Z"
      },
      {
        "duration": 19,
        "start_time": "2023-06-13T13:40:03.637Z"
      },
      {
        "duration": 87,
        "start_time": "2023-06-13T13:40:03.658Z"
      },
      {
        "duration": 7,
        "start_time": "2023-06-13T13:40:03.747Z"
      },
      {
        "duration": 27,
        "start_time": "2023-06-13T13:40:03.756Z"
      },
      {
        "duration": 4,
        "start_time": "2023-06-13T13:40:03.785Z"
      },
      {
        "duration": 20,
        "start_time": "2023-06-13T13:40:03.791Z"
      },
      {
        "duration": 11,
        "start_time": "2023-06-13T13:40:03.813Z"
      },
      {
        "duration": 12,
        "start_time": "2023-06-13T13:40:03.828Z"
      },
      {
        "duration": 18,
        "start_time": "2023-06-13T13:40:03.842Z"
      },
      {
        "duration": 3,
        "start_time": "2023-06-13T13:40:03.862Z"
      },
      {
        "duration": 46613,
        "start_time": "2023-06-13T13:40:03.867Z"
      },
      {
        "duration": 4,
        "start_time": "2023-06-13T13:40:50.481Z"
      },
      {
        "duration": 261,
        "start_time": "2023-06-13T13:40:50.487Z"
      },
      {
        "duration": 4,
        "start_time": "2023-06-13T13:40:50.757Z"
      },
      {
        "duration": 304094,
        "start_time": "2023-06-13T13:40:50.763Z"
      },
      {
        "duration": 3,
        "start_time": "2023-06-13T13:45:54.858Z"
      },
      {
        "duration": 145363,
        "start_time": "2023-06-13T13:45:54.863Z"
      },
      {
        "duration": 4,
        "start_time": "2023-06-13T13:48:20.227Z"
      },
      {
        "duration": 11,
        "start_time": "2023-06-13T13:48:20.233Z"
      },
      {
        "duration": 571,
        "start_time": "2023-06-13T13:48:20.252Z"
      },
      {
        "duration": 5,
        "start_time": "2023-06-13T13:48:20.830Z"
      },
      {
        "duration": 14,
        "start_time": "2023-06-13T13:48:20.842Z"
      },
      {
        "duration": 47,
        "start_time": "2023-06-13T14:15:17.957Z"
      },
      {
        "duration": 137,
        "start_time": "2023-06-13T14:18:24.286Z"
      },
      {
        "duration": 4,
        "start_time": "2023-06-13T14:45:54.332Z"
      },
      {
        "duration": 12,
        "start_time": "2023-06-13T14:46:11.141Z"
      },
      {
        "duration": 27,
        "start_time": "2023-06-13T14:46:21.791Z"
      },
      {
        "duration": 43,
        "start_time": "2023-06-13T14:46:35.237Z"
      },
      {
        "duration": 40,
        "start_time": "2023-06-13T14:46:46.749Z"
      },
      {
        "duration": 15,
        "start_time": "2023-06-13T14:52:33.685Z"
      },
      {
        "duration": 4,
        "start_time": "2023-06-13T14:59:01.100Z"
      },
      {
        "duration": 22,
        "start_time": "2023-06-13T14:59:06.615Z"
      },
      {
        "duration": 65,
        "start_time": "2023-06-13T14:59:11.931Z"
      },
      {
        "duration": 48,
        "start_time": "2023-06-13T15:01:33.378Z"
      },
      {
        "duration": 100,
        "start_time": "2023-06-13T15:04:30.240Z"
      },
      {
        "duration": 462878,
        "start_time": "2023-06-13T15:08:19.853Z"
      },
      {
        "duration": 244155,
        "start_time": "2023-06-13T15:31:19.187Z"
      },
      {
        "duration": 1281,
        "start_time": "2023-06-13T15:50:31.638Z"
      },
      {
        "duration": 821,
        "start_time": "2023-06-13T15:50:32.921Z"
      },
      {
        "duration": 20,
        "start_time": "2023-06-13T15:50:33.743Z"
      },
      {
        "duration": 103,
        "start_time": "2023-06-13T15:50:33.765Z"
      },
      {
        "duration": 840,
        "start_time": "2023-06-13T15:50:33.871Z"
      },
      {
        "duration": 20,
        "start_time": "2023-06-13T15:50:34.713Z"
      },
      {
        "duration": 30,
        "start_time": "2023-06-13T15:50:34.735Z"
      },
      {
        "duration": 3,
        "start_time": "2023-06-13T15:50:34.767Z"
      },
      {
        "duration": 83,
        "start_time": "2023-06-13T15:50:34.772Z"
      },
      {
        "duration": 66,
        "start_time": "2023-06-13T15:50:34.857Z"
      },
      {
        "duration": 83,
        "start_time": "2023-06-13T15:50:34.925Z"
      },
      {
        "duration": 70,
        "start_time": "2023-06-13T15:50:35.011Z"
      },
      {
        "duration": 386,
        "start_time": "2023-06-13T15:50:35.082Z"
      },
      {
        "duration": 254,
        "start_time": "2023-06-13T15:50:35.470Z"
      },
      {
        "duration": 9,
        "start_time": "2023-06-13T15:50:35.726Z"
      },
      {
        "duration": 81,
        "start_time": "2023-06-13T15:50:35.737Z"
      },
      {
        "duration": 62,
        "start_time": "2023-06-13T15:50:35.820Z"
      },
      {
        "duration": 356,
        "start_time": "2023-06-13T15:50:35.885Z"
      },
      {
        "duration": 18,
        "start_time": "2023-06-13T15:50:36.242Z"
      },
      {
        "duration": 63,
        "start_time": "2023-06-13T15:50:36.261Z"
      },
      {
        "duration": 28,
        "start_time": "2023-06-13T15:50:36.326Z"
      },
      {
        "duration": 122,
        "start_time": "2023-06-13T15:50:36.356Z"
      },
      {
        "duration": 15,
        "start_time": "2023-06-13T15:50:36.479Z"
      },
      {
        "duration": 25,
        "start_time": "2023-06-13T15:50:36.496Z"
      },
      {
        "duration": 19,
        "start_time": "2023-06-13T15:50:36.523Z"
      },
      {
        "duration": 66,
        "start_time": "2023-06-13T15:50:36.544Z"
      },
      {
        "duration": 24,
        "start_time": "2023-06-13T15:50:36.613Z"
      },
      {
        "duration": 92,
        "start_time": "2023-06-13T15:50:36.639Z"
      },
      {
        "duration": 119,
        "start_time": "2023-06-13T15:50:36.732Z"
      },
      {
        "duration": 268,
        "start_time": "2023-06-13T15:50:36.853Z"
      },
      {
        "duration": 22,
        "start_time": "2023-06-13T15:50:37.123Z"
      },
      {
        "duration": 280,
        "start_time": "2023-06-13T15:50:37.147Z"
      },
      {
        "duration": 16,
        "start_time": "2023-06-13T15:50:37.429Z"
      },
      {
        "duration": 100,
        "start_time": "2023-06-13T15:50:37.447Z"
      },
      {
        "duration": 186,
        "start_time": "2023-06-13T15:50:37.549Z"
      },
      {
        "duration": 21,
        "start_time": "2023-06-13T15:50:37.737Z"
      },
      {
        "duration": 11,
        "start_time": "2023-06-13T15:50:37.760Z"
      },
      {
        "duration": 7,
        "start_time": "2023-06-13T15:50:37.773Z"
      },
      {
        "duration": 164,
        "start_time": "2023-06-13T15:50:37.806Z"
      },
      {
        "duration": 51,
        "start_time": "2023-06-13T15:50:37.972Z"
      },
      {
        "duration": 251,
        "start_time": "2023-06-13T15:50:38.027Z"
      },
      {
        "duration": 4,
        "start_time": "2023-06-13T15:50:38.280Z"
      },
      {
        "duration": 31,
        "start_time": "2023-06-13T15:50:38.286Z"
      },
      {
        "duration": 14,
        "start_time": "2023-06-13T15:50:38.319Z"
      },
      {
        "duration": 72,
        "start_time": "2023-06-13T15:50:38.334Z"
      },
      {
        "duration": 4,
        "start_time": "2023-06-13T15:50:38.408Z"
      },
      {
        "duration": 29,
        "start_time": "2023-06-13T15:50:38.414Z"
      },
      {
        "duration": 4,
        "start_time": "2023-06-13T15:50:38.445Z"
      },
      {
        "duration": 32,
        "start_time": "2023-06-13T15:50:38.450Z"
      },
      {
        "duration": 42,
        "start_time": "2023-06-13T15:50:38.483Z"
      },
      {
        "duration": 9,
        "start_time": "2023-06-13T15:50:38.527Z"
      },
      {
        "duration": 15,
        "start_time": "2023-06-13T15:50:38.538Z"
      },
      {
        "duration": 6,
        "start_time": "2023-06-13T15:50:38.555Z"
      },
      {
        "duration": 40785,
        "start_time": "2023-06-13T15:50:38.562Z"
      },
      {
        "duration": 4,
        "start_time": "2023-06-13T15:51:19.349Z"
      },
      {
        "duration": 218,
        "start_time": "2023-06-13T15:51:19.355Z"
      },
      {
        "duration": 4,
        "start_time": "2023-06-13T15:51:19.575Z"
      },
      {
        "duration": 336688,
        "start_time": "2023-06-13T15:51:19.581Z"
      },
      {
        "duration": 4,
        "start_time": "2023-06-13T15:56:56.271Z"
      },
      {
        "duration": 152072,
        "start_time": "2023-06-13T15:56:56.277Z"
      },
      {
        "duration": 4,
        "start_time": "2023-06-13T15:59:28.350Z"
      },
      {
        "duration": 9,
        "start_time": "2023-06-13T15:59:28.356Z"
      },
      {
        "duration": 575,
        "start_time": "2023-06-13T15:59:28.367Z"
      },
      {
        "duration": 2,
        "start_time": "2023-06-13T15:59:28.945Z"
      },
      {
        "duration": 12,
        "start_time": "2023-06-13T15:59:28.949Z"
      },
      {
        "duration": 17,
        "start_time": "2023-06-13T15:59:28.963Z"
      },
      {
        "duration": 34,
        "start_time": "2023-06-13T15:59:28.982Z"
      },
      {
        "duration": 47,
        "start_time": "2023-06-13T15:59:29.023Z"
      },
      {
        "duration": 9,
        "start_time": "2023-06-13T15:59:29.072Z"
      },
      {
        "duration": 138,
        "start_time": "2023-06-13T15:59:29.082Z"
      },
      {
        "duration": 368718,
        "start_time": "2023-06-13T15:59:29.232Z"
      },
      {
        "duration": 8,
        "start_time": "2023-06-13T16:21:26.131Z"
      },
      {
        "duration": 278342,
        "start_time": "2023-06-13T16:36:55.487Z"
      },
      {
        "duration": 401381,
        "start_time": "2023-06-13T16:41:33.832Z"
      },
      {
        "duration": 98,
        "start_time": "2023-06-13T17:28:23.131Z"
      },
      {
        "duration": 26,
        "start_time": "2023-06-13T17:30:29.924Z"
      },
      {
        "duration": 80,
        "start_time": "2023-06-13T17:31:24.144Z"
      },
      {
        "duration": 5,
        "start_time": "2023-06-13T17:31:29.530Z"
      },
      {
        "duration": 102,
        "start_time": "2023-06-13T17:34:44.463Z"
      },
      {
        "duration": 28,
        "start_time": "2023-06-13T17:35:56.785Z"
      },
      {
        "duration": 17,
        "start_time": "2023-06-13T17:44:18.953Z"
      },
      {
        "duration": 9,
        "start_time": "2023-06-13T17:44:27.329Z"
      },
      {
        "duration": 14,
        "start_time": "2023-06-13T17:46:19.204Z"
      },
      {
        "duration": 11,
        "start_time": "2023-06-13T17:48:26.427Z"
      },
      {
        "duration": 14,
        "start_time": "2023-06-13T17:48:27.362Z"
      },
      {
        "duration": 8,
        "start_time": "2023-06-13T17:50:01.305Z"
      },
      {
        "duration": 17,
        "start_time": "2023-06-13T17:56:17.625Z"
      },
      {
        "duration": 9091,
        "start_time": "2023-06-13T17:57:36.107Z"
      },
      {
        "duration": 24,
        "start_time": "2023-06-13T17:58:03.128Z"
      },
      {
        "duration": 2210,
        "start_time": "2023-06-13T18:10:51.927Z"
      },
      {
        "duration": 1063,
        "start_time": "2023-06-13T18:10:54.140Z"
      },
      {
        "duration": 998,
        "start_time": "2023-06-13T18:10:55.205Z"
      },
      {
        "duration": 35,
        "start_time": "2023-06-13T18:10:56.205Z"
      },
      {
        "duration": 137,
        "start_time": "2023-06-13T18:10:56.248Z"
      },
      {
        "duration": 993,
        "start_time": "2023-06-13T18:10:56.387Z"
      },
      {
        "duration": 26,
        "start_time": "2023-06-13T18:10:57.381Z"
      },
      {
        "duration": 38,
        "start_time": "2023-06-13T18:10:57.408Z"
      },
      {
        "duration": 11,
        "start_time": "2023-06-13T18:10:57.448Z"
      },
      {
        "duration": 69,
        "start_time": "2023-06-13T18:10:57.461Z"
      },
      {
        "duration": 65,
        "start_time": "2023-06-13T18:10:57.531Z"
      },
      {
        "duration": 69,
        "start_time": "2023-06-13T18:10:57.598Z"
      },
      {
        "duration": 69,
        "start_time": "2023-06-13T18:10:57.669Z"
      },
      {
        "duration": 447,
        "start_time": "2023-06-13T18:10:57.750Z"
      },
      {
        "duration": 293,
        "start_time": "2023-06-13T18:10:58.199Z"
      },
      {
        "duration": 22,
        "start_time": "2023-06-13T18:10:58.494Z"
      },
      {
        "duration": 39,
        "start_time": "2023-06-13T18:10:58.518Z"
      },
      {
        "duration": 61,
        "start_time": "2023-06-13T18:10:58.558Z"
      },
      {
        "duration": 269,
        "start_time": "2023-06-13T18:10:58.621Z"
      },
      {
        "duration": 24,
        "start_time": "2023-06-13T18:10:58.892Z"
      },
      {
        "duration": 29,
        "start_time": "2023-06-13T18:10:58.918Z"
      },
      {
        "duration": 16,
        "start_time": "2023-06-13T18:10:58.949Z"
      },
      {
        "duration": 168,
        "start_time": "2023-06-13T18:10:58.967Z"
      },
      {
        "duration": 20,
        "start_time": "2023-06-13T18:10:59.140Z"
      },
      {
        "duration": 29,
        "start_time": "2023-06-13T18:10:59.162Z"
      },
      {
        "duration": 21,
        "start_time": "2023-06-13T18:10:59.193Z"
      },
      {
        "duration": 57,
        "start_time": "2023-06-13T18:10:59.217Z"
      },
      {
        "duration": 16,
        "start_time": "2023-06-13T18:10:59.276Z"
      },
      {
        "duration": 109,
        "start_time": "2023-06-13T18:10:59.293Z"
      },
      {
        "duration": 203,
        "start_time": "2023-06-13T18:10:59.404Z"
      },
      {
        "duration": 318,
        "start_time": "2023-06-13T18:10:59.608Z"
      },
      {
        "duration": 27,
        "start_time": "2023-06-13T18:10:59.928Z"
      },
      {
        "duration": 315,
        "start_time": "2023-06-13T18:10:59.956Z"
      },
      {
        "duration": 17,
        "start_time": "2023-06-13T18:11:00.273Z"
      },
      {
        "duration": 130,
        "start_time": "2023-06-13T18:11:00.292Z"
      },
      {
        "duration": 252,
        "start_time": "2023-06-13T18:11:00.425Z"
      },
      {
        "duration": 28,
        "start_time": "2023-06-13T18:11:00.679Z"
      },
      {
        "duration": 29,
        "start_time": "2023-06-13T18:11:00.713Z"
      },
      {
        "duration": 97,
        "start_time": "2023-06-13T18:11:00.744Z"
      },
      {
        "duration": 221,
        "start_time": "2023-06-13T18:11:00.843Z"
      },
      {
        "duration": 62,
        "start_time": "2023-06-13T18:11:01.069Z"
      },
      {
        "duration": 288,
        "start_time": "2023-06-13T18:11:01.133Z"
      },
      {
        "duration": 4,
        "start_time": "2023-06-13T18:11:01.423Z"
      },
      {
        "duration": 51,
        "start_time": "2023-06-13T18:11:01.429Z"
      },
      {
        "duration": 38,
        "start_time": "2023-06-13T18:11:01.482Z"
      },
      {
        "duration": 135,
        "start_time": "2023-06-13T18:11:01.523Z"
      },
      {
        "duration": 5,
        "start_time": "2023-06-13T18:11:01.660Z"
      },
      {
        "duration": 82,
        "start_time": "2023-06-13T18:11:01.667Z"
      },
      {
        "duration": 9,
        "start_time": "2023-06-13T18:11:01.754Z"
      },
      {
        "duration": 59,
        "start_time": "2023-06-13T18:11:01.765Z"
      },
      {
        "duration": 35,
        "start_time": "2023-06-13T18:11:01.826Z"
      },
      {
        "duration": 16,
        "start_time": "2023-06-13T18:11:01.862Z"
      },
      {
        "duration": 35,
        "start_time": "2023-06-13T18:11:01.880Z"
      },
      {
        "duration": 17,
        "start_time": "2023-06-13T18:11:01.917Z"
      },
      {
        "duration": 45442,
        "start_time": "2023-06-13T18:11:01.936Z"
      },
      {
        "duration": 3,
        "start_time": "2023-06-13T18:11:47.380Z"
      },
      {
        "duration": 298,
        "start_time": "2023-06-13T18:11:47.385Z"
      },
      {
        "duration": 3,
        "start_time": "2023-06-13T18:11:47.685Z"
      },
      {
        "duration": 12,
        "start_time": "2023-06-13T18:11:47.690Z"
      },
      {
        "duration": 126,
        "start_time": "2023-06-13T18:11:47.713Z"
      },
      {
        "duration": 0,
        "start_time": "2023-06-13T18:11:47.843Z"
      },
      {
        "duration": 0,
        "start_time": "2023-06-13T18:11:47.844Z"
      },
      {
        "duration": 0,
        "start_time": "2023-06-13T18:11:47.845Z"
      },
      {
        "duration": 0,
        "start_time": "2023-06-13T18:11:47.847Z"
      },
      {
        "duration": 0,
        "start_time": "2023-06-13T18:11:47.848Z"
      },
      {
        "duration": 0,
        "start_time": "2023-06-13T18:11:47.849Z"
      },
      {
        "duration": 0,
        "start_time": "2023-06-13T18:11:47.850Z"
      },
      {
        "duration": 0,
        "start_time": "2023-06-13T18:11:47.851Z"
      },
      {
        "duration": 0,
        "start_time": "2023-06-13T18:11:47.852Z"
      },
      {
        "duration": 0,
        "start_time": "2023-06-13T18:11:47.853Z"
      },
      {
        "duration": 0,
        "start_time": "2023-06-13T18:11:47.854Z"
      },
      {
        "duration": 0,
        "start_time": "2023-06-13T18:11:47.856Z"
      },
      {
        "duration": 0,
        "start_time": "2023-06-13T18:11:47.856Z"
      },
      {
        "duration": 0,
        "start_time": "2023-06-13T18:11:47.858Z"
      },
      {
        "duration": 0,
        "start_time": "2023-06-13T18:11:47.861Z"
      },
      {
        "duration": 0,
        "start_time": "2023-06-13T18:11:47.862Z"
      },
      {
        "duration": 0,
        "start_time": "2023-06-13T18:11:47.864Z"
      },
      {
        "duration": 0,
        "start_time": "2023-06-13T18:11:47.865Z"
      },
      {
        "duration": 1,
        "start_time": "2023-06-13T18:11:47.866Z"
      },
      {
        "duration": 0,
        "start_time": "2023-06-13T18:11:47.868Z"
      },
      {
        "duration": 0,
        "start_time": "2023-06-13T18:11:47.869Z"
      },
      {
        "duration": 0,
        "start_time": "2023-06-13T18:11:47.870Z"
      },
      {
        "duration": 0,
        "start_time": "2023-06-13T18:11:47.871Z"
      },
      {
        "duration": 1,
        "start_time": "2023-06-13T18:11:47.872Z"
      },
      {
        "duration": 0,
        "start_time": "2023-06-13T18:11:47.873Z"
      },
      {
        "duration": 2133,
        "start_time": "2023-06-13T18:23:18.534Z"
      },
      {
        "duration": 4,
        "start_time": "2023-06-13T18:23:20.669Z"
      },
      {
        "duration": 777,
        "start_time": "2023-06-13T18:23:20.674Z"
      },
      {
        "duration": 13,
        "start_time": "2023-06-13T18:23:21.453Z"
      },
      {
        "duration": 118,
        "start_time": "2023-06-13T18:23:21.467Z"
      },
      {
        "duration": 876,
        "start_time": "2023-06-13T18:23:21.586Z"
      },
      {
        "duration": 26,
        "start_time": "2023-06-13T18:23:22.464Z"
      },
      {
        "duration": 41,
        "start_time": "2023-06-13T18:23:22.492Z"
      },
      {
        "duration": 5,
        "start_time": "2023-06-13T18:23:22.536Z"
      },
      {
        "duration": 45,
        "start_time": "2023-06-13T18:23:22.544Z"
      },
      {
        "duration": 77,
        "start_time": "2023-06-13T18:23:22.591Z"
      },
      {
        "duration": 65,
        "start_time": "2023-06-13T18:23:22.669Z"
      },
      {
        "duration": 43,
        "start_time": "2023-06-13T18:23:22.738Z"
      },
      {
        "duration": 166,
        "start_time": "2023-06-13T18:23:22.783Z"
      },
      {
        "duration": 320,
        "start_time": "2023-06-13T18:23:22.950Z"
      },
      {
        "duration": 8,
        "start_time": "2023-06-13T18:23:23.271Z"
      },
      {
        "duration": 48,
        "start_time": "2023-06-13T18:23:23.281Z"
      },
      {
        "duration": 36,
        "start_time": "2023-06-13T18:23:23.333Z"
      },
      {
        "duration": 229,
        "start_time": "2023-06-13T18:23:23.371Z"
      },
      {
        "duration": 28,
        "start_time": "2023-06-13T18:23:23.602Z"
      },
      {
        "duration": 22,
        "start_time": "2023-06-13T18:23:23.632Z"
      },
      {
        "duration": 15,
        "start_time": "2023-06-13T18:23:23.655Z"
      },
      {
        "duration": 114,
        "start_time": "2023-06-13T18:23:23.671Z"
      },
      {
        "duration": 27,
        "start_time": "2023-06-13T18:23:23.786Z"
      },
      {
        "duration": 22,
        "start_time": "2023-06-13T18:23:23.818Z"
      },
      {
        "duration": 23,
        "start_time": "2023-06-13T18:23:23.841Z"
      },
      {
        "duration": 52,
        "start_time": "2023-06-13T18:23:23.865Z"
      },
      {
        "duration": 21,
        "start_time": "2023-06-13T18:23:23.924Z"
      },
      {
        "duration": 93,
        "start_time": "2023-06-13T18:23:23.946Z"
      },
      {
        "duration": 122,
        "start_time": "2023-06-13T18:23:24.041Z"
      },
      {
        "duration": 324,
        "start_time": "2023-06-13T18:23:24.164Z"
      },
      {
        "duration": 15,
        "start_time": "2023-06-13T18:23:24.489Z"
      },
      {
        "duration": 278,
        "start_time": "2023-06-13T18:23:24.508Z"
      },
      {
        "duration": 20,
        "start_time": "2023-06-13T18:23:24.788Z"
      },
      {
        "duration": 103,
        "start_time": "2023-06-13T18:23:24.810Z"
      },
      {
        "duration": 188,
        "start_time": "2023-06-13T18:23:24.916Z"
      },
      {
        "duration": 34,
        "start_time": "2023-06-13T18:23:25.105Z"
      },
      {
        "duration": 7,
        "start_time": "2023-06-13T18:23:25.141Z"
      },
      {
        "duration": 10,
        "start_time": "2023-06-13T18:23:25.149Z"
      },
      {
        "duration": 172,
        "start_time": "2023-06-13T18:23:25.160Z"
      },
      {
        "duration": 38,
        "start_time": "2023-06-13T18:23:25.334Z"
      },
      {
        "duration": 262,
        "start_time": "2023-06-13T18:23:25.373Z"
      },
      {
        "duration": 3,
        "start_time": "2023-06-13T18:23:25.637Z"
      },
      {
        "duration": 21,
        "start_time": "2023-06-13T18:23:25.641Z"
      },
      {
        "duration": 10,
        "start_time": "2023-06-13T18:23:25.663Z"
      },
      {
        "duration": 95,
        "start_time": "2023-06-13T18:23:25.674Z"
      },
      {
        "duration": 3,
        "start_time": "2023-06-13T18:23:25.771Z"
      },
      {
        "duration": 24,
        "start_time": "2023-06-13T18:23:25.776Z"
      },
      {
        "duration": 6,
        "start_time": "2023-06-13T18:23:25.801Z"
      },
      {
        "duration": 34,
        "start_time": "2023-06-13T18:23:25.808Z"
      },
      {
        "duration": 6,
        "start_time": "2023-06-13T18:23:25.844Z"
      },
      {
        "duration": 14,
        "start_time": "2023-06-13T18:23:25.852Z"
      },
      {
        "duration": 18,
        "start_time": "2023-06-13T18:23:25.868Z"
      },
      {
        "duration": 10,
        "start_time": "2023-06-13T18:23:25.887Z"
      },
      {
        "duration": 42663,
        "start_time": "2023-06-13T18:23:25.898Z"
      },
      {
        "duration": 3,
        "start_time": "2023-06-13T18:24:08.563Z"
      },
      {
        "duration": 246,
        "start_time": "2023-06-13T18:24:08.568Z"
      },
      {
        "duration": 6,
        "start_time": "2023-06-13T18:24:08.816Z"
      },
      {
        "duration": 6,
        "start_time": "2023-06-13T18:24:08.824Z"
      },
      {
        "duration": 5,
        "start_time": "2023-06-13T18:24:08.832Z"
      },
      {
        "duration": 122399,
        "start_time": "2023-06-13T18:24:08.839Z"
      },
      {
        "duration": 3,
        "start_time": "2023-06-13T18:26:11.239Z"
      },
      {
        "duration": 15,
        "start_time": "2023-06-13T18:26:11.244Z"
      },
      {
        "duration": 470,
        "start_time": "2023-06-13T18:26:11.260Z"
      },
      {
        "duration": 2,
        "start_time": "2023-06-13T18:26:11.732Z"
      },
      {
        "duration": 6,
        "start_time": "2023-06-13T18:26:11.735Z"
      },
      {
        "duration": 10,
        "start_time": "2023-06-13T18:26:11.742Z"
      },
      {
        "duration": 38,
        "start_time": "2023-06-13T18:26:11.754Z"
      },
      {
        "duration": 2,
        "start_time": "2023-06-13T18:26:11.793Z"
      },
      {
        "duration": 92,
        "start_time": "2023-06-13T18:26:11.807Z"
      },
      {
        "duration": 118014,
        "start_time": "2023-06-13T18:26:11.905Z"
      },
      {
        "duration": 14009,
        "start_time": "2023-06-13T18:28:09.921Z"
      },
      {
        "duration": 22191,
        "start_time": "2023-06-13T18:28:23.932Z"
      },
      {
        "duration": 3,
        "start_time": "2023-06-13T18:28:46.125Z"
      },
      {
        "duration": 13,
        "start_time": "2023-06-13T18:28:46.130Z"
      },
      {
        "duration": 10,
        "start_time": "2023-06-13T18:28:46.145Z"
      },
      {
        "duration": 69,
        "start_time": "2023-06-13T18:28:46.156Z"
      },
      {
        "duration": 8,
        "start_time": "2023-06-13T18:28:46.227Z"
      },
      {
        "duration": 11,
        "start_time": "2023-06-13T18:28:46.236Z"
      },
      {
        "duration": 44,
        "start_time": "2023-06-13T19:56:26.965Z"
      },
      {
        "duration": 6,
        "start_time": "2023-06-13T19:57:35.975Z"
      },
      {
        "duration": 10406,
        "start_time": "2023-06-14T07:31:27.704Z"
      },
      {
        "duration": 1205,
        "start_time": "2023-06-14T07:31:38.113Z"
      },
      {
        "duration": 3118,
        "start_time": "2023-06-14T07:31:39.320Z"
      },
      {
        "duration": 22,
        "start_time": "2023-06-14T07:31:42.441Z"
      },
      {
        "duration": 170,
        "start_time": "2023-06-14T07:31:42.466Z"
      },
      {
        "duration": 1040,
        "start_time": "2023-06-14T07:31:42.638Z"
      },
      {
        "duration": 28,
        "start_time": "2023-06-14T07:31:43.679Z"
      },
      {
        "duration": 66,
        "start_time": "2023-06-14T07:31:43.709Z"
      },
      {
        "duration": 5,
        "start_time": "2023-06-14T07:31:43.777Z"
      },
      {
        "duration": 67,
        "start_time": "2023-06-14T07:31:43.785Z"
      },
      {
        "duration": 72,
        "start_time": "2023-06-14T07:31:43.854Z"
      },
      {
        "duration": 62,
        "start_time": "2023-06-14T07:31:43.928Z"
      },
      {
        "duration": 79,
        "start_time": "2023-06-14T07:31:43.992Z"
      },
      {
        "duration": 567,
        "start_time": "2023-06-14T07:31:44.073Z"
      },
      {
        "duration": 283,
        "start_time": "2023-06-14T07:31:44.642Z"
      },
      {
        "duration": 10,
        "start_time": "2023-06-14T07:31:44.927Z"
      },
      {
        "duration": 59,
        "start_time": "2023-06-14T07:31:44.939Z"
      },
      {
        "duration": 69,
        "start_time": "2023-06-14T07:31:45.000Z"
      },
      {
        "duration": 431,
        "start_time": "2023-06-14T07:31:45.071Z"
      },
      {
        "duration": 30,
        "start_time": "2023-06-14T07:31:45.504Z"
      },
      {
        "duration": 53,
        "start_time": "2023-06-14T07:31:45.535Z"
      },
      {
        "duration": 29,
        "start_time": "2023-06-14T07:31:45.590Z"
      },
      {
        "duration": 129,
        "start_time": "2023-06-14T07:31:45.621Z"
      },
      {
        "duration": 24,
        "start_time": "2023-06-14T07:31:45.752Z"
      },
      {
        "duration": 48,
        "start_time": "2023-06-14T07:31:45.778Z"
      },
      {
        "duration": 57,
        "start_time": "2023-06-14T07:31:45.828Z"
      },
      {
        "duration": 123,
        "start_time": "2023-06-14T07:31:45.888Z"
      },
      {
        "duration": 21,
        "start_time": "2023-06-14T07:31:46.017Z"
      },
      {
        "duration": 126,
        "start_time": "2023-06-14T07:31:46.040Z"
      },
      {
        "duration": 147,
        "start_time": "2023-06-14T07:31:46.168Z"
      },
      {
        "duration": 320,
        "start_time": "2023-06-14T07:31:46.316Z"
      },
      {
        "duration": 22,
        "start_time": "2023-06-14T07:31:46.638Z"
      },
      {
        "duration": 316,
        "start_time": "2023-06-14T07:31:46.662Z"
      },
      {
        "duration": 22,
        "start_time": "2023-06-14T07:31:46.980Z"
      },
      {
        "duration": 153,
        "start_time": "2023-06-14T07:31:47.003Z"
      },
      {
        "duration": 238,
        "start_time": "2023-06-14T07:31:47.158Z"
      },
      {
        "duration": 36,
        "start_time": "2023-06-14T07:31:47.398Z"
      },
      {
        "duration": 24,
        "start_time": "2023-06-14T07:31:47.437Z"
      },
      {
        "duration": 20,
        "start_time": "2023-06-14T07:31:47.463Z"
      },
      {
        "duration": 202,
        "start_time": "2023-06-14T07:31:47.485Z"
      },
      {
        "duration": 367,
        "start_time": "2023-06-14T07:31:47.689Z"
      },
      {
        "duration": 1321,
        "start_time": "2023-06-14T07:31:48.059Z"
      },
      {
        "duration": 182,
        "start_time": "2023-06-14T07:31:49.382Z"
      },
      {
        "duration": 70,
        "start_time": "2023-06-14T07:31:49.565Z"
      },
      {
        "duration": 50,
        "start_time": "2023-06-14T07:31:49.638Z"
      },
      {
        "duration": 103,
        "start_time": "2023-06-14T07:31:49.690Z"
      },
      {
        "duration": 7,
        "start_time": "2023-06-14T07:31:49.796Z"
      },
      {
        "duration": 54,
        "start_time": "2023-06-14T07:31:49.806Z"
      },
      {
        "duration": 6,
        "start_time": "2023-06-14T07:31:49.862Z"
      },
      {
        "duration": 47,
        "start_time": "2023-06-14T07:31:49.870Z"
      },
      {
        "duration": 32,
        "start_time": "2023-06-14T07:31:49.919Z"
      },
      {
        "duration": 27,
        "start_time": "2023-06-14T07:31:49.953Z"
      },
      {
        "duration": 58,
        "start_time": "2023-06-14T07:31:49.983Z"
      },
      {
        "duration": 22,
        "start_time": "2023-06-14T07:31:50.043Z"
      },
      {
        "duration": 49050,
        "start_time": "2023-06-14T07:31:50.068Z"
      },
      {
        "duration": 4,
        "start_time": "2023-06-14T07:32:39.119Z"
      },
      {
        "duration": 514,
        "start_time": "2023-06-14T07:32:39.131Z"
      },
      {
        "duration": 4,
        "start_time": "2023-06-14T07:32:39.647Z"
      },
      {
        "duration": 34,
        "start_time": "2023-06-14T07:32:39.654Z"
      },
      {
        "duration": 10,
        "start_time": "2023-06-14T07:32:39.690Z"
      },
      {
        "duration": 151022,
        "start_time": "2023-06-14T07:32:39.702Z"
      },
      {
        "duration": 3,
        "start_time": "2023-06-14T07:35:10.726Z"
      },
      {
        "duration": 30,
        "start_time": "2023-06-14T07:35:10.731Z"
      },
      {
        "duration": 536,
        "start_time": "2023-06-14T07:35:10.763Z"
      },
      {
        "duration": 559,
        "start_time": "2023-06-14T07:35:11.301Z"
      },
      {
        "duration": 3,
        "start_time": "2023-06-14T07:35:11.862Z"
      },
      {
        "duration": 13,
        "start_time": "2023-06-14T07:35:11.866Z"
      },
      {
        "duration": 31,
        "start_time": "2023-06-14T07:35:11.880Z"
      },
      {
        "duration": 76,
        "start_time": "2023-06-14T07:35:11.912Z"
      },
      {
        "duration": 20,
        "start_time": "2023-06-14T07:35:11.990Z"
      },
      {
        "duration": 132,
        "start_time": "2023-06-14T07:35:12.011Z"
      },
      {
        "duration": 366290,
        "start_time": "2023-06-14T07:35:12.145Z"
      },
      {
        "duration": 301802,
        "start_time": "2023-06-14T07:41:18.438Z"
      },
      {
        "duration": 428401,
        "start_time": "2023-06-14T07:46:20.242Z"
      },
      {
        "duration": 484,
        "start_time": "2023-06-14T07:53:28.645Z"
      },
      {
        "duration": 3,
        "start_time": "2023-06-14T07:53:29.131Z"
      },
      {
        "duration": 17,
        "start_time": "2023-06-14T07:53:29.136Z"
      },
      {
        "duration": 10,
        "start_time": "2023-06-14T07:53:29.156Z"
      },
      {
        "duration": 42,
        "start_time": "2023-06-14T07:53:29.168Z"
      },
      {
        "duration": 10,
        "start_time": "2023-06-14T07:53:29.226Z"
      },
      {
        "duration": 20,
        "start_time": "2023-06-14T07:53:29.237Z"
      },
      {
        "duration": 50172,
        "start_time": "2023-06-14T07:53:29.276Z"
      },
      {
        "duration": 143,
        "start_time": "2023-06-14T07:54:19.450Z"
      },
      {
        "duration": 0,
        "start_time": "2023-06-14T07:54:19.596Z"
      },
      {
        "duration": 0,
        "start_time": "2023-06-14T07:54:19.598Z"
      },
      {
        "duration": 0,
        "start_time": "2023-06-14T07:54:19.600Z"
      },
      {
        "duration": 0,
        "start_time": "2023-06-14T07:54:19.602Z"
      },
      {
        "duration": 28,
        "start_time": "2023-06-14T08:12:26.090Z"
      },
      {
        "duration": 24,
        "start_time": "2023-06-14T08:47:27.147Z"
      },
      {
        "duration": 26121,
        "start_time": "2023-06-14T08:47:57.567Z"
      },
      {
        "duration": 4,
        "start_time": "2023-06-14T08:48:36.314Z"
      },
      {
        "duration": 8,
        "start_time": "2023-06-14T08:49:39.455Z"
      },
      {
        "duration": 20,
        "start_time": "2023-06-14T08:55:10.817Z"
      },
      {
        "duration": 31,
        "start_time": "2023-06-14T08:55:40.402Z"
      },
      {
        "duration": 13,
        "start_time": "2023-06-14T08:55:43.081Z"
      },
      {
        "duration": 14,
        "start_time": "2023-06-14T08:55:57.073Z"
      },
      {
        "duration": 15,
        "start_time": "2023-06-14T08:56:16.518Z"
      },
      {
        "duration": 49,
        "start_time": "2023-06-14T08:56:33.551Z"
      },
      {
        "duration": 2422,
        "start_time": "2023-06-14T09:00:21.339Z"
      },
      {
        "duration": 1526,
        "start_time": "2023-06-14T09:00:23.763Z"
      },
      {
        "duration": 3237,
        "start_time": "2023-06-14T09:00:25.290Z"
      },
      {
        "duration": 20,
        "start_time": "2023-06-14T09:00:28.529Z"
      },
      {
        "duration": 135,
        "start_time": "2023-06-14T09:00:28.553Z"
      },
      {
        "duration": 982,
        "start_time": "2023-06-14T09:00:28.690Z"
      },
      {
        "duration": 30,
        "start_time": "2023-06-14T09:00:29.674Z"
      },
      {
        "duration": 48,
        "start_time": "2023-06-14T09:00:29.717Z"
      },
      {
        "duration": 4,
        "start_time": "2023-06-14T09:00:29.767Z"
      },
      {
        "duration": 123,
        "start_time": "2023-06-14T09:00:29.773Z"
      },
      {
        "duration": 82,
        "start_time": "2023-06-14T09:00:29.898Z"
      },
      {
        "duration": 78,
        "start_time": "2023-06-14T09:00:29.983Z"
      },
      {
        "duration": 82,
        "start_time": "2023-06-14T09:00:30.062Z"
      },
      {
        "duration": 421,
        "start_time": "2023-06-14T09:00:30.148Z"
      },
      {
        "duration": 303,
        "start_time": "2023-06-14T09:00:30.572Z"
      },
      {
        "duration": 9,
        "start_time": "2023-06-14T09:00:30.877Z"
      },
      {
        "duration": 98,
        "start_time": "2023-06-14T09:00:30.888Z"
      },
      {
        "duration": 62,
        "start_time": "2023-06-14T09:00:30.988Z"
      },
      {
        "duration": 295,
        "start_time": "2023-06-14T09:00:31.052Z"
      },
      {
        "duration": 19,
        "start_time": "2023-06-14T09:00:31.349Z"
      },
      {
        "duration": 137,
        "start_time": "2023-06-14T09:00:31.370Z"
      },
      {
        "duration": 52,
        "start_time": "2023-06-14T09:00:31.509Z"
      },
      {
        "duration": 164,
        "start_time": "2023-06-14T09:00:31.563Z"
      },
      {
        "duration": 44,
        "start_time": "2023-06-14T09:00:31.731Z"
      },
      {
        "duration": 119,
        "start_time": "2023-06-14T09:00:31.776Z"
      },
      {
        "duration": 56,
        "start_time": "2023-06-14T09:00:31.897Z"
      },
      {
        "duration": 77,
        "start_time": "2023-06-14T09:00:31.955Z"
      },
      {
        "duration": 23,
        "start_time": "2023-06-14T09:00:32.034Z"
      },
      {
        "duration": 134,
        "start_time": "2023-06-14T09:00:32.059Z"
      },
      {
        "duration": 248,
        "start_time": "2023-06-14T09:00:32.195Z"
      },
      {
        "duration": 326,
        "start_time": "2023-06-14T09:00:32.445Z"
      },
      {
        "duration": 18,
        "start_time": "2023-06-14T09:00:32.773Z"
      },
      {
        "duration": 313,
        "start_time": "2023-06-14T09:00:32.792Z"
      },
      {
        "duration": 34,
        "start_time": "2023-06-14T09:00:33.107Z"
      },
      {
        "duration": 129,
        "start_time": "2023-06-14T09:00:33.142Z"
      },
      {
        "duration": 227,
        "start_time": "2023-06-14T09:00:33.274Z"
      },
      {
        "duration": 37,
        "start_time": "2023-06-14T09:00:33.503Z"
      },
      {
        "duration": 15,
        "start_time": "2023-06-14T09:00:33.542Z"
      },
      {
        "duration": 13,
        "start_time": "2023-06-14T09:00:33.559Z"
      },
      {
        "duration": 217,
        "start_time": "2023-06-14T09:00:33.574Z"
      },
      {
        "duration": 57,
        "start_time": "2023-06-14T09:00:33.799Z"
      },
      {
        "duration": 313,
        "start_time": "2023-06-14T09:00:33.858Z"
      },
      {
        "duration": 4,
        "start_time": "2023-06-14T09:00:34.172Z"
      },
      {
        "duration": 39,
        "start_time": "2023-06-14T09:00:34.178Z"
      },
      {
        "duration": 16,
        "start_time": "2023-06-14T09:00:34.223Z"
      },
      {
        "duration": 94,
        "start_time": "2023-06-14T09:00:34.241Z"
      },
      {
        "duration": 5,
        "start_time": "2023-06-14T09:00:34.338Z"
      },
      {
        "duration": 52,
        "start_time": "2023-06-14T09:00:34.345Z"
      },
      {
        "duration": 28,
        "start_time": "2023-06-14T09:00:34.399Z"
      },
      {
        "duration": 201,
        "start_time": "2023-06-14T09:00:34.431Z"
      },
      {
        "duration": 49,
        "start_time": "2023-06-14T09:00:34.634Z"
      },
      {
        "duration": 67,
        "start_time": "2023-06-14T09:00:34.684Z"
      },
      {
        "duration": 88,
        "start_time": "2023-06-14T09:00:34.753Z"
      },
      {
        "duration": 20,
        "start_time": "2023-06-14T09:00:34.843Z"
      },
      {
        "duration": 23,
        "start_time": "2023-06-14T09:00:34.865Z"
      },
      {
        "duration": 11,
        "start_time": "2023-06-14T09:00:34.890Z"
      },
      {
        "duration": 35,
        "start_time": "2023-06-14T09:00:34.903Z"
      },
      {
        "duration": 60,
        "start_time": "2023-06-14T09:00:34.940Z"
      },
      {
        "duration": 35,
        "start_time": "2023-06-14T09:00:35.002Z"
      },
      {
        "duration": 70,
        "start_time": "2023-06-14T09:00:35.039Z"
      },
      {
        "duration": 193,
        "start_time": "2023-06-14T09:00:35.111Z"
      },
      {
        "duration": 0,
        "start_time": "2023-06-14T09:00:35.305Z"
      },
      {
        "duration": 0,
        "start_time": "2023-06-14T09:00:35.307Z"
      },
      {
        "duration": 0,
        "start_time": "2023-06-14T09:00:35.308Z"
      },
      {
        "duration": 0,
        "start_time": "2023-06-14T09:00:35.310Z"
      },
      {
        "duration": 0,
        "start_time": "2023-06-14T09:00:35.310Z"
      },
      {
        "duration": 0,
        "start_time": "2023-06-14T09:00:35.312Z"
      },
      {
        "duration": 0,
        "start_time": "2023-06-14T09:00:35.312Z"
      },
      {
        "duration": 0,
        "start_time": "2023-06-14T09:00:35.314Z"
      },
      {
        "duration": 0,
        "start_time": "2023-06-14T09:00:35.316Z"
      },
      {
        "duration": 0,
        "start_time": "2023-06-14T09:00:35.316Z"
      },
      {
        "duration": 0,
        "start_time": "2023-06-14T09:00:35.318Z"
      },
      {
        "duration": 0,
        "start_time": "2023-06-14T09:00:35.319Z"
      },
      {
        "duration": 0,
        "start_time": "2023-06-14T09:00:35.327Z"
      },
      {
        "duration": 0,
        "start_time": "2023-06-14T09:00:35.328Z"
      },
      {
        "duration": 0,
        "start_time": "2023-06-14T09:00:35.329Z"
      },
      {
        "duration": 0,
        "start_time": "2023-06-14T09:00:35.332Z"
      },
      {
        "duration": 0,
        "start_time": "2023-06-14T09:00:35.333Z"
      },
      {
        "duration": 3,
        "start_time": "2023-06-14T09:01:33.705Z"
      },
      {
        "duration": 43,
        "start_time": "2023-06-14T09:01:35.131Z"
      },
      {
        "duration": 131,
        "start_time": "2023-06-14T09:01:38.155Z"
      },
      {
        "duration": 28,
        "start_time": "2023-06-14T09:01:43.614Z"
      },
      {
        "duration": 9,
        "start_time": "2023-06-14T09:01:48.435Z"
      },
      {
        "duration": 131,
        "start_time": "2023-06-14T09:01:51.782Z"
      },
      {
        "duration": 8,
        "start_time": "2023-06-14T09:01:58.635Z"
      },
      {
        "duration": 14,
        "start_time": "2023-06-14T09:01:59.364Z"
      },
      {
        "duration": 49506,
        "start_time": "2023-06-14T09:02:02.892Z"
      },
      {
        "duration": 6,
        "start_time": "2023-06-14T09:03:27.968Z"
      },
      {
        "duration": 32367,
        "start_time": "2023-06-14T09:08:54.995Z"
      },
      {
        "duration": 5,
        "start_time": "2023-06-14T09:09:37.286Z"
      },
      {
        "duration": 17,
        "start_time": "2023-06-14T09:09:55.212Z"
      },
      {
        "duration": 8,
        "start_time": "2023-06-14T09:10:14.922Z"
      },
      {
        "duration": 14,
        "start_time": "2023-06-14T09:10:17.218Z"
      },
      {
        "duration": 48848,
        "start_time": "2023-06-14T09:10:22.161Z"
      },
      {
        "duration": 15608,
        "start_time": "2023-06-14T09:11:59.492Z"
      },
      {
        "duration": 9,
        "start_time": "2023-06-14T09:13:14.546Z"
      },
      {
        "duration": 15,
        "start_time": "2023-06-14T09:13:16.442Z"
      },
      {
        "duration": 48078,
        "start_time": "2023-06-14T09:13:20.698Z"
      },
      {
        "duration": 34394,
        "start_time": "2023-06-14T09:16:32.037Z"
      },
      {
        "duration": 6,
        "start_time": "2023-06-14T09:17:06.434Z"
      },
      {
        "duration": 18,
        "start_time": "2023-06-14T09:17:23.226Z"
      },
      {
        "duration": 169,
        "start_time": "2023-06-14T09:17:33.630Z"
      },
      {
        "duration": 98,
        "start_time": "2023-06-14T09:17:49.701Z"
      },
      {
        "duration": 4,
        "start_time": "2023-06-14T09:19:48.736Z"
      },
      {
        "duration": 106991,
        "start_time": "2023-06-14T09:22:41.436Z"
      },
      {
        "duration": 4,
        "start_time": "2023-06-14T09:24:44.189Z"
      },
      {
        "duration": 31990,
        "start_time": "2023-06-14T09:26:28.667Z"
      },
      {
        "duration": 7,
        "start_time": "2023-06-14T09:27:08.963Z"
      },
      {
        "duration": 37747,
        "start_time": "2023-06-14T09:27:30.127Z"
      },
      {
        "duration": 6,
        "start_time": "2023-06-14T09:28:11.736Z"
      },
      {
        "duration": 375,
        "start_time": "2023-06-14T09:28:15.607Z"
      },
      {
        "duration": 3817,
        "start_time": "2023-06-14T09:28:24.308Z"
      },
      {
        "duration": 156,
        "start_time": "2023-06-14T09:29:32.872Z"
      },
      {
        "duration": 26,
        "start_time": "2023-06-14T09:30:55.954Z"
      },
      {
        "duration": 20,
        "start_time": "2023-06-14T09:32:34.316Z"
      },
      {
        "duration": 3,
        "start_time": "2023-06-14T09:32:43.369Z"
      },
      {
        "duration": 2,
        "start_time": "2023-06-14T09:32:48.598Z"
      },
      {
        "duration": 303064,
        "start_time": "2023-06-14T09:34:32.168Z"
      },
      {
        "duration": 4,
        "start_time": "2023-06-14T09:39:50.948Z"
      },
      {
        "duration": 250,
        "start_time": "2023-06-14T09:40:34.320Z"
      },
      {
        "duration": 139925,
        "start_time": "2023-06-14T09:41:29.933Z"
      },
      {
        "duration": 273,
        "start_time": "2023-06-14T09:44:23.793Z"
      },
      {
        "duration": 44476,
        "start_time": "2023-06-14T09:44:33.977Z"
      },
      {
        "duration": 4,
        "start_time": "2023-06-14T09:46:39.471Z"
      },
      {
        "duration": 214,
        "start_time": "2023-06-14T09:47:52.796Z"
      },
      {
        "duration": 209,
        "start_time": "2023-06-14T09:47:54.987Z"
      },
      {
        "duration": 3,
        "start_time": "2023-06-14T09:48:58.188Z"
      },
      {
        "duration": 7,
        "start_time": "2023-06-14T09:49:10.080Z"
      },
      {
        "duration": 11,
        "start_time": "2023-06-14T09:49:19.273Z"
      },
      {
        "duration": 379423,
        "start_time": "2023-06-14T09:55:41.797Z"
      },
      {
        "duration": 53,
        "start_time": "2023-06-14T10:03:11.234Z"
      },
      {
        "duration": 347090,
        "start_time": "2023-06-14T10:03:28.729Z"
      },
      {
        "duration": 384010,
        "start_time": "2023-06-14T10:13:53.026Z"
      },
      {
        "duration": 403,
        "start_time": "2023-06-14T10:24:45.711Z"
      },
      {
        "duration": 4,
        "start_time": "2023-06-14T10:25:35.952Z"
      },
      {
        "duration": 12,
        "start_time": "2023-06-14T10:25:45.327Z"
      },
      {
        "duration": 12,
        "start_time": "2023-06-14T10:26:10.558Z"
      },
      {
        "duration": 10,
        "start_time": "2023-06-14T10:36:40.680Z"
      },
      {
        "duration": 9,
        "start_time": "2023-06-14T10:37:06.495Z"
      },
      {
        "duration": 10,
        "start_time": "2023-06-14T10:38:30.746Z"
      },
      {
        "duration": 5,
        "start_time": "2023-06-14T10:39:18.703Z"
      },
      {
        "duration": 6,
        "start_time": "2023-06-14T10:39:23.105Z"
      },
      {
        "duration": 9,
        "start_time": "2023-06-14T10:39:29.763Z"
      },
      {
        "duration": 261,
        "start_time": "2023-06-14T10:41:40.365Z"
      },
      {
        "duration": 2772,
        "start_time": "2023-06-14T10:48:36.417Z"
      },
      {
        "duration": 1697,
        "start_time": "2023-06-14T10:48:39.191Z"
      },
      {
        "duration": 1188,
        "start_time": "2023-06-14T10:48:40.889Z"
      },
      {
        "duration": 24,
        "start_time": "2023-06-14T10:48:42.079Z"
      },
      {
        "duration": 187,
        "start_time": "2023-06-14T10:48:42.106Z"
      },
      {
        "duration": 1122,
        "start_time": "2023-06-14T10:48:42.295Z"
      },
      {
        "duration": 38,
        "start_time": "2023-06-14T10:48:43.421Z"
      },
      {
        "duration": 66,
        "start_time": "2023-06-14T10:48:43.461Z"
      },
      {
        "duration": 7,
        "start_time": "2023-06-14T10:48:43.537Z"
      },
      {
        "duration": 72,
        "start_time": "2023-06-14T10:48:43.546Z"
      },
      {
        "duration": 78,
        "start_time": "2023-06-14T10:48:43.621Z"
      },
      {
        "duration": 85,
        "start_time": "2023-06-14T10:48:43.702Z"
      },
      {
        "duration": 83,
        "start_time": "2023-06-14T10:48:43.789Z"
      },
      {
        "duration": 372,
        "start_time": "2023-06-14T10:48:43.876Z"
      },
      {
        "duration": 423,
        "start_time": "2023-06-14T10:48:44.252Z"
      },
      {
        "duration": 10,
        "start_time": "2023-06-14T10:48:44.676Z"
      },
      {
        "duration": 54,
        "start_time": "2023-06-14T10:48:44.688Z"
      },
      {
        "duration": 152,
        "start_time": "2023-06-14T10:48:44.744Z"
      },
      {
        "duration": 439,
        "start_time": "2023-06-14T10:48:44.898Z"
      },
      {
        "duration": 30,
        "start_time": "2023-06-14T10:48:45.339Z"
      },
      {
        "duration": 35,
        "start_time": "2023-06-14T10:48:45.371Z"
      },
      {
        "duration": 53,
        "start_time": "2023-06-14T10:48:45.408Z"
      },
      {
        "duration": 128,
        "start_time": "2023-06-14T10:48:45.463Z"
      },
      {
        "duration": 42,
        "start_time": "2023-06-14T10:48:45.593Z"
      },
      {
        "duration": 28,
        "start_time": "2023-06-14T10:48:45.652Z"
      },
      {
        "duration": 54,
        "start_time": "2023-06-14T10:48:45.682Z"
      },
      {
        "duration": 57,
        "start_time": "2023-06-14T10:48:45.742Z"
      },
      {
        "duration": 23,
        "start_time": "2023-06-14T10:48:45.801Z"
      },
      {
        "duration": 173,
        "start_time": "2023-06-14T10:48:45.826Z"
      },
      {
        "duration": 272,
        "start_time": "2023-06-14T10:48:46.001Z"
      },
      {
        "duration": 392,
        "start_time": "2023-06-14T10:48:46.275Z"
      },
      {
        "duration": 24,
        "start_time": "2023-06-14T10:48:46.668Z"
      },
      {
        "duration": 386,
        "start_time": "2023-06-14T10:48:46.694Z"
      },
      {
        "duration": 18,
        "start_time": "2023-06-14T10:48:47.082Z"
      },
      {
        "duration": 133,
        "start_time": "2023-06-14T10:48:47.101Z"
      },
      {
        "duration": 299,
        "start_time": "2023-06-14T10:48:47.236Z"
      },
      {
        "duration": 37,
        "start_time": "2023-06-14T10:48:47.539Z"
      },
      {
        "duration": 9,
        "start_time": "2023-06-14T10:48:47.578Z"
      },
      {
        "duration": 9,
        "start_time": "2023-06-14T10:48:47.589Z"
      },
      {
        "duration": 77,
        "start_time": "2023-06-14T10:48:47.600Z"
      },
      {
        "duration": 266,
        "start_time": "2023-06-14T10:48:47.685Z"
      },
      {
        "duration": 5,
        "start_time": "2023-06-14T10:48:47.953Z"
      },
      {
        "duration": 34,
        "start_time": "2023-06-14T10:48:47.959Z"
      },
      {
        "duration": 27,
        "start_time": "2023-06-14T10:48:47.994Z"
      },
      {
        "duration": 70,
        "start_time": "2023-06-14T10:48:48.023Z"
      },
      {
        "duration": 4,
        "start_time": "2023-06-14T10:48:48.095Z"
      },
      {
        "duration": 39,
        "start_time": "2023-06-14T10:48:48.100Z"
      },
      {
        "duration": 17,
        "start_time": "2023-06-14T10:48:48.141Z"
      },
      {
        "duration": 14,
        "start_time": "2023-06-14T10:48:48.165Z"
      },
      {
        "duration": 9,
        "start_time": "2023-06-14T10:48:48.181Z"
      },
      {
        "duration": 14,
        "start_time": "2023-06-14T10:48:48.192Z"
      },
      {
        "duration": 18,
        "start_time": "2023-06-14T10:48:48.218Z"
      },
      {
        "duration": 15,
        "start_time": "2023-06-14T10:48:48.238Z"
      },
      {
        "duration": 22,
        "start_time": "2023-06-14T10:48:48.256Z"
      },
      {
        "duration": 8,
        "start_time": "2023-06-14T10:48:48.280Z"
      },
      {
        "duration": 12,
        "start_time": "2023-06-14T10:48:48.290Z"
      },
      {
        "duration": 21,
        "start_time": "2023-06-14T10:48:48.303Z"
      },
      {
        "duration": 329417,
        "start_time": "2023-06-14T10:48:48.326Z"
      },
      {
        "duration": 4,
        "start_time": "2023-06-14T10:54:17.747Z"
      },
      {
        "duration": 157227,
        "start_time": "2023-06-14T10:54:17.753Z"
      },
      {
        "duration": 4,
        "start_time": "2023-06-14T10:56:54.982Z"
      },
      {
        "duration": 49616,
        "start_time": "2023-06-14T10:56:54.988Z"
      },
      {
        "duration": 260,
        "start_time": "2023-06-14T10:57:44.606Z"
      },
      {
        "duration": 278,
        "start_time": "2023-06-14T10:57:44.868Z"
      },
      {
        "duration": 4,
        "start_time": "2023-06-14T10:57:45.148Z"
      },
      {
        "duration": 7,
        "start_time": "2023-06-14T10:57:45.153Z"
      },
      {
        "duration": 5,
        "start_time": "2023-06-14T10:57:45.161Z"
      },
      {
        "duration": 67,
        "start_time": "2023-06-14T10:57:45.167Z"
      },
      {
        "duration": 93,
        "start_time": "2023-06-14T10:57:45.236Z"
      },
      {
        "duration": 37,
        "start_time": "2023-06-14T10:57:45.331Z"
      },
      {
        "duration": 394646,
        "start_time": "2023-06-14T10:57:45.369Z"
      },
      {
        "duration": 353421,
        "start_time": "2023-06-14T11:04:20.019Z"
      },
      {
        "duration": 389613,
        "start_time": "2023-06-14T11:10:13.443Z"
      },
      {
        "duration": 356434,
        "start_time": "2023-06-14T11:16:43.114Z"
      },
      {
        "duration": 476,
        "start_time": "2023-06-14T11:22:39.554Z"
      },
      {
        "duration": 10,
        "start_time": "2023-06-14T11:22:40.034Z"
      },
      {
        "duration": 24,
        "start_time": "2023-06-14T11:22:40.054Z"
      },
      {
        "duration": 9,
        "start_time": "2023-06-14T11:22:40.080Z"
      },
      {
        "duration": 17,
        "start_time": "2023-06-14T11:22:40.092Z"
      },
      {
        "duration": 52,
        "start_time": "2023-06-14T11:22:40.114Z"
      },
      {
        "duration": 16,
        "start_time": "2023-06-14T11:22:40.168Z"
      },
      {
        "duration": 19,
        "start_time": "2023-06-14T11:22:40.186Z"
      },
      {
        "duration": 71,
        "start_time": "2023-06-14T11:23:06.515Z"
      },
      {
        "duration": 2819,
        "start_time": "2023-06-14T11:23:26.786Z"
      },
      {
        "duration": 2858,
        "start_time": "2023-06-14T11:23:29.608Z"
      },
      {
        "duration": 4096,
        "start_time": "2023-06-14T11:23:32.468Z"
      },
      {
        "duration": 20,
        "start_time": "2023-06-14T11:23:36.566Z"
      },
      {
        "duration": 264,
        "start_time": "2023-06-14T11:23:36.589Z"
      },
      {
        "duration": 1145,
        "start_time": "2023-06-14T11:23:36.858Z"
      },
      {
        "duration": 54,
        "start_time": "2023-06-14T11:23:38.005Z"
      },
      {
        "duration": 35,
        "start_time": "2023-06-14T11:23:38.060Z"
      },
      {
        "duration": 5,
        "start_time": "2023-06-14T11:23:38.096Z"
      },
      {
        "duration": 98,
        "start_time": "2023-06-14T11:23:38.103Z"
      },
      {
        "duration": 86,
        "start_time": "2023-06-14T11:23:38.203Z"
      },
      {
        "duration": 79,
        "start_time": "2023-06-14T11:23:38.291Z"
      },
      {
        "duration": 76,
        "start_time": "2023-06-14T11:23:38.372Z"
      },
      {
        "duration": 337,
        "start_time": "2023-06-14T11:23:38.460Z"
      },
      {
        "duration": 422,
        "start_time": "2023-06-14T11:23:38.799Z"
      },
      {
        "duration": 33,
        "start_time": "2023-06-14T11:23:39.223Z"
      },
      {
        "duration": 27,
        "start_time": "2023-06-14T11:23:39.262Z"
      },
      {
        "duration": 66,
        "start_time": "2023-06-14T11:23:39.291Z"
      },
      {
        "duration": 418,
        "start_time": "2023-06-14T11:23:39.361Z"
      },
      {
        "duration": 44,
        "start_time": "2023-06-14T11:23:39.781Z"
      },
      {
        "duration": 42,
        "start_time": "2023-06-14T11:23:39.838Z"
      },
      {
        "duration": 55,
        "start_time": "2023-06-14T11:23:39.882Z"
      },
      {
        "duration": 170,
        "start_time": "2023-06-14T11:23:39.940Z"
      },
      {
        "duration": 41,
        "start_time": "2023-06-14T11:23:40.112Z"
      },
      {
        "duration": 30,
        "start_time": "2023-06-14T11:23:40.165Z"
      },
      {
        "duration": 43,
        "start_time": "2023-06-14T11:23:40.198Z"
      },
      {
        "duration": 94,
        "start_time": "2023-06-14T11:23:40.247Z"
      },
      {
        "duration": 35,
        "start_time": "2023-06-14T11:23:40.346Z"
      },
      {
        "duration": 164,
        "start_time": "2023-06-14T11:23:40.383Z"
      },
      {
        "duration": 286,
        "start_time": "2023-06-14T11:23:40.549Z"
      },
      {
        "duration": 368,
        "start_time": "2023-06-14T11:23:40.836Z"
      },
      {
        "duration": 59,
        "start_time": "2023-06-14T11:23:41.206Z"
      },
      {
        "duration": 391,
        "start_time": "2023-06-14T11:23:41.268Z"
      },
      {
        "duration": 25,
        "start_time": "2023-06-14T11:23:41.673Z"
      },
      {
        "duration": 210,
        "start_time": "2023-06-14T11:23:41.700Z"
      },
      {
        "duration": 325,
        "start_time": "2023-06-14T11:23:41.912Z"
      },
      {
        "duration": 38,
        "start_time": "2023-06-14T11:23:42.243Z"
      },
      {
        "duration": 11,
        "start_time": "2023-06-14T11:23:42.283Z"
      },
      {
        "duration": 35,
        "start_time": "2023-06-14T11:23:42.296Z"
      },
      {
        "duration": 69,
        "start_time": "2023-06-14T11:23:42.334Z"
      },
      {
        "duration": 272,
        "start_time": "2023-06-14T11:23:42.409Z"
      },
      {
        "duration": 5,
        "start_time": "2023-06-14T11:23:42.683Z"
      },
      {
        "duration": 52,
        "start_time": "2023-06-14T11:23:42.690Z"
      },
      {
        "duration": 19,
        "start_time": "2023-06-14T11:23:42.743Z"
      },
      {
        "duration": 81,
        "start_time": "2023-06-14T11:23:42.764Z"
      },
      {
        "duration": 9,
        "start_time": "2023-06-14T11:23:42.851Z"
      },
      {
        "duration": 25,
        "start_time": "2023-06-14T11:23:42.862Z"
      },
      {
        "duration": 5,
        "start_time": "2023-06-14T11:23:42.889Z"
      },
      {
        "duration": 26,
        "start_time": "2023-06-14T11:23:42.895Z"
      },
      {
        "duration": 13,
        "start_time": "2023-06-14T11:23:42.923Z"
      },
      {
        "duration": 20,
        "start_time": "2023-06-14T11:23:42.942Z"
      },
      {
        "duration": 12,
        "start_time": "2023-06-14T11:23:42.964Z"
      },
      {
        "duration": 5,
        "start_time": "2023-06-14T11:23:42.978Z"
      },
      {
        "duration": 7,
        "start_time": "2023-06-14T11:23:42.984Z"
      },
      {
        "duration": 3,
        "start_time": "2023-06-14T11:23:42.993Z"
      },
      {
        "duration": 29,
        "start_time": "2023-06-14T11:23:42.998Z"
      },
      {
        "duration": 6,
        "start_time": "2023-06-14T11:23:43.043Z"
      },
      {
        "duration": 336246,
        "start_time": "2023-06-14T11:23:43.052Z"
      },
      {
        "duration": 5,
        "start_time": "2023-06-14T11:29:19.301Z"
      },
      {
        "duration": 162787,
        "start_time": "2023-06-14T11:29:19.308Z"
      },
      {
        "duration": 4,
        "start_time": "2023-06-14T11:32:02.097Z"
      },
      {
        "duration": 50627,
        "start_time": "2023-06-14T11:32:02.103Z"
      },
      {
        "duration": 251,
        "start_time": "2023-06-14T11:32:52.732Z"
      },
      {
        "duration": 274,
        "start_time": "2023-06-14T11:32:52.985Z"
      },
      {
        "duration": 2,
        "start_time": "2023-06-14T11:32:53.262Z"
      },
      {
        "duration": 19,
        "start_time": "2023-06-14T11:32:53.266Z"
      },
      {
        "duration": 16,
        "start_time": "2023-06-14T11:32:53.288Z"
      },
      {
        "duration": 64,
        "start_time": "2023-06-14T11:32:53.306Z"
      },
      {
        "duration": 100,
        "start_time": "2023-06-14T11:32:53.371Z"
      },
      {
        "duration": 40,
        "start_time": "2023-06-14T11:32:53.473Z"
      },
      {
        "duration": 533232,
        "start_time": "2023-06-14T11:32:53.515Z"
      },
      {
        "duration": 351582,
        "start_time": "2023-06-14T11:41:46.749Z"
      },
      {
        "duration": 391188,
        "start_time": "2023-06-14T11:47:38.333Z"
      },
      {
        "duration": 418404,
        "start_time": "2023-06-14T11:54:09.530Z"
      },
      {
        "duration": 479,
        "start_time": "2023-06-14T12:01:07.936Z"
      },
      {
        "duration": 6,
        "start_time": "2023-06-14T12:01:08.420Z"
      },
      {
        "duration": 26,
        "start_time": "2023-06-14T12:01:08.428Z"
      },
      {
        "duration": 21,
        "start_time": "2023-06-14T12:01:08.456Z"
      },
      {
        "duration": 28,
        "start_time": "2023-06-14T12:01:08.478Z"
      },
      {
        "duration": 27,
        "start_time": "2023-06-14T12:02:39.740Z"
      },
      {
        "duration": 14,
        "start_time": "2023-06-14T12:02:43.184Z"
      },
      {
        "duration": 7,
        "start_time": "2023-06-14T12:02:46.171Z"
      },
      {
        "duration": 79,
        "start_time": "2023-06-14T12:05:48.962Z"
      },
      {
        "duration": 7,
        "start_time": "2023-06-14T12:05:52.443Z"
      },
      {
        "duration": 3225,
        "start_time": "2023-06-14T12:11:16.327Z"
      },
      {
        "duration": 1862,
        "start_time": "2023-06-14T12:11:19.555Z"
      },
      {
        "duration": 3138,
        "start_time": "2023-06-14T12:11:21.419Z"
      },
      {
        "duration": 23,
        "start_time": "2023-06-14T12:11:24.560Z"
      },
      {
        "duration": 132,
        "start_time": "2023-06-14T12:11:24.585Z"
      },
      {
        "duration": 991,
        "start_time": "2023-06-14T12:11:24.719Z"
      },
      {
        "duration": 34,
        "start_time": "2023-06-14T12:11:25.714Z"
      },
      {
        "duration": 43,
        "start_time": "2023-06-14T12:11:25.750Z"
      },
      {
        "duration": 20,
        "start_time": "2023-06-14T12:11:25.795Z"
      },
      {
        "duration": 70,
        "start_time": "2023-06-14T12:11:25.819Z"
      },
      {
        "duration": 67,
        "start_time": "2023-06-14T12:11:25.891Z"
      },
      {
        "duration": 76,
        "start_time": "2023-06-14T12:11:25.959Z"
      },
      {
        "duration": 54,
        "start_time": "2023-06-14T12:11:26.037Z"
      },
      {
        "duration": 264,
        "start_time": "2023-06-14T12:11:26.093Z"
      },
      {
        "duration": 380,
        "start_time": "2023-06-14T12:11:26.359Z"
      },
      {
        "duration": 11,
        "start_time": "2023-06-14T12:11:26.742Z"
      },
      {
        "duration": 40,
        "start_time": "2023-06-14T12:11:26.755Z"
      },
      {
        "duration": 62,
        "start_time": "2023-06-14T12:11:26.797Z"
      },
      {
        "duration": 336,
        "start_time": "2023-06-14T12:11:26.862Z"
      },
      {
        "duration": 27,
        "start_time": "2023-06-14T12:11:27.201Z"
      },
      {
        "duration": 58,
        "start_time": "2023-06-14T12:11:27.231Z"
      },
      {
        "duration": 46,
        "start_time": "2023-06-14T12:11:27.291Z"
      },
      {
        "duration": 142,
        "start_time": "2023-06-14T12:11:27.339Z"
      },
      {
        "duration": 21,
        "start_time": "2023-06-14T12:11:27.483Z"
      },
      {
        "duration": 17,
        "start_time": "2023-06-14T12:11:27.512Z"
      },
      {
        "duration": 20,
        "start_time": "2023-06-14T12:11:27.531Z"
      },
      {
        "duration": 47,
        "start_time": "2023-06-14T12:11:27.553Z"
      },
      {
        "duration": 22,
        "start_time": "2023-06-14T12:11:27.695Z"
      },
      {
        "duration": 177,
        "start_time": "2023-06-14T12:11:27.719Z"
      },
      {
        "duration": 195,
        "start_time": "2023-06-14T12:11:27.897Z"
      },
      {
        "duration": 423,
        "start_time": "2023-06-14T12:11:28.094Z"
      },
      {
        "duration": 30,
        "start_time": "2023-06-14T12:11:28.519Z"
      },
      {
        "duration": 424,
        "start_time": "2023-06-14T12:11:28.551Z"
      },
      {
        "duration": 25,
        "start_time": "2023-06-14T12:11:28.978Z"
      },
      {
        "duration": 148,
        "start_time": "2023-06-14T12:11:29.014Z"
      },
      {
        "duration": 283,
        "start_time": "2023-06-14T12:11:29.164Z"
      },
      {
        "duration": 25,
        "start_time": "2023-06-14T12:11:29.449Z"
      },
      {
        "duration": 16,
        "start_time": "2023-06-14T12:11:29.476Z"
      },
      {
        "duration": 24,
        "start_time": "2023-06-14T12:11:29.495Z"
      },
      {
        "duration": 53,
        "start_time": "2023-06-14T12:11:29.522Z"
      },
      {
        "duration": 345,
        "start_time": "2023-06-14T12:11:29.578Z"
      },
      {
        "duration": 5,
        "start_time": "2023-06-14T12:11:29.926Z"
      },
      {
        "duration": 32,
        "start_time": "2023-06-14T12:11:29.934Z"
      },
      {
        "duration": 14,
        "start_time": "2023-06-14T12:11:29.969Z"
      },
      {
        "duration": 96,
        "start_time": "2023-06-14T12:11:29.985Z"
      },
      {
        "duration": 5,
        "start_time": "2023-06-14T12:11:30.083Z"
      },
      {
        "duration": 65,
        "start_time": "2023-06-14T12:11:30.089Z"
      },
      {
        "duration": 9,
        "start_time": "2023-06-14T12:11:30.155Z"
      },
      {
        "duration": 52,
        "start_time": "2023-06-14T12:11:30.166Z"
      },
      {
        "duration": 17,
        "start_time": "2023-06-14T12:11:30.221Z"
      },
      {
        "duration": 31,
        "start_time": "2023-06-14T12:11:30.240Z"
      },
      {
        "duration": 51,
        "start_time": "2023-06-14T12:11:30.273Z"
      },
      {
        "duration": 19,
        "start_time": "2023-06-14T12:11:30.326Z"
      },
      {
        "duration": 29,
        "start_time": "2023-06-14T12:11:30.347Z"
      },
      {
        "duration": 24,
        "start_time": "2023-06-14T12:11:30.378Z"
      },
      {
        "duration": 28,
        "start_time": "2023-06-14T12:11:30.404Z"
      },
      {
        "duration": 35,
        "start_time": "2023-06-14T12:11:30.434Z"
      },
      {
        "duration": 298090,
        "start_time": "2023-06-14T12:11:30.471Z"
      },
      {
        "duration": 5,
        "start_time": "2023-06-14T12:16:28.563Z"
      },
      {
        "duration": 147769,
        "start_time": "2023-06-14T12:16:28.570Z"
      },
      {
        "duration": 5,
        "start_time": "2023-06-14T12:18:56.341Z"
      },
      {
        "duration": 45512,
        "start_time": "2023-06-14T12:18:56.348Z"
      },
      {
        "duration": 336,
        "start_time": "2023-06-14T12:19:41.862Z"
      },
      {
        "duration": 365,
        "start_time": "2023-06-14T12:19:42.200Z"
      },
      {
        "duration": 3,
        "start_time": "2023-06-14T12:19:42.567Z"
      },
      {
        "duration": 8,
        "start_time": "2023-06-14T12:19:42.572Z"
      },
      {
        "duration": 21,
        "start_time": "2023-06-14T12:19:42.582Z"
      },
      {
        "duration": 58,
        "start_time": "2023-06-14T12:19:42.605Z"
      },
      {
        "duration": 85,
        "start_time": "2023-06-14T12:19:42.665Z"
      },
      {
        "duration": 34,
        "start_time": "2023-06-14T12:19:42.752Z"
      },
      {
        "duration": 5,
        "start_time": "2023-06-14T12:19:42.788Z"
      },
      {
        "duration": 348238,
        "start_time": "2023-06-14T12:19:42.795Z"
      },
      {
        "duration": 489,
        "start_time": "2023-06-14T12:25:31.035Z"
      },
      {
        "duration": 326602,
        "start_time": "2023-06-14T12:25:31.526Z"
      },
      {
        "duration": 397,
        "start_time": "2023-06-14T12:30:58.131Z"
      },
      {
        "duration": 122,
        "start_time": "2023-06-14T12:30:58.530Z"
      },
      {
        "duration": 0,
        "start_time": "2023-06-14T12:30:58.654Z"
      },
      {
        "duration": 27,
        "start_time": "2023-06-14T12:53:27.967Z"
      },
      {
        "duration": 12,
        "start_time": "2023-06-14T12:53:31.095Z"
      },
      {
        "duration": 7,
        "start_time": "2023-06-14T12:53:31.658Z"
      },
      {
        "duration": 2393,
        "start_time": "2023-06-14T12:55:04.193Z"
      },
      {
        "duration": 1775,
        "start_time": "2023-06-14T12:55:06.589Z"
      },
      {
        "duration": 3281,
        "start_time": "2023-06-14T12:55:08.366Z"
      },
      {
        "duration": 18,
        "start_time": "2023-06-14T12:55:11.649Z"
      },
      {
        "duration": 132,
        "start_time": "2023-06-14T12:55:11.670Z"
      },
      {
        "duration": 930,
        "start_time": "2023-06-14T12:55:11.804Z"
      },
      {
        "duration": 24,
        "start_time": "2023-06-14T12:55:12.736Z"
      },
      {
        "duration": 39,
        "start_time": "2023-06-14T12:55:12.761Z"
      },
      {
        "duration": 5,
        "start_time": "2023-06-14T12:55:12.802Z"
      },
      {
        "duration": 86,
        "start_time": "2023-06-14T12:55:12.808Z"
      },
      {
        "duration": 76,
        "start_time": "2023-06-14T12:55:12.897Z"
      },
      {
        "duration": 91,
        "start_time": "2023-06-14T12:55:12.975Z"
      },
      {
        "duration": 75,
        "start_time": "2023-06-14T12:55:13.068Z"
      },
      {
        "duration": 285,
        "start_time": "2023-06-14T12:55:13.147Z"
      },
      {
        "duration": 358,
        "start_time": "2023-06-14T12:55:13.434Z"
      },
      {
        "duration": 10,
        "start_time": "2023-06-14T12:55:13.794Z"
      },
      {
        "duration": 31,
        "start_time": "2023-06-14T12:55:13.815Z"
      },
      {
        "duration": 71,
        "start_time": "2023-06-14T12:55:13.849Z"
      },
      {
        "duration": 336,
        "start_time": "2023-06-14T12:55:13.924Z"
      },
      {
        "duration": 21,
        "start_time": "2023-06-14T12:55:14.262Z"
      },
      {
        "duration": 47,
        "start_time": "2023-06-14T12:55:14.285Z"
      },
      {
        "duration": 22,
        "start_time": "2023-06-14T12:55:14.334Z"
      },
      {
        "duration": 135,
        "start_time": "2023-06-14T12:55:14.358Z"
      },
      {
        "duration": 26,
        "start_time": "2023-06-14T12:55:14.495Z"
      },
      {
        "duration": 26,
        "start_time": "2023-06-14T12:55:14.524Z"
      },
      {
        "duration": 28,
        "start_time": "2023-06-14T12:55:14.551Z"
      },
      {
        "duration": 52,
        "start_time": "2023-06-14T12:55:14.581Z"
      },
      {
        "duration": 19,
        "start_time": "2023-06-14T12:55:14.635Z"
      },
      {
        "duration": 124,
        "start_time": "2023-06-14T12:55:14.656Z"
      },
      {
        "duration": 214,
        "start_time": "2023-06-14T12:55:14.782Z"
      },
      {
        "duration": 327,
        "start_time": "2023-06-14T12:55:14.998Z"
      },
      {
        "duration": 21,
        "start_time": "2023-06-14T12:55:15.327Z"
      },
      {
        "duration": 309,
        "start_time": "2023-06-14T12:55:15.350Z"
      },
      {
        "duration": 22,
        "start_time": "2023-06-14T12:55:15.661Z"
      },
      {
        "duration": 138,
        "start_time": "2023-06-14T12:55:15.684Z"
      },
      {
        "duration": 269,
        "start_time": "2023-06-14T12:55:15.824Z"
      },
      {
        "duration": 41,
        "start_time": "2023-06-14T12:55:16.095Z"
      },
      {
        "duration": 16,
        "start_time": "2023-06-14T12:55:16.138Z"
      },
      {
        "duration": 16,
        "start_time": "2023-06-14T12:55:16.157Z"
      },
      {
        "duration": 65,
        "start_time": "2023-06-14T12:55:16.176Z"
      },
      {
        "duration": 280,
        "start_time": "2023-06-14T12:55:16.245Z"
      },
      {
        "duration": 5,
        "start_time": "2023-06-14T12:55:16.527Z"
      },
      {
        "duration": 50,
        "start_time": "2023-06-14T12:55:16.534Z"
      },
      {
        "duration": 16,
        "start_time": "2023-06-14T12:55:16.586Z"
      },
      {
        "duration": 92,
        "start_time": "2023-06-14T12:55:16.604Z"
      },
      {
        "duration": 4,
        "start_time": "2023-06-14T12:55:16.697Z"
      },
      {
        "duration": 45,
        "start_time": "2023-06-14T12:55:16.703Z"
      },
      {
        "duration": 4,
        "start_time": "2023-06-14T12:55:16.749Z"
      },
      {
        "duration": 21,
        "start_time": "2023-06-14T12:55:16.755Z"
      },
      {
        "duration": 23,
        "start_time": "2023-06-14T12:55:16.778Z"
      },
      {
        "duration": 34,
        "start_time": "2023-06-14T12:55:16.802Z"
      },
      {
        "duration": 2,
        "start_time": "2023-06-14T12:55:30.194Z"
      },
      {
        "duration": 41,
        "start_time": "2023-06-14T12:55:42.938Z"
      },
      {
        "duration": 10,
        "start_time": "2023-06-14T12:55:46.008Z"
      },
      {
        "duration": 25,
        "start_time": "2023-06-14T12:55:48.128Z"
      },
      {
        "duration": 32,
        "start_time": "2023-06-14T12:55:48.933Z"
      },
      {
        "duration": 22,
        "start_time": "2023-06-14T12:56:19.929Z"
      },
      {
        "duration": 26,
        "start_time": "2023-06-14T12:56:26.225Z"
      },
      {
        "duration": 35,
        "start_time": "2023-06-14T12:56:41.308Z"
      },
      {
        "duration": 35,
        "start_time": "2023-06-14T12:56:42.494Z"
      },
      {
        "duration": 15,
        "start_time": "2023-06-14T12:57:36.721Z"
      },
      {
        "duration": 18,
        "start_time": "2023-06-14T12:57:37.805Z"
      },
      {
        "duration": 57369,
        "start_time": "2023-06-14T12:57:38.610Z"
      },
      {
        "duration": 38019,
        "start_time": "2023-06-14T12:58:44.743Z"
      },
      {
        "duration": 4,
        "start_time": "2023-06-14T12:59:22.765Z"
      },
      {
        "duration": 25,
        "start_time": "2023-06-14T12:59:22.771Z"
      },
      {
        "duration": 156,
        "start_time": "2023-06-14T12:59:22.798Z"
      },
      {
        "duration": 78,
        "start_time": "2023-06-14T12:59:22.956Z"
      },
      {
        "duration": 133481,
        "start_time": "2023-06-14T12:59:23.036Z"
      },
      {
        "duration": 14,
        "start_time": "2023-06-14T13:01:36.519Z"
      },
      {
        "duration": 3097,
        "start_time": "2023-06-14T13:01:36.535Z"
      },
      {
        "duration": 314,
        "start_time": "2023-06-14T13:01:39.634Z"
      },
      {
        "duration": 110,
        "start_time": "2023-06-14T13:01:40.021Z"
      },
      {
        "duration": 3,
        "start_time": "2023-06-14T13:01:40.133Z"
      },
      {
        "duration": 8953,
        "start_time": "2023-06-14T18:29:40.233Z"
      },
      {
        "duration": 1911,
        "start_time": "2023-06-14T18:29:49.190Z"
      },
      {
        "duration": 3394,
        "start_time": "2023-06-14T18:29:51.103Z"
      },
      {
        "duration": 111,
        "start_time": "2023-06-14T18:29:54.510Z"
      },
      {
        "duration": 256,
        "start_time": "2023-06-14T18:29:54.641Z"
      },
      {
        "duration": 1533,
        "start_time": "2023-06-14T18:29:54.906Z"
      },
      {
        "duration": 46,
        "start_time": "2023-06-14T18:29:56.444Z"
      },
      {
        "duration": 55,
        "start_time": "2023-06-14T18:29:56.492Z"
      },
      {
        "duration": 6,
        "start_time": "2023-06-14T18:29:56.550Z"
      },
      {
        "duration": 76,
        "start_time": "2023-06-14T18:29:56.559Z"
      },
      {
        "duration": 96,
        "start_time": "2023-06-14T18:29:56.640Z"
      },
      {
        "duration": 100,
        "start_time": "2023-06-14T18:29:56.738Z"
      },
      {
        "duration": 82,
        "start_time": "2023-06-14T18:29:56.840Z"
      },
      {
        "duration": 370,
        "start_time": "2023-06-14T18:29:56.927Z"
      },
      {
        "duration": 473,
        "start_time": "2023-06-14T18:29:57.299Z"
      },
      {
        "duration": 14,
        "start_time": "2023-06-14T18:29:57.774Z"
      },
      {
        "duration": 51,
        "start_time": "2023-06-14T18:29:57.790Z"
      },
      {
        "duration": 79,
        "start_time": "2023-06-14T18:29:57.844Z"
      },
      {
        "duration": 492,
        "start_time": "2023-06-14T18:29:57.926Z"
      },
      {
        "duration": 35,
        "start_time": "2023-06-14T18:29:58.420Z"
      },
      {
        "duration": 55,
        "start_time": "2023-06-14T18:29:58.457Z"
      },
      {
        "duration": 42,
        "start_time": "2023-06-14T18:29:58.514Z"
      },
      {
        "duration": 168,
        "start_time": "2023-06-14T18:29:58.558Z"
      },
      {
        "duration": 40,
        "start_time": "2023-06-14T18:29:58.728Z"
      },
      {
        "duration": 48,
        "start_time": "2023-06-14T18:29:58.770Z"
      },
      {
        "duration": 26,
        "start_time": "2023-06-14T18:29:58.823Z"
      },
      {
        "duration": 65,
        "start_time": "2023-06-14T18:29:58.851Z"
      },
      {
        "duration": 30,
        "start_time": "2023-06-14T18:29:58.918Z"
      },
      {
        "duration": 113,
        "start_time": "2023-06-14T18:29:58.951Z"
      },
      {
        "duration": 223,
        "start_time": "2023-06-14T18:29:59.066Z"
      },
      {
        "duration": 472,
        "start_time": "2023-06-14T18:29:59.291Z"
      },
      {
        "duration": 33,
        "start_time": "2023-06-14T18:29:59.767Z"
      },
      {
        "duration": 555,
        "start_time": "2023-06-14T18:29:59.804Z"
      },
      {
        "duration": 31,
        "start_time": "2023-06-14T18:30:00.361Z"
      },
      {
        "duration": 149,
        "start_time": "2023-06-14T18:30:00.398Z"
      },
      {
        "duration": 279,
        "start_time": "2023-06-14T18:30:00.552Z"
      },
      {
        "duration": 26,
        "start_time": "2023-06-14T18:30:00.833Z"
      },
      {
        "duration": 12,
        "start_time": "2023-06-14T18:30:00.861Z"
      },
      {
        "duration": 49,
        "start_time": "2023-06-14T18:30:00.875Z"
      },
      {
        "duration": 84,
        "start_time": "2023-06-14T18:30:00.926Z"
      },
      {
        "duration": 350,
        "start_time": "2023-06-14T18:30:01.016Z"
      },
      {
        "duration": 4,
        "start_time": "2023-06-14T18:30:01.369Z"
      },
      {
        "duration": 29,
        "start_time": "2023-06-14T18:30:41.991Z"
      },
      {
        "duration": 16,
        "start_time": "2023-06-14T18:30:42.887Z"
      },
      {
        "duration": 92,
        "start_time": "2023-06-14T18:30:45.898Z"
      },
      {
        "duration": 10,
        "start_time": "2023-06-14T18:30:49.210Z"
      },
      {
        "duration": 37,
        "start_time": "2023-06-14T18:30:50.967Z"
      },
      {
        "duration": 6,
        "start_time": "2023-06-14T18:30:52.282Z"
      },
      {
        "duration": 16,
        "start_time": "2023-06-14T18:30:55.051Z"
      },
      {
        "duration": 16,
        "start_time": "2023-06-14T18:30:55.636Z"
      },
      {
        "duration": 16,
        "start_time": "2023-06-14T18:30:56.151Z"
      },
      {
        "duration": 55,
        "start_time": "2023-06-14T18:34:08.908Z"
      },
      {
        "duration": 15,
        "start_time": "2023-06-14T18:34:13.224Z"
      },
      {
        "duration": 25,
        "start_time": "2023-06-14T18:34:14.018Z"
      },
      {
        "duration": 64026,
        "start_time": "2023-06-14T18:34:16.237Z"
      },
      {
        "duration": 40856,
        "start_time": "2023-06-14T18:35:45.810Z"
      },
      {
        "duration": 9,
        "start_time": "2023-06-14T18:36:26.670Z"
      },
      {
        "duration": 10,
        "start_time": "2023-06-14T18:36:41.947Z"
      },
      {
        "duration": 189,
        "start_time": "2023-06-14T18:36:42.747Z"
      },
      {
        "duration": 103,
        "start_time": "2023-06-14T18:36:45.703Z"
      },
      {
        "duration": 119224,
        "start_time": "2023-06-14T18:36:46.905Z"
      },
      {
        "duration": 5,
        "start_time": "2023-06-14T18:40:53.880Z"
      },
      {
        "duration": 5906,
        "start_time": "2023-06-14T18:41:19.812Z"
      },
      {
        "duration": 343,
        "start_time": "2023-06-14T18:41:25.721Z"
      },
      {
        "duration": 178,
        "start_time": "2023-06-14T18:41:26.068Z"
      },
      {
        "duration": 5,
        "start_time": "2023-06-14T18:41:50.791Z"
      },
      {
        "duration": 4,
        "start_time": "2023-06-14T18:42:15.044Z"
      },
      {
        "duration": 20,
        "start_time": "2023-06-14T18:42:23.107Z"
      },
      {
        "duration": 5,
        "start_time": "2023-06-14T18:42:24.522Z"
      },
      {
        "duration": 402009,
        "start_time": "2023-06-14T18:42:55.690Z"
      },
      {
        "duration": 5,
        "start_time": "2023-06-14T18:50:52.276Z"
      },
      {
        "duration": 187158,
        "start_time": "2023-06-14T18:51:02.536Z"
      },
      {
        "duration": 4,
        "start_time": "2023-06-14T18:54:09.696Z"
      },
      {
        "duration": 62080,
        "start_time": "2023-06-14T18:54:19.130Z"
      },
      {
        "duration": 362,
        "start_time": "2023-06-14T18:56:00.231Z"
      },
      {
        "duration": 400,
        "start_time": "2023-06-14T18:56:04.258Z"
      },
      {
        "duration": 6,
        "start_time": "2023-06-14T18:56:26.852Z"
      },
      {
        "duration": 6,
        "start_time": "2023-06-14T18:57:25.156Z"
      },
      {
        "duration": 49,
        "start_time": "2023-06-14T18:57:26.558Z"
      },
      {
        "duration": 129,
        "start_time": "2023-06-14T18:57:36.587Z"
      },
      {
        "duration": 71,
        "start_time": "2023-06-14T18:57:40.999Z"
      },
      {
        "duration": 456722,
        "start_time": "2023-06-14T18:57:51.611Z"
      },
      {
        "duration": 479,
        "start_time": "2023-06-14T19:05:44.340Z"
      },
      {
        "duration": 496393,
        "start_time": "2023-06-14T19:05:49.144Z"
      },
      {
        "duration": 466,
        "start_time": "2023-06-14T19:14:19.761Z"
      },
      {
        "duration": 6,
        "start_time": "2023-06-14T19:15:57.631Z"
      },
      {
        "duration": 26,
        "start_time": "2023-06-14T19:16:09.667Z"
      },
      {
        "duration": 16,
        "start_time": "2023-06-14T19:16:14.036Z"
      },
      {
        "duration": 455,
        "start_time": "2023-06-14T19:16:25.648Z"
      },
      {
        "duration": 6500,
        "start_time": "2023-06-15T15:17:51.447Z"
      },
      {
        "duration": 1390,
        "start_time": "2023-06-15T15:17:57.949Z"
      },
      {
        "duration": 2756,
        "start_time": "2023-06-15T15:17:59.340Z"
      },
      {
        "duration": 16,
        "start_time": "2023-06-15T15:18:02.098Z"
      },
      {
        "duration": 205,
        "start_time": "2023-06-15T15:18:02.116Z"
      },
      {
        "duration": 862,
        "start_time": "2023-06-15T15:18:02.323Z"
      },
      {
        "duration": 24,
        "start_time": "2023-06-15T15:18:03.187Z"
      },
      {
        "duration": 55,
        "start_time": "2023-06-15T15:18:03.213Z"
      },
      {
        "duration": 15,
        "start_time": "2023-06-15T15:18:03.270Z"
      },
      {
        "duration": 72,
        "start_time": "2023-06-15T15:18:03.287Z"
      },
      {
        "duration": 57,
        "start_time": "2023-06-15T15:18:03.360Z"
      },
      {
        "duration": 65,
        "start_time": "2023-06-15T15:18:03.418Z"
      },
      {
        "duration": 51,
        "start_time": "2023-06-15T15:18:03.485Z"
      },
      {
        "duration": 184,
        "start_time": "2023-06-15T15:18:11.158Z"
      },
      {
        "duration": 175,
        "start_time": "2023-06-15T15:18:17.848Z"
      },
      {
        "duration": 21,
        "start_time": "2023-06-15T15:21:04.655Z"
      },
      {
        "duration": 24,
        "start_time": "2023-06-15T15:21:11.668Z"
      },
      {
        "duration": 18,
        "start_time": "2023-06-15T15:21:11.695Z"
      },
      {
        "duration": 119,
        "start_time": "2023-06-15T15:21:11.715Z"
      },
      {
        "duration": 27,
        "start_time": "2023-06-15T15:21:11.836Z"
      },
      {
        "duration": 24,
        "start_time": "2023-06-15T15:21:11.865Z"
      },
      {
        "duration": 19,
        "start_time": "2023-06-15T15:21:11.891Z"
      },
      {
        "duration": 79,
        "start_time": "2023-06-15T15:21:11.912Z"
      },
      {
        "duration": 20,
        "start_time": "2023-06-15T15:21:11.993Z"
      },
      {
        "duration": 116,
        "start_time": "2023-06-15T15:21:12.014Z"
      },
      {
        "duration": 127,
        "start_time": "2023-06-15T15:21:12.132Z"
      },
      {
        "duration": 303,
        "start_time": "2023-06-15T15:21:12.261Z"
      },
      {
        "duration": 19,
        "start_time": "2023-06-15T15:22:17.975Z"
      },
      {
        "duration": 283,
        "start_time": "2023-06-15T15:22:17.995Z"
      },
      {
        "duration": 20,
        "start_time": "2023-06-15T15:22:18.280Z"
      },
      {
        "duration": 126,
        "start_time": "2023-06-15T15:22:18.301Z"
      },
      {
        "duration": 234,
        "start_time": "2023-06-15T15:22:18.429Z"
      },
      {
        "duration": 24,
        "start_time": "2023-06-15T15:22:18.664Z"
      },
      {
        "duration": 13,
        "start_time": "2023-06-15T15:22:18.689Z"
      },
      {
        "duration": 15,
        "start_time": "2023-06-15T15:22:18.704Z"
      },
      {
        "duration": 71,
        "start_time": "2023-06-15T15:22:18.721Z"
      },
      {
        "duration": 195,
        "start_time": "2023-06-15T15:22:25.464Z"
      },
      {
        "duration": 4,
        "start_time": "2023-06-15T15:22:25.661Z"
      },
      {
        "duration": 56,
        "start_time": "2023-06-15T15:23:20.543Z"
      },
      {
        "duration": 24,
        "start_time": "2023-06-15T15:27:38.238Z"
      },
      {
        "duration": 10,
        "start_time": "2023-06-15T15:31:22.470Z"
      },
      {
        "duration": 64,
        "start_time": "2023-06-15T15:31:22.481Z"
      },
      {
        "duration": 4,
        "start_time": "2023-06-15T15:31:22.547Z"
      },
      {
        "duration": 39,
        "start_time": "2023-06-15T15:31:22.552Z"
      },
      {
        "duration": 5,
        "start_time": "2023-06-15T15:32:37.425Z"
      },
      {
        "duration": 25,
        "start_time": "2023-06-15T15:32:37.433Z"
      },
      {
        "duration": 19,
        "start_time": "2023-06-15T15:32:37.460Z"
      },
      {
        "duration": 8,
        "start_time": "2023-06-15T15:32:42.939Z"
      },
      {
        "duration": 10671,
        "start_time": "2023-06-15T18:24:16.348Z"
      },
      {
        "duration": 2098,
        "start_time": "2023-06-15T18:24:27.021Z"
      },
      {
        "duration": 1315,
        "start_time": "2023-06-15T18:24:29.121Z"
      },
      {
        "duration": 18,
        "start_time": "2023-06-15T18:24:30.438Z"
      },
      {
        "duration": 225,
        "start_time": "2023-06-15T18:24:30.457Z"
      },
      {
        "duration": 1060,
        "start_time": "2023-06-15T18:24:30.688Z"
      },
      {
        "duration": 42,
        "start_time": "2023-06-15T18:24:31.750Z"
      },
      {
        "duration": 115,
        "start_time": "2023-06-15T18:24:31.794Z"
      },
      {
        "duration": 26,
        "start_time": "2023-06-15T18:24:31.911Z"
      },
      {
        "duration": 77,
        "start_time": "2023-06-15T18:24:31.940Z"
      },
      {
        "duration": 67,
        "start_time": "2023-06-15T18:24:32.018Z"
      },
      {
        "duration": 64,
        "start_time": "2023-06-15T18:24:32.087Z"
      },
      {
        "duration": 69,
        "start_time": "2023-06-15T18:24:32.152Z"
      },
      {
        "duration": 241,
        "start_time": "2023-06-15T18:24:32.223Z"
      },
      {
        "duration": 357,
        "start_time": "2023-06-15T18:24:32.466Z"
      },
      {
        "duration": 9,
        "start_time": "2023-06-15T18:24:32.824Z"
      },
      {
        "duration": 51,
        "start_time": "2023-06-15T18:24:32.835Z"
      },
      {
        "duration": 61,
        "start_time": "2023-06-15T18:24:32.889Z"
      },
      {
        "duration": 386,
        "start_time": "2023-06-15T18:24:32.952Z"
      },
      {
        "duration": 20,
        "start_time": "2023-06-15T18:24:33.340Z"
      },
      {
        "duration": 73,
        "start_time": "2023-06-15T18:24:33.362Z"
      },
      {
        "duration": 29,
        "start_time": "2023-06-15T18:24:33.437Z"
      },
      {
        "duration": 172,
        "start_time": "2023-06-15T18:24:33.467Z"
      },
      {
        "duration": 38,
        "start_time": "2023-06-15T18:24:33.641Z"
      },
      {
        "duration": 50,
        "start_time": "2023-06-15T18:24:33.681Z"
      },
      {
        "duration": 13,
        "start_time": "2023-06-15T18:24:33.733Z"
      },
      {
        "duration": 59,
        "start_time": "2023-06-15T18:24:33.748Z"
      },
      {
        "duration": 31,
        "start_time": "2023-06-15T18:24:33.815Z"
      },
      {
        "duration": 164,
        "start_time": "2023-06-15T18:24:33.848Z"
      },
      {
        "duration": 146,
        "start_time": "2023-06-15T18:24:34.013Z"
      },
      {
        "duration": 322,
        "start_time": "2023-06-15T18:24:34.160Z"
      },
      {
        "duration": 31,
        "start_time": "2023-06-15T18:24:34.484Z"
      },
      {
        "duration": 393,
        "start_time": "2023-06-15T18:24:34.516Z"
      },
      {
        "duration": 18,
        "start_time": "2023-06-15T18:24:34.911Z"
      },
      {
        "duration": 157,
        "start_time": "2023-06-15T18:24:34.930Z"
      },
      {
        "duration": 268,
        "start_time": "2023-06-15T18:24:35.089Z"
      },
      {
        "duration": 33,
        "start_time": "2023-06-15T18:24:35.359Z"
      },
      {
        "duration": 11,
        "start_time": "2023-06-15T18:24:35.396Z"
      },
      {
        "duration": 10,
        "start_time": "2023-06-15T18:24:35.409Z"
      },
      {
        "duration": 47,
        "start_time": "2023-06-15T18:24:35.421Z"
      },
      {
        "duration": 247,
        "start_time": "2023-06-15T18:24:35.470Z"
      },
      {
        "duration": 3,
        "start_time": "2023-06-15T18:24:35.719Z"
      },
      {
        "duration": 2734,
        "start_time": "2023-06-15T19:03:44.596Z"
      },
      {
        "duration": 1446,
        "start_time": "2023-06-15T19:03:47.333Z"
      },
      {
        "duration": 1063,
        "start_time": "2023-06-15T19:03:48.787Z"
      },
      {
        "duration": 26,
        "start_time": "2023-06-15T19:03:49.852Z"
      },
      {
        "duration": 209,
        "start_time": "2023-06-15T19:03:49.880Z"
      },
      {
        "duration": 1268,
        "start_time": "2023-06-15T19:03:50.096Z"
      },
      {
        "duration": 70,
        "start_time": "2023-06-15T19:03:51.366Z"
      },
      {
        "duration": 65,
        "start_time": "2023-06-15T19:03:51.438Z"
      },
      {
        "duration": 33,
        "start_time": "2023-06-15T19:03:51.505Z"
      },
      {
        "duration": 90,
        "start_time": "2023-06-15T19:03:51.540Z"
      },
      {
        "duration": 82,
        "start_time": "2023-06-15T19:03:51.632Z"
      },
      {
        "duration": 76,
        "start_time": "2023-06-15T19:03:51.721Z"
      },
      {
        "duration": 77,
        "start_time": "2023-06-15T19:03:51.799Z"
      },
      {
        "duration": 270,
        "start_time": "2023-06-15T19:03:51.886Z"
      },
      {
        "duration": 402,
        "start_time": "2023-06-15T19:03:52.158Z"
      },
      {
        "duration": 29,
        "start_time": "2023-06-15T19:03:52.562Z"
      },
      {
        "duration": 59,
        "start_time": "2023-06-15T19:03:52.593Z"
      },
      {
        "duration": 52,
        "start_time": "2023-06-15T19:03:52.653Z"
      },
      {
        "duration": 436,
        "start_time": "2023-06-15T19:03:52.707Z"
      },
      {
        "duration": 21,
        "start_time": "2023-06-15T19:03:53.144Z"
      },
      {
        "duration": 100,
        "start_time": "2023-06-15T19:03:53.167Z"
      },
      {
        "duration": 53,
        "start_time": "2023-06-15T19:03:53.268Z"
      },
      {
        "duration": 222,
        "start_time": "2023-06-15T19:03:53.324Z"
      },
      {
        "duration": 36,
        "start_time": "2023-06-15T19:03:53.548Z"
      },
      {
        "duration": 63,
        "start_time": "2023-06-15T19:03:53.588Z"
      },
      {
        "duration": 68,
        "start_time": "2023-06-15T19:03:53.653Z"
      },
      {
        "duration": 95,
        "start_time": "2023-06-15T19:03:53.723Z"
      },
      {
        "duration": 53,
        "start_time": "2023-06-15T19:03:53.821Z"
      },
      {
        "duration": 235,
        "start_time": "2023-06-15T19:03:53.878Z"
      },
      {
        "duration": 174,
        "start_time": "2023-06-15T19:03:54.116Z"
      },
      {
        "duration": 404,
        "start_time": "2023-06-15T19:03:54.291Z"
      },
      {
        "duration": 36,
        "start_time": "2023-06-15T19:03:54.706Z"
      },
      {
        "duration": 562,
        "start_time": "2023-06-15T19:03:54.744Z"
      },
      {
        "duration": 33,
        "start_time": "2023-06-15T19:03:55.308Z"
      },
      {
        "duration": 184,
        "start_time": "2023-06-15T19:03:55.343Z"
      },
      {
        "duration": 336,
        "start_time": "2023-06-15T19:03:55.532Z"
      },
      {
        "duration": 49,
        "start_time": "2023-06-15T19:03:55.881Z"
      },
      {
        "duration": 13,
        "start_time": "2023-06-15T19:03:55.934Z"
      },
      {
        "duration": 8,
        "start_time": "2023-06-15T19:03:55.950Z"
      },
      {
        "duration": 101,
        "start_time": "2023-06-15T19:03:55.959Z"
      },
      {
        "duration": 322,
        "start_time": "2023-06-15T19:03:56.064Z"
      },
      {
        "duration": 6,
        "start_time": "2023-06-15T19:03:56.388Z"
      },
      {
        "duration": 157,
        "start_time": "2023-06-15T19:03:56.396Z"
      },
      {
        "duration": 24,
        "start_time": "2023-06-15T19:03:56.555Z"
      },
      {
        "duration": 45,
        "start_time": "2023-06-15T19:03:56.584Z"
      },
      {
        "duration": 106,
        "start_time": "2023-06-15T19:03:56.632Z"
      },
      {
        "duration": 9,
        "start_time": "2023-06-15T19:03:56.741Z"
      },
      {
        "duration": 63,
        "start_time": "2023-06-15T19:03:56.752Z"
      },
      {
        "duration": 22,
        "start_time": "2023-06-15T19:03:56.818Z"
      },
      {
        "duration": 18,
        "start_time": "2023-06-15T19:03:56.843Z"
      },
      {
        "duration": 8,
        "start_time": "2023-06-15T19:03:56.863Z"
      },
      {
        "duration": 63,
        "start_time": "2023-06-15T19:03:56.872Z"
      },
      {
        "duration": 56,
        "start_time": "2023-06-15T19:03:56.937Z"
      },
      {
        "duration": 43,
        "start_time": "2023-06-15T19:03:56.994Z"
      },
      {
        "duration": 20,
        "start_time": "2023-06-15T19:03:57.039Z"
      },
      {
        "duration": 53617,
        "start_time": "2023-06-15T19:03:57.061Z"
      },
      {
        "duration": 185,
        "start_time": "2023-06-15T19:11:02.654Z"
      },
      {
        "duration": 3603,
        "start_time": "2023-06-15T19:11:57.011Z"
      },
      {
        "duration": 424,
        "start_time": "2023-06-15T19:12:28.833Z"
      },
      {
        "duration": 19,
        "start_time": "2023-06-15T19:13:13.951Z"
      },
      {
        "duration": 62,
        "start_time": "2023-06-15T19:13:41.707Z"
      },
      {
        "duration": 64,
        "start_time": "2023-06-15T19:13:51.951Z"
      },
      {
        "duration": 31,
        "start_time": "2023-06-15T19:13:58.504Z"
      },
      {
        "duration": 40,
        "start_time": "2023-06-15T19:14:08.211Z"
      },
      {
        "duration": 33,
        "start_time": "2023-06-15T19:14:19.815Z"
      },
      {
        "duration": 9353,
        "start_time": "2023-06-16T11:50:47.448Z"
      },
      {
        "duration": 3134,
        "start_time": "2023-06-16T11:50:56.804Z"
      },
      {
        "duration": 1706,
        "start_time": "2023-06-16T11:50:59.940Z"
      },
      {
        "duration": 1315,
        "start_time": "2023-06-16T11:51:01.648Z"
      },
      {
        "duration": 18,
        "start_time": "2023-06-16T11:51:02.966Z"
      },
      {
        "duration": 190,
        "start_time": "2023-06-16T11:51:02.985Z"
      },
      {
        "duration": 1013,
        "start_time": "2023-06-16T11:51:03.177Z"
      },
      {
        "duration": 44,
        "start_time": "2023-06-16T11:51:04.192Z"
      },
      {
        "duration": 32,
        "start_time": "2023-06-16T11:51:04.239Z"
      },
      {
        "duration": 4,
        "start_time": "2023-06-16T11:51:04.274Z"
      },
      {
        "duration": 57,
        "start_time": "2023-06-16T11:51:04.306Z"
      },
      {
        "duration": 83,
        "start_time": "2023-06-16T11:51:04.364Z"
      },
      {
        "duration": 82,
        "start_time": "2023-06-16T11:51:04.449Z"
      },
      {
        "duration": 69,
        "start_time": "2023-06-16T11:51:04.536Z"
      },
      {
        "duration": 233,
        "start_time": "2023-06-16T11:51:04.607Z"
      },
      {
        "duration": 338,
        "start_time": "2023-06-16T11:51:04.842Z"
      },
      {
        "duration": 9,
        "start_time": "2023-06-16T11:51:05.181Z"
      },
      {
        "duration": 48,
        "start_time": "2023-06-16T11:51:05.202Z"
      },
      {
        "duration": 92,
        "start_time": "2023-06-16T11:51:05.251Z"
      },
      {
        "duration": 443,
        "start_time": "2023-06-16T11:51:05.345Z"
      },
      {
        "duration": 40,
        "start_time": "2023-06-16T11:51:05.790Z"
      },
      {
        "duration": 33,
        "start_time": "2023-06-16T11:51:05.832Z"
      },
      {
        "duration": 20,
        "start_time": "2023-06-16T11:51:05.867Z"
      },
      {
        "duration": 132,
        "start_time": "2023-06-16T11:51:05.889Z"
      },
      {
        "duration": 21,
        "start_time": "2023-06-16T11:51:06.024Z"
      },
      {
        "duration": 26,
        "start_time": "2023-06-16T11:51:06.048Z"
      },
      {
        "duration": 23,
        "start_time": "2023-06-16T11:51:06.076Z"
      },
      {
        "duration": 76,
        "start_time": "2023-06-16T11:51:06.101Z"
      },
      {
        "duration": 18,
        "start_time": "2023-06-16T11:51:06.179Z"
      },
      {
        "duration": 151,
        "start_time": "2023-06-16T11:51:06.198Z"
      },
      {
        "duration": 132,
        "start_time": "2023-06-16T11:51:06.350Z"
      },
      {
        "duration": 340,
        "start_time": "2023-06-16T11:51:06.483Z"
      },
      {
        "duration": 19,
        "start_time": "2023-06-16T11:51:06.824Z"
      },
      {
        "duration": 392,
        "start_time": "2023-06-16T11:51:06.844Z"
      },
      {
        "duration": 19,
        "start_time": "2023-06-16T11:51:07.237Z"
      },
      {
        "duration": 125,
        "start_time": "2023-06-16T11:51:07.258Z"
      },
      {
        "duration": 290,
        "start_time": "2023-06-16T11:51:07.384Z"
      },
      {
        "duration": 47,
        "start_time": "2023-06-16T11:51:07.675Z"
      },
      {
        "duration": 9,
        "start_time": "2023-06-16T11:51:07.729Z"
      },
      {
        "duration": 8,
        "start_time": "2023-06-16T11:51:07.740Z"
      },
      {
        "duration": 51,
        "start_time": "2023-06-16T11:51:07.752Z"
      },
      {
        "duration": 262,
        "start_time": "2023-06-16T11:51:07.806Z"
      },
      {
        "duration": 3,
        "start_time": "2023-06-16T11:51:08.070Z"
      },
      {
        "duration": 83,
        "start_time": "2023-06-16T11:51:08.074Z"
      },
      {
        "duration": 67,
        "start_time": "2023-06-16T11:51:08.158Z"
      },
      {
        "duration": 35,
        "start_time": "2023-06-16T11:51:08.228Z"
      },
      {
        "duration": 82,
        "start_time": "2023-06-16T11:51:08.265Z"
      },
      {
        "duration": 4,
        "start_time": "2023-06-16T11:51:08.349Z"
      },
      {
        "duration": 29,
        "start_time": "2023-06-16T11:51:08.355Z"
      },
      {
        "duration": 16,
        "start_time": "2023-06-16T11:51:08.386Z"
      },
      {
        "duration": 18,
        "start_time": "2023-06-16T11:51:08.404Z"
      },
      {
        "duration": 18,
        "start_time": "2023-06-16T11:51:08.424Z"
      },
      {
        "duration": 13,
        "start_time": "2023-06-16T11:51:08.443Z"
      },
      {
        "duration": 40,
        "start_time": "2023-06-16T11:51:29.440Z"
      },
      {
        "duration": 12,
        "start_time": "2023-06-16T11:51:31.844Z"
      },
      {
        "duration": 14,
        "start_time": "2023-06-16T11:51:34.160Z"
      },
      {
        "duration": 53825,
        "start_time": "2023-06-16T11:51:36.731Z"
      },
      {
        "duration": 9826,
        "start_time": "2023-06-16T15:26:35.172Z"
      },
      {
        "duration": 3024,
        "start_time": "2023-06-16T15:26:45.000Z"
      },
      {
        "duration": 1858,
        "start_time": "2023-06-16T15:26:48.026Z"
      },
      {
        "duration": 2944,
        "start_time": "2023-06-16T15:26:49.887Z"
      },
      {
        "duration": 17,
        "start_time": "2023-06-16T15:26:52.833Z"
      },
      {
        "duration": 122,
        "start_time": "2023-06-16T15:26:52.851Z"
      },
      {
        "duration": 962,
        "start_time": "2023-06-16T15:26:52.975Z"
      },
      {
        "duration": 35,
        "start_time": "2023-06-16T15:26:53.939Z"
      },
      {
        "duration": 51,
        "start_time": "2023-06-16T15:26:53.976Z"
      },
      {
        "duration": 4,
        "start_time": "2023-06-16T15:26:54.030Z"
      },
      {
        "duration": 60,
        "start_time": "2023-06-16T15:26:54.036Z"
      },
      {
        "duration": 70,
        "start_time": "2023-06-16T15:26:54.098Z"
      },
      {
        "duration": 99,
        "start_time": "2023-06-16T15:26:54.171Z"
      },
      {
        "duration": 78,
        "start_time": "2023-06-16T15:26:54.272Z"
      },
      {
        "duration": 250,
        "start_time": "2023-06-16T15:26:54.354Z"
      },
      {
        "duration": 365,
        "start_time": "2023-06-16T15:26:54.607Z"
      },
      {
        "duration": 11,
        "start_time": "2023-06-16T15:26:54.974Z"
      },
      {
        "duration": 49,
        "start_time": "2023-06-16T15:26:54.987Z"
      },
      {
        "duration": 75,
        "start_time": "2023-06-16T15:26:55.039Z"
      },
      {
        "duration": 576,
        "start_time": "2023-06-16T15:26:55.116Z"
      },
      {
        "duration": 27,
        "start_time": "2023-06-16T15:26:55.694Z"
      },
      {
        "duration": 41,
        "start_time": "2023-06-16T15:26:55.724Z"
      },
      {
        "duration": 46,
        "start_time": "2023-06-16T15:26:55.767Z"
      },
      {
        "duration": 160,
        "start_time": "2023-06-16T15:26:55.816Z"
      },
      {
        "duration": 39,
        "start_time": "2023-06-16T15:26:55.979Z"
      },
      {
        "duration": 21,
        "start_time": "2023-06-16T15:26:56.020Z"
      },
      {
        "duration": 15,
        "start_time": "2023-06-16T15:26:56.042Z"
      },
      {
        "duration": 74,
        "start_time": "2023-06-16T15:26:56.061Z"
      },
      {
        "duration": 22,
        "start_time": "2023-06-16T15:26:56.137Z"
      },
      {
        "duration": 113,
        "start_time": "2023-06-16T15:26:56.161Z"
      },
      {
        "duration": 246,
        "start_time": "2023-06-16T15:26:56.276Z"
      },
      {
        "duration": 557,
        "start_time": "2023-06-16T15:26:56.525Z"
      },
      {
        "duration": 31,
        "start_time": "2023-06-16T15:26:57.084Z"
      },
      {
        "duration": 471,
        "start_time": "2023-06-16T15:26:57.118Z"
      },
      {
        "duration": 24,
        "start_time": "2023-06-16T15:26:57.591Z"
      },
      {
        "duration": 186,
        "start_time": "2023-06-16T15:26:57.617Z"
      },
      {
        "duration": 284,
        "start_time": "2023-06-16T15:26:57.805Z"
      },
      {
        "duration": 52,
        "start_time": "2023-06-16T15:26:58.092Z"
      },
      {
        "duration": 14,
        "start_time": "2023-06-16T15:26:58.147Z"
      },
      {
        "duration": 9,
        "start_time": "2023-06-16T15:26:58.163Z"
      },
      {
        "duration": 80,
        "start_time": "2023-06-16T15:26:58.174Z"
      },
      {
        "duration": 334,
        "start_time": "2023-06-16T15:26:58.257Z"
      },
      {
        "duration": 4,
        "start_time": "2023-06-16T15:26:58.592Z"
      },
      {
        "duration": 68,
        "start_time": "2023-06-16T15:26:58.598Z"
      },
      {
        "duration": 46,
        "start_time": "2023-06-16T15:26:58.668Z"
      },
      {
        "duration": 18,
        "start_time": "2023-06-16T15:26:58.717Z"
      },
      {
        "duration": 75,
        "start_time": "2023-06-16T15:26:58.737Z"
      },
      {
        "duration": 6,
        "start_time": "2023-06-16T15:26:58.813Z"
      },
      {
        "duration": 59,
        "start_time": "2023-06-16T15:26:58.821Z"
      },
      {
        "duration": 19,
        "start_time": "2023-06-16T15:26:58.882Z"
      },
      {
        "duration": 28,
        "start_time": "2023-06-16T15:26:58.903Z"
      },
      {
        "duration": 14,
        "start_time": "2023-06-16T15:26:58.933Z"
      },
      {
        "duration": 15,
        "start_time": "2023-06-16T15:26:58.949Z"
      },
      {
        "duration": 42,
        "start_time": "2023-06-16T15:27:11.978Z"
      },
      {
        "duration": 14,
        "start_time": "2023-06-16T15:27:14.111Z"
      },
      {
        "duration": 21,
        "start_time": "2023-06-16T15:27:14.711Z"
      },
      {
        "duration": 16,
        "start_time": "2023-06-16T15:27:22.802Z"
      },
      {
        "duration": 28,
        "start_time": "2023-06-16T15:27:25.593Z"
      },
      {
        "duration": 33,
        "start_time": "2023-06-16T15:27:41.930Z"
      },
      {
        "duration": 1123,
        "start_time": "2023-06-16T15:33:15.127Z"
      },
      {
        "duration": 11,
        "start_time": "2023-06-16T15:33:40.955Z"
      },
      {
        "duration": 125,
        "start_time": "2023-06-16T15:37:26.552Z"
      },
      {
        "duration": 1064,
        "start_time": "2023-06-16T15:37:40.696Z"
      },
      {
        "duration": 127,
        "start_time": "2023-06-16T15:38:29.724Z"
      },
      {
        "duration": 10,
        "start_time": "2023-06-16T15:39:03.525Z"
      },
      {
        "duration": 1183,
        "start_time": "2023-06-16T15:39:06.543Z"
      },
      {
        "duration": 184,
        "start_time": "2023-06-16T15:44:19.971Z"
      },
      {
        "duration": 4,
        "start_time": "2023-06-16T15:44:20.997Z"
      },
      {
        "duration": 7,
        "start_time": "2023-06-16T15:45:55.656Z"
      },
      {
        "duration": 103,
        "start_time": "2023-06-16T15:45:56.411Z"
      },
      {
        "duration": 53,
        "start_time": "2023-06-16T15:45:56.991Z"
      },
      {
        "duration": 1680,
        "start_time": "2023-06-16T15:46:12.451Z"
      },
      {
        "duration": 9,
        "start_time": "2023-06-16T15:46:18.713Z"
      },
      {
        "duration": 19,
        "start_time": "2023-06-16T15:46:25.493Z"
      },
      {
        "duration": 19,
        "start_time": "2023-06-16T15:46:43.238Z"
      },
      {
        "duration": 13,
        "start_time": "2023-06-16T15:46:46.991Z"
      },
      {
        "duration": 7,
        "start_time": "2023-06-16T15:46:54.436Z"
      },
      {
        "duration": 3,
        "start_time": "2023-06-16T15:46:58.171Z"
      },
      {
        "duration": 3,
        "start_time": "2023-06-16T15:46:58.544Z"
      },
      {
        "duration": 15,
        "start_time": "2023-06-16T15:47:01.773Z"
      },
      {
        "duration": 3,
        "start_time": "2023-06-16T15:47:02.590Z"
      },
      {
        "duration": 269,
        "start_time": "2023-06-16T15:47:06.040Z"
      },
      {
        "duration": 3,
        "start_time": "2023-06-16T15:47:23.330Z"
      },
      {
        "duration": 240739,
        "start_time": "2023-06-16T15:47:26.458Z"
      },
      {
        "duration": 4,
        "start_time": "2023-06-16T15:53:57.606Z"
      },
      {
        "duration": 108188,
        "start_time": "2023-06-16T15:54:06.323Z"
      },
      {
        "duration": 19,
        "start_time": "2023-06-16T15:56:53.342Z"
      },
      {
        "duration": 39704,
        "start_time": "2023-06-16T15:57:04.535Z"
      },
      {
        "duration": 259,
        "start_time": "2023-06-16T16:01:24.770Z"
      },
      {
        "duration": 201,
        "start_time": "2023-06-16T16:01:27.039Z"
      },
      {
        "duration": 3,
        "start_time": "2023-06-16T16:01:45.083Z"
      },
      {
        "duration": 3,
        "start_time": "2023-06-16T16:01:51.270Z"
      },
      {
        "duration": 60,
        "start_time": "2023-06-16T16:01:52.337Z"
      },
      {
        "duration": 73,
        "start_time": "2023-06-16T16:01:55.782Z"
      },
      {
        "duration": 33,
        "start_time": "2023-06-16T16:01:57.569Z"
      },
      {
        "duration": 314730,
        "start_time": "2023-06-16T16:02:00.707Z"
      },
      {
        "duration": 434,
        "start_time": "2023-06-16T16:09:20.596Z"
      },
      {
        "duration": 359869,
        "start_time": "2023-06-16T16:09:22.259Z"
      },
      {
        "duration": 384,
        "start_time": "2023-06-16T16:15:24.130Z"
      },
      {
        "duration": 2,
        "start_time": "2023-06-16T16:16:00.284Z"
      },
      {
        "duration": 15,
        "start_time": "2023-06-16T16:16:04.605Z"
      },
      {
        "duration": 5,
        "start_time": "2023-06-16T16:16:14.293Z"
      },
      {
        "duration": 225,
        "start_time": "2023-06-16T16:16:16.572Z"
      }
    ],
    "kernelspec": {
      "display_name": "Python 3 (ipykernel)",
      "language": "python",
      "name": "python3"
    },
    "language_info": {
      "codemirror_mode": {
        "name": "ipython",
        "version": 3
      },
      "file_extension": ".py",
      "mimetype": "text/x-python",
      "name": "python",
      "nbconvert_exporter": "python",
      "pygments_lexer": "ipython3",
      "version": "3.9.5"
    },
    "toc": {
      "base_numbering": 1,
      "nav_menu": {},
      "number_sections": true,
      "sideBar": true,
      "skip_h1_title": true,
      "title_cell": "Table of Contents",
      "title_sidebar": "Contents",
      "toc_cell": false,
      "toc_position": {},
      "toc_section_display": true,
      "toc_window_display": false
    },
    "colab": {
      "provenance": []
    }
  },
  "nbformat": 4,
  "nbformat_minor": 0
}