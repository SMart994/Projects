{
  "cells": [
    {
      "cell_type": "markdown",
      "metadata": {
        "id": "JtsRBxVqPNe3"
      },
      "source": [
        "# Выбор локации для скважины"
      ]
    },
    {
      "cell_type": "markdown",
      "metadata": {
        "id": "76SQICWzPNe3"
      },
      "source": [
        "Допустим, вы работаете в добывающей компании «ГлавРосГосНефть». Нужно решить, где бурить новую скважину.\n",
        "\n",
        "Вам предоставлены пробы нефти в трёх регионах: в каждом 10 000 месторождений, где измерили качество нефти и объём её запасов. Постройте модель машинного обучения, которая поможет определить регион, где добыча принесёт наибольшую прибыль. Проанализируйте возможную прибыль и риски техникой *Bootstrap.*\n",
        "\n",
        "Шаги для выбора локации:\n",
        "\n",
        "- В избранном регионе ищут месторождения, для каждого определяют значения признаков;\n",
        "- Строят модель и оценивают объём запасов;\n",
        "- Выбирают месторождения с самым высокими оценками значений. Количество месторождений зависит от бюджета компании и стоимости разработки одной скважины;\n",
        "- Прибыль равна суммарной прибыли отобранных месторождений."
      ]
    },
    {
      "cell_type": "markdown",
      "metadata": {
        "id": "ku5OQ0JrPNe4"
      },
      "source": [
        "## Загрузка и подготовка данных"
      ]
    },
    {
      "cell_type": "code",
      "execution_count": null,
      "metadata": {
        "id": "GnKAn6iqPNe4"
      },
      "outputs": [],
      "source": [
        "import pandas as pd\n",
        "import numpy as np\n",
        "import matplotlib.pyplot as plt\n",
        "\n",
        "from sklearn.linear_model import LinearRegression\n",
        "from sklearn.preprocessing import StandardScaler\n",
        "from sklearn.model_selection import train_test_split\n",
        "from sklearn.metrics import mean_squared_error, mean_absolute_error"
      ]
    },
    {
      "cell_type": "markdown",
      "metadata": {
        "id": "O4xzoV_XPNe5"
      },
      "source": [
        "### Загрузка и обзор данных"
      ]
    },
    {
      "cell_type": "code",
      "execution_count": null,
      "metadata": {
        "id": "uDrtNDPTPNe5"
      },
      "outputs": [],
      "source": [
        "df_0 = pd.read_csv('/datasets/geo_data_0.csv')\n",
        "df_1 = pd.read_csv('/datasets/geo_data_1.csv')\n",
        "df_2 = pd.read_csv('/datasets/geo_data_2.csv')"
      ]
    },
    {
      "cell_type": "code",
      "execution_count": null,
      "metadata": {
        "scrolled": true,
        "id": "4wfNktgWPNe5",
        "outputId": "7288daab-ff29-4e08-d08f-198d71728b71"
      },
      "outputs": [
        {
          "name": "stdout",
          "output_type": "stream",
          "text": [
            "<class 'pandas.core.frame.DataFrame'>\n",
            "RangeIndex: 100000 entries, 0 to 99999\n",
            "Data columns (total 5 columns):\n",
            " #   Column   Non-Null Count   Dtype  \n",
            "---  ------   --------------   -----  \n",
            " 0   id       100000 non-null  object \n",
            " 1   f0       100000 non-null  float64\n",
            " 2   f1       100000 non-null  float64\n",
            " 3   f2       100000 non-null  float64\n",
            " 4   product  100000 non-null  float64\n",
            "dtypes: float64(4), object(1)\n",
            "memory usage: 3.8+ MB\n"
          ]
        }
      ],
      "source": [
        "df_0.info()"
      ]
    },
    {
      "cell_type": "code",
      "execution_count": null,
      "metadata": {
        "id": "xuu0pKY0PNe5",
        "outputId": "8bd127a8-79b9-4a4c-9198-92453fa2d9ac"
      },
      "outputs": [
        {
          "data": {
            "text/html": [
              "<div>\n",
              "<style scoped>\n",
              "    .dataframe tbody tr th:only-of-type {\n",
              "        vertical-align: middle;\n",
              "    }\n",
              "\n",
              "    .dataframe tbody tr th {\n",
              "        vertical-align: top;\n",
              "    }\n",
              "\n",
              "    .dataframe thead th {\n",
              "        text-align: right;\n",
              "    }\n",
              "</style>\n",
              "<table border=\"1\" class=\"dataframe\">\n",
              "  <thead>\n",
              "    <tr style=\"text-align: right;\">\n",
              "      <th></th>\n",
              "      <th>id</th>\n",
              "      <th>f0</th>\n",
              "      <th>f1</th>\n",
              "      <th>f2</th>\n",
              "      <th>product</th>\n",
              "    </tr>\n",
              "  </thead>\n",
              "  <tbody>\n",
              "    <tr>\n",
              "      <th>0</th>\n",
              "      <td>txEyH</td>\n",
              "      <td>0.705745</td>\n",
              "      <td>-0.497823</td>\n",
              "      <td>1.221170</td>\n",
              "      <td>105.280062</td>\n",
              "    </tr>\n",
              "    <tr>\n",
              "      <th>1</th>\n",
              "      <td>2acmU</td>\n",
              "      <td>1.334711</td>\n",
              "      <td>-0.340164</td>\n",
              "      <td>4.365080</td>\n",
              "      <td>73.037750</td>\n",
              "    </tr>\n",
              "    <tr>\n",
              "      <th>2</th>\n",
              "      <td>409Wp</td>\n",
              "      <td>1.022732</td>\n",
              "      <td>0.151990</td>\n",
              "      <td>1.419926</td>\n",
              "      <td>85.265647</td>\n",
              "    </tr>\n",
              "    <tr>\n",
              "      <th>3</th>\n",
              "      <td>iJLyR</td>\n",
              "      <td>-0.032172</td>\n",
              "      <td>0.139033</td>\n",
              "      <td>2.978566</td>\n",
              "      <td>168.620776</td>\n",
              "    </tr>\n",
              "    <tr>\n",
              "      <th>4</th>\n",
              "      <td>Xdl7t</td>\n",
              "      <td>1.988431</td>\n",
              "      <td>0.155413</td>\n",
              "      <td>4.751769</td>\n",
              "      <td>154.036647</td>\n",
              "    </tr>\n",
              "  </tbody>\n",
              "</table>\n",
              "</div>"
            ],
            "text/plain": [
              "      id        f0        f1        f2     product\n",
              "0  txEyH  0.705745 -0.497823  1.221170  105.280062\n",
              "1  2acmU  1.334711 -0.340164  4.365080   73.037750\n",
              "2  409Wp  1.022732  0.151990  1.419926   85.265647\n",
              "3  iJLyR -0.032172  0.139033  2.978566  168.620776\n",
              "4  Xdl7t  1.988431  0.155413  4.751769  154.036647"
            ]
          },
          "execution_count": 4,
          "metadata": {},
          "output_type": "execute_result"
        }
      ],
      "source": [
        "df_0.head()"
      ]
    },
    {
      "cell_type": "code",
      "execution_count": null,
      "metadata": {
        "scrolled": false,
        "id": "4L9puy2YPNe6",
        "outputId": "8d96ab92-50b1-4a92-cab2-356a6efae65b"
      },
      "outputs": [
        {
          "data": {
            "text/html": [
              "<div>\n",
              "<style scoped>\n",
              "    .dataframe tbody tr th:only-of-type {\n",
              "        vertical-align: middle;\n",
              "    }\n",
              "\n",
              "    .dataframe tbody tr th {\n",
              "        vertical-align: top;\n",
              "    }\n",
              "\n",
              "    .dataframe thead th {\n",
              "        text-align: right;\n",
              "    }\n",
              "</style>\n",
              "<table border=\"1\" class=\"dataframe\">\n",
              "  <thead>\n",
              "    <tr style=\"text-align: right;\">\n",
              "      <th></th>\n",
              "      <th>id</th>\n",
              "      <th>f0</th>\n",
              "      <th>f1</th>\n",
              "      <th>f2</th>\n",
              "      <th>product</th>\n",
              "    </tr>\n",
              "  </thead>\n",
              "  <tbody>\n",
              "    <tr>\n",
              "      <th>count</th>\n",
              "      <td>100000</td>\n",
              "      <td>100000.000000</td>\n",
              "      <td>100000.000000</td>\n",
              "      <td>100000.000000</td>\n",
              "      <td>100000.000000</td>\n",
              "    </tr>\n",
              "    <tr>\n",
              "      <th>unique</th>\n",
              "      <td>99990</td>\n",
              "      <td>NaN</td>\n",
              "      <td>NaN</td>\n",
              "      <td>NaN</td>\n",
              "      <td>NaN</td>\n",
              "    </tr>\n",
              "    <tr>\n",
              "      <th>top</th>\n",
              "      <td>QcMuo</td>\n",
              "      <td>NaN</td>\n",
              "      <td>NaN</td>\n",
              "      <td>NaN</td>\n",
              "      <td>NaN</td>\n",
              "    </tr>\n",
              "    <tr>\n",
              "      <th>freq</th>\n",
              "      <td>2</td>\n",
              "      <td>NaN</td>\n",
              "      <td>NaN</td>\n",
              "      <td>NaN</td>\n",
              "      <td>NaN</td>\n",
              "    </tr>\n",
              "    <tr>\n",
              "      <th>mean</th>\n",
              "      <td>NaN</td>\n",
              "      <td>0.500419</td>\n",
              "      <td>0.250143</td>\n",
              "      <td>2.502647</td>\n",
              "      <td>92.500000</td>\n",
              "    </tr>\n",
              "    <tr>\n",
              "      <th>std</th>\n",
              "      <td>NaN</td>\n",
              "      <td>0.871832</td>\n",
              "      <td>0.504433</td>\n",
              "      <td>3.248248</td>\n",
              "      <td>44.288691</td>\n",
              "    </tr>\n",
              "    <tr>\n",
              "      <th>min</th>\n",
              "      <td>NaN</td>\n",
              "      <td>-1.408605</td>\n",
              "      <td>-0.848218</td>\n",
              "      <td>-12.088328</td>\n",
              "      <td>0.000000</td>\n",
              "    </tr>\n",
              "    <tr>\n",
              "      <th>25%</th>\n",
              "      <td>NaN</td>\n",
              "      <td>-0.072580</td>\n",
              "      <td>-0.200881</td>\n",
              "      <td>0.287748</td>\n",
              "      <td>56.497507</td>\n",
              "    </tr>\n",
              "    <tr>\n",
              "      <th>50%</th>\n",
              "      <td>NaN</td>\n",
              "      <td>0.502360</td>\n",
              "      <td>0.250252</td>\n",
              "      <td>2.515969</td>\n",
              "      <td>91.849972</td>\n",
              "    </tr>\n",
              "    <tr>\n",
              "      <th>75%</th>\n",
              "      <td>NaN</td>\n",
              "      <td>1.073581</td>\n",
              "      <td>0.700646</td>\n",
              "      <td>4.715088</td>\n",
              "      <td>128.564089</td>\n",
              "    </tr>\n",
              "    <tr>\n",
              "      <th>max</th>\n",
              "      <td>NaN</td>\n",
              "      <td>2.362331</td>\n",
              "      <td>1.343769</td>\n",
              "      <td>16.003790</td>\n",
              "      <td>185.364347</td>\n",
              "    </tr>\n",
              "  </tbody>\n",
              "</table>\n",
              "</div>"
            ],
            "text/plain": [
              "            id             f0             f1             f2        product\n",
              "count   100000  100000.000000  100000.000000  100000.000000  100000.000000\n",
              "unique   99990            NaN            NaN            NaN            NaN\n",
              "top      QcMuo            NaN            NaN            NaN            NaN\n",
              "freq         2            NaN            NaN            NaN            NaN\n",
              "mean       NaN       0.500419       0.250143       2.502647      92.500000\n",
              "std        NaN       0.871832       0.504433       3.248248      44.288691\n",
              "min        NaN      -1.408605      -0.848218     -12.088328       0.000000\n",
              "25%        NaN      -0.072580      -0.200881       0.287748      56.497507\n",
              "50%        NaN       0.502360       0.250252       2.515969      91.849972\n",
              "75%        NaN       1.073581       0.700646       4.715088     128.564089\n",
              "max        NaN       2.362331       1.343769      16.003790     185.364347"
            ]
          },
          "execution_count": 5,
          "metadata": {},
          "output_type": "execute_result"
        }
      ],
      "source": [
        "df_0.describe(include='all')"
      ]
    },
    {
      "cell_type": "code",
      "execution_count": null,
      "metadata": {
        "scrolled": true,
        "id": "_Gx0VD0MPNe6",
        "outputId": "87fcd92f-fb94-46d2-9414-22f540750c75"
      },
      "outputs": [
        {
          "name": "stdout",
          "output_type": "stream",
          "text": [
            "<class 'pandas.core.frame.DataFrame'>\n",
            "RangeIndex: 100000 entries, 0 to 99999\n",
            "Data columns (total 5 columns):\n",
            " #   Column   Non-Null Count   Dtype  \n",
            "---  ------   --------------   -----  \n",
            " 0   id       100000 non-null  object \n",
            " 1   f0       100000 non-null  float64\n",
            " 2   f1       100000 non-null  float64\n",
            " 3   f2       100000 non-null  float64\n",
            " 4   product  100000 non-null  float64\n",
            "dtypes: float64(4), object(1)\n",
            "memory usage: 3.8+ MB\n"
          ]
        }
      ],
      "source": [
        "df_1.info()"
      ]
    },
    {
      "cell_type": "code",
      "execution_count": null,
      "metadata": {
        "scrolled": true,
        "id": "xCEFLeDGPNe6",
        "outputId": "729ab368-4e0f-44ac-8a13-a0d4a47d5a4f"
      },
      "outputs": [
        {
          "data": {
            "text/html": [
              "<div>\n",
              "<style scoped>\n",
              "    .dataframe tbody tr th:only-of-type {\n",
              "        vertical-align: middle;\n",
              "    }\n",
              "\n",
              "    .dataframe tbody tr th {\n",
              "        vertical-align: top;\n",
              "    }\n",
              "\n",
              "    .dataframe thead th {\n",
              "        text-align: right;\n",
              "    }\n",
              "</style>\n",
              "<table border=\"1\" class=\"dataframe\">\n",
              "  <thead>\n",
              "    <tr style=\"text-align: right;\">\n",
              "      <th></th>\n",
              "      <th>id</th>\n",
              "      <th>f0</th>\n",
              "      <th>f1</th>\n",
              "      <th>f2</th>\n",
              "      <th>product</th>\n",
              "    </tr>\n",
              "  </thead>\n",
              "  <tbody>\n",
              "    <tr>\n",
              "      <th>0</th>\n",
              "      <td>kBEdx</td>\n",
              "      <td>-15.001348</td>\n",
              "      <td>-8.276000</td>\n",
              "      <td>-0.005876</td>\n",
              "      <td>3.179103</td>\n",
              "    </tr>\n",
              "    <tr>\n",
              "      <th>1</th>\n",
              "      <td>62mP7</td>\n",
              "      <td>14.272088</td>\n",
              "      <td>-3.475083</td>\n",
              "      <td>0.999183</td>\n",
              "      <td>26.953261</td>\n",
              "    </tr>\n",
              "    <tr>\n",
              "      <th>2</th>\n",
              "      <td>vyE1P</td>\n",
              "      <td>6.263187</td>\n",
              "      <td>-5.948386</td>\n",
              "      <td>5.001160</td>\n",
              "      <td>134.766305</td>\n",
              "    </tr>\n",
              "    <tr>\n",
              "      <th>3</th>\n",
              "      <td>KcrkZ</td>\n",
              "      <td>-13.081196</td>\n",
              "      <td>-11.506057</td>\n",
              "      <td>4.999415</td>\n",
              "      <td>137.945408</td>\n",
              "    </tr>\n",
              "    <tr>\n",
              "      <th>4</th>\n",
              "      <td>AHL4O</td>\n",
              "      <td>12.702195</td>\n",
              "      <td>-8.147433</td>\n",
              "      <td>5.004363</td>\n",
              "      <td>134.766305</td>\n",
              "    </tr>\n",
              "  </tbody>\n",
              "</table>\n",
              "</div>"
            ],
            "text/plain": [
              "      id         f0         f1        f2     product\n",
              "0  kBEdx -15.001348  -8.276000 -0.005876    3.179103\n",
              "1  62mP7  14.272088  -3.475083  0.999183   26.953261\n",
              "2  vyE1P   6.263187  -5.948386  5.001160  134.766305\n",
              "3  KcrkZ -13.081196 -11.506057  4.999415  137.945408\n",
              "4  AHL4O  12.702195  -8.147433  5.004363  134.766305"
            ]
          },
          "execution_count": 7,
          "metadata": {},
          "output_type": "execute_result"
        }
      ],
      "source": [
        "df_1.head()"
      ]
    },
    {
      "cell_type": "code",
      "execution_count": null,
      "metadata": {
        "scrolled": true,
        "id": "zipYkYOFPNe6",
        "outputId": "3ff807a1-59fc-4518-950d-7ec26a9151bf"
      },
      "outputs": [
        {
          "data": {
            "text/html": [
              "<div>\n",
              "<style scoped>\n",
              "    .dataframe tbody tr th:only-of-type {\n",
              "        vertical-align: middle;\n",
              "    }\n",
              "\n",
              "    .dataframe tbody tr th {\n",
              "        vertical-align: top;\n",
              "    }\n",
              "\n",
              "    .dataframe thead th {\n",
              "        text-align: right;\n",
              "    }\n",
              "</style>\n",
              "<table border=\"1\" class=\"dataframe\">\n",
              "  <thead>\n",
              "    <tr style=\"text-align: right;\">\n",
              "      <th></th>\n",
              "      <th>id</th>\n",
              "      <th>f0</th>\n",
              "      <th>f1</th>\n",
              "      <th>f2</th>\n",
              "      <th>product</th>\n",
              "    </tr>\n",
              "  </thead>\n",
              "  <tbody>\n",
              "    <tr>\n",
              "      <th>count</th>\n",
              "      <td>100000</td>\n",
              "      <td>100000.000000</td>\n",
              "      <td>100000.000000</td>\n",
              "      <td>100000.000000</td>\n",
              "      <td>100000.000000</td>\n",
              "    </tr>\n",
              "    <tr>\n",
              "      <th>unique</th>\n",
              "      <td>99996</td>\n",
              "      <td>NaN</td>\n",
              "      <td>NaN</td>\n",
              "      <td>NaN</td>\n",
              "      <td>NaN</td>\n",
              "    </tr>\n",
              "    <tr>\n",
              "      <th>top</th>\n",
              "      <td>bfPNe</td>\n",
              "      <td>NaN</td>\n",
              "      <td>NaN</td>\n",
              "      <td>NaN</td>\n",
              "      <td>NaN</td>\n",
              "    </tr>\n",
              "    <tr>\n",
              "      <th>freq</th>\n",
              "      <td>2</td>\n",
              "      <td>NaN</td>\n",
              "      <td>NaN</td>\n",
              "      <td>NaN</td>\n",
              "      <td>NaN</td>\n",
              "    </tr>\n",
              "    <tr>\n",
              "      <th>mean</th>\n",
              "      <td>NaN</td>\n",
              "      <td>1.141296</td>\n",
              "      <td>-4.796579</td>\n",
              "      <td>2.494541</td>\n",
              "      <td>68.825000</td>\n",
              "    </tr>\n",
              "    <tr>\n",
              "      <th>std</th>\n",
              "      <td>NaN</td>\n",
              "      <td>8.965932</td>\n",
              "      <td>5.119872</td>\n",
              "      <td>1.703572</td>\n",
              "      <td>45.944423</td>\n",
              "    </tr>\n",
              "    <tr>\n",
              "      <th>min</th>\n",
              "      <td>NaN</td>\n",
              "      <td>-31.609576</td>\n",
              "      <td>-26.358598</td>\n",
              "      <td>-0.018144</td>\n",
              "      <td>0.000000</td>\n",
              "    </tr>\n",
              "    <tr>\n",
              "      <th>25%</th>\n",
              "      <td>NaN</td>\n",
              "      <td>-6.298551</td>\n",
              "      <td>-8.267985</td>\n",
              "      <td>1.000021</td>\n",
              "      <td>26.953261</td>\n",
              "    </tr>\n",
              "    <tr>\n",
              "      <th>50%</th>\n",
              "      <td>NaN</td>\n",
              "      <td>1.153055</td>\n",
              "      <td>-4.813172</td>\n",
              "      <td>2.011479</td>\n",
              "      <td>57.085625</td>\n",
              "    </tr>\n",
              "    <tr>\n",
              "      <th>75%</th>\n",
              "      <td>NaN</td>\n",
              "      <td>8.621015</td>\n",
              "      <td>-1.332816</td>\n",
              "      <td>3.999904</td>\n",
              "      <td>107.813044</td>\n",
              "    </tr>\n",
              "    <tr>\n",
              "      <th>max</th>\n",
              "      <td>NaN</td>\n",
              "      <td>29.421755</td>\n",
              "      <td>18.734063</td>\n",
              "      <td>5.019721</td>\n",
              "      <td>137.945408</td>\n",
              "    </tr>\n",
              "  </tbody>\n",
              "</table>\n",
              "</div>"
            ],
            "text/plain": [
              "            id             f0             f1             f2        product\n",
              "count   100000  100000.000000  100000.000000  100000.000000  100000.000000\n",
              "unique   99996            NaN            NaN            NaN            NaN\n",
              "top      bfPNe            NaN            NaN            NaN            NaN\n",
              "freq         2            NaN            NaN            NaN            NaN\n",
              "mean       NaN       1.141296      -4.796579       2.494541      68.825000\n",
              "std        NaN       8.965932       5.119872       1.703572      45.944423\n",
              "min        NaN     -31.609576     -26.358598      -0.018144       0.000000\n",
              "25%        NaN      -6.298551      -8.267985       1.000021      26.953261\n",
              "50%        NaN       1.153055      -4.813172       2.011479      57.085625\n",
              "75%        NaN       8.621015      -1.332816       3.999904     107.813044\n",
              "max        NaN      29.421755      18.734063       5.019721     137.945408"
            ]
          },
          "execution_count": 8,
          "metadata": {},
          "output_type": "execute_result"
        }
      ],
      "source": [
        "df_1.describe(include='all')"
      ]
    },
    {
      "cell_type": "code",
      "execution_count": null,
      "metadata": {
        "id": "kPa63Y1SPNe6",
        "outputId": "1757bfdf-302c-4f0c-e2ed-60710596908b"
      },
      "outputs": [
        {
          "name": "stdout",
          "output_type": "stream",
          "text": [
            "<class 'pandas.core.frame.DataFrame'>\n",
            "RangeIndex: 100000 entries, 0 to 99999\n",
            "Data columns (total 5 columns):\n",
            " #   Column   Non-Null Count   Dtype  \n",
            "---  ------   --------------   -----  \n",
            " 0   id       100000 non-null  object \n",
            " 1   f0       100000 non-null  float64\n",
            " 2   f1       100000 non-null  float64\n",
            " 3   f2       100000 non-null  float64\n",
            " 4   product  100000 non-null  float64\n",
            "dtypes: float64(4), object(1)\n",
            "memory usage: 3.8+ MB\n"
          ]
        }
      ],
      "source": [
        "df_2.info()"
      ]
    },
    {
      "cell_type": "code",
      "execution_count": null,
      "metadata": {
        "scrolled": true,
        "id": "r1QIskonPNe6",
        "outputId": "64d7d047-d4cb-41c5-b9c5-8867020b3dae"
      },
      "outputs": [
        {
          "data": {
            "text/html": [
              "<div>\n",
              "<style scoped>\n",
              "    .dataframe tbody tr th:only-of-type {\n",
              "        vertical-align: middle;\n",
              "    }\n",
              "\n",
              "    .dataframe tbody tr th {\n",
              "        vertical-align: top;\n",
              "    }\n",
              "\n",
              "    .dataframe thead th {\n",
              "        text-align: right;\n",
              "    }\n",
              "</style>\n",
              "<table border=\"1\" class=\"dataframe\">\n",
              "  <thead>\n",
              "    <tr style=\"text-align: right;\">\n",
              "      <th></th>\n",
              "      <th>id</th>\n",
              "      <th>f0</th>\n",
              "      <th>f1</th>\n",
              "      <th>f2</th>\n",
              "      <th>product</th>\n",
              "    </tr>\n",
              "  </thead>\n",
              "  <tbody>\n",
              "    <tr>\n",
              "      <th>0</th>\n",
              "      <td>fwXo0</td>\n",
              "      <td>-1.146987</td>\n",
              "      <td>0.963328</td>\n",
              "      <td>-0.828965</td>\n",
              "      <td>27.758673</td>\n",
              "    </tr>\n",
              "    <tr>\n",
              "      <th>1</th>\n",
              "      <td>WJtFt</td>\n",
              "      <td>0.262778</td>\n",
              "      <td>0.269839</td>\n",
              "      <td>-2.530187</td>\n",
              "      <td>56.069697</td>\n",
              "    </tr>\n",
              "    <tr>\n",
              "      <th>2</th>\n",
              "      <td>ovLUW</td>\n",
              "      <td>0.194587</td>\n",
              "      <td>0.289035</td>\n",
              "      <td>-5.586433</td>\n",
              "      <td>62.871910</td>\n",
              "    </tr>\n",
              "    <tr>\n",
              "      <th>3</th>\n",
              "      <td>q6cA6</td>\n",
              "      <td>2.236060</td>\n",
              "      <td>-0.553760</td>\n",
              "      <td>0.930038</td>\n",
              "      <td>114.572842</td>\n",
              "    </tr>\n",
              "    <tr>\n",
              "      <th>4</th>\n",
              "      <td>WPMUX</td>\n",
              "      <td>-0.515993</td>\n",
              "      <td>1.716266</td>\n",
              "      <td>5.899011</td>\n",
              "      <td>149.600746</td>\n",
              "    </tr>\n",
              "  </tbody>\n",
              "</table>\n",
              "</div>"
            ],
            "text/plain": [
              "      id        f0        f1        f2     product\n",
              "0  fwXo0 -1.146987  0.963328 -0.828965   27.758673\n",
              "1  WJtFt  0.262778  0.269839 -2.530187   56.069697\n",
              "2  ovLUW  0.194587  0.289035 -5.586433   62.871910\n",
              "3  q6cA6  2.236060 -0.553760  0.930038  114.572842\n",
              "4  WPMUX -0.515993  1.716266  5.899011  149.600746"
            ]
          },
          "execution_count": 10,
          "metadata": {},
          "output_type": "execute_result"
        }
      ],
      "source": [
        "df_2.head()"
      ]
    },
    {
      "cell_type": "code",
      "execution_count": null,
      "metadata": {
        "id": "3fMEoGNjPNe6",
        "outputId": "21b556c5-95f5-4af6-c9e9-2803b93fb86a"
      },
      "outputs": [
        {
          "data": {
            "text/html": [
              "<div>\n",
              "<style scoped>\n",
              "    .dataframe tbody tr th:only-of-type {\n",
              "        vertical-align: middle;\n",
              "    }\n",
              "\n",
              "    .dataframe tbody tr th {\n",
              "        vertical-align: top;\n",
              "    }\n",
              "\n",
              "    .dataframe thead th {\n",
              "        text-align: right;\n",
              "    }\n",
              "</style>\n",
              "<table border=\"1\" class=\"dataframe\">\n",
              "  <thead>\n",
              "    <tr style=\"text-align: right;\">\n",
              "      <th></th>\n",
              "      <th>id</th>\n",
              "      <th>f0</th>\n",
              "      <th>f1</th>\n",
              "      <th>f2</th>\n",
              "      <th>product</th>\n",
              "    </tr>\n",
              "  </thead>\n",
              "  <tbody>\n",
              "    <tr>\n",
              "      <th>count</th>\n",
              "      <td>100000</td>\n",
              "      <td>100000.000000</td>\n",
              "      <td>100000.000000</td>\n",
              "      <td>100000.000000</td>\n",
              "      <td>100000.000000</td>\n",
              "    </tr>\n",
              "    <tr>\n",
              "      <th>unique</th>\n",
              "      <td>99996</td>\n",
              "      <td>NaN</td>\n",
              "      <td>NaN</td>\n",
              "      <td>NaN</td>\n",
              "      <td>NaN</td>\n",
              "    </tr>\n",
              "    <tr>\n",
              "      <th>top</th>\n",
              "      <td>KUPhW</td>\n",
              "      <td>NaN</td>\n",
              "      <td>NaN</td>\n",
              "      <td>NaN</td>\n",
              "      <td>NaN</td>\n",
              "    </tr>\n",
              "    <tr>\n",
              "      <th>freq</th>\n",
              "      <td>2</td>\n",
              "      <td>NaN</td>\n",
              "      <td>NaN</td>\n",
              "      <td>NaN</td>\n",
              "      <td>NaN</td>\n",
              "    </tr>\n",
              "    <tr>\n",
              "      <th>mean</th>\n",
              "      <td>NaN</td>\n",
              "      <td>0.002023</td>\n",
              "      <td>-0.002081</td>\n",
              "      <td>2.495128</td>\n",
              "      <td>95.000000</td>\n",
              "    </tr>\n",
              "    <tr>\n",
              "      <th>std</th>\n",
              "      <td>NaN</td>\n",
              "      <td>1.732045</td>\n",
              "      <td>1.730417</td>\n",
              "      <td>3.473445</td>\n",
              "      <td>44.749921</td>\n",
              "    </tr>\n",
              "    <tr>\n",
              "      <th>min</th>\n",
              "      <td>NaN</td>\n",
              "      <td>-8.760004</td>\n",
              "      <td>-7.084020</td>\n",
              "      <td>-11.970335</td>\n",
              "      <td>0.000000</td>\n",
              "    </tr>\n",
              "    <tr>\n",
              "      <th>25%</th>\n",
              "      <td>NaN</td>\n",
              "      <td>-1.162288</td>\n",
              "      <td>-1.174820</td>\n",
              "      <td>0.130359</td>\n",
              "      <td>59.450441</td>\n",
              "    </tr>\n",
              "    <tr>\n",
              "      <th>50%</th>\n",
              "      <td>NaN</td>\n",
              "      <td>0.009424</td>\n",
              "      <td>-0.009482</td>\n",
              "      <td>2.484236</td>\n",
              "      <td>94.925613</td>\n",
              "    </tr>\n",
              "    <tr>\n",
              "      <th>75%</th>\n",
              "      <td>NaN</td>\n",
              "      <td>1.158535</td>\n",
              "      <td>1.163678</td>\n",
              "      <td>4.858794</td>\n",
              "      <td>130.595027</td>\n",
              "    </tr>\n",
              "    <tr>\n",
              "      <th>max</th>\n",
              "      <td>NaN</td>\n",
              "      <td>7.238262</td>\n",
              "      <td>7.844801</td>\n",
              "      <td>16.739402</td>\n",
              "      <td>190.029838</td>\n",
              "    </tr>\n",
              "  </tbody>\n",
              "</table>\n",
              "</div>"
            ],
            "text/plain": [
              "            id             f0             f1             f2        product\n",
              "count   100000  100000.000000  100000.000000  100000.000000  100000.000000\n",
              "unique   99996            NaN            NaN            NaN            NaN\n",
              "top      KUPhW            NaN            NaN            NaN            NaN\n",
              "freq         2            NaN            NaN            NaN            NaN\n",
              "mean       NaN       0.002023      -0.002081       2.495128      95.000000\n",
              "std        NaN       1.732045       1.730417       3.473445      44.749921\n",
              "min        NaN      -8.760004      -7.084020     -11.970335       0.000000\n",
              "25%        NaN      -1.162288      -1.174820       0.130359      59.450441\n",
              "50%        NaN       0.009424      -0.009482       2.484236      94.925613\n",
              "75%        NaN       1.158535       1.163678       4.858794     130.595027\n",
              "max        NaN       7.238262       7.844801      16.739402     190.029838"
            ]
          },
          "execution_count": 11,
          "metadata": {},
          "output_type": "execute_result"
        }
      ],
      "source": [
        "df_2.describe(include='all')"
      ]
    },
    {
      "cell_type": "markdown",
      "metadata": {
        "id": "r90YQN5-PNe6"
      },
      "source": [
        "Наблюдения:\n",
        "- столбец id можно удалить (он не нужен для обучения модели)\n",
        "- признаки уже численные, их необходимо только масшабировать\n",
        "- пропусков в данных нет"
      ]
    },
    {
      "cell_type": "markdown",
      "metadata": {
        "id": "hzwnmlCtPNe7"
      },
      "source": [
        "### Деление на выборки"
      ]
    },
    {
      "cell_type": "markdown",
      "metadata": {
        "id": "HJm4_ZE2PNe7"
      },
      "source": [
        "Мы должны выделить признаки и таргеты, разбить на обучающую и валидационые выборки и затем перед обучением провести масштабирование признаков, настроив скелер на обучающую выборку"
      ]
    },
    {
      "cell_type": "markdown",
      "metadata": {
        "id": "qHjYYmllPNe8"
      },
      "source": [
        "Для удобства (чтобы не копировать код 3 раза) напишем функцию, которой на вход подаем датасет, а она его делит на выборки, масштабирует признаки и возращает подготовленные фичи и таргеты"
      ]
    },
    {
      "cell_type": "code",
      "execution_count": null,
      "metadata": {
        "id": "ZQ2PjA7hPNe8"
      },
      "outputs": [],
      "source": [
        "def data_prepared(data):\n",
        "    features = data.drop(columns='product')\n",
        "    target = data['product']\n",
        "    features_train, features_valid = train_test_split(features, test_size=0.25, random_state=12345)\n",
        "    target_train, target_valid = train_test_split(target, test_size=0.25, random_state=12345)\n",
        "    \n",
        "    scaler = StandardScaler()\n",
        "    pd.options.mode.chained_assignment = None\n",
        "    scaler.fit(features_train)\n",
        "    features_train = scaler.transform(features_train)\n",
        "    features_valid = scaler.transform(features_valid)\n",
        "    return (features_train, features_valid, target_train, target_valid)"
      ]
    },
    {
      "cell_type": "markdown",
      "metadata": {
        "id": "NygSXovaPNe8"
      },
      "source": [
        "Вывод:\n",
        "\n",
        "- данные по каждому из трех регионов загружены и рассмотренны\n",
        "- создали функцию, которая делит датасеты на фичи и таргеты и масштабирует признаки"
      ]
    },
    {
      "cell_type": "markdown",
      "metadata": {
        "id": "HJUAFyFnPNe8"
      },
      "source": [
        "### Предообработка данных"
      ]
    },
    {
      "cell_type": "markdown",
      "metadata": {
        "id": "-0q3gYT_PNe8"
      },
      "source": [
        "Удалим в датасетах столбец id"
      ]
    },
    {
      "cell_type": "code",
      "execution_count": null,
      "metadata": {
        "id": "HsiA5owGPNe8",
        "outputId": "fa54ab98-09a6-4ce1-cedc-8288d853f926"
      },
      "outputs": [
        {
          "data": {
            "text/html": [
              "<div>\n",
              "<style scoped>\n",
              "    .dataframe tbody tr th:only-of-type {\n",
              "        vertical-align: middle;\n",
              "    }\n",
              "\n",
              "    .dataframe tbody tr th {\n",
              "        vertical-align: top;\n",
              "    }\n",
              "\n",
              "    .dataframe thead th {\n",
              "        text-align: right;\n",
              "    }\n",
              "</style>\n",
              "<table border=\"1\" class=\"dataframe\">\n",
              "  <thead>\n",
              "    <tr style=\"text-align: right;\">\n",
              "      <th></th>\n",
              "      <th>f0</th>\n",
              "      <th>f1</th>\n",
              "      <th>f2</th>\n",
              "      <th>product</th>\n",
              "    </tr>\n",
              "  </thead>\n",
              "  <tbody>\n",
              "    <tr>\n",
              "      <th>0</th>\n",
              "      <td>0.705745</td>\n",
              "      <td>-0.497823</td>\n",
              "      <td>1.221170</td>\n",
              "      <td>105.280062</td>\n",
              "    </tr>\n",
              "    <tr>\n",
              "      <th>1</th>\n",
              "      <td>1.334711</td>\n",
              "      <td>-0.340164</td>\n",
              "      <td>4.365080</td>\n",
              "      <td>73.037750</td>\n",
              "    </tr>\n",
              "    <tr>\n",
              "      <th>2</th>\n",
              "      <td>1.022732</td>\n",
              "      <td>0.151990</td>\n",
              "      <td>1.419926</td>\n",
              "      <td>85.265647</td>\n",
              "    </tr>\n",
              "    <tr>\n",
              "      <th>3</th>\n",
              "      <td>-0.032172</td>\n",
              "      <td>0.139033</td>\n",
              "      <td>2.978566</td>\n",
              "      <td>168.620776</td>\n",
              "    </tr>\n",
              "    <tr>\n",
              "      <th>4</th>\n",
              "      <td>1.988431</td>\n",
              "      <td>0.155413</td>\n",
              "      <td>4.751769</td>\n",
              "      <td>154.036647</td>\n",
              "    </tr>\n",
              "  </tbody>\n",
              "</table>\n",
              "</div>"
            ],
            "text/plain": [
              "         f0        f1        f2     product\n",
              "0  0.705745 -0.497823  1.221170  105.280062\n",
              "1  1.334711 -0.340164  4.365080   73.037750\n",
              "2  1.022732  0.151990  1.419926   85.265647\n",
              "3 -0.032172  0.139033  2.978566  168.620776\n",
              "4  1.988431  0.155413  4.751769  154.036647"
            ]
          },
          "execution_count": 13,
          "metadata": {},
          "output_type": "execute_result"
        }
      ],
      "source": [
        "df_0 = df_0.drop(columns='id')\n",
        "df_0.head()"
      ]
    },
    {
      "cell_type": "code",
      "execution_count": null,
      "metadata": {
        "id": "PT5GiqX8PNe8",
        "outputId": "0efecf3a-4751-4093-f7df-91e78134cc5b"
      },
      "outputs": [
        {
          "data": {
            "text/html": [
              "<div>\n",
              "<style scoped>\n",
              "    .dataframe tbody tr th:only-of-type {\n",
              "        vertical-align: middle;\n",
              "    }\n",
              "\n",
              "    .dataframe tbody tr th {\n",
              "        vertical-align: top;\n",
              "    }\n",
              "\n",
              "    .dataframe thead th {\n",
              "        text-align: right;\n",
              "    }\n",
              "</style>\n",
              "<table border=\"1\" class=\"dataframe\">\n",
              "  <thead>\n",
              "    <tr style=\"text-align: right;\">\n",
              "      <th></th>\n",
              "      <th>f0</th>\n",
              "      <th>f1</th>\n",
              "      <th>f2</th>\n",
              "      <th>product</th>\n",
              "    </tr>\n",
              "  </thead>\n",
              "  <tbody>\n",
              "    <tr>\n",
              "      <th>0</th>\n",
              "      <td>-15.001348</td>\n",
              "      <td>-8.276000</td>\n",
              "      <td>-0.005876</td>\n",
              "      <td>3.179103</td>\n",
              "    </tr>\n",
              "    <tr>\n",
              "      <th>1</th>\n",
              "      <td>14.272088</td>\n",
              "      <td>-3.475083</td>\n",
              "      <td>0.999183</td>\n",
              "      <td>26.953261</td>\n",
              "    </tr>\n",
              "    <tr>\n",
              "      <th>2</th>\n",
              "      <td>6.263187</td>\n",
              "      <td>-5.948386</td>\n",
              "      <td>5.001160</td>\n",
              "      <td>134.766305</td>\n",
              "    </tr>\n",
              "    <tr>\n",
              "      <th>3</th>\n",
              "      <td>-13.081196</td>\n",
              "      <td>-11.506057</td>\n",
              "      <td>4.999415</td>\n",
              "      <td>137.945408</td>\n",
              "    </tr>\n",
              "    <tr>\n",
              "      <th>4</th>\n",
              "      <td>12.702195</td>\n",
              "      <td>-8.147433</td>\n",
              "      <td>5.004363</td>\n",
              "      <td>134.766305</td>\n",
              "    </tr>\n",
              "  </tbody>\n",
              "</table>\n",
              "</div>"
            ],
            "text/plain": [
              "          f0         f1        f2     product\n",
              "0 -15.001348  -8.276000 -0.005876    3.179103\n",
              "1  14.272088  -3.475083  0.999183   26.953261\n",
              "2   6.263187  -5.948386  5.001160  134.766305\n",
              "3 -13.081196 -11.506057  4.999415  137.945408\n",
              "4  12.702195  -8.147433  5.004363  134.766305"
            ]
          },
          "execution_count": 14,
          "metadata": {},
          "output_type": "execute_result"
        }
      ],
      "source": [
        "df_1 = df_1.drop(columns='id')\n",
        "df_1.head()"
      ]
    },
    {
      "cell_type": "code",
      "execution_count": null,
      "metadata": {
        "id": "FsxV0rflPNe8",
        "outputId": "e5a8b8f3-b554-4802-ceea-f4d0315ccbfd"
      },
      "outputs": [
        {
          "data": {
            "text/html": [
              "<div>\n",
              "<style scoped>\n",
              "    .dataframe tbody tr th:only-of-type {\n",
              "        vertical-align: middle;\n",
              "    }\n",
              "\n",
              "    .dataframe tbody tr th {\n",
              "        vertical-align: top;\n",
              "    }\n",
              "\n",
              "    .dataframe thead th {\n",
              "        text-align: right;\n",
              "    }\n",
              "</style>\n",
              "<table border=\"1\" class=\"dataframe\">\n",
              "  <thead>\n",
              "    <tr style=\"text-align: right;\">\n",
              "      <th></th>\n",
              "      <th>f0</th>\n",
              "      <th>f1</th>\n",
              "      <th>f2</th>\n",
              "      <th>product</th>\n",
              "    </tr>\n",
              "  </thead>\n",
              "  <tbody>\n",
              "    <tr>\n",
              "      <th>0</th>\n",
              "      <td>-1.146987</td>\n",
              "      <td>0.963328</td>\n",
              "      <td>-0.828965</td>\n",
              "      <td>27.758673</td>\n",
              "    </tr>\n",
              "    <tr>\n",
              "      <th>1</th>\n",
              "      <td>0.262778</td>\n",
              "      <td>0.269839</td>\n",
              "      <td>-2.530187</td>\n",
              "      <td>56.069697</td>\n",
              "    </tr>\n",
              "    <tr>\n",
              "      <th>2</th>\n",
              "      <td>0.194587</td>\n",
              "      <td>0.289035</td>\n",
              "      <td>-5.586433</td>\n",
              "      <td>62.871910</td>\n",
              "    </tr>\n",
              "    <tr>\n",
              "      <th>3</th>\n",
              "      <td>2.236060</td>\n",
              "      <td>-0.553760</td>\n",
              "      <td>0.930038</td>\n",
              "      <td>114.572842</td>\n",
              "    </tr>\n",
              "    <tr>\n",
              "      <th>4</th>\n",
              "      <td>-0.515993</td>\n",
              "      <td>1.716266</td>\n",
              "      <td>5.899011</td>\n",
              "      <td>149.600746</td>\n",
              "    </tr>\n",
              "  </tbody>\n",
              "</table>\n",
              "</div>"
            ],
            "text/plain": [
              "         f0        f1        f2     product\n",
              "0 -1.146987  0.963328 -0.828965   27.758673\n",
              "1  0.262778  0.269839 -2.530187   56.069697\n",
              "2  0.194587  0.289035 -5.586433   62.871910\n",
              "3  2.236060 -0.553760  0.930038  114.572842\n",
              "4 -0.515993  1.716266  5.899011  149.600746"
            ]
          },
          "execution_count": 15,
          "metadata": {},
          "output_type": "execute_result"
        }
      ],
      "source": [
        "df_2 = df_2.drop(columns='id')\n",
        "df_2.head()"
      ]
    },
    {
      "cell_type": "markdown",
      "metadata": {
        "id": "j4qIU9tTPNe8"
      },
      "source": [
        "## Обучение и проверка модели"
      ]
    },
    {
      "cell_type": "markdown",
      "metadata": {
        "id": "hok4cX-bPNe8"
      },
      "source": [
        "### Регион 1"
      ]
    },
    {
      "cell_type": "markdown",
      "metadata": {
        "id": "7Nt_d3x9PNe9"
      },
      "source": [
        "По заданию необходимо вычислить средний объем сырья в скважинах и метрику RMSE. Дополнительно к этому вычислим еще метрику MAE, так как она более устойчива к выбросам"
      ]
    },
    {
      "cell_type": "code",
      "execution_count": null,
      "metadata": {
        "scrolled": false,
        "id": "NOQmrf_GPNe9",
        "outputId": "0fd4be74-885a-41ef-e10e-fd0a5d08ae81"
      },
      "outputs": [
        {
          "name": "stdout",
          "output_type": "stream",
          "text": [
            "Средний запас предсказанного сырья в регионе 1 = 92.59256778438035\n",
            "RMSE = 37.5794217150813\n",
            "MAE = 30.919600777151313\n"
          ]
        }
      ],
      "source": [
        "model_1 = LinearRegression()\n",
        "features_train_1, features_valid_1, target_train_1, target_valid_1 = data_prepared(df_0)\n",
        "\n",
        "model_1.fit(features_train_1, target_train_1)\n",
        "predicted_valid_1 = model_1.predict(features_valid_1)\n",
        "\n",
        "#аргумент squared=False позволяет вычислить сразу RMSE\n",
        "rmse_1 = mean_squared_error(target_valid_1, predicted_valid_1, squared=False)\n",
        "mae_1 = mean_absolute_error(target_valid_1, predicted_valid_1)\n",
        "print(f'Средний запас предсказанного сырья в регионе 1 = {predicted_valid_1.mean()}')\n",
        "print(f'RMSE = {rmse_1}')\n",
        "print(f'MAE = {mae_1}')"
      ]
    },
    {
      "cell_type": "code",
      "execution_count": null,
      "metadata": {
        "id": "ZUIaVeW8PNe9",
        "outputId": "49395eb9-7221-4e04-eb98-556a65d5e06a"
      },
      "outputs": [
        {
          "data": {
            "text/plain": [
              "array([ 95.89495185,  77.57258261,  77.89263965, ...,  61.50983303,\n",
              "       118.18039721, 118.16939229])"
            ]
          },
          "execution_count": 17,
          "metadata": {},
          "output_type": "execute_result"
        }
      ],
      "source": [
        "predicted_valid_1"
      ]
    },
    {
      "cell_type": "code",
      "execution_count": null,
      "metadata": {
        "scrolled": true,
        "id": "DwjfWzd3PNe9",
        "outputId": "00a0e8a1-8d66-4493-b93d-1302afd9f1b0"
      },
      "outputs": [
        {
          "data": {
            "image/png": "[encoded data removed]",
            "text/plain": [
              "<Figure size 504x504 with 1 Axes>"
            ]
          },
          "metadata": {
            "needs_background": "light"
          },
          "output_type": "display_data"
        }
      ],
      "source": [
        "plt.figure(figsize=(7,7))\n",
        "plt.grid()\n",
        "\n",
        "plt.hist(predicted_valid_1, alpha=0.5, label='predicted_valid');\n",
        "plt.hist(target_valid_1, alpha=0.5, label='target_valid');\n",
        "\n",
        "plt.title('Регион 1')\n",
        "plt.xlabel('Запас сырья')\n",
        "plt.ylabel('Количество скважин')\n",
        "plt.legend(loc='upper left')\n",
        "\n",
        "plt.show();"
      ]
    },
    {
      "cell_type": "code",
      "execution_count": null,
      "metadata": {
        "id": "nCwO8emQPNe9",
        "outputId": "7dc62b74-5760-450e-fb2a-bc30dfcf3890"
      },
      "outputs": [
        {
          "name": "stdout",
          "output_type": "stream",
          "text": [
            "Реальный средний запас сырья = 92.07859674082927\n",
            "Средний запас предсказанного сырья в регионе 1 = 92.59256778438035\n"
          ]
        }
      ],
      "source": [
        "print(f'Реальный средний запас сырья = {target_valid_1.mean()}')\n",
        "print(f'Средний запас предсказанного сырья в регионе 1 = {predicted_valid_1.mean()}')"
      ]
    },
    {
      "cell_type": "markdown",
      "metadata": {
        "id": "OeeEBWonPNfC"
      },
      "source": [
        "Видим, реальный средний запас сырья и предсказанный моделью практически одинаковы. Значения с запасом сырья нормально распределены вокруг среднего"
      ]
    },
    {
      "cell_type": "markdown",
      "metadata": {
        "id": "E6cf8y3APNfC"
      },
      "source": [
        "Для удобства дальнейшего сравнения регионов - будем добавлять средние запасы сырья и метрики в массив region_list"
      ]
    },
    {
      "cell_type": "code",
      "execution_count": null,
      "metadata": {
        "id": "eWfe4k3vPNfC"
      },
      "outputs": [],
      "source": [
        "region_list = []"
      ]
    },
    {
      "cell_type": "code",
      "execution_count": null,
      "metadata": {
        "id": "k0Vj_LXMPNfC"
      },
      "outputs": [],
      "source": [
        "region_list.append(('Регион 1',predicted_valid_1.mean(), rmse_1, mae_1))"
      ]
    },
    {
      "cell_type": "markdown",
      "metadata": {
        "id": "EPGDA3eJPNfC"
      },
      "source": [
        "### Регион 2"
      ]
    },
    {
      "cell_type": "code",
      "execution_count": null,
      "metadata": {
        "scrolled": true,
        "id": "jd2cZTgiPNfD",
        "outputId": "e8a7f18e-98eb-4456-bb5f-abbf0c1b9d7e"
      },
      "outputs": [
        {
          "name": "stdout",
          "output_type": "stream",
          "text": [
            "Средний запас предсказанного сырья в регионе 2 = 68.728546895446\n",
            "RMSE = 0.893099286775617\n",
            "MAE = 0.7187662442124758\n"
          ]
        }
      ],
      "source": [
        "model_2 = LinearRegression()\n",
        "features_train_2, features_valid_2, target_train_2, target_valid_2 = data_prepared(df_1)\n",
        "\n",
        "model_2.fit(features_train_2, target_train_2)\n",
        "predicted_valid_2 = model_2.predict(features_valid_2)\n",
        "\n",
        "#аргумент squared=False позволяет вычислить сразу RMSE\n",
        "rmse_2 = mean_squared_error(target_valid_2, predicted_valid_2, squared=False)\n",
        "mae_2 = mean_absolute_error(target_valid_2, predicted_valid_2)\n",
        "\n",
        "print(f'Средний запас предсказанного сырья в регионе 2 = {predicted_valid_2.mean()}')\n",
        "print(f'RMSE = {rmse_2}')\n",
        "print(f'MAE = {mae_2}')"
      ]
    },
    {
      "cell_type": "code",
      "execution_count": null,
      "metadata": {
        "scrolled": true,
        "id": "jcVQSZ2mPNfD",
        "outputId": "92bc1c22-13bb-47bf-ea3f-41988b1469bf"
      },
      "outputs": [
        {
          "data": {
            "image/png": "[encoded data removed]",
            "text/plain": [
              "<Figure size 504x504 with 1 Axes>"
            ]
          },
          "metadata": {
            "needs_background": "light"
          },
          "output_type": "display_data"
        }
      ],
      "source": [
        "plt.figure(figsize=(7,7))\n",
        "plt.grid()\n",
        "\n",
        "plt.hist(predicted_valid_2, alpha=0.5, label='predicted_valid');\n",
        "plt.hist(target_valid_2, alpha=0.5, label='target_valid');\n",
        "\n",
        "plt.title('Регион 2')\n",
        "plt.xlabel('Запас сырья')\n",
        "plt.ylabel('Количество скважин')\n",
        "plt.legend(loc='upper left')\n",
        "\n",
        "plt.show();"
      ]
    },
    {
      "cell_type": "code",
      "execution_count": null,
      "metadata": {
        "scrolled": true,
        "id": "ViaVuM-nPNfD",
        "outputId": "3a72e2d7-ac3a-4f31-bec5-21a5adb9dde3"
      },
      "outputs": [
        {
          "name": "stdout",
          "output_type": "stream",
          "text": [
            "Реальный средний запас сырья = 68.72313602435997\n",
            "Средний запас предсказанного сырья в регионе 2 = 68.728546895446\n"
          ]
        }
      ],
      "source": [
        "print(f'Реальный средний запас сырья = {target_valid_2.mean()}')\n",
        "print(f'Средний запас предсказанного сырья в регионе 2 = {predicted_valid_2.mean()}')"
      ]
    },
    {
      "cell_type": "markdown",
      "metadata": {
        "id": "CIwR2KvCPNfD"
      },
      "source": [
        "Распределение запасов сырья по скважинам в Регионе 2 очень интересное! Видим, что есть около 4000 пустых скважин, так и столько же скважин с огромным запасом сырья (в 2 раза превышающим среднее количество сырья). Регион выглядит рискованным для инвестиций, но можем напороться и на золотую скважину!"
      ]
    },
    {
      "cell_type": "code",
      "execution_count": null,
      "metadata": {
        "id": "7Smq5_asPNfD"
      },
      "outputs": [],
      "source": [
        "region_list.append(('Регион 2',predicted_valid_2.mean(), rmse_2, mae_2))"
      ]
    },
    {
      "cell_type": "markdown",
      "metadata": {
        "id": "F-FKNfJzPNfD"
      },
      "source": [
        "### Регион 3"
      ]
    },
    {
      "cell_type": "code",
      "execution_count": null,
      "metadata": {
        "id": "TdRvmO1KPNfD",
        "outputId": "3d430c62-77b6-4b79-e5fe-a006945ca7c8"
      },
      "outputs": [
        {
          "name": "stdout",
          "output_type": "stream",
          "text": [
            "Средний запас предсказанного сырья в регионе 3 = 94.96504596800489\n",
            "RMSE = 40.02970873393434\n",
            "MAE = 32.792652105481814\n"
          ]
        }
      ],
      "source": [
        "model_3 = LinearRegression()\n",
        "features_train_3, features_valid_3, target_train_3, target_valid_3 = data_prepared(df_2)\n",
        "\n",
        "model_3.fit(features_train_3, target_train_3)\n",
        "predicted_valid_3 = model_3.predict(features_valid_3)\n",
        "\n",
        "#аргумент squared=False позволяет вычислить сразу RMSE\n",
        "rmse_3 = mean_squared_error(target_valid_3, predicted_valid_3, squared=False)\n",
        "mae_3 = mean_absolute_error(target_valid_3, predicted_valid_3)\n",
        "\n",
        "print(f'Средний запас предсказанного сырья в регионе 3 = {predicted_valid_3.mean()}')\n",
        "print(f'RMSE = {rmse_3}')\n",
        "print(f'MAE = {mae_3}')"
      ]
    },
    {
      "cell_type": "code",
      "execution_count": null,
      "metadata": {
        "scrolled": true,
        "id": "XqSLLiR9PNfD",
        "outputId": "29e73c57-6915-4ee4-bcf4-afefee7f799e"
      },
      "outputs": [
        {
          "data": {
            "image/png": "[encoded data removed]",
            "text/plain": [
              "<Figure size 504x504 with 1 Axes>"
            ]
          },
          "metadata": {
            "needs_background": "light"
          },
          "output_type": "display_data"
        }
      ],
      "source": [
        "plt.figure(figsize=(7,7))\n",
        "plt.grid()\n",
        "\n",
        "plt.hist(predicted_valid_3, alpha=0.5, label='predicted_valid');\n",
        "plt.hist(target_valid_3, alpha=0.5, label='target_valid');\n",
        "\n",
        "plt.title('Регион 3')\n",
        "plt.xlabel('Запас сырья')\n",
        "plt.ylabel('Количество скважин')\n",
        "plt.legend(loc='upper left')\n",
        "\n",
        "plt.show();"
      ]
    },
    {
      "cell_type": "code",
      "execution_count": null,
      "metadata": {
        "scrolled": false,
        "id": "8TeR19qaPNfD",
        "outputId": "82edd0f8-ab96-4207-adfc-8119dfda1441"
      },
      "outputs": [
        {
          "name": "stdout",
          "output_type": "stream",
          "text": [
            "Реальный средний запас сырья = 94.88423280885438\n",
            "Средний запас предсказанного сырья в регионе 3 = 94.96504596800489\n"
          ]
        }
      ],
      "source": [
        "print(f'Реальный средний запас сырья = {target_valid_3.mean()}')\n",
        "print(f'Средний запас предсказанного сырья в регионе 3 = {predicted_valid_3.mean()}')"
      ]
    },
    {
      "cell_type": "markdown",
      "metadata": {
        "id": "FCYxxuLPPNfD"
      },
      "source": [
        "Видим, реальный средний запас сырья и предсказанный моделью практически одинаковы. Значения с запасом сырья нормально распределены вокруг среднего. Распределение запасов сырья по скважинам в регионе 3 такое же, как и в регионе 1"
      ]
    },
    {
      "cell_type": "code",
      "execution_count": null,
      "metadata": {
        "id": "BEluxOS7PNfE"
      },
      "outputs": [],
      "source": [
        "region_list.append(('Регион 3',predicted_valid_3.mean(), rmse_3, mae_3))"
      ]
    },
    {
      "cell_type": "markdown",
      "metadata": {
        "id": "xovPf6L4PNfE"
      },
      "source": [
        "### Сравнение регионов"
      ]
    },
    {
      "cell_type": "code",
      "execution_count": null,
      "metadata": {
        "scrolled": true,
        "id": "oFjoDJ1FPNfE",
        "outputId": "4e85fb86-872c-40c4-eea3-4591beee9737"
      },
      "outputs": [
        {
          "data": {
            "text/html": [
              "<div>\n",
              "<style scoped>\n",
              "    .dataframe tbody tr th:only-of-type {\n",
              "        vertical-align: middle;\n",
              "    }\n",
              "\n",
              "    .dataframe tbody tr th {\n",
              "        vertical-align: top;\n",
              "    }\n",
              "\n",
              "    .dataframe thead th {\n",
              "        text-align: right;\n",
              "    }\n",
              "</style>\n",
              "<table border=\"1\" class=\"dataframe\">\n",
              "  <thead>\n",
              "    <tr style=\"text-align: right;\">\n",
              "      <th></th>\n",
              "      <th>Название региона</th>\n",
              "      <th>Средний запас сырья</th>\n",
              "      <th>RMSE</th>\n",
              "      <th>MAE</th>\n",
              "    </tr>\n",
              "  </thead>\n",
              "  <tbody>\n",
              "    <tr>\n",
              "      <th>0</th>\n",
              "      <td>Регион 1</td>\n",
              "      <td>92.592568</td>\n",
              "      <td>37.579422</td>\n",
              "      <td>30.919601</td>\n",
              "    </tr>\n",
              "    <tr>\n",
              "      <th>1</th>\n",
              "      <td>Регион 2</td>\n",
              "      <td>68.728547</td>\n",
              "      <td>0.893099</td>\n",
              "      <td>0.718766</td>\n",
              "    </tr>\n",
              "    <tr>\n",
              "      <th>2</th>\n",
              "      <td>Регион 3</td>\n",
              "      <td>94.965046</td>\n",
              "      <td>40.029709</td>\n",
              "      <td>32.792652</td>\n",
              "    </tr>\n",
              "  </tbody>\n",
              "</table>\n",
              "</div>"
            ],
            "text/plain": [
              "  Название региона  Средний запас сырья       RMSE        MAE\n",
              "0         Регион 1            92.592568  37.579422  30.919601\n",
              "1         Регион 2            68.728547   0.893099   0.718766\n",
              "2         Регион 3            94.965046  40.029709  32.792652"
            ]
          },
          "execution_count": 30,
          "metadata": {},
          "output_type": "execute_result"
        }
      ],
      "source": [
        "region_list = pd.DataFrame(region_list)\n",
        "region_list.columns = ['Название региона', 'Средний запас сырья', 'RMSE', 'MAE']\n",
        "region_list"
      ]
    },
    {
      "cell_type": "markdown",
      "metadata": {
        "id": "K8PrjKdNPNfE"
      },
      "source": [
        "Видим, что регион 1 и регион 3 имеют практически одинаковый средний запас сырья, однако у региона 3 чуть больше разброс вокруг среднего (RMSE больше чем у 1 региона) и чуть более явный экстремум распределения запаса по скважинам. У Региона 1 нет четкого пика распределения (он сглажен). Это влияет на потенциальную прибыль и риски "
      ]
    },
    {
      "cell_type": "markdown",
      "metadata": {
        "id": "rbxBXFyMPNfE"
      },
      "source": [
        "## Подготовка к расчёту прибыли"
      ]
    },
    {
      "cell_type": "markdown",
      "metadata": {
        "id": "X9mOqGeoPNfE"
      },
      "source": [
        "- При разведке региона исследуют 500 точек, из которых с помощью машинного обучения выбирают 200 лучших для разработки.\n",
        "- Бюджет на разработку скважин в регионе — 10 млрд рублей.\n",
        "- Доход с каждой единицы продукта составляет 450 тыс. рублей, поскольку объём указан в тысячах баррелей."
      ]
    },
    {
      "cell_type": "markdown",
      "metadata": {
        "id": "4TOowwqAPNfE"
      },
      "source": [
        "### Точка безубытка разработки скажины"
      ]
    },
    {
      "cell_type": "markdown",
      "metadata": {
        "id": "QaTMNxy1PNfE"
      },
      "source": [
        "Рассчитайте достаточный объём сырья для безубыточной разработки новой скважины. Сравните полученный объём сырья со средним запасом в каждом регионе. "
      ]
    },
    {
      "cell_type": "code",
      "execution_count": null,
      "metadata": {
        "id": "_DRmeqfqPNfE"
      },
      "outputs": [],
      "source": [
        "budget = 10_000_000_000\n",
        "income = 450_000 #доход с каждой ед продукции (тыс баррелей)\n",
        "N = 200 #200 лучших точек"
      ]
    },
    {
      "cell_type": "code",
      "execution_count": null,
      "metadata": {
        "id": "flJTplvqPNfE",
        "outputId": "884a83e7-84dd-409a-c54f-ca389af42335"
      },
      "outputs": [
        {
          "data": {
            "text/plain": [
              "50000000.0"
            ]
          },
          "execution_count": 32,
          "metadata": {},
          "output_type": "execute_result"
        }
      ],
      "source": [
        "# стоимость разработки одной скважины\n",
        "cost_1 = budget / N\n",
        "cost_1"
      ]
    },
    {
      "cell_type": "code",
      "execution_count": null,
      "metadata": {
        "scrolled": false,
        "id": "BljDshaXPNfF",
        "outputId": "fd006fce-d73f-44b3-990c-5812faab0290"
      },
      "outputs": [
        {
          "data": {
            "text/plain": [
              "111.11111111111111"
            ]
          },
          "execution_count": 33,
          "metadata": {},
          "output_type": "execute_result"
        }
      ],
      "source": [
        "# мин объем для безубыточности\n",
        "min_volume = budget / (income * N)\n",
        "min_volume"
      ]
    },
    {
      "cell_type": "markdown",
      "metadata": {
        "id": "St0FOiBPPNfF"
      },
      "source": [
        "Точка безубыточности достигается, если запас сырья в одной скважине не менее 111.1 тыс баррелей. В каждом из представленных регионов средний запас сырья ниже. Значит надо будет выбирать скажины с самым высоким запасом сырья"
      ]
    },
    {
      "cell_type": "markdown",
      "metadata": {
        "id": "4XQEhJQUPNfF"
      },
      "source": [
        "### Функция для расчёта прибыли по выбранным скважинам и предсказаниям модели"
      ]
    },
    {
      "cell_type": "markdown",
      "metadata": {
        "id": "tja5cQEZPNfF"
      },
      "source": [
        "- Выберите скважины с максимальными значениями предсказаний. \n",
        "- Просуммируйте целевое значение объёма сырья, соответствующее этим предсказаниям.\n",
        "- Рассчитайте прибыль для полученного объёма сырья."
      ]
    },
    {
      "cell_type": "code",
      "execution_count": null,
      "metadata": {
        "id": "9GYn9Wf8PNfF"
      },
      "outputs": [],
      "source": [
        "def profit(predicted_volume, target):\n",
        "    predicted_volume = predicted_volume.sort_values(ascending=False)\n",
        "    product_volume = target[predicted_volume.index]\n",
        "    product_volume = product_volume[:N]\n",
        "    profit = product_volume * income - cost_1\n",
        "    return profit.sum()"
      ]
    },
    {
      "cell_type": "markdown",
      "metadata": {
        "id": "IpZrrvyhPNfF"
      },
      "source": [
        "## Расчёт прибыли и рисков "
      ]
    },
    {
      "cell_type": "markdown",
      "metadata": {
        "id": "vk-W7rJcPNfF"
      },
      "source": [
        "### Примените технику Bootstrap с 1000 выборок, чтобы найти распределение прибыли."
      ]
    },
    {
      "cell_type": "markdown",
      "metadata": {
        "id": "vVdCw8p8PNfF"
      },
      "source": [
        "#### Регион 1"
      ]
    },
    {
      "cell_type": "markdown",
      "metadata": {
        "id": "CS-avBazPNfF"
      },
      "source": [
        "Регион 1"
      ]
    },
    {
      "cell_type": "markdown",
      "metadata": {
        "id": "LdEupnBoPNfG"
      },
      "source": [
        "1 вариант"
      ]
    },
    {
      "cell_type": "code",
      "execution_count": null,
      "metadata": {
        "id": "-F6V3LMRPNfG"
      },
      "outputs": [],
      "source": [
        "values = []\n",
        "state = np.random.RandomState(12345)\n",
        "predicted_valid_1 = pd.Series(predicted_valid_1)\n",
        "target_valid_1 = pd.Series(target_valid_1).reset_index(drop=True)"
      ]
    },
    {
      "cell_type": "code",
      "execution_count": null,
      "metadata": {
        "id": "6hAXTBhCPNfG"
      },
      "outputs": [],
      "source": [
        "for i in range(1000):\n",
        "    target_subsample = target_valid_1.sample(n=500, replace=True, random_state=state)\n",
        "    pred_volume_subsample = predicted_valid_1[target_subsample.index]\n",
        "    pred_volume_subsample = pd.Series(pred_volume_subsample)\n",
        "    money = profit(pred_volume_subsample, target_subsample)\n",
        "    values.append(money)"
      ]
    },
    {
      "cell_type": "code",
      "execution_count": null,
      "metadata": {
        "id": "bG-ftrOoPNfG",
        "outputId": "663d5bcb-67b1-4eb5-ce11-a4faa8685123"
      },
      "outputs": [
        {
          "data": {
            "image/png": "[encoded data removed]",
            "text/plain": [
              "<Figure size 432x288 with 1 Axes>"
            ]
          },
          "metadata": {
            "needs_background": "light"
          },
          "output_type": "display_data"
        }
      ],
      "source": [
        "values = pd.Series(values)\n",
        "values.hist();"
      ]
    },
    {
      "cell_type": "code",
      "execution_count": null,
      "metadata": {
        "scrolled": false,
        "id": "WcpGTB2VPNfG",
        "outputId": "a4217211-0882-4986-9b16-fedd46ada63e"
      },
      "outputs": [
        {
          "name": "stdout",
          "output_type": "stream",
          "text": [
            "Средняя прибыль по региону 1 = 425.94 млн рублей\n",
            "Доверительный интервал: от 2.5% квантиль = -102.09 (млн руб)  до 97.5% квантиля = 947.98 (млн руб)\n",
            "Вероятность убытков = 6.0 %\n"
          ]
        }
      ],
      "source": [
        "print(f'Средняя прибыль по региону 1 = {(values.mean()/(10**6)):.2f} млн рублей')\n",
        "print(f'Доверительный интервал: от 2.5% квантиль = \\\n",
        "{values.quantile(0.025)/(10**6):.2f} (млн руб)  до 97.5% квантиля = {values.quantile(0.975)/(10**6):.2f} (млн руб)')\n",
        "print(f'Вероятность убытков = {((values < 0)*1).mean() * 100} %')"
      ]
    },
    {
      "cell_type": "code",
      "execution_count": null,
      "metadata": {
        "id": "XkOjB9QwPNfG"
      },
      "outputs": [],
      "source": [
        "# сохраним результаты в список\n",
        "result = []"
      ]
    },
    {
      "cell_type": "code",
      "execution_count": null,
      "metadata": {
        "id": "-WeTEFDjPNfG"
      },
      "outputs": [],
      "source": [
        "result.append(('Region 1 var 1 (valid)', values.mean()/(10**6),\\\n",
        "               values.quantile(0.025)/(10**6),  values.quantile(0.975)/(10**6), ((values < 0)*1).mean() * 100))"
      ]
    },
    {
      "cell_type": "markdown",
      "metadata": {
        "id": "AHX_TqDfPNfG"
      },
      "source": [
        "2 вариант "
      ]
    },
    {
      "cell_type": "code",
      "execution_count": null,
      "metadata": {
        "id": "4C9tpcg0PNfH"
      },
      "outputs": [],
      "source": [
        "values_1 = []\n",
        "state = np.random.RandomState(12345)\n",
        "target_1 = df_0['product']\n",
        "features_1 = df_0.drop(columns=['product'])\n",
        "\n",
        "#получим предсказания объемов запаса сырья во всех скважинах\n",
        "predicted_volume_1 = model_1.predict(features_1)\n",
        "\n",
        "#bootstrap для построения распределения прибыли по региону 1\n",
        "for i in range(1000):\n",
        "    target_subsample = target_1.sample(n=500, replace=True, random_state=state)\n",
        "    pred_volume_subsample = predicted_volume_1[target_subsample.index]\n",
        "    pred_volume_subsample = pd.Series(pred_volume_subsample)\n",
        "    target_subsample = pd.Series(target_subsample).reset_index(drop=True)\n",
        "    money = profit(pred_volume_subsample, target_subsample)\n",
        "    values_1.append(money)"
      ]
    },
    {
      "cell_type": "code",
      "execution_count": null,
      "metadata": {
        "scrolled": false,
        "id": "Wyhf2Fl9PNfH",
        "outputId": "0bf9a387-ad19-4640-d6c5-1d87bd781ba9"
      },
      "outputs": [
        {
          "data": {
            "image/png": "[encoded data removed]",
            "text/plain": [
              "<Figure size 432x288 with 1 Axes>"
            ]
          },
          "metadata": {
            "needs_background": "light"
          },
          "output_type": "display_data"
        }
      ],
      "source": [
        "values_1 = pd.Series(values_1)\n",
        "values_1.hist();"
      ]
    },
    {
      "cell_type": "markdown",
      "metadata": {
        "id": "ZyT2DXulPNfH"
      },
      "source": [
        "Найдите среднюю прибыль, 95%-й доверительный интервал и риск убытков. Убыток — это отрицательная прибыль."
      ]
    },
    {
      "cell_type": "code",
      "execution_count": null,
      "metadata": {
        "id": "f0WAmHytPNfH",
        "outputId": "ad2647d9-1a7f-4c40-a53e-3bb65fed0844"
      },
      "outputs": [
        {
          "name": "stdout",
          "output_type": "stream",
          "text": [
            "Средняя прибыль по региону 1 = 337.79 млн рублей\n",
            "Доверительный интервал: от 2.5% квантиль = -185.21 (млн руб)  до 97.5% квантиля = 907.92 (млн руб)\n",
            "Вероятность убытков = 9.5 %\n"
          ]
        }
      ],
      "source": [
        "print(f'Средняя прибыль по региону 1 = {(values_1.mean()/(10**6)):.2f} млн рублей')\n",
        "print(f'Доверительный интервал: от 2.5% квантиль = \\\n",
        "{values_1.quantile(0.025)/(10**6):.2f} (млн руб)  до 97.5% квантиля = {values_1.quantile(0.975)/(10**6):.2f} (млн руб)')\n",
        "print(f'Вероятность убытков = {((values_1 < 0)*1).mean() * 100} %')"
      ]
    },
    {
      "cell_type": "code",
      "execution_count": null,
      "metadata": {
        "id": "55SD0NmJPNfH"
      },
      "outputs": [],
      "source": [
        "result.append(('Region 1 variant 2 (all)', values_1.mean()/(10**6),\\\n",
        "               values_1.quantile(0.025)/(10**6),  values_1.quantile(0.975)/(10**6), ((values_1 < 0)*1).mean() * 100))"
      ]
    },
    {
      "cell_type": "markdown",
      "metadata": {
        "id": "45W3pUjePNfH"
      },
      "source": [
        "#### Регион 2"
      ]
    },
    {
      "cell_type": "markdown",
      "metadata": {
        "id": "SLoSEd79PNfH"
      },
      "source": [
        "Вариант 1"
      ]
    },
    {
      "cell_type": "code",
      "execution_count": null,
      "metadata": {
        "id": "VSlr2nFTPNfI"
      },
      "outputs": [],
      "source": [
        "values = []\n",
        "state = np.random.RandomState(12345)\n",
        "predicted_valid_2 = pd.Series(predicted_valid_2)\n",
        "target_valid_2 = pd.Series(target_valid_2).reset_index(drop=True)\n",
        "\n",
        "for i in range(1000):\n",
        "    target_subsample = target_valid_2.sample(n=500, replace=True, random_state=state)\n",
        "    pred_volume_subsample = predicted_valid_2[target_subsample.index]\n",
        "    pred_volume_subsample = pd.Series(pred_volume_subsample)\n",
        "    money = profit(pred_volume_subsample, target_subsample)\n",
        "    values.append(money)"
      ]
    },
    {
      "cell_type": "code",
      "execution_count": null,
      "metadata": {
        "id": "nIGXBHU2PNfI",
        "outputId": "fdab5675-6c9c-44fa-9028-2e50237eb73f"
      },
      "outputs": [
        {
          "data": {
            "image/png": "[encoded data removed]",
            "text/plain": [
              "<Figure size 432x288 with 1 Axes>"
            ]
          },
          "metadata": {
            "needs_background": "light"
          },
          "output_type": "display_data"
        }
      ],
      "source": [
        "values = pd.Series(values)\n",
        "values.hist();"
      ]
    },
    {
      "cell_type": "code",
      "execution_count": null,
      "metadata": {
        "scrolled": true,
        "id": "_BkUiwMMPNfI",
        "outputId": "6e5bf5f6-001a-426d-994f-a020927bf31d"
      },
      "outputs": [
        {
          "name": "stdout",
          "output_type": "stream",
          "text": [
            "Средняя прибыль по региону 2 = 515.22 млн рублей\n",
            "Доверительный интервал: от 2.5% квантиль = 68.87 (млн руб)  до 97.5% квантиля = 931.55 (млн руб)\n",
            "Вероятность убытков = 1.0 %\n"
          ]
        }
      ],
      "source": [
        "print(f'Средняя прибыль по региону 2 = {(values.mean()/(10**6)):.2f} млн рублей')\n",
        "print(f'Доверительный интервал: от 2.5% квантиль = \\\n",
        "{values.quantile(0.025)/(10**6):.2f} (млн руб)  до 97.5% квантиля = {values.quantile(0.975)/(10**6):.2f} (млн руб)')\n",
        "print(f'Вероятность убытков = {((values < 0)*1).mean() * 100} %')"
      ]
    },
    {
      "cell_type": "code",
      "execution_count": null,
      "metadata": {
        "id": "GL9ft5wcPNfI"
      },
      "outputs": [],
      "source": [
        "result.append(('Region 2 var 1 (valid)', values.mean()/(10**6),\\\n",
        "               values.quantile(0.025)/(10**6),  values.quantile(0.975)/(10**6), ((values < 0)*1).mean() * 100))"
      ]
    },
    {
      "cell_type": "markdown",
      "metadata": {
        "id": "nll3v3MYPNfI"
      },
      "source": [
        "2 вариант"
      ]
    },
    {
      "cell_type": "code",
      "execution_count": null,
      "metadata": {
        "id": "GZsXZ8bJPNfI"
      },
      "outputs": [],
      "source": [
        "values_2 = []\n",
        "state = np.random.RandomState(12345)\n",
        "target_2 = df_1['product']\n",
        "features_2 = df_1.drop(columns=['product'])\n",
        "\n",
        "#получим предсказания объемов запаса сырья во всех скважинах\n",
        "predicted_volume_2 = model_2.predict(features_2)\n",
        "\n",
        "#bootstrap для построения распределения прибыли по региону 2\n",
        "for i in range(1000):\n",
        "    target_subsample = target_2.sample(n=500, replace=True, random_state=state)\n",
        "    pred_volume_subsample = predicted_volume_2[target_subsample.index]\n",
        "    pred_volume_subsample = pd.Series(pred_volume_subsample)\n",
        "    target_subsample = pd.Series(target_subsample).reset_index(drop=True)\n",
        "    money = profit(pred_volume_subsample, target_subsample)\n",
        "    values_2.append(money)"
      ]
    },
    {
      "cell_type": "code",
      "execution_count": null,
      "metadata": {
        "scrolled": true,
        "id": "rWs3X-RnPNfI",
        "outputId": "c9f976c2-4f66-4442-ff57-84514634211e"
      },
      "outputs": [
        {
          "data": {
            "image/png": "[encoded data removed]",
            "text/plain": [
              "<Figure size 432x288 with 1 Axes>"
            ]
          },
          "metadata": {
            "needs_background": "light"
          },
          "output_type": "display_data"
        }
      ],
      "source": [
        "values_2 = pd.Series(values_2)\n",
        "values_2.hist();"
      ]
    },
    {
      "cell_type": "code",
      "execution_count": null,
      "metadata": {
        "id": "Rk4jJqv1PNfJ",
        "outputId": "d352e066-7ee7-4158-e56f-cfc3b8d0649d"
      },
      "outputs": [
        {
          "name": "stdout",
          "output_type": "stream",
          "text": [
            "Средняя прибыль по региону 2 = 448.77 млн рублей\n",
            "Доверительный интервал: от 2.5% квантиль = 38.89 (млн руб)  до 97.5% квантиля = 823.74 (млн руб)\n",
            "Вероятность убытков = 1.4000000000000001 %\n"
          ]
        }
      ],
      "source": [
        "print(f'Средняя прибыль по региону 2 = {(values_2.mean()/(10**6)):.2f} млн рублей')\n",
        "print(f'Доверительный интервал: от 2.5% квантиль = \\\n",
        "{values_2.quantile(0.025)/(10**6):.2f} (млн руб)  до 97.5% квантиля = {values_2.quantile(0.975)/(10**6):.2f} (млн руб)')\n",
        "print(f'Вероятность убытков = {((values_2 < 0)*1).mean() * 100} %')"
      ]
    },
    {
      "cell_type": "code",
      "execution_count": null,
      "metadata": {
        "id": "e7wrr3X0PNfJ"
      },
      "outputs": [],
      "source": [
        "result.append(('Region 2 variant 2 (all)', values_2.mean()/(10**6),\\\n",
        "               values_2.quantile(0.025)/(10**6),  values_2.quantile(0.975)/(10**6), ((values_2 < 0)*1).mean() * 100))"
      ]
    },
    {
      "cell_type": "markdown",
      "metadata": {
        "id": "5qLzqiNMPNfJ"
      },
      "source": [
        "#### Регион 3"
      ]
    },
    {
      "cell_type": "markdown",
      "metadata": {
        "id": "Y-8VR5uhPNfJ"
      },
      "source": [
        "Вариант 1"
      ]
    },
    {
      "cell_type": "code",
      "execution_count": null,
      "metadata": {
        "id": "jK63PW1tPNfJ",
        "outputId": "a5cc00c2-bf96-4df7-d233-0a50296e5e46"
      },
      "outputs": [
        {
          "data": {
            "image/png": "[encoded data removed]",
            "text/plain": [
              "<Figure size 432x288 with 1 Axes>"
            ]
          },
          "metadata": {
            "needs_background": "light"
          },
          "output_type": "display_data"
        }
      ],
      "source": [
        "values = []\n",
        "state = np.random.RandomState(12345)\n",
        "predicted_valid_3 = pd.Series(predicted_valid_3)\n",
        "target_valid_3 = pd.Series(target_valid_3).reset_index(drop=True)\n",
        "\n",
        "for i in range(1000):\n",
        "    target_subsample = target_valid_3.sample(n=500, replace=True, random_state=state)\n",
        "    pred_volume_subsample = predicted_valid_3[target_subsample.index]\n",
        "    pred_volume_subsample = pd.Series(pred_volume_subsample)\n",
        "    money = profit(pred_volume_subsample, target_subsample)\n",
        "    values.append(money)\n",
        "    \n",
        "values = pd.Series(values)\n",
        "values.hist();"
      ]
    },
    {
      "cell_type": "code",
      "execution_count": null,
      "metadata": {
        "id": "ux4C8qLmPNfJ",
        "outputId": "41a32441-beaa-4fb5-f2fe-49118e1d0521"
      },
      "outputs": [
        {
          "name": "stdout",
          "output_type": "stream",
          "text": [
            "Средняя прибыль по региону 2 = 435.01 млн рублей\n",
            "Доверительный интервал: от 2.5% квантиль = -128.88 (млн руб)  до 97.5% квантиля = 969.71 (млн руб)\n",
            "Вероятность убытков = 6.4 %\n"
          ]
        }
      ],
      "source": [
        "print(f'Средняя прибыль по региону 2 = {(values.mean()/(10**6)):.2f} млн рублей')\n",
        "print(f'Доверительный интервал: от 2.5% квантиль = \\\n",
        "{values.quantile(0.025)/(10**6):.2f} (млн руб)  до 97.5% квантиля = {values.quantile(0.975)/(10**6):.2f} (млн руб)')\n",
        "print(f'Вероятность убытков = {((values < 0)*1).mean() * 100} %')"
      ]
    },
    {
      "cell_type": "code",
      "execution_count": null,
      "metadata": {
        "id": "rw3T_AbuPNfJ"
      },
      "outputs": [],
      "source": [
        "result.append(('Region 3 var 1 (valid)', values.mean()/(10**6),\\\n",
        "               values.quantile(0.025)/(10**6),  values.quantile(0.975)/(10**6), ((values < 0)*1).mean() * 100))"
      ]
    },
    {
      "cell_type": "markdown",
      "metadata": {
        "id": "kcswIz0FPNfJ"
      },
      "source": [
        "2 вариант"
      ]
    },
    {
      "cell_type": "code",
      "execution_count": null,
      "metadata": {
        "scrolled": true,
        "id": "EEjIWTnsPNfJ",
        "outputId": "bf8469a8-f631-4fd5-ad15-4a109b0facee"
      },
      "outputs": [
        {
          "data": {
            "image/png": "[encoded data removed]",
            "text/plain": [
              "<Figure size 432x288 with 1 Axes>"
            ]
          },
          "metadata": {
            "needs_background": "light"
          },
          "output_type": "display_data"
        }
      ],
      "source": [
        "values_3 = []\n",
        "state = np.random.RandomState(12345)\n",
        "target_3 = df_2['product']\n",
        "features_3 = df_2.drop(columns=['product'])\n",
        "\n",
        "#получим предсказания объемов запаса сырья во всех скважинах\n",
        "predicted_volume_3 = model_3.predict(features_3)\n",
        "\n",
        "#bootstrap для построения распределения прибыли по региону 2\n",
        "for i in range(1000):\n",
        "    target_subsample = target_3.sample(n=500, replace=True, random_state=state)\n",
        "    pred_volume_subsample = predicted_volume_3[target_subsample.index]\n",
        "    pred_volume_subsample = pd.Series(pred_volume_subsample)\n",
        "    target_subsample = pd.Series(target_subsample).reset_index(drop=True)\n",
        "    money = profit(pred_volume_subsample, target_subsample)\n",
        "    values_3.append(money)\n",
        "    \n",
        "values_3 = pd.Series(values_3)\n",
        "values_3.hist();"
      ]
    },
    {
      "cell_type": "code",
      "execution_count": null,
      "metadata": {
        "scrolled": true,
        "id": "H1BIFj43PNfJ",
        "outputId": "8c4f3623-ed27-40a3-d204-6209bccb2e9b"
      },
      "outputs": [
        {
          "name": "stdout",
          "output_type": "stream",
          "text": [
            "Средняя прибыль по региону 3 = 373.40 млн рублей\n",
            "Доверительный интервал: от 2.5% квантиль = -177.98 (млн руб)  до 97.5% квантиля = 893.99 (млн руб)\n",
            "Вероятность убытков = 9.1 %\n"
          ]
        }
      ],
      "source": [
        "print(f'Средняя прибыль по региону 3 = {(values_3.mean()/(10**6)):.2f} млн рублей')\n",
        "print(f'Доверительный интервал: от 2.5% квантиль = \\\n",
        "{values_3.quantile(0.025)/(10**6):.2f} (млн руб)  до 97.5% квантиля = {values_3.quantile(0.975)/(10**6):.2f} (млн руб)')\n",
        "print(f'Вероятность убытков = {((values_3 < 0)*1).mean() * 100} %')"
      ]
    },
    {
      "cell_type": "code",
      "execution_count": null,
      "metadata": {
        "scrolled": true,
        "id": "DOk4p0UbPNfJ"
      },
      "outputs": [],
      "source": [
        "result.append(('Region 3 variant 2 (all)', values_3.mean()/(10**6),\\\n",
        "               values_3.quantile(0.025)/(10**6),  values_3.quantile(0.975)/(10**6), ((values_3 < 0)*1).mean() * 100))"
      ]
    },
    {
      "cell_type": "markdown",
      "metadata": {
        "id": "3Enf6v-lPNfJ"
      },
      "source": [
        "#### Результаты"
      ]
    },
    {
      "cell_type": "code",
      "execution_count": null,
      "metadata": {
        "scrolled": false,
        "id": "FnWVa1y-PNfK",
        "outputId": "f3bc38c4-5468-4fcf-fff7-b3490f285120"
      },
      "outputs": [
        {
          "data": {
            "text/html": [
              "<div>\n",
              "<style scoped>\n",
              "    .dataframe tbody tr th:only-of-type {\n",
              "        vertical-align: middle;\n",
              "    }\n",
              "\n",
              "    .dataframe tbody tr th {\n",
              "        vertical-align: top;\n",
              "    }\n",
              "\n",
              "    .dataframe thead th {\n",
              "        text-align: right;\n",
              "    }\n",
              "</style>\n",
              "<table border=\"1\" class=\"dataframe\">\n",
              "  <thead>\n",
              "    <tr style=\"text-align: right;\">\n",
              "      <th></th>\n",
              "      <th>Регион и вариант</th>\n",
              "      <th>Средняя прибыль (млн руб)</th>\n",
              "      <th>2.5% квантиль</th>\n",
              "      <th>97.5% квантиль</th>\n",
              "      <th>Риск убытков (%)</th>\n",
              "    </tr>\n",
              "  </thead>\n",
              "  <tbody>\n",
              "    <tr>\n",
              "      <th>2</th>\n",
              "      <td>Region 2 var 1 (valid)</td>\n",
              "      <td>515.222773</td>\n",
              "      <td>68.873225</td>\n",
              "      <td>931.547591</td>\n",
              "      <td>1.0</td>\n",
              "    </tr>\n",
              "    <tr>\n",
              "      <th>3</th>\n",
              "      <td>Region 2 variant 2 (all)</td>\n",
              "      <td>448.767974</td>\n",
              "      <td>38.892906</td>\n",
              "      <td>823.739730</td>\n",
              "      <td>1.4</td>\n",
              "    </tr>\n",
              "    <tr>\n",
              "      <th>4</th>\n",
              "      <td>Region 3 var 1 (valid)</td>\n",
              "      <td>435.008363</td>\n",
              "      <td>-128.880547</td>\n",
              "      <td>969.706954</td>\n",
              "      <td>6.4</td>\n",
              "    </tr>\n",
              "    <tr>\n",
              "      <th>0</th>\n",
              "      <td>Region 1 var 1 (valid)</td>\n",
              "      <td>425.938527</td>\n",
              "      <td>-102.090095</td>\n",
              "      <td>947.976353</td>\n",
              "      <td>6.0</td>\n",
              "    </tr>\n",
              "    <tr>\n",
              "      <th>5</th>\n",
              "      <td>Region 3 variant 2 (all)</td>\n",
              "      <td>373.396685</td>\n",
              "      <td>-177.978894</td>\n",
              "      <td>893.986190</td>\n",
              "      <td>9.1</td>\n",
              "    </tr>\n",
              "    <tr>\n",
              "      <th>1</th>\n",
              "      <td>Region 1 variant 2 (all)</td>\n",
              "      <td>337.787390</td>\n",
              "      <td>-185.210347</td>\n",
              "      <td>907.922153</td>\n",
              "      <td>9.5</td>\n",
              "    </tr>\n",
              "  </tbody>\n",
              "</table>\n",
              "</div>"
            ],
            "text/plain": [
              "           Регион и вариант  Средняя прибыль (млн руб)  2.5% квантиль  \\\n",
              "2    Region 2 var 1 (valid)                 515.222773      68.873225   \n",
              "3  Region 2 variant 2 (all)                 448.767974      38.892906   \n",
              "4    Region 3 var 1 (valid)                 435.008363    -128.880547   \n",
              "0    Region 1 var 1 (valid)                 425.938527    -102.090095   \n",
              "5  Region 3 variant 2 (all)                 373.396685    -177.978894   \n",
              "1  Region 1 variant 2 (all)                 337.787390    -185.210347   \n",
              "\n",
              "   97.5% квантиль  Риск убытков (%)  \n",
              "2      931.547591               1.0  \n",
              "3      823.739730               1.4  \n",
              "4      969.706954               6.4  \n",
              "0      947.976353               6.0  \n",
              "5      893.986190               9.1  \n",
              "1      907.922153               9.5  "
            ]
          },
          "execution_count": 59,
          "metadata": {},
          "output_type": "execute_result"
        }
      ],
      "source": [
        "result = pd.DataFrame(result)\n",
        "result.columns = ['Регион и вариант', 'Средняя прибыль (млн руб)', '2.5% квантиль', '97.5% квантиль', 'Риск убытков (%)']\n",
        "result.sort_values(by='Средняя прибыль (млн руб)', ascending=False)"
      ]
    },
    {
      "cell_type": "markdown",
      "metadata": {
        "id": "nAIK7CHyPNfK"
      },
      "source": [
        "Вывод:\n",
        "- Регион 2 обладает самой большой потенциальной прибылью от 448 млн (вариант расчета 2) до 515 млн рублей (вариант расчета 1) при разработке 200 скважин и бюджете в 10 млрд руь на разработку (себестоимость 1 скважина = 50 млр рублей)\n",
        "- Риск потенциальных убытков лежит в диапазоне от 1% до 1.4%\n",
        "- Доверительный интервал прибыли по Региону 2 составил  от 68 млн до 931 млн рублей (вариант 1) или от 38 млн до 823 млн руб (вариант 2)\n",
        "- в Регионе 2 интересное распределение сырья по скважинам - есть много пустых (16% из всех скажин) и столько же скважин \"золотых жил\". С помощью модели машинного обучения мы определяем скажины с наибольшим запасом и получаем максимальную потенциальную прибыль именно в Регионе 2\n",
        "    "
      ]
    }
  ],
  "metadata": {
    "ExecuteTimeLog": [
      {
        "duration": 430,
        "start_time": "2023-04-23T06:32:48.177Z"
      },
      {
        "duration": 1503,
        "start_time": "2023-04-23T06:33:54.084Z"
      },
      {
        "duration": 17,
        "start_time": "2023-04-23T06:34:06.615Z"
      },
      {
        "duration": 20,
        "start_time": "2023-04-23T06:36:05.992Z"
      },
      {
        "duration": 39,
        "start_time": "2023-04-23T06:36:28.285Z"
      },
      {
        "duration": 89,
        "start_time": "2023-04-23T06:36:59.183Z"
      },
      {
        "duration": 13,
        "start_time": "2023-04-23T06:42:39.504Z"
      },
      {
        "duration": 10,
        "start_time": "2023-04-23T06:43:02.823Z"
      },
      {
        "duration": 89,
        "start_time": "2023-04-23T06:43:21.007Z"
      },
      {
        "duration": 84,
        "start_time": "2023-04-23T06:43:30.086Z"
      },
      {
        "duration": 19,
        "start_time": "2023-04-23T06:43:45.064Z"
      },
      {
        "duration": 9,
        "start_time": "2023-04-23T06:44:05.458Z"
      },
      {
        "duration": 95,
        "start_time": "2023-04-23T06:44:19.868Z"
      },
      {
        "duration": 3,
        "start_time": "2023-04-23T06:45:15.521Z"
      },
      {
        "duration": 753,
        "start_time": "2023-04-23T07:09:35.123Z"
      },
      {
        "duration": 4,
        "start_time": "2023-04-23T07:16:36.885Z"
      },
      {
        "duration": 2,
        "start_time": "2023-04-23T07:18:53.895Z"
      },
      {
        "duration": 91,
        "start_time": "2023-04-23T07:20:32.282Z"
      },
      {
        "duration": 36,
        "start_time": "2023-04-23T07:20:38.611Z"
      },
      {
        "duration": 1108,
        "start_time": "2023-04-24T07:17:42.441Z"
      },
      {
        "duration": 714,
        "start_time": "2023-04-24T07:17:43.552Z"
      },
      {
        "duration": 14,
        "start_time": "2023-04-24T07:17:44.268Z"
      },
      {
        "duration": 19,
        "start_time": "2023-04-24T07:17:44.284Z"
      },
      {
        "duration": 83,
        "start_time": "2023-04-24T07:17:44.305Z"
      },
      {
        "duration": 13,
        "start_time": "2023-04-24T07:17:44.389Z"
      },
      {
        "duration": 17,
        "start_time": "2023-04-24T07:17:44.403Z"
      },
      {
        "duration": 99,
        "start_time": "2023-04-24T07:17:44.422Z"
      },
      {
        "duration": 12,
        "start_time": "2023-04-24T07:17:44.522Z"
      },
      {
        "duration": 24,
        "start_time": "2023-04-24T07:17:44.536Z"
      },
      {
        "duration": 121,
        "start_time": "2023-04-24T07:17:44.564Z"
      },
      {
        "duration": 5,
        "start_time": "2023-04-24T07:17:44.687Z"
      },
      {
        "duration": 125,
        "start_time": "2023-04-24T07:17:44.694Z"
      },
      {
        "duration": 10,
        "start_time": "2023-04-24T07:27:08.608Z"
      },
      {
        "duration": 12,
        "start_time": "2023-04-24T07:27:53.890Z"
      },
      {
        "duration": 4,
        "start_time": "2023-04-24T07:28:43.504Z"
      },
      {
        "duration": 57,
        "start_time": "2023-04-24T07:28:47.468Z"
      },
      {
        "duration": 11,
        "start_time": "2023-04-24T07:31:31.530Z"
      },
      {
        "duration": 12,
        "start_time": "2023-04-24T07:31:49.688Z"
      },
      {
        "duration": 14,
        "start_time": "2023-04-24T07:32:02.859Z"
      },
      {
        "duration": 38,
        "start_time": "2023-04-24T07:32:08.212Z"
      },
      {
        "duration": 3,
        "start_time": "2023-04-24T07:32:13.726Z"
      },
      {
        "duration": 40,
        "start_time": "2023-04-24T07:32:17.879Z"
      },
      {
        "duration": 3,
        "start_time": "2023-04-24T07:45:09.097Z"
      },
      {
        "duration": 30,
        "start_time": "2023-04-24T07:46:16.713Z"
      },
      {
        "duration": 8,
        "start_time": "2023-04-24T07:46:47.479Z"
      },
      {
        "duration": 3,
        "start_time": "2023-04-24T07:47:15.053Z"
      },
      {
        "duration": 553,
        "start_time": "2023-04-24T07:47:16.453Z"
      },
      {
        "duration": 133,
        "start_time": "2023-04-24T07:47:23.796Z"
      },
      {
        "duration": 4,
        "start_time": "2023-04-24T07:50:22.799Z"
      },
      {
        "duration": 2,
        "start_time": "2023-04-24T07:51:04.680Z"
      },
      {
        "duration": 5,
        "start_time": "2023-04-24T07:52:00.660Z"
      },
      {
        "duration": 148,
        "start_time": "2023-04-24T07:53:19.935Z"
      },
      {
        "duration": 131,
        "start_time": "2023-04-24T07:53:28.268Z"
      },
      {
        "duration": 3,
        "start_time": "2023-04-24T07:59:42.283Z"
      },
      {
        "duration": 155,
        "start_time": "2023-04-24T08:01:07.041Z"
      },
      {
        "duration": 246,
        "start_time": "2023-04-24T08:01:29.554Z"
      },
      {
        "duration": 147,
        "start_time": "2023-04-24T08:01:36.695Z"
      },
      {
        "duration": 162,
        "start_time": "2023-04-24T08:01:45.808Z"
      },
      {
        "duration": 143,
        "start_time": "2023-04-24T08:01:58.061Z"
      },
      {
        "duration": 170,
        "start_time": "2023-04-24T08:02:00.651Z"
      },
      {
        "duration": 306,
        "start_time": "2023-04-24T08:04:51.834Z"
      },
      {
        "duration": 235,
        "start_time": "2023-04-24T08:04:59.158Z"
      },
      {
        "duration": 161,
        "start_time": "2023-04-24T08:05:16.945Z"
      },
      {
        "duration": 168,
        "start_time": "2023-04-24T08:05:21.532Z"
      },
      {
        "duration": 234,
        "start_time": "2023-04-24T08:05:34.129Z"
      },
      {
        "duration": 187,
        "start_time": "2023-04-24T08:05:45.717Z"
      },
      {
        "duration": 178,
        "start_time": "2023-04-24T08:07:55.053Z"
      },
      {
        "duration": 175,
        "start_time": "2023-04-24T08:08:21.131Z"
      },
      {
        "duration": 4,
        "start_time": "2023-04-24T08:09:53.403Z"
      },
      {
        "duration": 65,
        "start_time": "2023-04-24T08:10:51.448Z"
      },
      {
        "duration": 4,
        "start_time": "2023-04-24T08:10:55.013Z"
      },
      {
        "duration": 4,
        "start_time": "2023-04-24T08:11:13.464Z"
      },
      {
        "duration": 3,
        "start_time": "2023-04-24T08:14:11.891Z"
      },
      {
        "duration": 4,
        "start_time": "2023-04-24T08:14:13.006Z"
      },
      {
        "duration": 169,
        "start_time": "2023-04-24T08:17:11.272Z"
      },
      {
        "duration": 174,
        "start_time": "2023-04-24T08:18:31.775Z"
      },
      {
        "duration": 172,
        "start_time": "2023-04-24T08:19:11.504Z"
      },
      {
        "duration": 4,
        "start_time": "2023-04-24T08:19:48.328Z"
      },
      {
        "duration": 4,
        "start_time": "2023-04-24T08:24:40.731Z"
      },
      {
        "duration": 29,
        "start_time": "2023-04-24T08:28:56.050Z"
      },
      {
        "duration": 185,
        "start_time": "2023-04-24T08:29:28.138Z"
      },
      {
        "duration": 4,
        "start_time": "2023-04-24T08:30:03.250Z"
      },
      {
        "duration": 3,
        "start_time": "2023-04-24T08:31:50.032Z"
      },
      {
        "duration": 3,
        "start_time": "2023-04-24T08:32:28.384Z"
      },
      {
        "duration": 9,
        "start_time": "2023-04-24T08:32:33.761Z"
      },
      {
        "duration": 9,
        "start_time": "2023-04-24T08:33:30.249Z"
      },
      {
        "duration": 9,
        "start_time": "2023-04-24T08:33:39.583Z"
      },
      {
        "duration": 3,
        "start_time": "2023-04-24T08:45:41.610Z"
      },
      {
        "duration": 4,
        "start_time": "2023-04-24T08:45:50.926Z"
      },
      {
        "duration": 3,
        "start_time": "2023-04-24T08:49:16.196Z"
      },
      {
        "duration": 3,
        "start_time": "2023-04-24T08:49:48.559Z"
      },
      {
        "duration": 5,
        "start_time": "2023-04-24T08:51:12.504Z"
      },
      {
        "duration": 1247,
        "start_time": "2023-04-24T09:28:08.500Z"
      },
      {
        "duration": 350,
        "start_time": "2023-04-24T09:28:09.748Z"
      },
      {
        "duration": 13,
        "start_time": "2023-04-24T09:28:10.100Z"
      },
      {
        "duration": 21,
        "start_time": "2023-04-24T09:28:10.115Z"
      },
      {
        "duration": 74,
        "start_time": "2023-04-24T09:28:10.139Z"
      },
      {
        "duration": 25,
        "start_time": "2023-04-24T09:28:10.215Z"
      },
      {
        "duration": 9,
        "start_time": "2023-04-24T09:28:10.241Z"
      },
      {
        "duration": 86,
        "start_time": "2023-04-24T09:28:10.251Z"
      },
      {
        "duration": 13,
        "start_time": "2023-04-24T09:28:10.339Z"
      },
      {
        "duration": 8,
        "start_time": "2023-04-24T09:28:10.354Z"
      },
      {
        "duration": 103,
        "start_time": "2023-04-24T09:28:10.364Z"
      },
      {
        "duration": 4,
        "start_time": "2023-04-24T09:28:10.469Z"
      },
      {
        "duration": 18,
        "start_time": "2023-04-24T09:28:10.475Z"
      },
      {
        "duration": 18,
        "start_time": "2023-04-24T09:28:10.496Z"
      },
      {
        "duration": 20,
        "start_time": "2023-04-24T09:28:10.515Z"
      },
      {
        "duration": 43,
        "start_time": "2023-04-24T09:28:10.536Z"
      },
      {
        "duration": 54,
        "start_time": "2023-04-24T09:28:10.581Z"
      },
      {
        "duration": 286,
        "start_time": "2023-04-24T09:28:10.640Z"
      },
      {
        "duration": 8,
        "start_time": "2023-04-24T09:28:10.928Z"
      },
      {
        "duration": 13,
        "start_time": "2023-04-24T09:28:10.937Z"
      },
      {
        "duration": 9,
        "start_time": "2023-04-24T09:28:10.952Z"
      },
      {
        "duration": 34,
        "start_time": "2023-04-24T09:28:10.962Z"
      },
      {
        "duration": 314,
        "start_time": "2023-04-24T09:28:10.998Z"
      },
      {
        "duration": 4,
        "start_time": "2023-04-24T09:28:11.314Z"
      },
      {
        "duration": 17,
        "start_time": "2023-04-24T09:28:11.319Z"
      },
      {
        "duration": 37,
        "start_time": "2023-04-24T09:28:11.338Z"
      },
      {
        "duration": 312,
        "start_time": "2023-04-24T09:28:11.379Z"
      },
      {
        "duration": 4,
        "start_time": "2023-04-24T09:28:11.693Z"
      },
      {
        "duration": 6,
        "start_time": "2023-04-24T09:28:11.698Z"
      },
      {
        "duration": 17,
        "start_time": "2023-04-24T09:28:11.705Z"
      },
      {
        "duration": 15,
        "start_time": "2023-04-24T09:28:11.724Z"
      },
      {
        "duration": 17,
        "start_time": "2023-04-24T09:28:11.740Z"
      },
      {
        "duration": 4,
        "start_time": "2023-04-24T09:36:11.647Z"
      },
      {
        "duration": 2,
        "start_time": "2023-04-24T09:37:28.300Z"
      },
      {
        "duration": 3,
        "start_time": "2023-04-24T09:37:33.668Z"
      },
      {
        "duration": 3,
        "start_time": "2023-04-24T09:38:04.247Z"
      },
      {
        "duration": 5,
        "start_time": "2023-04-24T09:38:25.519Z"
      },
      {
        "duration": 3,
        "start_time": "2023-04-24T09:38:37.970Z"
      },
      {
        "duration": 122,
        "start_time": "2023-04-24T09:39:44.992Z"
      },
      {
        "duration": 13,
        "start_time": "2023-04-24T09:40:32.413Z"
      },
      {
        "duration": 3,
        "start_time": "2023-04-24T09:43:13.859Z"
      },
      {
        "duration": 26,
        "start_time": "2023-04-24T09:43:14.546Z"
      },
      {
        "duration": 3,
        "start_time": "2023-04-24T09:43:28.934Z"
      },
      {
        "duration": 22,
        "start_time": "2023-04-24T09:43:30.193Z"
      },
      {
        "duration": 3,
        "start_time": "2023-04-24T09:43:58.595Z"
      },
      {
        "duration": 20,
        "start_time": "2023-04-24T09:43:59.647Z"
      },
      {
        "duration": 9,
        "start_time": "2023-04-24T10:04:35.965Z"
      },
      {
        "duration": 9,
        "start_time": "2023-04-24T10:04:50.813Z"
      },
      {
        "duration": 13,
        "start_time": "2023-04-24T10:05:14.279Z"
      },
      {
        "duration": 8,
        "start_time": "2023-04-24T10:05:29.379Z"
      },
      {
        "duration": 19,
        "start_time": "2023-04-24T10:05:30.122Z"
      },
      {
        "duration": 5,
        "start_time": "2023-04-24T10:05:50.843Z"
      },
      {
        "duration": 3,
        "start_time": "2023-04-24T10:06:32.528Z"
      },
      {
        "duration": 4,
        "start_time": "2023-04-24T10:06:43.406Z"
      },
      {
        "duration": 4,
        "start_time": "2023-04-24T10:06:57.004Z"
      },
      {
        "duration": 9,
        "start_time": "2023-04-24T10:07:15.596Z"
      },
      {
        "duration": 5,
        "start_time": "2023-04-24T10:07:18.269Z"
      },
      {
        "duration": 4,
        "start_time": "2023-04-24T10:07:39.175Z"
      },
      {
        "duration": 81,
        "start_time": "2023-04-24T10:08:00.603Z"
      },
      {
        "duration": 4,
        "start_time": "2023-04-24T10:08:15.581Z"
      },
      {
        "duration": 47,
        "start_time": "2023-04-24T10:08:19.530Z"
      },
      {
        "duration": 6,
        "start_time": "2023-04-24T10:08:28.436Z"
      },
      {
        "duration": 6,
        "start_time": "2023-04-24T10:09:43.323Z"
      },
      {
        "duration": 6,
        "start_time": "2023-04-24T10:09:59.104Z"
      },
      {
        "duration": 41,
        "start_time": "2023-04-24T10:13:26.897Z"
      },
      {
        "duration": 4,
        "start_time": "2023-04-24T10:13:39.665Z"
      },
      {
        "duration": 3,
        "start_time": "2023-04-24T10:19:43.003Z"
      },
      {
        "duration": 1677,
        "start_time": "2023-04-25T06:54:47.688Z"
      },
      {
        "duration": 734,
        "start_time": "2023-04-25T06:54:49.367Z"
      },
      {
        "duration": 20,
        "start_time": "2023-04-25T06:54:50.103Z"
      },
      {
        "duration": 31,
        "start_time": "2023-04-25T06:54:50.126Z"
      },
      {
        "duration": 164,
        "start_time": "2023-04-25T06:54:50.160Z"
      },
      {
        "duration": 27,
        "start_time": "2023-04-25T06:54:50.325Z"
      },
      {
        "duration": 29,
        "start_time": "2023-04-25T06:54:50.355Z"
      },
      {
        "duration": 157,
        "start_time": "2023-04-25T06:54:50.386Z"
      },
      {
        "duration": 22,
        "start_time": "2023-04-25T06:54:50.545Z"
      },
      {
        "duration": 40,
        "start_time": "2023-04-25T06:54:50.569Z"
      },
      {
        "duration": 170,
        "start_time": "2023-04-25T06:54:50.611Z"
      },
      {
        "duration": 7,
        "start_time": "2023-04-25T06:54:50.783Z"
      },
      {
        "duration": 35,
        "start_time": "2023-04-25T06:54:50.792Z"
      },
      {
        "duration": 25,
        "start_time": "2023-04-25T06:54:50.830Z"
      },
      {
        "duration": 36,
        "start_time": "2023-04-25T06:54:50.857Z"
      },
      {
        "duration": 72,
        "start_time": "2023-04-25T06:54:50.895Z"
      },
      {
        "duration": 5,
        "start_time": "2023-04-25T06:54:51.043Z"
      },
      {
        "duration": 354,
        "start_time": "2023-04-25T06:54:51.053Z"
      },
      {
        "duration": 6,
        "start_time": "2023-04-25T06:54:51.409Z"
      },
      {
        "duration": 12,
        "start_time": "2023-04-25T06:54:51.417Z"
      },
      {
        "duration": 19,
        "start_time": "2023-04-25T06:54:51.443Z"
      },
      {
        "duration": 85,
        "start_time": "2023-04-25T06:54:51.464Z"
      },
      {
        "duration": 412,
        "start_time": "2023-04-25T06:54:51.553Z"
      },
      {
        "duration": 5,
        "start_time": "2023-04-25T06:54:51.967Z"
      },
      {
        "duration": 22,
        "start_time": "2023-04-25T06:54:51.974Z"
      },
      {
        "duration": 146,
        "start_time": "2023-04-25T06:54:51.998Z"
      },
      {
        "duration": 329,
        "start_time": "2023-04-25T06:54:52.147Z"
      },
      {
        "duration": 5,
        "start_time": "2023-04-25T06:54:52.479Z"
      },
      {
        "duration": 27,
        "start_time": "2023-04-25T06:54:52.487Z"
      },
      {
        "duration": 19,
        "start_time": "2023-04-25T06:54:52.516Z"
      },
      {
        "duration": 47,
        "start_time": "2023-04-25T06:54:52.538Z"
      },
      {
        "duration": 24,
        "start_time": "2023-04-25T06:54:52.587Z"
      },
      {
        "duration": 14,
        "start_time": "2023-04-25T06:54:52.613Z"
      },
      {
        "duration": 35,
        "start_time": "2023-04-25T06:54:52.629Z"
      },
      {
        "duration": 4,
        "start_time": "2023-04-25T07:30:02.212Z"
      },
      {
        "duration": 177,
        "start_time": "2023-04-25T07:34:27.931Z"
      },
      {
        "duration": 27,
        "start_time": "2023-04-25T07:35:14.699Z"
      },
      {
        "duration": 28,
        "start_time": "2023-04-25T07:35:45.039Z"
      },
      {
        "duration": 24,
        "start_time": "2023-04-25T07:36:14.734Z"
      },
      {
        "duration": 18,
        "start_time": "2023-04-25T07:37:20.347Z"
      },
      {
        "duration": 12,
        "start_time": "2023-04-25T07:37:42.560Z"
      },
      {
        "duration": 20,
        "start_time": "2023-04-25T07:38:08.480Z"
      },
      {
        "duration": 27,
        "start_time": "2023-04-25T07:38:15.544Z"
      },
      {
        "duration": 17,
        "start_time": "2023-04-25T07:38:22.424Z"
      },
      {
        "duration": 12,
        "start_time": "2023-04-25T07:39:44.880Z"
      },
      {
        "duration": 12,
        "start_time": "2023-04-25T07:40:20.834Z"
      },
      {
        "duration": 30,
        "start_time": "2023-04-25T07:40:28.779Z"
      },
      {
        "duration": 29,
        "start_time": "2023-04-25T07:41:38.388Z"
      },
      {
        "duration": 11,
        "start_time": "2023-04-25T07:42:29.853Z"
      },
      {
        "duration": 4,
        "start_time": "2023-04-25T07:42:48.198Z"
      },
      {
        "duration": 29,
        "start_time": "2023-04-25T07:43:04.084Z"
      },
      {
        "duration": 22,
        "start_time": "2023-04-25T07:43:34.998Z"
      },
      {
        "duration": 113,
        "start_time": "2023-04-25T07:45:58.117Z"
      },
      {
        "duration": 3925,
        "start_time": "2023-04-25T07:46:02.668Z"
      },
      {
        "duration": 12,
        "start_time": "2023-04-25T07:46:33.106Z"
      },
      {
        "duration": 180,
        "start_time": "2023-04-25T07:46:43.385Z"
      },
      {
        "duration": 12,
        "start_time": "2023-04-25T07:53:47.009Z"
      },
      {
        "duration": 14,
        "start_time": "2023-04-25T08:21:55.394Z"
      },
      {
        "duration": 12,
        "start_time": "2023-04-25T08:21:58.100Z"
      },
      {
        "duration": 9,
        "start_time": "2023-04-25T08:21:58.864Z"
      },
      {
        "duration": 3837,
        "start_time": "2023-04-25T08:22:05.619Z"
      },
      {
        "duration": 187,
        "start_time": "2023-04-25T08:22:09.459Z"
      },
      {
        "duration": 10,
        "start_time": "2023-04-25T08:23:26.474Z"
      },
      {
        "duration": 5,
        "start_time": "2023-04-25T08:23:48.375Z"
      },
      {
        "duration": 1399,
        "start_time": "2023-04-25T08:25:15.678Z"
      },
      {
        "duration": 268,
        "start_time": "2023-04-25T08:25:17.079Z"
      },
      {
        "duration": 1441,
        "start_time": "2023-04-25T08:25:31.414Z"
      },
      {
        "duration": 192,
        "start_time": "2023-04-25T08:25:32.858Z"
      },
      {
        "duration": 8,
        "start_time": "2023-04-25T08:27:51.688Z"
      },
      {
        "duration": 24,
        "start_time": "2023-04-25T08:29:59.952Z"
      },
      {
        "duration": 20,
        "start_time": "2023-04-25T08:30:16.307Z"
      },
      {
        "duration": 9,
        "start_time": "2023-04-25T08:30:19.952Z"
      },
      {
        "duration": 12,
        "start_time": "2023-04-25T08:30:27.022Z"
      },
      {
        "duration": 5,
        "start_time": "2023-04-25T08:30:43.191Z"
      },
      {
        "duration": 6,
        "start_time": "2023-04-25T08:31:07.226Z"
      },
      {
        "duration": 1403,
        "start_time": "2023-04-25T08:31:07.999Z"
      },
      {
        "duration": 173,
        "start_time": "2023-04-25T08:31:09.404Z"
      },
      {
        "duration": 9,
        "start_time": "2023-04-25T08:31:16.517Z"
      },
      {
        "duration": 6,
        "start_time": "2023-04-25T08:33:25.439Z"
      },
      {
        "duration": 2329,
        "start_time": "2023-04-25T08:35:24.577Z"
      },
      {
        "duration": 202,
        "start_time": "2023-04-25T08:35:54.076Z"
      },
      {
        "duration": 15,
        "start_time": "2023-04-25T08:36:04.398Z"
      },
      {
        "duration": 12,
        "start_time": "2023-04-25T08:36:08.071Z"
      },
      {
        "duration": 5,
        "start_time": "2023-04-25T08:36:11.154Z"
      },
      {
        "duration": 30,
        "start_time": "2023-04-25T08:36:21.660Z"
      },
      {
        "duration": 112,
        "start_time": "2023-04-25T08:37:03.629Z"
      },
      {
        "duration": 37,
        "start_time": "2023-04-25T08:37:07.606Z"
      },
      {
        "duration": 8,
        "start_time": "2023-04-25T08:37:37.412Z"
      },
      {
        "duration": 23,
        "start_time": "2023-04-25T08:39:09.426Z"
      },
      {
        "duration": 8,
        "start_time": "2023-04-25T08:39:16.177Z"
      },
      {
        "duration": 9,
        "start_time": "2023-04-25T08:40:00.112Z"
      },
      {
        "duration": 9,
        "start_time": "2023-04-25T08:40:11.797Z"
      },
      {
        "duration": 27,
        "start_time": "2023-04-25T08:41:06.907Z"
      },
      {
        "duration": 1627,
        "start_time": "2023-04-25T08:41:24.212Z"
      },
      {
        "duration": 187,
        "start_time": "2023-04-25T08:41:27.496Z"
      },
      {
        "duration": 11,
        "start_time": "2023-04-25T08:41:45.940Z"
      },
      {
        "duration": 12,
        "start_time": "2023-04-25T08:45:51.588Z"
      },
      {
        "duration": 171,
        "start_time": "2023-04-25T08:46:18.783Z"
      },
      {
        "duration": 5,
        "start_time": "2023-04-25T08:46:23.412Z"
      },
      {
        "duration": 14,
        "start_time": "2023-04-25T08:46:48.607Z"
      },
      {
        "duration": 10,
        "start_time": "2023-04-25T08:46:51.113Z"
      },
      {
        "duration": 13,
        "start_time": "2023-04-25T08:46:54.383Z"
      },
      {
        "duration": 13,
        "start_time": "2023-04-25T08:46:59.688Z"
      },
      {
        "duration": 4,
        "start_time": "2023-04-25T08:47:08.088Z"
      },
      {
        "duration": 5,
        "start_time": "2023-04-25T08:47:41.730Z"
      },
      {
        "duration": 4,
        "start_time": "2023-04-25T08:47:56.700Z"
      },
      {
        "duration": 5,
        "start_time": "2023-04-25T08:48:02.721Z"
      },
      {
        "duration": 15,
        "start_time": "2023-04-25T08:50:47.237Z"
      },
      {
        "duration": 55,
        "start_time": "2023-04-25T08:52:15.603Z"
      },
      {
        "duration": 96,
        "start_time": "2023-04-25T08:52:30.840Z"
      },
      {
        "duration": 7,
        "start_time": "2023-04-25T08:52:42.811Z"
      },
      {
        "duration": 9,
        "start_time": "2023-04-25T08:52:52.479Z"
      },
      {
        "duration": 9,
        "start_time": "2023-04-25T08:54:02.408Z"
      },
      {
        "duration": 10,
        "start_time": "2023-04-25T08:54:31.992Z"
      },
      {
        "duration": 12,
        "start_time": "2023-04-25T08:55:32.908Z"
      },
      {
        "duration": 21,
        "start_time": "2023-04-25T08:55:36.660Z"
      },
      {
        "duration": 1544,
        "start_time": "2023-04-25T08:55:37.584Z"
      },
      {
        "duration": 186,
        "start_time": "2023-04-25T08:55:39.131Z"
      },
      {
        "duration": 10,
        "start_time": "2023-04-25T08:55:41.987Z"
      },
      {
        "duration": 17,
        "start_time": "2023-04-25T08:55:56.259Z"
      },
      {
        "duration": 3882,
        "start_time": "2023-04-25T08:55:57.059Z"
      },
      {
        "duration": 219,
        "start_time": "2023-04-25T08:56:00.948Z"
      },
      {
        "duration": 11,
        "start_time": "2023-04-25T08:56:01.170Z"
      },
      {
        "duration": 1719,
        "start_time": "2023-04-25T08:56:32.523Z"
      },
      {
        "duration": 167,
        "start_time": "2023-04-25T08:56:34.245Z"
      },
      {
        "duration": 8,
        "start_time": "2023-04-25T08:56:34.427Z"
      },
      {
        "duration": 6,
        "start_time": "2023-04-25T08:56:47.556Z"
      },
      {
        "duration": 2116,
        "start_time": "2023-04-25T08:56:48.087Z"
      },
      {
        "duration": 173,
        "start_time": "2023-04-25T08:56:50.205Z"
      },
      {
        "duration": 13,
        "start_time": "2023-04-25T08:57:11.356Z"
      },
      {
        "duration": 168,
        "start_time": "2023-04-25T08:57:38.926Z"
      },
      {
        "duration": 8,
        "start_time": "2023-04-25T08:57:41.723Z"
      },
      {
        "duration": 3,
        "start_time": "2023-04-25T09:05:11.611Z"
      },
      {
        "duration": 4,
        "start_time": "2023-04-25T09:06:58.296Z"
      },
      {
        "duration": 9,
        "start_time": "2023-04-25T09:08:25.402Z"
      },
      {
        "duration": 7,
        "start_time": "2023-04-25T09:09:09.021Z"
      },
      {
        "duration": 2407,
        "start_time": "2023-04-25T09:11:20.288Z"
      },
      {
        "duration": 161,
        "start_time": "2023-04-25T09:11:38.831Z"
      },
      {
        "duration": 14,
        "start_time": "2023-04-25T09:11:52.639Z"
      },
      {
        "duration": 14,
        "start_time": "2023-04-25T09:12:08.035Z"
      },
      {
        "duration": 9,
        "start_time": "2023-04-25T09:12:30.723Z"
      },
      {
        "duration": 1648,
        "start_time": "2023-04-25T09:13:39.505Z"
      },
      {
        "duration": 186,
        "start_time": "2023-04-25T09:14:06.419Z"
      },
      {
        "duration": 11,
        "start_time": "2023-04-25T09:14:39.507Z"
      },
      {
        "duration": 8,
        "start_time": "2023-04-25T09:15:24.783Z"
      },
      {
        "duration": 2351,
        "start_time": "2023-04-25T09:16:36.897Z"
      },
      {
        "duration": 11,
        "start_time": "2023-04-25T09:16:56.190Z"
      },
      {
        "duration": 9,
        "start_time": "2023-04-25T09:17:17.866Z"
      },
      {
        "duration": 1896,
        "start_time": "2023-04-25T09:18:38.429Z"
      },
      {
        "duration": 10,
        "start_time": "2023-04-25T09:19:19.705Z"
      },
      {
        "duration": 7,
        "start_time": "2023-04-25T09:19:48.122Z"
      },
      {
        "duration": 4,
        "start_time": "2023-04-25T09:20:18.105Z"
      },
      {
        "duration": 13,
        "start_time": "2023-04-25T09:20:22.521Z"
      },
      {
        "duration": 16,
        "start_time": "2023-04-25T09:21:48.415Z"
      },
      {
        "duration": 61,
        "start_time": "2023-04-25T09:22:51.835Z"
      },
      {
        "duration": 128,
        "start_time": "2023-04-25T09:22:59.999Z"
      },
      {
        "duration": 31,
        "start_time": "2023-04-25T09:23:07.982Z"
      },
      {
        "duration": 20,
        "start_time": "2023-04-25T09:23:44.609Z"
      },
      {
        "duration": 18,
        "start_time": "2023-04-25T09:24:22.017Z"
      },
      {
        "duration": 1554,
        "start_time": "2023-04-25T09:24:46.507Z"
      },
      {
        "duration": 455,
        "start_time": "2023-04-25T09:24:48.064Z"
      },
      {
        "duration": 27,
        "start_time": "2023-04-25T09:24:48.521Z"
      },
      {
        "duration": 18,
        "start_time": "2023-04-25T09:24:48.550Z"
      },
      {
        "duration": 181,
        "start_time": "2023-04-25T09:24:48.572Z"
      },
      {
        "duration": 18,
        "start_time": "2023-04-25T09:24:48.756Z"
      },
      {
        "duration": 14,
        "start_time": "2023-04-25T09:24:48.777Z"
      },
      {
        "duration": 173,
        "start_time": "2023-04-25T09:24:48.793Z"
      },
      {
        "duration": 23,
        "start_time": "2023-04-25T09:24:48.969Z"
      },
      {
        "duration": 16,
        "start_time": "2023-04-25T09:24:48.995Z"
      },
      {
        "duration": 147,
        "start_time": "2023-04-25T09:24:49.041Z"
      },
      {
        "duration": 7,
        "start_time": "2023-04-25T09:24:49.190Z"
      },
      {
        "duration": 39,
        "start_time": "2023-04-25T09:24:49.200Z"
      },
      {
        "duration": 17,
        "start_time": "2023-04-25T09:24:49.243Z"
      },
      {
        "duration": 28,
        "start_time": "2023-04-25T09:24:49.262Z"
      },
      {
        "duration": 70,
        "start_time": "2023-04-25T09:24:49.292Z"
      },
      {
        "duration": 10,
        "start_time": "2023-04-25T09:24:49.441Z"
      },
      {
        "duration": 364,
        "start_time": "2023-04-25T09:24:49.454Z"
      },
      {
        "duration": 5,
        "start_time": "2023-04-25T09:24:49.820Z"
      },
      {
        "duration": 30,
        "start_time": "2023-04-25T09:24:49.826Z"
      },
      {
        "duration": 35,
        "start_time": "2023-04-25T09:24:49.859Z"
      },
      {
        "duration": 65,
        "start_time": "2023-04-25T09:24:49.897Z"
      },
      {
        "duration": 404,
        "start_time": "2023-04-25T09:24:49.965Z"
      },
      {
        "duration": 5,
        "start_time": "2023-04-25T09:24:50.371Z"
      },
      {
        "duration": 21,
        "start_time": "2023-04-25T09:24:50.380Z"
      },
      {
        "duration": 65,
        "start_time": "2023-04-25T09:24:50.403Z"
      },
      {
        "duration": 406,
        "start_time": "2023-04-25T09:24:50.471Z"
      },
      {
        "duration": 5,
        "start_time": "2023-04-25T09:24:50.880Z"
      },
      {
        "duration": 27,
        "start_time": "2023-04-25T09:24:50.887Z"
      },
      {
        "duration": 54,
        "start_time": "2023-04-25T09:24:50.916Z"
      },
      {
        "duration": 33,
        "start_time": "2023-04-25T09:24:50.973Z"
      },
      {
        "duration": 28,
        "start_time": "2023-04-25T09:24:51.008Z"
      },
      {
        "duration": 78,
        "start_time": "2023-04-25T09:24:51.039Z"
      },
      {
        "duration": 75,
        "start_time": "2023-04-25T09:24:51.119Z"
      },
      {
        "duration": 29,
        "start_time": "2023-04-25T09:24:51.196Z"
      },
      {
        "duration": 2107,
        "start_time": "2023-04-25T09:24:51.227Z"
      },
      {
        "duration": 164,
        "start_time": "2023-04-25T09:24:53.336Z"
      },
      {
        "duration": 9,
        "start_time": "2023-04-25T09:24:53.502Z"
      },
      {
        "duration": 66,
        "start_time": "2023-04-25T09:24:53.513Z"
      },
      {
        "duration": 20,
        "start_time": "2023-04-25T09:24:53.582Z"
      },
      {
        "duration": 1651,
        "start_time": "2023-04-25T09:24:53.609Z"
      },
      {
        "duration": 261,
        "start_time": "2023-04-25T09:24:55.262Z"
      },
      {
        "duration": 17,
        "start_time": "2023-04-25T09:24:55.526Z"
      },
      {
        "duration": 24,
        "start_time": "2023-04-25T09:24:55.546Z"
      },
      {
        "duration": 2202,
        "start_time": "2023-04-25T09:24:55.572Z"
      },
      {
        "duration": 162,
        "start_time": "2023-04-25T09:24:57.776Z"
      },
      {
        "duration": 13,
        "start_time": "2023-04-25T09:24:57.942Z"
      },
      {
        "duration": 18,
        "start_time": "2023-04-25T09:24:57.958Z"
      },
      {
        "duration": 1680,
        "start_time": "2023-04-25T09:24:57.978Z"
      },
      {
        "duration": 162,
        "start_time": "2023-04-25T09:24:59.661Z"
      },
      {
        "duration": 17,
        "start_time": "2023-04-25T09:24:59.825Z"
      },
      {
        "duration": 38,
        "start_time": "2023-04-25T09:24:59.845Z"
      },
      {
        "duration": 2488,
        "start_time": "2023-04-25T09:24:59.886Z"
      },
      {
        "duration": 8,
        "start_time": "2023-04-25T09:25:02.377Z"
      },
      {
        "duration": 59,
        "start_time": "2023-04-25T09:25:02.387Z"
      },
      {
        "duration": 1956,
        "start_time": "2023-04-25T09:25:02.449Z"
      },
      {
        "duration": 9,
        "start_time": "2023-04-25T09:25:04.408Z"
      },
      {
        "duration": 51,
        "start_time": "2023-04-25T09:25:04.420Z"
      },
      {
        "duration": 40,
        "start_time": "2023-04-25T09:25:04.474Z"
      },
      {
        "duration": 16,
        "start_time": "2023-04-25T09:25:31.223Z"
      },
      {
        "duration": 15,
        "start_time": "2023-04-25T09:25:46.397Z"
      },
      {
        "duration": 3,
        "start_time": "2023-04-25T09:34:06.474Z"
      },
      {
        "duration": 1743,
        "start_time": "2023-04-25T09:35:33.408Z"
      },
      {
        "duration": 557,
        "start_time": "2023-04-25T09:35:35.154Z"
      },
      {
        "duration": 21,
        "start_time": "2023-04-25T09:35:35.713Z"
      },
      {
        "duration": 56,
        "start_time": "2023-04-25T09:35:35.736Z"
      },
      {
        "duration": 181,
        "start_time": "2023-04-25T09:35:35.795Z"
      },
      {
        "duration": 29,
        "start_time": "2023-04-25T09:35:35.978Z"
      },
      {
        "duration": 69,
        "start_time": "2023-04-25T09:35:36.009Z"
      },
      {
        "duration": 279,
        "start_time": "2023-04-25T09:35:36.080Z"
      },
      {
        "duration": 35,
        "start_time": "2023-04-25T09:35:36.364Z"
      },
      {
        "duration": 26,
        "start_time": "2023-04-25T09:35:36.402Z"
      },
      {
        "duration": 201,
        "start_time": "2023-04-25T09:35:36.431Z"
      },
      {
        "duration": 20,
        "start_time": "2023-04-25T09:35:36.634Z"
      },
      {
        "duration": 57,
        "start_time": "2023-04-25T09:35:36.658Z"
      },
      {
        "duration": 98,
        "start_time": "2023-04-25T09:35:36.721Z"
      },
      {
        "duration": 131,
        "start_time": "2023-04-25T09:35:36.821Z"
      },
      {
        "duration": 213,
        "start_time": "2023-04-25T09:35:36.961Z"
      },
      {
        "duration": 188,
        "start_time": "2023-04-25T09:35:37.241Z"
      },
      {
        "duration": 288,
        "start_time": "2023-04-25T09:35:37.431Z"
      },
      {
        "duration": 5,
        "start_time": "2023-04-25T09:35:37.721Z"
      },
      {
        "duration": 25,
        "start_time": "2023-04-25T09:35:37.744Z"
      },
      {
        "duration": 29,
        "start_time": "2023-04-25T09:35:37.774Z"
      },
      {
        "duration": 73,
        "start_time": "2023-04-25T09:35:37.808Z"
      },
      {
        "duration": 356,
        "start_time": "2023-04-25T09:35:37.944Z"
      },
      {
        "duration": 6,
        "start_time": "2023-04-25T09:35:38.302Z"
      },
      {
        "duration": 25,
        "start_time": "2023-04-25T09:35:38.311Z"
      },
      {
        "duration": 114,
        "start_time": "2023-04-25T09:35:38.340Z"
      },
      {
        "duration": 406,
        "start_time": "2023-04-25T09:35:38.459Z"
      },
      {
        "duration": 9,
        "start_time": "2023-04-25T09:35:38.867Z"
      },
      {
        "duration": 11,
        "start_time": "2023-04-25T09:35:38.879Z"
      },
      {
        "duration": 24,
        "start_time": "2023-04-25T09:35:38.893Z"
      },
      {
        "duration": 7,
        "start_time": "2023-04-25T09:35:38.919Z"
      },
      {
        "duration": 12,
        "start_time": "2023-04-25T09:35:38.944Z"
      },
      {
        "duration": 27,
        "start_time": "2023-04-25T09:35:38.958Z"
      },
      {
        "duration": 11,
        "start_time": "2023-04-25T09:35:38.987Z"
      },
      {
        "duration": 12,
        "start_time": "2023-04-25T09:35:39.000Z"
      },
      {
        "duration": 2223,
        "start_time": "2023-04-25T09:35:39.014Z"
      },
      {
        "duration": 180,
        "start_time": "2023-04-25T09:35:41.241Z"
      },
      {
        "duration": 29,
        "start_time": "2023-04-25T09:35:41.424Z"
      },
      {
        "duration": 21,
        "start_time": "2023-04-25T09:35:41.460Z"
      },
      {
        "duration": 27,
        "start_time": "2023-04-25T09:35:41.484Z"
      },
      {
        "duration": 1818,
        "start_time": "2023-04-25T09:35:41.516Z"
      },
      {
        "duration": 281,
        "start_time": "2023-04-25T09:35:43.336Z"
      },
      {
        "duration": 61,
        "start_time": "2023-04-25T09:35:43.619Z"
      },
      {
        "duration": 9,
        "start_time": "2023-04-25T09:35:43.683Z"
      },
      {
        "duration": 2340,
        "start_time": "2023-04-25T09:35:43.694Z"
      },
      {
        "duration": 205,
        "start_time": "2023-04-25T09:35:46.037Z"
      },
      {
        "duration": 15,
        "start_time": "2023-04-25T09:35:46.245Z"
      },
      {
        "duration": 44,
        "start_time": "2023-04-25T09:35:46.267Z"
      },
      {
        "duration": 1830,
        "start_time": "2023-04-25T09:35:46.314Z"
      },
      {
        "duration": 177,
        "start_time": "2023-04-25T09:35:48.146Z"
      },
      {
        "duration": 20,
        "start_time": "2023-04-25T09:35:48.326Z"
      },
      {
        "duration": 45,
        "start_time": "2023-04-25T09:35:48.349Z"
      },
      {
        "duration": 2379,
        "start_time": "2023-04-25T09:35:48.396Z"
      },
      {
        "duration": 9,
        "start_time": "2023-04-25T09:35:50.777Z"
      },
      {
        "duration": 17,
        "start_time": "2023-04-25T09:35:50.788Z"
      },
      {
        "duration": 1954,
        "start_time": "2023-04-25T09:35:50.807Z"
      },
      {
        "duration": 14,
        "start_time": "2023-04-25T09:35:52.763Z"
      },
      {
        "duration": 15,
        "start_time": "2023-04-25T09:35:52.779Z"
      },
      {
        "duration": 38,
        "start_time": "2023-04-25T09:35:52.796Z"
      }
    ],
    "kernelspec": {
      "display_name": "Python 3 (ipykernel)",
      "language": "python",
      "name": "python3"
    },
    "language_info": {
      "codemirror_mode": {
        "name": "ipython",
        "version": 3
      },
      "file_extension": ".py",
      "mimetype": "text/x-python",
      "name": "python",
      "nbconvert_exporter": "python",
      "pygments_lexer": "ipython3",
      "version": "3.9.5"
    },
    "toc": {
      "base_numbering": 1,
      "nav_menu": {},
      "number_sections": true,
      "sideBar": true,
      "skip_h1_title": true,
      "title_cell": "Table of Contents",
      "title_sidebar": "Contents",
      "toc_cell": false,
      "toc_position": {},
      "toc_section_display": true,
      "toc_window_display": false
    },
    "colab": {
      "provenance": []
    }
  },
  "nbformat": 4,
  "nbformat_minor": 0
}