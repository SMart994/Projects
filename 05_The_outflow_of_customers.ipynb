{
  "cells": [
    {
      "cell_type": "markdown",
      "metadata": {
        "id": "DS3XhsnSLAhM"
      },
      "source": [
        "# Отток клиентов"
      ]
    },
    {
      "cell_type": "markdown",
      "metadata": {
        "id": "hJLmYvacLAhM"
      },
      "source": [
        "Из «Бета-Банка» стали уходить клиенты. Каждый месяц. Немного, но заметно. Банковские маркетологи посчитали: сохранять текущих клиентов дешевле, чем привлекать новых.\n",
        "\n",
        "Нужно спрогнозировать, уйдёт клиент из банка в ближайшее время или нет. Вам предоставлены исторические данные о поведении клиентов и расторжении договоров с банком. \n",
        "\n",
        "Постройте модель с предельно большим значением *F1*-меры. Чтобы сдать проект успешно, нужно довести метрику до 0.59. Проверьте *F1*-меру на тестовой выборке самостоятельно.\n",
        "\n",
        "Дополнительно измеряйте *AUC-ROC*, сравнивайте её значение с *F1*-мерой.\n",
        "\n",
        "Источник данных: [https://www.kaggle.com/barelydedicated/bank-customer-churn-modeling](https://www.kaggle.com/barelydedicated/bank-customer-churn-modeling)"
      ]
    },
    {
      "cell_type": "markdown",
      "metadata": {
        "id": "gdW7ngZ8LAhM"
      },
      "source": [
        "## Подготовка данных"
      ]
    },
    {
      "cell_type": "markdown",
      "metadata": {
        "id": "mWdwF_acLAhM"
      },
      "source": [
        "### Ознакомление с данными"
      ]
    },
    {
      "cell_type": "code",
      "execution_count": null,
      "metadata": {
        "id": "AfYe-wWwLAhN",
        "outputId": "9f35f082-4421-4f16-fafa-c018977883b2"
      },
      "outputs": [
        {
          "name": "stdout",
          "output_type": "stream",
          "text": [
            "Requirement already satisfied: scikit-learn==1.1.3 in /opt/conda/lib/python3.9/site-packages (1.1.3)\r\n",
            "Requirement already satisfied: numpy>=1.17.3 in /opt/conda/lib/python3.9/site-packages (from scikit-learn==1.1.3) (1.21.1)\r\n",
            "Requirement already satisfied: joblib>=1.0.0 in /opt/conda/lib/python3.9/site-packages (from scikit-learn==1.1.3) (1.1.0)\r\n",
            "Requirement already satisfied: threadpoolctl>=2.0.0 in /opt/conda/lib/python3.9/site-packages (from scikit-learn==1.1.3) (3.1.0)\r\n",
            "Requirement already satisfied: scipy>=1.3.2 in /opt/conda/lib/python3.9/site-packages (from scikit-learn==1.1.3) (1.9.1)\r\n"
          ]
        }
      ],
      "source": [
        "!pip install scikit-learn==1.1.3"
      ]
    },
    {
      "cell_type": "code",
      "execution_count": null,
      "metadata": {
        "id": "60Q3GtEnLAhO"
      },
      "outputs": [],
      "source": [
        "import pandas as pd\n",
        "import matplotlib.pyplot as plt\n",
        "\n",
        "from tqdm import tqdm\n",
        "\n",
        "from sklearn import tree\n",
        "from sklearn.utils import shuffle\n",
        "from sklearn.preprocessing import StandardScaler, OneHotEncoder\n",
        "from sklearn.model_selection import train_test_split\n",
        "from sklearn.tree import DecisionTreeClassifier\n",
        "from sklearn.ensemble import RandomForestClassifier\n",
        "from sklearn.linear_model import LogisticRegression\n",
        "from sklearn.dummy import DummyClassifier\n",
        "\n",
        "from sklearn.metrics import (\n",
        "    accuracy_score, \n",
        "    confusion_matrix, \n",
        "    precision_score, \n",
        "    recall_score, \n",
        "    f1_score, \n",
        "    ConfusionMatrixDisplay, \n",
        "    roc_auc_score, \n",
        "    roc_curve,\n",
        "    auc\n",
        ")"
      ]
    },
    {
      "cell_type": "code",
      "execution_count": null,
      "metadata": {
        "scrolled": false,
        "id": "r4rmxMBrLAhO",
        "outputId": "9418f07f-93d5-4947-b66b-62f221a35842"
      },
      "outputs": [
        {
          "data": {
            "text/html": [
              "<div>\n",
              "<style scoped>\n",
              "    .dataframe tbody tr th:only-of-type {\n",
              "        vertical-align: middle;\n",
              "    }\n",
              "\n",
              "    .dataframe tbody tr th {\n",
              "        vertical-align: top;\n",
              "    }\n",
              "\n",
              "    .dataframe thead th {\n",
              "        text-align: right;\n",
              "    }\n",
              "</style>\n",
              "<table border=\"1\" class=\"dataframe\">\n",
              "  <thead>\n",
              "    <tr style=\"text-align: right;\">\n",
              "      <th></th>\n",
              "      <th>RowNumber</th>\n",
              "      <th>CustomerId</th>\n",
              "      <th>Surname</th>\n",
              "      <th>CreditScore</th>\n",
              "      <th>Geography</th>\n",
              "      <th>Gender</th>\n",
              "      <th>Age</th>\n",
              "      <th>Tenure</th>\n",
              "      <th>Balance</th>\n",
              "      <th>NumOfProducts</th>\n",
              "      <th>HasCrCard</th>\n",
              "      <th>IsActiveMember</th>\n",
              "      <th>EstimatedSalary</th>\n",
              "      <th>Exited</th>\n",
              "    </tr>\n",
              "  </thead>\n",
              "  <tbody>\n",
              "    <tr>\n",
              "      <th>0</th>\n",
              "      <td>1</td>\n",
              "      <td>15634602</td>\n",
              "      <td>Hargrave</td>\n",
              "      <td>619</td>\n",
              "      <td>France</td>\n",
              "      <td>Female</td>\n",
              "      <td>42</td>\n",
              "      <td>2.0</td>\n",
              "      <td>0.00</td>\n",
              "      <td>1</td>\n",
              "      <td>1</td>\n",
              "      <td>1</td>\n",
              "      <td>101348.88</td>\n",
              "      <td>1</td>\n",
              "    </tr>\n",
              "    <tr>\n",
              "      <th>1</th>\n",
              "      <td>2</td>\n",
              "      <td>15647311</td>\n",
              "      <td>Hill</td>\n",
              "      <td>608</td>\n",
              "      <td>Spain</td>\n",
              "      <td>Female</td>\n",
              "      <td>41</td>\n",
              "      <td>1.0</td>\n",
              "      <td>83807.86</td>\n",
              "      <td>1</td>\n",
              "      <td>0</td>\n",
              "      <td>1</td>\n",
              "      <td>112542.58</td>\n",
              "      <td>0</td>\n",
              "    </tr>\n",
              "    <tr>\n",
              "      <th>2</th>\n",
              "      <td>3</td>\n",
              "      <td>15619304</td>\n",
              "      <td>Onio</td>\n",
              "      <td>502</td>\n",
              "      <td>France</td>\n",
              "      <td>Female</td>\n",
              "      <td>42</td>\n",
              "      <td>8.0</td>\n",
              "      <td>159660.80</td>\n",
              "      <td>3</td>\n",
              "      <td>1</td>\n",
              "      <td>0</td>\n",
              "      <td>113931.57</td>\n",
              "      <td>1</td>\n",
              "    </tr>\n",
              "    <tr>\n",
              "      <th>3</th>\n",
              "      <td>4</td>\n",
              "      <td>15701354</td>\n",
              "      <td>Boni</td>\n",
              "      <td>699</td>\n",
              "      <td>France</td>\n",
              "      <td>Female</td>\n",
              "      <td>39</td>\n",
              "      <td>1.0</td>\n",
              "      <td>0.00</td>\n",
              "      <td>2</td>\n",
              "      <td>0</td>\n",
              "      <td>0</td>\n",
              "      <td>93826.63</td>\n",
              "      <td>0</td>\n",
              "    </tr>\n",
              "    <tr>\n",
              "      <th>4</th>\n",
              "      <td>5</td>\n",
              "      <td>15737888</td>\n",
              "      <td>Mitchell</td>\n",
              "      <td>850</td>\n",
              "      <td>Spain</td>\n",
              "      <td>Female</td>\n",
              "      <td>43</td>\n",
              "      <td>2.0</td>\n",
              "      <td>125510.82</td>\n",
              "      <td>1</td>\n",
              "      <td>1</td>\n",
              "      <td>1</td>\n",
              "      <td>79084.10</td>\n",
              "      <td>0</td>\n",
              "    </tr>\n",
              "  </tbody>\n",
              "</table>\n",
              "</div>"
            ],
            "text/plain": [
              "   RowNumber  CustomerId   Surname  CreditScore Geography  Gender  Age  \\\n",
              "0          1    15634602  Hargrave          619    France  Female   42   \n",
              "1          2    15647311      Hill          608     Spain  Female   41   \n",
              "2          3    15619304      Onio          502    France  Female   42   \n",
              "3          4    15701354      Boni          699    France  Female   39   \n",
              "4          5    15737888  Mitchell          850     Spain  Female   43   \n",
              "\n",
              "   Tenure    Balance  NumOfProducts  HasCrCard  IsActiveMember  \\\n",
              "0     2.0       0.00              1          1               1   \n",
              "1     1.0   83807.86              1          0               1   \n",
              "2     8.0  159660.80              3          1               0   \n",
              "3     1.0       0.00              2          0               0   \n",
              "4     2.0  125510.82              1          1               1   \n",
              "\n",
              "   EstimatedSalary  Exited  \n",
              "0        101348.88       1  \n",
              "1        112542.58       0  \n",
              "2        113931.57       1  \n",
              "3         93826.63       0  \n",
              "4         79084.10       0  "
            ]
          },
          "execution_count": 3,
          "metadata": {},
          "output_type": "execute_result"
        }
      ],
      "source": [
        "df = pd.read_csv('/datasets/Churn.csv')\n",
        "\n",
        "df.head()"
      ]
    },
    {
      "cell_type": "code",
      "execution_count": null,
      "metadata": {
        "id": "5mKeueFuLAhP",
        "outputId": "aad72060-d8e5-4dcd-85f8-c66ba5d210bb"
      },
      "outputs": [
        {
          "name": "stdout",
          "output_type": "stream",
          "text": [
            "<class 'pandas.core.frame.DataFrame'>\n",
            "RangeIndex: 10000 entries, 0 to 9999\n",
            "Data columns (total 14 columns):\n",
            " #   Column           Non-Null Count  Dtype  \n",
            "---  ------           --------------  -----  \n",
            " 0   RowNumber        10000 non-null  int64  \n",
            " 1   CustomerId       10000 non-null  int64  \n",
            " 2   Surname          10000 non-null  object \n",
            " 3   CreditScore      10000 non-null  int64  \n",
            " 4   Geography        10000 non-null  object \n",
            " 5   Gender           10000 non-null  object \n",
            " 6   Age              10000 non-null  int64  \n",
            " 7   Tenure           9091 non-null   float64\n",
            " 8   Balance          10000 non-null  float64\n",
            " 9   NumOfProducts    10000 non-null  int64  \n",
            " 10  HasCrCard        10000 non-null  int64  \n",
            " 11  IsActiveMember   10000 non-null  int64  \n",
            " 12  EstimatedSalary  10000 non-null  float64\n",
            " 13  Exited           10000 non-null  int64  \n",
            "dtypes: float64(3), int64(8), object(3)\n",
            "memory usage: 1.1+ MB\n"
          ]
        }
      ],
      "source": [
        "df.info()"
      ]
    },
    {
      "cell_type": "code",
      "execution_count": null,
      "metadata": {
        "scrolled": false,
        "id": "WBwo_JguLAhP",
        "outputId": "34e17c24-d4ce-4144-bcbc-40ebbd451195"
      },
      "outputs": [
        {
          "data": {
            "text/html": [
              "<div>\n",
              "<style scoped>\n",
              "    .dataframe tbody tr th:only-of-type {\n",
              "        vertical-align: middle;\n",
              "    }\n",
              "\n",
              "    .dataframe tbody tr th {\n",
              "        vertical-align: top;\n",
              "    }\n",
              "\n",
              "    .dataframe thead th {\n",
              "        text-align: right;\n",
              "    }\n",
              "</style>\n",
              "<table border=\"1\" class=\"dataframe\">\n",
              "  <thead>\n",
              "    <tr style=\"text-align: right;\">\n",
              "      <th></th>\n",
              "      <th>count</th>\n",
              "      <th>unique</th>\n",
              "      <th>top</th>\n",
              "      <th>freq</th>\n",
              "      <th>mean</th>\n",
              "      <th>std</th>\n",
              "      <th>min</th>\n",
              "      <th>25%</th>\n",
              "      <th>50%</th>\n",
              "      <th>75%</th>\n",
              "      <th>max</th>\n",
              "    </tr>\n",
              "  </thead>\n",
              "  <tbody>\n",
              "    <tr>\n",
              "      <th>RowNumber</th>\n",
              "      <td>10000.0</td>\n",
              "      <td>NaN</td>\n",
              "      <td>NaN</td>\n",
              "      <td>NaN</td>\n",
              "      <td>5000.5</td>\n",
              "      <td>2886.89568</td>\n",
              "      <td>1.0</td>\n",
              "      <td>2500.75</td>\n",
              "      <td>5000.5</td>\n",
              "      <td>7500.25</td>\n",
              "      <td>10000.0</td>\n",
              "    </tr>\n",
              "    <tr>\n",
              "      <th>CustomerId</th>\n",
              "      <td>10000.0</td>\n",
              "      <td>NaN</td>\n",
              "      <td>NaN</td>\n",
              "      <td>NaN</td>\n",
              "      <td>15690940.5694</td>\n",
              "      <td>71936.186123</td>\n",
              "      <td>15565701.0</td>\n",
              "      <td>15628528.25</td>\n",
              "      <td>15690738.0</td>\n",
              "      <td>15753233.75</td>\n",
              "      <td>15815690.0</td>\n",
              "    </tr>\n",
              "    <tr>\n",
              "      <th>Surname</th>\n",
              "      <td>10000</td>\n",
              "      <td>2932</td>\n",
              "      <td>Smith</td>\n",
              "      <td>32</td>\n",
              "      <td>NaN</td>\n",
              "      <td>NaN</td>\n",
              "      <td>NaN</td>\n",
              "      <td>NaN</td>\n",
              "      <td>NaN</td>\n",
              "      <td>NaN</td>\n",
              "      <td>NaN</td>\n",
              "    </tr>\n",
              "    <tr>\n",
              "      <th>CreditScore</th>\n",
              "      <td>10000.0</td>\n",
              "      <td>NaN</td>\n",
              "      <td>NaN</td>\n",
              "      <td>NaN</td>\n",
              "      <td>650.5288</td>\n",
              "      <td>96.653299</td>\n",
              "      <td>350.0</td>\n",
              "      <td>584.0</td>\n",
              "      <td>652.0</td>\n",
              "      <td>718.0</td>\n",
              "      <td>850.0</td>\n",
              "    </tr>\n",
              "    <tr>\n",
              "      <th>Geography</th>\n",
              "      <td>10000</td>\n",
              "      <td>3</td>\n",
              "      <td>France</td>\n",
              "      <td>5014</td>\n",
              "      <td>NaN</td>\n",
              "      <td>NaN</td>\n",
              "      <td>NaN</td>\n",
              "      <td>NaN</td>\n",
              "      <td>NaN</td>\n",
              "      <td>NaN</td>\n",
              "      <td>NaN</td>\n",
              "    </tr>\n",
              "    <tr>\n",
              "      <th>Gender</th>\n",
              "      <td>10000</td>\n",
              "      <td>2</td>\n",
              "      <td>Male</td>\n",
              "      <td>5457</td>\n",
              "      <td>NaN</td>\n",
              "      <td>NaN</td>\n",
              "      <td>NaN</td>\n",
              "      <td>NaN</td>\n",
              "      <td>NaN</td>\n",
              "      <td>NaN</td>\n",
              "      <td>NaN</td>\n",
              "    </tr>\n",
              "    <tr>\n",
              "      <th>Age</th>\n",
              "      <td>10000.0</td>\n",
              "      <td>NaN</td>\n",
              "      <td>NaN</td>\n",
              "      <td>NaN</td>\n",
              "      <td>38.9218</td>\n",
              "      <td>10.487806</td>\n",
              "      <td>18.0</td>\n",
              "      <td>32.0</td>\n",
              "      <td>37.0</td>\n",
              "      <td>44.0</td>\n",
              "      <td>92.0</td>\n",
              "    </tr>\n",
              "    <tr>\n",
              "      <th>Tenure</th>\n",
              "      <td>9091.0</td>\n",
              "      <td>NaN</td>\n",
              "      <td>NaN</td>\n",
              "      <td>NaN</td>\n",
              "      <td>4.99769</td>\n",
              "      <td>2.894723</td>\n",
              "      <td>0.0</td>\n",
              "      <td>2.0</td>\n",
              "      <td>5.0</td>\n",
              "      <td>7.0</td>\n",
              "      <td>10.0</td>\n",
              "    </tr>\n",
              "    <tr>\n",
              "      <th>Balance</th>\n",
              "      <td>10000.0</td>\n",
              "      <td>NaN</td>\n",
              "      <td>NaN</td>\n",
              "      <td>NaN</td>\n",
              "      <td>76485.889288</td>\n",
              "      <td>62397.405202</td>\n",
              "      <td>0.0</td>\n",
              "      <td>0.0</td>\n",
              "      <td>97198.54</td>\n",
              "      <td>127644.24</td>\n",
              "      <td>250898.09</td>\n",
              "    </tr>\n",
              "    <tr>\n",
              "      <th>NumOfProducts</th>\n",
              "      <td>10000.0</td>\n",
              "      <td>NaN</td>\n",
              "      <td>NaN</td>\n",
              "      <td>NaN</td>\n",
              "      <td>1.5302</td>\n",
              "      <td>0.581654</td>\n",
              "      <td>1.0</td>\n",
              "      <td>1.0</td>\n",
              "      <td>1.0</td>\n",
              "      <td>2.0</td>\n",
              "      <td>4.0</td>\n",
              "    </tr>\n",
              "    <tr>\n",
              "      <th>HasCrCard</th>\n",
              "      <td>10000.0</td>\n",
              "      <td>NaN</td>\n",
              "      <td>NaN</td>\n",
              "      <td>NaN</td>\n",
              "      <td>0.7055</td>\n",
              "      <td>0.45584</td>\n",
              "      <td>0.0</td>\n",
              "      <td>0.0</td>\n",
              "      <td>1.0</td>\n",
              "      <td>1.0</td>\n",
              "      <td>1.0</td>\n",
              "    </tr>\n",
              "    <tr>\n",
              "      <th>IsActiveMember</th>\n",
              "      <td>10000.0</td>\n",
              "      <td>NaN</td>\n",
              "      <td>NaN</td>\n",
              "      <td>NaN</td>\n",
              "      <td>0.5151</td>\n",
              "      <td>0.499797</td>\n",
              "      <td>0.0</td>\n",
              "      <td>0.0</td>\n",
              "      <td>1.0</td>\n",
              "      <td>1.0</td>\n",
              "      <td>1.0</td>\n",
              "    </tr>\n",
              "    <tr>\n",
              "      <th>EstimatedSalary</th>\n",
              "      <td>10000.0</td>\n",
              "      <td>NaN</td>\n",
              "      <td>NaN</td>\n",
              "      <td>NaN</td>\n",
              "      <td>100090.239881</td>\n",
              "      <td>57510.492818</td>\n",
              "      <td>11.58</td>\n",
              "      <td>51002.11</td>\n",
              "      <td>100193.915</td>\n",
              "      <td>149388.2475</td>\n",
              "      <td>199992.48</td>\n",
              "    </tr>\n",
              "    <tr>\n",
              "      <th>Exited</th>\n",
              "      <td>10000.0</td>\n",
              "      <td>NaN</td>\n",
              "      <td>NaN</td>\n",
              "      <td>NaN</td>\n",
              "      <td>0.2037</td>\n",
              "      <td>0.402769</td>\n",
              "      <td>0.0</td>\n",
              "      <td>0.0</td>\n",
              "      <td>0.0</td>\n",
              "      <td>0.0</td>\n",
              "      <td>1.0</td>\n",
              "    </tr>\n",
              "  </tbody>\n",
              "</table>\n",
              "</div>"
            ],
            "text/plain": [
              "                   count unique     top  freq           mean           std  \\\n",
              "RowNumber        10000.0    NaN     NaN   NaN         5000.5    2886.89568   \n",
              "CustomerId       10000.0    NaN     NaN   NaN  15690940.5694  71936.186123   \n",
              "Surname            10000   2932   Smith    32            NaN           NaN   \n",
              "CreditScore      10000.0    NaN     NaN   NaN       650.5288     96.653299   \n",
              "Geography          10000      3  France  5014            NaN           NaN   \n",
              "Gender             10000      2    Male  5457            NaN           NaN   \n",
              "Age              10000.0    NaN     NaN   NaN        38.9218     10.487806   \n",
              "Tenure            9091.0    NaN     NaN   NaN        4.99769      2.894723   \n",
              "Balance          10000.0    NaN     NaN   NaN   76485.889288  62397.405202   \n",
              "NumOfProducts    10000.0    NaN     NaN   NaN         1.5302      0.581654   \n",
              "HasCrCard        10000.0    NaN     NaN   NaN         0.7055       0.45584   \n",
              "IsActiveMember   10000.0    NaN     NaN   NaN         0.5151      0.499797   \n",
              "EstimatedSalary  10000.0    NaN     NaN   NaN  100090.239881  57510.492818   \n",
              "Exited           10000.0    NaN     NaN   NaN         0.2037      0.402769   \n",
              "\n",
              "                        min          25%         50%          75%         max  \n",
              "RowNumber               1.0      2500.75      5000.5      7500.25     10000.0  \n",
              "CustomerId       15565701.0  15628528.25  15690738.0  15753233.75  15815690.0  \n",
              "Surname                 NaN          NaN         NaN          NaN         NaN  \n",
              "CreditScore           350.0        584.0       652.0        718.0       850.0  \n",
              "Geography               NaN          NaN         NaN          NaN         NaN  \n",
              "Gender                  NaN          NaN         NaN          NaN         NaN  \n",
              "Age                    18.0         32.0        37.0         44.0        92.0  \n",
              "Tenure                  0.0          2.0         5.0          7.0        10.0  \n",
              "Balance                 0.0          0.0    97198.54    127644.24   250898.09  \n",
              "NumOfProducts           1.0          1.0         1.0          2.0         4.0  \n",
              "HasCrCard               0.0          0.0         1.0          1.0         1.0  \n",
              "IsActiveMember          0.0          0.0         1.0          1.0         1.0  \n",
              "EstimatedSalary       11.58     51002.11  100193.915  149388.2475   199992.48  \n",
              "Exited                  0.0          0.0         0.0          0.0         1.0  "
            ]
          },
          "execution_count": 5,
          "metadata": {},
          "output_type": "execute_result"
        }
      ],
      "source": [
        "df.describe(include='all').T"
      ]
    },
    {
      "cell_type": "markdown",
      "metadata": {
        "id": "x4JqZChrLAhP"
      },
      "source": [
        "Начальные наблюдения:\n",
        "\n",
        "- столбец RowNumber совпадает с индексом, а также у нас есть уникальный номер клиента, поэтому, скорее всего, можно удалить столбец RowNumber\n",
        "- столбец Surname, CustomerId не несет для обучения модели никакой информации \n",
        "- столбец Tenure имеет пропуски"
      ]
    },
    {
      "cell_type": "markdown",
      "metadata": {
        "id": "uGITXnJgLAhP"
      },
      "source": [
        "### Предообработка данных"
      ]
    },
    {
      "cell_type": "markdown",
      "metadata": {
        "id": "qRoRUxQ1LAhP"
      },
      "source": [
        "**Переименуем столбцы**"
      ]
    },
    {
      "cell_type": "code",
      "execution_count": null,
      "metadata": {
        "id": "rv3uzH2eLAhP",
        "outputId": "388c2f8f-a427-472d-de6d-fd11a545fba1"
      },
      "outputs": [
        {
          "data": {
            "text/plain": [
              "Index(['RowNumber', 'CustomerId', 'Surname', 'CreditScore', 'Geography',\n",
              "       'Gender', 'Age', 'Tenure', 'Balance', 'NumOfProducts', 'HasCrCard',\n",
              "       'IsActiveMember', 'EstimatedSalary', 'Exited'],\n",
              "      dtype='object')"
            ]
          },
          "execution_count": 6,
          "metadata": {},
          "output_type": "execute_result"
        }
      ],
      "source": [
        "df.columns"
      ]
    },
    {
      "cell_type": "code",
      "execution_count": null,
      "metadata": {
        "id": "i7c-M6uKLAhQ"
      },
      "outputs": [],
      "source": [
        "df = df.rename(columns={\n",
        "    'RowNumber' : 'row_number',\n",
        "    'CustomerId' : 'customer_id',\n",
        "    'Surname' : 'surname',\n",
        "    'CreditScore' : 'credit_score',\n",
        "    'Geography' : 'geography',\n",
        "    'Gender' : 'gender',\n",
        "    'Age' : 'age',\n",
        "    'Tenure' : 'tenure', \n",
        "    'Balance' : 'balance',\n",
        "    'NumOfProducts' : 'num_of_products',\n",
        "    'HasCrCard' : 'has_cr_card',\n",
        "    'IsActiveMember' : 'is_active_member',\n",
        "    'EstimatedSalary' : 'estimated_salary',\n",
        "    'Exited' : 'exited'\n",
        "})"
      ]
    },
    {
      "cell_type": "markdown",
      "metadata": {
        "id": "jZc5Lg7QLAhQ"
      },
      "source": [
        "**1 Удалим столбец RowNumber, так как он совпадает с индексом, а также у нас есть уникальный номер клиента, поэтому можно удалить столбец RowNumber**"
      ]
    },
    {
      "cell_type": "code",
      "execution_count": null,
      "metadata": {
        "scrolled": true,
        "id": "POikFLxOLAhQ",
        "outputId": "32144e4e-db0b-49cc-d551-f504827c9bd6"
      },
      "outputs": [
        {
          "data": {
            "text/html": [
              "<div>\n",
              "<style scoped>\n",
              "    .dataframe tbody tr th:only-of-type {\n",
              "        vertical-align: middle;\n",
              "    }\n",
              "\n",
              "    .dataframe tbody tr th {\n",
              "        vertical-align: top;\n",
              "    }\n",
              "\n",
              "    .dataframe thead th {\n",
              "        text-align: right;\n",
              "    }\n",
              "</style>\n",
              "<table border=\"1\" class=\"dataframe\">\n",
              "  <thead>\n",
              "    <tr style=\"text-align: right;\">\n",
              "      <th></th>\n",
              "      <th>customer_id</th>\n",
              "      <th>surname</th>\n",
              "      <th>credit_score</th>\n",
              "      <th>geography</th>\n",
              "      <th>gender</th>\n",
              "      <th>age</th>\n",
              "      <th>tenure</th>\n",
              "      <th>balance</th>\n",
              "      <th>num_of_products</th>\n",
              "      <th>has_cr_card</th>\n",
              "      <th>is_active_member</th>\n",
              "      <th>estimated_salary</th>\n",
              "      <th>exited</th>\n",
              "    </tr>\n",
              "  </thead>\n",
              "  <tbody>\n",
              "    <tr>\n",
              "      <th>0</th>\n",
              "      <td>15634602</td>\n",
              "      <td>Hargrave</td>\n",
              "      <td>619</td>\n",
              "      <td>France</td>\n",
              "      <td>Female</td>\n",
              "      <td>42</td>\n",
              "      <td>2.0</td>\n",
              "      <td>0.00</td>\n",
              "      <td>1</td>\n",
              "      <td>1</td>\n",
              "      <td>1</td>\n",
              "      <td>101348.88</td>\n",
              "      <td>1</td>\n",
              "    </tr>\n",
              "    <tr>\n",
              "      <th>1</th>\n",
              "      <td>15647311</td>\n",
              "      <td>Hill</td>\n",
              "      <td>608</td>\n",
              "      <td>Spain</td>\n",
              "      <td>Female</td>\n",
              "      <td>41</td>\n",
              "      <td>1.0</td>\n",
              "      <td>83807.86</td>\n",
              "      <td>1</td>\n",
              "      <td>0</td>\n",
              "      <td>1</td>\n",
              "      <td>112542.58</td>\n",
              "      <td>0</td>\n",
              "    </tr>\n",
              "    <tr>\n",
              "      <th>2</th>\n",
              "      <td>15619304</td>\n",
              "      <td>Onio</td>\n",
              "      <td>502</td>\n",
              "      <td>France</td>\n",
              "      <td>Female</td>\n",
              "      <td>42</td>\n",
              "      <td>8.0</td>\n",
              "      <td>159660.80</td>\n",
              "      <td>3</td>\n",
              "      <td>1</td>\n",
              "      <td>0</td>\n",
              "      <td>113931.57</td>\n",
              "      <td>1</td>\n",
              "    </tr>\n",
              "    <tr>\n",
              "      <th>3</th>\n",
              "      <td>15701354</td>\n",
              "      <td>Boni</td>\n",
              "      <td>699</td>\n",
              "      <td>France</td>\n",
              "      <td>Female</td>\n",
              "      <td>39</td>\n",
              "      <td>1.0</td>\n",
              "      <td>0.00</td>\n",
              "      <td>2</td>\n",
              "      <td>0</td>\n",
              "      <td>0</td>\n",
              "      <td>93826.63</td>\n",
              "      <td>0</td>\n",
              "    </tr>\n",
              "    <tr>\n",
              "      <th>4</th>\n",
              "      <td>15737888</td>\n",
              "      <td>Mitchell</td>\n",
              "      <td>850</td>\n",
              "      <td>Spain</td>\n",
              "      <td>Female</td>\n",
              "      <td>43</td>\n",
              "      <td>2.0</td>\n",
              "      <td>125510.82</td>\n",
              "      <td>1</td>\n",
              "      <td>1</td>\n",
              "      <td>1</td>\n",
              "      <td>79084.10</td>\n",
              "      <td>0</td>\n",
              "    </tr>\n",
              "  </tbody>\n",
              "</table>\n",
              "</div>"
            ],
            "text/plain": [
              "   customer_id   surname  credit_score geography  gender  age  tenure  \\\n",
              "0     15634602  Hargrave           619    France  Female   42     2.0   \n",
              "1     15647311      Hill           608     Spain  Female   41     1.0   \n",
              "2     15619304      Onio           502    France  Female   42     8.0   \n",
              "3     15701354      Boni           699    France  Female   39     1.0   \n",
              "4     15737888  Mitchell           850     Spain  Female   43     2.0   \n",
              "\n",
              "     balance  num_of_products  has_cr_card  is_active_member  \\\n",
              "0       0.00                1            1                 1   \n",
              "1   83807.86                1            0                 1   \n",
              "2  159660.80                3            1                 0   \n",
              "3       0.00                2            0                 0   \n",
              "4  125510.82                1            1                 1   \n",
              "\n",
              "   estimated_salary  exited  \n",
              "0         101348.88       1  \n",
              "1         112542.58       0  \n",
              "2         113931.57       1  \n",
              "3          93826.63       0  \n",
              "4          79084.10       0  "
            ]
          },
          "execution_count": 8,
          "metadata": {},
          "output_type": "execute_result"
        }
      ],
      "source": [
        "df = df.drop(columns='row_number')\n",
        "df.head()"
      ]
    },
    {
      "cell_type": "markdown",
      "metadata": {
        "id": "HMp8ZSo2LAhQ"
      },
      "source": [
        "**2 Для обучения модели столбцы customer_id and surname не нужны, поэтому можем их удалить**"
      ]
    },
    {
      "cell_type": "code",
      "execution_count": null,
      "metadata": {
        "scrolled": true,
        "id": "yxqSaBbsLAhQ",
        "outputId": "a08c72a1-70fd-49ef-eed0-eca20ca9bfb4"
      },
      "outputs": [
        {
          "data": {
            "text/plain": [
              "Index(['credit_score', 'geography', 'gender', 'age', 'tenure', 'balance',\n",
              "       'num_of_products', 'has_cr_card', 'is_active_member',\n",
              "       'estimated_salary', 'exited'],\n",
              "      dtype='object')"
            ]
          },
          "execution_count": 9,
          "metadata": {},
          "output_type": "execute_result"
        }
      ],
      "source": [
        "df = df.drop(columns=['customer_id', 'surname'])\n",
        "\n",
        "df.columns"
      ]
    },
    {
      "cell_type": "markdown",
      "metadata": {
        "id": "CLPPcKSyLAhR"
      },
      "source": [
        "**3 Обработаем пропуски в столбце Tenure**"
      ]
    },
    {
      "cell_type": "code",
      "execution_count": null,
      "metadata": {
        "scrolled": false,
        "id": "2yJG_HZ1LAhR",
        "outputId": "870552ed-38e5-42c5-a83d-bbddb0900c46"
      },
      "outputs": [
        {
          "data": {
            "text/plain": [
              "1.0     952\n",
              "2.0     950\n",
              "8.0     933\n",
              "3.0     928\n",
              "5.0     927\n",
              "7.0     925\n",
              "4.0     885\n",
              "9.0     882\n",
              "6.0     881\n",
              "10.0    446\n",
              "0.0     382\n",
              "Name: tenure, dtype: int64"
            ]
          },
          "execution_count": 10,
          "metadata": {},
          "output_type": "execute_result"
        }
      ],
      "source": [
        "df['tenure'].value_counts()"
      ]
    },
    {
      "cell_type": "code",
      "execution_count": null,
      "metadata": {
        "id": "NOPMi1YkLAhR",
        "outputId": "7bf0a9cb-87a7-4079-ce6f-b78dc26f7786"
      },
      "outputs": [
        {
          "data": {
            "text/plain": [
              "909"
            ]
          },
          "execution_count": 11,
          "metadata": {},
          "output_type": "execute_result"
        }
      ],
      "source": [
        "df['tenure'].isna().sum()"
      ]
    },
    {
      "cell_type": "markdown",
      "metadata": {
        "id": "rrVjPV5VLAhR"
      },
      "source": [
        "909 пропусков в столбце 'tenure' - порядка 10%"
      ]
    },
    {
      "cell_type": "code",
      "execution_count": null,
      "metadata": {
        "scrolled": true,
        "id": "8483-UHYLAhR",
        "outputId": "43f7ba24-cad0-48a7-b809-01ce4557d6b7"
      },
      "outputs": [
        {
          "data": {
            "text/html": [
              "<div>\n",
              "<style scoped>\n",
              "    .dataframe tbody tr th:only-of-type {\n",
              "        vertical-align: middle;\n",
              "    }\n",
              "\n",
              "    .dataframe tbody tr th {\n",
              "        vertical-align: top;\n",
              "    }\n",
              "\n",
              "    .dataframe thead th {\n",
              "        text-align: right;\n",
              "    }\n",
              "</style>\n",
              "<table border=\"1\" class=\"dataframe\">\n",
              "  <thead>\n",
              "    <tr style=\"text-align: right;\">\n",
              "      <th></th>\n",
              "      <th>tenure</th>\n",
              "      <th>count</th>\n",
              "      <th>sum</th>\n",
              "      <th>mean</th>\n",
              "    </tr>\n",
              "  </thead>\n",
              "  <tbody>\n",
              "    <tr>\n",
              "      <th>0</th>\n",
              "      <td>0.0</td>\n",
              "      <td>382</td>\n",
              "      <td>90</td>\n",
              "      <td>0.235602</td>\n",
              "    </tr>\n",
              "    <tr>\n",
              "      <th>1</th>\n",
              "      <td>1.0</td>\n",
              "      <td>952</td>\n",
              "      <td>213</td>\n",
              "      <td>0.223739</td>\n",
              "    </tr>\n",
              "    <tr>\n",
              "      <th>2</th>\n",
              "      <td>2.0</td>\n",
              "      <td>950</td>\n",
              "      <td>185</td>\n",
              "      <td>0.194737</td>\n",
              "    </tr>\n",
              "    <tr>\n",
              "      <th>3</th>\n",
              "      <td>3.0</td>\n",
              "      <td>928</td>\n",
              "      <td>198</td>\n",
              "      <td>0.213362</td>\n",
              "    </tr>\n",
              "    <tr>\n",
              "      <th>4</th>\n",
              "      <td>4.0</td>\n",
              "      <td>885</td>\n",
              "      <td>184</td>\n",
              "      <td>0.207910</td>\n",
              "    </tr>\n",
              "    <tr>\n",
              "      <th>5</th>\n",
              "      <td>5.0</td>\n",
              "      <td>927</td>\n",
              "      <td>187</td>\n",
              "      <td>0.201726</td>\n",
              "    </tr>\n",
              "    <tr>\n",
              "      <th>6</th>\n",
              "      <td>6.0</td>\n",
              "      <td>881</td>\n",
              "      <td>177</td>\n",
              "      <td>0.200908</td>\n",
              "    </tr>\n",
              "    <tr>\n",
              "      <th>7</th>\n",
              "      <td>7.0</td>\n",
              "      <td>925</td>\n",
              "      <td>160</td>\n",
              "      <td>0.172973</td>\n",
              "    </tr>\n",
              "    <tr>\n",
              "      <th>8</th>\n",
              "      <td>8.0</td>\n",
              "      <td>933</td>\n",
              "      <td>174</td>\n",
              "      <td>0.186495</td>\n",
              "    </tr>\n",
              "    <tr>\n",
              "      <th>9</th>\n",
              "      <td>9.0</td>\n",
              "      <td>882</td>\n",
              "      <td>194</td>\n",
              "      <td>0.219955</td>\n",
              "    </tr>\n",
              "    <tr>\n",
              "      <th>10</th>\n",
              "      <td>10.0</td>\n",
              "      <td>446</td>\n",
              "      <td>92</td>\n",
              "      <td>0.206278</td>\n",
              "    </tr>\n",
              "  </tbody>\n",
              "</table>\n",
              "</div>"
            ],
            "text/plain": [
              "    tenure  count  sum      mean\n",
              "0      0.0    382   90  0.235602\n",
              "1      1.0    952  213  0.223739\n",
              "2      2.0    950  185  0.194737\n",
              "3      3.0    928  198  0.213362\n",
              "4      4.0    885  184  0.207910\n",
              "5      5.0    927  187  0.201726\n",
              "6      6.0    881  177  0.200908\n",
              "7      7.0    925  160  0.172973\n",
              "8      8.0    933  174  0.186495\n",
              "9      9.0    882  194  0.219955\n",
              "10    10.0    446   92  0.206278"
            ]
          },
          "execution_count": 12,
          "metadata": {},
          "output_type": "execute_result"
        }
      ],
      "source": [
        "data_tenure = df.groupby('tenure').agg({'exited' : ['count', 'sum', 'mean']}).reset_index()\n",
        "data_tenure.columns = ['tenure', 'count', 'sum', 'mean']\n",
        "\n",
        "data_tenure"
      ]
    },
    {
      "cell_type": "code",
      "execution_count": null,
      "metadata": {
        "scrolled": true,
        "id": "uZj7fz35LAhR",
        "outputId": "daad4a4c-ba36-446c-ea37-2a3baa8668a5"
      },
      "outputs": [
        {
          "data": {
            "image/png": "[encoded data removed]",
            "text/plain": [
              "<Figure size 432x288 with 1 Axes>"
            ]
          },
          "metadata": {
            "needs_background": "light"
          },
          "output_type": "display_data"
        }
      ],
      "source": [
        "data_tenure.plot(x='tenure', y='mean', kind='scatter');"
      ]
    },
    {
      "cell_type": "code",
      "execution_count": null,
      "metadata": {
        "id": "IpbaVILbLAhR",
        "outputId": "f380a1b4-ac43-4512-c6ec-da760dca9396"
      },
      "outputs": [
        {
          "data": {
            "text/plain": [
              "-0.4707779538461846"
            ]
          },
          "execution_count": 14,
          "metadata": {},
          "output_type": "execute_result"
        }
      ],
      "source": [
        "data_tenure['tenure'].corr(data_tenure['mean'])"
      ]
    },
    {
      "cell_type": "markdown",
      "metadata": {
        "id": "PEfDj6ExLAhS"
      },
      "source": [
        "Видим, что есть слабая отрицательная корреляция между целевым признаком и значениями в столбце tenure"
      ]
    },
    {
      "cell_type": "code",
      "execution_count": null,
      "metadata": {
        "scrolled": true,
        "id": "tF9P0izhLAhS",
        "outputId": "7960abba-326c-4c22-9720-0eb80b6f079d"
      },
      "outputs": [
        {
          "data": {
            "text/html": [
              "<div>\n",
              "<style scoped>\n",
              "    .dataframe tbody tr th:only-of-type {\n",
              "        vertical-align: middle;\n",
              "    }\n",
              "\n",
              "    .dataframe tbody tr th {\n",
              "        vertical-align: top;\n",
              "    }\n",
              "\n",
              "    .dataframe thead th {\n",
              "        text-align: right;\n",
              "    }\n",
              "</style>\n",
              "<table border=\"1\" class=\"dataframe\">\n",
              "  <thead>\n",
              "    <tr style=\"text-align: right;\">\n",
              "      <th></th>\n",
              "      <th>credit_score</th>\n",
              "      <th>geography</th>\n",
              "      <th>gender</th>\n",
              "      <th>age</th>\n",
              "      <th>tenure</th>\n",
              "      <th>balance</th>\n",
              "      <th>num_of_products</th>\n",
              "      <th>has_cr_card</th>\n",
              "      <th>is_active_member</th>\n",
              "      <th>estimated_salary</th>\n",
              "      <th>exited</th>\n",
              "    </tr>\n",
              "  </thead>\n",
              "  <tbody>\n",
              "    <tr>\n",
              "      <th>30</th>\n",
              "      <td>591</td>\n",
              "      <td>Spain</td>\n",
              "      <td>Female</td>\n",
              "      <td>39</td>\n",
              "      <td>NaN</td>\n",
              "      <td>0.00</td>\n",
              "      <td>3</td>\n",
              "      <td>1</td>\n",
              "      <td>0</td>\n",
              "      <td>140469.38</td>\n",
              "      <td>1</td>\n",
              "    </tr>\n",
              "    <tr>\n",
              "      <th>48</th>\n",
              "      <td>550</td>\n",
              "      <td>Germany</td>\n",
              "      <td>Male</td>\n",
              "      <td>38</td>\n",
              "      <td>NaN</td>\n",
              "      <td>103391.38</td>\n",
              "      <td>1</td>\n",
              "      <td>0</td>\n",
              "      <td>1</td>\n",
              "      <td>90878.13</td>\n",
              "      <td>0</td>\n",
              "    </tr>\n",
              "    <tr>\n",
              "      <th>51</th>\n",
              "      <td>585</td>\n",
              "      <td>Germany</td>\n",
              "      <td>Male</td>\n",
              "      <td>36</td>\n",
              "      <td>NaN</td>\n",
              "      <td>146050.97</td>\n",
              "      <td>2</td>\n",
              "      <td>0</td>\n",
              "      <td>0</td>\n",
              "      <td>86424.57</td>\n",
              "      <td>0</td>\n",
              "    </tr>\n",
              "    <tr>\n",
              "      <th>53</th>\n",
              "      <td>655</td>\n",
              "      <td>Germany</td>\n",
              "      <td>Male</td>\n",
              "      <td>41</td>\n",
              "      <td>NaN</td>\n",
              "      <td>125561.97</td>\n",
              "      <td>1</td>\n",
              "      <td>0</td>\n",
              "      <td>0</td>\n",
              "      <td>164040.94</td>\n",
              "      <td>1</td>\n",
              "    </tr>\n",
              "    <tr>\n",
              "      <th>60</th>\n",
              "      <td>742</td>\n",
              "      <td>Germany</td>\n",
              "      <td>Male</td>\n",
              "      <td>35</td>\n",
              "      <td>NaN</td>\n",
              "      <td>136857.00</td>\n",
              "      <td>1</td>\n",
              "      <td>0</td>\n",
              "      <td>0</td>\n",
              "      <td>84509.57</td>\n",
              "      <td>0</td>\n",
              "    </tr>\n",
              "  </tbody>\n",
              "</table>\n",
              "</div>"
            ],
            "text/plain": [
              "    credit_score geography  gender  age  tenure    balance  num_of_products  \\\n",
              "30           591     Spain  Female   39     NaN       0.00                3   \n",
              "48           550   Germany    Male   38     NaN  103391.38                1   \n",
              "51           585   Germany    Male   36     NaN  146050.97                2   \n",
              "53           655   Germany    Male   41     NaN  125561.97                1   \n",
              "60           742   Germany    Male   35     NaN  136857.00                1   \n",
              "\n",
              "    has_cr_card  is_active_member  estimated_salary  exited  \n",
              "30            1                 0         140469.38       1  \n",
              "48            0                 1          90878.13       0  \n",
              "51            0                 0          86424.57       0  \n",
              "53            0                 0         164040.94       1  \n",
              "60            0                 0          84509.57       0  "
            ]
          },
          "execution_count": 15,
          "metadata": {},
          "output_type": "execute_result"
        }
      ],
      "source": [
        "df[df['tenure'].isna()].head()"
      ]
    },
    {
      "cell_type": "markdown",
      "metadata": {
        "id": "gkFLce3cLAhS"
      },
      "source": [
        "Заполним пропуски значением медианы (медиана = 5)"
      ]
    },
    {
      "cell_type": "code",
      "execution_count": null,
      "metadata": {
        "scrolled": true,
        "id": "mXIHBGFBLAhg"
      },
      "outputs": [],
      "source": [
        "df['tenure'] = df['tenure'].fillna(5)"
      ]
    },
    {
      "cell_type": "code",
      "execution_count": null,
      "metadata": {
        "scrolled": true,
        "id": "Oy06i9I4LAhg",
        "outputId": "63c4b125-c73d-4c01-da6a-6ddcd0303bc5"
      },
      "outputs": [
        {
          "data": {
            "text/plain": [
              "0"
            ]
          },
          "execution_count": 17,
          "metadata": {},
          "output_type": "execute_result"
        }
      ],
      "source": [
        "df['tenure'].isna().sum()"
      ]
    },
    {
      "cell_type": "markdown",
      "metadata": {
        "id": "w-G758dALAhg"
      },
      "source": [
        "Преобразуем столбец tenure в тип int "
      ]
    },
    {
      "cell_type": "code",
      "execution_count": null,
      "metadata": {
        "id": "koLzooyRLAhg"
      },
      "outputs": [],
      "source": [
        "df['tenure'] = df['tenure'].astype('int')"
      ]
    },
    {
      "cell_type": "markdown",
      "metadata": {
        "id": "2xuoz74ULAhg"
      },
      "source": [
        "**4 Посмотрим на столбцы is_active_member and 'exited'.** Есть предположение, что не активный клиент - это тот, который ушел и информация в этих столбцах дублирует друг друга"
      ]
    },
    {
      "cell_type": "code",
      "execution_count": null,
      "metadata": {
        "scrolled": true,
        "id": "rAxSLdGVLAhg",
        "outputId": "7b144084-408c-4537-9964-89472e8b66ff"
      },
      "outputs": [
        {
          "data": {
            "text/plain": [
              "1302"
            ]
          },
          "execution_count": 19,
          "metadata": {},
          "output_type": "execute_result"
        }
      ],
      "source": [
        "counter = 0\n",
        "for i in range(0, len(df['is_active_member'])):\n",
        "    if (df.loc[i, 'is_active_member'] == 0) & (df.loc[i, 'exited'] == 1):\n",
        "        counter += 1\n",
        "counter"
      ]
    },
    {
      "cell_type": "code",
      "execution_count": null,
      "metadata": {
        "id": "S7AOY0ZkLAhg",
        "outputId": "1041dc6f-2356-4c93-f655-62af0d5dc8b5"
      },
      "outputs": [
        {
          "data": {
            "text/plain": [
              "1    5151\n",
              "0    4849\n",
              "Name: is_active_member, dtype: int64"
            ]
          },
          "execution_count": 20,
          "metadata": {},
          "output_type": "execute_result"
        }
      ],
      "source": [
        "df['is_active_member'].value_counts()"
      ]
    },
    {
      "cell_type": "code",
      "execution_count": null,
      "metadata": {
        "scrolled": true,
        "id": "D9Ju80iuLAhh",
        "outputId": "2f1e61a4-a1c6-4d39-d522-8da17b855346"
      },
      "outputs": [
        {
          "data": {
            "text/plain": [
              "0    7963\n",
              "1    2037\n",
              "Name: exited, dtype: int64"
            ]
          },
          "execution_count": 21,
          "metadata": {},
          "output_type": "execute_result"
        }
      ],
      "source": [
        "df['exited'].value_counts()"
      ]
    },
    {
      "cell_type": "markdown",
      "metadata": {
        "id": "hqtxIy4pLAhh"
      },
      "source": [
        "Видим, что предположение выше не верно, так как ушло 2037 клиентов, а не активных и которые ушли 1302. Получается есть клиенты, которые еще не ушли, но уже не активны."
      ]
    },
    {
      "cell_type": "code",
      "execution_count": null,
      "metadata": {
        "id": "Gdmy_K0-LAhh"
      },
      "outputs": [],
      "source": [
        "#df.head()"
      ]
    },
    {
      "cell_type": "code",
      "execution_count": null,
      "metadata": {
        "scrolled": false,
        "id": "rw-6KG1FLAhh"
      },
      "outputs": [],
      "source": [
        "#df_ohe = pd.get_dummies(df, columns=['geography', 'gender'], drop_first=True)\n",
        "\n",
        "#df_ohe.columns"
      ]
    },
    {
      "cell_type": "code",
      "execution_count": null,
      "metadata": {
        "scrolled": false,
        "id": "dJchaEivLAhh"
      },
      "outputs": [],
      "source": [
        "#df_ohe.head()"
      ]
    },
    {
      "cell_type": "markdown",
      "metadata": {
        "id": "mU0C50MHLAhi"
      },
      "source": [
        "Теперь надо отмасшабировать количественные признаки, чтобы они для модели были равнозначными"
      ]
    },
    {
      "cell_type": "code",
      "execution_count": null,
      "metadata": {
        "scrolled": false,
        "id": "q1iP68DGLAhi"
      },
      "outputs": [],
      "source": [
        "#numeric = ['credit_score', 'tenure', 'age', 'balance', 'num_of_products', 'estimated_salary']\n",
        "#pd.options.mode.chained_assignment = None\n",
        "\n",
        "#scaler = StandardScaler()\n",
        "#scaler.fit(df_ohe[numeric])\n",
        "#df_ohe[numeric] = scaler.transform(df_ohe[numeric])\n",
        "\n",
        "#df_ohe.head()"
      ]
    },
    {
      "cell_type": "markdown",
      "metadata": {
        "id": "7TDhpqraLAhi"
      },
      "source": [
        "### Деление на выборки"
      ]
    },
    {
      "cell_type": "markdown",
      "metadata": {
        "id": "F7o7sUJHLAhi"
      },
      "source": [
        "Нам потребуется 3 выборки: обучающая, валидационная и тестовая для проверки финальной модели. Разделим исходные данные на обучающую, валидационную и тестовую выборки в соотношении 3:1:1 (60%, 20%, 20%)"
      ]
    },
    {
      "cell_type": "markdown",
      "metadata": {
        "id": "jBKA1ygrLAhi"
      },
      "source": [
        "Для этого сначала разделим данные в отношении 3:2, в потом вторую часть поделим пополам (на валидационную и тестовую), \n",
        "при делении на выборки сохраняем исходную стратификацию по целевому признаку"
      ]
    },
    {
      "cell_type": "code",
      "execution_count": null,
      "metadata": {
        "id": "RKzD505PLAhi"
      },
      "outputs": [],
      "source": [
        "df_train, df_temp = train_test_split(df, test_size=0.4, random_state=12345, stratify=df['exited'])"
      ]
    },
    {
      "cell_type": "code",
      "execution_count": null,
      "metadata": {
        "id": "zE1Ewi1mLAhi",
        "outputId": "d9e17c89-a3f3-4c78-cc54-09d3966f83fc"
      },
      "outputs": [
        {
          "data": {
            "text/plain": [
              "0.6"
            ]
          },
          "execution_count": 27,
          "metadata": {},
          "output_type": "execute_result"
        }
      ],
      "source": [
        "#checking the size of df_train\n",
        "df_train.shape[0] / df.shape[0]"
      ]
    },
    {
      "cell_type": "code",
      "execution_count": null,
      "metadata": {
        "id": "_wH8B4H_LAhi",
        "outputId": "6b8cf596-0c55-41b6-a7c8-af50803bb92a"
      },
      "outputs": [
        {
          "data": {
            "text/plain": [
              "0.20366666666666666"
            ]
          },
          "execution_count": 28,
          "metadata": {},
          "output_type": "execute_result"
        }
      ],
      "source": [
        "#стратификация в обучающей выборке\n",
        "df_train.loc[df_train['exited'] == 1, 'exited'].count() / df_train['exited'].shape[0]"
      ]
    },
    {
      "cell_type": "code",
      "execution_count": null,
      "metadata": {
        "id": "S47FXYL_LAhi",
        "outputId": "0c14b121-f3e2-4412-820e-205e65640b49"
      },
      "outputs": [
        {
          "data": {
            "text/plain": [
              "0.2037"
            ]
          },
          "execution_count": 29,
          "metadata": {},
          "output_type": "execute_result"
        }
      ],
      "source": [
        "#стратификация в исходном датасете\n",
        "df.loc[df['exited'] == 1, 'exited'].count() / df['exited'].shape[0]"
      ]
    },
    {
      "cell_type": "code",
      "execution_count": null,
      "metadata": {
        "id": "xPnNSz4cLAhj"
      },
      "outputs": [],
      "source": [
        "#divide df_temp at equal datasets (valid and test)\n",
        "df_valid, df_test = train_test_split(df_temp, test_size=0.5, random_state=12345, stratify=df_temp['exited'])"
      ]
    },
    {
      "cell_type": "code",
      "execution_count": null,
      "metadata": {
        "id": "HD_x904gLAhj",
        "outputId": "d3cb977c-9c22-4412-826a-c75856f611f7"
      },
      "outputs": [
        {
          "data": {
            "text/plain": [
              "0.2"
            ]
          },
          "execution_count": 31,
          "metadata": {},
          "output_type": "execute_result"
        }
      ],
      "source": [
        "#checking the size of df_test\n",
        "df_test.shape[0] / df.shape[0]"
      ]
    },
    {
      "cell_type": "code",
      "execution_count": null,
      "metadata": {
        "id": "6qVenaxnLAhj",
        "outputId": "93015b47-d224-4ce8-fa38-350dcc08982f"
      },
      "outputs": [
        {
          "data": {
            "text/plain": [
              "0.2035"
            ]
          },
          "execution_count": 32,
          "metadata": {},
          "output_type": "execute_result"
        }
      ],
      "source": [
        "#стратификация в тестовой выборке\n",
        "df_test.loc[df_test['exited'] == 1, 'exited'].count() / df_test['exited'].shape[0]"
      ]
    },
    {
      "cell_type": "code",
      "execution_count": null,
      "metadata": {
        "id": "3m_NbnZoLAhj",
        "outputId": "ecf8112e-1235-43d3-f3f8-bfd3e0a24234"
      },
      "outputs": [
        {
          "data": {
            "text/plain": [
              "0.2"
            ]
          },
          "execution_count": 33,
          "metadata": {},
          "output_type": "execute_result"
        }
      ],
      "source": [
        "#checking the size of df_valid\n",
        "df_valid.shape[0] / df.shape[0]"
      ]
    },
    {
      "cell_type": "code",
      "execution_count": null,
      "metadata": {
        "id": "qxPFwramLAhj",
        "outputId": "0aec97f9-f4a9-4cd5-e3a0-114bc8a331be"
      },
      "outputs": [
        {
          "data": {
            "text/plain": [
              "0.204"
            ]
          },
          "execution_count": 34,
          "metadata": {},
          "output_type": "execute_result"
        }
      ],
      "source": [
        "#стратификация в валидационной выборке\n",
        "df_valid.loc[df_valid['exited'] == 1, 'exited'].count() / df_valid['exited'].shape[0]"
      ]
    },
    {
      "cell_type": "markdown",
      "metadata": {
        "id": "DThiu2SbLAhj"
      },
      "source": [
        "Видим, что деление на выборки произведено корректно (60%:20%:20%) и сохранена стратификация (20.4%)"
      ]
    },
    {
      "cell_type": "markdown",
      "metadata": {
        "id": "L6j2E9U-LAhj"
      },
      "source": [
        "### Деление выборок на признаки и таргеты"
      ]
    },
    {
      "cell_type": "code",
      "execution_count": null,
      "metadata": {
        "scrolled": true,
        "id": "Z1JUivZ3LAhj",
        "outputId": "6991d845-a372-43a3-8fa8-3130a737f54b"
      },
      "outputs": [
        {
          "name": "stdout",
          "output_type": "stream",
          "text": [
            "(6000, 10)\n",
            "(6000,)\n"
          ]
        }
      ],
      "source": [
        "features_train = df_train.drop(columns='exited')\n",
        "target_train = df_train['exited']\n",
        "\n",
        "print(features_train.shape)\n",
        "print(target_train.shape)"
      ]
    },
    {
      "cell_type": "code",
      "execution_count": null,
      "metadata": {
        "id": "SqoWFiXELAhj",
        "outputId": "e3dbd1e6-05e1-418d-d13e-b10394a040af"
      },
      "outputs": [
        {
          "name": "stdout",
          "output_type": "stream",
          "text": [
            "(2000, 10)\n",
            "(2000,)\n"
          ]
        }
      ],
      "source": [
        "features_valid = df_valid.drop(columns='exited')\n",
        "target_valid = df_valid['exited']\n",
        "\n",
        "print(features_valid.shape)\n",
        "print(target_valid.shape)"
      ]
    },
    {
      "cell_type": "code",
      "execution_count": null,
      "metadata": {
        "id": "jMitQ6CPLAhk",
        "outputId": "1cbb3e29-a985-4731-d717-b2a34ea75663"
      },
      "outputs": [
        {
          "name": "stdout",
          "output_type": "stream",
          "text": [
            "(2000, 10)\n",
            "(2000,)\n"
          ]
        }
      ],
      "source": [
        "features_test = df_test.drop(columns='exited')\n",
        "target_test = df_test['exited']\n",
        "\n",
        "print(features_test.shape)\n",
        "print(target_test.shape)"
      ]
    },
    {
      "cell_type": "markdown",
      "metadata": {
        "id": "lXiwpnJYLAhk"
      },
      "source": [
        "Разделение на признаки и таргеты прошло успешно"
      ]
    },
    {
      "cell_type": "markdown",
      "metadata": {
        "id": "PhW8drInLAhk"
      },
      "source": [
        "### Подготовка признаков"
      ]
    },
    {
      "cell_type": "markdown",
      "metadata": {
        "id": "qsx4Q3aKLAhk"
      },
      "source": [
        "Для решения задачи классификации признаки должны быть численными, поэтому переведем категориальные признаки в числовые методом OHE"
      ]
    },
    {
      "cell_type": "markdown",
      "metadata": {
        "id": "Duqi6jg2LAhk"
      },
      "source": [
        "Обработаем признаки для обучающей выборки"
      ]
    },
    {
      "cell_type": "code",
      "execution_count": null,
      "metadata": {
        "scrolled": true,
        "id": "eRzHaoK5LAhk",
        "outputId": "3a8c0061-83ae-4cf5-f08f-0a77b47b01bd"
      },
      "outputs": [
        {
          "name": "stdout",
          "output_type": "stream",
          "text": [
            "['geography', 'gender']\n",
            "Index(['credit_score', 'age', 'tenure', 'balance', 'num_of_products',\n",
            "       'has_cr_card', 'is_active_member', 'estimated_salary',\n",
            "       'geography_Germany', 'geography_Spain', 'gender_Male'],\n",
            "      dtype='object')\n"
          ]
        }
      ],
      "source": [
        "#создаем список категориальных признаков\n",
        "ohe_features_train_list = features_train.select_dtypes(include='object').columns.to_list()\n",
        "print(ohe_features_train_list)\n",
        "\n",
        "# drop='first' удаляет первый признак из закодированных:\n",
        "# таким образом обходим dummy-ловушку\n",
        "# задаём handle_unknown='ignore':\n",
        "# игнорируется ранее невстречающиеся значения признака (при transform)\n",
        "encoder_ohe = OneHotEncoder(drop='first', handle_unknown='ignore', sparse=False)\n",
        "encoder_ohe.fit(features_train[ohe_features_train_list])\n",
        "\n",
        "# добавляем закодированные признаки в features_train\n",
        "# encoder_ohe.get_feature_names_out() позволяет получить названия колонок\n",
        "features_train[\n",
        "    encoder_ohe.get_feature_names_out()\n",
        "] = encoder_ohe.transform(features_train[ohe_features_train_list])\n",
        "\n",
        "# удаляем незакодированные категориальные признаки (изначальные колонки)\n",
        "features_train = features_train.drop(ohe_features_train_list, axis=1)\n",
        "print(features_train.columns)"
      ]
    },
    {
      "cell_type": "markdown",
      "metadata": {
        "id": "V9eaW768LAhl"
      },
      "source": [
        "Применим теперь настроенные OHE encoder  к валидационной и тестовой выборке"
      ]
    },
    {
      "cell_type": "code",
      "execution_count": null,
      "metadata": {
        "scrolled": true,
        "id": "_nGCIseOLAhl",
        "outputId": "4893ea11-052c-4110-a2bc-427ab33aca3e"
      },
      "outputs": [
        {
          "name": "stdout",
          "output_type": "stream",
          "text": [
            "['geography', 'gender']\n",
            "['geography', 'gender']\n",
            "Index(['credit_score', 'age', 'tenure', 'balance', 'num_of_products',\n",
            "       'has_cr_card', 'is_active_member', 'estimated_salary',\n",
            "       'geography_Germany', 'geography_Spain', 'gender_Male'],\n",
            "      dtype='object')\n",
            "Index(['credit_score', 'age', 'tenure', 'balance', 'num_of_products',\n",
            "       'has_cr_card', 'is_active_member', 'estimated_salary',\n",
            "       'geography_Germany', 'geography_Spain', 'gender_Male'],\n",
            "      dtype='object')\n"
          ]
        }
      ],
      "source": [
        "#создаем список категориальных признаков\n",
        "ohe_features_valid_list = features_valid.select_dtypes(include='object').columns.to_list()\n",
        "print(ohe_features_valid_list)\n",
        "\n",
        "ohe_features_test_list = features_test.select_dtypes(include='object').columns.to_list()\n",
        "print(ohe_features_test_list)\n",
        "\n",
        "# добавляем закодированные признаки в features_valid and features test\n",
        "# encoder_ohe.get_feature_names_out() позволяет получить названия колонок\n",
        "features_valid[\n",
        "    encoder_ohe.get_feature_names_out()\n",
        "] = encoder_ohe.transform(features_valid[ohe_features_valid_list])\n",
        "\n",
        "features_test[\n",
        "    encoder_ohe.get_feature_names_out()\n",
        "] = encoder_ohe.transform(features_test[ohe_features_test_list])\n",
        "\n",
        "# удаляем незакодированные категориальные признаки (изначальные колонки)\n",
        "features_valid = features_valid.drop(ohe_features_valid_list, axis=1)\n",
        "print(features_valid.columns)\n",
        "features_test = features_test.drop(ohe_features_test_list, axis=1)\n",
        "print(features_test.columns)"
      ]
    },
    {
      "cell_type": "code",
      "execution_count": null,
      "metadata": {
        "scrolled": true,
        "id": "la6vZPnHLAhl",
        "outputId": "4bf4da27-294d-418a-b121-9e9b52e4e4bb"
      },
      "outputs": [
        {
          "name": "stdout",
          "output_type": "stream",
          "text": [
            "(6000, 11)\n",
            "(2000, 11)\n",
            "(2000, 11)\n"
          ]
        }
      ],
      "source": [
        "print(features_train.shape)\n",
        "print(features_valid.shape)\n",
        "print(features_test.shape)"
      ]
    },
    {
      "cell_type": "markdown",
      "metadata": {
        "id": "AdcKerOELAhl"
      },
      "source": [
        "После кодирования столбцов с категориальными признаками методом OHE количество столбоц и названия одинаковые. "
      ]
    },
    {
      "cell_type": "markdown",
      "metadata": {
        "id": "HHBoVeA5LAhl"
      },
      "source": [
        "Теперь необходимо провести масштабирование численных признаков"
      ]
    },
    {
      "cell_type": "code",
      "execution_count": null,
      "metadata": {
        "id": "imeyOeQ5LAhl",
        "outputId": "027fb5f1-ed1f-456c-80db-04b0c1248dca"
      },
      "outputs": [
        {
          "data": {
            "text/html": [
              "<div>\n",
              "<style scoped>\n",
              "    .dataframe tbody tr th:only-of-type {\n",
              "        vertical-align: middle;\n",
              "    }\n",
              "\n",
              "    .dataframe tbody tr th {\n",
              "        vertical-align: top;\n",
              "    }\n",
              "\n",
              "    .dataframe thead th {\n",
              "        text-align: right;\n",
              "    }\n",
              "</style>\n",
              "<table border=\"1\" class=\"dataframe\">\n",
              "  <thead>\n",
              "    <tr style=\"text-align: right;\">\n",
              "      <th></th>\n",
              "      <th>credit_score</th>\n",
              "      <th>age</th>\n",
              "      <th>tenure</th>\n",
              "      <th>balance</th>\n",
              "      <th>num_of_products</th>\n",
              "      <th>has_cr_card</th>\n",
              "      <th>is_active_member</th>\n",
              "      <th>estimated_salary</th>\n",
              "      <th>geography_Germany</th>\n",
              "      <th>geography_Spain</th>\n",
              "      <th>gender_Male</th>\n",
              "    </tr>\n",
              "  </thead>\n",
              "  <tbody>\n",
              "    <tr>\n",
              "      <th>2837</th>\n",
              "      <td>549</td>\n",
              "      <td>49</td>\n",
              "      <td>6</td>\n",
              "      <td>124829.16</td>\n",
              "      <td>1</td>\n",
              "      <td>0</td>\n",
              "      <td>1</td>\n",
              "      <td>93551.36</td>\n",
              "      <td>1.0</td>\n",
              "      <td>0.0</td>\n",
              "      <td>0.0</td>\n",
              "    </tr>\n",
              "    <tr>\n",
              "      <th>9925</th>\n",
              "      <td>694</td>\n",
              "      <td>38</td>\n",
              "      <td>5</td>\n",
              "      <td>195926.39</td>\n",
              "      <td>1</td>\n",
              "      <td>1</td>\n",
              "      <td>1</td>\n",
              "      <td>85522.84</td>\n",
              "      <td>0.0</td>\n",
              "      <td>0.0</td>\n",
              "      <td>0.0</td>\n",
              "    </tr>\n",
              "    <tr>\n",
              "      <th>8746</th>\n",
              "      <td>660</td>\n",
              "      <td>34</td>\n",
              "      <td>8</td>\n",
              "      <td>106486.66</td>\n",
              "      <td>2</td>\n",
              "      <td>0</td>\n",
              "      <td>1</td>\n",
              "      <td>182262.66</td>\n",
              "      <td>0.0</td>\n",
              "      <td>0.0</td>\n",
              "      <td>1.0</td>\n",
              "    </tr>\n",
              "    <tr>\n",
              "      <th>660</th>\n",
              "      <td>632</td>\n",
              "      <td>41</td>\n",
              "      <td>5</td>\n",
              "      <td>81877.38</td>\n",
              "      <td>1</td>\n",
              "      <td>1</td>\n",
              "      <td>1</td>\n",
              "      <td>33642.21</td>\n",
              "      <td>1.0</td>\n",
              "      <td>0.0</td>\n",
              "      <td>0.0</td>\n",
              "    </tr>\n",
              "    <tr>\n",
              "      <th>3610</th>\n",
              "      <td>580</td>\n",
              "      <td>56</td>\n",
              "      <td>1</td>\n",
              "      <td>131368.30</td>\n",
              "      <td>1</td>\n",
              "      <td>1</td>\n",
              "      <td>0</td>\n",
              "      <td>106918.67</td>\n",
              "      <td>0.0</td>\n",
              "      <td>0.0</td>\n",
              "      <td>0.0</td>\n",
              "    </tr>\n",
              "  </tbody>\n",
              "</table>\n",
              "</div>"
            ],
            "text/plain": [
              "      credit_score  age  tenure    balance  num_of_products  has_cr_card  \\\n",
              "2837           549   49       6  124829.16                1            0   \n",
              "9925           694   38       5  195926.39                1            1   \n",
              "8746           660   34       8  106486.66                2            0   \n",
              "660            632   41       5   81877.38                1            1   \n",
              "3610           580   56       1  131368.30                1            1   \n",
              "\n",
              "      is_active_member  estimated_salary  geography_Germany  geography_Spain  \\\n",
              "2837                 1          93551.36                1.0              0.0   \n",
              "9925                 1          85522.84                0.0              0.0   \n",
              "8746                 1         182262.66                0.0              0.0   \n",
              "660                  1          33642.21                1.0              0.0   \n",
              "3610                 0         106918.67                0.0              0.0   \n",
              "\n",
              "      gender_Male  \n",
              "2837          0.0  \n",
              "9925          0.0  \n",
              "8746          1.0  \n",
              "660           0.0  \n",
              "3610          0.0  "
            ]
          },
          "execution_count": 41,
          "metadata": {},
          "output_type": "execute_result"
        }
      ],
      "source": [
        "features_train.head()"
      ]
    },
    {
      "cell_type": "code",
      "execution_count": null,
      "metadata": {
        "id": "vXgM1R2WLAhl",
        "outputId": "799cb196-0a65-442d-8922-3517c3402522"
      },
      "outputs": [
        {
          "data": {
            "text/plain": [
              "['credit_score',\n",
              " 'age',\n",
              " 'tenure',\n",
              " 'balance',\n",
              " 'num_of_products',\n",
              " 'estimated_salary']"
            ]
          },
          "execution_count": 42,
          "metadata": {},
          "output_type": "execute_result"
        }
      ],
      "source": [
        "#численные признаки\n",
        "#обратим внимание, что 'has_cr_card', 'is_active_member', 'geography_Germany', 'geography_Spain', 'gender_Male'\n",
        "#— категориальный бинарный признак.\n",
        "\n",
        "num_features = features_train.select_dtypes(exclude='object').columns.to_list()\n",
        "for x in ['has_cr_card', 'is_active_member', 'geography_Germany', 'geography_Spain', 'gender_Male']:\n",
        "    num_features.remove(x)\n",
        "num_features"
      ]
    },
    {
      "cell_type": "code",
      "execution_count": null,
      "metadata": {
        "id": "0VFArLT8LAhl"
      },
      "outputs": [],
      "source": [
        "# создаём скелер\n",
        "scaler = StandardScaler()\n",
        "\n",
        "# обучаем его на численных признаках тренировочной выборки, трансформируем её же\n",
        "scaler.fit(features_train[num_features])\n",
        "features_train[num_features] = scaler.transform(features_train[num_features])"
      ]
    },
    {
      "cell_type": "code",
      "execution_count": null,
      "metadata": {
        "id": "TdnL4GFpLAhl"
      },
      "outputs": [],
      "source": [
        "#масштабируем скелером валидационую и тестовую выборки\n",
        "features_valid[num_features] = scaler.transform(features_valid[num_features])\n",
        "features_test[num_features] = scaler.transform(features_test[num_features])"
      ]
    },
    {
      "cell_type": "code",
      "execution_count": null,
      "metadata": {
        "id": "ZAEc9muILAhm",
        "outputId": "ef45babc-f31f-450e-82a4-3e2e6fbec065"
      },
      "outputs": [
        {
          "data": {
            "text/html": [
              "<div>\n",
              "<style scoped>\n",
              "    .dataframe tbody tr th:only-of-type {\n",
              "        vertical-align: middle;\n",
              "    }\n",
              "\n",
              "    .dataframe tbody tr th {\n",
              "        vertical-align: top;\n",
              "    }\n",
              "\n",
              "    .dataframe thead th {\n",
              "        text-align: right;\n",
              "    }\n",
              "</style>\n",
              "<table border=\"1\" class=\"dataframe\">\n",
              "  <thead>\n",
              "    <tr style=\"text-align: right;\">\n",
              "      <th></th>\n",
              "      <th>credit_score</th>\n",
              "      <th>age</th>\n",
              "      <th>tenure</th>\n",
              "      <th>balance</th>\n",
              "      <th>num_of_products</th>\n",
              "      <th>has_cr_card</th>\n",
              "      <th>is_active_member</th>\n",
              "      <th>estimated_salary</th>\n",
              "      <th>geography_Germany</th>\n",
              "      <th>geography_Spain</th>\n",
              "      <th>gender_Male</th>\n",
              "    </tr>\n",
              "  </thead>\n",
              "  <tbody>\n",
              "    <tr>\n",
              "      <th>2837</th>\n",
              "      <td>-1.040434</td>\n",
              "      <td>0.953312</td>\n",
              "      <td>0.360600</td>\n",
              "      <td>0.774657</td>\n",
              "      <td>-0.914708</td>\n",
              "      <td>0</td>\n",
              "      <td>1</td>\n",
              "      <td>-0.119110</td>\n",
              "      <td>1.0</td>\n",
              "      <td>0.0</td>\n",
              "      <td>0.0</td>\n",
              "    </tr>\n",
              "    <tr>\n",
              "      <th>9925</th>\n",
              "      <td>0.454006</td>\n",
              "      <td>-0.095244</td>\n",
              "      <td>-0.002786</td>\n",
              "      <td>1.910540</td>\n",
              "      <td>-0.914708</td>\n",
              "      <td>1</td>\n",
              "      <td>1</td>\n",
              "      <td>-0.258658</td>\n",
              "      <td>0.0</td>\n",
              "      <td>0.0</td>\n",
              "      <td>0.0</td>\n",
              "    </tr>\n",
              "    <tr>\n",
              "      <th>8746</th>\n",
              "      <td>0.103585</td>\n",
              "      <td>-0.476537</td>\n",
              "      <td>1.087371</td>\n",
              "      <td>0.481608</td>\n",
              "      <td>0.820981</td>\n",
              "      <td>0</td>\n",
              "      <td>1</td>\n",
              "      <td>1.422836</td>\n",
              "      <td>0.0</td>\n",
              "      <td>0.0</td>\n",
              "      <td>1.0</td>\n",
              "    </tr>\n",
              "    <tr>\n",
              "      <th>660</th>\n",
              "      <td>-0.184996</td>\n",
              "      <td>0.190726</td>\n",
              "      <td>-0.002786</td>\n",
              "      <td>0.088439</td>\n",
              "      <td>-0.914708</td>\n",
              "      <td>1</td>\n",
              "      <td>1</td>\n",
              "      <td>-1.160427</td>\n",
              "      <td>1.0</td>\n",
              "      <td>0.0</td>\n",
              "      <td>0.0</td>\n",
              "    </tr>\n",
              "    <tr>\n",
              "      <th>3610</th>\n",
              "      <td>-0.720933</td>\n",
              "      <td>1.620574</td>\n",
              "      <td>-1.456328</td>\n",
              "      <td>0.879129</td>\n",
              "      <td>-0.914708</td>\n",
              "      <td>1</td>\n",
              "      <td>0</td>\n",
              "      <td>0.113236</td>\n",
              "      <td>0.0</td>\n",
              "      <td>0.0</td>\n",
              "      <td>0.0</td>\n",
              "    </tr>\n",
              "  </tbody>\n",
              "</table>\n",
              "</div>"
            ],
            "text/plain": [
              "      credit_score       age    tenure   balance  num_of_products  \\\n",
              "2837     -1.040434  0.953312  0.360600  0.774657        -0.914708   \n",
              "9925      0.454006 -0.095244 -0.002786  1.910540        -0.914708   \n",
              "8746      0.103585 -0.476537  1.087371  0.481608         0.820981   \n",
              "660      -0.184996  0.190726 -0.002786  0.088439        -0.914708   \n",
              "3610     -0.720933  1.620574 -1.456328  0.879129        -0.914708   \n",
              "\n",
              "      has_cr_card  is_active_member  estimated_salary  geography_Germany  \\\n",
              "2837            0                 1         -0.119110                1.0   \n",
              "9925            1                 1         -0.258658                0.0   \n",
              "8746            0                 1          1.422836                0.0   \n",
              "660             1                 1         -1.160427                1.0   \n",
              "3610            1                 0          0.113236                0.0   \n",
              "\n",
              "      geography_Spain  gender_Male  \n",
              "2837              0.0          0.0  \n",
              "9925              0.0          0.0  \n",
              "8746              0.0          1.0  \n",
              "660               0.0          0.0  \n",
              "3610              0.0          0.0  "
            ]
          },
          "execution_count": 45,
          "metadata": {},
          "output_type": "execute_result"
        }
      ],
      "source": [
        "#checking\n",
        "features_train.head()"
      ]
    },
    {
      "cell_type": "code",
      "execution_count": null,
      "metadata": {
        "scrolled": false,
        "id": "XGRztlFtLAhm",
        "outputId": "3a998fbe-107c-4d18-e6a5-d8d8f45b1f50"
      },
      "outputs": [
        {
          "data": {
            "text/html": [
              "<div>\n",
              "<style scoped>\n",
              "    .dataframe tbody tr th:only-of-type {\n",
              "        vertical-align: middle;\n",
              "    }\n",
              "\n",
              "    .dataframe tbody tr th {\n",
              "        vertical-align: top;\n",
              "    }\n",
              "\n",
              "    .dataframe thead th {\n",
              "        text-align: right;\n",
              "    }\n",
              "</style>\n",
              "<table border=\"1\" class=\"dataframe\">\n",
              "  <thead>\n",
              "    <tr style=\"text-align: right;\">\n",
              "      <th></th>\n",
              "      <th>credit_score</th>\n",
              "      <th>age</th>\n",
              "      <th>tenure</th>\n",
              "      <th>balance</th>\n",
              "      <th>num_of_products</th>\n",
              "      <th>has_cr_card</th>\n",
              "      <th>is_active_member</th>\n",
              "      <th>estimated_salary</th>\n",
              "      <th>geography_Germany</th>\n",
              "      <th>geography_Spain</th>\n",
              "      <th>gender_Male</th>\n",
              "    </tr>\n",
              "  </thead>\n",
              "  <tbody>\n",
              "    <tr>\n",
              "      <th>6612</th>\n",
              "      <td>-1.524838</td>\n",
              "      <td>2.383160</td>\n",
              "      <td>-0.729557</td>\n",
              "      <td>1.011655</td>\n",
              "      <td>-0.914708</td>\n",
              "      <td>0</td>\n",
              "      <td>1</td>\n",
              "      <td>0.010275</td>\n",
              "      <td>0.0</td>\n",
              "      <td>0.0</td>\n",
              "      <td>0.0</td>\n",
              "    </tr>\n",
              "    <tr>\n",
              "      <th>519</th>\n",
              "      <td>0.587990</td>\n",
              "      <td>1.811221</td>\n",
              "      <td>0.360600</td>\n",
              "      <td>0.213192</td>\n",
              "      <td>-0.914708</td>\n",
              "      <td>0</td>\n",
              "      <td>1</td>\n",
              "      <td>0.453089</td>\n",
              "      <td>0.0</td>\n",
              "      <td>0.0</td>\n",
              "      <td>1.0</td>\n",
              "    </tr>\n",
              "    <tr>\n",
              "      <th>1609</th>\n",
              "      <td>-0.318980</td>\n",
              "      <td>-0.381213</td>\n",
              "      <td>1.087371</td>\n",
              "      <td>0.893896</td>\n",
              "      <td>-0.914708</td>\n",
              "      <td>1</td>\n",
              "      <td>0</td>\n",
              "      <td>-0.603508</td>\n",
              "      <td>0.0</td>\n",
              "      <td>0.0</td>\n",
              "      <td>0.0</td>\n",
              "    </tr>\n",
              "    <tr>\n",
              "      <th>3475</th>\n",
              "      <td>1.226991</td>\n",
              "      <td>-0.762506</td>\n",
              "      <td>-0.366172</td>\n",
              "      <td>-0.240363</td>\n",
              "      <td>0.820981</td>\n",
              "      <td>1</td>\n",
              "      <td>1</td>\n",
              "      <td>-1.621460</td>\n",
              "      <td>0.0</td>\n",
              "      <td>0.0</td>\n",
              "      <td>1.0</td>\n",
              "    </tr>\n",
              "    <tr>\n",
              "      <th>2707</th>\n",
              "      <td>-0.133464</td>\n",
              "      <td>-0.095244</td>\n",
              "      <td>-0.729557</td>\n",
              "      <td>0.447305</td>\n",
              "      <td>-0.914708</td>\n",
              "      <td>0</td>\n",
              "      <td>0</td>\n",
              "      <td>0.338574</td>\n",
              "      <td>0.0</td>\n",
              "      <td>0.0</td>\n",
              "      <td>0.0</td>\n",
              "    </tr>\n",
              "  </tbody>\n",
              "</table>\n",
              "</div>"
            ],
            "text/plain": [
              "      credit_score       age    tenure   balance  num_of_products  \\\n",
              "6612     -1.524838  2.383160 -0.729557  1.011655        -0.914708   \n",
              "519       0.587990  1.811221  0.360600  0.213192        -0.914708   \n",
              "1609     -0.318980 -0.381213  1.087371  0.893896        -0.914708   \n",
              "3475      1.226991 -0.762506 -0.366172 -0.240363         0.820981   \n",
              "2707     -0.133464 -0.095244 -0.729557  0.447305        -0.914708   \n",
              "\n",
              "      has_cr_card  is_active_member  estimated_salary  geography_Germany  \\\n",
              "6612            0                 1          0.010275                0.0   \n",
              "519             0                 1          0.453089                0.0   \n",
              "1609            1                 0         -0.603508                0.0   \n",
              "3475            1                 1         -1.621460                0.0   \n",
              "2707            0                 0          0.338574                0.0   \n",
              "\n",
              "      geography_Spain  gender_Male  \n",
              "6612              0.0          0.0  \n",
              "519               0.0          1.0  \n",
              "1609              0.0          0.0  \n",
              "3475              0.0          1.0  \n",
              "2707              0.0          0.0  "
            ]
          },
          "execution_count": 46,
          "metadata": {},
          "output_type": "execute_result"
        }
      ],
      "source": [
        "features_valid.head()"
      ]
    },
    {
      "cell_type": "code",
      "execution_count": null,
      "metadata": {
        "scrolled": true,
        "id": "IfjzbwZiLAhm",
        "outputId": "03149464-7d88-4549-9796-75820baca879"
      },
      "outputs": [
        {
          "data": {
            "text/html": [
              "<div>\n",
              "<style scoped>\n",
              "    .dataframe tbody tr th:only-of-type {\n",
              "        vertical-align: middle;\n",
              "    }\n",
              "\n",
              "    .dataframe tbody tr th {\n",
              "        vertical-align: top;\n",
              "    }\n",
              "\n",
              "    .dataframe thead th {\n",
              "        text-align: right;\n",
              "    }\n",
              "</style>\n",
              "<table border=\"1\" class=\"dataframe\">\n",
              "  <thead>\n",
              "    <tr style=\"text-align: right;\">\n",
              "      <th></th>\n",
              "      <th>credit_score</th>\n",
              "      <th>age</th>\n",
              "      <th>tenure</th>\n",
              "      <th>balance</th>\n",
              "      <th>num_of_products</th>\n",
              "      <th>has_cr_card</th>\n",
              "      <th>is_active_member</th>\n",
              "      <th>estimated_salary</th>\n",
              "      <th>geography_Germany</th>\n",
              "      <th>geography_Spain</th>\n",
              "      <th>gender_Male</th>\n",
              "    </tr>\n",
              "  </thead>\n",
              "  <tbody>\n",
              "    <tr>\n",
              "      <th>657</th>\n",
              "      <td>-0.504497</td>\n",
              "      <td>1.429928</td>\n",
              "      <td>-1.456328</td>\n",
              "      <td>0.873883</td>\n",
              "      <td>0.820981</td>\n",
              "      <td>1</td>\n",
              "      <td>1</td>\n",
              "      <td>1.725255</td>\n",
              "      <td>1.0</td>\n",
              "      <td>0.0</td>\n",
              "      <td>0.0</td>\n",
              "    </tr>\n",
              "    <tr>\n",
              "      <th>2083</th>\n",
              "      <td>-1.195031</td>\n",
              "      <td>-1.429769</td>\n",
              "      <td>-1.456328</td>\n",
              "      <td>-1.219673</td>\n",
              "      <td>-0.914708</td>\n",
              "      <td>1</td>\n",
              "      <td>1</td>\n",
              "      <td>1.203665</td>\n",
              "      <td>0.0</td>\n",
              "      <td>0.0</td>\n",
              "      <td>1.0</td>\n",
              "    </tr>\n",
              "    <tr>\n",
              "      <th>3234</th>\n",
              "      <td>-1.267176</td>\n",
              "      <td>0.762665</td>\n",
              "      <td>-1.456328</td>\n",
              "      <td>-1.219673</td>\n",
              "      <td>-0.914708</td>\n",
              "      <td>1</td>\n",
              "      <td>0</td>\n",
              "      <td>-1.374743</td>\n",
              "      <td>0.0</td>\n",
              "      <td>0.0</td>\n",
              "      <td>1.0</td>\n",
              "    </tr>\n",
              "    <tr>\n",
              "      <th>1551</th>\n",
              "      <td>0.825039</td>\n",
              "      <td>1.239281</td>\n",
              "      <td>0.723985</td>\n",
              "      <td>-1.219673</td>\n",
              "      <td>0.820981</td>\n",
              "      <td>0</td>\n",
              "      <td>1</td>\n",
              "      <td>0.382306</td>\n",
              "      <td>0.0</td>\n",
              "      <td>1.0</td>\n",
              "      <td>0.0</td>\n",
              "    </tr>\n",
              "    <tr>\n",
              "      <th>2344</th>\n",
              "      <td>0.660135</td>\n",
              "      <td>0.953312</td>\n",
              "      <td>-0.366172</td>\n",
              "      <td>0.267087</td>\n",
              "      <td>-0.914708</td>\n",
              "      <td>1</td>\n",
              "      <td>0</td>\n",
              "      <td>-1.613578</td>\n",
              "      <td>1.0</td>\n",
              "      <td>0.0</td>\n",
              "      <td>0.0</td>\n",
              "    </tr>\n",
              "  </tbody>\n",
              "</table>\n",
              "</div>"
            ],
            "text/plain": [
              "      credit_score       age    tenure   balance  num_of_products  \\\n",
              "657      -0.504497  1.429928 -1.456328  0.873883         0.820981   \n",
              "2083     -1.195031 -1.429769 -1.456328 -1.219673        -0.914708   \n",
              "3234     -1.267176  0.762665 -1.456328 -1.219673        -0.914708   \n",
              "1551      0.825039  1.239281  0.723985 -1.219673         0.820981   \n",
              "2344      0.660135  0.953312 -0.366172  0.267087        -0.914708   \n",
              "\n",
              "      has_cr_card  is_active_member  estimated_salary  geography_Germany  \\\n",
              "657             1                 1          1.725255                1.0   \n",
              "2083            1                 1          1.203665                0.0   \n",
              "3234            1                 0         -1.374743                0.0   \n",
              "1551            0                 1          0.382306                0.0   \n",
              "2344            1                 0         -1.613578                1.0   \n",
              "\n",
              "      geography_Spain  gender_Male  \n",
              "657               0.0          0.0  \n",
              "2083              0.0          1.0  \n",
              "3234              0.0          1.0  \n",
              "1551              1.0          0.0  \n",
              "2344              0.0          0.0  "
            ]
          },
          "execution_count": 47,
          "metadata": {},
          "output_type": "execute_result"
        }
      ],
      "source": [
        "features_test.head()"
      ]
    },
    {
      "cell_type": "markdown",
      "metadata": {
        "id": "yPZvFYmJLAhm"
      },
      "source": [
        "По итогам предобрабоки данных выполнено следующее:\n",
        "- обработаны пропуски в данных\n",
        "- категориальные признаки преобразованы методом OHE\n",
        "- численные признаки отмасштабированы\n",
        "\n",
        "Данные готовы для обучения моделей"
      ]
    },
    {
      "cell_type": "markdown",
      "metadata": {
        "id": "6XESv_fTLAhm"
      },
      "source": [
        "## Исследование задачи"
      ]
    },
    {
      "cell_type": "markdown",
      "metadata": {
        "id": "035SjLVRLAhm"
      },
      "source": [
        "### Модель Решающее дерево"
      ]
    },
    {
      "cell_type": "markdown",
      "metadata": {
        "id": "UXWJ_7AMLAhm"
      },
      "source": [
        "Ключевой метрикой для нас является значение метрики f1"
      ]
    },
    {
      "cell_type": "code",
      "execution_count": null,
      "metadata": {
        "scrolled": true,
        "id": "HtEfENGBLAhm",
        "outputId": "e0554476-3a77-4164-e2eb-f79abbf60140"
      },
      "outputs": [
        {
          "name": "stderr",
          "output_type": "stream",
          "text": [
            "100%|██████████| 49/49 [00:01<00:00, 27.06it/s]"
          ]
        },
        {
          "name": "stdout",
          "output_type": "stream",
          "text": [
            "Best DEFAULT Decision Tree: best F1-score 0.5925 | best_depth = 7  | best ROC-AUC = 0.8230\n"
          ]
        },
        {
          "name": "stderr",
          "output_type": "stream",
          "text": [
            "\n"
          ]
        }
      ],
      "source": [
        "best_f1_1 = 0\n",
        "best_DT_1 = None\n",
        "best_depth = 0\n",
        "best_roc_auc_1 = 0\n",
        "for depth in tqdm(range(1,50,1)):\n",
        "    model = DecisionTreeClassifier(max_depth=depth, random_state=12345)\n",
        "    model.fit(features_train, target_train)\n",
        "    predicted_valid = model.predict(features_valid)\n",
        "    f1 = f1_score(target_valid, predicted_valid)\n",
        "    roc_score = roc_auc_score(target_valid, model.predict_proba(features_valid)[:, 1])\n",
        "    if f1 > best_f1_1:\n",
        "        best_f1_1 = f1\n",
        "        best_depth = depth\n",
        "        best_DT_1 = model\n",
        "        best_roc_auc_1 = roc_score\n",
        "print(f'Best DEFAULT Decision Tree: best F1-score {best_f1_1:.4f} | best_depth = {best_depth} \\\n",
        " | best ROC-AUC = {best_roc_auc_1:.4f}')"
      ]
    },
    {
      "cell_type": "markdown",
      "metadata": {
        "id": "OifSMVgZLAhm"
      },
      "source": [
        "Лучшим оказалась модель DT  с глубиной дерева 7 и значением метрики F1 = 0.594 (что уже больше требуемых в задании 0.59)"
      ]
    },
    {
      "cell_type": "markdown",
      "metadata": {
        "id": "JQRKPiVALAhn"
      },
      "source": [
        "Для того, чтобы нам в конце было удобнее сравнивать разные модели и случаи ДО и ПОСЛЕ устранения дисбаланса - будем добавлять модели и характеристики в список"
      ]
    },
    {
      "cell_type": "code",
      "execution_count": null,
      "metadata": {
        "id": "8DAtJ2eMLAhn"
      },
      "outputs": [],
      "source": [
        "model_list = []\n",
        "model_list.append(('DEFAULT DT: ', best_f1_1, best_roc_auc_1))"
      ]
    },
    {
      "cell_type": "code",
      "execution_count": null,
      "metadata": {
        "scrolled": false,
        "id": "BZOZvgrTLAhn",
        "outputId": "6993169c-0610-463b-bee6-f30c685195f6"
      },
      "outputs": [
        {
          "data": {
            "image/png": "[encoded data removed]",
            "text/plain": [
              "<Figure size 2520x1440 with 1 Axes>"
            ]
          },
          "metadata": {
            "needs_background": "light"
          },
          "output_type": "display_data"
        }
      ],
      "source": [
        "fig = plt.figure(figsize=(35,20))\n",
        "tree.plot_tree(best_DT_1, \n",
        "                   feature_names=features_train.columns.values, \n",
        "                   class_names=['Client','NOT client'],\n",
        "                   filled=True,\n",
        "                   fontsize = 15,\n",
        "                   max_depth = 3);"
      ]
    },
    {
      "cell_type": "markdown",
      "metadata": {
        "id": "g_Mfl-eJLAhn"
      },
      "source": [
        "### Модель Случайный лес"
      ]
    },
    {
      "cell_type": "code",
      "execution_count": null,
      "metadata": {
        "scrolled": true,
        "id": "fFS0haExLAhn",
        "outputId": "377b84f6-7a19-4d9f-9bcc-7f85e5681f40"
      },
      "outputs": [
        {
          "name": "stderr",
          "output_type": "stream",
          "text": [
            "100%|██████████| 20/20 [01:54<00:00,  5.74s/it]"
          ]
        },
        {
          "name": "stdout",
          "output_type": "stream",
          "text": [
            "Best DEFAULT Random Forrest: best F1-score 0.6233 | best_n_estimators = 61 | best_depth = 15 | best ROC-AUC = 0.8643\n"
          ]
        },
        {
          "name": "stderr",
          "output_type": "stream",
          "text": [
            "\n"
          ]
        }
      ],
      "source": [
        "best_f1_2 = 0\n",
        "best_RF_1 = None\n",
        "best_depth = 0\n",
        "best_n_est = 0\n",
        "best_roc_auc_2 = 0\n",
        "for n_est in tqdm(range(1, 101, 5)):\n",
        "    for depth in range(1,20,1):\n",
        "        model = RandomForestClassifier(n_estimators = n_est, max_depth=depth, random_state=12345)\n",
        "        model.fit(features_train, target_train)\n",
        "        predicted_valid = model.predict(features_valid)\n",
        "        f1 = f1_score(target_valid, predicted_valid)\n",
        "        roc_score = roc_auc_score(target_valid, model.predict_proba(features_valid)[:, 1])\n",
        "        if f1 > best_f1_2:\n",
        "            best_f1_2 = f1\n",
        "            best_depth = depth\n",
        "            best_n_est = n_est\n",
        "            best_RF_1 = model\n",
        "            best_roc_auc_2 = roc_score\n",
        "print(f'Best DEFAULT Random Forrest: best F1-score {best_f1_2:.4f} | best_n_estimators = {best_n_est} | \\\n",
        "best_depth = {best_depth} | best ROC-AUC = {best_roc_auc_2:.4f}')"
      ]
    },
    {
      "cell_type": "code",
      "execution_count": null,
      "metadata": {
        "id": "e3XXFeK8LAhn"
      },
      "outputs": [],
      "source": [
        "model_list.append(('DEFAULT Random Forrest: ', best_f1_2, best_roc_auc_2))"
      ]
    },
    {
      "cell_type": "markdown",
      "metadata": {
        "id": "ylXuHQesLAhn"
      },
      "source": [
        "Лучшей оказалась модель RF с количеством деревьев 46 и глубиной 13. Метрика F1 достигла 0.629"
      ]
    },
    {
      "cell_type": "markdown",
      "metadata": {
        "id": "RqWr3hk2LAhn"
      },
      "source": [
        "### Модель Логистическая регрессия"
      ]
    },
    {
      "cell_type": "code",
      "execution_count": null,
      "metadata": {
        "scrolled": true,
        "id": "NE-7oMi-LAhn",
        "outputId": "62b0109c-18f2-4464-db95-2bed1553af0c"
      },
      "outputs": [
        {
          "name": "stdout",
          "output_type": "stream",
          "text": [
            "Best DEFAULT LR: best F1-score 0.3077 | best_iter = 100 | best ROC-AUC = 0.7875\n"
          ]
        }
      ],
      "source": [
        "best_iter = 0\n",
        "best_LR_1 = None\n",
        "best_f1_3 = 0\n",
        "best_roc_auc_3 = 0\n",
        "for i in range (100, 1001, 100):\n",
        "    model = LogisticRegression(random_state=12345, solver='liblinear', max_iter = i)\n",
        "    model.fit(features_train, target_train)\n",
        "    predicted_valid = model.predict(features_valid)\n",
        "    f1 = f1_score(target_valid, predicted_valid)\n",
        "    roc_score = roc_auc_score(target_valid, model.predict_proba(features_valid)[:, 1])\n",
        "    if f1 > best_f1_3:\n",
        "        best_f1_3 = f1\n",
        "        best_iter = i\n",
        "        best_LR_1 = model\n",
        "        best_roc_auc_3 = roc_score\n",
        "print(f'Best DEFAULT LR: best F1-score {best_f1_3:.4f} | \\\n",
        "best_iter = {best_iter} | best ROC-AUC = {best_roc_auc_3:.4f}')"
      ]
    },
    {
      "cell_type": "code",
      "execution_count": null,
      "metadata": {
        "id": "AC30y4KxLAhn"
      },
      "outputs": [],
      "source": [
        "model_list.append(('DEFAULT LogisticRegression: ', best_f1_3, best_roc_auc_3))"
      ]
    },
    {
      "cell_type": "markdown",
      "metadata": {
        "id": "wXqNFi81LAho"
      },
      "source": [
        "Лучшей оказалась модель LR с макс кол-вом итераций 100. Метрика f1 при этом оказалсь самой низкой - 0.31"
      ]
    },
    {
      "cell_type": "markdown",
      "metadata": {
        "id": "vrasLUeBLAho"
      },
      "source": [
        "## Борьба с дисбалансом"
      ]
    },
    {
      "cell_type": "markdown",
      "metadata": {
        "id": "QvpxIGf0LAho"
      },
      "source": [
        "Посмотрим дисбаланс по целевому признаку:"
      ]
    },
    {
      "cell_type": "code",
      "execution_count": null,
      "metadata": {
        "id": "VgqItmISLAho",
        "outputId": "4722ac06-6f3b-485e-d8e9-214935e9f0c2"
      },
      "outputs": [
        {
          "data": {
            "text/plain": [
              "0.20366666666666666"
            ]
          },
          "execution_count": 55,
          "metadata": {},
          "output_type": "execute_result"
        }
      ],
      "source": [
        "target_train.mean()"
      ]
    },
    {
      "cell_type": "markdown",
      "metadata": {
        "id": "Zoq5Gue7LAho"
      },
      "source": [
        "1 класс - 20%, 0 класс - 80%. Целевой признак не сбалансирован. "
      ]
    },
    {
      "cell_type": "markdown",
      "metadata": {
        "id": "m_FhmmpALAho"
      },
      "source": [
        "### Меняем веса классов"
      ]
    },
    {
      "cell_type": "markdown",
      "metadata": {
        "id": "2ZvgeiGQLAho"
      },
      "source": [
        "#### Решающее дерево (class weight)"
      ]
    },
    {
      "cell_type": "code",
      "execution_count": null,
      "metadata": {
        "scrolled": true,
        "id": "iukOAyI4LAho",
        "outputId": "72492629-925d-4125-8f4f-083995204b79"
      },
      "outputs": [
        {
          "name": "stderr",
          "output_type": "stream",
          "text": [
            "100%|██████████| 49/49 [00:01<00:00, 31.35it/s]"
          ]
        },
        {
          "name": "stdout",
          "output_type": "stream",
          "text": [
            "BALANCED Decision Tree: best F1-score 0.5759 | best_depth = 6  | best ROC-AUC = 0.8233\n"
          ]
        },
        {
          "name": "stderr",
          "output_type": "stream",
          "text": [
            "\n"
          ]
        }
      ],
      "source": [
        "best_f1_1 = 0\n",
        "best_DT_1 = None\n",
        "best_depth = 0\n",
        "best_roc_auc_1 = 0\n",
        "for depth in tqdm(range(1,50,1)):\n",
        "    #укажем параметр class_weight = 'balanced'\n",
        "    model = DecisionTreeClassifier(max_depth=depth, random_state=12345, class_weight = 'balanced')\n",
        "    model.fit(features_train, target_train)\n",
        "    predicted_valid = model.predict(features_valid)\n",
        "    f1 = f1_score(target_valid, predicted_valid)\n",
        "    roc_score = roc_auc_score(target_valid, model.predict_proba(features_valid)[:, 1])\n",
        "    if f1 > best_f1_1:\n",
        "        best_f1_1 = f1\n",
        "        best_depth = depth\n",
        "        best_DT_1 = model\n",
        "        best_roc_auc_1 = roc_score\n",
        "print(f'BALANCED Decision Tree: best F1-score {best_f1_1:.4f} | best_depth = {best_depth} \\\n",
        " | best ROC-AUC = {best_roc_auc_1:.4f}')"
      ]
    },
    {
      "cell_type": "markdown",
      "metadata": {
        "id": "rciIb6TjLAho"
      },
      "source": [
        "Интересный момент, что значение метрики F1 снизилось до 0.575, по сравнению с деревом, которое обучалось на несбалансированной выборке"
      ]
    },
    {
      "cell_type": "code",
      "execution_count": null,
      "metadata": {
        "id": "b0pnWElVLAho"
      },
      "outputs": [],
      "source": [
        "model_list.append(('BALANCED Decision Tree: ', best_f1_1, best_roc_auc_1))"
      ]
    },
    {
      "cell_type": "markdown",
      "metadata": {
        "id": "D5A_6_43LAho"
      },
      "source": [
        "#### Случайный лес (class weight)"
      ]
    },
    {
      "cell_type": "code",
      "execution_count": null,
      "metadata": {
        "id": "LwaIU1tMLAho",
        "outputId": "37811b2e-e178-447a-8a47-a16a9518c6ae"
      },
      "outputs": [
        {
          "name": "stderr",
          "output_type": "stream",
          "text": [
            "100%|██████████| 20/20 [01:45<00:00,  5.25s/it]"
          ]
        },
        {
          "name": "stdout",
          "output_type": "stream",
          "text": [
            "Best BALANCED Random Forrest: best F1-score 0.6563 | best_n_estimators = 66 | best_depth = 10 | best ROC-AUC = 0.8701\n"
          ]
        },
        {
          "name": "stderr",
          "output_type": "stream",
          "text": [
            "\n"
          ]
        }
      ],
      "source": [
        "best_f1_2 = 0\n",
        "best_RF_1 = None\n",
        "best_depth = 0\n",
        "best_n_est = 0\n",
        "best_roc_auc_2 = 0\n",
        "for n_est in tqdm(range(1, 101, 5)):\n",
        "    for depth in range(1,20,1):\n",
        "        #укажем параметр class_weight = 'balanced'\n",
        "        model = RandomForestClassifier(n_estimators = n_est, max_depth=depth, \\\n",
        "                                       random_state=12345, class_weight = 'balanced')\n",
        "        model.fit(features_train, target_train)\n",
        "        predicted_valid = model.predict(features_valid)\n",
        "        f1 = f1_score(target_valid, predicted_valid)\n",
        "        roc_score = roc_auc_score(target_valid, model.predict_proba(features_valid)[:, 1])\n",
        "        if f1 > best_f1_2:\n",
        "            best_f1_2 = f1\n",
        "            best_depth = depth\n",
        "            best_n_est = n_est\n",
        "            best_RF_1 = model\n",
        "            best_roc_auc_2 = roc_score\n",
        "print(f'Best BALANCED Random Forrest: best F1-score {best_f1_2:.4f} | best_n_estimators = {best_n_est} | \\\n",
        "best_depth = {best_depth} | best ROC-AUC = {best_roc_auc_2:.4f}')"
      ]
    },
    {
      "cell_type": "code",
      "execution_count": null,
      "metadata": {
        "id": "JGZq7KWTLAhp"
      },
      "outputs": [],
      "source": [
        "model_list.append(('BALANCED Random Forrest: ', best_f1_2, best_roc_auc_2))"
      ]
    },
    {
      "cell_type": "markdown",
      "metadata": {
        "id": "b69UQIIbLAhp"
      },
      "source": [
        "Результаты Случайного леса на сбалансированной выборке оказались выше (F1 = 0.653 против 0.629)"
      ]
    },
    {
      "cell_type": "markdown",
      "metadata": {
        "id": "HZ-k1FmnLAhp"
      },
      "source": [
        "#### Логистическая регрессия (class weight)"
      ]
    },
    {
      "cell_type": "code",
      "execution_count": null,
      "metadata": {
        "id": "5Ji0VeXRLAhp",
        "outputId": "eccddb64-491e-4e16-ddeb-48062d33c975"
      },
      "outputs": [
        {
          "name": "stdout",
          "output_type": "stream",
          "text": [
            "Best BALANCED LR: best F1-score 0.5290 | best_iter = 100 | best ROC-AUC = 0.7937\n"
          ]
        }
      ],
      "source": [
        "best_iter = 0\n",
        "best_LR_1 = None\n",
        "best_f1_3 = 0\n",
        "best_roc_auc_3 = 0\n",
        "for i in range (100, 1001, 100):\n",
        "    #укажем параметр class_weight = 'balanced'\n",
        "    model = LogisticRegression(random_state=12345, solver='liblinear', \\\n",
        "                               max_iter = i, class_weight = 'balanced')\n",
        "    model.fit(features_train, target_train)\n",
        "    predicted_valid = model.predict(features_valid)\n",
        "    f1 = f1_score(target_valid, predicted_valid)\n",
        "    roc_score = roc_auc_score(target_valid, model.predict_proba(features_valid)[:, 1])\n",
        "    if f1 > best_f1_3:\n",
        "        best_f1_3 = f1\n",
        "        best_iter = i\n",
        "        best_LR_1 = model\n",
        "        best_roc_auc_3 = roc_score\n",
        "print(f'Best BALANCED LR: best F1-score {best_f1_3:.4f} | \\\n",
        "best_iter = {best_iter} | best ROC-AUC = {best_roc_auc_3:.4f}')"
      ]
    },
    {
      "cell_type": "markdown",
      "metadata": {
        "id": "4Ed8XwfuLAhp"
      },
      "source": [
        "Результаты Логистической регрессии на сбалансированной выборке оказались выше (F1 = 0.529 против 0.31). Метрика выросла практически в 2 раза"
      ]
    },
    {
      "cell_type": "code",
      "execution_count": null,
      "metadata": {
        "id": "B84x2GECLAhp"
      },
      "outputs": [],
      "source": [
        "model_list.append(('BALANCED LogisticRegression: ', best_f1_3, best_roc_auc_3))"
      ]
    },
    {
      "cell_type": "markdown",
      "metadata": {
        "id": "C-XkKdJ0LAhp"
      },
      "source": [
        "### Upsampling"
      ]
    },
    {
      "cell_type": "markdown",
      "metadata": {
        "id": "m64SzBo5LAhp"
      },
      "source": [
        "#### Решающее дерево (upsampling)"
      ]
    },
    {
      "cell_type": "markdown",
      "metadata": {
        "id": "qyeycVhHLAhp"
      },
      "source": [
        "Напишем функцию upsampling, которая кратно увеличит количество значений и признаков 1 класса"
      ]
    },
    {
      "cell_type": "code",
      "execution_count": null,
      "metadata": {
        "id": "tsf1TIB8LAhp"
      },
      "outputs": [],
      "source": [
        "def upsampling(features, target, repeat):\n",
        "    features_zero = features[target == 0]\n",
        "    features_one = features[target == 1]\n",
        "    target_zero = target[target == 0]\n",
        "    target_one = target[target == 1]\n",
        "    \n",
        "    features_upsampled = pd.concat([features_zero] + [features_one] * repeat)\n",
        "    target_upsampled = pd.concat([target_zero] + [target_one] * repeat)\n",
        "    features_upsampled, target_upsampled = shuffle(\n",
        "    features_upsampled, target_upsampled, random_state=12345)\n",
        "    \n",
        "    return features_upsampled, target_upsampled "
      ]
    },
    {
      "cell_type": "markdown",
      "metadata": {
        "id": "lHO4VnAqLAhp"
      },
      "source": [
        "Так как у нас дисбаланс 1 к 4, то в функции upsampling возьмем количество повторений 4, чтобы полностью убрать дисбаланс"
      ]
    },
    {
      "cell_type": "code",
      "execution_count": null,
      "metadata": {
        "id": "5EIU5A8VLAhq"
      },
      "outputs": [],
      "source": [
        "repeat = 4\n",
        "features_train_up, target_train_up = upsampling(features_train, target_train, repeat)"
      ]
    },
    {
      "cell_type": "code",
      "execution_count": null,
      "metadata": {
        "id": "pJwtnhxRLAhq",
        "outputId": "19fa7d6e-6a5c-4ffe-c499-136d5aa3d657"
      },
      "outputs": [
        {
          "name": "stderr",
          "output_type": "stream",
          "text": [
            "100%|██████████| 49/49 [00:01<00:00, 25.72it/s]"
          ]
        },
        {
          "name": "stdout",
          "output_type": "stream",
          "text": [
            "UPSAMPLING Decision Tree: best F1-score 0.5759 | best_depth = 6  | best ROC-AUC = 0.8233\n"
          ]
        },
        {
          "name": "stderr",
          "output_type": "stream",
          "text": [
            "\n"
          ]
        }
      ],
      "source": [
        "best_f1_1 = 0\n",
        "best_DT_1 = None\n",
        "best_depth = 0\n",
        "best_roc_auc_1 = 0\n",
        "\n",
        "for depth in tqdm(range(1,50,1)):\n",
        "    model = DecisionTreeClassifier(max_depth=depth, random_state=12345)\n",
        "    model.fit(features_train_up, target_train_up)\n",
        "    predicted_valid = model.predict(features_valid)\n",
        "    f1 = f1_score(target_valid, predicted_valid)\n",
        "    roc_score = roc_auc_score(target_valid, model.predict_proba(features_valid)[:, 1])\n",
        "    if f1 > best_f1_1:\n",
        "        best_f1_1 = f1\n",
        "        best_depth = depth\n",
        "        best_DT_1 = model\n",
        "        best_roc_auc_1 = roc_score\n",
        "\n",
        "print(f'UPSAMPLING Decision Tree: best F1-score {best_f1_1:.4f} | best_depth = {best_depth} \\\n",
        " | best ROC-AUC = {best_roc_auc_1:.4f}')"
      ]
    },
    {
      "cell_type": "markdown",
      "metadata": {
        "id": "h9lA3zkGLAhq"
      },
      "source": [
        "Метрика F1 ухудшилась по сравнению с рещением задачи на несбалансированной (изначальной) выборке (с 0.59 до 0.58)."
      ]
    },
    {
      "cell_type": "code",
      "execution_count": null,
      "metadata": {
        "id": "913JwYKHLAhq"
      },
      "outputs": [],
      "source": [
        "model_list.append(('UPSAMPLING Decision Tree: ', best_f1_1, best_roc_auc_1))"
      ]
    },
    {
      "cell_type": "markdown",
      "metadata": {
        "id": "5BYYdQ21LAhq"
      },
      "source": [
        "#### Случайный лес (upsampling)"
      ]
    },
    {
      "cell_type": "code",
      "execution_count": null,
      "metadata": {
        "scrolled": true,
        "id": "mZyLMiy5LAhq",
        "outputId": "0a3ba5f0-839a-4b75-a24e-662c5e94c30e"
      },
      "outputs": [
        {
          "name": "stderr",
          "output_type": "stream",
          "text": [
            "100%|██████████| 20/20 [01:43<00:00,  5.17s/it]"
          ]
        },
        {
          "name": "stdout",
          "output_type": "stream",
          "text": [
            "UPSAMPLING Random Forrest: best F1-score 0.6495 | best_n_estimators = 36 | best_depth = 10 | best ROC-AUC = 0.8663\n"
          ]
        },
        {
          "name": "stderr",
          "output_type": "stream",
          "text": [
            "\n"
          ]
        }
      ],
      "source": [
        "best_f1_2 = 0\n",
        "best_RF_1 = None\n",
        "best_depth = 0\n",
        "best_n_est = 0\n",
        "best_roc_auc_2 = 0\n",
        "for n_est in tqdm(range(1, 101, 5)):\n",
        "    for depth in range(1,16,1):\n",
        "        model = RandomForestClassifier(n_estimators = n_est, max_depth=depth, random_state=12345)\n",
        "        model.fit(features_train_up, target_train_up)\n",
        "        predicted_valid = model.predict(features_valid)\n",
        "        f1 = f1_score(target_valid, predicted_valid)\n",
        "        roc_score = roc_auc_score(target_valid, model.predict_proba(features_valid)[:, 1])\n",
        "        if f1 > best_f1_2:\n",
        "            best_f1_2 = f1\n",
        "            best_depth = depth\n",
        "            best_n_est = n_est\n",
        "            best_RF_1 = model\n",
        "            best_roc_auc_2 = roc_score\n",
        "print(f'UPSAMPLING Random Forrest: best F1-score {best_f1_2:.4f} | best_n_estimators = {best_n_est} | \\\n",
        "best_depth = {best_depth} | best ROC-AUC = {best_roc_auc_2:.4f}')"
      ]
    },
    {
      "cell_type": "markdown",
      "metadata": {
        "id": "DD1qCnheLAhq"
      },
      "source": [
        "Метрика F1 выросла по сравнению с решением задачи на несбалансированной (изначальной) выборке (с 0.62 до 0.65). Площадь под ROC кривой не поменялась"
      ]
    },
    {
      "cell_type": "code",
      "execution_count": null,
      "metadata": {
        "id": "DR9KlY4KLAhq"
      },
      "outputs": [],
      "source": [
        "model_list.append(('UPSAMPLING Random Forrest: ', best_f1_2, best_roc_auc_2))"
      ]
    },
    {
      "cell_type": "markdown",
      "metadata": {
        "id": "HNMbaRgRLAhq"
      },
      "source": [
        "#### Логистическая регрессия (upsampling)"
      ]
    },
    {
      "cell_type": "code",
      "execution_count": null,
      "metadata": {
        "id": "bToH0DWMLAhq",
        "outputId": "4bcf587f-9ead-4f8c-c454-a2c403973df7"
      },
      "outputs": [
        {
          "name": "stdout",
          "output_type": "stream",
          "text": [
            "UPSAMPLING LR: best F1-score 0.5247 | best_iter = 100 | best ROC-AUC = 0.7938\n"
          ]
        }
      ],
      "source": [
        "best_iter = 0\n",
        "best_LR_1 = None\n",
        "best_f1_3 = 0\n",
        "best_roc_auc_3 = 0\n",
        "for i in range (100, 1001, 100):\n",
        "    model = LogisticRegression(random_state=12345, solver='liblinear', max_iter = i)\n",
        "    model.fit(features_train_up, target_train_up)\n",
        "    predicted_valid = model.predict(features_valid)\n",
        "    f1 = f1_score(target_valid, predicted_valid)\n",
        "    roc_score = roc_auc_score(target_valid, model.predict_proba(features_valid)[:, 1])\n",
        "    if f1 > best_f1_3:\n",
        "        best_f1_3 = f1\n",
        "        best_iter = i\n",
        "        best_LR_1 = model\n",
        "        best_roc_auc_3 = roc_score\n",
        "print(f'UPSAMPLING LR: best F1-score {best_f1_3:.4f} | \\\n",
        "best_iter = {best_iter} | best ROC-AUC = {best_roc_auc_3:.4f}')"
      ]
    },
    {
      "cell_type": "markdown",
      "metadata": {
        "id": "x6sXIrLfLAhq"
      },
      "source": [
        "Метрика F1 выросла значительно по сравнению с рещением задачи на несбалансированной (изначальной) выборке (с 0.31 до 0.52). Площадь под ROC кривой практически не изменилась (0.79)"
      ]
    },
    {
      "cell_type": "code",
      "execution_count": null,
      "metadata": {
        "id": "Jre4XXj0LAhq"
      },
      "outputs": [],
      "source": [
        "model_list.append(('UPSAMPLING LogisticRegression: ', best_f1_3, best_roc_auc_3))"
      ]
    },
    {
      "cell_type": "markdown",
      "metadata": {
        "id": "hM96rq-0LAhq"
      },
      "source": [
        "### Downsampling"
      ]
    },
    {
      "cell_type": "markdown",
      "metadata": {
        "id": "1f2EzJe6LAhr"
      },
      "source": [
        "#### Решающее дерево (downsampling)"
      ]
    },
    {
      "cell_type": "markdown",
      "metadata": {
        "id": "ghweEG6tLAhr"
      },
      "source": [
        "Напишем фукнцию downsample"
      ]
    },
    {
      "cell_type": "code",
      "execution_count": null,
      "metadata": {
        "id": "olHEBZXgLAhr"
      },
      "outputs": [],
      "source": [
        "def downsample(features, target, fraction):\n",
        "    features_zeros = features[target == 0]\n",
        "    features_ones = features[target == 1]\n",
        "    target_zeros = target[target == 0]\n",
        "    target_ones = target[target == 1]\n",
        "\n",
        "    features_downsampled = pd.concat(\n",
        "        [features_zeros.sample(frac=fraction, random_state=12345)] + [features_ones])\n",
        "    target_downsampled = pd.concat(\n",
        "        [target_zeros.sample(frac=fraction, random_state=12345)] + [target_ones])\n",
        "    \n",
        "    features_downsampled, target_downsampled = shuffle(\n",
        "        features_downsampled, target_downsampled, random_state=12345)\n",
        "    \n",
        "    return features_downsampled, target_downsampled"
      ]
    },
    {
      "cell_type": "markdown",
      "metadata": {
        "id": "8VI1gc3GLAhr"
      },
      "source": [
        "Дисбаланс 1 к 4, значит для устранения дисбаланса надо взять долю 0.25"
      ]
    },
    {
      "cell_type": "code",
      "execution_count": null,
      "metadata": {
        "id": "iwQkwxfULAhr"
      },
      "outputs": [],
      "source": [
        "fraction = 0.25\n",
        "features_train_down, target_train_down = downsample(features_train, target_train, fraction)"
      ]
    },
    {
      "cell_type": "code",
      "execution_count": null,
      "metadata": {
        "scrolled": false,
        "id": "X5SAQ6lgLAhr",
        "outputId": "0dd06265-8d4f-42f6-d9ed-c000cdcad1f7"
      },
      "outputs": [
        {
          "name": "stderr",
          "output_type": "stream",
          "text": [
            "100%|██████████| 49/49 [00:00<00:00, 60.69it/s]"
          ]
        },
        {
          "name": "stdout",
          "output_type": "stream",
          "text": [
            "DOWNSAMPLING Decision Tree: best F1-score 0.5945 | best_depth = 6  | best ROC-AUC = 0.8478\n"
          ]
        },
        {
          "name": "stderr",
          "output_type": "stream",
          "text": [
            "\n"
          ]
        }
      ],
      "source": [
        "best_f1_1 = 0\n",
        "best_DT_1 = None\n",
        "best_depth = 0\n",
        "best_roc_auc_1 = 0\n",
        "\n",
        "for depth in tqdm(range(1,50,1)):\n",
        "    model = DecisionTreeClassifier(max_depth=depth, random_state=12345)\n",
        "    model.fit(features_train_down, target_train_down)\n",
        "    predicted_valid = model.predict(features_valid)\n",
        "    f1 = f1_score(target_valid, predicted_valid)\n",
        "    roc_score = roc_auc_score(target_valid, model.predict_proba(features_valid)[:, 1])\n",
        "    if f1 > best_f1_1:\n",
        "        best_f1_1 = f1\n",
        "        best_depth = depth\n",
        "        best_DT_1 = model\n",
        "        best_roc_auc_1 = roc_score\n",
        "\n",
        "print(f'DOWNSAMPLING Decision Tree: best F1-score {best_f1_1:.4f} | best_depth = {best_depth} \\\n",
        " | best ROC-AUC = {best_roc_auc_1:.4f}')"
      ]
    },
    {
      "cell_type": "markdown",
      "metadata": {
        "id": "PDLWJpkKLAhr"
      },
      "source": [
        "Метрика F1 по сравнению с методом upsampling улучшилась (с 0.58 до 0.59)"
      ]
    },
    {
      "cell_type": "code",
      "execution_count": null,
      "metadata": {
        "id": "BvTTK1wDLAhr"
      },
      "outputs": [],
      "source": [
        "model_list.append(('DOWNSAMPLING Decision Tree: ', best_f1_1, best_roc_auc_1))"
      ]
    },
    {
      "cell_type": "markdown",
      "metadata": {
        "id": "0Fflq7kzLAhr"
      },
      "source": [
        "#### Случайный лес (downsampling)"
      ]
    },
    {
      "cell_type": "code",
      "execution_count": null,
      "metadata": {
        "id": "2ndSeKF1LAhr",
        "outputId": "b84cbf35-16c8-4ac1-d75b-ec1b6e2124b6"
      },
      "outputs": [
        {
          "name": "stderr",
          "output_type": "stream",
          "text": [
            "100%|██████████| 20/20 [01:03<00:00,  3.16s/it]"
          ]
        },
        {
          "name": "stdout",
          "output_type": "stream",
          "text": [
            "DOWNSAMPLING Random Forrest: best F1-score 0.6395 | best_n_estimators = 26 | best_depth = 7 | best ROC-AUC = 0.8655\n"
          ]
        },
        {
          "name": "stderr",
          "output_type": "stream",
          "text": [
            "\n"
          ]
        }
      ],
      "source": [
        "best_f1_2 = 0\n",
        "best_RF_1 = None\n",
        "best_depth = 0\n",
        "best_n_est = 0\n",
        "best_roc_auc_2 = 0\n",
        "for n_est in tqdm(range(1, 101, 5)):\n",
        "    for depth in range(1,20,1):\n",
        "        model = RandomForestClassifier(n_estimators = n_est, max_depth=depth, random_state=12345)\n",
        "        model.fit(features_train_down, target_train_down)\n",
        "        predicted_valid = model.predict(features_valid)\n",
        "        f1 = f1_score(target_valid, predicted_valid)\n",
        "        roc_score = roc_auc_score(target_valid, model.predict_proba(features_valid)[:, 1])\n",
        "        if f1 > best_f1_2:\n",
        "            best_f1_2 = f1\n",
        "            best_depth = depth\n",
        "            best_n_est = n_est\n",
        "            best_RF_1 = model\n",
        "            best_roc_auc_2 = roc_score\n",
        "print(f'DOWNSAMPLING Random Forrest: best F1-score {best_f1_2:.4f} | best_n_estimators = {best_n_est} | \\\n",
        "best_depth = {best_depth} | best ROC-AUC = {best_roc_auc_2:.4f}')"
      ]
    },
    {
      "cell_type": "markdown",
      "metadata": {
        "id": "dLeNUntPLAhr"
      },
      "source": [
        "Метрика F1 немного ухудшилась по сравнению с методом upsampling (0.65 до 0.64)"
      ]
    },
    {
      "cell_type": "code",
      "execution_count": null,
      "metadata": {
        "id": "0BODCzgILAhr"
      },
      "outputs": [],
      "source": [
        "model_list.append(('DOWNSAMPLING Random Forrest: ', best_f1_2, best_roc_auc_2))"
      ]
    },
    {
      "cell_type": "markdown",
      "metadata": {
        "id": "14v2E038LAhr"
      },
      "source": [
        "#### Логистическая регрессия (downsampling)"
      ]
    },
    {
      "cell_type": "code",
      "execution_count": null,
      "metadata": {
        "id": "l57B3qcELAhs",
        "outputId": "2e744e5c-543c-4629-bf51-cb26d5664459"
      },
      "outputs": [
        {
          "name": "stdout",
          "output_type": "stream",
          "text": [
            "DOWNSAMPLING LR: best F1-score 0.5276 | best_iter = 100 | best ROC-AUC = 0.7926\n"
          ]
        }
      ],
      "source": [
        "best_iter = 0\n",
        "best_LR_1 = None\n",
        "best_f1_3 = 0\n",
        "best_roc_auc_3 = 0\n",
        "for i in range (100, 1001, 100):\n",
        "    model = LogisticRegression(random_state=12345, solver='liblinear', max_iter = i)\n",
        "    model.fit(features_train_down, target_train_down)\n",
        "    predicted_valid = model.predict(features_valid)\n",
        "    f1 = f1_score(target_valid, predicted_valid)\n",
        "    roc_score = roc_auc_score(target_valid, model.predict_proba(features_valid)[:, 1])\n",
        "    if f1 > best_f1_3:\n",
        "        best_f1_3 = f1\n",
        "        best_iter = i\n",
        "        best_LR_1 = model\n",
        "        best_roc_auc_3 = roc_score\n",
        "print(f'DOWNSAMPLING LR: best F1-score {best_f1_3:.4f} | \\\n",
        "best_iter = {best_iter} | best ROC-AUC = {best_roc_auc_3:.4f}')"
      ]
    },
    {
      "cell_type": "markdown",
      "metadata": {
        "id": "alOxwu0ILAhs"
      },
      "source": [
        "Метрика F1 практически не изменилась по сравнению с методом upsampling (0.52)"
      ]
    },
    {
      "cell_type": "code",
      "execution_count": null,
      "metadata": {
        "id": "d1zOGi6iLAhs"
      },
      "outputs": [],
      "source": [
        "model_list.append(('DOWNSAMPLING LogisticRegression: ', best_f1_3, best_roc_auc_3))"
      ]
    },
    {
      "cell_type": "markdown",
      "metadata": {
        "id": "uTwJCC84LAhs"
      },
      "source": [
        "## Тестирование модели"
      ]
    },
    {
      "cell_type": "markdown",
      "metadata": {
        "id": "XtBasWJtLAhs"
      },
      "source": [
        "Посмотрим на полученные метрики моделей и определим лучшую"
      ]
    },
    {
      "cell_type": "code",
      "execution_count": null,
      "metadata": {
        "scrolled": true,
        "id": "A9ezrdksLAhs",
        "outputId": "2ccc1ea3-0113-498c-f0bd-8a76520e0531"
      },
      "outputs": [
        {
          "data": {
            "text/html": [
              "<div>\n",
              "<style scoped>\n",
              "    .dataframe tbody tr th:only-of-type {\n",
              "        vertical-align: middle;\n",
              "    }\n",
              "\n",
              "    .dataframe tbody tr th {\n",
              "        vertical-align: top;\n",
              "    }\n",
              "\n",
              "    .dataframe thead th {\n",
              "        text-align: right;\n",
              "    }\n",
              "</style>\n",
              "<table border=\"1\" class=\"dataframe\">\n",
              "  <thead>\n",
              "    <tr style=\"text-align: right;\">\n",
              "      <th></th>\n",
              "      <th>Name</th>\n",
              "      <th>F1-score</th>\n",
              "      <th>AUC-ROC</th>\n",
              "    </tr>\n",
              "  </thead>\n",
              "  <tbody>\n",
              "    <tr>\n",
              "      <th>4</th>\n",
              "      <td>BALANCED Random Forrest:</td>\n",
              "      <td>0.656287</td>\n",
              "      <td>0.870118</td>\n",
              "    </tr>\n",
              "    <tr>\n",
              "      <th>7</th>\n",
              "      <td>UPSAMPLING Random Forrest:</td>\n",
              "      <td>0.649462</td>\n",
              "      <td>0.866251</td>\n",
              "    </tr>\n",
              "    <tr>\n",
              "      <th>10</th>\n",
              "      <td>DOWNSAMPLING Random Forrest:</td>\n",
              "      <td>0.639535</td>\n",
              "      <td>0.865464</td>\n",
              "    </tr>\n",
              "    <tr>\n",
              "      <th>1</th>\n",
              "      <td>DEFAULT Random Forrest:</td>\n",
              "      <td>0.623338</td>\n",
              "      <td>0.864327</td>\n",
              "    </tr>\n",
              "    <tr>\n",
              "      <th>9</th>\n",
              "      <td>DOWNSAMPLING Decision Tree:</td>\n",
              "      <td>0.594492</td>\n",
              "      <td>0.847777</td>\n",
              "    </tr>\n",
              "    <tr>\n",
              "      <th>0</th>\n",
              "      <td>DEFAULT DT:</td>\n",
              "      <td>0.592486</td>\n",
              "      <td>0.823039</td>\n",
              "    </tr>\n",
              "    <tr>\n",
              "      <th>3</th>\n",
              "      <td>BALANCED Decision Tree:</td>\n",
              "      <td>0.575926</td>\n",
              "      <td>0.823327</td>\n",
              "    </tr>\n",
              "    <tr>\n",
              "      <th>6</th>\n",
              "      <td>UPSAMPLING Decision Tree:</td>\n",
              "      <td>0.575926</td>\n",
              "      <td>0.823342</td>\n",
              "    </tr>\n",
              "    <tr>\n",
              "      <th>5</th>\n",
              "      <td>BALANCED LogisticRegression:</td>\n",
              "      <td>0.528998</td>\n",
              "      <td>0.793700</td>\n",
              "    </tr>\n",
              "    <tr>\n",
              "      <th>11</th>\n",
              "      <td>DOWNSAMPLING LogisticRegression:</td>\n",
              "      <td>0.527586</td>\n",
              "      <td>0.792603</td>\n",
              "    </tr>\n",
              "    <tr>\n",
              "      <th>8</th>\n",
              "      <td>UPSAMPLING LogisticRegression:</td>\n",
              "      <td>0.524675</td>\n",
              "      <td>0.793777</td>\n",
              "    </tr>\n",
              "    <tr>\n",
              "      <th>2</th>\n",
              "      <td>DEFAULT LogisticRegression:</td>\n",
              "      <td>0.307692</td>\n",
              "      <td>0.787505</td>\n",
              "    </tr>\n",
              "  </tbody>\n",
              "</table>\n",
              "</div>"
            ],
            "text/plain": [
              "                                 Name  F1-score   AUC-ROC\n",
              "4           BALANCED Random Forrest:   0.656287  0.870118\n",
              "7         UPSAMPLING Random Forrest:   0.649462  0.866251\n",
              "10      DOWNSAMPLING Random Forrest:   0.639535  0.865464\n",
              "1            DEFAULT Random Forrest:   0.623338  0.864327\n",
              "9        DOWNSAMPLING Decision Tree:   0.594492  0.847777\n",
              "0                        DEFAULT DT:   0.592486  0.823039\n",
              "3            BALANCED Decision Tree:   0.575926  0.823327\n",
              "6          UPSAMPLING Decision Tree:   0.575926  0.823342\n",
              "5       BALANCED LogisticRegression:   0.528998  0.793700\n",
              "11  DOWNSAMPLING LogisticRegression:   0.527586  0.792603\n",
              "8     UPSAMPLING LogisticRegression:   0.524675  0.793777\n",
              "2        DEFAULT LogisticRegression:   0.307692  0.787505"
            ]
          },
          "execution_count": 78,
          "metadata": {},
          "output_type": "execute_result"
        }
      ],
      "source": [
        "ml = pd.DataFrame(model_list)\n",
        "ml.columns = ('Name', 'F1-score', 'AUC-ROC')\n",
        "ml = ml.sort_values(by='F1-score', ascending=False)\n",
        "ml"
      ]
    },
    {
      "cell_type": "markdown",
      "metadata": {
        "id": "xGdn5qh-LAhs"
      },
      "source": [
        "Лучшей метрикой на валидационной выборке обладает Случайный лес (глубина дерева 10, количество деревьев 66) при использовании метода балансировки весов (class weight = 'balabced') для устранения дисбаланса"
      ]
    },
    {
      "cell_type": "markdown",
      "metadata": {
        "id": "CiJtMXF6LAhs"
      },
      "source": [
        "### Дообучение финальной модели"
      ]
    },
    {
      "cell_type": "markdown",
      "metadata": {
        "id": "SKZ1xPg9LAhs"
      },
      "source": [
        "Дообучим выбранную финальную модель на обучающей и валидационной выборках. Для этого объединим их, проведем upsampling и перемешивание"
      ]
    },
    {
      "cell_type": "code",
      "execution_count": null,
      "metadata": {
        "id": "Oi4phWvULAhs",
        "outputId": "9c3eca6b-d202-4ca7-8fc2-e23befb37b84"
      },
      "outputs": [
        {
          "name": "stdout",
          "output_type": "stream",
          "text": [
            "6000\n",
            "2000\n"
          ]
        }
      ],
      "source": [
        "print(features_train.shape[0])\n",
        "print(features_valid.shape[0])"
      ]
    },
    {
      "cell_type": "code",
      "execution_count": null,
      "metadata": {
        "id": "_N4Rt7HMLAhs",
        "outputId": "477d0766-0e90-4008-c881-4aa96a93ca99"
      },
      "outputs": [
        {
          "data": {
            "text/plain": [
              "8000"
            ]
          },
          "execution_count": 80,
          "metadata": {},
          "output_type": "execute_result"
        }
      ],
      "source": [
        "features_train_valid = pd.concat([features_train] + [features_valid])\n",
        "features_train_valid.shape[0]"
      ]
    },
    {
      "cell_type": "code",
      "execution_count": null,
      "metadata": {
        "id": "DBaX6X16LAhs",
        "outputId": "6520dadc-2fd2-4d7d-a3f0-d87466c82ce6"
      },
      "outputs": [
        {
          "data": {
            "text/plain": [
              "8000"
            ]
          },
          "execution_count": 81,
          "metadata": {},
          "output_type": "execute_result"
        }
      ],
      "source": [
        "target_train_valid = pd.concat([target_train] + [target_valid])\n",
        "target_train_valid.shape[0]"
      ]
    },
    {
      "cell_type": "markdown",
      "metadata": {
        "id": "j8EbsIq_LAhs"
      },
      "source": [
        "Объединение прошло успешно. Теперь обучим модель Случайный лес на объединенных данных"
      ]
    },
    {
      "cell_type": "code",
      "execution_count": null,
      "metadata": {
        "scrolled": true,
        "id": "fTpL6FQzLAht",
        "outputId": "65854ba1-88b7-4c7c-f56d-a66a2296f264"
      },
      "outputs": [
        {
          "name": "stdout",
          "output_type": "stream",
          "text": [
            "BALANCED Random Forrest: best F1-score 0.6079 | best ROC-AUC = 0.8556\n"
          ]
        }
      ],
      "source": [
        "final_model = RandomForestClassifier(n_estimators = 66,\n",
        "                               max_depth=10, \n",
        "                               random_state=12345,\n",
        "                               class_weight = 'balanced')\n",
        "final_model.fit(features_train_valid, target_train_valid)\n",
        "predicted_test = final_model.predict(features_test)\n",
        "f1 = f1_score(target_test, predicted_test)\n",
        "roc_score = roc_auc_score(target_test, final_model.predict_proba(features_test)[:, 1])\n",
        "\n",
        "print(f'BALANCED Random Forrest: best F1-score {f1:.4f} | best ROC-AUC = {roc_score:.4f}')"
      ]
    },
    {
      "cell_type": "markdown",
      "metadata": {
        "id": "CkxV_kSRLAht"
      },
      "source": [
        "На тестовой выборке лучшая модель показала результат F1 = 0.608, что выше требуемых в задании 0.59"
      ]
    },
    {
      "cell_type": "markdown",
      "metadata": {
        "id": "UsyFmmRNLAhw"
      },
      "source": [
        "### Построение ROC кривой"
      ]
    },
    {
      "cell_type": "markdown",
      "metadata": {
        "id": "lgmx4FM-LAhw"
      },
      "source": [
        "Построим ROC кривую для финальной модели"
      ]
    },
    {
      "cell_type": "code",
      "execution_count": null,
      "metadata": {
        "id": "OZ-GVvtKLAhw",
        "outputId": "4225c711-7e8b-4b52-bc64-72c1786a5ce9"
      },
      "outputs": [
        {
          "data": {
            "text/html": [
              "<div>\n",
              "<style scoped>\n",
              "    .dataframe tbody tr th:only-of-type {\n",
              "        vertical-align: middle;\n",
              "    }\n",
              "\n",
              "    .dataframe tbody tr th {\n",
              "        vertical-align: top;\n",
              "    }\n",
              "\n",
              "    .dataframe thead th {\n",
              "        text-align: right;\n",
              "    }\n",
              "</style>\n",
              "<table border=\"1\" class=\"dataframe\">\n",
              "  <thead>\n",
              "    <tr style=\"text-align: right;\">\n",
              "      <th></th>\n",
              "      <th>0</th>\n",
              "      <th>1</th>\n",
              "    </tr>\n",
              "  </thead>\n",
              "  <tbody>\n",
              "    <tr>\n",
              "      <th>0</th>\n",
              "      <td>0.571424</td>\n",
              "      <td>0.428576</td>\n",
              "    </tr>\n",
              "    <tr>\n",
              "      <th>1</th>\n",
              "      <td>0.777897</td>\n",
              "      <td>0.222103</td>\n",
              "    </tr>\n",
              "    <tr>\n",
              "      <th>2</th>\n",
              "      <td>0.288682</td>\n",
              "      <td>0.711318</td>\n",
              "    </tr>\n",
              "    <tr>\n",
              "      <th>3</th>\n",
              "      <td>0.765437</td>\n",
              "      <td>0.234563</td>\n",
              "    </tr>\n",
              "    <tr>\n",
              "      <th>4</th>\n",
              "      <td>0.076015</td>\n",
              "      <td>0.923985</td>\n",
              "    </tr>\n",
              "    <tr>\n",
              "      <th>...</th>\n",
              "      <td>...</td>\n",
              "      <td>...</td>\n",
              "    </tr>\n",
              "    <tr>\n",
              "      <th>1995</th>\n",
              "      <td>0.077604</td>\n",
              "      <td>0.922396</td>\n",
              "    </tr>\n",
              "    <tr>\n",
              "      <th>1996</th>\n",
              "      <td>0.926462</td>\n",
              "      <td>0.073538</td>\n",
              "    </tr>\n",
              "    <tr>\n",
              "      <th>1997</th>\n",
              "      <td>0.739009</td>\n",
              "      <td>0.260991</td>\n",
              "    </tr>\n",
              "    <tr>\n",
              "      <th>1998</th>\n",
              "      <td>0.927198</td>\n",
              "      <td>0.072802</td>\n",
              "    </tr>\n",
              "    <tr>\n",
              "      <th>1999</th>\n",
              "      <td>0.953969</td>\n",
              "      <td>0.046031</td>\n",
              "    </tr>\n",
              "  </tbody>\n",
              "</table>\n",
              "<p>2000 rows × 2 columns</p>\n",
              "</div>"
            ],
            "text/plain": [
              "             0         1\n",
              "0     0.571424  0.428576\n",
              "1     0.777897  0.222103\n",
              "2     0.288682  0.711318\n",
              "3     0.765437  0.234563\n",
              "4     0.076015  0.923985\n",
              "...        ...       ...\n",
              "1995  0.077604  0.922396\n",
              "1996  0.926462  0.073538\n",
              "1997  0.739009  0.260991\n",
              "1998  0.927198  0.072802\n",
              "1999  0.953969  0.046031\n",
              "\n",
              "[2000 rows x 2 columns]"
            ]
          },
          "execution_count": 86,
          "metadata": {},
          "output_type": "execute_result"
        }
      ],
      "source": [
        "probabilities_test = final_model.predict_proba(features_test)\n",
        "y = pd.DataFrame(probabilities_test)\n",
        "y"
      ]
    },
    {
      "cell_type": "code",
      "execution_count": null,
      "metadata": {
        "id": "liYtMTtLLAhw",
        "outputId": "f6a0229a-530c-48a5-ced7-b88a336346c1"
      },
      "outputs": [
        {
          "data": {
            "text/html": [
              "<div>\n",
              "<style scoped>\n",
              "    .dataframe tbody tr th:only-of-type {\n",
              "        vertical-align: middle;\n",
              "    }\n",
              "\n",
              "    .dataframe tbody tr th {\n",
              "        vertical-align: top;\n",
              "    }\n",
              "\n",
              "    .dataframe thead th {\n",
              "        text-align: right;\n",
              "    }\n",
              "</style>\n",
              "<table border=\"1\" class=\"dataframe\">\n",
              "  <thead>\n",
              "    <tr style=\"text-align: right;\">\n",
              "      <th></th>\n",
              "      <th>0</th>\n",
              "      <th>1</th>\n",
              "      <th>y_score</th>\n",
              "    </tr>\n",
              "  </thead>\n",
              "  <tbody>\n",
              "    <tr>\n",
              "      <th>0</th>\n",
              "      <td>0.571424</td>\n",
              "      <td>0.428576</td>\n",
              "      <td>0.428576</td>\n",
              "    </tr>\n",
              "    <tr>\n",
              "      <th>1</th>\n",
              "      <td>0.777897</td>\n",
              "      <td>0.222103</td>\n",
              "      <td>0.222103</td>\n",
              "    </tr>\n",
              "    <tr>\n",
              "      <th>2</th>\n",
              "      <td>0.288682</td>\n",
              "      <td>0.711318</td>\n",
              "      <td>0.711318</td>\n",
              "    </tr>\n",
              "    <tr>\n",
              "      <th>3</th>\n",
              "      <td>0.765437</td>\n",
              "      <td>0.234563</td>\n",
              "      <td>0.234563</td>\n",
              "    </tr>\n",
              "    <tr>\n",
              "      <th>4</th>\n",
              "      <td>0.076015</td>\n",
              "      <td>0.923985</td>\n",
              "      <td>0.923985</td>\n",
              "    </tr>\n",
              "    <tr>\n",
              "      <th>...</th>\n",
              "      <td>...</td>\n",
              "      <td>...</td>\n",
              "      <td>...</td>\n",
              "    </tr>\n",
              "    <tr>\n",
              "      <th>1995</th>\n",
              "      <td>0.077604</td>\n",
              "      <td>0.922396</td>\n",
              "      <td>0.922396</td>\n",
              "    </tr>\n",
              "    <tr>\n",
              "      <th>1996</th>\n",
              "      <td>0.926462</td>\n",
              "      <td>0.073538</td>\n",
              "      <td>0.073538</td>\n",
              "    </tr>\n",
              "    <tr>\n",
              "      <th>1997</th>\n",
              "      <td>0.739009</td>\n",
              "      <td>0.260991</td>\n",
              "      <td>0.260991</td>\n",
              "    </tr>\n",
              "    <tr>\n",
              "      <th>1998</th>\n",
              "      <td>0.927198</td>\n",
              "      <td>0.072802</td>\n",
              "      <td>0.072802</td>\n",
              "    </tr>\n",
              "    <tr>\n",
              "      <th>1999</th>\n",
              "      <td>0.953969</td>\n",
              "      <td>0.046031</td>\n",
              "      <td>0.046031</td>\n",
              "    </tr>\n",
              "  </tbody>\n",
              "</table>\n",
              "<p>2000 rows × 3 columns</p>\n",
              "</div>"
            ],
            "text/plain": [
              "             0         1   y_score\n",
              "0     0.571424  0.428576  0.428576\n",
              "1     0.777897  0.222103  0.222103\n",
              "2     0.288682  0.711318  0.711318\n",
              "3     0.765437  0.234563  0.234563\n",
              "4     0.076015  0.923985  0.923985\n",
              "...        ...       ...       ...\n",
              "1995  0.077604  0.922396  0.922396\n",
              "1996  0.926462  0.073538  0.073538\n",
              "1997  0.739009  0.260991  0.260991\n",
              "1998  0.927198  0.072802  0.072802\n",
              "1999  0.953969  0.046031  0.046031\n",
              "\n",
              "[2000 rows x 3 columns]"
            ]
          },
          "execution_count": 87,
          "metadata": {},
          "output_type": "execute_result"
        }
      ],
      "source": [
        "y_score = probabilities_test[:, 1]\n",
        "y['y_score'] = y_score\n",
        "y"
      ]
    },
    {
      "cell_type": "code",
      "execution_count": null,
      "metadata": {
        "scrolled": false,
        "id": "tuggSTovLAhw",
        "outputId": "d39d72e7-75c1-435c-8750-d640d20aa9f2"
      },
      "outputs": [
        {
          "data": {
            "image/png": "[encoded data removed]",
            "text/plain": [
              "<Figure size 432x288 with 1 Axes>"
            ]
          },
          "metadata": {
            "needs_background": "light"
          },
          "output_type": "display_data"
        }
      ],
      "source": [
        "fpr, tpr, thrs = roc_curve(target_test, y_score) \n",
        "plt.figure()\n",
        "plt.plot(fpr, tpr)\n",
        "plt.xlim([0.0, 1.0])\n",
        "plt.ylim([0.0, 1.0])\n",
        "plt.plot([0, 1], [0, 1], linestyle='--')\n",
        "plt.grid(True)\n",
        "plt.xlabel('False Positive Rate')\n",
        "plt.ylabel('True Positive Rate')\n",
        "plt.title('ROC-кривая')\n",
        "plt.show();"
      ]
    },
    {
      "cell_type": "code",
      "execution_count": null,
      "metadata": {
        "id": "Yzlu9lcsLAhw",
        "outputId": "2d7db0f5-f108-4775-9c69-6718a2c35b2d"
      },
      "outputs": [
        {
          "data": {
            "text/plain": [
              "0.8555597199664996"
            ]
          },
          "execution_count": 89,
          "metadata": {},
          "output_type": "execute_result"
        }
      ],
      "source": [
        "auc(fpr, tpr)"
      ]
    },
    {
      "cell_type": "markdown",
      "metadata": {
        "id": "C6Lb6zP6LAhx"
      },
      "source": [
        "Финальная модель обладает следующими характеристиками:\n",
        " - F1 = 0.608\n",
        " - AUC-ROC = 0.857, что говорит о высоком качестве модели (0.853 много больше 0.5 (случайная модель)"
      ]
    },
    {
      "cell_type": "markdown",
      "metadata": {
        "id": "ixGbpqpCLAhx"
      },
      "source": [
        "### Сравнение лучшей модели со случайной"
      ]
    },
    {
      "cell_type": "markdown",
      "metadata": {
        "id": "K5sHKgMwLAhx"
      },
      "source": [
        "Добавим сравнение по f1-мере с константной моделью, которая постоянно предсказывает 1.\n",
        "Также посмотрим recall (полноту) и прокомментируем, какую долю клиентов на отток модель верно детектирует.\n"
      ]
    },
    {
      "cell_type": "markdown",
      "metadata": {
        "id": "qXHnYRKNLAhx"
      },
      "source": [
        "Используем дамми-модель с константым предсказанием везде «1» (решили раздать бонусы вообще всем клиентам). Если в дамми-модели предсказываем по единице, можно подсчитать F1, она не будет зануляться."
      ]
    },
    {
      "cell_type": "code",
      "execution_count": null,
      "metadata": {
        "id": "FL7nRQzhLAhx"
      },
      "outputs": [],
      "source": [
        "model_1 = DummyClassifier(strategy=\"constant\", constant=1)\n",
        "model_1.fit(features_train_valid, target_train_valid)\n",
        "predicted_1 = model_1.predict(features_test)\n",
        "#predicted_1"
      ]
    },
    {
      "cell_type": "code",
      "execution_count": null,
      "metadata": {
        "scrolled": false,
        "id": "Nk7gOhGRLAhx",
        "outputId": "74813af3-7921-4a6f-91a4-6900f05c3d53"
      },
      "outputs": [
        {
          "name": "stdout",
          "output_type": "stream",
          "text": [
            "F1 score for constant 1 model = 0.3381803074366431\n",
            "F1 score for best final model = 0.6078665077473183\n"
          ]
        }
      ],
      "source": [
        "print(f'F1 score for constant 1 model = {f1_score(target_test, predicted_1)}')\n",
        "print(f'F1 score for best final model = {f1_score(target_test, final_model.predict(features_test))}')"
      ]
    },
    {
      "cell_type": "markdown",
      "metadata": {
        "id": "fpbL6VFfLAhx"
      },
      "source": [
        "Видим, что метрика F1 для нашей лучшей модели в 2 раза выше, чем для случайной константной модели (всем 1). Значит мы поработали не зря)) "
      ]
    },
    {
      "cell_type": "markdown",
      "metadata": {
        "id": "F6LkYqUTLAhx"
      },
      "source": [
        "Посмотрим метрику Recall. Перед этим построим матрицу ошибок"
      ]
    },
    {
      "cell_type": "code",
      "execution_count": null,
      "metadata": {
        "id": "NEr3PCY_LAhx",
        "outputId": "29eeb13b-7ed1-4f85-d19f-b0387acf6d55"
      },
      "outputs": [
        {
          "data": {
            "image/png": "[encoded data removed]",
            "text/plain": [
              "<Figure size 432x288 with 2 Axes>"
            ]
          },
          "metadata": {
            "needs_background": "light"
          },
          "output_type": "display_data"
        }
      ],
      "source": [
        "cm = confusion_matrix(target_test, final_model.predict(features_test))\n",
        "disp = ConfusionMatrixDisplay(confusion_matrix=cm, display_labels = final_model.classes_)\n",
        "\n",
        "disp.plot();"
      ]
    },
    {
      "cell_type": "code",
      "execution_count": null,
      "metadata": {
        "id": "Y-GDtmaeLAhx",
        "outputId": "c3c70582-e49d-42a7-e5be-b72a21dab468"
      },
      "outputs": [
        {
          "name": "stdout",
          "output_type": "stream",
          "text": [
            "Recall score for final model = 0.6265356265356266\n"
          ]
        }
      ],
      "source": [
        "recall_final_model = recall_score(target_test, final_model.predict(features_test))\n",
        "\n",
        "print(f'Recall score for final model = {recall_final_model}')"
      ]
    },
    {
      "cell_type": "markdown",
      "metadata": {
        "id": "jmAmuzeiLAhx"
      },
      "source": [
        "62.7% клиента от первоначальных (тех, кто ушел) модель классифицировала верно"
      ]
    },
    {
      "cell_type": "markdown",
      "metadata": {
        "id": "I7-AaTNVLAhx"
      },
      "source": [
        "Посмотрим на точность модели:"
      ]
    },
    {
      "cell_type": "code",
      "execution_count": null,
      "metadata": {
        "id": "2ad4WTC_LAhx",
        "outputId": "1d6a0519-f89e-4312-f5e3-8361c4b76333"
      },
      "outputs": [
        {
          "name": "stdout",
          "output_type": "stream",
          "text": [
            "Precision for final model = 0.5902777777777778\n"
          ]
        }
      ],
      "source": [
        "print(f'Precision for final model = {precision_score(target_test, final_model.predict(features_test))}')"
      ]
    },
    {
      "cell_type": "markdown",
      "metadata": {
        "id": "0xFtJ4YwLAhy"
      },
      "source": [
        "Точность определения (уйдет или не уйдет клиент) составила 59%"
      ]
    },
    {
      "cell_type": "markdown",
      "metadata": {
        "id": "akjrwyfkLAhy"
      },
      "source": [
        "### Выводы"
      ]
    },
    {
      "cell_type": "markdown",
      "metadata": {
        "id": "kOK2E3r_LAhy"
      },
      "source": [
        "В процессе работы было сделано:\n",
        "- предобработка данных: удалены лишние признаки и заполнены пропуски в столбце tenure медианным значением;\n",
        "- данные были разделены на 3 выборки: обучающую, валидационную и тестовую выборки с сохранением стратификации целевого признака;\n",
        "- категориальные признаки преобразовали в численные методом ОНЕ;\n",
        "- масштабирование численных признаков методом стандартизации;\n",
        "- обучены модели линейной регрессии, дерева решений и случайного леса с учетом дисбаланса классов и без учета дисбаланса;\n",
        "- выявлено, что при учете дисбаланса метрики моделей улучшаются. Лучшие результаты по метрике F1 score показала модель Случайный лес (даже без устранения дисбаланса эта модель показывала самые высокие относительно других моделей (дерева решений и логистической регрессии) результаты\n",
        "\n",
        "Было получено:\n",
        "- в качестве финальной модели для проверки на тестовой выборке была выбрана модель Случайный лес (глубина 10, количество деревьев 36). Её обучение провелось на обучающей и валидационных выборках\n",
        "- Метрики финальной модели на тестовой выборке:\n",
        "  - F1 score = 0.608 (выше требуемых в задании 0.59)\n",
        "  - AUC-ROC = 0.853 что говорит о высоком качестве модели (0.853 много больше 0.5 (случайная модель)\n",
        "  - Recall = 62.7% (клиентов от первоначальных (тех, кто ушел) модель классифицировала верно)\n",
        "  - Precision = 59%"
      ]
    }
  ],
  "metadata": {
    "ExecuteTimeLog": [
      {
        "duration": 375,
        "start_time": "2023-04-10T07:13:44.298Z"
      },
      {
        "duration": 80,
        "start_time": "2023-04-10T07:13:45.868Z"
      },
      {
        "duration": 48,
        "start_time": "2023-04-10T07:13:59.241Z"
      },
      {
        "duration": 11,
        "start_time": "2023-04-10T07:14:17.543Z"
      },
      {
        "duration": 43,
        "start_time": "2023-04-10T07:14:30.901Z"
      },
      {
        "duration": 4,
        "start_time": "2023-04-10T07:26:31.839Z"
      },
      {
        "duration": 70,
        "start_time": "2023-04-10T07:26:40.121Z"
      },
      {
        "duration": 18,
        "start_time": "2023-04-10T07:26:43.671Z"
      },
      {
        "duration": 10,
        "start_time": "2023-04-10T07:27:28.902Z"
      },
      {
        "duration": 390,
        "start_time": "2023-04-10T07:27:39.001Z"
      },
      {
        "duration": 50,
        "start_time": "2023-04-10T07:27:39.393Z"
      },
      {
        "duration": 11,
        "start_time": "2023-04-10T07:27:39.444Z"
      },
      {
        "duration": 38,
        "start_time": "2023-04-10T07:27:39.458Z"
      },
      {
        "duration": 59,
        "start_time": "2023-04-10T07:27:39.497Z"
      },
      {
        "duration": 13,
        "start_time": "2023-04-10T07:28:02.247Z"
      },
      {
        "duration": 10,
        "start_time": "2023-04-10T07:28:10.132Z"
      },
      {
        "duration": 365,
        "start_time": "2023-04-10T07:28:29.802Z"
      },
      {
        "duration": 50,
        "start_time": "2023-04-10T07:28:30.168Z"
      },
      {
        "duration": 11,
        "start_time": "2023-04-10T07:28:30.220Z"
      },
      {
        "duration": 63,
        "start_time": "2023-04-10T07:28:30.233Z"
      },
      {
        "duration": 11,
        "start_time": "2023-04-10T07:28:30.298Z"
      },
      {
        "duration": 1180,
        "start_time": "2023-04-10T07:31:01.443Z"
      },
      {
        "duration": 10,
        "start_time": "2023-04-10T07:31:16.401Z"
      },
      {
        "duration": 1264,
        "start_time": "2023-04-10T07:32:19.321Z"
      },
      {
        "duration": 12,
        "start_time": "2023-04-10T07:32:38.403Z"
      },
      {
        "duration": 12,
        "start_time": "2023-04-10T07:32:56.956Z"
      },
      {
        "duration": 1179,
        "start_time": "2023-04-10T07:34:31.506Z"
      },
      {
        "duration": 278,
        "start_time": "2023-04-10T07:35:06.720Z"
      },
      {
        "duration": 4,
        "start_time": "2023-04-10T07:38:10.550Z"
      },
      {
        "duration": 1298,
        "start_time": "2023-04-10T07:38:24.645Z"
      },
      {
        "duration": 4,
        "start_time": "2023-04-10T07:39:01.743Z"
      },
      {
        "duration": 4,
        "start_time": "2023-04-10T07:39:46.172Z"
      },
      {
        "duration": 7,
        "start_time": "2023-04-10T07:40:01.723Z"
      },
      {
        "duration": 4,
        "start_time": "2023-04-10T07:41:05.867Z"
      },
      {
        "duration": 11,
        "start_time": "2023-04-10T07:41:12.993Z"
      },
      {
        "duration": 10,
        "start_time": "2023-04-10T07:41:35.742Z"
      },
      {
        "duration": 10,
        "start_time": "2023-04-10T07:41:57.212Z"
      },
      {
        "duration": 393,
        "start_time": "2023-04-10T07:44:18.752Z"
      },
      {
        "duration": 47,
        "start_time": "2023-04-10T07:44:19.147Z"
      },
      {
        "duration": 11,
        "start_time": "2023-04-10T07:44:19.195Z"
      },
      {
        "duration": 37,
        "start_time": "2023-04-10T07:44:19.208Z"
      },
      {
        "duration": 12,
        "start_time": "2023-04-10T07:44:19.247Z"
      },
      {
        "duration": 6,
        "start_time": "2023-04-10T07:44:19.275Z"
      },
      {
        "duration": 7,
        "start_time": "2023-04-10T07:44:19.283Z"
      },
      {
        "duration": 354,
        "start_time": "2023-04-10T07:47:14.800Z"
      },
      {
        "duration": 50,
        "start_time": "2023-04-10T07:47:15.156Z"
      },
      {
        "duration": 11,
        "start_time": "2023-04-10T07:47:15.207Z"
      },
      {
        "duration": 35,
        "start_time": "2023-04-10T07:47:15.220Z"
      },
      {
        "duration": 56,
        "start_time": "2023-04-10T07:47:20.275Z"
      },
      {
        "duration": 4,
        "start_time": "2023-04-10T07:47:22.538Z"
      },
      {
        "duration": 4,
        "start_time": "2023-04-10T07:52:18.028Z"
      },
      {
        "duration": 14,
        "start_time": "2023-04-10T07:52:26.720Z"
      },
      {
        "duration": 4,
        "start_time": "2023-04-10T07:52:53.437Z"
      },
      {
        "duration": 13,
        "start_time": "2023-04-10T07:52:55.812Z"
      },
      {
        "duration": 345,
        "start_time": "2023-04-10T07:53:45.036Z"
      },
      {
        "duration": 48,
        "start_time": "2023-04-10T07:53:45.383Z"
      },
      {
        "duration": 11,
        "start_time": "2023-04-10T07:53:45.433Z"
      },
      {
        "duration": 41,
        "start_time": "2023-04-10T07:53:45.445Z"
      },
      {
        "duration": 4,
        "start_time": "2023-04-10T07:53:45.487Z"
      },
      {
        "duration": 5,
        "start_time": "2023-04-10T07:53:45.492Z"
      },
      {
        "duration": 14,
        "start_time": "2023-04-10T07:53:48.297Z"
      },
      {
        "duration": 9,
        "start_time": "2023-04-10T07:54:01.511Z"
      },
      {
        "duration": 6,
        "start_time": "2023-04-10T07:54:11.299Z"
      },
      {
        "duration": 345,
        "start_time": "2023-04-10T07:55:44.813Z"
      },
      {
        "duration": 49,
        "start_time": "2023-04-10T07:55:45.160Z"
      },
      {
        "duration": 11,
        "start_time": "2023-04-10T07:55:45.210Z"
      },
      {
        "duration": 56,
        "start_time": "2023-04-10T07:55:45.223Z"
      },
      {
        "duration": 4,
        "start_time": "2023-04-10T07:55:45.280Z"
      },
      {
        "duration": 7,
        "start_time": "2023-04-10T07:55:45.285Z"
      },
      {
        "duration": 34,
        "start_time": "2023-04-10T07:55:45.293Z"
      },
      {
        "duration": 12,
        "start_time": "2023-04-10T07:55:45.329Z"
      },
      {
        "duration": 5,
        "start_time": "2023-04-10T07:55:49.651Z"
      },
      {
        "duration": 149,
        "start_time": "2023-04-10T07:58:44.170Z"
      },
      {
        "duration": 5,
        "start_time": "2023-04-10T07:59:14.726Z"
      },
      {
        "duration": 5,
        "start_time": "2023-04-10T08:02:14.621Z"
      },
      {
        "duration": 8,
        "start_time": "2023-04-10T08:18:45.413Z"
      },
      {
        "duration": 28,
        "start_time": "2023-04-10T08:19:18.263Z"
      },
      {
        "duration": 6,
        "start_time": "2023-04-10T08:19:36.692Z"
      },
      {
        "duration": 12,
        "start_time": "2023-04-10T08:20:28.215Z"
      },
      {
        "duration": 5,
        "start_time": "2023-04-10T08:24:17.297Z"
      },
      {
        "duration": 5,
        "start_time": "2023-04-10T08:24:33.428Z"
      },
      {
        "duration": 4,
        "start_time": "2023-04-10T08:25:31.301Z"
      },
      {
        "duration": 5,
        "start_time": "2023-04-10T08:25:32.212Z"
      },
      {
        "duration": 12,
        "start_time": "2023-04-10T08:27:59.264Z"
      },
      {
        "duration": 4,
        "start_time": "2023-04-10T08:28:39.215Z"
      },
      {
        "duration": 69,
        "start_time": "2023-04-10T08:37:37.341Z"
      },
      {
        "duration": 346,
        "start_time": "2023-04-10T08:37:46.325Z"
      },
      {
        "duration": 58,
        "start_time": "2023-04-10T08:37:46.672Z"
      },
      {
        "duration": 11,
        "start_time": "2023-04-10T08:37:46.731Z"
      },
      {
        "duration": 47,
        "start_time": "2023-04-10T08:37:46.743Z"
      },
      {
        "duration": 4,
        "start_time": "2023-04-10T08:37:46.793Z"
      },
      {
        "duration": 6,
        "start_time": "2023-04-10T08:37:46.798Z"
      },
      {
        "duration": 16,
        "start_time": "2023-04-10T08:37:46.806Z"
      },
      {
        "duration": 6,
        "start_time": "2023-04-10T08:37:46.823Z"
      },
      {
        "duration": 10,
        "start_time": "2023-04-10T08:37:46.831Z"
      },
      {
        "duration": 8,
        "start_time": "2023-04-10T08:37:46.842Z"
      },
      {
        "duration": 38,
        "start_time": "2023-04-10T08:37:46.851Z"
      },
      {
        "duration": 4,
        "start_time": "2023-04-10T08:37:46.890Z"
      },
      {
        "duration": 9,
        "start_time": "2023-04-10T08:37:46.895Z"
      },
      {
        "duration": 3,
        "start_time": "2023-04-10T08:37:46.907Z"
      },
      {
        "duration": 1306,
        "start_time": "2023-04-10T08:37:46.911Z"
      },
      {
        "duration": 0,
        "start_time": "2023-04-10T08:37:48.219Z"
      },
      {
        "duration": 0,
        "start_time": "2023-04-10T08:37:48.220Z"
      },
      {
        "duration": 10,
        "start_time": "2023-04-10T08:41:05.552Z"
      },
      {
        "duration": 10,
        "start_time": "2023-04-10T08:42:28.063Z"
      },
      {
        "duration": 12,
        "start_time": "2023-04-10T08:42:43.302Z"
      },
      {
        "duration": 12,
        "start_time": "2023-04-10T08:42:54.397Z"
      },
      {
        "duration": 12,
        "start_time": "2023-04-10T08:42:57.306Z"
      },
      {
        "duration": 4,
        "start_time": "2023-04-10T08:43:22.634Z"
      },
      {
        "duration": 398,
        "start_time": "2023-04-10T08:45:16.670Z"
      },
      {
        "duration": 49,
        "start_time": "2023-04-10T08:45:17.070Z"
      },
      {
        "duration": 12,
        "start_time": "2023-04-10T08:45:17.121Z"
      },
      {
        "duration": 36,
        "start_time": "2023-04-10T08:45:17.135Z"
      },
      {
        "duration": 4,
        "start_time": "2023-04-10T08:45:17.174Z"
      },
      {
        "duration": 6,
        "start_time": "2023-04-10T08:45:17.179Z"
      },
      {
        "duration": 14,
        "start_time": "2023-04-10T08:45:17.187Z"
      },
      {
        "duration": 5,
        "start_time": "2023-04-10T08:45:17.202Z"
      },
      {
        "duration": 4,
        "start_time": "2023-04-10T08:45:17.209Z"
      },
      {
        "duration": 4,
        "start_time": "2023-04-10T08:45:17.215Z"
      },
      {
        "duration": 11,
        "start_time": "2023-04-10T08:45:17.220Z"
      },
      {
        "duration": 43,
        "start_time": "2023-04-10T08:45:17.232Z"
      },
      {
        "duration": 6,
        "start_time": "2023-04-10T08:45:17.277Z"
      },
      {
        "duration": 4,
        "start_time": "2023-04-10T08:45:17.284Z"
      },
      {
        "duration": 1412,
        "start_time": "2023-04-10T08:45:17.289Z"
      },
      {
        "duration": 0,
        "start_time": "2023-04-10T08:45:18.702Z"
      },
      {
        "duration": 0,
        "start_time": "2023-04-10T08:45:18.704Z"
      },
      {
        "duration": 12,
        "start_time": "2023-04-10T08:45:56.830Z"
      },
      {
        "duration": 633,
        "start_time": "2023-04-10T08:50:22.530Z"
      },
      {
        "duration": 10,
        "start_time": "2023-04-10T08:51:31.116Z"
      },
      {
        "duration": 1048,
        "start_time": "2023-04-11T08:05:42.383Z"
      },
      {
        "duration": 86,
        "start_time": "2023-04-11T08:05:43.434Z"
      },
      {
        "duration": 15,
        "start_time": "2023-04-11T08:05:43.522Z"
      },
      {
        "duration": 45,
        "start_time": "2023-04-11T08:05:43.538Z"
      },
      {
        "duration": 10,
        "start_time": "2023-04-11T08:05:43.586Z"
      },
      {
        "duration": 8,
        "start_time": "2023-04-11T08:05:43.597Z"
      },
      {
        "duration": 23,
        "start_time": "2023-04-11T08:05:43.606Z"
      },
      {
        "duration": 6,
        "start_time": "2023-04-11T08:05:46.929Z"
      },
      {
        "duration": 5,
        "start_time": "2023-04-11T08:05:51.830Z"
      },
      {
        "duration": 4,
        "start_time": "2023-04-11T08:06:00.829Z"
      },
      {
        "duration": 115969,
        "start_time": "2023-04-11T08:09:42.886Z"
      },
      {
        "duration": 12,
        "start_time": "2023-04-11T08:22:03.179Z"
      },
      {
        "duration": 15,
        "start_time": "2023-04-11T08:22:25.700Z"
      },
      {
        "duration": 15,
        "start_time": "2023-04-11T08:24:04.223Z"
      },
      {
        "duration": 152,
        "start_time": "2023-04-11T08:25:34.818Z"
      },
      {
        "duration": 146,
        "start_time": "2023-04-11T08:25:38.805Z"
      },
      {
        "duration": 102,
        "start_time": "2023-04-11T08:26:00.804Z"
      },
      {
        "duration": 118,
        "start_time": "2023-04-11T08:26:22.599Z"
      },
      {
        "duration": 24,
        "start_time": "2023-04-11T08:26:59.898Z"
      },
      {
        "duration": 132,
        "start_time": "2023-04-11T08:27:31.384Z"
      },
      {
        "duration": 8,
        "start_time": "2023-04-11T08:27:51.347Z"
      },
      {
        "duration": 327,
        "start_time": "2023-04-11T08:28:15.718Z"
      },
      {
        "duration": 13,
        "start_time": "2023-04-11T08:28:26.432Z"
      },
      {
        "duration": 138,
        "start_time": "2023-04-11T08:28:35.991Z"
      },
      {
        "duration": 6,
        "start_time": "2023-04-11T08:30:09.313Z"
      },
      {
        "duration": 17,
        "start_time": "2023-04-11T08:53:05.995Z"
      },
      {
        "duration": 4,
        "start_time": "2023-04-11T08:53:12.493Z"
      },
      {
        "duration": 6,
        "start_time": "2023-04-11T08:53:14.182Z"
      },
      {
        "duration": 3,
        "start_time": "2023-04-11T08:53:16.619Z"
      },
      {
        "duration": 1181,
        "start_time": "2023-04-11T08:53:19.878Z"
      },
      {
        "duration": 127,
        "start_time": "2023-04-11T08:53:39.930Z"
      },
      {
        "duration": 5,
        "start_time": "2023-04-11T08:53:42.182Z"
      },
      {
        "duration": 7,
        "start_time": "2023-04-11T08:53:44.105Z"
      },
      {
        "duration": 11,
        "start_time": "2023-04-11T08:53:48.754Z"
      },
      {
        "duration": 15,
        "start_time": "2023-04-11T08:53:52.285Z"
      },
      {
        "duration": 16,
        "start_time": "2023-04-11T08:54:04.797Z"
      },
      {
        "duration": 9,
        "start_time": "2023-04-11T08:56:30.520Z"
      },
      {
        "duration": 36,
        "start_time": "2023-04-11T09:04:13.581Z"
      },
      {
        "duration": 7,
        "start_time": "2023-04-11T09:04:42.885Z"
      },
      {
        "duration": 10,
        "start_time": "2023-04-11T09:07:35.769Z"
      },
      {
        "duration": 17,
        "start_time": "2023-04-11T09:07:45.809Z"
      },
      {
        "duration": 1077,
        "start_time": "2023-04-11T09:08:16.065Z"
      },
      {
        "duration": 60,
        "start_time": "2023-04-11T09:08:17.144Z"
      },
      {
        "duration": 18,
        "start_time": "2023-04-11T09:08:17.206Z"
      },
      {
        "duration": 47,
        "start_time": "2023-04-11T09:08:17.226Z"
      },
      {
        "duration": 20,
        "start_time": "2023-04-11T09:08:17.275Z"
      },
      {
        "duration": 7,
        "start_time": "2023-04-11T09:08:17.297Z"
      },
      {
        "duration": 34,
        "start_time": "2023-04-11T09:08:17.306Z"
      },
      {
        "duration": 23,
        "start_time": "2023-04-11T09:08:17.341Z"
      },
      {
        "duration": 14,
        "start_time": "2023-04-11T09:08:17.366Z"
      },
      {
        "duration": 8,
        "start_time": "2023-04-11T09:08:17.383Z"
      },
      {
        "duration": 31,
        "start_time": "2023-04-11T09:08:17.393Z"
      },
      {
        "duration": 402,
        "start_time": "2023-04-11T09:08:17.426Z"
      },
      {
        "duration": 5,
        "start_time": "2023-04-11T09:08:17.830Z"
      },
      {
        "duration": 46,
        "start_time": "2023-04-11T09:08:17.837Z"
      },
      {
        "duration": 28,
        "start_time": "2023-04-11T09:08:17.885Z"
      },
      {
        "duration": 19,
        "start_time": "2023-04-11T09:08:17.915Z"
      },
      {
        "duration": 25,
        "start_time": "2023-04-11T09:08:17.936Z"
      },
      {
        "duration": 46,
        "start_time": "2023-04-11T09:08:17.963Z"
      },
      {
        "duration": 137,
        "start_time": "2023-04-11T09:08:18.011Z"
      },
      {
        "duration": 5,
        "start_time": "2023-04-11T09:08:18.149Z"
      },
      {
        "duration": 48,
        "start_time": "2023-04-11T09:08:18.155Z"
      },
      {
        "duration": 40,
        "start_time": "2023-04-11T09:08:18.205Z"
      },
      {
        "duration": 32,
        "start_time": "2023-04-11T09:08:18.247Z"
      },
      {
        "duration": 21,
        "start_time": "2023-04-11T09:08:18.281Z"
      },
      {
        "duration": 111,
        "start_time": "2023-04-11T09:08:18.304Z"
      },
      {
        "duration": 0,
        "start_time": "2023-04-11T09:08:18.418Z"
      },
      {
        "duration": 24,
        "start_time": "2023-04-11T09:08:30.928Z"
      },
      {
        "duration": 60,
        "start_time": "2023-04-11T09:13:14.545Z"
      },
      {
        "duration": 12,
        "start_time": "2023-04-11T09:15:22.112Z"
      },
      {
        "duration": 4,
        "start_time": "2023-04-11T09:15:51.089Z"
      },
      {
        "duration": 7,
        "start_time": "2023-04-11T09:16:47.414Z"
      },
      {
        "duration": 4,
        "start_time": "2023-04-11T09:17:14.499Z"
      },
      {
        "duration": 4,
        "start_time": "2023-04-11T09:17:30.747Z"
      },
      {
        "duration": 10,
        "start_time": "2023-04-11T09:20:01.097Z"
      },
      {
        "duration": 6,
        "start_time": "2023-04-11T09:20:48.735Z"
      },
      {
        "duration": 5,
        "start_time": "2023-04-11T09:21:41.328Z"
      },
      {
        "duration": 5,
        "start_time": "2023-04-11T09:22:23.237Z"
      },
      {
        "duration": 11,
        "start_time": "2023-04-11T09:22:52.203Z"
      },
      {
        "duration": 5,
        "start_time": "2023-04-11T09:25:52.543Z"
      },
      {
        "duration": 5,
        "start_time": "2023-04-11T09:26:03.927Z"
      },
      {
        "duration": 6,
        "start_time": "2023-04-11T09:26:18.243Z"
      },
      {
        "duration": 5,
        "start_time": "2023-04-11T09:26:58.748Z"
      },
      {
        "duration": 12,
        "start_time": "2023-04-11T09:27:36.204Z"
      },
      {
        "duration": 8,
        "start_time": "2023-04-11T09:56:42.070Z"
      },
      {
        "duration": 85,
        "start_time": "2023-04-11T10:00:02.640Z"
      },
      {
        "duration": 30,
        "start_time": "2023-04-11T10:00:20.074Z"
      },
      {
        "duration": 3,
        "start_time": "2023-04-11T10:01:09.943Z"
      },
      {
        "duration": 19,
        "start_time": "2023-04-11T10:01:13.510Z"
      },
      {
        "duration": 3,
        "start_time": "2023-04-11T10:01:42.455Z"
      },
      {
        "duration": 21,
        "start_time": "2023-04-11T10:01:47.530Z"
      },
      {
        "duration": 167,
        "start_time": "2023-04-11T10:04:05.509Z"
      },
      {
        "duration": 1288,
        "start_time": "2023-04-11T10:04:28.067Z"
      },
      {
        "duration": 1283,
        "start_time": "2023-04-11T10:12:56.040Z"
      },
      {
        "duration": 101,
        "start_time": "2023-04-11T10:12:59.761Z"
      },
      {
        "duration": 11,
        "start_time": "2023-04-11T10:13:04.095Z"
      },
      {
        "duration": 3,
        "start_time": "2023-04-11T10:13:14.534Z"
      },
      {
        "duration": 18516,
        "start_time": "2023-04-11T10:18:42.654Z"
      },
      {
        "duration": 17613,
        "start_time": "2023-04-11T10:21:00.119Z"
      },
      {
        "duration": 93042,
        "start_time": "2023-04-11T10:22:40.078Z"
      },
      {
        "duration": 4,
        "start_time": "2023-04-11T10:25:04.941Z"
      },
      {
        "duration": 3,
        "start_time": "2023-04-11T10:27:03.223Z"
      },
      {
        "duration": 1194,
        "start_time": "2023-04-12T10:06:15.345Z"
      },
      {
        "duration": 101,
        "start_time": "2023-04-12T10:06:16.541Z"
      },
      {
        "duration": 17,
        "start_time": "2023-04-12T10:06:16.644Z"
      },
      {
        "duration": 45,
        "start_time": "2023-04-12T10:06:16.665Z"
      },
      {
        "duration": 3,
        "start_time": "2023-04-12T10:06:16.713Z"
      },
      {
        "duration": 19,
        "start_time": "2023-04-12T10:06:16.718Z"
      },
      {
        "duration": 15,
        "start_time": "2023-04-12T10:06:16.739Z"
      },
      {
        "duration": 15,
        "start_time": "2023-04-12T10:06:16.758Z"
      },
      {
        "duration": 8,
        "start_time": "2023-04-12T10:06:16.776Z"
      },
      {
        "duration": 17,
        "start_time": "2023-04-12T10:06:16.786Z"
      },
      {
        "duration": 28,
        "start_time": "2023-04-12T10:06:16.805Z"
      },
      {
        "duration": 639,
        "start_time": "2023-04-12T10:06:16.834Z"
      },
      {
        "duration": 6,
        "start_time": "2023-04-12T10:06:17.475Z"
      },
      {
        "duration": 17,
        "start_time": "2023-04-12T10:06:17.485Z"
      },
      {
        "duration": 4,
        "start_time": "2023-04-12T10:06:17.504Z"
      },
      {
        "duration": 9,
        "start_time": "2023-04-12T10:06:17.509Z"
      },
      {
        "duration": 14,
        "start_time": "2023-04-12T10:06:17.520Z"
      },
      {
        "duration": 8,
        "start_time": "2023-04-12T10:06:17.536Z"
      },
      {
        "duration": 164,
        "start_time": "2023-04-12T10:06:17.546Z"
      },
      {
        "duration": 5,
        "start_time": "2023-04-12T10:06:17.712Z"
      },
      {
        "duration": 9,
        "start_time": "2023-04-12T10:06:17.718Z"
      },
      {
        "duration": 11,
        "start_time": "2023-04-12T10:06:17.729Z"
      },
      {
        "duration": 28,
        "start_time": "2023-04-12T10:06:17.758Z"
      },
      {
        "duration": 11,
        "start_time": "2023-04-12T10:06:17.787Z"
      },
      {
        "duration": 28,
        "start_time": "2023-04-12T10:06:17.800Z"
      },
      {
        "duration": 20,
        "start_time": "2023-04-12T10:06:17.829Z"
      },
      {
        "duration": 10,
        "start_time": "2023-04-12T10:06:17.851Z"
      },
      {
        "duration": 34,
        "start_time": "2023-04-12T10:06:17.862Z"
      },
      {
        "duration": 29,
        "start_time": "2023-04-12T10:06:17.898Z"
      },
      {
        "duration": 17,
        "start_time": "2023-04-12T10:06:17.930Z"
      },
      {
        "duration": 6,
        "start_time": "2023-04-12T10:06:17.949Z"
      },
      {
        "duration": 26,
        "start_time": "2023-04-12T10:06:17.961Z"
      },
      {
        "duration": 9,
        "start_time": "2023-04-12T10:06:17.989Z"
      },
      {
        "duration": 35,
        "start_time": "2023-04-12T10:06:17.999Z"
      },
      {
        "duration": 10,
        "start_time": "2023-04-12T10:06:18.035Z"
      },
      {
        "duration": 27,
        "start_time": "2023-04-12T10:06:18.047Z"
      },
      {
        "duration": 16,
        "start_time": "2023-04-12T10:06:18.076Z"
      },
      {
        "duration": 1444,
        "start_time": "2023-04-12T10:06:18.094Z"
      },
      {
        "duration": 2,
        "start_time": "2023-04-12T10:06:19.540Z"
      },
      {
        "duration": 109923,
        "start_time": "2023-04-12T10:06:19.555Z"
      },
      {
        "duration": 4,
        "start_time": "2023-04-12T10:08:09.486Z"
      },
      {
        "duration": 137,
        "start_time": "2023-04-12T10:20:58.726Z"
      },
      {
        "duration": 3,
        "start_time": "2023-04-12T10:21:25.206Z"
      },
      {
        "duration": 18,
        "start_time": "2023-04-12T10:21:32.031Z"
      },
      {
        "duration": 3,
        "start_time": "2023-04-12T10:22:00.806Z"
      },
      {
        "duration": 1256,
        "start_time": "2023-04-12T10:22:06.334Z"
      },
      {
        "duration": 1269,
        "start_time": "2023-04-12T10:22:13.808Z"
      },
      {
        "duration": 33,
        "start_time": "2023-04-12T10:27:57.456Z"
      },
      {
        "duration": 1464,
        "start_time": "2023-04-12T10:29:19.256Z"
      },
      {
        "duration": 50,
        "start_time": "2023-04-12T10:29:20.722Z"
      },
      {
        "duration": 15,
        "start_time": "2023-04-12T10:29:20.774Z"
      },
      {
        "duration": 55,
        "start_time": "2023-04-12T10:29:20.791Z"
      },
      {
        "duration": 4,
        "start_time": "2023-04-12T10:29:20.848Z"
      },
      {
        "duration": 16,
        "start_time": "2023-04-12T10:29:20.856Z"
      },
      {
        "duration": 15,
        "start_time": "2023-04-12T10:29:20.874Z"
      },
      {
        "duration": 11,
        "start_time": "2023-04-12T10:29:20.891Z"
      },
      {
        "duration": 27,
        "start_time": "2023-04-12T10:29:20.904Z"
      },
      {
        "duration": 11,
        "start_time": "2023-04-12T10:29:20.935Z"
      },
      {
        "duration": 34,
        "start_time": "2023-04-12T10:29:20.948Z"
      },
      {
        "duration": 141,
        "start_time": "2023-04-12T10:29:20.983Z"
      },
      {
        "duration": 5,
        "start_time": "2023-04-12T10:29:21.126Z"
      },
      {
        "duration": 26,
        "start_time": "2023-04-12T10:29:21.133Z"
      },
      {
        "duration": 18,
        "start_time": "2023-04-12T10:29:21.161Z"
      },
      {
        "duration": 13,
        "start_time": "2023-04-12T10:29:21.181Z"
      },
      {
        "duration": 17,
        "start_time": "2023-04-12T10:29:21.196Z"
      },
      {
        "duration": 9,
        "start_time": "2023-04-12T10:29:21.215Z"
      },
      {
        "duration": 144,
        "start_time": "2023-04-12T10:29:21.226Z"
      },
      {
        "duration": 6,
        "start_time": "2023-04-12T10:29:21.371Z"
      },
      {
        "duration": 12,
        "start_time": "2023-04-12T10:29:21.379Z"
      },
      {
        "duration": 12,
        "start_time": "2023-04-12T10:29:21.392Z"
      },
      {
        "duration": 15,
        "start_time": "2023-04-12T10:29:21.405Z"
      },
      {
        "duration": 10,
        "start_time": "2023-04-12T10:29:21.422Z"
      },
      {
        "duration": 56,
        "start_time": "2023-04-12T10:29:21.433Z"
      },
      {
        "duration": 7,
        "start_time": "2023-04-12T10:29:21.491Z"
      },
      {
        "duration": 4,
        "start_time": "2023-04-12T10:29:21.500Z"
      },
      {
        "duration": 8,
        "start_time": "2023-04-12T10:29:21.507Z"
      },
      {
        "duration": 5,
        "start_time": "2023-04-12T10:29:21.517Z"
      },
      {
        "duration": 42,
        "start_time": "2023-04-12T10:29:21.524Z"
      },
      {
        "duration": 5,
        "start_time": "2023-04-12T10:29:21.569Z"
      },
      {
        "duration": 6,
        "start_time": "2023-04-12T10:29:21.575Z"
      },
      {
        "duration": 5,
        "start_time": "2023-04-12T10:29:21.582Z"
      },
      {
        "duration": 6,
        "start_time": "2023-04-12T10:29:21.589Z"
      },
      {
        "duration": 9,
        "start_time": "2023-04-12T10:29:21.596Z"
      },
      {
        "duration": 6,
        "start_time": "2023-04-12T10:29:21.607Z"
      },
      {
        "duration": 5,
        "start_time": "2023-04-12T10:29:21.615Z"
      },
      {
        "duration": 1419,
        "start_time": "2023-04-12T10:29:21.622Z"
      },
      {
        "duration": 3,
        "start_time": "2023-04-12T10:29:23.043Z"
      },
      {
        "duration": 1274,
        "start_time": "2023-04-12T10:29:23.056Z"
      },
      {
        "duration": 105958,
        "start_time": "2023-04-12T10:29:24.332Z"
      },
      {
        "duration": 3,
        "start_time": "2023-04-12T10:31:10.292Z"
      },
      {
        "duration": 69,
        "start_time": "2023-04-12T10:38:05.930Z"
      },
      {
        "duration": 76,
        "start_time": "2023-04-12T10:38:16.649Z"
      },
      {
        "duration": 103,
        "start_time": "2023-04-12T10:38:32.205Z"
      },
      {
        "duration": 72,
        "start_time": "2023-04-12T10:38:36.523Z"
      },
      {
        "duration": 1044,
        "start_time": "2023-04-12T10:38:42.318Z"
      },
      {
        "duration": 3,
        "start_time": "2023-04-12T10:43:06.518Z"
      },
      {
        "duration": 3,
        "start_time": "2023-04-12T10:47:09.160Z"
      },
      {
        "duration": 1619,
        "start_time": "2023-04-12T20:04:28.743Z"
      },
      {
        "duration": 110,
        "start_time": "2023-04-12T20:04:30.364Z"
      },
      {
        "duration": 14,
        "start_time": "2023-04-12T20:04:30.476Z"
      },
      {
        "duration": 83,
        "start_time": "2023-04-12T20:04:30.492Z"
      },
      {
        "duration": 6,
        "start_time": "2023-04-12T20:04:30.578Z"
      },
      {
        "duration": 63,
        "start_time": "2023-04-12T20:04:30.585Z"
      },
      {
        "duration": 43,
        "start_time": "2023-04-12T20:04:30.650Z"
      },
      {
        "duration": 34,
        "start_time": "2023-04-12T20:04:30.694Z"
      },
      {
        "duration": 53,
        "start_time": "2023-04-12T20:04:30.730Z"
      },
      {
        "duration": 45,
        "start_time": "2023-04-12T20:04:30.785Z"
      },
      {
        "duration": 22,
        "start_time": "2023-04-12T20:04:30.832Z"
      },
      {
        "duration": 158,
        "start_time": "2023-04-12T20:04:30.856Z"
      },
      {
        "duration": 17,
        "start_time": "2023-04-12T20:04:31.016Z"
      },
      {
        "duration": 35,
        "start_time": "2023-04-12T20:04:31.037Z"
      },
      {
        "duration": 24,
        "start_time": "2023-04-12T20:04:31.074Z"
      },
      {
        "duration": 49,
        "start_time": "2023-04-12T20:04:31.100Z"
      },
      {
        "duration": 32,
        "start_time": "2023-04-12T20:04:31.151Z"
      },
      {
        "duration": 48,
        "start_time": "2023-04-12T20:04:31.185Z"
      },
      {
        "duration": 181,
        "start_time": "2023-04-12T20:04:31.235Z"
      },
      {
        "duration": 5,
        "start_time": "2023-04-12T20:04:31.417Z"
      },
      {
        "duration": 4,
        "start_time": "2023-04-12T20:04:31.423Z"
      },
      {
        "duration": 11,
        "start_time": "2023-04-12T20:04:31.429Z"
      },
      {
        "duration": 31,
        "start_time": "2023-04-12T20:04:31.441Z"
      },
      {
        "duration": 57,
        "start_time": "2023-04-12T20:04:31.473Z"
      },
      {
        "duration": 55,
        "start_time": "2023-04-12T20:04:31.532Z"
      },
      {
        "duration": 25,
        "start_time": "2023-04-12T20:04:31.589Z"
      },
      {
        "duration": 22,
        "start_time": "2023-04-12T20:04:31.616Z"
      },
      {
        "duration": 15,
        "start_time": "2023-04-12T20:04:31.640Z"
      },
      {
        "duration": 39,
        "start_time": "2023-04-12T20:04:31.657Z"
      },
      {
        "duration": 36,
        "start_time": "2023-04-12T20:04:31.697Z"
      },
      {
        "duration": 15,
        "start_time": "2023-04-12T20:04:31.735Z"
      },
      {
        "duration": 25,
        "start_time": "2023-04-12T20:04:31.752Z"
      },
      {
        "duration": 14,
        "start_time": "2023-04-12T20:04:31.779Z"
      },
      {
        "duration": 37,
        "start_time": "2023-04-12T20:04:31.795Z"
      },
      {
        "duration": 8,
        "start_time": "2023-04-12T20:04:31.833Z"
      },
      {
        "duration": 28,
        "start_time": "2023-04-12T20:04:31.843Z"
      },
      {
        "duration": 15,
        "start_time": "2023-04-12T20:04:31.872Z"
      },
      {
        "duration": 1564,
        "start_time": "2023-04-12T20:04:31.888Z"
      },
      {
        "duration": 4,
        "start_time": "2023-04-12T20:04:33.454Z"
      },
      {
        "duration": 1596,
        "start_time": "2023-04-12T20:04:33.460Z"
      },
      {
        "duration": 114786,
        "start_time": "2023-04-12T20:04:35.062Z"
      },
      {
        "duration": 3,
        "start_time": "2023-04-12T20:06:29.851Z"
      },
      {
        "duration": 1080,
        "start_time": "2023-04-12T20:06:29.856Z"
      },
      {
        "duration": 8,
        "start_time": "2023-04-12T20:06:30.938Z"
      },
      {
        "duration": 11,
        "start_time": "2023-04-12T20:08:55.785Z"
      },
      {
        "duration": 5,
        "start_time": "2023-04-12T20:09:19.150Z"
      },
      {
        "duration": 4,
        "start_time": "2023-04-12T20:09:29.979Z"
      },
      {
        "duration": 1519,
        "start_time": "2023-04-12T20:20:30.460Z"
      },
      {
        "duration": 3,
        "start_time": "2023-04-12T20:21:24.906Z"
      },
      {
        "duration": 3,
        "start_time": "2023-04-12T20:21:38.379Z"
      },
      {
        "duration": 105611,
        "start_time": "2023-04-12T20:26:19.315Z"
      },
      {
        "duration": 3,
        "start_time": "2023-04-12T20:28:33.410Z"
      },
      {
        "duration": 1050,
        "start_time": "2023-04-12T20:31:30.177Z"
      },
      {
        "duration": 73,
        "start_time": "2023-04-12T20:32:32.605Z"
      },
      {
        "duration": 3,
        "start_time": "2023-04-12T20:33:07.367Z"
      },
      {
        "duration": 1384,
        "start_time": "2023-04-12T20:37:06.043Z"
      },
      {
        "duration": 52,
        "start_time": "2023-04-12T20:37:07.429Z"
      },
      {
        "duration": 13,
        "start_time": "2023-04-12T20:37:07.482Z"
      },
      {
        "duration": 44,
        "start_time": "2023-04-12T20:37:07.497Z"
      },
      {
        "duration": 4,
        "start_time": "2023-04-12T20:37:07.544Z"
      },
      {
        "duration": 6,
        "start_time": "2023-04-12T20:37:07.550Z"
      },
      {
        "duration": 17,
        "start_time": "2023-04-12T20:37:07.558Z"
      },
      {
        "duration": 10,
        "start_time": "2023-04-12T20:37:07.577Z"
      },
      {
        "duration": 31,
        "start_time": "2023-04-12T20:37:07.589Z"
      },
      {
        "duration": 6,
        "start_time": "2023-04-12T20:37:07.622Z"
      },
      {
        "duration": 28,
        "start_time": "2023-04-12T20:37:07.630Z"
      },
      {
        "duration": 149,
        "start_time": "2023-04-12T20:37:07.660Z"
      },
      {
        "duration": 9,
        "start_time": "2023-04-12T20:37:07.811Z"
      },
      {
        "duration": 12,
        "start_time": "2023-04-12T20:37:07.822Z"
      },
      {
        "duration": 8,
        "start_time": "2023-04-12T20:37:07.835Z"
      },
      {
        "duration": 10,
        "start_time": "2023-04-12T20:37:07.844Z"
      },
      {
        "duration": 6,
        "start_time": "2023-04-12T20:37:07.856Z"
      },
      {
        "duration": 9,
        "start_time": "2023-04-12T20:37:07.864Z"
      },
      {
        "duration": 280,
        "start_time": "2023-04-12T20:37:07.875Z"
      },
      {
        "duration": 6,
        "start_time": "2023-04-12T20:37:08.157Z"
      },
      {
        "duration": 14,
        "start_time": "2023-04-12T20:37:08.165Z"
      },
      {
        "duration": 31,
        "start_time": "2023-04-12T20:37:08.181Z"
      },
      {
        "duration": 17,
        "start_time": "2023-04-12T20:37:08.214Z"
      },
      {
        "duration": 14,
        "start_time": "2023-04-12T20:37:08.232Z"
      },
      {
        "duration": 27,
        "start_time": "2023-04-12T20:37:08.248Z"
      },
      {
        "duration": 8,
        "start_time": "2023-04-12T20:37:08.277Z"
      },
      {
        "duration": 4,
        "start_time": "2023-04-12T20:37:08.287Z"
      },
      {
        "duration": 29,
        "start_time": "2023-04-12T20:37:08.293Z"
      },
      {
        "duration": 11,
        "start_time": "2023-04-12T20:37:08.324Z"
      },
      {
        "duration": 6,
        "start_time": "2023-04-12T20:37:08.337Z"
      },
      {
        "duration": 14,
        "start_time": "2023-04-12T20:37:08.344Z"
      },
      {
        "duration": 18,
        "start_time": "2023-04-12T20:37:08.360Z"
      },
      {
        "duration": 10,
        "start_time": "2023-04-12T20:37:08.380Z"
      },
      {
        "duration": 6,
        "start_time": "2023-04-12T20:37:08.392Z"
      },
      {
        "duration": 20,
        "start_time": "2023-04-12T20:37:08.399Z"
      },
      {
        "duration": 5,
        "start_time": "2023-04-12T20:37:08.421Z"
      },
      {
        "duration": 7,
        "start_time": "2023-04-12T20:37:08.428Z"
      },
      {
        "duration": 1563,
        "start_time": "2023-04-12T20:37:08.436Z"
      },
      {
        "duration": 3,
        "start_time": "2023-04-12T20:37:10.001Z"
      },
      {
        "duration": 1231,
        "start_time": "2023-04-12T20:37:10.005Z"
      },
      {
        "duration": 105687,
        "start_time": "2023-04-12T20:37:11.239Z"
      },
      {
        "duration": 2,
        "start_time": "2023-04-12T20:38:56.928Z"
      },
      {
        "duration": 1092,
        "start_time": "2023-04-12T20:38:56.932Z"
      },
      {
        "duration": 95,
        "start_time": "2023-04-12T20:38:58.027Z"
      },
      {
        "duration": 94,
        "start_time": "2023-04-12T20:38:58.124Z"
      },
      {
        "duration": 1512,
        "start_time": "2023-04-12T20:38:58.220Z"
      },
      {
        "duration": 3,
        "start_time": "2023-04-12T20:38:59.733Z"
      },
      {
        "duration": 105388,
        "start_time": "2023-04-12T20:38:59.738Z"
      },
      {
        "duration": 3,
        "start_time": "2023-04-12T20:40:45.127Z"
      },
      {
        "duration": 1091,
        "start_time": "2023-04-12T20:40:45.131Z"
      },
      {
        "duration": 96,
        "start_time": "2023-04-12T20:40:46.224Z"
      },
      {
        "duration": 1408,
        "start_time": "2023-04-13T05:16:08.263Z"
      },
      {
        "duration": 89,
        "start_time": "2023-04-13T05:16:09.673Z"
      },
      {
        "duration": 11,
        "start_time": "2023-04-13T05:16:09.764Z"
      },
      {
        "duration": 35,
        "start_time": "2023-04-13T05:16:09.777Z"
      },
      {
        "duration": 4,
        "start_time": "2023-04-13T05:16:09.813Z"
      },
      {
        "duration": 3,
        "start_time": "2023-04-13T05:16:09.819Z"
      },
      {
        "duration": 13,
        "start_time": "2023-04-13T05:16:09.823Z"
      },
      {
        "duration": 5,
        "start_time": "2023-04-13T05:16:09.837Z"
      },
      {
        "duration": 6,
        "start_time": "2023-04-13T05:16:09.843Z"
      },
      {
        "duration": 4,
        "start_time": "2023-04-13T05:16:09.851Z"
      },
      {
        "duration": 40,
        "start_time": "2023-04-13T05:16:09.856Z"
      },
      {
        "duration": 132,
        "start_time": "2023-04-13T05:16:09.898Z"
      },
      {
        "duration": 4,
        "start_time": "2023-04-13T05:16:10.032Z"
      },
      {
        "duration": 13,
        "start_time": "2023-04-13T05:16:10.037Z"
      },
      {
        "duration": 7,
        "start_time": "2023-04-13T05:16:10.052Z"
      },
      {
        "duration": 6,
        "start_time": "2023-04-13T05:16:10.061Z"
      },
      {
        "duration": 5,
        "start_time": "2023-04-13T05:16:10.069Z"
      },
      {
        "duration": 19,
        "start_time": "2023-04-13T05:16:10.079Z"
      },
      {
        "duration": 125,
        "start_time": "2023-04-13T05:16:10.100Z"
      },
      {
        "duration": 5,
        "start_time": "2023-04-13T05:16:10.227Z"
      },
      {
        "duration": 6,
        "start_time": "2023-04-13T05:16:10.234Z"
      },
      {
        "duration": 11,
        "start_time": "2023-04-13T05:16:10.241Z"
      },
      {
        "duration": 14,
        "start_time": "2023-04-13T05:16:10.253Z"
      },
      {
        "duration": 34,
        "start_time": "2023-04-13T05:16:10.268Z"
      },
      {
        "duration": 27,
        "start_time": "2023-04-13T05:16:10.304Z"
      },
      {
        "duration": 7,
        "start_time": "2023-04-13T05:16:10.332Z"
      },
      {
        "duration": 6,
        "start_time": "2023-04-13T05:16:10.340Z"
      },
      {
        "duration": 9,
        "start_time": "2023-04-13T05:16:10.349Z"
      },
      {
        "duration": 36,
        "start_time": "2023-04-13T05:16:10.359Z"
      },
      {
        "duration": 5,
        "start_time": "2023-04-13T05:16:10.397Z"
      },
      {
        "duration": 9,
        "start_time": "2023-04-13T05:16:10.404Z"
      },
      {
        "duration": 14,
        "start_time": "2023-04-13T05:16:10.415Z"
      },
      {
        "duration": 10,
        "start_time": "2023-04-13T05:16:10.430Z"
      },
      {
        "duration": 56,
        "start_time": "2023-04-13T05:16:10.441Z"
      },
      {
        "duration": 5,
        "start_time": "2023-04-13T05:16:10.498Z"
      },
      {
        "duration": 7,
        "start_time": "2023-04-13T05:16:10.505Z"
      },
      {
        "duration": 13,
        "start_time": "2023-04-13T05:16:10.514Z"
      },
      {
        "duration": 1957,
        "start_time": "2023-04-13T05:16:10.528Z"
      },
      {
        "duration": 2,
        "start_time": "2023-04-13T05:16:12.494Z"
      },
      {
        "duration": 982,
        "start_time": "2023-04-13T05:16:12.498Z"
      },
      {
        "duration": 89299,
        "start_time": "2023-04-13T05:16:13.481Z"
      },
      {
        "duration": 3,
        "start_time": "2023-04-13T05:17:42.782Z"
      },
      {
        "duration": 1199,
        "start_time": "2023-04-13T05:17:42.795Z"
      },
      {
        "duration": 3,
        "start_time": "2023-04-13T05:17:43.997Z"
      },
      {
        "duration": 7,
        "start_time": "2023-04-13T05:17:44.002Z"
      },
      {
        "duration": 1394,
        "start_time": "2023-04-13T05:17:44.011Z"
      },
      {
        "duration": 3,
        "start_time": "2023-04-13T05:17:45.407Z"
      },
      {
        "duration": 89892,
        "start_time": "2023-04-13T05:17:45.412Z"
      },
      {
        "duration": 3,
        "start_time": "2023-04-13T05:19:15.305Z"
      },
      {
        "duration": 999,
        "start_time": "2023-04-13T05:19:15.309Z"
      },
      {
        "duration": 3,
        "start_time": "2023-04-13T05:19:16.395Z"
      },
      {
        "duration": 3,
        "start_time": "2023-04-13T05:37:47.354Z"
      },
      {
        "duration": 6,
        "start_time": "2023-04-13T05:39:24.168Z"
      },
      {
        "duration": 4237,
        "start_time": "2023-04-13T05:48:45.916Z"
      },
      {
        "duration": 5929,
        "start_time": "2023-04-13T05:49:21.769Z"
      },
      {
        "duration": 13246,
        "start_time": "2023-04-13T05:50:01.078Z"
      },
      {
        "duration": 1665,
        "start_time": "2023-04-13T05:56:47.978Z"
      },
      {
        "duration": 14,
        "start_time": "2023-04-13T06:01:08.536Z"
      },
      {
        "duration": 1502,
        "start_time": "2023-04-13T06:01:11.246Z"
      },
      {
        "duration": 121153,
        "start_time": "2023-04-13T06:05:05.065Z"
      },
      {
        "duration": 2,
        "start_time": "2023-04-13T06:07:06.220Z"
      },
      {
        "duration": 2,
        "start_time": "2023-04-13T06:08:36.831Z"
      },
      {
        "duration": 1246,
        "start_time": "2023-04-13T06:10:48.054Z"
      },
      {
        "duration": 3,
        "start_time": "2023-04-13T06:12:08.686Z"
      },
      {
        "duration": 4,
        "start_time": "2023-04-13T06:18:16.711Z"
      },
      {
        "duration": 12,
        "start_time": "2023-04-13T06:21:55.958Z"
      },
      {
        "duration": 586,
        "start_time": "2023-04-13T06:24:52.882Z"
      },
      {
        "duration": 3,
        "start_time": "2023-04-13T06:27:07.644Z"
      },
      {
        "duration": 1665,
        "start_time": "2023-04-13T19:26:43.513Z"
      },
      {
        "duration": 184,
        "start_time": "2023-04-13T19:26:45.180Z"
      },
      {
        "duration": 16,
        "start_time": "2023-04-13T19:26:45.371Z"
      },
      {
        "duration": 105,
        "start_time": "2023-04-13T19:26:45.390Z"
      },
      {
        "duration": 4,
        "start_time": "2023-04-13T19:26:45.497Z"
      },
      {
        "duration": 6,
        "start_time": "2023-04-13T19:26:45.503Z"
      },
      {
        "duration": 72,
        "start_time": "2023-04-13T19:26:45.511Z"
      },
      {
        "duration": 9,
        "start_time": "2023-04-13T19:26:45.584Z"
      },
      {
        "duration": 11,
        "start_time": "2023-04-13T19:26:45.594Z"
      },
      {
        "duration": 6,
        "start_time": "2023-04-13T19:26:45.608Z"
      },
      {
        "duration": 72,
        "start_time": "2023-04-13T19:26:45.615Z"
      },
      {
        "duration": 299,
        "start_time": "2023-04-13T19:26:45.688Z"
      },
      {
        "duration": 6,
        "start_time": "2023-04-13T19:26:45.988Z"
      },
      {
        "duration": 15,
        "start_time": "2023-04-13T19:26:45.996Z"
      },
      {
        "duration": 61,
        "start_time": "2023-04-13T19:26:46.012Z"
      },
      {
        "duration": 18,
        "start_time": "2023-04-13T19:26:46.075Z"
      },
      {
        "duration": 9,
        "start_time": "2023-04-13T19:26:46.095Z"
      },
      {
        "duration": 9,
        "start_time": "2023-04-13T19:26:46.105Z"
      },
      {
        "duration": 398,
        "start_time": "2023-04-13T19:26:46.116Z"
      },
      {
        "duration": 57,
        "start_time": "2023-04-13T19:26:46.516Z"
      },
      {
        "duration": 30,
        "start_time": "2023-04-13T19:26:46.575Z"
      },
      {
        "duration": 16,
        "start_time": "2023-04-13T19:26:46.607Z"
      },
      {
        "duration": 56,
        "start_time": "2023-04-13T19:26:46.625Z"
      },
      {
        "duration": 13,
        "start_time": "2023-04-13T19:26:46.683Z"
      },
      {
        "duration": 85,
        "start_time": "2023-04-13T19:26:46.698Z"
      },
      {
        "duration": 10,
        "start_time": "2023-04-13T19:26:46.785Z"
      },
      {
        "duration": 5,
        "start_time": "2023-04-13T19:26:46.797Z"
      },
      {
        "duration": 65,
        "start_time": "2023-04-13T19:26:46.807Z"
      },
      {
        "duration": 8,
        "start_time": "2023-04-13T19:26:46.874Z"
      },
      {
        "duration": 10,
        "start_time": "2023-04-13T19:26:46.888Z"
      },
      {
        "duration": 7,
        "start_time": "2023-04-13T19:26:46.900Z"
      },
      {
        "duration": 9,
        "start_time": "2023-04-13T19:26:46.908Z"
      },
      {
        "duration": 5,
        "start_time": "2023-04-13T19:26:46.971Z"
      },
      {
        "duration": 21,
        "start_time": "2023-04-13T19:26:46.978Z"
      },
      {
        "duration": 6,
        "start_time": "2023-04-13T19:26:47.001Z"
      },
      {
        "duration": 7,
        "start_time": "2023-04-13T19:26:47.008Z"
      },
      {
        "duration": 7,
        "start_time": "2023-04-13T19:26:47.017Z"
      },
      {
        "duration": 1706,
        "start_time": "2023-04-13T19:26:47.025Z"
      },
      {
        "duration": 3,
        "start_time": "2023-04-13T19:26:48.733Z"
      },
      {
        "duration": 1097,
        "start_time": "2023-04-13T19:26:48.738Z"
      },
      {
        "duration": 115724,
        "start_time": "2023-04-13T19:26:49.836Z"
      },
      {
        "duration": 4,
        "start_time": "2023-04-13T19:28:45.561Z"
      },
      {
        "duration": 1110,
        "start_time": "2023-04-13T19:28:45.577Z"
      },
      {
        "duration": 9,
        "start_time": "2023-04-13T19:28:46.701Z"
      },
      {
        "duration": 70,
        "start_time": "2023-04-13T19:28:46.722Z"
      },
      {
        "duration": 1856,
        "start_time": "2023-04-13T19:28:46.800Z"
      },
      {
        "duration": 3,
        "start_time": "2023-04-13T19:28:48.658Z"
      },
      {
        "duration": 109270,
        "start_time": "2023-04-13T19:28:48.685Z"
      },
      {
        "duration": 2,
        "start_time": "2023-04-13T19:30:37.957Z"
      },
      {
        "duration": 1115,
        "start_time": "2023-04-13T19:30:37.961Z"
      },
      {
        "duration": 7,
        "start_time": "2023-04-13T19:30:39.083Z"
      },
      {
        "duration": 108,
        "start_time": "2023-04-13T19:30:39.097Z"
      },
      {
        "duration": 17,
        "start_time": "2023-04-13T19:30:39.207Z"
      },
      {
        "duration": 1944,
        "start_time": "2023-04-13T19:30:39.226Z"
      },
      {
        "duration": 3,
        "start_time": "2023-04-13T19:30:41.178Z"
      },
      {
        "duration": 150267,
        "start_time": "2023-04-13T19:30:41.182Z"
      },
      {
        "duration": 3,
        "start_time": "2023-04-13T19:33:11.451Z"
      },
      {
        "duration": 1444,
        "start_time": "2023-04-13T19:33:11.455Z"
      },
      {
        "duration": 12,
        "start_time": "2023-04-13T19:33:12.901Z"
      },
      {
        "duration": 65,
        "start_time": "2023-04-13T19:33:12.916Z"
      },
      {
        "duration": 47,
        "start_time": "2023-04-13T19:33:12.983Z"
      },
      {
        "duration": 728,
        "start_time": "2023-04-13T19:33:13.031Z"
      },
      {
        "duration": 2,
        "start_time": "2023-04-13T19:33:13.761Z"
      },
      {
        "duration": 51786,
        "start_time": "2023-04-13T19:45:01.673Z"
      },
      {
        "duration": 3,
        "start_time": "2023-04-13T19:47:33.305Z"
      },
      {
        "duration": 80,
        "start_time": "2023-04-13T19:47:38.113Z"
      },
      {
        "duration": 3,
        "start_time": "2023-04-13T19:48:22.773Z"
      },
      {
        "duration": 3,
        "start_time": "2023-04-13T19:51:08.820Z"
      },
      {
        "duration": 8,
        "start_time": "2023-04-13T19:51:13.669Z"
      },
      {
        "duration": 3,
        "start_time": "2023-04-13T19:51:58.701Z"
      },
      {
        "duration": 10,
        "start_time": "2023-04-13T19:52:02.623Z"
      },
      {
        "duration": 11,
        "start_time": "2023-04-13T19:52:46.970Z"
      },
      {
        "duration": 7,
        "start_time": "2023-04-13T19:52:49.596Z"
      },
      {
        "duration": 5,
        "start_time": "2023-04-13T19:53:02.842Z"
      },
      {
        "duration": 19,
        "start_time": "2023-04-13T19:53:04.668Z"
      },
      {
        "duration": 10,
        "start_time": "2023-04-13T19:53:21.013Z"
      },
      {
        "duration": 4,
        "start_time": "2023-04-13T20:00:35.169Z"
      },
      {
        "duration": 3,
        "start_time": "2023-04-13T20:00:48.201Z"
      },
      {
        "duration": 19,
        "start_time": "2023-04-13T20:01:06.316Z"
      },
      {
        "duration": 19,
        "start_time": "2023-04-13T20:01:09.243Z"
      },
      {
        "duration": 20,
        "start_time": "2023-04-13T20:01:21.032Z"
      },
      {
        "duration": 105,
        "start_time": "2023-04-13T20:01:56.819Z"
      },
      {
        "duration": 4,
        "start_time": "2023-04-13T20:02:27.089Z"
      },
      {
        "duration": 18,
        "start_time": "2023-04-13T20:04:39.729Z"
      },
      {
        "duration": 11,
        "start_time": "2023-04-13T20:07:06.692Z"
      },
      {
        "duration": 9,
        "start_time": "2023-04-13T20:07:13.320Z"
      },
      {
        "duration": 11,
        "start_time": "2023-04-13T20:07:17.421Z"
      },
      {
        "duration": 4,
        "start_time": "2023-04-13T20:07:19.027Z"
      },
      {
        "duration": 11,
        "start_time": "2023-04-13T20:07:23.028Z"
      },
      {
        "duration": 10,
        "start_time": "2023-04-13T20:07:24.691Z"
      },
      {
        "duration": 6,
        "start_time": "2023-04-13T20:08:54.079Z"
      },
      {
        "duration": 4,
        "start_time": "2023-04-13T20:09:09.978Z"
      },
      {
        "duration": 14,
        "start_time": "2023-04-13T20:09:12.992Z"
      },
      {
        "duration": 166,
        "start_time": "2023-04-13T20:12:50.321Z"
      },
      {
        "duration": 14,
        "start_time": "2023-04-13T20:15:28.497Z"
      },
      {
        "duration": 13,
        "start_time": "2023-04-13T20:16:20.790Z"
      },
      {
        "duration": 180,
        "start_time": "2023-04-13T20:16:22.532Z"
      },
      {
        "duration": 3,
        "start_time": "2023-04-13T20:17:17.906Z"
      },
      {
        "duration": 3,
        "start_time": "2023-04-13T20:17:47.302Z"
      },
      {
        "duration": 4,
        "start_time": "2023-04-13T20:18:12.088Z"
      },
      {
        "duration": 185,
        "start_time": "2023-04-13T20:18:37.346Z"
      },
      {
        "duration": 186,
        "start_time": "2023-04-13T20:19:03.191Z"
      },
      {
        "duration": 1201,
        "start_time": "2023-04-13T20:24:41.437Z"
      },
      {
        "duration": 56,
        "start_time": "2023-04-13T20:24:42.639Z"
      },
      {
        "duration": 11,
        "start_time": "2023-04-13T20:24:42.697Z"
      },
      {
        "duration": 39,
        "start_time": "2023-04-13T20:24:42.710Z"
      },
      {
        "duration": 3,
        "start_time": "2023-04-13T20:24:42.750Z"
      },
      {
        "duration": 18,
        "start_time": "2023-04-13T20:24:42.754Z"
      },
      {
        "duration": 16,
        "start_time": "2023-04-13T20:24:42.773Z"
      },
      {
        "duration": 9,
        "start_time": "2023-04-13T20:24:42.790Z"
      },
      {
        "duration": 11,
        "start_time": "2023-04-13T20:24:42.801Z"
      },
      {
        "duration": 11,
        "start_time": "2023-04-13T20:24:42.814Z"
      },
      {
        "duration": 16,
        "start_time": "2023-04-13T20:24:42.827Z"
      },
      {
        "duration": 140,
        "start_time": "2023-04-13T20:24:42.844Z"
      },
      {
        "duration": 5,
        "start_time": "2023-04-13T20:24:42.986Z"
      },
      {
        "duration": 14,
        "start_time": "2023-04-13T20:24:42.992Z"
      },
      {
        "duration": 3,
        "start_time": "2023-04-13T20:24:43.007Z"
      },
      {
        "duration": 7,
        "start_time": "2023-04-13T20:24:43.011Z"
      },
      {
        "duration": 4,
        "start_time": "2023-04-13T20:24:43.019Z"
      },
      {
        "duration": 143,
        "start_time": "2023-04-13T20:24:43.025Z"
      },
      {
        "duration": 9,
        "start_time": "2023-04-13T20:24:43.169Z"
      },
      {
        "duration": 17,
        "start_time": "2023-04-13T20:24:43.179Z"
      },
      {
        "duration": 12,
        "start_time": "2023-04-13T20:24:43.198Z"
      },
      {
        "duration": 13,
        "start_time": "2023-04-13T20:24:43.211Z"
      },
      {
        "duration": 9,
        "start_time": "2023-04-13T20:24:43.225Z"
      },
      {
        "duration": 23,
        "start_time": "2023-04-13T20:24:43.235Z"
      },
      {
        "duration": 19,
        "start_time": "2023-04-13T20:24:43.259Z"
      },
      {
        "duration": 14,
        "start_time": "2023-04-13T20:24:43.279Z"
      },
      {
        "duration": 6,
        "start_time": "2023-04-13T20:24:43.294Z"
      },
      {
        "duration": 4,
        "start_time": "2023-04-13T20:24:43.304Z"
      },
      {
        "duration": 9,
        "start_time": "2023-04-13T20:24:43.309Z"
      },
      {
        "duration": 4,
        "start_time": "2023-04-13T20:24:43.320Z"
      },
      {
        "duration": 7,
        "start_time": "2023-04-13T20:24:43.325Z"
      },
      {
        "duration": 4,
        "start_time": "2023-04-13T20:24:43.333Z"
      },
      {
        "duration": 8,
        "start_time": "2023-04-13T20:24:43.339Z"
      },
      {
        "duration": 38,
        "start_time": "2023-04-13T20:24:43.349Z"
      },
      {
        "duration": 7,
        "start_time": "2023-04-13T20:24:43.389Z"
      },
      {
        "duration": 8,
        "start_time": "2023-04-13T20:24:43.397Z"
      },
      {
        "duration": 1445,
        "start_time": "2023-04-13T20:24:43.407Z"
      },
      {
        "duration": 2,
        "start_time": "2023-04-13T20:24:44.854Z"
      },
      {
        "duration": 1049,
        "start_time": "2023-04-13T20:24:44.858Z"
      },
      {
        "duration": 1293,
        "start_time": "2023-04-13T20:25:42.509Z"
      },
      {
        "duration": 49,
        "start_time": "2023-04-13T20:25:43.804Z"
      },
      {
        "duration": 10,
        "start_time": "2023-04-13T20:25:43.854Z"
      },
      {
        "duration": 34,
        "start_time": "2023-04-13T20:25:43.866Z"
      },
      {
        "duration": 3,
        "start_time": "2023-04-13T20:25:43.902Z"
      },
      {
        "duration": 7,
        "start_time": "2023-04-13T20:25:43.906Z"
      },
      {
        "duration": 13,
        "start_time": "2023-04-13T20:25:43.914Z"
      },
      {
        "duration": 15,
        "start_time": "2023-04-13T20:25:43.929Z"
      },
      {
        "duration": 9,
        "start_time": "2023-04-13T20:25:43.945Z"
      },
      {
        "duration": 16,
        "start_time": "2023-04-13T20:25:43.956Z"
      },
      {
        "duration": 12,
        "start_time": "2023-04-13T20:25:43.973Z"
      },
      {
        "duration": 131,
        "start_time": "2023-04-13T20:25:43.986Z"
      },
      {
        "duration": 4,
        "start_time": "2023-04-13T20:25:44.119Z"
      },
      {
        "duration": 32,
        "start_time": "2023-04-13T20:25:44.124Z"
      },
      {
        "duration": 13,
        "start_time": "2023-04-13T20:25:44.158Z"
      },
      {
        "duration": 7,
        "start_time": "2023-04-13T20:25:44.173Z"
      },
      {
        "duration": 4,
        "start_time": "2023-04-13T20:25:44.181Z"
      },
      {
        "duration": 124,
        "start_time": "2023-04-13T20:25:44.187Z"
      },
      {
        "duration": 5,
        "start_time": "2023-04-13T20:25:44.312Z"
      },
      {
        "duration": 15,
        "start_time": "2023-04-13T20:25:44.318Z"
      },
      {
        "duration": 11,
        "start_time": "2023-04-13T20:25:44.334Z"
      },
      {
        "duration": 14,
        "start_time": "2023-04-13T20:25:44.347Z"
      },
      {
        "duration": 15,
        "start_time": "2023-04-13T20:25:44.363Z"
      },
      {
        "duration": 24,
        "start_time": "2023-04-13T20:25:44.380Z"
      },
      {
        "duration": 7,
        "start_time": "2023-04-13T20:25:44.405Z"
      },
      {
        "duration": 3,
        "start_time": "2023-04-13T20:25:44.413Z"
      },
      {
        "duration": 13,
        "start_time": "2023-04-13T20:25:44.417Z"
      },
      {
        "duration": 4,
        "start_time": "2023-04-13T20:25:44.433Z"
      },
      {
        "duration": 8,
        "start_time": "2023-04-13T20:25:44.439Z"
      },
      {
        "duration": 26,
        "start_time": "2023-04-13T20:25:44.448Z"
      },
      {
        "duration": 17,
        "start_time": "2023-04-13T20:25:44.475Z"
      },
      {
        "duration": 22,
        "start_time": "2023-04-13T20:25:44.493Z"
      },
      {
        "duration": 18,
        "start_time": "2023-04-13T20:25:44.517Z"
      },
      {
        "duration": 23,
        "start_time": "2023-04-13T20:25:44.536Z"
      },
      {
        "duration": 17,
        "start_time": "2023-04-13T20:25:44.561Z"
      },
      {
        "duration": 9,
        "start_time": "2023-04-13T20:25:44.579Z"
      },
      {
        "duration": 2294,
        "start_time": "2023-04-13T20:25:44.590Z"
      },
      {
        "duration": 3,
        "start_time": "2023-04-13T20:25:46.886Z"
      },
      {
        "duration": 1015,
        "start_time": "2023-04-13T20:25:46.891Z"
      },
      {
        "duration": 97588,
        "start_time": "2023-04-13T20:25:47.908Z"
      },
      {
        "duration": 3,
        "start_time": "2023-04-13T20:27:25.498Z"
      },
      {
        "duration": 1188,
        "start_time": "2023-04-13T20:27:25.503Z"
      },
      {
        "duration": 80,
        "start_time": "2023-04-13T20:27:26.693Z"
      },
      {
        "duration": 99,
        "start_time": "2023-04-13T20:27:26.775Z"
      },
      {
        "duration": 1461,
        "start_time": "2023-04-13T20:27:26.876Z"
      },
      {
        "duration": 3,
        "start_time": "2023-04-13T20:27:28.338Z"
      },
      {
        "duration": 100915,
        "start_time": "2023-04-13T20:27:28.343Z"
      },
      {
        "duration": 12,
        "start_time": "2023-04-13T20:29:09.260Z"
      },
      {
        "duration": 1209,
        "start_time": "2023-04-13T20:29:09.273Z"
      },
      {
        "duration": 3,
        "start_time": "2023-04-13T20:29:10.573Z"
      },
      {
        "duration": 101,
        "start_time": "2023-04-13T20:29:10.577Z"
      },
      {
        "duration": 17,
        "start_time": "2023-04-13T20:29:10.679Z"
      },
      {
        "duration": 1961,
        "start_time": "2023-04-13T20:29:10.697Z"
      },
      {
        "duration": 3,
        "start_time": "2023-04-13T20:29:12.659Z"
      },
      {
        "duration": 134208,
        "start_time": "2023-04-13T20:29:12.663Z"
      },
      {
        "duration": 3,
        "start_time": "2023-04-13T20:31:26.873Z"
      },
      {
        "duration": 1404,
        "start_time": "2023-04-13T20:31:26.877Z"
      },
      {
        "duration": 3,
        "start_time": "2023-04-13T20:31:28.373Z"
      },
      {
        "duration": 96,
        "start_time": "2023-04-13T20:31:28.377Z"
      },
      {
        "duration": 16,
        "start_time": "2023-04-13T20:31:28.475Z"
      },
      {
        "duration": 665,
        "start_time": "2023-04-13T20:31:28.492Z"
      },
      {
        "duration": 2,
        "start_time": "2023-04-13T20:31:29.159Z"
      },
      {
        "duration": 51866,
        "start_time": "2023-04-13T20:31:29.171Z"
      },
      {
        "duration": 2,
        "start_time": "2023-04-13T20:32:21.039Z"
      },
      {
        "duration": 101,
        "start_time": "2023-04-13T20:32:21.042Z"
      },
      {
        "duration": 3,
        "start_time": "2023-04-13T20:32:21.144Z"
      },
      {
        "duration": 24,
        "start_time": "2023-04-13T20:32:21.148Z"
      },
      {
        "duration": 36,
        "start_time": "2023-04-13T20:32:21.173Z"
      },
      {
        "duration": 23,
        "start_time": "2023-04-13T20:32:21.211Z"
      },
      {
        "duration": 42,
        "start_time": "2023-04-13T20:32:21.236Z"
      },
      {
        "duration": 36,
        "start_time": "2023-04-13T20:32:21.280Z"
      },
      {
        "duration": 10,
        "start_time": "2023-04-13T20:32:21.317Z"
      },
      {
        "duration": 197,
        "start_time": "2023-04-13T20:32:21.328Z"
      },
      {
        "duration": 1679,
        "start_time": "2023-04-14T08:10:22.489Z"
      },
      {
        "duration": 198,
        "start_time": "2023-04-14T08:10:24.172Z"
      },
      {
        "duration": 14,
        "start_time": "2023-04-14T08:10:24.372Z"
      },
      {
        "duration": 51,
        "start_time": "2023-04-14T08:10:24.388Z"
      },
      {
        "duration": 4,
        "start_time": "2023-04-14T08:10:24.442Z"
      },
      {
        "duration": 9,
        "start_time": "2023-04-14T08:10:24.448Z"
      },
      {
        "duration": 19,
        "start_time": "2023-04-14T08:10:24.459Z"
      },
      {
        "duration": 8,
        "start_time": "2023-04-14T08:10:24.480Z"
      },
      {
        "duration": 14,
        "start_time": "2023-04-14T08:10:24.490Z"
      },
      {
        "duration": 29,
        "start_time": "2023-04-14T08:10:24.506Z"
      },
      {
        "duration": 22,
        "start_time": "2023-04-14T08:10:24.537Z"
      },
      {
        "duration": 177,
        "start_time": "2023-04-14T08:10:24.562Z"
      },
      {
        "duration": 8,
        "start_time": "2023-04-14T08:10:24.742Z"
      },
      {
        "duration": 16,
        "start_time": "2023-04-14T08:10:24.755Z"
      },
      {
        "duration": 4,
        "start_time": "2023-04-14T08:10:24.774Z"
      },
      {
        "duration": 8,
        "start_time": "2023-04-14T08:10:24.781Z"
      },
      {
        "duration": 5,
        "start_time": "2023-04-14T08:10:24.792Z"
      },
      {
        "duration": 188,
        "start_time": "2023-04-14T08:10:24.800Z"
      },
      {
        "duration": 5,
        "start_time": "2023-04-14T08:10:24.990Z"
      },
      {
        "duration": 14,
        "start_time": "2023-04-14T08:10:24.997Z"
      },
      {
        "duration": 26,
        "start_time": "2023-04-14T08:10:25.013Z"
      },
      {
        "duration": 27,
        "start_time": "2023-04-14T08:10:25.041Z"
      },
      {
        "duration": 36,
        "start_time": "2023-04-14T08:10:25.069Z"
      },
      {
        "duration": 47,
        "start_time": "2023-04-14T08:10:25.107Z"
      },
      {
        "duration": 8,
        "start_time": "2023-04-14T08:10:25.156Z"
      },
      {
        "duration": 22,
        "start_time": "2023-04-14T08:10:25.166Z"
      },
      {
        "duration": 16,
        "start_time": "2023-04-14T08:10:25.190Z"
      },
      {
        "duration": 27,
        "start_time": "2023-04-14T08:10:25.208Z"
      },
      {
        "duration": 19,
        "start_time": "2023-04-14T08:10:25.237Z"
      },
      {
        "duration": 14,
        "start_time": "2023-04-14T08:10:25.258Z"
      },
      {
        "duration": 21,
        "start_time": "2023-04-14T08:10:25.274Z"
      },
      {
        "duration": 22,
        "start_time": "2023-04-14T08:10:25.298Z"
      },
      {
        "duration": 31,
        "start_time": "2023-04-14T08:10:25.323Z"
      },
      {
        "duration": 13,
        "start_time": "2023-04-14T08:10:25.356Z"
      },
      {
        "duration": 22,
        "start_time": "2023-04-14T08:10:25.371Z"
      },
      {
        "duration": 37,
        "start_time": "2023-04-14T08:10:25.395Z"
      },
      {
        "duration": 1676,
        "start_time": "2023-04-14T08:10:25.434Z"
      },
      {
        "duration": 3,
        "start_time": "2023-04-14T08:10:27.112Z"
      },
      {
        "duration": 1209,
        "start_time": "2023-04-14T08:10:27.117Z"
      },
      {
        "duration": 111179,
        "start_time": "2023-04-14T08:10:28.328Z"
      },
      {
        "duration": 4,
        "start_time": "2023-04-14T08:12:19.511Z"
      },
      {
        "duration": 1308,
        "start_time": "2023-04-14T08:12:19.533Z"
      },
      {
        "duration": 4,
        "start_time": "2023-04-14T08:12:20.843Z"
      },
      {
        "duration": 100,
        "start_time": "2023-04-14T08:12:20.935Z"
      },
      {
        "duration": 1704,
        "start_time": "2023-04-14T08:12:21.038Z"
      },
      {
        "duration": 3,
        "start_time": "2023-04-14T08:12:22.744Z"
      },
      {
        "duration": 113210,
        "start_time": "2023-04-14T08:12:22.749Z"
      },
      {
        "duration": 3,
        "start_time": "2023-04-14T08:14:15.961Z"
      },
      {
        "duration": 1284,
        "start_time": "2023-04-14T08:14:15.965Z"
      },
      {
        "duration": 4,
        "start_time": "2023-04-14T08:14:17.335Z"
      },
      {
        "duration": 116,
        "start_time": "2023-04-14T08:14:17.342Z"
      },
      {
        "duration": 45,
        "start_time": "2023-04-14T08:14:17.461Z"
      },
      {
        "duration": 2103,
        "start_time": "2023-04-14T08:14:17.508Z"
      },
      {
        "duration": 3,
        "start_time": "2023-04-14T08:14:19.613Z"
      },
      {
        "duration": 158721,
        "start_time": "2023-04-14T08:14:19.618Z"
      },
      {
        "duration": 4,
        "start_time": "2023-04-14T08:16:58.341Z"
      },
      {
        "duration": 1788,
        "start_time": "2023-04-14T08:16:58.347Z"
      },
      {
        "duration": 5,
        "start_time": "2023-04-14T08:17:00.137Z"
      },
      {
        "duration": 102,
        "start_time": "2023-04-14T08:17:00.150Z"
      },
      {
        "duration": 54,
        "start_time": "2023-04-14T08:17:00.253Z"
      },
      {
        "duration": 856,
        "start_time": "2023-04-14T08:17:00.309Z"
      },
      {
        "duration": 4,
        "start_time": "2023-04-14T08:17:01.166Z"
      },
      {
        "duration": 60816,
        "start_time": "2023-04-14T08:17:01.171Z"
      },
      {
        "duration": 5,
        "start_time": "2023-04-14T08:18:01.989Z"
      },
      {
        "duration": 132,
        "start_time": "2023-04-14T08:18:01.996Z"
      },
      {
        "duration": 4,
        "start_time": "2023-04-14T08:18:02.130Z"
      },
      {
        "duration": 28,
        "start_time": "2023-04-14T08:18:02.136Z"
      },
      {
        "duration": 18,
        "start_time": "2023-04-14T08:18:02.166Z"
      },
      {
        "duration": 22,
        "start_time": "2023-04-14T08:18:02.186Z"
      },
      {
        "duration": 20,
        "start_time": "2023-04-14T08:18:02.210Z"
      },
      {
        "duration": 41,
        "start_time": "2023-04-14T08:18:02.232Z"
      },
      {
        "duration": 20,
        "start_time": "2023-04-14T08:18:02.275Z"
      },
      {
        "duration": 237,
        "start_time": "2023-04-14T08:18:02.296Z"
      },
      {
        "duration": 1520,
        "start_time": "2023-04-14T08:20:21.802Z"
      },
      {
        "duration": 60,
        "start_time": "2023-04-14T08:20:23.324Z"
      },
      {
        "duration": 16,
        "start_time": "2023-04-14T08:20:23.385Z"
      },
      {
        "duration": 47,
        "start_time": "2023-04-14T08:20:23.403Z"
      },
      {
        "duration": 5,
        "start_time": "2023-04-14T08:20:23.452Z"
      },
      {
        "duration": 8,
        "start_time": "2023-04-14T08:20:23.458Z"
      },
      {
        "duration": 20,
        "start_time": "2023-04-14T08:20:23.468Z"
      },
      {
        "duration": 9,
        "start_time": "2023-04-14T08:20:23.490Z"
      },
      {
        "duration": 35,
        "start_time": "2023-04-14T08:20:23.500Z"
      },
      {
        "duration": 15,
        "start_time": "2023-04-14T08:20:23.537Z"
      },
      {
        "duration": 23,
        "start_time": "2023-04-14T08:20:23.554Z"
      },
      {
        "duration": 179,
        "start_time": "2023-04-14T08:20:23.578Z"
      },
      {
        "duration": 6,
        "start_time": "2023-04-14T08:20:23.759Z"
      },
      {
        "duration": 23,
        "start_time": "2023-04-14T08:20:23.770Z"
      },
      {
        "duration": 11,
        "start_time": "2023-04-14T08:20:23.795Z"
      },
      {
        "duration": 8,
        "start_time": "2023-04-14T08:20:23.808Z"
      },
      {
        "duration": 19,
        "start_time": "2023-04-14T08:20:23.818Z"
      },
      {
        "duration": 148,
        "start_time": "2023-04-14T08:20:23.839Z"
      },
      {
        "duration": 7,
        "start_time": "2023-04-14T08:20:23.990Z"
      },
      {
        "duration": 13,
        "start_time": "2023-04-14T08:20:23.999Z"
      },
      {
        "duration": 30,
        "start_time": "2023-04-14T08:20:24.014Z"
      },
      {
        "duration": 32,
        "start_time": "2023-04-14T08:20:24.046Z"
      },
      {
        "duration": 14,
        "start_time": "2023-04-14T08:20:24.081Z"
      },
      {
        "duration": 63,
        "start_time": "2023-04-14T08:20:24.098Z"
      },
      {
        "duration": 12,
        "start_time": "2023-04-14T08:20:24.164Z"
      },
      {
        "duration": 5,
        "start_time": "2023-04-14T08:20:24.178Z"
      },
      {
        "duration": 12,
        "start_time": "2023-04-14T08:20:24.185Z"
      },
      {
        "duration": 34,
        "start_time": "2023-04-14T08:20:24.199Z"
      },
      {
        "duration": 19,
        "start_time": "2023-04-14T08:20:24.235Z"
      },
      {
        "duration": 13,
        "start_time": "2023-04-14T08:20:24.255Z"
      },
      {
        "duration": 27,
        "start_time": "2023-04-14T08:20:24.270Z"
      },
      {
        "duration": 14,
        "start_time": "2023-04-14T08:20:24.299Z"
      },
      {
        "duration": 20,
        "start_time": "2023-04-14T08:20:24.315Z"
      },
      {
        "duration": 39,
        "start_time": "2023-04-14T08:20:24.337Z"
      },
      {
        "duration": 17,
        "start_time": "2023-04-14T08:20:24.378Z"
      },
      {
        "duration": 19,
        "start_time": "2023-04-14T08:20:24.397Z"
      },
      {
        "duration": 1581,
        "start_time": "2023-04-14T08:20:24.418Z"
      },
      {
        "duration": 4,
        "start_time": "2023-04-14T08:20:26.001Z"
      },
      {
        "duration": 1311,
        "start_time": "2023-04-14T08:20:26.007Z"
      },
      {
        "duration": 110359,
        "start_time": "2023-04-14T08:20:27.320Z"
      },
      {
        "duration": 3,
        "start_time": "2023-04-14T08:22:17.684Z"
      },
      {
        "duration": 1367,
        "start_time": "2023-04-14T08:22:17.689Z"
      },
      {
        "duration": 4,
        "start_time": "2023-04-14T08:22:19.135Z"
      },
      {
        "duration": 101,
        "start_time": "2023-04-14T08:22:19.142Z"
      },
      {
        "duration": 1652,
        "start_time": "2023-04-14T08:22:19.245Z"
      },
      {
        "duration": 4,
        "start_time": "2023-04-14T08:22:20.900Z"
      },
      {
        "duration": 117080,
        "start_time": "2023-04-14T08:22:20.906Z"
      },
      {
        "duration": 4,
        "start_time": "2023-04-14T08:24:17.987Z"
      },
      {
        "duration": 1648,
        "start_time": "2023-04-14T08:24:17.993Z"
      },
      {
        "duration": 4,
        "start_time": "2023-04-14T08:24:19.733Z"
      },
      {
        "duration": 11,
        "start_time": "2023-04-14T08:24:19.740Z"
      },
      {
        "duration": 16,
        "start_time": "2023-04-14T08:24:19.753Z"
      },
      {
        "duration": 1971,
        "start_time": "2023-04-14T08:24:19.771Z"
      },
      {
        "duration": 4,
        "start_time": "2023-04-14T08:24:21.744Z"
      },
      {
        "duration": 149690,
        "start_time": "2023-04-14T08:24:21.750Z"
      },
      {
        "duration": 3,
        "start_time": "2023-04-14T08:26:51.442Z"
      },
      {
        "duration": 1800,
        "start_time": "2023-04-14T08:26:51.447Z"
      },
      {
        "duration": 9,
        "start_time": "2023-04-14T08:26:53.332Z"
      },
      {
        "duration": 99,
        "start_time": "2023-04-14T08:26:53.344Z"
      },
      {
        "duration": 12,
        "start_time": "2023-04-14T08:26:53.445Z"
      },
      {
        "duration": 828,
        "start_time": "2023-04-14T08:26:53.459Z"
      },
      {
        "duration": 3,
        "start_time": "2023-04-14T08:26:54.288Z"
      },
      {
        "duration": 69072,
        "start_time": "2023-04-14T08:26:54.294Z"
      },
      {
        "duration": 3,
        "start_time": "2023-04-14T08:28:03.368Z"
      },
      {
        "duration": 1285,
        "start_time": "2023-04-14T08:28:03.373Z"
      },
      {
        "duration": 10,
        "start_time": "2023-04-14T08:28:04.733Z"
      },
      {
        "duration": 116,
        "start_time": "2023-04-14T08:28:04.750Z"
      },
      {
        "duration": 17,
        "start_time": "2023-04-14T08:28:04.868Z"
      },
      {
        "duration": 11,
        "start_time": "2023-04-14T08:28:04.887Z"
      },
      {
        "duration": 18,
        "start_time": "2023-04-14T08:28:04.900Z"
      },
      {
        "duration": 16,
        "start_time": "2023-04-14T08:28:04.920Z"
      },
      {
        "duration": 7,
        "start_time": "2023-04-14T08:28:04.938Z"
      },
      {
        "duration": 330,
        "start_time": "2023-04-14T08:28:04.947Z"
      },
      {
        "duration": 719,
        "start_time": "2023-04-14T08:57:33.741Z"
      },
      {
        "duration": 516,
        "start_time": "2023-04-14T08:59:09.271Z"
      },
      {
        "duration": 12228,
        "start_time": "2023-04-14T09:06:06.098Z"
      },
      {
        "duration": 16591,
        "start_time": "2023-04-14T09:06:27.803Z"
      },
      {
        "duration": 21369,
        "start_time": "2023-04-14T09:07:08.231Z"
      },
      {
        "duration": 6266,
        "start_time": "2023-04-14T09:08:09.265Z"
      },
      {
        "duration": 9398,
        "start_time": "2023-04-14T09:08:31.059Z"
      },
      {
        "duration": 6246,
        "start_time": "2023-04-14T09:08:48.109Z"
      },
      {
        "duration": 11558,
        "start_time": "2023-04-14T09:09:04.657Z"
      },
      {
        "duration": 6363,
        "start_time": "2023-04-14T09:09:25.142Z"
      },
      {
        "duration": 13424,
        "start_time": "2023-04-14T09:12:33.641Z"
      },
      {
        "duration": 618,
        "start_time": "2023-04-14T09:13:04.262Z"
      },
      {
        "duration": 171,
        "start_time": "2023-04-14T09:13:35.058Z"
      },
      {
        "duration": 5190,
        "start_time": "2023-04-14T09:14:42.726Z"
      },
      {
        "duration": 55637,
        "start_time": "2023-04-14T09:15:04.930Z"
      },
      {
        "duration": 1204,
        "start_time": "2023-04-14T09:19:36.828Z"
      },
      {
        "duration": 1294,
        "start_time": "2023-04-14T09:20:12.962Z"
      },
      {
        "duration": 120395,
        "start_time": "2023-04-14T09:35:41.175Z"
      },
      {
        "duration": 624,
        "start_time": "2023-04-14T10:27:13.898Z"
      },
      {
        "duration": 1402,
        "start_time": "2023-04-14T10:27:19.906Z"
      },
      {
        "duration": 1343,
        "start_time": "2023-04-14T10:27:25.069Z"
      },
      {
        "duration": 2898,
        "start_time": "2023-04-14T10:27:31.199Z"
      },
      {
        "duration": 860,
        "start_time": "2023-04-14T10:27:45.497Z"
      },
      {
        "duration": 1335,
        "start_time": "2023-04-14T10:27:51.093Z"
      },
      {
        "duration": 389,
        "start_time": "2023-04-14T10:28:06.010Z"
      },
      {
        "duration": 1139,
        "start_time": "2023-04-14T10:28:13.778Z"
      },
      {
        "duration": 2525,
        "start_time": "2023-04-14T10:28:20.063Z"
      },
      {
        "duration": 1221,
        "start_time": "2023-04-14T10:28:32.061Z"
      },
      {
        "duration": 1366,
        "start_time": "2023-04-14T10:28:37.118Z"
      },
      {
        "duration": 981,
        "start_time": "2023-04-14T10:28:42.509Z"
      },
      {
        "duration": 1312,
        "start_time": "2023-04-14T10:28:47.273Z"
      },
      {
        "duration": 1843,
        "start_time": "2023-04-14T10:30:01.163Z"
      },
      {
        "duration": 3506,
        "start_time": "2023-04-14T10:30:07.652Z"
      },
      {
        "duration": 42580,
        "start_time": "2023-04-14T10:30:23.327Z"
      },
      {
        "duration": 593,
        "start_time": "2023-04-14T10:31:24.157Z"
      },
      {
        "duration": 1337,
        "start_time": "2023-04-14T10:31:32.592Z"
      },
      {
        "duration": 1147,
        "start_time": "2023-04-14T10:31:51.551Z"
      },
      {
        "duration": 846,
        "start_time": "2023-04-14T10:31:56.551Z"
      },
      {
        "duration": 1053,
        "start_time": "2023-04-14T10:32:00.819Z"
      },
      {
        "duration": 1919,
        "start_time": "2023-04-14T10:32:06.783Z"
      },
      {
        "duration": 2567,
        "start_time": "2023-04-14T10:33:01.976Z"
      },
      {
        "duration": 48954,
        "start_time": "2023-04-14T10:33:38.154Z"
      },
      {
        "duration": 488,
        "start_time": "2023-04-14T10:34:42.784Z"
      },
      {
        "duration": 4,
        "start_time": "2023-04-14T10:37:28.650Z"
      },
      {
        "duration": 4,
        "start_time": "2023-04-14T10:37:29.785Z"
      },
      {
        "duration": 1840,
        "start_time": "2023-04-14T10:38:07.587Z"
      },
      {
        "duration": 56,
        "start_time": "2023-04-14T10:38:09.429Z"
      },
      {
        "duration": 14,
        "start_time": "2023-04-14T10:38:09.486Z"
      },
      {
        "duration": 57,
        "start_time": "2023-04-14T10:38:09.502Z"
      },
      {
        "duration": 5,
        "start_time": "2023-04-14T10:38:09.561Z"
      },
      {
        "duration": 9,
        "start_time": "2023-04-14T10:38:09.568Z"
      },
      {
        "duration": 32,
        "start_time": "2023-04-14T10:38:09.579Z"
      },
      {
        "duration": 17,
        "start_time": "2023-04-14T10:38:09.613Z"
      },
      {
        "duration": 30,
        "start_time": "2023-04-14T10:38:09.632Z"
      },
      {
        "duration": 8,
        "start_time": "2023-04-14T10:38:09.664Z"
      },
      {
        "duration": 23,
        "start_time": "2023-04-14T10:38:09.673Z"
      },
      {
        "duration": 162,
        "start_time": "2023-04-14T10:38:09.699Z"
      },
      {
        "duration": 6,
        "start_time": "2023-04-14T10:38:09.863Z"
      },
      {
        "duration": 21,
        "start_time": "2023-04-14T10:38:09.872Z"
      },
      {
        "duration": 3,
        "start_time": "2023-04-14T10:38:09.895Z"
      },
      {
        "duration": 8,
        "start_time": "2023-04-14T10:38:09.899Z"
      },
      {
        "duration": 7,
        "start_time": "2023-04-14T10:38:09.909Z"
      },
      {
        "duration": 166,
        "start_time": "2023-04-14T10:38:09.917Z"
      },
      {
        "duration": 7,
        "start_time": "2023-04-14T10:38:10.086Z"
      },
      {
        "duration": 11,
        "start_time": "2023-04-14T10:38:10.095Z"
      },
      {
        "duration": 30,
        "start_time": "2023-04-14T10:38:10.108Z"
      },
      {
        "duration": 15,
        "start_time": "2023-04-14T10:38:10.148Z"
      },
      {
        "duration": 11,
        "start_time": "2023-04-14T10:38:10.165Z"
      },
      {
        "duration": 37,
        "start_time": "2023-04-14T10:38:10.178Z"
      },
      {
        "duration": 32,
        "start_time": "2023-04-14T10:38:10.217Z"
      },
      {
        "duration": 4,
        "start_time": "2023-04-14T10:38:10.251Z"
      },
      {
        "duration": 13,
        "start_time": "2023-04-14T10:38:10.256Z"
      },
      {
        "duration": 11,
        "start_time": "2023-04-14T10:38:10.271Z"
      },
      {
        "duration": 16,
        "start_time": "2023-04-14T10:38:10.283Z"
      },
      {
        "duration": 4,
        "start_time": "2023-04-14T10:38:10.302Z"
      },
      {
        "duration": 6,
        "start_time": "2023-04-14T10:38:10.308Z"
      },
      {
        "duration": 9,
        "start_time": "2023-04-14T10:38:10.315Z"
      },
      {
        "duration": 10,
        "start_time": "2023-04-14T10:38:10.335Z"
      },
      {
        "duration": 17,
        "start_time": "2023-04-14T10:38:10.347Z"
      },
      {
        "duration": 9,
        "start_time": "2023-04-14T10:38:10.366Z"
      },
      {
        "duration": 15,
        "start_time": "2023-04-14T10:38:10.377Z"
      },
      {
        "duration": 1655,
        "start_time": "2023-04-14T10:38:10.394Z"
      },
      {
        "duration": 4,
        "start_time": "2023-04-14T10:38:12.051Z"
      },
      {
        "duration": 2228,
        "start_time": "2023-04-14T10:38:12.057Z"
      },
      {
        "duration": 115595,
        "start_time": "2023-04-14T10:38:14.287Z"
      },
      {
        "duration": 3,
        "start_time": "2023-04-14T10:40:09.886Z"
      },
      {
        "duration": 1257,
        "start_time": "2023-04-14T10:40:09.891Z"
      },
      {
        "duration": 84,
        "start_time": "2023-04-14T10:40:11.150Z"
      },
      {
        "duration": 99,
        "start_time": "2023-04-14T10:40:11.236Z"
      },
      {
        "duration": 1730,
        "start_time": "2023-04-14T10:40:11.337Z"
      },
      {
        "duration": 2,
        "start_time": "2023-04-14T10:40:13.069Z"
      },
      {
        "duration": 113333,
        "start_time": "2023-04-14T10:40:13.073Z"
      },
      {
        "duration": 4,
        "start_time": "2023-04-14T10:42:06.408Z"
      },
      {
        "duration": 1326,
        "start_time": "2023-04-14T10:42:06.414Z"
      },
      {
        "duration": 83,
        "start_time": "2023-04-14T10:42:07.751Z"
      },
      {
        "duration": 12,
        "start_time": "2023-04-14T10:42:07.837Z"
      },
      {
        "duration": 14,
        "start_time": "2023-04-14T10:42:07.851Z"
      },
      {
        "duration": 2048,
        "start_time": "2023-04-14T10:42:07.867Z"
      },
      {
        "duration": 4,
        "start_time": "2023-04-14T10:42:09.916Z"
      },
      {
        "duration": 112692,
        "start_time": "2023-04-14T10:42:09.922Z"
      },
      {
        "duration": 2496,
        "start_time": "2023-04-14T10:44:02.615Z"
      },
      {
        "duration": 46491,
        "start_time": "2023-04-14T10:44:05.113Z"
      },
      {
        "duration": 3,
        "start_time": "2023-04-14T10:44:51.606Z"
      },
      {
        "duration": 1630,
        "start_time": "2023-04-14T10:44:51.611Z"
      },
      {
        "duration": 5,
        "start_time": "2023-04-14T10:44:53.246Z"
      },
      {
        "duration": 24,
        "start_time": "2023-04-14T10:44:53.341Z"
      },
      {
        "duration": 18,
        "start_time": "2023-04-14T10:44:53.367Z"
      },
      {
        "duration": 806,
        "start_time": "2023-04-14T10:44:53.387Z"
      },
      {
        "duration": 3,
        "start_time": "2023-04-14T10:44:54.195Z"
      },
      {
        "duration": 67876,
        "start_time": "2023-04-14T10:44:54.200Z"
      },
      {
        "duration": 5,
        "start_time": "2023-04-14T10:46:02.078Z"
      },
      {
        "duration": 962,
        "start_time": "2023-04-14T10:46:02.087Z"
      },
      {
        "duration": 7,
        "start_time": "2023-04-14T10:46:03.132Z"
      },
      {
        "duration": 118,
        "start_time": "2023-04-14T10:46:03.146Z"
      },
      {
        "duration": 18,
        "start_time": "2023-04-14T10:46:03.266Z"
      },
      {
        "duration": 9,
        "start_time": "2023-04-14T10:46:03.286Z"
      },
      {
        "duration": 9,
        "start_time": "2023-04-14T10:46:03.297Z"
      },
      {
        "duration": 33,
        "start_time": "2023-04-14T10:46:03.308Z"
      },
      {
        "duration": 7,
        "start_time": "2023-04-14T10:46:03.346Z"
      },
      {
        "duration": 420,
        "start_time": "2023-04-14T10:46:03.354Z"
      },
      {
        "duration": 497,
        "start_time": "2023-04-14T10:47:47.522Z"
      },
      {
        "duration": 4,
        "start_time": "2023-04-14T10:53:31.909Z"
      },
      {
        "duration": 469,
        "start_time": "2023-04-14T10:55:47.757Z"
      },
      {
        "duration": 25,
        "start_time": "2023-04-14T10:56:00.165Z"
      },
      {
        "duration": 23,
        "start_time": "2023-04-14T10:56:08.850Z"
      },
      {
        "duration": 157,
        "start_time": "2023-04-14T10:56:42.702Z"
      },
      {
        "duration": 36,
        "start_time": "2023-04-14T10:56:48.014Z"
      },
      {
        "duration": 335,
        "start_time": "2023-04-14T10:58:14.496Z"
      },
      {
        "duration": 219,
        "start_time": "2023-04-14T10:58:20.005Z"
      },
      {
        "duration": 4,
        "start_time": "2023-04-14T10:58:29.546Z"
      },
      {
        "duration": 5,
        "start_time": "2023-04-14T10:58:35.225Z"
      },
      {
        "duration": 27,
        "start_time": "2023-04-14T11:02:58.687Z"
      },
      {
        "duration": 15,
        "start_time": "2023-04-14T11:03:16.896Z"
      },
      {
        "duration": 13,
        "start_time": "2023-04-14T11:03:26.172Z"
      },
      {
        "duration": 147,
        "start_time": "2023-04-14T11:03:30.406Z"
      },
      {
        "duration": 125,
        "start_time": "2023-04-14T11:06:06.352Z"
      },
      {
        "duration": 133,
        "start_time": "2023-04-14T11:06:33.290Z"
      },
      {
        "duration": 149,
        "start_time": "2023-04-14T11:06:41.701Z"
      },
      {
        "duration": 124,
        "start_time": "2023-04-14T11:07:03.369Z"
      },
      {
        "duration": 144,
        "start_time": "2023-04-14T11:07:15.197Z"
      },
      {
        "duration": 148,
        "start_time": "2023-04-14T11:07:35.752Z"
      },
      {
        "duration": 22,
        "start_time": "2023-04-14T11:13:18.543Z"
      },
      {
        "duration": 30,
        "start_time": "2023-04-14T11:13:22.186Z"
      },
      {
        "duration": 4,
        "start_time": "2023-04-14T11:13:41.737Z"
      },
      {
        "duration": 17,
        "start_time": "2023-04-14T11:13:47.191Z"
      },
      {
        "duration": 14,
        "start_time": "2023-04-14T11:13:53.387Z"
      },
      {
        "duration": 19,
        "start_time": "2023-04-14T11:14:38.043Z"
      },
      {
        "duration": 11,
        "start_time": "2023-04-14T11:17:10.557Z"
      },
      {
        "duration": 5,
        "start_time": "2023-04-14T11:17:32.647Z"
      },
      {
        "duration": 5,
        "start_time": "2023-04-14T11:17:39.356Z"
      },
      {
        "duration": 6,
        "start_time": "2023-04-14T11:19:31.211Z"
      },
      {
        "duration": 8,
        "start_time": "2023-04-14T11:19:46.655Z"
      },
      {
        "duration": 7,
        "start_time": "2023-04-14T11:19:58.529Z"
      },
      {
        "duration": 8,
        "start_time": "2023-04-14T11:21:06.385Z"
      },
      {
        "duration": 41,
        "start_time": "2023-04-14T11:24:49.880Z"
      },
      {
        "duration": 1780,
        "start_time": "2023-04-14T11:25:21.813Z"
      },
      {
        "duration": 1766,
        "start_time": "2023-04-14T11:26:47.094Z"
      },
      {
        "duration": 1731,
        "start_time": "2023-04-14T11:27:48.507Z"
      },
      {
        "duration": 534,
        "start_time": "2023-04-14T11:29:01.100Z"
      },
      {
        "duration": 498,
        "start_time": "2023-04-14T11:29:19.594Z"
      },
      {
        "duration": 1610,
        "start_time": "2023-04-14T11:36:36.499Z"
      },
      {
        "duration": 65,
        "start_time": "2023-04-14T11:36:38.111Z"
      },
      {
        "duration": 15,
        "start_time": "2023-04-14T11:36:38.178Z"
      },
      {
        "duration": 62,
        "start_time": "2023-04-14T11:36:38.196Z"
      },
      {
        "duration": 5,
        "start_time": "2023-04-14T11:36:38.261Z"
      },
      {
        "duration": 8,
        "start_time": "2023-04-14T11:36:38.268Z"
      },
      {
        "duration": 17,
        "start_time": "2023-04-14T11:36:38.278Z"
      },
      {
        "duration": 10,
        "start_time": "2023-04-14T11:36:38.297Z"
      },
      {
        "duration": 31,
        "start_time": "2023-04-14T11:36:38.308Z"
      },
      {
        "duration": 17,
        "start_time": "2023-04-14T11:36:38.341Z"
      },
      {
        "duration": 17,
        "start_time": "2023-04-14T11:36:38.359Z"
      },
      {
        "duration": 179,
        "start_time": "2023-04-14T11:36:38.377Z"
      },
      {
        "duration": 6,
        "start_time": "2023-04-14T11:36:38.558Z"
      },
      {
        "duration": 17,
        "start_time": "2023-04-14T11:36:38.567Z"
      },
      {
        "duration": 13,
        "start_time": "2023-04-14T11:36:38.585Z"
      },
      {
        "duration": 13,
        "start_time": "2023-04-14T11:36:38.600Z"
      },
      {
        "duration": 36,
        "start_time": "2023-04-14T11:36:38.615Z"
      },
      {
        "duration": 290,
        "start_time": "2023-04-14T11:36:38.653Z"
      },
      {
        "duration": 8,
        "start_time": "2023-04-14T11:36:38.945Z"
      },
      {
        "duration": 21,
        "start_time": "2023-04-14T11:36:38.955Z"
      },
      {
        "duration": 67,
        "start_time": "2023-04-14T11:36:38.977Z"
      },
      {
        "duration": 24,
        "start_time": "2023-04-14T11:36:39.047Z"
      },
      {
        "duration": 67,
        "start_time": "2023-04-14T11:36:39.073Z"
      },
      {
        "duration": 43,
        "start_time": "2023-04-14T11:36:39.142Z"
      },
      {
        "duration": 17,
        "start_time": "2023-04-14T11:36:39.237Z"
      },
      {
        "duration": 11,
        "start_time": "2023-04-14T11:36:39.257Z"
      },
      {
        "duration": 13,
        "start_time": "2023-04-14T11:36:39.270Z"
      },
      {
        "duration": 65,
        "start_time": "2023-04-14T11:36:39.285Z"
      },
      {
        "duration": 32,
        "start_time": "2023-04-14T11:36:39.352Z"
      },
      {
        "duration": 8,
        "start_time": "2023-04-14T11:36:39.386Z"
      },
      {
        "duration": 42,
        "start_time": "2023-04-14T11:36:39.396Z"
      },
      {
        "duration": 28,
        "start_time": "2023-04-14T11:36:39.440Z"
      },
      {
        "duration": 22,
        "start_time": "2023-04-14T11:36:39.470Z"
      },
      {
        "duration": 46,
        "start_time": "2023-04-14T11:36:39.494Z"
      },
      {
        "duration": 22,
        "start_time": "2023-04-14T11:36:39.542Z"
      },
      {
        "duration": 18,
        "start_time": "2023-04-14T11:36:39.566Z"
      },
      {
        "duration": 2520,
        "start_time": "2023-04-14T11:36:39.586Z"
      },
      {
        "duration": 3,
        "start_time": "2023-04-14T11:36:42.109Z"
      },
      {
        "duration": 1333,
        "start_time": "2023-04-14T11:36:42.114Z"
      },
      {
        "duration": 133043,
        "start_time": "2023-04-14T11:36:43.449Z"
      },
      {
        "duration": 4,
        "start_time": "2023-04-14T11:38:56.498Z"
      },
      {
        "duration": 1652,
        "start_time": "2023-04-14T11:38:56.505Z"
      },
      {
        "duration": 83,
        "start_time": "2023-04-14T11:38:58.162Z"
      },
      {
        "duration": 108,
        "start_time": "2023-04-14T11:38:58.250Z"
      },
      {
        "duration": 1879,
        "start_time": "2023-04-14T11:38:58.361Z"
      },
      {
        "duration": 7,
        "start_time": "2023-04-14T11:39:00.242Z"
      },
      {
        "duration": 130801,
        "start_time": "2023-04-14T11:39:00.251Z"
      },
      {
        "duration": 3,
        "start_time": "2023-04-14T11:41:11.054Z"
      },
      {
        "duration": 1595,
        "start_time": "2023-04-14T11:41:11.058Z"
      },
      {
        "duration": 8,
        "start_time": "2023-04-14T11:41:12.738Z"
      },
      {
        "duration": 106,
        "start_time": "2023-04-14T11:41:12.749Z"
      },
      {
        "duration": 19,
        "start_time": "2023-04-14T11:41:12.857Z"
      },
      {
        "duration": 2162,
        "start_time": "2023-04-14T11:41:12.878Z"
      },
      {
        "duration": 7,
        "start_time": "2023-04-14T11:41:15.042Z"
      },
      {
        "duration": 125005,
        "start_time": "2023-04-14T11:41:15.051Z"
      },
      {
        "duration": 4,
        "start_time": "2023-04-14T11:43:20.063Z"
      },
      {
        "duration": 1974,
        "start_time": "2023-04-14T11:43:20.069Z"
      },
      {
        "duration": 96,
        "start_time": "2023-04-14T11:43:22.045Z"
      },
      {
        "duration": 91,
        "start_time": "2023-04-14T11:43:22.144Z"
      },
      {
        "duration": 14,
        "start_time": "2023-04-14T11:43:22.237Z"
      },
      {
        "duration": 1112,
        "start_time": "2023-04-14T11:43:22.253Z"
      },
      {
        "duration": 3,
        "start_time": "2023-04-14T11:43:23.367Z"
      },
      {
        "duration": 78795,
        "start_time": "2023-04-14T11:43:23.372Z"
      },
      {
        "duration": 3,
        "start_time": "2023-04-14T11:44:42.169Z"
      },
      {
        "duration": 1173,
        "start_time": "2023-04-14T11:44:42.173Z"
      },
      {
        "duration": 91,
        "start_time": "2023-04-14T11:44:43.348Z"
      },
      {
        "duration": 120,
        "start_time": "2023-04-14T11:44:43.442Z"
      },
      {
        "duration": 21,
        "start_time": "2023-04-14T11:44:43.564Z"
      },
      {
        "duration": 35,
        "start_time": "2023-04-14T11:44:43.586Z"
      },
      {
        "duration": 37,
        "start_time": "2023-04-14T11:44:43.623Z"
      },
      {
        "duration": 28,
        "start_time": "2023-04-14T11:44:43.662Z"
      },
      {
        "duration": 11,
        "start_time": "2023-04-14T11:44:43.692Z"
      },
      {
        "duration": 519,
        "start_time": "2023-04-14T11:44:43.705Z"
      },
      {
        "duration": 38,
        "start_time": "2023-04-14T11:44:44.226Z"
      },
      {
        "duration": 22,
        "start_time": "2023-04-14T11:44:44.265Z"
      },
      {
        "duration": 173,
        "start_time": "2023-04-14T11:44:44.289Z"
      },
      {
        "duration": 5,
        "start_time": "2023-04-14T11:44:44.465Z"
      },
      {
        "duration": 8,
        "start_time": "2023-04-14T11:48:39.368Z"
      },
      {
        "duration": 57,
        "start_time": "2023-04-14T15:01:08.794Z"
      },
      {
        "duration": 1755,
        "start_time": "2023-04-14T15:01:13.812Z"
      },
      {
        "duration": 111,
        "start_time": "2023-04-14T15:01:15.569Z"
      },
      {
        "duration": 20,
        "start_time": "2023-04-14T15:01:15.681Z"
      },
      {
        "duration": 61,
        "start_time": "2023-04-14T15:01:23.956Z"
      },
      {
        "duration": 1640,
        "start_time": "2023-04-15T09:39:41.495Z"
      },
      {
        "duration": 191,
        "start_time": "2023-04-15T09:39:43.138Z"
      },
      {
        "duration": 15,
        "start_time": "2023-04-15T09:39:43.331Z"
      },
      {
        "duration": 57,
        "start_time": "2023-04-15T09:39:43.348Z"
      },
      {
        "duration": 5,
        "start_time": "2023-04-15T09:39:43.408Z"
      },
      {
        "duration": 23,
        "start_time": "2023-04-15T09:39:43.415Z"
      },
      {
        "duration": 17,
        "start_time": "2023-04-15T09:39:43.440Z"
      },
      {
        "duration": 10,
        "start_time": "2023-04-15T09:39:43.459Z"
      },
      {
        "duration": 10,
        "start_time": "2023-04-15T09:39:43.471Z"
      },
      {
        "duration": 6,
        "start_time": "2023-04-15T09:39:43.483Z"
      },
      {
        "duration": 48,
        "start_time": "2023-04-15T09:39:43.491Z"
      },
      {
        "duration": 183,
        "start_time": "2023-04-15T09:39:43.541Z"
      },
      {
        "duration": 11,
        "start_time": "2023-04-15T09:39:43.726Z"
      },
      {
        "duration": 20,
        "start_time": "2023-04-15T09:39:43.741Z"
      },
      {
        "duration": 4,
        "start_time": "2023-04-15T09:39:43.764Z"
      },
      {
        "duration": 7,
        "start_time": "2023-04-15T09:39:43.770Z"
      },
      {
        "duration": 11,
        "start_time": "2023-04-15T09:39:43.779Z"
      },
      {
        "duration": 155,
        "start_time": "2023-04-15T09:39:43.792Z"
      },
      {
        "duration": 6,
        "start_time": "2023-04-15T09:39:43.950Z"
      },
      {
        "duration": 7,
        "start_time": "2023-04-15T09:39:43.959Z"
      },
      {
        "duration": 14,
        "start_time": "2023-04-15T09:39:43.968Z"
      },
      {
        "duration": 14,
        "start_time": "2023-04-15T09:39:43.985Z"
      },
      {
        "duration": 13,
        "start_time": "2023-04-15T09:39:44.034Z"
      },
      {
        "duration": 51,
        "start_time": "2023-04-15T09:39:44.049Z"
      },
      {
        "duration": 10,
        "start_time": "2023-04-15T09:39:44.101Z"
      },
      {
        "duration": 21,
        "start_time": "2023-04-15T09:39:44.113Z"
      },
      {
        "duration": 7,
        "start_time": "2023-04-15T09:39:44.136Z"
      },
      {
        "duration": 7,
        "start_time": "2023-04-15T09:39:44.145Z"
      },
      {
        "duration": 9,
        "start_time": "2023-04-15T09:39:44.153Z"
      },
      {
        "duration": 12,
        "start_time": "2023-04-15T09:39:44.164Z"
      },
      {
        "duration": 14,
        "start_time": "2023-04-15T09:39:44.178Z"
      },
      {
        "duration": 11,
        "start_time": "2023-04-15T09:39:44.194Z"
      },
      {
        "duration": 9,
        "start_time": "2023-04-15T09:39:44.207Z"
      },
      {
        "duration": 17,
        "start_time": "2023-04-15T09:39:44.218Z"
      },
      {
        "duration": 7,
        "start_time": "2023-04-15T09:39:44.236Z"
      },
      {
        "duration": 11,
        "start_time": "2023-04-15T09:39:44.244Z"
      },
      {
        "duration": 1704,
        "start_time": "2023-04-15T09:39:44.258Z"
      },
      {
        "duration": 3,
        "start_time": "2023-04-15T09:39:45.963Z"
      },
      {
        "duration": 1271,
        "start_time": "2023-04-15T09:39:45.967Z"
      },
      {
        "duration": 111649,
        "start_time": "2023-04-15T09:39:47.240Z"
      },
      {
        "duration": 3,
        "start_time": "2023-04-15T09:41:38.894Z"
      },
      {
        "duration": 1746,
        "start_time": "2023-04-15T09:41:38.898Z"
      },
      {
        "duration": 3,
        "start_time": "2023-04-15T09:41:40.735Z"
      },
      {
        "duration": 128,
        "start_time": "2023-04-15T09:41:40.740Z"
      },
      {
        "duration": 1625,
        "start_time": "2023-04-15T09:41:40.869Z"
      },
      {
        "duration": 3,
        "start_time": "2023-04-15T09:41:42.496Z"
      },
      {
        "duration": 111308,
        "start_time": "2023-04-15T09:41:42.501Z"
      },
      {
        "duration": 3,
        "start_time": "2023-04-15T09:43:33.810Z"
      },
      {
        "duration": 1724,
        "start_time": "2023-04-15T09:43:33.815Z"
      },
      {
        "duration": 92,
        "start_time": "2023-04-15T09:43:35.542Z"
      },
      {
        "duration": 24,
        "start_time": "2023-04-15T09:43:35.636Z"
      },
      {
        "duration": 55,
        "start_time": "2023-04-15T09:43:35.661Z"
      },
      {
        "duration": 1956,
        "start_time": "2023-04-15T09:43:35.718Z"
      },
      {
        "duration": 3,
        "start_time": "2023-04-15T09:43:37.676Z"
      },
      {
        "duration": 108597,
        "start_time": "2023-04-15T09:43:37.681Z"
      },
      {
        "duration": 3,
        "start_time": "2023-04-15T09:45:26.280Z"
      },
      {
        "duration": 2149,
        "start_time": "2023-04-15T09:45:26.285Z"
      },
      {
        "duration": 3,
        "start_time": "2023-04-15T09:45:28.438Z"
      },
      {
        "duration": 97,
        "start_time": "2023-04-15T09:45:28.445Z"
      },
      {
        "duration": 16,
        "start_time": "2023-04-15T09:45:28.544Z"
      },
      {
        "duration": 878,
        "start_time": "2023-04-15T09:45:28.562Z"
      },
      {
        "duration": 3,
        "start_time": "2023-04-15T09:45:29.441Z"
      },
      {
        "duration": 67024,
        "start_time": "2023-04-15T09:45:29.446Z"
      },
      {
        "duration": 2,
        "start_time": "2023-04-15T09:46:36.472Z"
      },
      {
        "duration": 1657,
        "start_time": "2023-04-15T09:46:36.476Z"
      },
      {
        "duration": 3,
        "start_time": "2023-04-15T09:46:38.135Z"
      },
      {
        "duration": 46,
        "start_time": "2023-04-15T09:46:38.139Z"
      },
      {
        "duration": 30,
        "start_time": "2023-04-15T09:46:38.187Z"
      },
      {
        "duration": 22,
        "start_time": "2023-04-15T09:46:38.218Z"
      },
      {
        "duration": 28,
        "start_time": "2023-04-15T09:46:38.242Z"
      },
      {
        "duration": 41,
        "start_time": "2023-04-15T09:46:38.272Z"
      },
      {
        "duration": 11,
        "start_time": "2023-04-15T09:46:38.316Z"
      },
      {
        "duration": 426,
        "start_time": "2023-04-15T09:46:38.329Z"
      },
      {
        "duration": 26,
        "start_time": "2023-04-15T09:46:38.756Z"
      },
      {
        "duration": 10,
        "start_time": "2023-04-15T09:46:38.784Z"
      },
      {
        "duration": 141,
        "start_time": "2023-04-15T09:46:38.796Z"
      },
      {
        "duration": 4,
        "start_time": "2023-04-15T09:46:38.938Z"
      },
      {
        "duration": 1562,
        "start_time": "2023-04-15T16:51:23.496Z"
      },
      {
        "duration": 1364,
        "start_time": "2023-04-15T16:57:17.552Z"
      },
      {
        "duration": 88,
        "start_time": "2023-04-15T16:57:18.918Z"
      },
      {
        "duration": 16,
        "start_time": "2023-04-15T16:57:19.008Z"
      },
      {
        "duration": 69,
        "start_time": "2023-04-15T16:57:19.026Z"
      },
      {
        "duration": 5,
        "start_time": "2023-04-15T16:57:19.097Z"
      },
      {
        "duration": 8,
        "start_time": "2023-04-15T16:57:19.103Z"
      },
      {
        "duration": 21,
        "start_time": "2023-04-15T16:57:19.112Z"
      },
      {
        "duration": 13,
        "start_time": "2023-04-15T16:57:19.135Z"
      },
      {
        "duration": 7,
        "start_time": "2023-04-15T16:57:19.149Z"
      },
      {
        "duration": 4,
        "start_time": "2023-04-15T16:57:19.157Z"
      },
      {
        "duration": 44,
        "start_time": "2023-04-15T16:57:19.162Z"
      },
      {
        "duration": 185,
        "start_time": "2023-04-15T16:57:19.208Z"
      },
      {
        "duration": 6,
        "start_time": "2023-04-15T16:57:19.395Z"
      },
      {
        "duration": 20,
        "start_time": "2023-04-15T16:57:19.405Z"
      },
      {
        "duration": 4,
        "start_time": "2023-04-15T16:57:19.428Z"
      },
      {
        "duration": 7,
        "start_time": "2023-04-15T16:57:19.434Z"
      },
      {
        "duration": 4,
        "start_time": "2023-04-15T16:57:19.442Z"
      },
      {
        "duration": 170,
        "start_time": "2023-04-15T16:57:19.448Z"
      },
      {
        "duration": 6,
        "start_time": "2023-04-15T16:57:19.620Z"
      },
      {
        "duration": 10,
        "start_time": "2023-04-15T16:57:19.628Z"
      },
      {
        "duration": 3,
        "start_time": "2023-04-15T16:57:19.640Z"
      },
      {
        "duration": 17,
        "start_time": "2023-04-15T16:57:19.645Z"
      },
      {
        "duration": 4,
        "start_time": "2023-04-15T16:57:19.663Z"
      },
      {
        "duration": 3,
        "start_time": "2023-04-15T16:57:19.669Z"
      },
      {
        "duration": 122,
        "start_time": "2023-04-15T16:57:19.674Z"
      },
      {
        "duration": 0,
        "start_time": "2023-04-15T16:57:19.798Z"
      },
      {
        "duration": 0,
        "start_time": "2023-04-15T16:57:19.800Z"
      },
      {
        "duration": 0,
        "start_time": "2023-04-15T16:57:19.802Z"
      },
      {
        "duration": 0,
        "start_time": "2023-04-15T16:57:19.803Z"
      },
      {
        "duration": 0,
        "start_time": "2023-04-15T16:57:19.804Z"
      },
      {
        "duration": 0,
        "start_time": "2023-04-15T16:57:19.805Z"
      },
      {
        "duration": 0,
        "start_time": "2023-04-15T16:57:19.806Z"
      },
      {
        "duration": 0,
        "start_time": "2023-04-15T16:57:19.807Z"
      },
      {
        "duration": 0,
        "start_time": "2023-04-15T16:57:19.808Z"
      },
      {
        "duration": 0,
        "start_time": "2023-04-15T16:57:19.808Z"
      },
      {
        "duration": 0,
        "start_time": "2023-04-15T16:57:19.809Z"
      },
      {
        "duration": 12,
        "start_time": "2023-04-15T16:57:32.523Z"
      },
      {
        "duration": 12,
        "start_time": "2023-04-15T16:57:39.823Z"
      },
      {
        "duration": 9,
        "start_time": "2023-04-15T16:57:42.946Z"
      },
      {
        "duration": 5,
        "start_time": "2023-04-15T16:57:50.608Z"
      },
      {
        "duration": 7,
        "start_time": "2023-04-15T16:57:53.810Z"
      },
      {
        "duration": 10,
        "start_time": "2023-04-15T16:57:54.542Z"
      },
      {
        "duration": 12,
        "start_time": "2023-04-15T16:57:59.212Z"
      },
      {
        "duration": 8,
        "start_time": "2023-04-15T16:58:10.242Z"
      },
      {
        "duration": 7,
        "start_time": "2023-04-15T16:58:14.737Z"
      },
      {
        "duration": 4,
        "start_time": "2023-04-15T16:58:20.626Z"
      },
      {
        "duration": 6,
        "start_time": "2023-04-15T16:58:23.754Z"
      },
      {
        "duration": 7,
        "start_time": "2023-04-15T16:58:28.327Z"
      },
      {
        "duration": 6,
        "start_time": "2023-04-15T16:58:31.521Z"
      },
      {
        "duration": 5,
        "start_time": "2023-04-15T16:58:43.557Z"
      },
      {
        "duration": 6,
        "start_time": "2023-04-15T16:58:44.300Z"
      },
      {
        "duration": 7,
        "start_time": "2023-04-15T16:58:46.299Z"
      },
      {
        "duration": 6,
        "start_time": "2023-04-15T16:59:39.965Z"
      },
      {
        "duration": 17,
        "start_time": "2023-04-15T17:02:23.906Z"
      },
      {
        "duration": 6628,
        "start_time": "2023-04-15T17:03:28.428Z"
      },
      {
        "duration": 1168,
        "start_time": "2023-04-15T17:03:35.059Z"
      },
      {
        "duration": 49,
        "start_time": "2023-04-15T17:03:36.228Z"
      },
      {
        "duration": 12,
        "start_time": "2023-04-15T17:03:36.279Z"
      },
      {
        "duration": 45,
        "start_time": "2023-04-15T17:03:36.293Z"
      },
      {
        "duration": 4,
        "start_time": "2023-04-15T17:03:36.339Z"
      },
      {
        "duration": 5,
        "start_time": "2023-04-15T17:03:36.345Z"
      },
      {
        "duration": 15,
        "start_time": "2023-04-15T17:03:36.352Z"
      },
      {
        "duration": 6,
        "start_time": "2023-04-15T17:03:36.390Z"
      },
      {
        "duration": 11,
        "start_time": "2023-04-15T17:03:36.398Z"
      },
      {
        "duration": 5,
        "start_time": "2023-04-15T17:03:36.410Z"
      },
      {
        "duration": 17,
        "start_time": "2023-04-15T17:03:36.417Z"
      },
      {
        "duration": 173,
        "start_time": "2023-04-15T17:03:36.436Z"
      },
      {
        "duration": 5,
        "start_time": "2023-04-15T17:03:36.612Z"
      },
      {
        "duration": 13,
        "start_time": "2023-04-15T17:03:36.619Z"
      },
      {
        "duration": 4,
        "start_time": "2023-04-15T17:03:36.633Z"
      },
      {
        "duration": 7,
        "start_time": "2023-04-15T17:03:36.638Z"
      },
      {
        "duration": 7,
        "start_time": "2023-04-15T17:03:36.647Z"
      },
      {
        "duration": 165,
        "start_time": "2023-04-15T17:03:36.655Z"
      },
      {
        "duration": 5,
        "start_time": "2023-04-15T17:03:36.821Z"
      },
      {
        "duration": 25,
        "start_time": "2023-04-15T17:03:36.828Z"
      },
      {
        "duration": 8,
        "start_time": "2023-04-15T17:03:36.855Z"
      },
      {
        "duration": 5,
        "start_time": "2023-04-15T17:03:36.865Z"
      },
      {
        "duration": 4,
        "start_time": "2023-04-15T17:03:36.871Z"
      },
      {
        "duration": 5,
        "start_time": "2023-04-15T17:03:36.877Z"
      },
      {
        "duration": 22,
        "start_time": "2023-04-15T17:03:36.883Z"
      },
      {
        "duration": 22,
        "start_time": "2023-04-15T17:03:36.907Z"
      },
      {
        "duration": 6,
        "start_time": "2023-04-15T17:03:36.931Z"
      },
      {
        "duration": 7,
        "start_time": "2023-04-15T17:03:36.938Z"
      },
      {
        "duration": 7,
        "start_time": "2023-04-15T17:03:36.947Z"
      },
      {
        "duration": 5,
        "start_time": "2023-04-15T17:03:36.956Z"
      },
      {
        "duration": 6,
        "start_time": "2023-04-15T17:03:36.962Z"
      },
      {
        "duration": 15,
        "start_time": "2023-04-15T17:03:36.969Z"
      },
      {
        "duration": 12,
        "start_time": "2023-04-15T17:03:36.986Z"
      },
      {
        "duration": 14,
        "start_time": "2023-04-15T17:03:37.000Z"
      },
      {
        "duration": 13,
        "start_time": "2023-04-15T17:03:37.016Z"
      },
      {
        "duration": 11,
        "start_time": "2023-04-15T17:03:37.031Z"
      },
      {
        "duration": 17,
        "start_time": "2023-04-15T17:03:42.570Z"
      },
      {
        "duration": 17,
        "start_time": "2023-04-15T17:03:59.311Z"
      },
      {
        "duration": 4,
        "start_time": "2023-04-15T17:04:38.830Z"
      },
      {
        "duration": 8,
        "start_time": "2023-04-15T17:10:35.360Z"
      },
      {
        "duration": 111,
        "start_time": "2023-04-15T17:14:23.867Z"
      },
      {
        "duration": 2175,
        "start_time": "2023-04-15T17:17:35.366Z"
      },
      {
        "duration": 1230,
        "start_time": "2023-04-15T17:17:37.544Z"
      },
      {
        "duration": 53,
        "start_time": "2023-04-15T17:17:38.776Z"
      },
      {
        "duration": 14,
        "start_time": "2023-04-15T17:17:38.831Z"
      },
      {
        "duration": 58,
        "start_time": "2023-04-15T17:17:38.847Z"
      },
      {
        "duration": 4,
        "start_time": "2023-04-15T17:17:38.907Z"
      },
      {
        "duration": 5,
        "start_time": "2023-04-15T17:17:38.913Z"
      },
      {
        "duration": 21,
        "start_time": "2023-04-15T17:17:38.919Z"
      },
      {
        "duration": 6,
        "start_time": "2023-04-15T17:17:38.941Z"
      },
      {
        "duration": 8,
        "start_time": "2023-04-15T17:17:38.950Z"
      },
      {
        "duration": 7,
        "start_time": "2023-04-15T17:17:38.988Z"
      },
      {
        "duration": 15,
        "start_time": "2023-04-15T17:17:38.997Z"
      },
      {
        "duration": 167,
        "start_time": "2023-04-15T17:17:39.014Z"
      },
      {
        "duration": 10,
        "start_time": "2023-04-15T17:17:39.182Z"
      },
      {
        "duration": 21,
        "start_time": "2023-04-15T17:17:39.194Z"
      },
      {
        "duration": 18,
        "start_time": "2023-04-15T17:17:39.217Z"
      },
      {
        "duration": 12,
        "start_time": "2023-04-15T17:17:39.236Z"
      },
      {
        "duration": 12,
        "start_time": "2023-04-15T17:17:39.250Z"
      },
      {
        "duration": 146,
        "start_time": "2023-04-15T17:17:39.264Z"
      },
      {
        "duration": 6,
        "start_time": "2023-04-15T17:17:39.412Z"
      },
      {
        "duration": 8,
        "start_time": "2023-04-15T17:17:39.420Z"
      },
      {
        "duration": 15,
        "start_time": "2023-04-15T17:17:39.430Z"
      },
      {
        "duration": 9,
        "start_time": "2023-04-15T17:17:39.447Z"
      },
      {
        "duration": 7,
        "start_time": "2023-04-15T17:17:39.457Z"
      },
      {
        "duration": 4,
        "start_time": "2023-04-15T17:17:39.465Z"
      },
      {
        "duration": 17,
        "start_time": "2023-04-15T17:17:39.471Z"
      },
      {
        "duration": 5,
        "start_time": "2023-04-15T17:17:39.490Z"
      },
      {
        "duration": 7,
        "start_time": "2023-04-15T17:17:39.499Z"
      },
      {
        "duration": 7,
        "start_time": "2023-04-15T17:17:39.508Z"
      },
      {
        "duration": 7,
        "start_time": "2023-04-15T17:17:39.517Z"
      },
      {
        "duration": 10,
        "start_time": "2023-04-15T17:17:39.526Z"
      },
      {
        "duration": 15,
        "start_time": "2023-04-15T17:17:39.538Z"
      },
      {
        "duration": 35,
        "start_time": "2023-04-15T17:17:39.555Z"
      },
      {
        "duration": 7,
        "start_time": "2023-04-15T17:17:39.593Z"
      },
      {
        "duration": 21,
        "start_time": "2023-04-15T17:17:39.602Z"
      },
      {
        "duration": 20,
        "start_time": "2023-04-15T17:17:39.625Z"
      },
      {
        "duration": 24,
        "start_time": "2023-04-15T17:17:39.647Z"
      },
      {
        "duration": 25,
        "start_time": "2023-04-15T17:17:39.673Z"
      },
      {
        "duration": 22,
        "start_time": "2023-04-15T17:17:44.431Z"
      },
      {
        "duration": 4,
        "start_time": "2023-04-15T17:18:34.819Z"
      },
      {
        "duration": 4,
        "start_time": "2023-04-15T17:18:50.405Z"
      },
      {
        "duration": 12,
        "start_time": "2023-04-15T17:21:54.768Z"
      },
      {
        "duration": 6,
        "start_time": "2023-04-15T17:22:01.614Z"
      },
      {
        "duration": 112,
        "start_time": "2023-04-15T17:23:19.457Z"
      },
      {
        "duration": 15,
        "start_time": "2023-04-15T17:23:30.799Z"
      },
      {
        "duration": 8,
        "start_time": "2023-04-15T17:24:12.306Z"
      },
      {
        "duration": 18,
        "start_time": "2023-04-15T17:27:32.807Z"
      },
      {
        "duration": 17,
        "start_time": "2023-04-15T17:27:54.806Z"
      },
      {
        "duration": 15,
        "start_time": "2023-04-15T17:28:07.110Z"
      },
      {
        "duration": 14,
        "start_time": "2023-04-15T17:28:19.412Z"
      },
      {
        "duration": 15,
        "start_time": "2023-04-15T17:28:31.106Z"
      },
      {
        "duration": 2231,
        "start_time": "2023-04-15T17:36:33.731Z"
      },
      {
        "duration": 1335,
        "start_time": "2023-04-15T17:36:35.964Z"
      },
      {
        "duration": 68,
        "start_time": "2023-04-15T17:36:37.301Z"
      },
      {
        "duration": 14,
        "start_time": "2023-04-15T17:36:37.372Z"
      },
      {
        "duration": 57,
        "start_time": "2023-04-15T17:36:37.388Z"
      },
      {
        "duration": 4,
        "start_time": "2023-04-15T17:36:37.446Z"
      },
      {
        "duration": 21,
        "start_time": "2023-04-15T17:36:37.452Z"
      },
      {
        "duration": 60,
        "start_time": "2023-04-15T17:36:37.474Z"
      },
      {
        "duration": 51,
        "start_time": "2023-04-15T17:36:37.536Z"
      },
      {
        "duration": 22,
        "start_time": "2023-04-15T17:36:37.590Z"
      },
      {
        "duration": 24,
        "start_time": "2023-04-15T17:36:37.614Z"
      },
      {
        "duration": 39,
        "start_time": "2023-04-15T17:36:37.640Z"
      },
      {
        "duration": 187,
        "start_time": "2023-04-15T17:36:37.681Z"
      },
      {
        "duration": 5,
        "start_time": "2023-04-15T17:36:37.872Z"
      },
      {
        "duration": 25,
        "start_time": "2023-04-15T17:36:37.878Z"
      },
      {
        "duration": 5,
        "start_time": "2023-04-15T17:36:37.905Z"
      },
      {
        "duration": 11,
        "start_time": "2023-04-15T17:36:37.913Z"
      },
      {
        "duration": 9,
        "start_time": "2023-04-15T17:36:37.926Z"
      },
      {
        "duration": 181,
        "start_time": "2023-04-15T17:36:37.938Z"
      },
      {
        "duration": 6,
        "start_time": "2023-04-15T17:36:38.121Z"
      },
      {
        "duration": 9,
        "start_time": "2023-04-15T17:36:38.128Z"
      },
      {
        "duration": 3,
        "start_time": "2023-04-15T17:36:38.139Z"
      },
      {
        "duration": 4,
        "start_time": "2023-04-15T17:36:38.144Z"
      },
      {
        "duration": 4,
        "start_time": "2023-04-15T17:36:38.149Z"
      },
      {
        "duration": 7,
        "start_time": "2023-04-15T17:36:38.154Z"
      },
      {
        "duration": 34,
        "start_time": "2023-04-15T17:36:38.162Z"
      },
      {
        "duration": 3,
        "start_time": "2023-04-15T17:36:38.198Z"
      },
      {
        "duration": 7,
        "start_time": "2023-04-15T17:36:38.203Z"
      },
      {
        "duration": 7,
        "start_time": "2023-04-15T17:36:38.213Z"
      },
      {
        "duration": 9,
        "start_time": "2023-04-15T17:36:38.222Z"
      },
      {
        "duration": 5,
        "start_time": "2023-04-15T17:36:38.233Z"
      },
      {
        "duration": 6,
        "start_time": "2023-04-15T17:36:38.240Z"
      },
      {
        "duration": 43,
        "start_time": "2023-04-15T17:36:38.248Z"
      },
      {
        "duration": 6,
        "start_time": "2023-04-15T17:36:38.293Z"
      },
      {
        "duration": 27,
        "start_time": "2023-04-15T17:36:38.301Z"
      },
      {
        "duration": 8,
        "start_time": "2023-04-15T17:36:38.329Z"
      },
      {
        "duration": 13,
        "start_time": "2023-04-15T17:36:38.339Z"
      },
      {
        "duration": 20,
        "start_time": "2023-04-15T17:36:38.354Z"
      },
      {
        "duration": 30,
        "start_time": "2023-04-15T17:36:38.376Z"
      },
      {
        "duration": 4,
        "start_time": "2023-04-15T17:36:38.408Z"
      },
      {
        "duration": 16,
        "start_time": "2023-04-15T17:36:38.417Z"
      },
      {
        "duration": 17,
        "start_time": "2023-04-15T17:36:38.435Z"
      },
      {
        "duration": 36,
        "start_time": "2023-04-15T17:36:38.453Z"
      },
      {
        "duration": 19,
        "start_time": "2023-04-15T17:36:38.492Z"
      },
      {
        "duration": 17,
        "start_time": "2023-04-15T17:36:38.514Z"
      },
      {
        "duration": 15,
        "start_time": "2023-04-15T17:36:38.533Z"
      },
      {
        "duration": 18,
        "start_time": "2023-04-15T17:36:38.550Z"
      },
      {
        "duration": 1674,
        "start_time": "2023-04-15T17:36:38.588Z"
      },
      {
        "duration": 4,
        "start_time": "2023-04-15T17:36:40.263Z"
      },
      {
        "duration": 1397,
        "start_time": "2023-04-15T17:36:40.269Z"
      },
      {
        "duration": 108404,
        "start_time": "2023-04-15T17:36:41.668Z"
      },
      {
        "duration": 3,
        "start_time": "2023-04-15T17:38:30.073Z"
      },
      {
        "duration": 1716,
        "start_time": "2023-04-15T17:38:30.077Z"
      },
      {
        "duration": 3,
        "start_time": "2023-04-15T17:38:31.795Z"
      },
      {
        "duration": 98,
        "start_time": "2023-04-15T17:38:31.800Z"
      },
      {
        "duration": 1692,
        "start_time": "2023-04-15T17:38:31.901Z"
      },
      {
        "duration": 4,
        "start_time": "2023-04-15T17:38:33.595Z"
      },
      {
        "duration": 108309,
        "start_time": "2023-04-15T17:38:33.600Z"
      },
      {
        "duration": 4,
        "start_time": "2023-04-15T17:40:21.911Z"
      },
      {
        "duration": 1581,
        "start_time": "2023-04-15T17:40:21.917Z"
      },
      {
        "duration": 2,
        "start_time": "2023-04-15T17:40:23.500Z"
      },
      {
        "duration": 89,
        "start_time": "2023-04-15T17:40:23.504Z"
      },
      {
        "duration": 101,
        "start_time": "2023-04-15T17:40:23.595Z"
      },
      {
        "duration": 1864,
        "start_time": "2023-04-15T17:40:23.698Z"
      },
      {
        "duration": 2,
        "start_time": "2023-04-15T17:40:25.564Z"
      },
      {
        "duration": 104676,
        "start_time": "2023-04-15T17:40:25.568Z"
      },
      {
        "duration": 11,
        "start_time": "2023-04-15T17:42:10.246Z"
      },
      {
        "duration": 1839,
        "start_time": "2023-04-15T17:42:10.259Z"
      },
      {
        "duration": 88,
        "start_time": "2023-04-15T17:42:12.101Z"
      },
      {
        "duration": 97,
        "start_time": "2023-04-15T17:42:12.191Z"
      },
      {
        "duration": 16,
        "start_time": "2023-04-15T17:42:12.291Z"
      },
      {
        "duration": 896,
        "start_time": "2023-04-15T17:42:12.309Z"
      },
      {
        "duration": 3,
        "start_time": "2023-04-15T17:42:13.208Z"
      },
      {
        "duration": 64781,
        "start_time": "2023-04-15T17:42:13.213Z"
      },
      {
        "duration": 3,
        "start_time": "2023-04-15T17:43:17.995Z"
      },
      {
        "duration": 1293,
        "start_time": "2023-04-15T17:43:18.000Z"
      },
      {
        "duration": 3,
        "start_time": "2023-04-15T17:43:19.295Z"
      },
      {
        "duration": 102,
        "start_time": "2023-04-15T17:43:19.300Z"
      },
      {
        "duration": 5,
        "start_time": "2023-04-15T17:43:19.404Z"
      },
      {
        "duration": 8,
        "start_time": "2023-04-15T17:43:19.410Z"
      },
      {
        "duration": 5,
        "start_time": "2023-04-15T17:43:19.420Z"
      },
      {
        "duration": 11,
        "start_time": "2023-04-15T17:43:19.427Z"
      },
      {
        "duration": 4,
        "start_time": "2023-04-15T17:43:19.440Z"
      },
      {
        "duration": 461,
        "start_time": "2023-04-15T17:43:19.447Z"
      },
      {
        "duration": 28,
        "start_time": "2023-04-15T17:43:19.910Z"
      },
      {
        "duration": 12,
        "start_time": "2023-04-15T17:43:19.940Z"
      },
      {
        "duration": 168,
        "start_time": "2023-04-15T17:43:19.953Z"
      },
      {
        "duration": 5,
        "start_time": "2023-04-15T17:43:20.123Z"
      },
      {
        "duration": 7030,
        "start_time": "2023-04-16T06:53:03.319Z"
      },
      {
        "duration": 1351,
        "start_time": "2023-04-16T06:53:10.351Z"
      },
      {
        "duration": 190,
        "start_time": "2023-04-16T06:53:11.705Z"
      },
      {
        "duration": 12,
        "start_time": "2023-04-16T06:53:11.898Z"
      },
      {
        "duration": 47,
        "start_time": "2023-04-16T06:53:11.912Z"
      },
      {
        "duration": 23,
        "start_time": "2023-04-16T06:53:11.960Z"
      },
      {
        "duration": 5,
        "start_time": "2023-04-16T06:53:11.984Z"
      },
      {
        "duration": 19,
        "start_time": "2023-04-16T06:53:11.991Z"
      },
      {
        "duration": 7,
        "start_time": "2023-04-16T06:53:12.011Z"
      },
      {
        "duration": 13,
        "start_time": "2023-04-16T06:53:12.021Z"
      },
      {
        "duration": 6,
        "start_time": "2023-04-16T06:53:12.036Z"
      },
      {
        "duration": 40,
        "start_time": "2023-04-16T06:53:12.044Z"
      },
      {
        "duration": 151,
        "start_time": "2023-04-16T06:53:12.086Z"
      },
      {
        "duration": 5,
        "start_time": "2023-04-16T06:53:12.239Z"
      },
      {
        "duration": 21,
        "start_time": "2023-04-16T06:53:12.246Z"
      },
      {
        "duration": 16,
        "start_time": "2023-04-16T06:53:12.269Z"
      },
      {
        "duration": 12,
        "start_time": "2023-04-16T06:53:12.286Z"
      },
      {
        "duration": 11,
        "start_time": "2023-04-16T06:53:12.299Z"
      },
      {
        "duration": 136,
        "start_time": "2023-04-16T06:53:12.312Z"
      },
      {
        "duration": 6,
        "start_time": "2023-04-16T06:53:12.450Z"
      },
      {
        "duration": 25,
        "start_time": "2023-04-16T06:53:12.458Z"
      },
      {
        "duration": 2,
        "start_time": "2023-04-16T06:53:12.485Z"
      },
      {
        "duration": 6,
        "start_time": "2023-04-16T06:53:12.489Z"
      },
      {
        "duration": 14,
        "start_time": "2023-04-16T06:53:12.497Z"
      },
      {
        "duration": 19,
        "start_time": "2023-04-16T06:53:12.512Z"
      },
      {
        "duration": 12,
        "start_time": "2023-04-16T06:53:12.532Z"
      },
      {
        "duration": 3,
        "start_time": "2023-04-16T06:53:12.546Z"
      },
      {
        "duration": 7,
        "start_time": "2023-04-16T06:53:12.553Z"
      },
      {
        "duration": 8,
        "start_time": "2023-04-16T06:53:12.561Z"
      },
      {
        "duration": 15,
        "start_time": "2023-04-16T06:53:12.571Z"
      },
      {
        "duration": 4,
        "start_time": "2023-04-16T06:53:12.588Z"
      },
      {
        "duration": 9,
        "start_time": "2023-04-16T06:53:12.593Z"
      },
      {
        "duration": 4,
        "start_time": "2023-04-16T06:53:12.604Z"
      },
      {
        "duration": 16,
        "start_time": "2023-04-16T06:53:12.610Z"
      },
      {
        "duration": 5,
        "start_time": "2023-04-16T06:53:12.628Z"
      },
      {
        "duration": 8,
        "start_time": "2023-04-16T06:53:12.635Z"
      },
      {
        "duration": 10,
        "start_time": "2023-04-16T06:53:12.644Z"
      },
      {
        "duration": 42,
        "start_time": "2023-04-16T06:53:12.656Z"
      },
      {
        "duration": 21,
        "start_time": "2023-04-16T06:53:12.700Z"
      },
      {
        "duration": 3,
        "start_time": "2023-04-16T06:53:12.724Z"
      },
      {
        "duration": 18,
        "start_time": "2023-04-16T06:53:12.729Z"
      },
      {
        "duration": 10,
        "start_time": "2023-04-16T06:53:12.748Z"
      },
      {
        "duration": 37,
        "start_time": "2023-04-16T06:53:12.760Z"
      },
      {
        "duration": 14,
        "start_time": "2023-04-16T06:53:12.799Z"
      },
      {
        "duration": 14,
        "start_time": "2023-04-16T06:53:12.814Z"
      },
      {
        "duration": 22,
        "start_time": "2023-04-16T06:53:12.830Z"
      },
      {
        "duration": 34,
        "start_time": "2023-04-16T06:53:12.853Z"
      },
      {
        "duration": 1479,
        "start_time": "2023-04-16T06:53:12.888Z"
      },
      {
        "duration": 3,
        "start_time": "2023-04-16T06:53:14.368Z"
      },
      {
        "duration": 1086,
        "start_time": "2023-04-16T06:53:14.382Z"
      },
      {
        "duration": 102771,
        "start_time": "2023-04-16T06:53:15.470Z"
      },
      {
        "duration": 2,
        "start_time": "2023-04-16T06:54:58.243Z"
      },
      {
        "duration": 1339,
        "start_time": "2023-04-16T06:54:58.246Z"
      },
      {
        "duration": 10,
        "start_time": "2023-04-16T06:54:59.592Z"
      },
      {
        "duration": 88,
        "start_time": "2023-04-16T06:54:59.610Z"
      },
      {
        "duration": 1906,
        "start_time": "2023-04-16T06:54:59.701Z"
      },
      {
        "duration": 3,
        "start_time": "2023-04-16T06:55:01.609Z"
      },
      {
        "duration": 106597,
        "start_time": "2023-04-16T06:55:01.614Z"
      },
      {
        "duration": 3,
        "start_time": "2023-04-16T06:56:48.212Z"
      },
      {
        "duration": 1778,
        "start_time": "2023-04-16T06:56:48.217Z"
      },
      {
        "duration": 4,
        "start_time": "2023-04-16T06:56:50.085Z"
      },
      {
        "duration": 94,
        "start_time": "2023-04-16T06:56:50.091Z"
      },
      {
        "duration": 23,
        "start_time": "2023-04-16T06:56:50.187Z"
      },
      {
        "duration": 1910,
        "start_time": "2023-04-16T06:56:50.212Z"
      },
      {
        "duration": 3,
        "start_time": "2023-04-16T06:56:52.124Z"
      },
      {
        "duration": 103049,
        "start_time": "2023-04-16T06:56:52.128Z"
      },
      {
        "duration": 5,
        "start_time": "2023-04-16T06:58:35.178Z"
      },
      {
        "duration": 2199,
        "start_time": "2023-04-16T06:58:35.185Z"
      },
      {
        "duration": 3,
        "start_time": "2023-04-16T06:58:37.387Z"
      },
      {
        "duration": 116,
        "start_time": "2023-04-16T06:58:37.393Z"
      },
      {
        "duration": 33,
        "start_time": "2023-04-16T06:58:37.511Z"
      },
      {
        "duration": 841,
        "start_time": "2023-04-16T06:58:37.546Z"
      },
      {
        "duration": 3,
        "start_time": "2023-04-16T06:58:38.388Z"
      },
      {
        "duration": 60586,
        "start_time": "2023-04-16T06:58:38.393Z"
      },
      {
        "duration": 8,
        "start_time": "2023-04-16T06:59:38.983Z"
      },
      {
        "duration": 1504,
        "start_time": "2023-04-16T06:59:38.993Z"
      },
      {
        "duration": 6,
        "start_time": "2023-04-16T06:59:40.588Z"
      },
      {
        "duration": 104,
        "start_time": "2023-04-16T06:59:40.597Z"
      },
      {
        "duration": 22,
        "start_time": "2023-04-16T06:59:40.702Z"
      },
      {
        "duration": 18,
        "start_time": "2023-04-16T06:59:40.725Z"
      },
      {
        "duration": 15,
        "start_time": "2023-04-16T06:59:40.745Z"
      },
      {
        "duration": 25,
        "start_time": "2023-04-16T06:59:40.765Z"
      },
      {
        "duration": 16,
        "start_time": "2023-04-16T06:59:40.792Z"
      },
      {
        "duration": 431,
        "start_time": "2023-04-16T06:59:40.810Z"
      },
      {
        "duration": 41,
        "start_time": "2023-04-16T06:59:41.243Z"
      },
      {
        "duration": 13,
        "start_time": "2023-04-16T06:59:41.286Z"
      },
      {
        "duration": 151,
        "start_time": "2023-04-16T06:59:41.301Z"
      },
      {
        "duration": 5,
        "start_time": "2023-04-16T06:59:41.454Z"
      },
      {
        "duration": 11,
        "start_time": "2023-04-16T07:03:48.350Z"
      },
      {
        "duration": 15,
        "start_time": "2023-04-16T07:06:59.070Z"
      },
      {
        "duration": 14,
        "start_time": "2023-04-16T07:07:31.433Z"
      },
      {
        "duration": 16,
        "start_time": "2023-04-16T07:07:34.329Z"
      },
      {
        "duration": 13,
        "start_time": "2023-04-16T07:07:36.419Z"
      },
      {
        "duration": 16,
        "start_time": "2023-04-16T07:07:38.502Z"
      },
      {
        "duration": 16,
        "start_time": "2023-04-16T07:07:40.694Z"
      },
      {
        "duration": 14,
        "start_time": "2023-04-16T07:07:42.335Z"
      },
      {
        "duration": 16,
        "start_time": "2023-04-16T07:07:44.007Z"
      },
      {
        "duration": 13,
        "start_time": "2023-04-16T07:07:49.479Z"
      },
      {
        "duration": 6,
        "start_time": "2023-04-16T07:08:07.585Z"
      },
      {
        "duration": 6,
        "start_time": "2023-04-16T07:08:10.326Z"
      },
      {
        "duration": 6,
        "start_time": "2023-04-16T07:08:13.242Z"
      },
      {
        "duration": 2387,
        "start_time": "2023-04-16T07:08:43.632Z"
      },
      {
        "duration": 1197,
        "start_time": "2023-04-16T07:08:46.022Z"
      },
      {
        "duration": 58,
        "start_time": "2023-04-16T07:08:47.221Z"
      },
      {
        "duration": 18,
        "start_time": "2023-04-16T07:08:47.281Z"
      },
      {
        "duration": 68,
        "start_time": "2023-04-16T07:08:47.301Z"
      },
      {
        "duration": 12,
        "start_time": "2023-04-16T07:08:47.371Z"
      },
      {
        "duration": 29,
        "start_time": "2023-04-16T07:08:47.386Z"
      },
      {
        "duration": 49,
        "start_time": "2023-04-16T07:08:47.416Z"
      },
      {
        "duration": 21,
        "start_time": "2023-04-16T07:08:47.467Z"
      },
      {
        "duration": 13,
        "start_time": "2023-04-16T07:08:47.491Z"
      },
      {
        "duration": 11,
        "start_time": "2023-04-16T07:08:47.506Z"
      },
      {
        "duration": 23,
        "start_time": "2023-04-16T07:08:47.519Z"
      },
      {
        "duration": 201,
        "start_time": "2023-04-16T07:08:47.545Z"
      },
      {
        "duration": 8,
        "start_time": "2023-04-16T07:08:47.749Z"
      },
      {
        "duration": 27,
        "start_time": "2023-04-16T07:08:47.759Z"
      },
      {
        "duration": 4,
        "start_time": "2023-04-16T07:08:47.788Z"
      },
      {
        "duration": 18,
        "start_time": "2023-04-16T07:08:47.795Z"
      },
      {
        "duration": 11,
        "start_time": "2023-04-16T07:08:47.815Z"
      },
      {
        "duration": 179,
        "start_time": "2023-04-16T07:08:47.829Z"
      },
      {
        "duration": 9,
        "start_time": "2023-04-16T07:08:48.011Z"
      },
      {
        "duration": 14,
        "start_time": "2023-04-16T07:08:48.022Z"
      },
      {
        "duration": 12,
        "start_time": "2023-04-16T07:08:48.038Z"
      },
      {
        "duration": 6,
        "start_time": "2023-04-16T07:08:48.052Z"
      },
      {
        "duration": 6,
        "start_time": "2023-04-16T07:08:48.061Z"
      },
      {
        "duration": 3,
        "start_time": "2023-04-16T07:08:48.085Z"
      },
      {
        "duration": 13,
        "start_time": "2023-04-16T07:08:48.090Z"
      },
      {
        "duration": 5,
        "start_time": "2023-04-16T07:08:48.104Z"
      },
      {
        "duration": 5,
        "start_time": "2023-04-16T07:08:48.113Z"
      },
      {
        "duration": 9,
        "start_time": "2023-04-16T07:08:48.120Z"
      },
      {
        "duration": 7,
        "start_time": "2023-04-16T07:08:48.130Z"
      },
      {
        "duration": 6,
        "start_time": "2023-04-16T07:08:48.139Z"
      },
      {
        "duration": 6,
        "start_time": "2023-04-16T07:08:48.183Z"
      },
      {
        "duration": 7,
        "start_time": "2023-04-16T07:08:48.191Z"
      },
      {
        "duration": 9,
        "start_time": "2023-04-16T07:08:48.200Z"
      },
      {
        "duration": 8,
        "start_time": "2023-04-16T07:08:48.211Z"
      },
      {
        "duration": 11,
        "start_time": "2023-04-16T07:08:48.221Z"
      },
      {
        "duration": 12,
        "start_time": "2023-04-16T07:08:48.234Z"
      },
      {
        "duration": 22,
        "start_time": "2023-04-16T07:08:48.284Z"
      },
      {
        "duration": 22,
        "start_time": "2023-04-16T07:08:48.308Z"
      },
      {
        "duration": 5,
        "start_time": "2023-04-16T07:08:48.332Z"
      },
      {
        "duration": 46,
        "start_time": "2023-04-16T07:08:48.339Z"
      },
      {
        "duration": 9,
        "start_time": "2023-04-16T07:08:48.387Z"
      },
      {
        "duration": 23,
        "start_time": "2023-04-16T07:08:48.398Z"
      },
      {
        "duration": 17,
        "start_time": "2023-04-16T07:08:48.423Z"
      },
      {
        "duration": 24,
        "start_time": "2023-04-16T07:08:48.442Z"
      },
      {
        "duration": 22,
        "start_time": "2023-04-16T07:08:48.468Z"
      },
      {
        "duration": 16,
        "start_time": "2023-04-16T07:08:48.492Z"
      },
      {
        "duration": 16,
        "start_time": "2023-04-16T07:09:11.385Z"
      },
      {
        "duration": 1643,
        "start_time": "2023-04-16T07:09:20.765Z"
      },
      {
        "duration": 2288,
        "start_time": "2023-04-16T07:10:18.058Z"
      },
      {
        "duration": 1294,
        "start_time": "2023-04-16T07:10:20.348Z"
      },
      {
        "duration": 64,
        "start_time": "2023-04-16T07:10:21.644Z"
      },
      {
        "duration": 21,
        "start_time": "2023-04-16T07:10:21.711Z"
      },
      {
        "duration": 93,
        "start_time": "2023-04-16T07:10:21.735Z"
      },
      {
        "duration": 6,
        "start_time": "2023-04-16T07:10:21.830Z"
      },
      {
        "duration": 10,
        "start_time": "2023-04-16T07:10:21.838Z"
      },
      {
        "duration": 35,
        "start_time": "2023-04-16T07:10:21.851Z"
      },
      {
        "duration": 12,
        "start_time": "2023-04-16T07:10:21.889Z"
      },
      {
        "duration": 11,
        "start_time": "2023-04-16T07:10:21.904Z"
      },
      {
        "duration": 8,
        "start_time": "2023-04-16T07:10:21.917Z"
      },
      {
        "duration": 19,
        "start_time": "2023-04-16T07:10:21.927Z"
      },
      {
        "duration": 176,
        "start_time": "2023-04-16T07:10:21.948Z"
      },
      {
        "duration": 6,
        "start_time": "2023-04-16T07:10:22.126Z"
      },
      {
        "duration": 29,
        "start_time": "2023-04-16T07:10:22.134Z"
      },
      {
        "duration": 18,
        "start_time": "2023-04-16T07:10:22.165Z"
      },
      {
        "duration": 13,
        "start_time": "2023-04-16T07:10:22.185Z"
      },
      {
        "duration": 14,
        "start_time": "2023-04-16T07:10:22.201Z"
      },
      {
        "duration": 156,
        "start_time": "2023-04-16T07:10:22.216Z"
      },
      {
        "duration": 13,
        "start_time": "2023-04-16T07:10:22.374Z"
      },
      {
        "duration": 14,
        "start_time": "2023-04-16T07:10:22.388Z"
      },
      {
        "duration": 8,
        "start_time": "2023-04-16T07:10:22.404Z"
      },
      {
        "duration": 21,
        "start_time": "2023-04-16T07:10:22.414Z"
      },
      {
        "duration": 12,
        "start_time": "2023-04-16T07:10:22.437Z"
      },
      {
        "duration": 16,
        "start_time": "2023-04-16T07:10:22.451Z"
      },
      {
        "duration": 33,
        "start_time": "2023-04-16T07:10:22.468Z"
      },
      {
        "duration": 30,
        "start_time": "2023-04-16T07:10:22.503Z"
      },
      {
        "duration": 29,
        "start_time": "2023-04-16T07:10:22.537Z"
      },
      {
        "duration": 31,
        "start_time": "2023-04-16T07:10:22.568Z"
      },
      {
        "duration": 38,
        "start_time": "2023-04-16T07:10:22.601Z"
      },
      {
        "duration": 40,
        "start_time": "2023-04-16T07:10:22.640Z"
      },
      {
        "duration": 50,
        "start_time": "2023-04-16T07:10:22.682Z"
      },
      {
        "duration": 37,
        "start_time": "2023-04-16T07:10:22.734Z"
      },
      {
        "duration": 34,
        "start_time": "2023-04-16T07:10:22.773Z"
      },
      {
        "duration": 32,
        "start_time": "2023-04-16T07:10:22.809Z"
      },
      {
        "duration": 37,
        "start_time": "2023-04-16T07:10:22.843Z"
      },
      {
        "duration": 33,
        "start_time": "2023-04-16T07:10:22.881Z"
      },
      {
        "duration": 68,
        "start_time": "2023-04-16T07:10:22.916Z"
      },
      {
        "duration": 51,
        "start_time": "2023-04-16T07:10:22.986Z"
      },
      {
        "duration": 26,
        "start_time": "2023-04-16T07:10:23.039Z"
      },
      {
        "duration": 43,
        "start_time": "2023-04-16T07:10:23.066Z"
      },
      {
        "duration": 32,
        "start_time": "2023-04-16T07:10:23.110Z"
      },
      {
        "duration": 38,
        "start_time": "2023-04-16T07:10:23.144Z"
      },
      {
        "duration": 18,
        "start_time": "2023-04-16T07:10:23.183Z"
      },
      {
        "duration": 42,
        "start_time": "2023-04-16T07:10:23.202Z"
      },
      {
        "duration": 33,
        "start_time": "2023-04-16T07:10:23.245Z"
      },
      {
        "duration": 50,
        "start_time": "2023-04-16T07:10:23.280Z"
      },
      {
        "duration": 1630,
        "start_time": "2023-04-16T07:10:23.333Z"
      },
      {
        "duration": 3,
        "start_time": "2023-04-16T07:10:24.966Z"
      },
      {
        "duration": 1213,
        "start_time": "2023-04-16T07:10:24.971Z"
      },
      {
        "duration": 110984,
        "start_time": "2023-04-16T07:10:26.186Z"
      },
      {
        "duration": 3,
        "start_time": "2023-04-16T07:12:17.184Z"
      },
      {
        "duration": 1506,
        "start_time": "2023-04-16T07:12:17.188Z"
      },
      {
        "duration": 88,
        "start_time": "2023-04-16T07:12:18.697Z"
      },
      {
        "duration": 102,
        "start_time": "2023-04-16T07:12:18.787Z"
      },
      {
        "duration": 1663,
        "start_time": "2023-04-16T07:12:18.892Z"
      },
      {
        "duration": 3,
        "start_time": "2023-04-16T07:12:20.557Z"
      },
      {
        "duration": 113555,
        "start_time": "2023-04-16T07:12:20.561Z"
      },
      {
        "duration": 3,
        "start_time": "2023-04-16T07:14:14.118Z"
      },
      {
        "duration": 1572,
        "start_time": "2023-04-16T07:14:14.123Z"
      },
      {
        "duration": 86,
        "start_time": "2023-04-16T07:14:15.698Z"
      },
      {
        "duration": 5,
        "start_time": "2023-04-16T07:14:15.787Z"
      },
      {
        "duration": 96,
        "start_time": "2023-04-16T07:14:15.795Z"
      },
      {
        "duration": 1857,
        "start_time": "2023-04-16T07:14:15.893Z"
      },
      {
        "duration": 2,
        "start_time": "2023-04-16T07:14:17.752Z"
      },
      {
        "duration": 107430,
        "start_time": "2023-04-16T07:14:17.756Z"
      },
      {
        "duration": 3,
        "start_time": "2023-04-16T07:16:05.187Z"
      },
      {
        "duration": 2003,
        "start_time": "2023-04-16T07:16:05.192Z"
      },
      {
        "duration": 89,
        "start_time": "2023-04-16T07:16:07.199Z"
      },
      {
        "duration": 90,
        "start_time": "2023-04-16T07:16:07.295Z"
      },
      {
        "duration": 18,
        "start_time": "2023-04-16T07:16:07.387Z"
      },
      {
        "duration": 886,
        "start_time": "2023-04-16T07:16:07.407Z"
      },
      {
        "duration": 3,
        "start_time": "2023-04-16T07:16:08.296Z"
      },
      {
        "duration": 67175,
        "start_time": "2023-04-16T07:16:08.301Z"
      },
      {
        "duration": 4,
        "start_time": "2023-04-16T07:17:15.483Z"
      },
      {
        "duration": 1298,
        "start_time": "2023-04-16T07:17:15.488Z"
      },
      {
        "duration": 5,
        "start_time": "2023-04-16T07:17:16.789Z"
      },
      {
        "duration": 102,
        "start_time": "2023-04-16T07:17:16.796Z"
      },
      {
        "duration": 21,
        "start_time": "2023-04-16T07:17:16.900Z"
      },
      {
        "duration": 26,
        "start_time": "2023-04-16T07:17:16.923Z"
      },
      {
        "duration": 23,
        "start_time": "2023-04-16T07:17:16.952Z"
      },
      {
        "duration": 32,
        "start_time": "2023-04-16T07:17:16.980Z"
      },
      {
        "duration": 24,
        "start_time": "2023-04-16T07:17:17.013Z"
      },
      {
        "duration": 444,
        "start_time": "2023-04-16T07:17:17.039Z"
      },
      {
        "duration": 29,
        "start_time": "2023-04-16T07:17:17.485Z"
      },
      {
        "duration": 18,
        "start_time": "2023-04-16T07:17:17.517Z"
      },
      {
        "duration": 193,
        "start_time": "2023-04-16T07:17:17.537Z"
      },
      {
        "duration": 4,
        "start_time": "2023-04-16T07:17:17.732Z"
      },
      {
        "duration": 487,
        "start_time": "2023-04-16T07:21:49.859Z"
      },
      {
        "duration": 39,
        "start_time": "2023-04-16T07:30:29.909Z"
      },
      {
        "duration": 13,
        "start_time": "2023-04-16T07:30:39.007Z"
      },
      {
        "duration": 145,
        "start_time": "2023-04-16T07:30:42.109Z"
      },
      {
        "duration": 4,
        "start_time": "2023-04-16T07:37:50.789Z"
      },
      {
        "duration": 150,
        "start_time": "2023-04-16T07:40:28.527Z"
      },
      {
        "duration": 4,
        "start_time": "2023-04-16T07:40:37.414Z"
      },
      {
        "duration": 37,
        "start_time": "2023-04-16T07:42:32.654Z"
      },
      {
        "duration": 35,
        "start_time": "2023-04-16T07:42:41.773Z"
      },
      {
        "duration": 195,
        "start_time": "2023-04-16T07:45:48.311Z"
      },
      {
        "duration": 34,
        "start_time": "2023-04-16T07:47:26.967Z"
      },
      {
        "duration": 33,
        "start_time": "2023-04-16T07:47:51.724Z"
      },
      {
        "duration": 38,
        "start_time": "2023-04-16T07:48:52.724Z"
      },
      {
        "duration": 37,
        "start_time": "2023-04-16T07:49:17.429Z"
      },
      {
        "duration": 36,
        "start_time": "2023-04-16T07:52:21.721Z"
      },
      {
        "duration": 38,
        "start_time": "2023-04-16T07:53:32.166Z"
      },
      {
        "duration": 35,
        "start_time": "2023-04-16T07:53:46.059Z"
      },
      {
        "duration": 2661,
        "start_time": "2023-04-16T08:01:39.579Z"
      },
      {
        "duration": 1336,
        "start_time": "2023-04-16T08:01:42.243Z"
      },
      {
        "duration": 60,
        "start_time": "2023-04-16T08:01:43.581Z"
      },
      {
        "duration": 14,
        "start_time": "2023-04-16T08:01:43.643Z"
      },
      {
        "duration": 80,
        "start_time": "2023-04-16T08:01:43.659Z"
      },
      {
        "duration": 4,
        "start_time": "2023-04-16T08:01:43.741Z"
      },
      {
        "duration": 22,
        "start_time": "2023-04-16T08:01:43.747Z"
      },
      {
        "duration": 50,
        "start_time": "2023-04-16T08:01:43.771Z"
      },
      {
        "duration": 16,
        "start_time": "2023-04-16T08:01:43.823Z"
      },
      {
        "duration": 20,
        "start_time": "2023-04-16T08:01:43.844Z"
      },
      {
        "duration": 13,
        "start_time": "2023-04-16T08:01:43.866Z"
      },
      {
        "duration": 21,
        "start_time": "2023-04-16T08:01:43.881Z"
      },
      {
        "duration": 174,
        "start_time": "2023-04-16T08:01:43.904Z"
      },
      {
        "duration": 6,
        "start_time": "2023-04-16T08:01:44.080Z"
      },
      {
        "duration": 49,
        "start_time": "2023-04-16T08:01:44.088Z"
      },
      {
        "duration": 49,
        "start_time": "2023-04-16T08:01:44.139Z"
      },
      {
        "duration": 41,
        "start_time": "2023-04-16T08:01:44.190Z"
      },
      {
        "duration": 34,
        "start_time": "2023-04-16T08:01:44.233Z"
      },
      {
        "duration": 140,
        "start_time": "2023-04-16T08:01:44.269Z"
      },
      {
        "duration": 7,
        "start_time": "2023-04-16T08:01:44.411Z"
      },
      {
        "duration": 42,
        "start_time": "2023-04-16T08:01:44.420Z"
      },
      {
        "duration": 29,
        "start_time": "2023-04-16T08:01:44.464Z"
      },
      {
        "duration": 26,
        "start_time": "2023-04-16T08:01:44.495Z"
      },
      {
        "duration": 21,
        "start_time": "2023-04-16T08:01:44.522Z"
      },
      {
        "duration": 37,
        "start_time": "2023-04-16T08:01:44.545Z"
      },
      {
        "duration": 20,
        "start_time": "2023-04-16T08:01:44.584Z"
      },
      {
        "duration": 23,
        "start_time": "2023-04-16T08:01:44.606Z"
      },
      {
        "duration": 17,
        "start_time": "2023-04-16T08:01:44.635Z"
      },
      {
        "duration": 40,
        "start_time": "2023-04-16T08:01:44.654Z"
      },
      {
        "duration": 39,
        "start_time": "2023-04-16T08:01:44.696Z"
      },
      {
        "duration": 10,
        "start_time": "2023-04-16T08:01:44.737Z"
      },
      {
        "duration": 50,
        "start_time": "2023-04-16T08:01:44.748Z"
      },
      {
        "duration": 33,
        "start_time": "2023-04-16T08:01:44.801Z"
      },
      {
        "duration": 26,
        "start_time": "2023-04-16T08:01:44.836Z"
      },
      {
        "duration": 29,
        "start_time": "2023-04-16T08:01:44.868Z"
      },
      {
        "duration": 39,
        "start_time": "2023-04-16T08:01:44.900Z"
      },
      {
        "duration": 40,
        "start_time": "2023-04-16T08:01:44.940Z"
      },
      {
        "duration": 77,
        "start_time": "2023-04-16T08:01:44.982Z"
      },
      {
        "duration": 35,
        "start_time": "2023-04-16T08:01:45.061Z"
      },
      {
        "duration": 35,
        "start_time": "2023-04-16T08:01:45.098Z"
      },
      {
        "duration": 35,
        "start_time": "2023-04-16T08:01:45.135Z"
      },
      {
        "duration": 36,
        "start_time": "2023-04-16T08:01:45.172Z"
      },
      {
        "duration": 49,
        "start_time": "2023-04-16T08:01:45.210Z"
      },
      {
        "duration": 43,
        "start_time": "2023-04-16T08:01:45.262Z"
      },
      {
        "duration": 33,
        "start_time": "2023-04-16T08:01:45.306Z"
      },
      {
        "duration": 38,
        "start_time": "2023-04-16T08:01:45.341Z"
      },
      {
        "duration": 31,
        "start_time": "2023-04-16T08:01:45.382Z"
      },
      {
        "duration": 1844,
        "start_time": "2023-04-16T08:01:45.415Z"
      },
      {
        "duration": 3,
        "start_time": "2023-04-16T08:01:47.261Z"
      },
      {
        "duration": 1624,
        "start_time": "2023-04-16T08:01:47.266Z"
      },
      {
        "duration": 114825,
        "start_time": "2023-04-16T08:01:48.896Z"
      },
      {
        "duration": 16,
        "start_time": "2023-04-16T08:03:43.723Z"
      },
      {
        "duration": 1742,
        "start_time": "2023-04-16T08:03:43.742Z"
      },
      {
        "duration": 4,
        "start_time": "2023-04-16T08:03:45.487Z"
      },
      {
        "duration": 98,
        "start_time": "2023-04-16T08:03:45.493Z"
      },
      {
        "duration": 1573,
        "start_time": "2023-04-16T08:03:45.594Z"
      },
      {
        "duration": 4,
        "start_time": "2023-04-16T08:03:47.169Z"
      },
      {
        "duration": 105012,
        "start_time": "2023-04-16T08:03:47.184Z"
      },
      {
        "duration": 3,
        "start_time": "2023-04-16T08:05:32.198Z"
      },
      {
        "duration": 1685,
        "start_time": "2023-04-16T08:05:32.203Z"
      },
      {
        "duration": 92,
        "start_time": "2023-04-16T08:05:33.890Z"
      },
      {
        "duration": 105,
        "start_time": "2023-04-16T08:05:33.986Z"
      },
      {
        "duration": 13,
        "start_time": "2023-04-16T08:05:34.093Z"
      },
      {
        "duration": 1912,
        "start_time": "2023-04-16T08:05:34.108Z"
      },
      {
        "duration": 4,
        "start_time": "2023-04-16T08:05:36.022Z"
      },
      {
        "duration": 103383,
        "start_time": "2023-04-16T08:05:36.027Z"
      },
      {
        "duration": 3,
        "start_time": "2023-04-16T08:07:19.411Z"
      },
      {
        "duration": 2067,
        "start_time": "2023-04-16T08:07:19.416Z"
      },
      {
        "duration": 4,
        "start_time": "2023-04-16T08:07:21.486Z"
      },
      {
        "duration": 108,
        "start_time": "2023-04-16T08:07:21.492Z"
      },
      {
        "duration": 34,
        "start_time": "2023-04-16T08:07:21.602Z"
      },
      {
        "duration": 823,
        "start_time": "2023-04-16T08:07:21.639Z"
      },
      {
        "duration": 4,
        "start_time": "2023-04-16T08:07:22.464Z"
      },
      {
        "duration": 63306,
        "start_time": "2023-04-16T08:07:22.469Z"
      },
      {
        "duration": 7,
        "start_time": "2023-04-16T08:08:25.776Z"
      },
      {
        "duration": 1306,
        "start_time": "2023-04-16T08:08:25.785Z"
      },
      {
        "duration": 92,
        "start_time": "2023-04-16T08:08:27.094Z"
      },
      {
        "duration": 113,
        "start_time": "2023-04-16T08:08:27.188Z"
      },
      {
        "duration": 21,
        "start_time": "2023-04-16T08:08:27.303Z"
      },
      {
        "duration": 20,
        "start_time": "2023-04-16T08:08:27.325Z"
      },
      {
        "duration": 20,
        "start_time": "2023-04-16T08:08:27.347Z"
      },
      {
        "duration": 17,
        "start_time": "2023-04-16T08:08:27.372Z"
      },
      {
        "duration": 21,
        "start_time": "2023-04-16T08:08:27.391Z"
      },
      {
        "duration": 19,
        "start_time": "2023-04-16T08:08:27.414Z"
      },
      {
        "duration": 488,
        "start_time": "2023-04-16T08:08:27.435Z"
      },
      {
        "duration": 35,
        "start_time": "2023-04-16T08:08:27.925Z"
      },
      {
        "duration": 26,
        "start_time": "2023-04-16T08:08:27.961Z"
      },
      {
        "duration": 132,
        "start_time": "2023-04-16T08:08:27.988Z"
      },
      {
        "duration": 5,
        "start_time": "2023-04-16T08:08:28.121Z"
      },
      {
        "duration": 24,
        "start_time": "2023-04-16T08:08:28.127Z"
      },
      {
        "duration": 47,
        "start_time": "2023-04-16T08:08:28.153Z"
      },
      {
        "duration": 162,
        "start_time": "2023-04-16T08:08:28.201Z"
      },
      {
        "duration": 38,
        "start_time": "2023-04-16T08:08:28.365Z"
      },
      {
        "duration": 32,
        "start_time": "2023-04-16T08:08:28.405Z"
      }
    ],
    "kernelspec": {
      "display_name": "Python 3 (ipykernel)",
      "language": "python",
      "name": "python3"
    },
    "language_info": {
      "codemirror_mode": {
        "name": "ipython",
        "version": 3
      },
      "file_extension": ".py",
      "mimetype": "text/x-python",
      "name": "python",
      "nbconvert_exporter": "python",
      "pygments_lexer": "ipython3",
      "version": "3.9.5"
    },
    "toc": {
      "base_numbering": 1,
      "nav_menu": {},
      "number_sections": true,
      "sideBar": true,
      "skip_h1_title": true,
      "title_cell": "Содержание",
      "title_sidebar": "Contents",
      "toc_cell": true,
      "toc_position": {
        "height": "calc(100% - 180px)",
        "left": "10px",
        "top": "150px",
        "width": "255.188px"
      },
      "toc_section_display": true,
      "toc_window_display": false
    },
    "colab": {
      "provenance": []
    }
  },
  "nbformat": 4,
  "nbformat_minor": 0
}