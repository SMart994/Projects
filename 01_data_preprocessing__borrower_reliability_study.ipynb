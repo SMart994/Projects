{
  "cells": [
    {
      "cell_type": "markdown",
      "id": "090a1a72",
      "metadata": {
        "deletable": false,
        "editable": false,
        "id": "090a1a72"
      },
      "source": [
        "# Исследование надежности заемщиков\n"
      ]
    },
    {
      "cell_type": "markdown",
      "id": "7569cd39",
      "metadata": {
        "deletable": false,
        "editable": false,
        "id": "7569cd39"
      },
      "source": [
        "Описание проекта: \n",
        "\n",
        "Заказчик — кредитный отдел банка. Нужно разобраться, влияет ли семейное положение и количество детей клиента на факт погашения кредита в срок. Входные данные от банка — статистика о платёжеспособности клиентов.\n",
        "Результаты исследования будут учтены при построении модели кредитного скоринга — специальной системы, которая оценивает способность потенциального заёмщика вернуть кредит банку.\n",
        "\n"
      ]
    },
    {
      "cell_type": "markdown",
      "id": "7faaef37",
      "metadata": {
        "deletable": false,
        "editable": false,
        "id": "7faaef37"
      },
      "source": [
        "## Откройте таблицу и изучите общую информацию о данных"
      ]
    },
    {
      "cell_type": "code",
      "execution_count": 3,
      "id": "ef1dc3c9",
      "metadata": {
        "deletable": false,
        "id": "ef1dc3c9"
      },
      "outputs": [],
      "source": [
        "import pandas as pd\n",
        "import seaborn as sns\n",
        "import statistics as st\n",
        "\n",
        "try:\n",
        "    data = pd.read_csv('/content/sample_data/01_data preprocessing.csv')\n",
        "except:\n",
        "    data = pd.read_csv('https://code.s3.yandex.net/datasets/data.csv')"
      ]
    },
    {
      "cell_type": "code",
      "source": [
        "from google.colab import drive\n",
        "drive.mount('/content/drive')"
      ],
      "metadata": {
        "colab": {
          "base_uri": "https://localhost:8080/"
        },
        "id": "USwd8NUab0h_",
        "outputId": "755dca70-b3ad-4308-abfa-93a0f8eead19"
      },
      "id": "USwd8NUab0h_",
      "execution_count": 2,
      "outputs": [
        {
          "output_type": "stream",
          "name": "stdout",
          "text": [
            "Mounted at /content/drive\n"
          ]
        }
      ]
    },
    {
      "cell_type": "code",
      "execution_count": null,
      "id": "59fe214a",
      "metadata": {
        "deletable": false,
        "id": "59fe214a",
        "outputId": "1a8f3ef2-d323-4ec2-ddf7-89670b5944c4"
      },
      "outputs": [
        {
          "data": {
            "text/html": [
              "<div>\n",
              "<style scoped>\n",
              "    .dataframe tbody tr th:only-of-type {\n",
              "        vertical-align: middle;\n",
              "    }\n",
              "\n",
              "    .dataframe tbody tr th {\n",
              "        vertical-align: top;\n",
              "    }\n",
              "\n",
              "    .dataframe thead th {\n",
              "        text-align: right;\n",
              "    }\n",
              "</style>\n",
              "<table border=\"1\" class=\"dataframe\">\n",
              "  <thead>\n",
              "    <tr style=\"text-align: right;\">\n",
              "      <th></th>\n",
              "      <th>children</th>\n",
              "      <th>days_employed</th>\n",
              "      <th>dob_years</th>\n",
              "      <th>education</th>\n",
              "      <th>education_id</th>\n",
              "      <th>family_status</th>\n",
              "      <th>family_status_id</th>\n",
              "      <th>gender</th>\n",
              "      <th>income_type</th>\n",
              "      <th>debt</th>\n",
              "      <th>total_income</th>\n",
              "      <th>purpose</th>\n",
              "    </tr>\n",
              "  </thead>\n",
              "  <tbody>\n",
              "    <tr>\n",
              "      <th>0</th>\n",
              "      <td>1</td>\n",
              "      <td>-8437.673028</td>\n",
              "      <td>42</td>\n",
              "      <td>высшее</td>\n",
              "      <td>0</td>\n",
              "      <td>женат / замужем</td>\n",
              "      <td>0</td>\n",
              "      <td>F</td>\n",
              "      <td>сотрудник</td>\n",
              "      <td>0</td>\n",
              "      <td>253875.639453</td>\n",
              "      <td>покупка жилья</td>\n",
              "    </tr>\n",
              "    <tr>\n",
              "      <th>1</th>\n",
              "      <td>1</td>\n",
              "      <td>-4024.803754</td>\n",
              "      <td>36</td>\n",
              "      <td>среднее</td>\n",
              "      <td>1</td>\n",
              "      <td>женат / замужем</td>\n",
              "      <td>0</td>\n",
              "      <td>F</td>\n",
              "      <td>сотрудник</td>\n",
              "      <td>0</td>\n",
              "      <td>112080.014102</td>\n",
              "      <td>приобретение автомобиля</td>\n",
              "    </tr>\n",
              "    <tr>\n",
              "      <th>2</th>\n",
              "      <td>0</td>\n",
              "      <td>-5623.422610</td>\n",
              "      <td>33</td>\n",
              "      <td>Среднее</td>\n",
              "      <td>1</td>\n",
              "      <td>женат / замужем</td>\n",
              "      <td>0</td>\n",
              "      <td>M</td>\n",
              "      <td>сотрудник</td>\n",
              "      <td>0</td>\n",
              "      <td>145885.952297</td>\n",
              "      <td>покупка жилья</td>\n",
              "    </tr>\n",
              "    <tr>\n",
              "      <th>3</th>\n",
              "      <td>3</td>\n",
              "      <td>-4124.747207</td>\n",
              "      <td>32</td>\n",
              "      <td>среднее</td>\n",
              "      <td>1</td>\n",
              "      <td>женат / замужем</td>\n",
              "      <td>0</td>\n",
              "      <td>M</td>\n",
              "      <td>сотрудник</td>\n",
              "      <td>0</td>\n",
              "      <td>267628.550329</td>\n",
              "      <td>дополнительное образование</td>\n",
              "    </tr>\n",
              "    <tr>\n",
              "      <th>4</th>\n",
              "      <td>0</td>\n",
              "      <td>340266.072047</td>\n",
              "      <td>53</td>\n",
              "      <td>среднее</td>\n",
              "      <td>1</td>\n",
              "      <td>гражданский брак</td>\n",
              "      <td>1</td>\n",
              "      <td>F</td>\n",
              "      <td>пенсионер</td>\n",
              "      <td>0</td>\n",
              "      <td>158616.077870</td>\n",
              "      <td>сыграть свадьбу</td>\n",
              "    </tr>\n",
              "    <tr>\n",
              "      <th>5</th>\n",
              "      <td>0</td>\n",
              "      <td>-926.185831</td>\n",
              "      <td>27</td>\n",
              "      <td>высшее</td>\n",
              "      <td>0</td>\n",
              "      <td>гражданский брак</td>\n",
              "      <td>1</td>\n",
              "      <td>M</td>\n",
              "      <td>компаньон</td>\n",
              "      <td>0</td>\n",
              "      <td>255763.565419</td>\n",
              "      <td>покупка жилья</td>\n",
              "    </tr>\n",
              "    <tr>\n",
              "      <th>6</th>\n",
              "      <td>0</td>\n",
              "      <td>-2879.202052</td>\n",
              "      <td>43</td>\n",
              "      <td>высшее</td>\n",
              "      <td>0</td>\n",
              "      <td>женат / замужем</td>\n",
              "      <td>0</td>\n",
              "      <td>F</td>\n",
              "      <td>компаньон</td>\n",
              "      <td>0</td>\n",
              "      <td>240525.971920</td>\n",
              "      <td>операции с жильем</td>\n",
              "    </tr>\n",
              "    <tr>\n",
              "      <th>7</th>\n",
              "      <td>0</td>\n",
              "      <td>-152.779569</td>\n",
              "      <td>50</td>\n",
              "      <td>СРЕДНЕЕ</td>\n",
              "      <td>1</td>\n",
              "      <td>женат / замужем</td>\n",
              "      <td>0</td>\n",
              "      <td>M</td>\n",
              "      <td>сотрудник</td>\n",
              "      <td>0</td>\n",
              "      <td>135823.934197</td>\n",
              "      <td>образование</td>\n",
              "    </tr>\n",
              "    <tr>\n",
              "      <th>8</th>\n",
              "      <td>2</td>\n",
              "      <td>-6929.865299</td>\n",
              "      <td>35</td>\n",
              "      <td>ВЫСШЕЕ</td>\n",
              "      <td>0</td>\n",
              "      <td>гражданский брак</td>\n",
              "      <td>1</td>\n",
              "      <td>F</td>\n",
              "      <td>сотрудник</td>\n",
              "      <td>0</td>\n",
              "      <td>95856.832424</td>\n",
              "      <td>на проведение свадьбы</td>\n",
              "    </tr>\n",
              "    <tr>\n",
              "      <th>9</th>\n",
              "      <td>0</td>\n",
              "      <td>-2188.756445</td>\n",
              "      <td>41</td>\n",
              "      <td>среднее</td>\n",
              "      <td>1</td>\n",
              "      <td>женат / замужем</td>\n",
              "      <td>0</td>\n",
              "      <td>M</td>\n",
              "      <td>сотрудник</td>\n",
              "      <td>0</td>\n",
              "      <td>144425.938277</td>\n",
              "      <td>покупка жилья для семьи</td>\n",
              "    </tr>\n",
              "    <tr>\n",
              "      <th>10</th>\n",
              "      <td>2</td>\n",
              "      <td>-4171.483647</td>\n",
              "      <td>36</td>\n",
              "      <td>высшее</td>\n",
              "      <td>0</td>\n",
              "      <td>женат / замужем</td>\n",
              "      <td>0</td>\n",
              "      <td>M</td>\n",
              "      <td>компаньон</td>\n",
              "      <td>0</td>\n",
              "      <td>113943.491460</td>\n",
              "      <td>покупка недвижимости</td>\n",
              "    </tr>\n",
              "    <tr>\n",
              "      <th>11</th>\n",
              "      <td>0</td>\n",
              "      <td>-792.701887</td>\n",
              "      <td>40</td>\n",
              "      <td>среднее</td>\n",
              "      <td>1</td>\n",
              "      <td>женат / замужем</td>\n",
              "      <td>0</td>\n",
              "      <td>F</td>\n",
              "      <td>сотрудник</td>\n",
              "      <td>0</td>\n",
              "      <td>77069.234271</td>\n",
              "      <td>покупка коммерческой недвижимости</td>\n",
              "    </tr>\n",
              "    <tr>\n",
              "      <th>12</th>\n",
              "      <td>0</td>\n",
              "      <td>NaN</td>\n",
              "      <td>65</td>\n",
              "      <td>среднее</td>\n",
              "      <td>1</td>\n",
              "      <td>гражданский брак</td>\n",
              "      <td>1</td>\n",
              "      <td>M</td>\n",
              "      <td>пенсионер</td>\n",
              "      <td>0</td>\n",
              "      <td>NaN</td>\n",
              "      <td>сыграть свадьбу</td>\n",
              "    </tr>\n",
              "    <tr>\n",
              "      <th>13</th>\n",
              "      <td>0</td>\n",
              "      <td>-1846.641941</td>\n",
              "      <td>54</td>\n",
              "      <td>неоконченное высшее</td>\n",
              "      <td>2</td>\n",
              "      <td>женат / замужем</td>\n",
              "      <td>0</td>\n",
              "      <td>F</td>\n",
              "      <td>сотрудник</td>\n",
              "      <td>0</td>\n",
              "      <td>130458.228857</td>\n",
              "      <td>приобретение автомобиля</td>\n",
              "    </tr>\n",
              "    <tr>\n",
              "      <th>14</th>\n",
              "      <td>0</td>\n",
              "      <td>-1844.956182</td>\n",
              "      <td>56</td>\n",
              "      <td>высшее</td>\n",
              "      <td>0</td>\n",
              "      <td>гражданский брак</td>\n",
              "      <td>1</td>\n",
              "      <td>F</td>\n",
              "      <td>компаньон</td>\n",
              "      <td>1</td>\n",
              "      <td>165127.911772</td>\n",
              "      <td>покупка жилой недвижимости</td>\n",
              "    </tr>\n",
              "    <tr>\n",
              "      <th>15</th>\n",
              "      <td>1</td>\n",
              "      <td>-972.364419</td>\n",
              "      <td>26</td>\n",
              "      <td>среднее</td>\n",
              "      <td>1</td>\n",
              "      <td>женат / замужем</td>\n",
              "      <td>0</td>\n",
              "      <td>F</td>\n",
              "      <td>сотрудник</td>\n",
              "      <td>0</td>\n",
              "      <td>116820.904450</td>\n",
              "      <td>строительство собственной недвижимости</td>\n",
              "    </tr>\n",
              "    <tr>\n",
              "      <th>16</th>\n",
              "      <td>0</td>\n",
              "      <td>-1719.934226</td>\n",
              "      <td>35</td>\n",
              "      <td>среднее</td>\n",
              "      <td>1</td>\n",
              "      <td>женат / замужем</td>\n",
              "      <td>0</td>\n",
              "      <td>F</td>\n",
              "      <td>сотрудник</td>\n",
              "      <td>0</td>\n",
              "      <td>289202.704229</td>\n",
              "      <td>недвижимость</td>\n",
              "    </tr>\n",
              "    <tr>\n",
              "      <th>17</th>\n",
              "      <td>0</td>\n",
              "      <td>-2369.999720</td>\n",
              "      <td>33</td>\n",
              "      <td>высшее</td>\n",
              "      <td>0</td>\n",
              "      <td>гражданский брак</td>\n",
              "      <td>1</td>\n",
              "      <td>M</td>\n",
              "      <td>сотрудник</td>\n",
              "      <td>0</td>\n",
              "      <td>90410.586745</td>\n",
              "      <td>строительство недвижимости</td>\n",
              "    </tr>\n",
              "    <tr>\n",
              "      <th>18</th>\n",
              "      <td>0</td>\n",
              "      <td>400281.136913</td>\n",
              "      <td>53</td>\n",
              "      <td>среднее</td>\n",
              "      <td>1</td>\n",
              "      <td>вдовец / вдова</td>\n",
              "      <td>2</td>\n",
              "      <td>F</td>\n",
              "      <td>пенсионер</td>\n",
              "      <td>0</td>\n",
              "      <td>56823.777243</td>\n",
              "      <td>на покупку подержанного автомобиля</td>\n",
              "    </tr>\n",
              "    <tr>\n",
              "      <th>19</th>\n",
              "      <td>0</td>\n",
              "      <td>-10038.818549</td>\n",
              "      <td>48</td>\n",
              "      <td>СРЕДНЕЕ</td>\n",
              "      <td>1</td>\n",
              "      <td>в разводе</td>\n",
              "      <td>3</td>\n",
              "      <td>F</td>\n",
              "      <td>сотрудник</td>\n",
              "      <td>0</td>\n",
              "      <td>242831.107982</td>\n",
              "      <td>на покупку своего автомобиля</td>\n",
              "    </tr>\n",
              "  </tbody>\n",
              "</table>\n",
              "</div>"
            ],
            "text/plain": [
              "    children  days_employed  dob_years            education  education_id  \\\n",
              "0          1   -8437.673028         42               высшее             0   \n",
              "1          1   -4024.803754         36              среднее             1   \n",
              "2          0   -5623.422610         33              Среднее             1   \n",
              "3          3   -4124.747207         32              среднее             1   \n",
              "4          0  340266.072047         53              среднее             1   \n",
              "5          0    -926.185831         27               высшее             0   \n",
              "6          0   -2879.202052         43               высшее             0   \n",
              "7          0    -152.779569         50              СРЕДНЕЕ             1   \n",
              "8          2   -6929.865299         35               ВЫСШЕЕ             0   \n",
              "9          0   -2188.756445         41              среднее             1   \n",
              "10         2   -4171.483647         36               высшее             0   \n",
              "11         0    -792.701887         40              среднее             1   \n",
              "12         0            NaN         65              среднее             1   \n",
              "13         0   -1846.641941         54  неоконченное высшее             2   \n",
              "14         0   -1844.956182         56               высшее             0   \n",
              "15         1    -972.364419         26              среднее             1   \n",
              "16         0   -1719.934226         35              среднее             1   \n",
              "17         0   -2369.999720         33               высшее             0   \n",
              "18         0  400281.136913         53              среднее             1   \n",
              "19         0  -10038.818549         48              СРЕДНЕЕ             1   \n",
              "\n",
              "       family_status  family_status_id gender income_type  debt  \\\n",
              "0    женат / замужем                 0      F   сотрудник     0   \n",
              "1    женат / замужем                 0      F   сотрудник     0   \n",
              "2    женат / замужем                 0      M   сотрудник     0   \n",
              "3    женат / замужем                 0      M   сотрудник     0   \n",
              "4   гражданский брак                 1      F   пенсионер     0   \n",
              "5   гражданский брак                 1      M   компаньон     0   \n",
              "6    женат / замужем                 0      F   компаньон     0   \n",
              "7    женат / замужем                 0      M   сотрудник     0   \n",
              "8   гражданский брак                 1      F   сотрудник     0   \n",
              "9    женат / замужем                 0      M   сотрудник     0   \n",
              "10   женат / замужем                 0      M   компаньон     0   \n",
              "11   женат / замужем                 0      F   сотрудник     0   \n",
              "12  гражданский брак                 1      M   пенсионер     0   \n",
              "13   женат / замужем                 0      F   сотрудник     0   \n",
              "14  гражданский брак                 1      F   компаньон     1   \n",
              "15   женат / замужем                 0      F   сотрудник     0   \n",
              "16   женат / замужем                 0      F   сотрудник     0   \n",
              "17  гражданский брак                 1      M   сотрудник     0   \n",
              "18    вдовец / вдова                 2      F   пенсионер     0   \n",
              "19         в разводе                 3      F   сотрудник     0   \n",
              "\n",
              "     total_income                                 purpose  \n",
              "0   253875.639453                           покупка жилья  \n",
              "1   112080.014102                 приобретение автомобиля  \n",
              "2   145885.952297                           покупка жилья  \n",
              "3   267628.550329              дополнительное образование  \n",
              "4   158616.077870                         сыграть свадьбу  \n",
              "5   255763.565419                           покупка жилья  \n",
              "6   240525.971920                       операции с жильем  \n",
              "7   135823.934197                             образование  \n",
              "8    95856.832424                   на проведение свадьбы  \n",
              "9   144425.938277                 покупка жилья для семьи  \n",
              "10  113943.491460                    покупка недвижимости  \n",
              "11   77069.234271       покупка коммерческой недвижимости  \n",
              "12            NaN                         сыграть свадьбу  \n",
              "13  130458.228857                 приобретение автомобиля  \n",
              "14  165127.911772              покупка жилой недвижимости  \n",
              "15  116820.904450  строительство собственной недвижимости  \n",
              "16  289202.704229                            недвижимость  \n",
              "17   90410.586745              строительство недвижимости  \n",
              "18   56823.777243      на покупку подержанного автомобиля  \n",
              "19  242831.107982            на покупку своего автомобиля  "
            ]
          },
          "execution_count": 2,
          "metadata": {},
          "output_type": "execute_result"
        }
      ],
      "source": [
        "data.head(20)"
      ]
    },
    {
      "cell_type": "markdown",
      "id": "fd34795d",
      "metadata": {
        "deletable": false,
        "editable": false,
        "id": "fd34795d"
      },
      "source": [
        "**Задание 3. Выведите основную информацию о датафрейме с помощью метода `info()`.**"
      ]
    },
    {
      "cell_type": "code",
      "execution_count": null,
      "id": "b1e8251d",
      "metadata": {
        "deletable": false,
        "id": "b1e8251d",
        "outputId": "15376089-8dad-46c9-b520-c05248d43158"
      },
      "outputs": [
        {
          "name": "stdout",
          "output_type": "stream",
          "text": [
            "<class 'pandas.core.frame.DataFrame'>\n",
            "RangeIndex: 21525 entries, 0 to 21524\n",
            "Data columns (total 12 columns):\n",
            " #   Column            Non-Null Count  Dtype  \n",
            "---  ------            --------------  -----  \n",
            " 0   children          21525 non-null  int64  \n",
            " 1   days_employed     19351 non-null  float64\n",
            " 2   dob_years         21525 non-null  int64  \n",
            " 3   education         21525 non-null  object \n",
            " 4   education_id      21525 non-null  int64  \n",
            " 5   family_status     21525 non-null  object \n",
            " 6   family_status_id  21525 non-null  int64  \n",
            " 7   gender            21525 non-null  object \n",
            " 8   income_type       21525 non-null  object \n",
            " 9   debt              21525 non-null  int64  \n",
            " 10  total_income      19351 non-null  float64\n",
            " 11  purpose           21525 non-null  object \n",
            "dtypes: float64(2), int64(5), object(5)\n",
            "memory usage: 2.0+ MB\n"
          ]
        }
      ],
      "source": [
        "data.info()"
      ]
    },
    {
      "cell_type": "markdown",
      "id": "42f3bb45",
      "metadata": {
        "deletable": false,
        "editable": false,
        "id": "42f3bb45"
      },
      "source": [
        "## Предобработка данных"
      ]
    },
    {
      "cell_type": "markdown",
      "id": "8dc3676e",
      "metadata": {
        "deletable": false,
        "editable": false,
        "id": "8dc3676e"
      },
      "source": [
        "### Удаление пропусков"
      ]
    },
    {
      "cell_type": "code",
      "execution_count": null,
      "id": "7b901a5c",
      "metadata": {
        "deletable": false,
        "id": "7b901a5c",
        "outputId": "81f4d817-781c-465c-ed15-91ce4446810d"
      },
      "outputs": [
        {
          "data": {
            "text/plain": [
              "children               0\n",
              "days_employed       2174\n",
              "dob_years              0\n",
              "education              0\n",
              "education_id           0\n",
              "family_status          0\n",
              "family_status_id       0\n",
              "gender                 0\n",
              "income_type            0\n",
              "debt                   0\n",
              "total_income        2174\n",
              "purpose                0\n",
              "dtype: int64"
            ]
          },
          "execution_count": 4,
          "metadata": {},
          "output_type": "execute_result"
        }
      ],
      "source": [
        "data.isna().sum()"
      ]
    },
    {
      "cell_type": "markdown",
      "id": "bb046966",
      "metadata": {
        "deletable": false,
        "editable": false,
        "id": "bb046966"
      },
      "source": [
        "В двух столбцах есть пропущенные значения. Один из них — `days_employed`. Пропуски в этом столбце вы обработаете на следующем этапе. Другой столбец с пропущенными значениями — `total_income` — хранит данные о доходах. На сумму дохода сильнее всего влияет тип занятости, поэтому заполнить пропуски в этом столбце нужно медианным значением по каждому типу из столбца `income_type`. Например, у человека с типом занятости `сотрудник` пропуск в столбце `total_income` должен быть заполнен медианным доходом среди всех записей с тем же типом."
      ]
    },
    {
      "cell_type": "code",
      "execution_count": null,
      "id": "f5badcff",
      "metadata": {
        "deletable": false,
        "id": "f5badcff"
      },
      "outputs": [],
      "source": [
        "for t in data['income_type'].unique():\n",
        "    data.loc[(data['income_type'] == t) & (data['total_income'].isna()), 'total_income'] = \\\n",
        "    data.loc[(data['income_type'] == t), 'total_income'].median()"
      ]
    },
    {
      "cell_type": "markdown",
      "id": "2afab51a",
      "metadata": {
        "deletable": false,
        "editable": false,
        "id": "2afab51a"
      },
      "source": [
        "### Обработка аномальных значений"
      ]
    },
    {
      "cell_type": "markdown",
      "id": "768272f3",
      "metadata": {
        "deletable": false,
        "editable": false,
        "id": "768272f3"
      },
      "source": [
        "В данных могут встречаться артефакты (аномалии) — значения, которые не отражают действительность и появились по какой-то ошибке. таким артефактом будет отрицательное количество дней трудового стажа в столбце `days_employed`. Для реальных данных это нормально. Обработайте значения в этом столбце: замените все отрицательные значения положительными с помощью метода `abs()`."
      ]
    },
    {
      "cell_type": "code",
      "execution_count": null,
      "id": "8b67af2f",
      "metadata": {
        "deletable": false,
        "id": "8b67af2f"
      },
      "outputs": [],
      "source": [
        "data['days_employed'] = data['days_employed'].abs()"
      ]
    },
    {
      "cell_type": "markdown",
      "id": "a06c3700",
      "metadata": {
        "deletable": false,
        "editable": false,
        "id": "a06c3700"
      },
      "source": [
        "Для каждого типа занятости выведите медианное значение трудового стажа `days_employed` в днях."
      ]
    },
    {
      "cell_type": "code",
      "execution_count": null,
      "id": "7aeaf6c4",
      "metadata": {
        "deletable": false,
        "id": "7aeaf6c4",
        "outputId": "801ef80e-522b-4668-f34e-565af7432bcf"
      },
      "outputs": [
        {
          "data": {
            "text/plain": [
              "income_type\n",
              "безработный        366413.652744\n",
              "в декрете            3296.759962\n",
              "госслужащий          2689.368353\n",
              "компаньон            1547.382223\n",
              "пенсионер          365213.306266\n",
              "предприниматель       520.848083\n",
              "сотрудник            1574.202821\n",
              "студент               578.751554\n",
              "Name: days_employed, dtype: float64"
            ]
          },
          "execution_count": 7,
          "metadata": {},
          "output_type": "execute_result"
        }
      ],
      "source": [
        "data.groupby('income_type')['days_employed'].agg('median')"
      ]
    },
    {
      "cell_type": "markdown",
      "id": "d49a170b",
      "metadata": {
        "deletable": false,
        "editable": false,
        "id": "d49a170b"
      },
      "source": [
        "У двух типов (безработные и пенсионеры) получатся аномально большие значения. Исправить такие значения сложно, поэтому оставьте их как есть. Тем более этот столбец не понадобится вам для исследования."
      ]
    },
    {
      "cell_type": "code",
      "execution_count": null,
      "id": "1735f0bf",
      "metadata": {
        "deletable": false,
        "id": "1735f0bf",
        "outputId": "6975b15c-7f95-4697-d16d-a0c79b657b03"
      },
      "outputs": [
        {
          "data": {
            "text/plain": [
              "array([ 1,  0,  3,  2, -1,  4, 20,  5])"
            ]
          },
          "execution_count": 8,
          "metadata": {},
          "output_type": "execute_result"
        }
      ],
      "source": [
        "data['children'].unique()"
      ]
    },
    {
      "cell_type": "code",
      "execution_count": null,
      "id": "577b2884",
      "metadata": {
        "deletable": false,
        "id": "577b2884"
      },
      "outputs": [],
      "source": [
        "data = data[(data['children'] != -1) & (data['children'] != 20)]"
      ]
    },
    {
      "cell_type": "code",
      "execution_count": null,
      "id": "91e516a7",
      "metadata": {
        "deletable": false,
        "id": "91e516a7",
        "outputId": "b2097101-d49d-44d9-901b-32a65c9463d1"
      },
      "outputs": [
        {
          "data": {
            "text/plain": [
              "array([1, 0, 3, 2, 4, 5])"
            ]
          },
          "execution_count": 10,
          "metadata": {},
          "output_type": "execute_result"
        }
      ],
      "source": [
        "data['children'].unique()"
      ]
    },
    {
      "cell_type": "markdown",
      "id": "150ed8ab",
      "metadata": {
        "deletable": false,
        "editable": false,
        "id": "150ed8ab"
      },
      "source": [
        "### Удаление пропусков (продолжение)"
      ]
    },
    {
      "cell_type": "markdown",
      "id": "f3604e2f",
      "metadata": {
        "deletable": false,
        "editable": false,
        "id": "f3604e2f"
      },
      "source": [
        "Заполните пропуски в столбце `days_employed` медианными значениями по каждого типа занятости `income_type`."
      ]
    },
    {
      "cell_type": "code",
      "execution_count": null,
      "id": "ac57d14a",
      "metadata": {
        "deletable": false,
        "id": "ac57d14a"
      },
      "outputs": [],
      "source": [
        "for t in data['income_type'].unique():\n",
        "    data.loc[(data['income_type'] == t) & (data['days_employed'].isna()), 'days_employed'] = \\\n",
        "    data.loc[(data['income_type'] == t), 'days_employed'].median()"
      ]
    },
    {
      "cell_type": "code",
      "execution_count": null,
      "id": "1bd17ccf",
      "metadata": {
        "deletable": false,
        "id": "1bd17ccf",
        "outputId": "8da1e4e1-358e-4e87-98c9-f261bce0a7b2"
      },
      "outputs": [
        {
          "data": {
            "text/plain": [
              "children            0\n",
              "days_employed       0\n",
              "dob_years           0\n",
              "education           0\n",
              "education_id        0\n",
              "family_status       0\n",
              "family_status_id    0\n",
              "gender              0\n",
              "income_type         0\n",
              "debt                0\n",
              "total_income        0\n",
              "purpose             0\n",
              "dtype: int64"
            ]
          },
          "execution_count": 12,
          "metadata": {},
          "output_type": "execute_result"
        }
      ],
      "source": [
        "data.isna().sum()"
      ]
    },
    {
      "cell_type": "markdown",
      "id": "65715392",
      "metadata": {
        "deletable": false,
        "editable": false,
        "id": "65715392"
      },
      "source": [
        "### Изменение типов данных"
      ]
    },
    {
      "cell_type": "markdown",
      "id": "137304d5",
      "metadata": {
        "deletable": false,
        "editable": false,
        "id": "137304d5"
      },
      "source": [
        "Замените вещественный тип данных в столбце `total_income` на целочисленный с помощью метода `astype()`."
      ]
    },
    {
      "cell_type": "code",
      "execution_count": null,
      "id": "8336382d",
      "metadata": {
        "deletable": false,
        "id": "8336382d"
      },
      "outputs": [],
      "source": [
        "data['total_income'] = data['total_income'].astype(int)"
      ]
    },
    {
      "cell_type": "markdown",
      "id": "9d158d3a",
      "metadata": {
        "deletable": false,
        "editable": false,
        "id": "9d158d3a"
      },
      "source": [
        "### Обработка дубликатов"
      ]
    },
    {
      "cell_type": "markdown",
      "id": "65b0899a",
      "metadata": {
        "deletable": false,
        "editable": false,
        "id": "65b0899a"
      },
      "source": [
        "Обработайте неявные дубликаты в столбце `education`. В этом столбце есть одни и те же значения, но записанные по-разному: с использованием заглавных и строчных букв. Приведите их к нижнему регистру. Проверьте остальные столбцы."
      ]
    },
    {
      "cell_type": "code",
      "execution_count": null,
      "id": "3defe406",
      "metadata": {
        "deletable": false,
        "id": "3defe406"
      },
      "outputs": [],
      "source": [
        "data['education'] = data['education'].str.lower()"
      ]
    },
    {
      "cell_type": "code",
      "execution_count": null,
      "id": "256b233a",
      "metadata": {
        "deletable": false,
        "id": "256b233a",
        "outputId": "9684deba-1934-42d1-99e1-cda61740f822"
      },
      "outputs": [
        {
          "data": {
            "text/plain": [
              "71"
            ]
          },
          "execution_count": 15,
          "metadata": {},
          "output_type": "execute_result"
        }
      ],
      "source": [
        "data.duplicated().sum()"
      ]
    },
    {
      "cell_type": "code",
      "execution_count": null,
      "id": "34a623e8",
      "metadata": {
        "deletable": false,
        "id": "34a623e8"
      },
      "outputs": [],
      "source": [
        "data = data.drop_duplicates()"
      ]
    },
    {
      "cell_type": "markdown",
      "id": "6d380724",
      "metadata": {
        "deletable": false,
        "editable": false,
        "id": "6d380724"
      },
      "source": [
        "### Категоризация данных"
      ]
    },
    {
      "cell_type": "markdown",
      "id": "73535213",
      "metadata": {
        "deletable": false,
        "editable": false,
        "id": "73535213"
      },
      "source": [
        "На основании диапазонов, указанных ниже, создайте в датафрейме `data` столбец `total_income_category` с категориями:\n",
        "\n",
        "- 0–30000 — `'E'`;\n",
        "- 30001–50000 — `'D'`;\n",
        "- 50001–200000 — `'C'`;\n",
        "- 200001–1000000 — `'B'`;\n",
        "- 1000001 и выше — `'A'`.\n",
        "\n",
        "\n",
        "**Например, кредитополучателю с доходом 25000 нужно назначить категорию `'E'`, а клиенту, получающему 235000, — `'B'`. Используйте собственную функцию с именем `categorize_income()` и метод `apply()`.**"
      ]
    },
    {
      "cell_type": "code",
      "execution_count": null,
      "id": "93108467",
      "metadata": {
        "deletable": false,
        "id": "93108467"
      },
      "outputs": [],
      "source": [
        "def categorize_income(income):\n",
        "    try:\n",
        "        if 0 <= income <= 30000:\n",
        "            return 'E'\n",
        "        elif 30001 <= income <= 50000:\n",
        "            return 'D'\n",
        "        elif 50001 <= income <= 200000:\n",
        "            return 'C'\n",
        "        elif 200001 <= income <= 1000000:\n",
        "            return 'B'\n",
        "        elif income >= 1000001:\n",
        "            return 'A'\n",
        "    except:\n",
        "        pass"
      ]
    },
    {
      "cell_type": "code",
      "execution_count": null,
      "id": "839fec20",
      "metadata": {
        "deletable": false,
        "id": "839fec20"
      },
      "outputs": [],
      "source": [
        "data['total_income_category'] = data['total_income'].apply(categorize_income)"
      ]
    },
    {
      "cell_type": "markdown",
      "id": "98c8a4ca",
      "metadata": {
        "deletable": false,
        "editable": false,
        "id": "98c8a4ca"
      },
      "source": [
        "Выведите на экран перечень уникальных целей взятия кредита из столбца `purpose`."
      ]
    },
    {
      "cell_type": "code",
      "execution_count": null,
      "id": "83a78222",
      "metadata": {
        "deletable": false,
        "id": "83a78222",
        "outputId": "673c12d9-7d7e-4ae0-9812-c622c89dd244"
      },
      "outputs": [
        {
          "data": {
            "text/plain": [
              "array(['покупка жилья', 'приобретение автомобиля',\n",
              "       'дополнительное образование', 'сыграть свадьбу',\n",
              "       'операции с жильем', 'образование', 'на проведение свадьбы',\n",
              "       'покупка жилья для семьи', 'покупка недвижимости',\n",
              "       'покупка коммерческой недвижимости', 'покупка жилой недвижимости',\n",
              "       'строительство собственной недвижимости', 'недвижимость',\n",
              "       'строительство недвижимости', 'на покупку подержанного автомобиля',\n",
              "       'на покупку своего автомобиля',\n",
              "       'операции с коммерческой недвижимостью',\n",
              "       'строительство жилой недвижимости', 'жилье',\n",
              "       'операции со своей недвижимостью', 'автомобили',\n",
              "       'заняться образованием', 'сделка с подержанным автомобилем',\n",
              "       'получение образования', 'автомобиль', 'свадьба',\n",
              "       'получение дополнительного образования', 'покупка своего жилья',\n",
              "       'операции с недвижимостью', 'получение высшего образования',\n",
              "       'свой автомобиль', 'сделка с автомобилем',\n",
              "       'профильное образование', 'высшее образование',\n",
              "       'покупка жилья для сдачи', 'на покупку автомобиля', 'ремонт жилью',\n",
              "       'заняться высшим образованием'], dtype=object)"
            ]
          },
          "execution_count": 19,
          "metadata": {},
          "output_type": "execute_result"
        }
      ],
      "source": [
        "data['purpose'].unique()"
      ]
    },
    {
      "cell_type": "markdown",
      "id": "4b720f9e",
      "metadata": {
        "deletable": false,
        "editable": false,
        "id": "4b720f9e"
      },
      "source": [
        "Создайте функцию, которая на основании данных из столбца `purpose` сформирует новый столбец `purpose_category`, в который войдут следующие категории:\n",
        "\n",
        "- `'операции с автомобилем'`,\n",
        "- `'операции с недвижимостью'`,\n",
        "- `'проведение свадьбы'`,\n",
        "- `'получение образования'`.\n",
        "\n",
        "**Например, если в столбце `purpose` находится подстрока `'на покупку автомобиля'`, то в столбце `purpose_category` должна появиться строка `'операции с автомобилем'`.**\n",
        "\n",
        "**Используйте собственную функцию с именем `categorize_purpose()` и метод `apply()`. Изучите данные в столбце `purpose` и определите, какие подстроки помогут вам правильно определить категорию.**"
      ]
    },
    {
      "cell_type": "code",
      "execution_count": null,
      "id": "dc16085a",
      "metadata": {
        "deletable": false,
        "id": "dc16085a"
      },
      "outputs": [],
      "source": [
        "def categorize_purpose(row):\n",
        "    try:\n",
        "        if 'автом' in row:\n",
        "            return 'операции с автомобилем'\n",
        "        elif 'жил' in row or 'недвиж' in row:\n",
        "            return 'операции с недвижимостью'\n",
        "        elif 'свад' in row:\n",
        "            return 'проведение свадьбы'\n",
        "        elif 'образов' in row:\n",
        "            return 'получение образования'\n",
        "    except:\n",
        "        return 'нет категории'"
      ]
    },
    {
      "cell_type": "code",
      "execution_count": null,
      "id": "5c927518",
      "metadata": {
        "deletable": false,
        "id": "5c927518"
      },
      "outputs": [],
      "source": [
        "data['purpose_category'] = data['purpose'].apply(categorize_purpose)"
      ]
    },
    {
      "cell_type": "markdown",
      "id": "d55acd9e",
      "metadata": {
        "deletable": false,
        "editable": false,
        "id": "d55acd9e"
      },
      "source": [
        "### Шаг 3. Исследуйте данные и ответьте на вопросы"
      ]
    },
    {
      "cell_type": "markdown",
      "id": "e292bc56",
      "metadata": {
        "deletable": false,
        "editable": false,
        "id": "e292bc56"
      },
      "source": [
        "#### 3.1 Есть ли зависимость между количеством детей и возвратом кредита в срок?"
      ]
    },
    {
      "cell_type": "markdown",
      "id": "c5f18670",
      "metadata": {
        "deletable": false,
        "id": "c5f18670"
      },
      "source": [
        "Краткое описание методики решения: \n",
        "* Определим отношение (процент) погашенных в срок кредитов к общему числу кредитов для каждой категории (без детей, 1 ребенок, 2 ребенка и тд).\n",
        "* Построим график (гистограмму), на котором по оси Y укажем параметр 'вероятность возврата кредита', а по оси Х - категорию (без детей, и тд), или соберем данные в сводную таблицу, проведя сортировку по убыванию или возрастанию, н\n",
        "* Опираясь на результаты - сфорируем выводы"
      ]
    },
    {
      "cell_type": "markdown",
      "id": "24f1dbf5",
      "metadata": {
        "deletable": false,
        "id": "24f1dbf5"
      },
      "source": []
    },
    {
      "cell_type": "markdown",
      "id": "c93ee66d",
      "metadata": {
        "id": "c93ee66d"
      },
      "source": [
        "Начнем с группировки данных по признаку 'children' и выполним необходимые операции для расчета искомой вероятности возврата кредита без задолженности (столбец 'without_debt')"
      ]
    },
    {
      "cell_type": "code",
      "execution_count": null,
      "id": "045da425",
      "metadata": {
        "id": "045da425",
        "outputId": "506d70d1-5e24-43f7-82cc-17d7471b630d"
      },
      "outputs": [
        {
          "data": {
            "text/html": [
              "<div>\n",
              "<style scoped>\n",
              "    .dataframe tbody tr th:only-of-type {\n",
              "        vertical-align: middle;\n",
              "    }\n",
              "\n",
              "    .dataframe tbody tr th {\n",
              "        vertical-align: top;\n",
              "    }\n",
              "\n",
              "    .dataframe thead tr th {\n",
              "        text-align: left;\n",
              "    }\n",
              "\n",
              "    .dataframe thead tr:last-of-type th {\n",
              "        text-align: right;\n",
              "    }\n",
              "</style>\n",
              "<table border=\"1\" class=\"dataframe\">\n",
              "  <thead>\n",
              "    <tr>\n",
              "      <th></th>\n",
              "      <th colspan=\"2\" halign=\"left\">debt</th>\n",
              "      <th>with_debt</th>\n",
              "      <th>without_debt</th>\n",
              "    </tr>\n",
              "    <tr>\n",
              "      <th></th>\n",
              "      <th>count</th>\n",
              "      <th>sum</th>\n",
              "      <th></th>\n",
              "      <th></th>\n",
              "    </tr>\n",
              "    <tr>\n",
              "      <th>children</th>\n",
              "      <th></th>\n",
              "      <th></th>\n",
              "      <th></th>\n",
              "      <th></th>\n",
              "    </tr>\n",
              "  </thead>\n",
              "  <tbody>\n",
              "    <tr>\n",
              "      <th>0</th>\n",
              "      <td>14091</td>\n",
              "      <td>1063</td>\n",
              "      <td>0.075438</td>\n",
              "      <td>0.924562</td>\n",
              "    </tr>\n",
              "    <tr>\n",
              "      <th>1</th>\n",
              "      <td>4808</td>\n",
              "      <td>444</td>\n",
              "      <td>0.092346</td>\n",
              "      <td>0.907654</td>\n",
              "    </tr>\n",
              "    <tr>\n",
              "      <th>2</th>\n",
              "      <td>2052</td>\n",
              "      <td>194</td>\n",
              "      <td>0.094542</td>\n",
              "      <td>0.905458</td>\n",
              "    </tr>\n",
              "    <tr>\n",
              "      <th>3</th>\n",
              "      <td>330</td>\n",
              "      <td>27</td>\n",
              "      <td>0.081818</td>\n",
              "      <td>0.918182</td>\n",
              "    </tr>\n",
              "    <tr>\n",
              "      <th>4</th>\n",
              "      <td>41</td>\n",
              "      <td>4</td>\n",
              "      <td>0.097561</td>\n",
              "      <td>0.902439</td>\n",
              "    </tr>\n",
              "    <tr>\n",
              "      <th>5</th>\n",
              "      <td>9</td>\n",
              "      <td>0</td>\n",
              "      <td>0.000000</td>\n",
              "      <td>1.000000</td>\n",
              "    </tr>\n",
              "  </tbody>\n",
              "</table>\n",
              "</div>"
            ],
            "text/plain": [
              "           debt       with_debt without_debt\n",
              "          count   sum                       \n",
              "children                                    \n",
              "0         14091  1063  0.075438     0.924562\n",
              "1          4808   444  0.092346     0.907654\n",
              "2          2052   194  0.094542     0.905458\n",
              "3           330    27  0.081818     0.918182\n",
              "4            41     4  0.097561     0.902439\n",
              "5             9     0  0.000000     1.000000"
            ]
          },
          "execution_count": 22,
          "metadata": {},
          "output_type": "execute_result"
        }
      ],
      "source": [
        "data_grouped_children = data.groupby('children').agg({'debt' : ['count', 'sum']}) # вгруппируем и применяем функции count and sum\n",
        "data_grouped_children['with_debt'] = data_grouped_children['debt']['sum'] / data_grouped_children['debt']['count'] # вероятность вернуть кредит с задержкой\n",
        "data_grouped_children['without_debt'] = 1 - data_grouped_children['with_debt'] # вероятность вернуть кредит без задержкой (находим как вероятность противоположного события)\n",
        "data_grouped_children.head(10)"
      ]
    },
    {
      "cell_type": "markdown",
      "id": "a0b03091",
      "metadata": {
        "id": "a0b03091"
      },
      "source": [
        "**Промежуточные наблюдения:**\n",
        "* количество заемщиков в категории с 5 детьми всего лишь 9 человек, а в категории с 4 детьми лишь 41 человекпоэтому сделать объективный (статистический) вывод по такой небольшой выборке не получится. Для того чтобы не потерять эти данные - можно объединить заемщиков с 3 и более детьми в категорию \"многодетные\". Сделаем это следующим шагом\n",
        "* по остальным категориям процент возврата кредита лежит в диапазоне от 90.55% до 92.46%. Максимальные процент возврата кредитов без задолженностей у категории без детей, а минимальный процент у категории с 2 детьми"
      ]
    },
    {
      "cell_type": "markdown",
      "id": "2eba532f",
      "metadata": {
        "id": "2eba532f"
      },
      "source": [
        "Создадим в исходном датасете дополнительный стобец 'children_category' с категориями:\n",
        "- без детей\n",
        "- 1 ребенок\n",
        "- 2 ребенка\n",
        "- многодетный\n",
        "\n",
        "Для этого создадим категоризирующую функцию children_categorize_func\n",
        "    "
      ]
    },
    {
      "cell_type": "code",
      "execution_count": null,
      "id": "4abada83",
      "metadata": {
        "id": "4abada83"
      },
      "outputs": [],
      "source": [
        "def children_categorize_func(ch):\n",
        "\n",
        "    try:\n",
        "        if ch == 0:\n",
        "            return 'без детей'\n",
        "        elif ch == 1:\n",
        "            return '1 ребенок'\n",
        "        elif ch == 2:\n",
        "            return '2 ребенка'\n",
        "        elif ch >=3:\n",
        "            return 'многодетный'\n",
        "        \n",
        "    except:\n",
        "        return 'не возможно присвоить категорию. Проверьте данные в столбце \"children\"'\n",
        "        "
      ]
    },
    {
      "cell_type": "markdown",
      "id": "03940f9b",
      "metadata": {
        "id": "03940f9b"
      },
      "source": [
        "Проверим работу новой функции:"
      ]
    },
    {
      "cell_type": "code",
      "execution_count": null,
      "id": "50d8eb28",
      "metadata": {
        "scrolled": true,
        "id": "50d8eb28",
        "outputId": "8f324101-529e-48a3-99a9-3432b54f8fa0"
      },
      "outputs": [
        {
          "data": {
            "text/html": [
              "<div>\n",
              "<style scoped>\n",
              "    .dataframe tbody tr th:only-of-type {\n",
              "        vertical-align: middle;\n",
              "    }\n",
              "\n",
              "    .dataframe tbody tr th {\n",
              "        vertical-align: top;\n",
              "    }\n",
              "\n",
              "    .dataframe thead th {\n",
              "        text-align: right;\n",
              "    }\n",
              "</style>\n",
              "<table border=\"1\" class=\"dataframe\">\n",
              "  <thead>\n",
              "    <tr style=\"text-align: right;\">\n",
              "      <th></th>\n",
              "      <th>children</th>\n",
              "      <th>days_employed</th>\n",
              "      <th>dob_years</th>\n",
              "      <th>education</th>\n",
              "      <th>education_id</th>\n",
              "      <th>family_status</th>\n",
              "      <th>family_status_id</th>\n",
              "      <th>gender</th>\n",
              "      <th>income_type</th>\n",
              "      <th>debt</th>\n",
              "      <th>total_income</th>\n",
              "      <th>purpose</th>\n",
              "      <th>total_income_category</th>\n",
              "      <th>purpose_category</th>\n",
              "      <th>children_category</th>\n",
              "    </tr>\n",
              "  </thead>\n",
              "  <tbody>\n",
              "    <tr>\n",
              "      <th>0</th>\n",
              "      <td>1</td>\n",
              "      <td>8437.673028</td>\n",
              "      <td>42</td>\n",
              "      <td>высшее</td>\n",
              "      <td>0</td>\n",
              "      <td>женат / замужем</td>\n",
              "      <td>0</td>\n",
              "      <td>F</td>\n",
              "      <td>сотрудник</td>\n",
              "      <td>0</td>\n",
              "      <td>253875</td>\n",
              "      <td>покупка жилья</td>\n",
              "      <td>B</td>\n",
              "      <td>операции с недвижимостью</td>\n",
              "      <td>1 ребенок</td>\n",
              "    </tr>\n",
              "    <tr>\n",
              "      <th>1</th>\n",
              "      <td>1</td>\n",
              "      <td>4024.803754</td>\n",
              "      <td>36</td>\n",
              "      <td>среднее</td>\n",
              "      <td>1</td>\n",
              "      <td>женат / замужем</td>\n",
              "      <td>0</td>\n",
              "      <td>F</td>\n",
              "      <td>сотрудник</td>\n",
              "      <td>0</td>\n",
              "      <td>112080</td>\n",
              "      <td>приобретение автомобиля</td>\n",
              "      <td>C</td>\n",
              "      <td>операции с автомобилем</td>\n",
              "      <td>1 ребенок</td>\n",
              "    </tr>\n",
              "    <tr>\n",
              "      <th>2</th>\n",
              "      <td>0</td>\n",
              "      <td>5623.422610</td>\n",
              "      <td>33</td>\n",
              "      <td>среднее</td>\n",
              "      <td>1</td>\n",
              "      <td>женат / замужем</td>\n",
              "      <td>0</td>\n",
              "      <td>M</td>\n",
              "      <td>сотрудник</td>\n",
              "      <td>0</td>\n",
              "      <td>145885</td>\n",
              "      <td>покупка жилья</td>\n",
              "      <td>C</td>\n",
              "      <td>операции с недвижимостью</td>\n",
              "      <td>без детей</td>\n",
              "    </tr>\n",
              "    <tr>\n",
              "      <th>3</th>\n",
              "      <td>3</td>\n",
              "      <td>4124.747207</td>\n",
              "      <td>32</td>\n",
              "      <td>среднее</td>\n",
              "      <td>1</td>\n",
              "      <td>женат / замужем</td>\n",
              "      <td>0</td>\n",
              "      <td>M</td>\n",
              "      <td>сотрудник</td>\n",
              "      <td>0</td>\n",
              "      <td>267628</td>\n",
              "      <td>дополнительное образование</td>\n",
              "      <td>B</td>\n",
              "      <td>получение образования</td>\n",
              "      <td>многодетный</td>\n",
              "    </tr>\n",
              "    <tr>\n",
              "      <th>4</th>\n",
              "      <td>0</td>\n",
              "      <td>340266.072047</td>\n",
              "      <td>53</td>\n",
              "      <td>среднее</td>\n",
              "      <td>1</td>\n",
              "      <td>гражданский брак</td>\n",
              "      <td>1</td>\n",
              "      <td>F</td>\n",
              "      <td>пенсионер</td>\n",
              "      <td>0</td>\n",
              "      <td>158616</td>\n",
              "      <td>сыграть свадьбу</td>\n",
              "      <td>C</td>\n",
              "      <td>проведение свадьбы</td>\n",
              "      <td>без детей</td>\n",
              "    </tr>\n",
              "  </tbody>\n",
              "</table>\n",
              "</div>"
            ],
            "text/plain": [
              "   children  days_employed  dob_years education  education_id  \\\n",
              "0         1    8437.673028         42    высшее             0   \n",
              "1         1    4024.803754         36   среднее             1   \n",
              "2         0    5623.422610         33   среднее             1   \n",
              "3         3    4124.747207         32   среднее             1   \n",
              "4         0  340266.072047         53   среднее             1   \n",
              "\n",
              "      family_status  family_status_id gender income_type  debt  total_income  \\\n",
              "0   женат / замужем                 0      F   сотрудник     0        253875   \n",
              "1   женат / замужем                 0      F   сотрудник     0        112080   \n",
              "2   женат / замужем                 0      M   сотрудник     0        145885   \n",
              "3   женат / замужем                 0      M   сотрудник     0        267628   \n",
              "4  гражданский брак                 1      F   пенсионер     0        158616   \n",
              "\n",
              "                      purpose total_income_category          purpose_category  \\\n",
              "0               покупка жилья                     B  операции с недвижимостью   \n",
              "1     приобретение автомобиля                     C    операции с автомобилем   \n",
              "2               покупка жилья                     C  операции с недвижимостью   \n",
              "3  дополнительное образование                     B     получение образования   \n",
              "4             сыграть свадьбу                     C        проведение свадьбы   \n",
              "\n",
              "  children_category  \n",
              "0         1 ребенок  \n",
              "1         1 ребенок  \n",
              "2         без детей  \n",
              "3       многодетный  \n",
              "4         без детей  "
            ]
          },
          "execution_count": 24,
          "metadata": {},
          "output_type": "execute_result"
        }
      ],
      "source": [
        "data['children_category'] = data['children'].apply(children_categorize_func)\n",
        "data.head()"
      ]
    },
    {
      "cell_type": "code",
      "execution_count": null,
      "id": "794872c2",
      "metadata": {
        "id": "794872c2",
        "outputId": "e051cf80-a974-4b15-a12f-e0a76a602f45"
      },
      "outputs": [
        {
          "data": {
            "text/plain": [
              "array(['1 ребенок', 'без детей', 'многодетный', '2 ребенка'], dtype=object)"
            ]
          },
          "execution_count": 25,
          "metadata": {},
          "output_type": "execute_result"
        }
      ],
      "source": [
        "data['children_category'].unique()"
      ]
    },
    {
      "cell_type": "markdown",
      "id": "d27a0c04",
      "metadata": {
        "id": "d27a0c04"
      },
      "source": [
        "Видим, что функция верно присваивает значения и ошибок нет. Теперь повторим операцию по построению таблицы как было выполнено ранее"
      ]
    },
    {
      "cell_type": "code",
      "execution_count": null,
      "id": "a46ad128",
      "metadata": {
        "id": "a46ad128",
        "outputId": "d9505b5b-b039-4816-feba-c362976b2667"
      },
      "outputs": [
        {
          "data": {
            "text/html": [
              "<div>\n",
              "<style scoped>\n",
              "    .dataframe tbody tr th:only-of-type {\n",
              "        vertical-align: middle;\n",
              "    }\n",
              "\n",
              "    .dataframe tbody tr th {\n",
              "        vertical-align: top;\n",
              "    }\n",
              "\n",
              "    .dataframe thead tr th {\n",
              "        text-align: left;\n",
              "    }\n",
              "\n",
              "    .dataframe thead tr:last-of-type th {\n",
              "        text-align: right;\n",
              "    }\n",
              "</style>\n",
              "<table border=\"1\" class=\"dataframe\">\n",
              "  <thead>\n",
              "    <tr>\n",
              "      <th></th>\n",
              "      <th colspan=\"2\" halign=\"left\">debt</th>\n",
              "      <th>with_debt</th>\n",
              "      <th>without_debt</th>\n",
              "    </tr>\n",
              "    <tr>\n",
              "      <th></th>\n",
              "      <th>count</th>\n",
              "      <th>sum</th>\n",
              "      <th></th>\n",
              "      <th></th>\n",
              "    </tr>\n",
              "    <tr>\n",
              "      <th>children_category</th>\n",
              "      <th></th>\n",
              "      <th></th>\n",
              "      <th></th>\n",
              "      <th></th>\n",
              "    </tr>\n",
              "  </thead>\n",
              "  <tbody>\n",
              "    <tr>\n",
              "      <th>1 ребенок</th>\n",
              "      <td>4808</td>\n",
              "      <td>444</td>\n",
              "      <td>0.092346</td>\n",
              "      <td>0.907654</td>\n",
              "    </tr>\n",
              "    <tr>\n",
              "      <th>2 ребенка</th>\n",
              "      <td>2052</td>\n",
              "      <td>194</td>\n",
              "      <td>0.094542</td>\n",
              "      <td>0.905458</td>\n",
              "    </tr>\n",
              "    <tr>\n",
              "      <th>без детей</th>\n",
              "      <td>14091</td>\n",
              "      <td>1063</td>\n",
              "      <td>0.075438</td>\n",
              "      <td>0.924562</td>\n",
              "    </tr>\n",
              "    <tr>\n",
              "      <th>многодетный</th>\n",
              "      <td>380</td>\n",
              "      <td>31</td>\n",
              "      <td>0.081579</td>\n",
              "      <td>0.918421</td>\n",
              "    </tr>\n",
              "  </tbody>\n",
              "</table>\n",
              "</div>"
            ],
            "text/plain": [
              "                    debt       with_debt without_debt\n",
              "                   count   sum                       \n",
              "children_category                                    \n",
              "1 ребенок           4808   444  0.092346     0.907654\n",
              "2 ребенка           2052   194  0.094542     0.905458\n",
              "без детей          14091  1063  0.075438     0.924562\n",
              "многодетный          380    31  0.081579     0.918421"
            ]
          },
          "execution_count": 26,
          "metadata": {},
          "output_type": "execute_result"
        }
      ],
      "source": [
        "data_grouped_children = data.groupby('children_category').agg({'debt' : ['count', 'sum']}) #группируем по новому столбцу\n",
        "data_grouped_children['with_debt'] = data_grouped_children['debt']['sum'] / data_grouped_children['debt']['count']\n",
        "data_grouped_children['without_debt'] = 1 - data_grouped_children['with_debt']\n",
        "data_grouped_children.head(10)"
      ]
    },
    {
      "cell_type": "markdown",
      "id": "cc8a0fec",
      "metadata": {
        "id": "cc8a0fec"
      },
      "source": [
        "Для наглядности - отсортируем данные по убыванию вероятности вернуть кредит без задолженности и найдем самых надежных и ненадежных заемщиков по признаку наличия детей"
      ]
    },
    {
      "cell_type": "code",
      "execution_count": null,
      "id": "14684bd2",
      "metadata": {
        "scrolled": true,
        "id": "14684bd2",
        "outputId": "c1261390-6071-474e-f75a-04269ca909a7"
      },
      "outputs": [
        {
          "data": {
            "text/html": [
              "<div>\n",
              "<style scoped>\n",
              "    .dataframe tbody tr th:only-of-type {\n",
              "        vertical-align: middle;\n",
              "    }\n",
              "\n",
              "    .dataframe tbody tr th {\n",
              "        vertical-align: top;\n",
              "    }\n",
              "\n",
              "    .dataframe thead tr th {\n",
              "        text-align: left;\n",
              "    }\n",
              "\n",
              "    .dataframe thead tr:last-of-type th {\n",
              "        text-align: right;\n",
              "    }\n",
              "</style>\n",
              "<table border=\"1\" class=\"dataframe\">\n",
              "  <thead>\n",
              "    <tr>\n",
              "      <th></th>\n",
              "      <th colspan=\"2\" halign=\"left\">debt</th>\n",
              "      <th>with_debt</th>\n",
              "      <th>without_debt</th>\n",
              "    </tr>\n",
              "    <tr>\n",
              "      <th></th>\n",
              "      <th>count</th>\n",
              "      <th>sum</th>\n",
              "      <th></th>\n",
              "      <th></th>\n",
              "    </tr>\n",
              "    <tr>\n",
              "      <th>children_category</th>\n",
              "      <th></th>\n",
              "      <th></th>\n",
              "      <th></th>\n",
              "      <th></th>\n",
              "    </tr>\n",
              "  </thead>\n",
              "  <tbody>\n",
              "    <tr>\n",
              "      <th>без детей</th>\n",
              "      <td>14091</td>\n",
              "      <td>1063</td>\n",
              "      <td>0.075438</td>\n",
              "      <td>0.924562</td>\n",
              "    </tr>\n",
              "    <tr>\n",
              "      <th>многодетный</th>\n",
              "      <td>380</td>\n",
              "      <td>31</td>\n",
              "      <td>0.081579</td>\n",
              "      <td>0.918421</td>\n",
              "    </tr>\n",
              "    <tr>\n",
              "      <th>1 ребенок</th>\n",
              "      <td>4808</td>\n",
              "      <td>444</td>\n",
              "      <td>0.092346</td>\n",
              "      <td>0.907654</td>\n",
              "    </tr>\n",
              "    <tr>\n",
              "      <th>2 ребенка</th>\n",
              "      <td>2052</td>\n",
              "      <td>194</td>\n",
              "      <td>0.094542</td>\n",
              "      <td>0.905458</td>\n",
              "    </tr>\n",
              "  </tbody>\n",
              "</table>\n",
              "</div>"
            ],
            "text/plain": [
              "                    debt       with_debt without_debt\n",
              "                   count   sum                       \n",
              "children_category                                    \n",
              "без детей          14091  1063  0.075438     0.924562\n",
              "многодетный          380    31  0.081579     0.918421\n",
              "1 ребенок           4808   444  0.092346     0.907654\n",
              "2 ребенка           2052   194  0.094542     0.905458"
            ]
          },
          "execution_count": 27,
          "metadata": {},
          "output_type": "execute_result"
        }
      ],
      "source": [
        "data_grouped_children.sort_values('without_debt', ascending=False)"
      ]
    },
    {
      "cell_type": "markdown",
      "id": "f26a2e46",
      "metadata": {
        "id": "f26a2e46"
      },
      "source": [
        "**Вывод:**\n",
        "* Опираясь на полученные результаты видим, что при категоризации заемщиков по признаку 'количество детей' самыми надежными заемщика (с наибольшей вероятростью вернуть кредит без просрочек) являются заемщики без детей (вероятность 92.46%) и многодетные (вероятность 91.8%), а самыми ненадежными - с 1 ребенком (90.77%) и с 2 детьми (90.55%)\n",
        "* Объянить такой результат можно тем, что возожно финансовое положение людей без детей чуть лучше (меньшие расходы), чем с 1 или с 2 детьми. А многодетные семьи могут получать субсидированные процентные ставки и другие льготы, а также если у людей 3 и более детей, то опять же с финансовой точки зрения - они могут себе это позволить и обеспечить такую большую семью"
      ]
    },
    {
      "cell_type": "markdown",
      "id": "b13a0996",
      "metadata": {
        "deletable": false,
        "editable": false,
        "id": "b13a0996"
      },
      "source": [
        "#### 3.2 Есть ли зависимость между семейным положением и возвратом кредита в срок?"
      ]
    },
    {
      "cell_type": "markdown",
      "id": "542ca260",
      "metadata": {
        "id": "542ca260"
      },
      "source": [
        "Краткое описание методики решения: \n",
        "* Определим отношение (процент) погашенных в срок кредитов к общему числу кредитов для каждой категории 'family_status';\n",
        "* Построим график (гистограмму), на котором по оси Y укажем параметр 'вероятность возврата кредита', а по оси Х - категорию, или соберем данные в сводную таблицу, проведя сортировку по убыванию или возрастанию;\n",
        "* Опираясь на результаты - сфорируем выводы"
      ]
    },
    {
      "cell_type": "code",
      "execution_count": null,
      "id": "a3ed0a8f",
      "metadata": {
        "deletable": false,
        "id": "a3ed0a8f",
        "scrolled": true,
        "outputId": "5670c139-82b9-4831-f7f5-8e5eda331421"
      },
      "outputs": [
        {
          "data": {
            "text/plain": [
              "array(['женат / замужем', 'гражданский брак', 'вдовец / вдова',\n",
              "       'в разводе', 'Не женат / не замужем'], dtype=object)"
            ]
          },
          "execution_count": 28,
          "metadata": {},
          "output_type": "execute_result"
        }
      ],
      "source": [
        "data['family_status'].unique() # Посмотрим уникальные значения"
      ]
    },
    {
      "cell_type": "markdown",
      "id": "d5b61eb4",
      "metadata": {
        "id": "d5b61eb4"
      },
      "source": [
        "Дублирующихся значений нет (например, из-за ошибок шрифта/опечаток). Можно групировать данные по признаку 'family_status' и выполнить необходимы операции для расчета искомой вероятности возврата кредита без задолженности (столбец 'without_debt')"
      ]
    },
    {
      "cell_type": "code",
      "execution_count": null,
      "id": "9d4fe9ff",
      "metadata": {
        "id": "9d4fe9ff",
        "outputId": "e01d6d93-5548-4218-ef90-faf25d5703af"
      },
      "outputs": [
        {
          "data": {
            "text/html": [
              "<div>\n",
              "<style scoped>\n",
              "    .dataframe tbody tr th:only-of-type {\n",
              "        vertical-align: middle;\n",
              "    }\n",
              "\n",
              "    .dataframe tbody tr th {\n",
              "        vertical-align: top;\n",
              "    }\n",
              "\n",
              "    .dataframe thead tr th {\n",
              "        text-align: left;\n",
              "    }\n",
              "\n",
              "    .dataframe thead tr:last-of-type th {\n",
              "        text-align: right;\n",
              "    }\n",
              "</style>\n",
              "<table border=\"1\" class=\"dataframe\">\n",
              "  <thead>\n",
              "    <tr>\n",
              "      <th></th>\n",
              "      <th colspan=\"2\" halign=\"left\">debt</th>\n",
              "      <th>with_debt</th>\n",
              "      <th>without_debt</th>\n",
              "    </tr>\n",
              "    <tr>\n",
              "      <th></th>\n",
              "      <th>count</th>\n",
              "      <th>sum</th>\n",
              "      <th></th>\n",
              "      <th></th>\n",
              "    </tr>\n",
              "    <tr>\n",
              "      <th>family_status</th>\n",
              "      <th></th>\n",
              "      <th></th>\n",
              "      <th></th>\n",
              "      <th></th>\n",
              "    </tr>\n",
              "  </thead>\n",
              "  <tbody>\n",
              "    <tr>\n",
              "      <th>Не женат / не замужем</th>\n",
              "      <td>2796</td>\n",
              "      <td>273</td>\n",
              "      <td>0.097639</td>\n",
              "      <td>0.902361</td>\n",
              "    </tr>\n",
              "    <tr>\n",
              "      <th>в разводе</th>\n",
              "      <td>1189</td>\n",
              "      <td>84</td>\n",
              "      <td>0.070648</td>\n",
              "      <td>0.929352</td>\n",
              "    </tr>\n",
              "    <tr>\n",
              "      <th>вдовец / вдова</th>\n",
              "      <td>951</td>\n",
              "      <td>63</td>\n",
              "      <td>0.066246</td>\n",
              "      <td>0.933754</td>\n",
              "    </tr>\n",
              "    <tr>\n",
              "      <th>гражданский брак</th>\n",
              "      <td>4134</td>\n",
              "      <td>385</td>\n",
              "      <td>0.093130</td>\n",
              "      <td>0.906870</td>\n",
              "    </tr>\n",
              "    <tr>\n",
              "      <th>женат / замужем</th>\n",
              "      <td>12261</td>\n",
              "      <td>927</td>\n",
              "      <td>0.075606</td>\n",
              "      <td>0.924394</td>\n",
              "    </tr>\n",
              "  </tbody>\n",
              "</table>\n",
              "</div>"
            ],
            "text/plain": [
              "                        debt      with_debt without_debt\n",
              "                       count  sum                       \n",
              "family_status                                           \n",
              "Не женат / не замужем   2796  273  0.097639     0.902361\n",
              "в разводе               1189   84  0.070648     0.929352\n",
              "вдовец / вдова           951   63  0.066246     0.933754\n",
              "гражданский брак        4134  385  0.093130     0.906870\n",
              "женат / замужем        12261  927  0.075606     0.924394"
            ]
          },
          "execution_count": 29,
          "metadata": {},
          "output_type": "execute_result"
        }
      ],
      "source": [
        "data_grouped_family = data.groupby('family_status').agg({'debt' : ['count', 'sum']}) # группируем\n",
        "data_grouped_family['with_debt'] = data_grouped_family['debt']['sum'] / data_grouped_family['debt']['count'] # вероятность вернуть кредит с задержкой\n",
        "data_grouped_family['without_debt'] = 1 - data_grouped_family['with_debt'] # вероятность вернуть кредит без задержки (как противоположное событие)\n",
        "data_grouped_family.head(10)"
      ]
    },
    {
      "cell_type": "markdown",
      "id": "62aa3fe6",
      "metadata": {
        "id": "62aa3fe6"
      },
      "source": [
        "**Промежуточные наблюдения:**\n",
        "* количество заемщиков в каждой достаточно велико (больше 950), что позволяет делать статистические выводы\n",
        "* максимальная вероятность (93.38%) приходится на категорию \"вдовец / вдова\", а минимальная вероятность (90.24%) на категорию \"Не женат / не замужем\"."
      ]
    },
    {
      "cell_type": "markdown",
      "id": "992b6245",
      "metadata": {
        "id": "992b6245"
      },
      "source": [
        "Для наглядности - отсортируем данные по убыванию вероятности вернуть кредит без задолженности и найдем самых надежных и ненадежных заемщиков по признаку семейный статус"
      ]
    },
    {
      "cell_type": "code",
      "execution_count": null,
      "id": "088d95df",
      "metadata": {
        "id": "088d95df",
        "outputId": "c2d8f15b-ac9c-4b4d-fea4-418452336e7b"
      },
      "outputs": [
        {
          "data": {
            "text/html": [
              "<div>\n",
              "<style scoped>\n",
              "    .dataframe tbody tr th:only-of-type {\n",
              "        vertical-align: middle;\n",
              "    }\n",
              "\n",
              "    .dataframe tbody tr th {\n",
              "        vertical-align: top;\n",
              "    }\n",
              "\n",
              "    .dataframe thead tr th {\n",
              "        text-align: left;\n",
              "    }\n",
              "\n",
              "    .dataframe thead tr:last-of-type th {\n",
              "        text-align: right;\n",
              "    }\n",
              "</style>\n",
              "<table border=\"1\" class=\"dataframe\">\n",
              "  <thead>\n",
              "    <tr>\n",
              "      <th></th>\n",
              "      <th colspan=\"2\" halign=\"left\">debt</th>\n",
              "      <th>with_debt</th>\n",
              "      <th>without_debt</th>\n",
              "    </tr>\n",
              "    <tr>\n",
              "      <th></th>\n",
              "      <th>count</th>\n",
              "      <th>sum</th>\n",
              "      <th></th>\n",
              "      <th></th>\n",
              "    </tr>\n",
              "    <tr>\n",
              "      <th>family_status</th>\n",
              "      <th></th>\n",
              "      <th></th>\n",
              "      <th></th>\n",
              "      <th></th>\n",
              "    </tr>\n",
              "  </thead>\n",
              "  <tbody>\n",
              "    <tr>\n",
              "      <th>вдовец / вдова</th>\n",
              "      <td>951</td>\n",
              "      <td>63</td>\n",
              "      <td>0.066246</td>\n",
              "      <td>0.933754</td>\n",
              "    </tr>\n",
              "    <tr>\n",
              "      <th>в разводе</th>\n",
              "      <td>1189</td>\n",
              "      <td>84</td>\n",
              "      <td>0.070648</td>\n",
              "      <td>0.929352</td>\n",
              "    </tr>\n",
              "    <tr>\n",
              "      <th>женат / замужем</th>\n",
              "      <td>12261</td>\n",
              "      <td>927</td>\n",
              "      <td>0.075606</td>\n",
              "      <td>0.924394</td>\n",
              "    </tr>\n",
              "    <tr>\n",
              "      <th>гражданский брак</th>\n",
              "      <td>4134</td>\n",
              "      <td>385</td>\n",
              "      <td>0.093130</td>\n",
              "      <td>0.906870</td>\n",
              "    </tr>\n",
              "    <tr>\n",
              "      <th>Не женат / не замужем</th>\n",
              "      <td>2796</td>\n",
              "      <td>273</td>\n",
              "      <td>0.097639</td>\n",
              "      <td>0.902361</td>\n",
              "    </tr>\n",
              "  </tbody>\n",
              "</table>\n",
              "</div>"
            ],
            "text/plain": [
              "                        debt      with_debt without_debt\n",
              "                       count  sum                       \n",
              "family_status                                           \n",
              "вдовец / вдова           951   63  0.066246     0.933754\n",
              "в разводе               1189   84  0.070648     0.929352\n",
              "женат / замужем        12261  927  0.075606     0.924394\n",
              "гражданский брак        4134  385  0.093130     0.906870\n",
              "Не женат / не замужем   2796  273  0.097639     0.902361"
            ]
          },
          "execution_count": 30,
          "metadata": {},
          "output_type": "execute_result"
        }
      ],
      "source": [
        "data_grouped_family.sort_values('without_debt', ascending=False)"
      ]
    },
    {
      "cell_type": "markdown",
      "id": "0379ddef",
      "metadata": {
        "deletable": false,
        "id": "0379ddef"
      },
      "source": [
        "**Вывод:** \n",
        "* Опираясь на полученные результаты видим, что при категоризации заемщиков по признаку 'семейный статус' самыми надежными заемщика (с наибольшей вероятростью вернуть кредит без просрочек) являются заемщики \"вдовец / вдова\" (вероятность 93.38%) и 'в разводе' (вероятность 92.93%), а самыми ненадежными - с 'Не женат / не замужем' (90.24%) и с 'гражданский брак' (90.68%)\n",
        "\n"
      ]
    },
    {
      "cell_type": "markdown",
      "id": "6b16667b",
      "metadata": {
        "deletable": false,
        "editable": false,
        "id": "6b16667b"
      },
      "source": [
        "#### 3.3 Есть ли зависимость между уровнем дохода и возвратом кредита в срок?"
      ]
    },
    {
      "cell_type": "markdown",
      "id": "61efa819",
      "metadata": {
        "id": "61efa819"
      },
      "source": [
        "В предыдущих заданиях мы разбили всех заемщиков по категориям дохода:\n",
        "\n",
        "- 0–30000 — 'E';\n",
        "- 30001–50000 — 'D';\n",
        "- 50001–200000 — 'C';\n",
        "- 200001–1000000 — 'B';\n",
        "- 1000001 и выше — 'A'."
      ]
    },
    {
      "cell_type": "markdown",
      "id": "388d9d0f",
      "metadata": {
        "id": "388d9d0f"
      },
      "source": [
        "Краткое описание методики решения: \n",
        "* Определим отношение (процент) погашенных в срок кредитов к общему числу кредитов для каждой категории 'total_income_category';\n",
        "* Построим график (гистограмму), на котором по оси Y укажем параметр 'вероятность возврата кредита', а по оси Х - категорию, или соберем данные в сводную таблицу, проведя сортировку по убыванию или возрастанию;\n",
        "* Опираясь на результаты - сфорируем выводы"
      ]
    },
    {
      "cell_type": "code",
      "execution_count": null,
      "id": "8d44bb71",
      "metadata": {
        "deletable": false,
        "id": "8d44bb71",
        "scrolled": false,
        "outputId": "5398ef0f-6680-48c9-c3e8-c31d4f1da506"
      },
      "outputs": [
        {
          "data": {
            "text/plain": [
              "array(['B', 'C', 'D', 'E', 'A'], dtype=object)"
            ]
          },
          "execution_count": 31,
          "metadata": {},
          "output_type": "execute_result"
        }
      ],
      "source": [
        "data['total_income_category'].unique()"
      ]
    },
    {
      "cell_type": "markdown",
      "id": "16b75099",
      "metadata": {
        "id": "16b75099"
      },
      "source": [
        "Дублирующихся значений нет (например, из-за ошибок шрифта/опечаток). Можно групировать данные по признаку 'total_income_category' и выполнить необходимы операции для расчета искомой вероятности возврата кредита без задолженности (столбец 'without_debt')"
      ]
    },
    {
      "cell_type": "code",
      "execution_count": null,
      "id": "05bba719",
      "metadata": {
        "id": "05bba719",
        "outputId": "2b163024-c045-4508-f5e4-5d307e28bd77"
      },
      "outputs": [
        {
          "data": {
            "text/html": [
              "<div>\n",
              "<style scoped>\n",
              "    .dataframe tbody tr th:only-of-type {\n",
              "        vertical-align: middle;\n",
              "    }\n",
              "\n",
              "    .dataframe tbody tr th {\n",
              "        vertical-align: top;\n",
              "    }\n",
              "\n",
              "    .dataframe thead tr th {\n",
              "        text-align: left;\n",
              "    }\n",
              "\n",
              "    .dataframe thead tr:last-of-type th {\n",
              "        text-align: right;\n",
              "    }\n",
              "</style>\n",
              "<table border=\"1\" class=\"dataframe\">\n",
              "  <thead>\n",
              "    <tr>\n",
              "      <th></th>\n",
              "      <th colspan=\"2\" halign=\"left\">debt</th>\n",
              "      <th>with_debt</th>\n",
              "      <th>without_debt</th>\n",
              "    </tr>\n",
              "    <tr>\n",
              "      <th></th>\n",
              "      <th>count</th>\n",
              "      <th>sum</th>\n",
              "      <th></th>\n",
              "      <th></th>\n",
              "    </tr>\n",
              "    <tr>\n",
              "      <th>total_income_category</th>\n",
              "      <th></th>\n",
              "      <th></th>\n",
              "      <th></th>\n",
              "      <th></th>\n",
              "    </tr>\n",
              "  </thead>\n",
              "  <tbody>\n",
              "    <tr>\n",
              "      <th>A</th>\n",
              "      <td>25</td>\n",
              "      <td>2</td>\n",
              "      <td>0.080000</td>\n",
              "      <td>0.920000</td>\n",
              "    </tr>\n",
              "    <tr>\n",
              "      <th>B</th>\n",
              "      <td>5014</td>\n",
              "      <td>354</td>\n",
              "      <td>0.070602</td>\n",
              "      <td>0.929398</td>\n",
              "    </tr>\n",
              "    <tr>\n",
              "      <th>C</th>\n",
              "      <td>15921</td>\n",
              "      <td>1353</td>\n",
              "      <td>0.084982</td>\n",
              "      <td>0.915018</td>\n",
              "    </tr>\n",
              "    <tr>\n",
              "      <th>D</th>\n",
              "      <td>349</td>\n",
              "      <td>21</td>\n",
              "      <td>0.060172</td>\n",
              "      <td>0.939828</td>\n",
              "    </tr>\n",
              "    <tr>\n",
              "      <th>E</th>\n",
              "      <td>22</td>\n",
              "      <td>2</td>\n",
              "      <td>0.090909</td>\n",
              "      <td>0.909091</td>\n",
              "    </tr>\n",
              "  </tbody>\n",
              "</table>\n",
              "</div>"
            ],
            "text/plain": [
              "                        debt       with_debt without_debt\n",
              "                       count   sum                       \n",
              "total_income_category                                    \n",
              "A                         25     2  0.080000     0.920000\n",
              "B                       5014   354  0.070602     0.929398\n",
              "C                      15921  1353  0.084982     0.915018\n",
              "D                        349    21  0.060172     0.939828\n",
              "E                         22     2  0.090909     0.909091"
            ]
          },
          "execution_count": 32,
          "metadata": {},
          "output_type": "execute_result"
        }
      ],
      "source": [
        "data_grouped_income = data.groupby('total_income_category').agg({'debt' : ['count', 'sum']}) # группируем\n",
        "data_grouped_income['with_debt'] = data_grouped_income['debt']['sum'] / data_grouped_income['debt']['count'] # вероятность вернуть кредит с задержкой\n",
        "data_grouped_income['without_debt'] = 1 - data_grouped_income['with_debt'] # вероятность вернуть кредит без задержки (как противоположное событие)\n",
        "data_grouped_income.head(10)"
      ]
    },
    {
      "cell_type": "markdown",
      "id": "c7d18595",
      "metadata": {
        "id": "c7d18595"
      },
      "source": [
        "**Промежуточные наблюдения:**\n",
        "* для статистических выводов количество заемщиков слишком мало в категориях E (22 чел) и А (25 чел). Поэтому предлагается объединить смежные категории в более крупные: E и D, А и В. "
      ]
    },
    {
      "cell_type": "markdown",
      "id": "8fc94e12",
      "metadata": {
        "id": "8fc94e12"
      },
      "source": [
        "Для объединения категорий по доходу создадим функцию total_income_categ_new_func"
      ]
    },
    {
      "cell_type": "code",
      "execution_count": null,
      "id": "8c6cf34b",
      "metadata": {
        "id": "8c6cf34b"
      },
      "outputs": [],
      "source": [
        "def total_income_categ_new_func(x):\n",
        "    if x == 'A' or x == 'B':\n",
        "        return 'A+B'\n",
        "    elif x == 'C':\n",
        "        return 'C'\n",
        "    elif x == 'D' or x == 'E':\n",
        "        return 'D+E'"
      ]
    },
    {
      "cell_type": "code",
      "execution_count": null,
      "id": "8b1e6078",
      "metadata": {
        "scrolled": false,
        "id": "8b1e6078",
        "outputId": "b2e18469-69aa-4563-8bfa-d49a8624a34f"
      },
      "outputs": [
        {
          "data": {
            "text/html": [
              "<div>\n",
              "<style scoped>\n",
              "    .dataframe tbody tr th:only-of-type {\n",
              "        vertical-align: middle;\n",
              "    }\n",
              "\n",
              "    .dataframe tbody tr th {\n",
              "        vertical-align: top;\n",
              "    }\n",
              "\n",
              "    .dataframe thead th {\n",
              "        text-align: right;\n",
              "    }\n",
              "</style>\n",
              "<table border=\"1\" class=\"dataframe\">\n",
              "  <thead>\n",
              "    <tr style=\"text-align: right;\">\n",
              "      <th></th>\n",
              "      <th>children</th>\n",
              "      <th>days_employed</th>\n",
              "      <th>dob_years</th>\n",
              "      <th>education</th>\n",
              "      <th>education_id</th>\n",
              "      <th>family_status</th>\n",
              "      <th>family_status_id</th>\n",
              "      <th>gender</th>\n",
              "      <th>income_type</th>\n",
              "      <th>debt</th>\n",
              "      <th>total_income</th>\n",
              "      <th>purpose</th>\n",
              "      <th>total_income_category</th>\n",
              "      <th>purpose_category</th>\n",
              "      <th>children_category</th>\n",
              "      <th>total_income_category_new</th>\n",
              "    </tr>\n",
              "  </thead>\n",
              "  <tbody>\n",
              "    <tr>\n",
              "      <th>0</th>\n",
              "      <td>1</td>\n",
              "      <td>8437.673028</td>\n",
              "      <td>42</td>\n",
              "      <td>высшее</td>\n",
              "      <td>0</td>\n",
              "      <td>женат / замужем</td>\n",
              "      <td>0</td>\n",
              "      <td>F</td>\n",
              "      <td>сотрудник</td>\n",
              "      <td>0</td>\n",
              "      <td>253875</td>\n",
              "      <td>покупка жилья</td>\n",
              "      <td>B</td>\n",
              "      <td>операции с недвижимостью</td>\n",
              "      <td>1 ребенок</td>\n",
              "      <td>A+B</td>\n",
              "    </tr>\n",
              "    <tr>\n",
              "      <th>1</th>\n",
              "      <td>1</td>\n",
              "      <td>4024.803754</td>\n",
              "      <td>36</td>\n",
              "      <td>среднее</td>\n",
              "      <td>1</td>\n",
              "      <td>женат / замужем</td>\n",
              "      <td>0</td>\n",
              "      <td>F</td>\n",
              "      <td>сотрудник</td>\n",
              "      <td>0</td>\n",
              "      <td>112080</td>\n",
              "      <td>приобретение автомобиля</td>\n",
              "      <td>C</td>\n",
              "      <td>операции с автомобилем</td>\n",
              "      <td>1 ребенок</td>\n",
              "      <td>C</td>\n",
              "    </tr>\n",
              "    <tr>\n",
              "      <th>2</th>\n",
              "      <td>0</td>\n",
              "      <td>5623.422610</td>\n",
              "      <td>33</td>\n",
              "      <td>среднее</td>\n",
              "      <td>1</td>\n",
              "      <td>женат / замужем</td>\n",
              "      <td>0</td>\n",
              "      <td>M</td>\n",
              "      <td>сотрудник</td>\n",
              "      <td>0</td>\n",
              "      <td>145885</td>\n",
              "      <td>покупка жилья</td>\n",
              "      <td>C</td>\n",
              "      <td>операции с недвижимостью</td>\n",
              "      <td>без детей</td>\n",
              "      <td>C</td>\n",
              "    </tr>\n",
              "    <tr>\n",
              "      <th>3</th>\n",
              "      <td>3</td>\n",
              "      <td>4124.747207</td>\n",
              "      <td>32</td>\n",
              "      <td>среднее</td>\n",
              "      <td>1</td>\n",
              "      <td>женат / замужем</td>\n",
              "      <td>0</td>\n",
              "      <td>M</td>\n",
              "      <td>сотрудник</td>\n",
              "      <td>0</td>\n",
              "      <td>267628</td>\n",
              "      <td>дополнительное образование</td>\n",
              "      <td>B</td>\n",
              "      <td>получение образования</td>\n",
              "      <td>многодетный</td>\n",
              "      <td>A+B</td>\n",
              "    </tr>\n",
              "    <tr>\n",
              "      <th>4</th>\n",
              "      <td>0</td>\n",
              "      <td>340266.072047</td>\n",
              "      <td>53</td>\n",
              "      <td>среднее</td>\n",
              "      <td>1</td>\n",
              "      <td>гражданский брак</td>\n",
              "      <td>1</td>\n",
              "      <td>F</td>\n",
              "      <td>пенсионер</td>\n",
              "      <td>0</td>\n",
              "      <td>158616</td>\n",
              "      <td>сыграть свадьбу</td>\n",
              "      <td>C</td>\n",
              "      <td>проведение свадьбы</td>\n",
              "      <td>без детей</td>\n",
              "      <td>C</td>\n",
              "    </tr>\n",
              "  </tbody>\n",
              "</table>\n",
              "</div>"
            ],
            "text/plain": [
              "   children  days_employed  dob_years education  education_id  \\\n",
              "0         1    8437.673028         42    высшее             0   \n",
              "1         1    4024.803754         36   среднее             1   \n",
              "2         0    5623.422610         33   среднее             1   \n",
              "3         3    4124.747207         32   среднее             1   \n",
              "4         0  340266.072047         53   среднее             1   \n",
              "\n",
              "      family_status  family_status_id gender income_type  debt  total_income  \\\n",
              "0   женат / замужем                 0      F   сотрудник     0        253875   \n",
              "1   женат / замужем                 0      F   сотрудник     0        112080   \n",
              "2   женат / замужем                 0      M   сотрудник     0        145885   \n",
              "3   женат / замужем                 0      M   сотрудник     0        267628   \n",
              "4  гражданский брак                 1      F   пенсионер     0        158616   \n",
              "\n",
              "                      purpose total_income_category          purpose_category  \\\n",
              "0               покупка жилья                     B  операции с недвижимостью   \n",
              "1     приобретение автомобиля                     C    операции с автомобилем   \n",
              "2               покупка жилья                     C  операции с недвижимостью   \n",
              "3  дополнительное образование                     B     получение образования   \n",
              "4             сыграть свадьбу                     C        проведение свадьбы   \n",
              "\n",
              "  children_category total_income_category_new  \n",
              "0         1 ребенок                       A+B  \n",
              "1         1 ребенок                         C  \n",
              "2         без детей                         C  \n",
              "3       многодетный                       A+B  \n",
              "4         без детей                         C  "
            ]
          },
          "execution_count": 34,
          "metadata": {},
          "output_type": "execute_result"
        }
      ],
      "source": [
        "data['total_income_category_new'] = data['total_income_category'].apply(total_income_categ_new_func)\n",
        "data.head()"
      ]
    },
    {
      "cell_type": "markdown",
      "id": "15e17426",
      "metadata": {
        "id": "15e17426"
      },
      "source": [
        "Таким образом ввели новый столбец с укрупненными категориями. Старый столбец затирать не стал - он может пригодиться в дальнейших исследованиях"
      ]
    },
    {
      "cell_type": "code",
      "execution_count": null,
      "id": "6166892e",
      "metadata": {
        "id": "6166892e",
        "outputId": "8854db2c-28f0-4fe0-c041-8eaa2069363c"
      },
      "outputs": [
        {
          "data": {
            "text/html": [
              "<div>\n",
              "<style scoped>\n",
              "    .dataframe tbody tr th:only-of-type {\n",
              "        vertical-align: middle;\n",
              "    }\n",
              "\n",
              "    .dataframe tbody tr th {\n",
              "        vertical-align: top;\n",
              "    }\n",
              "\n",
              "    .dataframe thead tr th {\n",
              "        text-align: left;\n",
              "    }\n",
              "\n",
              "    .dataframe thead tr:last-of-type th {\n",
              "        text-align: right;\n",
              "    }\n",
              "</style>\n",
              "<table border=\"1\" class=\"dataframe\">\n",
              "  <thead>\n",
              "    <tr>\n",
              "      <th></th>\n",
              "      <th colspan=\"2\" halign=\"left\">debt</th>\n",
              "      <th>with_debt</th>\n",
              "      <th>without_debt</th>\n",
              "    </tr>\n",
              "    <tr>\n",
              "      <th></th>\n",
              "      <th>count</th>\n",
              "      <th>sum</th>\n",
              "      <th></th>\n",
              "      <th></th>\n",
              "    </tr>\n",
              "    <tr>\n",
              "      <th>total_income_category_new</th>\n",
              "      <th></th>\n",
              "      <th></th>\n",
              "      <th></th>\n",
              "      <th></th>\n",
              "    </tr>\n",
              "  </thead>\n",
              "  <tbody>\n",
              "    <tr>\n",
              "      <th>A+B</th>\n",
              "      <td>5039</td>\n",
              "      <td>356</td>\n",
              "      <td>0.070649</td>\n",
              "      <td>0.929351</td>\n",
              "    </tr>\n",
              "    <tr>\n",
              "      <th>C</th>\n",
              "      <td>15921</td>\n",
              "      <td>1353</td>\n",
              "      <td>0.084982</td>\n",
              "      <td>0.915018</td>\n",
              "    </tr>\n",
              "    <tr>\n",
              "      <th>D+E</th>\n",
              "      <td>371</td>\n",
              "      <td>23</td>\n",
              "      <td>0.061995</td>\n",
              "      <td>0.938005</td>\n",
              "    </tr>\n",
              "  </tbody>\n",
              "</table>\n",
              "</div>"
            ],
            "text/plain": [
              "                            debt       with_debt without_debt\n",
              "                           count   sum                       \n",
              "total_income_category_new                                    \n",
              "A+B                         5039   356  0.070649     0.929351\n",
              "C                          15921  1353  0.084982     0.915018\n",
              "D+E                          371    23  0.061995     0.938005"
            ]
          },
          "execution_count": 35,
          "metadata": {},
          "output_type": "execute_result"
        }
      ],
      "source": [
        "data_grouped_income = data.groupby('total_income_category_new').agg({'debt' : ['count', 'sum']}) # группируем\n",
        "data_grouped_income['with_debt'] = data_grouped_income['debt']['sum'] / data_grouped_income['debt']['count'] # вероятность вернуть кредит с задержкой\n",
        "data_grouped_income['without_debt'] = 1 - data_grouped_income['with_debt'] # вероятность вернуть кредит без задержки (как противоположное событие)\n",
        "data_grouped_income.head(10)"
      ]
    },
    {
      "cell_type": "markdown",
      "id": "83fd3948",
      "metadata": {
        "id": "83fd3948"
      },
      "source": [
        "Для наглядности - отсортируем данные по убыванию вероятности вернуть кредит без задолженности и найдем самых надежных и ненадежных заемщиков по признаку total income"
      ]
    },
    {
      "cell_type": "code",
      "execution_count": null,
      "id": "6269b4b8",
      "metadata": {
        "id": "6269b4b8",
        "outputId": "147d47e8-8859-4442-ef4d-09edbb709c4b"
      },
      "outputs": [
        {
          "data": {
            "text/html": [
              "<div>\n",
              "<style scoped>\n",
              "    .dataframe tbody tr th:only-of-type {\n",
              "        vertical-align: middle;\n",
              "    }\n",
              "\n",
              "    .dataframe tbody tr th {\n",
              "        vertical-align: top;\n",
              "    }\n",
              "\n",
              "    .dataframe thead tr th {\n",
              "        text-align: left;\n",
              "    }\n",
              "\n",
              "    .dataframe thead tr:last-of-type th {\n",
              "        text-align: right;\n",
              "    }\n",
              "</style>\n",
              "<table border=\"1\" class=\"dataframe\">\n",
              "  <thead>\n",
              "    <tr>\n",
              "      <th></th>\n",
              "      <th colspan=\"2\" halign=\"left\">debt</th>\n",
              "      <th>with_debt</th>\n",
              "      <th>without_debt</th>\n",
              "    </tr>\n",
              "    <tr>\n",
              "      <th></th>\n",
              "      <th>count</th>\n",
              "      <th>sum</th>\n",
              "      <th></th>\n",
              "      <th></th>\n",
              "    </tr>\n",
              "    <tr>\n",
              "      <th>total_income_category_new</th>\n",
              "      <th></th>\n",
              "      <th></th>\n",
              "      <th></th>\n",
              "      <th></th>\n",
              "    </tr>\n",
              "  </thead>\n",
              "  <tbody>\n",
              "    <tr>\n",
              "      <th>D+E</th>\n",
              "      <td>371</td>\n",
              "      <td>23</td>\n",
              "      <td>0.061995</td>\n",
              "      <td>0.938005</td>\n",
              "    </tr>\n",
              "    <tr>\n",
              "      <th>A+B</th>\n",
              "      <td>5039</td>\n",
              "      <td>356</td>\n",
              "      <td>0.070649</td>\n",
              "      <td>0.929351</td>\n",
              "    </tr>\n",
              "    <tr>\n",
              "      <th>C</th>\n",
              "      <td>15921</td>\n",
              "      <td>1353</td>\n",
              "      <td>0.084982</td>\n",
              "      <td>0.915018</td>\n",
              "    </tr>\n",
              "  </tbody>\n",
              "</table>\n",
              "</div>"
            ],
            "text/plain": [
              "                            debt       with_debt without_debt\n",
              "                           count   sum                       \n",
              "total_income_category_new                                    \n",
              "D+E                          371    23  0.061995     0.938005\n",
              "A+B                         5039   356  0.070649     0.929351\n",
              "C                          15921  1353  0.084982     0.915018"
            ]
          },
          "execution_count": 36,
          "metadata": {},
          "output_type": "execute_result"
        }
      ],
      "source": [
        "data_grouped_income.sort_values('without_debt', ascending=False)"
      ]
    },
    {
      "cell_type": "markdown",
      "id": "ef9aff66",
      "metadata": {
        "id": "ef9aff66"
      },
      "source": [
        "**Промежуточные наблюдения:**\n",
        "\n",
        "* Объединение категорий D и E привело к тому, что данная катгория оказалась самым надежным заемщиком. Однако, примем во внимание тот факт, что количество наблюдений по данной категории все еще мало (371). Примем, что для статистических выводов количество наблюдений должно быть больше 1000, поэтому результаты по группе D+E не будем учитывать в итогом выводе, указав на факт недостаточности количества наблюдений"
      ]
    },
    {
      "cell_type": "markdown",
      "id": "01e299f6",
      "metadata": {
        "deletable": false,
        "id": "01e299f6"
      },
      "source": [
        "**Вывод:** \n",
        "* Опираясь на полученные результаты видим, что при категоризации заемщиков по признаку 'total income' самыми надежными заемщика (с наибольшей вероятностью вернуть кредит без просрочек) являются заемщики с категорией дохода A+B (от 200 тыс) (вероятность 92.94%)  а самыми ненадежными - с категорией С (от 50 тыс до 200 тыс) (91.50%). Категории D+E исключили из рассмотрения \n",
        "* Результат, что самыми надежными заемщиками окажутся люди с высоким доходом был вполне ожидаем."
      ]
    },
    {
      "cell_type": "markdown",
      "id": "f8bc7e2e",
      "metadata": {
        "deletable": false,
        "editable": false,
        "id": "f8bc7e2e"
      },
      "source": [
        "#### 3.4 Как разные цели кредита влияют на его возврат в срок?"
      ]
    },
    {
      "cell_type": "markdown",
      "id": "e8365777",
      "metadata": {
        "id": "e8365777"
      },
      "source": [
        "Методика решения аналогична предыдущим пунктам.\n",
        "Посмотрим уникальные значения в столбце 'purpose_category':"
      ]
    },
    {
      "cell_type": "code",
      "execution_count": null,
      "id": "348bb2c1",
      "metadata": {
        "deletable": false,
        "id": "348bb2c1",
        "outputId": "ed3505cd-0531-4923-9ef1-c8bf96508ecd"
      },
      "outputs": [
        {
          "data": {
            "text/plain": [
              "array(['операции с недвижимостью', 'операции с автомобилем',\n",
              "       'получение образования', 'проведение свадьбы'], dtype=object)"
            ]
          },
          "execution_count": 37,
          "metadata": {},
          "output_type": "execute_result"
        }
      ],
      "source": [
        "data['purpose_category'].unique()# Ваш код будет здесь. Вы можете создавать новые ячейки."
      ]
    },
    {
      "cell_type": "code",
      "execution_count": null,
      "id": "c97d0f91",
      "metadata": {
        "id": "c97d0f91",
        "outputId": "251c9ea9-1e01-45cd-e9f2-f058d69dc41a"
      },
      "outputs": [
        {
          "data": {
            "text/html": [
              "<div>\n",
              "<style scoped>\n",
              "    .dataframe tbody tr th:only-of-type {\n",
              "        vertical-align: middle;\n",
              "    }\n",
              "\n",
              "    .dataframe tbody tr th {\n",
              "        vertical-align: top;\n",
              "    }\n",
              "\n",
              "    .dataframe thead tr th {\n",
              "        text-align: left;\n",
              "    }\n",
              "\n",
              "    .dataframe thead tr:last-of-type th {\n",
              "        text-align: right;\n",
              "    }\n",
              "</style>\n",
              "<table border=\"1\" class=\"dataframe\">\n",
              "  <thead>\n",
              "    <tr>\n",
              "      <th></th>\n",
              "      <th colspan=\"2\" halign=\"left\">debt</th>\n",
              "      <th>with_debt</th>\n",
              "      <th>without_debt</th>\n",
              "    </tr>\n",
              "    <tr>\n",
              "      <th></th>\n",
              "      <th>count</th>\n",
              "      <th>sum</th>\n",
              "      <th></th>\n",
              "      <th></th>\n",
              "    </tr>\n",
              "    <tr>\n",
              "      <th>purpose_category</th>\n",
              "      <th></th>\n",
              "      <th></th>\n",
              "      <th></th>\n",
              "      <th></th>\n",
              "    </tr>\n",
              "  </thead>\n",
              "  <tbody>\n",
              "    <tr>\n",
              "      <th>операции с недвижимостью</th>\n",
              "      <td>10751</td>\n",
              "      <td>780</td>\n",
              "      <td>0.072551</td>\n",
              "      <td>0.927449</td>\n",
              "    </tr>\n",
              "    <tr>\n",
              "      <th>проведение свадьбы</th>\n",
              "      <td>2313</td>\n",
              "      <td>183</td>\n",
              "      <td>0.079118</td>\n",
              "      <td>0.920882</td>\n",
              "    </tr>\n",
              "    <tr>\n",
              "      <th>получение образования</th>\n",
              "      <td>3988</td>\n",
              "      <td>369</td>\n",
              "      <td>0.092528</td>\n",
              "      <td>0.907472</td>\n",
              "    </tr>\n",
              "    <tr>\n",
              "      <th>операции с автомобилем</th>\n",
              "      <td>4279</td>\n",
              "      <td>400</td>\n",
              "      <td>0.093480</td>\n",
              "      <td>0.906520</td>\n",
              "    </tr>\n",
              "  </tbody>\n",
              "</table>\n",
              "</div>"
            ],
            "text/plain": [
              "                           debt      with_debt without_debt\n",
              "                          count  sum                       \n",
              "purpose_category                                           \n",
              "операции с недвижимостью  10751  780  0.072551     0.927449\n",
              "проведение свадьбы         2313  183  0.079118     0.920882\n",
              "получение образования      3988  369  0.092528     0.907472\n",
              "операции с автомобилем     4279  400  0.093480     0.906520"
            ]
          },
          "execution_count": 38,
          "metadata": {},
          "output_type": "execute_result"
        }
      ],
      "source": [
        "data_grouped_purpose = data.groupby('purpose_category').agg({'debt' : ['count', 'sum']}) #группировка по столбцу 'purpose_category' и применение функций \n",
        "data_grouped_purpose['with_debt'] = data_grouped_purpose['debt']['sum'] / data_grouped_purpose['debt']['count'] # вероятность вернуть кредит с задержкой\n",
        "data_grouped_purpose['without_debt'] = 1 - data_grouped_purpose['with_debt'] # вероятность вернуть кредит без задержки (как противоположное событие)\n",
        "\n",
        "data_grouped_purpose.sort_values('without_debt', ascending=False) #сортировка по убыванию вероятности вернуть кредит без задержек\n"
      ]
    },
    {
      "cell_type": "markdown",
      "id": "c72cb410",
      "metadata": {
        "id": "c72cb410"
      },
      "source": [
        "**Промежуточные наблюдения**\n",
        "* Количество наблюдений в каждой категории больше 1000, что позволяет делать статистические выводы"
      ]
    },
    {
      "cell_type": "markdown",
      "id": "132a60e6",
      "metadata": {
        "deletable": false,
        "id": "132a60e6"
      },
      "source": [
        "**Вывод:** \n",
        "* Опираясь на полученные результаты видим, что при категоризации заемщиков по признаку 'purpose_category' самыми надежными заемщика (с наибольшей вероятностью вернуть кредит без просрочек) являются заемщики, которые берут кредит на операции, связанные с недвижимостью (вероятность 92.74%)  а самыми ненадежными - заемщики, которые берут кредит на операции с автомобилем (90.65%). \n",
        "* Объяснить такой результат можно тем, что покупка недвижимости чаще чуть более продуманная и взвешенная покупка, чем покупка автомобиля которая нередко относится к эмоциональным покупкам. Для более точного понимания причины необходимо \"копать глубже\" - смотреть возраст заемщиков, категории дохода, образование и т.д."
      ]
    },
    {
      "cell_type": "markdown",
      "id": "a491811d",
      "metadata": {
        "deletable": false,
        "editable": false,
        "id": "a491811d"
      },
      "source": [
        "#### 3.5 Приведите возможные причины появления пропусков в исходных данных."
      ]
    },
    {
      "cell_type": "markdown",
      "id": "10fdb6ef",
      "metadata": {
        "deletable": false,
        "id": "10fdb6ef"
      },
      "source": [
        "*Ответ:* Причины появления пропуска в данных могут быть различными:\n",
        "* ошибка при выгрузке данных (следует пообщаться с разработчиком, который предоставил выгрузку и обсудить с ним пропуски в данных);\n",
        "* человеческий фактор (неккоректное заполнение информации (здесь надо проработать формы (анкеты), которые заполняет пользователь и сделать поля, например, обязательными или с выбором из списка)) или намеренное сокртые информации);\n",
        "* часть данных могля быть не заполнена, потому что она относится к разным категориям. Например, студент мог оставить пропуск в графе 'days_employed', так как он еще ни дня не работал."
      ]
    },
    {
      "cell_type": "markdown",
      "id": "09bbea8f",
      "metadata": {
        "deletable": false,
        "editable": false,
        "id": "09bbea8f"
      },
      "source": [
        "#### 3.6 Объясните, почему заполнить пропуски медианным значением — лучшее решение для количественных переменных."
      ]
    },
    {
      "cell_type": "markdown",
      "id": "cf35450d",
      "metadata": {
        "deletable": false,
        "id": "cf35450d"
      },
      "source": [
        "*Ответ:* Для количесвенных переменных лучше заполнять пропуски медианным значением, чтобы не получить искаженный результат при наличии сильных выбросов в данных (аномальных значений). \n",
        "\n",
        "Например, кейс - в фирме работает 10 человек, з/п у всех сотрудников - 100тыс. При приеме на работу сотрудника с з/п 300 тыс и пересчете средней з/п сотрудников путем нахождения среднего арифмеического мы получим существенный рост средней з/п (1300 тыс / 11 чел = 118 тыс, что соответсвует росту средней з/п всех сотрудников на 18%). И если з/п одного из сотрудников была бы пропущена, то взяв среднее арифметическое мы бы указали 118 тыс, а взяв медианное значение - 100 тыс, что ближе к реальной картине.\n",
        "\n",
        "Также можно привести кейсы с недвижимостью (зависимость цены от площади), когда есть аномально высокие цены на объекты (с такой же площадью, но аномально высоким значением цены) которые \"тянут среднее значение стоимости квадратного метра вверх\". В этом случае, более правильным решением заоплнять пропуски в ценах - будет брать медианное значение стоимости площади кв метра."
      ]
    },
    {
      "cell_type": "markdown",
      "id": "afc5e63e",
      "metadata": {
        "deletable": false,
        "editable": false,
        "id": "afc5e63e"
      },
      "source": [
        "### Шаг 4: общий вывод."
      ]
    },
    {
      "cell_type": "markdown",
      "id": "24a82294",
      "metadata": {
        "deletable": false,
        "id": "24a82294"
      },
      "source": [
        "В процессе анализа данных были получены следующие выводы:\n",
        "\n",
        "* При категоризации заемщиков по признаку 'количество детей' было применено укрупнение категорий и введение новой - \"многодетные\". Самыми надежными заемщика (с наибольшей вероятростью вернуть кредит без просрочек) являются заемщики без детей (вероятность 92.46%) и многодетные (вероятность 91.8%), а самыми ненадежными - с 1 ребенком (90.77%) и с 2 детьми (90.55%). Объянить такой результат можно тем, что возможно финансовое положение людей без детей чуть лучше (меньшие расходы), чем с 1 или с 2 детьми. А многодетные семьи могут получать субсидированные процентные ставки и другие льготы, а также если у людей 3 и более детей, то опять же с финансовой точки зрения - они могут себе это позволить и обеспечить такую большую семью;\n",
        "* При категоризации заемщиков по признаку 'семейный статус' самыми надежными заемщика (с наибольшей вероятростью вернуть кредит без просрочек) являются заемщики \"вдовец / вдова\" (вероятность 93.38%) и 'в разводе' (вероятность 92.93%), а самыми ненадежными - с 'Не женат / не замужем' (90.24%) и с 'гражданский брак' (90.68%)\n",
        "* При категоризации заемщиков по признаку 'total income' самыми надежными заемщика (с наибольшей вероятностью вернуть кредит без просрочек) являются заемщики с категорией дохода A+B (от 200 тыс) (вероятность 92.94%)  а самыми ненадежными - с категорией С (от 50 тыс до 200 тыс) (91.50%). Категории D+E исключили из рассмотрения из-за малости количества наблюдений. Результат, что самыми надежными заемщиками окажутся люди с высоким доходом был вполне ожидаем;\n",
        "* При категоризации заемщиков по признаку 'purpose_category' самыми надежными заемщика (с наибольшей вероятностью вернуть кредит без просрочек) являются заемщики, которые берут кредит на операции, связанные с недвижимостью (вероятность 92.74%)  а самыми ненадежными - заемщики, которые берут кредит на операции с автомобилем (90.65%). Объяснить такой результат можно тем, что покупка недвижимости чаще чуть более продуманная и взвешенная покупка, чем покупка автомобиля которая нередко относится к эмоциональным покупкам. Для более точного понимания причины необходимо \"копать глубже\" - смотреть возраст заемщиков, категории дохода, образование и т.д.\n"
      ]
    }
  ],
  "metadata": {
    "ExecuteTimeLog": [
      {
        "duration": 50,
        "start_time": "2023-01-29T11:41:12.827Z"
      },
      {
        "duration": 477,
        "start_time": "2023-01-29T11:41:19.626Z"
      },
      {
        "duration": 22,
        "start_time": "2023-01-29T11:41:20.105Z"
      },
      {
        "duration": 31,
        "start_time": "2023-01-29T11:41:20.129Z"
      },
      {
        "duration": 37,
        "start_time": "2023-01-29T11:41:20.162Z"
      },
      {
        "duration": 66,
        "start_time": "2023-01-29T11:41:20.202Z"
      },
      {
        "duration": 3,
        "start_time": "2023-01-29T11:41:20.270Z"
      },
      {
        "duration": 13,
        "start_time": "2023-01-29T11:41:20.275Z"
      },
      {
        "duration": 49,
        "start_time": "2023-01-29T11:41:20.290Z"
      },
      {
        "duration": 36,
        "start_time": "2023-01-29T11:41:20.341Z"
      },
      {
        "duration": 29,
        "start_time": "2023-01-29T11:41:20.379Z"
      },
      {
        "duration": 34,
        "start_time": "2023-01-29T11:41:20.409Z"
      },
      {
        "duration": 10,
        "start_time": "2023-01-29T11:41:20.445Z"
      },
      {
        "duration": 4,
        "start_time": "2023-01-29T11:41:20.457Z"
      },
      {
        "duration": 11,
        "start_time": "2023-01-29T11:41:20.463Z"
      },
      {
        "duration": 20,
        "start_time": "2023-01-29T11:41:20.491Z"
      },
      {
        "duration": 19,
        "start_time": "2023-01-29T11:41:20.513Z"
      },
      {
        "duration": 4,
        "start_time": "2023-01-29T11:41:20.534Z"
      },
      {
        "duration": 14,
        "start_time": "2023-01-29T11:41:20.539Z"
      },
      {
        "duration": 12,
        "start_time": "2023-01-29T11:41:20.554Z"
      },
      {
        "duration": 25,
        "start_time": "2023-01-29T11:41:20.568Z"
      },
      {
        "duration": 15,
        "start_time": "2023-01-29T11:41:20.594Z"
      },
      {
        "duration": 18,
        "start_time": "2023-01-29T11:41:22.315Z"
      },
      {
        "duration": 6,
        "start_time": "2023-01-29T11:41:47.721Z"
      },
      {
        "duration": 2,
        "start_time": "2023-01-29T11:45:49.426Z"
      },
      {
        "duration": 5,
        "start_time": "2023-01-29T12:00:12.234Z"
      },
      {
        "duration": 3,
        "start_time": "2023-01-29T12:06:17.661Z"
      },
      {
        "duration": 3,
        "start_time": "2023-01-29T12:06:35.099Z"
      },
      {
        "duration": 3,
        "start_time": "2023-01-29T12:06:39.238Z"
      },
      {
        "duration": 3,
        "start_time": "2023-01-29T12:08:03.024Z"
      },
      {
        "duration": 14,
        "start_time": "2023-01-29T12:12:49.425Z"
      },
      {
        "duration": 14,
        "start_time": "2023-01-29T12:13:20.358Z"
      },
      {
        "duration": 27,
        "start_time": "2023-01-29T12:14:57.919Z"
      },
      {
        "duration": 7,
        "start_time": "2023-01-29T12:17:11.136Z"
      },
      {
        "duration": 7,
        "start_time": "2023-01-29T12:17:23.561Z"
      },
      {
        "duration": 4,
        "start_time": "2023-01-29T12:17:52.281Z"
      },
      {
        "duration": 13,
        "start_time": "2023-01-29T12:18:05.334Z"
      },
      {
        "duration": 22,
        "start_time": "2023-01-29T12:18:52.185Z"
      },
      {
        "duration": 21,
        "start_time": "2023-01-29T12:19:12.849Z"
      },
      {
        "duration": 13,
        "start_time": "2023-01-29T12:20:10.873Z"
      },
      {
        "duration": 3,
        "start_time": "2023-01-29T12:20:21.704Z"
      },
      {
        "duration": 24,
        "start_time": "2023-01-29T12:20:30.247Z"
      },
      {
        "duration": 23,
        "start_time": "2023-01-29T12:21:35.330Z"
      },
      {
        "duration": 22,
        "start_time": "2023-01-29T12:22:02.274Z"
      },
      {
        "duration": 22,
        "start_time": "2023-01-29T12:23:33.789Z"
      },
      {
        "duration": 56,
        "start_time": "2023-01-29T12:29:02.856Z"
      },
      {
        "duration": 932,
        "start_time": "2023-01-29T12:32:53.362Z"
      },
      {
        "duration": 46,
        "start_time": "2023-01-29T12:33:49.628Z"
      },
      {
        "duration": 20,
        "start_time": "2023-01-29T12:33:58.235Z"
      },
      {
        "duration": 21,
        "start_time": "2023-01-29T12:37:46.086Z"
      },
      {
        "duration": 3,
        "start_time": "2023-01-29T12:38:21.832Z"
      },
      {
        "duration": 23,
        "start_time": "2023-01-29T12:38:38.044Z"
      },
      {
        "duration": 4,
        "start_time": "2023-01-29T12:38:48.699Z"
      },
      {
        "duration": 21,
        "start_time": "2023-01-29T12:38:50.157Z"
      },
      {
        "duration": 3,
        "start_time": "2023-01-29T12:38:53.744Z"
      },
      {
        "duration": 23,
        "start_time": "2023-01-29T12:39:18.332Z"
      },
      {
        "duration": 3,
        "start_time": "2023-01-29T12:39:21.458Z"
      },
      {
        "duration": 15,
        "start_time": "2023-01-29T12:39:33.085Z"
      },
      {
        "duration": 15,
        "start_time": "2023-01-29T12:40:10.098Z"
      },
      {
        "duration": 15,
        "start_time": "2023-01-29T12:40:15.061Z"
      },
      {
        "duration": 4,
        "start_time": "2023-01-29T12:40:35.127Z"
      },
      {
        "duration": 134,
        "start_time": "2023-01-29T12:41:00.261Z"
      },
      {
        "duration": 113,
        "start_time": "2023-01-29T12:46:18.329Z"
      },
      {
        "duration": 735,
        "start_time": "2023-01-29T16:55:34.997Z"
      },
      {
        "duration": 27,
        "start_time": "2023-01-29T16:55:35.735Z"
      },
      {
        "duration": 18,
        "start_time": "2023-01-29T16:55:35.763Z"
      },
      {
        "duration": 12,
        "start_time": "2023-01-29T16:55:35.783Z"
      },
      {
        "duration": 44,
        "start_time": "2023-01-29T16:55:35.798Z"
      },
      {
        "duration": 4,
        "start_time": "2023-01-29T16:55:35.844Z"
      },
      {
        "duration": 16,
        "start_time": "2023-01-29T16:55:35.850Z"
      },
      {
        "duration": 5,
        "start_time": "2023-01-29T16:55:35.867Z"
      },
      {
        "duration": 9,
        "start_time": "2023-01-29T16:55:35.892Z"
      },
      {
        "duration": 22,
        "start_time": "2023-01-29T16:55:35.903Z"
      },
      {
        "duration": 40,
        "start_time": "2023-01-29T16:55:35.927Z"
      },
      {
        "duration": 9,
        "start_time": "2023-01-29T16:55:35.968Z"
      },
      {
        "duration": 4,
        "start_time": "2023-01-29T16:55:35.978Z"
      },
      {
        "duration": 18,
        "start_time": "2023-01-29T16:55:35.994Z"
      },
      {
        "duration": 40,
        "start_time": "2023-01-29T16:55:36.014Z"
      },
      {
        "duration": 21,
        "start_time": "2023-01-29T16:55:36.056Z"
      },
      {
        "duration": 12,
        "start_time": "2023-01-29T16:55:36.080Z"
      },
      {
        "duration": 30,
        "start_time": "2023-01-29T16:55:36.095Z"
      },
      {
        "duration": 17,
        "start_time": "2023-01-29T16:55:36.127Z"
      },
      {
        "duration": 16,
        "start_time": "2023-01-29T16:55:36.146Z"
      },
      {
        "duration": 27,
        "start_time": "2023-01-29T16:55:36.167Z"
      },
      {
        "duration": 44,
        "start_time": "2023-01-29T16:55:36.196Z"
      },
      {
        "duration": 1083,
        "start_time": "2023-01-29T16:55:36.242Z"
      },
      {
        "duration": 109,
        "start_time": "2023-01-29T16:56:22.543Z"
      },
      {
        "duration": 4,
        "start_time": "2023-01-29T16:56:26.197Z"
      },
      {
        "duration": 7,
        "start_time": "2023-01-29T16:56:42.435Z"
      },
      {
        "duration": 7,
        "start_time": "2023-01-29T16:57:02.502Z"
      },
      {
        "duration": 5,
        "start_time": "2023-01-29T16:59:31.017Z"
      },
      {
        "duration": 44,
        "start_time": "2023-01-29T17:01:21.753Z"
      },
      {
        "duration": 33,
        "start_time": "2023-01-29T17:22:07.258Z"
      },
      {
        "duration": 36,
        "start_time": "2023-01-29T17:22:37.168Z"
      },
      {
        "duration": 42,
        "start_time": "2023-01-29T17:23:21.233Z"
      },
      {
        "duration": 56,
        "start_time": "2023-01-29T17:24:23.551Z"
      },
      {
        "duration": 3,
        "start_time": "2023-01-29T17:27:38.149Z"
      },
      {
        "duration": 3,
        "start_time": "2023-01-29T17:27:48.446Z"
      },
      {
        "duration": 3,
        "start_time": "2023-01-29T17:29:31.359Z"
      },
      {
        "duration": 3,
        "start_time": "2023-01-29T17:29:41.345Z"
      },
      {
        "duration": 32,
        "start_time": "2023-01-29T17:31:20.073Z"
      },
      {
        "duration": 46,
        "start_time": "2023-01-29T17:31:27.422Z"
      },
      {
        "duration": 3,
        "start_time": "2023-01-29T17:31:47.692Z"
      },
      {
        "duration": 38,
        "start_time": "2023-01-29T17:31:56.673Z"
      },
      {
        "duration": 5,
        "start_time": "2023-01-29T17:32:09.640Z"
      },
      {
        "duration": 48,
        "start_time": "2023-01-29T17:32:16.278Z"
      },
      {
        "duration": 32,
        "start_time": "2023-01-29T17:32:23.534Z"
      },
      {
        "duration": 33,
        "start_time": "2023-01-29T17:32:30.400Z"
      },
      {
        "duration": 32,
        "start_time": "2023-01-29T17:32:35.275Z"
      },
      {
        "duration": 34,
        "start_time": "2023-01-29T17:32:51.406Z"
      },
      {
        "duration": 42,
        "start_time": "2023-01-29T17:32:56.093Z"
      },
      {
        "duration": 45,
        "start_time": "2023-01-29T17:33:38.365Z"
      },
      {
        "duration": 4,
        "start_time": "2023-01-29T17:33:53.064Z"
      },
      {
        "duration": 4,
        "start_time": "2023-01-29T17:35:03.161Z"
      },
      {
        "duration": 4,
        "start_time": "2023-01-29T17:35:33.767Z"
      },
      {
        "duration": 5,
        "start_time": "2023-01-29T17:42:55.846Z"
      },
      {
        "duration": 5,
        "start_time": "2023-01-29T17:43:04.180Z"
      },
      {
        "duration": 5,
        "start_time": "2023-01-29T17:43:24.578Z"
      },
      {
        "duration": 32,
        "start_time": "2023-01-29T17:43:38.648Z"
      },
      {
        "duration": 3,
        "start_time": "2023-01-29T17:44:10.262Z"
      },
      {
        "duration": 118,
        "start_time": "2023-01-29T17:44:30.308Z"
      },
      {
        "duration": 20,
        "start_time": "2023-01-29T17:45:54.738Z"
      },
      {
        "duration": 16,
        "start_time": "2023-01-29T17:46:04.905Z"
      },
      {
        "duration": 12,
        "start_time": "2023-01-29T17:46:31.809Z"
      },
      {
        "duration": 10,
        "start_time": "2023-01-29T17:46:42.424Z"
      },
      {
        "duration": 10,
        "start_time": "2023-01-29T17:46:51.149Z"
      },
      {
        "duration": 119,
        "start_time": "2023-01-29T17:47:44.112Z"
      },
      {
        "duration": 164,
        "start_time": "2023-01-29T17:53:47.192Z"
      },
      {
        "duration": 151,
        "start_time": "2023-01-29T17:54:56.018Z"
      },
      {
        "duration": 10,
        "start_time": "2023-01-29T17:56:22.507Z"
      },
      {
        "duration": 10,
        "start_time": "2023-01-29T17:56:42.714Z"
      },
      {
        "duration": 13,
        "start_time": "2023-01-29T17:56:52.307Z"
      },
      {
        "duration": 12,
        "start_time": "2023-01-29T17:57:51.034Z"
      },
      {
        "duration": 4,
        "start_time": "2023-01-29T17:58:15.586Z"
      },
      {
        "duration": 9,
        "start_time": "2023-01-29T18:01:31.858Z"
      },
      {
        "duration": 19,
        "start_time": "2023-01-29T18:01:36.078Z"
      },
      {
        "duration": 125,
        "start_time": "2023-01-29T18:01:58.300Z"
      },
      {
        "duration": 12,
        "start_time": "2023-01-29T18:05:11.835Z"
      },
      {
        "duration": 34,
        "start_time": "2023-01-29T18:05:20.791Z"
      },
      {
        "duration": 5,
        "start_time": "2023-01-29T18:06:41.486Z"
      },
      {
        "duration": 40,
        "start_time": "2023-01-29T18:11:33.508Z"
      },
      {
        "duration": 29,
        "start_time": "2023-01-29T18:13:01.827Z"
      },
      {
        "duration": 29,
        "start_time": "2023-01-29T18:13:26.345Z"
      },
      {
        "duration": 4,
        "start_time": "2023-01-29T18:14:24.440Z"
      },
      {
        "duration": 73,
        "start_time": "2023-01-29T18:14:53.949Z"
      },
      {
        "duration": 71,
        "start_time": "2023-01-29T18:15:00.176Z"
      },
      {
        "duration": 23,
        "start_time": "2023-01-29T18:15:19.190Z"
      },
      {
        "duration": 68,
        "start_time": "2023-01-29T18:15:30.815Z"
      },
      {
        "duration": 16,
        "start_time": "2023-01-29T18:15:30.885Z"
      },
      {
        "duration": 54,
        "start_time": "2023-01-29T18:15:30.902Z"
      },
      {
        "duration": 21,
        "start_time": "2023-01-29T18:15:30.958Z"
      },
      {
        "duration": 42,
        "start_time": "2023-01-29T18:15:30.980Z"
      },
      {
        "duration": 3,
        "start_time": "2023-01-29T18:15:31.024Z"
      },
      {
        "duration": 28,
        "start_time": "2023-01-29T18:15:31.029Z"
      },
      {
        "duration": 27,
        "start_time": "2023-01-29T18:15:31.059Z"
      },
      {
        "duration": 32,
        "start_time": "2023-01-29T18:15:31.088Z"
      },
      {
        "duration": 20,
        "start_time": "2023-01-29T18:15:31.122Z"
      },
      {
        "duration": 49,
        "start_time": "2023-01-29T18:15:31.144Z"
      },
      {
        "duration": 9,
        "start_time": "2023-01-29T18:15:31.194Z"
      },
      {
        "duration": 9,
        "start_time": "2023-01-29T18:15:31.205Z"
      },
      {
        "duration": 20,
        "start_time": "2023-01-29T18:15:31.216Z"
      },
      {
        "duration": 33,
        "start_time": "2023-01-29T18:15:31.238Z"
      },
      {
        "duration": 21,
        "start_time": "2023-01-29T18:15:31.272Z"
      },
      {
        "duration": 4,
        "start_time": "2023-01-29T18:15:31.295Z"
      },
      {
        "duration": 25,
        "start_time": "2023-01-29T18:15:31.300Z"
      },
      {
        "duration": 44,
        "start_time": "2023-01-29T18:15:31.327Z"
      },
      {
        "duration": 11,
        "start_time": "2023-01-29T18:15:31.373Z"
      },
      {
        "duration": 26,
        "start_time": "2023-01-29T18:15:31.386Z"
      },
      {
        "duration": 41,
        "start_time": "2023-01-29T18:15:31.414Z"
      },
      {
        "duration": 22,
        "start_time": "2023-01-29T18:15:51.873Z"
      },
      {
        "duration": 67,
        "start_time": "2023-01-29T19:10:50.348Z"
      },
      {
        "duration": 15,
        "start_time": "2023-01-29T19:10:50.417Z"
      },
      {
        "duration": 21,
        "start_time": "2023-01-29T19:10:50.433Z"
      },
      {
        "duration": 9,
        "start_time": "2023-01-29T19:10:50.456Z"
      },
      {
        "duration": 52,
        "start_time": "2023-01-29T19:10:50.467Z"
      },
      {
        "duration": 3,
        "start_time": "2023-01-29T19:10:50.521Z"
      },
      {
        "duration": 11,
        "start_time": "2023-01-29T19:10:50.525Z"
      },
      {
        "duration": 5,
        "start_time": "2023-01-29T19:10:50.537Z"
      },
      {
        "duration": 6,
        "start_time": "2023-01-29T19:10:50.543Z"
      },
      {
        "duration": 5,
        "start_time": "2023-01-29T19:10:50.551Z"
      },
      {
        "duration": 61,
        "start_time": "2023-01-29T19:10:50.557Z"
      },
      {
        "duration": 9,
        "start_time": "2023-01-29T19:10:50.620Z"
      },
      {
        "duration": 4,
        "start_time": "2023-01-29T19:10:50.630Z"
      },
      {
        "duration": 13,
        "start_time": "2023-01-29T19:10:50.635Z"
      },
      {
        "duration": 42,
        "start_time": "2023-01-29T19:10:50.649Z"
      },
      {
        "duration": 18,
        "start_time": "2023-01-29T19:10:50.692Z"
      },
      {
        "duration": 4,
        "start_time": "2023-01-29T19:10:50.711Z"
      },
      {
        "duration": 14,
        "start_time": "2023-01-29T19:10:50.716Z"
      },
      {
        "duration": 16,
        "start_time": "2023-01-29T19:10:50.732Z"
      },
      {
        "duration": 4,
        "start_time": "2023-01-29T19:10:50.749Z"
      },
      {
        "duration": 11,
        "start_time": "2023-01-29T19:10:50.754Z"
      },
      {
        "duration": 41,
        "start_time": "2023-01-29T19:10:50.766Z"
      },
      {
        "duration": 135,
        "start_time": "2023-01-29T19:10:50.809Z"
      },
      {
        "duration": 49,
        "start_time": "2023-01-29T19:10:50.945Z"
      },
      {
        "duration": 0,
        "start_time": "2023-01-29T19:10:50.997Z"
      },
      {
        "duration": 0,
        "start_time": "2023-01-29T19:10:50.998Z"
      },
      {
        "duration": 0,
        "start_time": "2023-01-29T19:10:50.999Z"
      },
      {
        "duration": 0,
        "start_time": "2023-01-29T19:10:51.001Z"
      },
      {
        "duration": 0,
        "start_time": "2023-01-29T19:10:51.002Z"
      },
      {
        "duration": 0,
        "start_time": "2023-01-29T19:10:51.003Z"
      },
      {
        "duration": 0,
        "start_time": "2023-01-29T19:10:51.004Z"
      },
      {
        "duration": 0,
        "start_time": "2023-01-29T19:10:51.005Z"
      },
      {
        "duration": 73,
        "start_time": "2023-01-29T19:11:09.770Z"
      },
      {
        "duration": 14,
        "start_time": "2023-01-29T19:11:09.845Z"
      },
      {
        "duration": 19,
        "start_time": "2023-01-29T19:11:09.861Z"
      },
      {
        "duration": 16,
        "start_time": "2023-01-29T19:11:09.881Z"
      },
      {
        "duration": 35,
        "start_time": "2023-01-29T19:11:09.899Z"
      },
      {
        "duration": 3,
        "start_time": "2023-01-29T19:11:09.936Z"
      },
      {
        "duration": 12,
        "start_time": "2023-01-29T19:11:09.941Z"
      },
      {
        "duration": 4,
        "start_time": "2023-01-29T19:11:09.954Z"
      },
      {
        "duration": 16,
        "start_time": "2023-01-29T19:11:09.960Z"
      },
      {
        "duration": 17,
        "start_time": "2023-01-29T19:11:09.977Z"
      },
      {
        "duration": 35,
        "start_time": "2023-01-29T19:11:09.995Z"
      },
      {
        "duration": 10,
        "start_time": "2023-01-29T19:11:10.032Z"
      },
      {
        "duration": 7,
        "start_time": "2023-01-29T19:11:10.044Z"
      },
      {
        "duration": 11,
        "start_time": "2023-01-29T19:11:10.143Z"
      },
      {
        "duration": 22,
        "start_time": "2023-01-29T19:11:10.156Z"
      },
      {
        "duration": 26,
        "start_time": "2023-01-29T19:11:10.179Z"
      },
      {
        "duration": 3,
        "start_time": "2023-01-29T19:11:10.207Z"
      },
      {
        "duration": 13,
        "start_time": "2023-01-29T19:11:10.212Z"
      },
      {
        "duration": 10,
        "start_time": "2023-01-29T19:11:10.226Z"
      },
      {
        "duration": 4,
        "start_time": "2023-01-29T19:11:10.238Z"
      },
      {
        "duration": 10,
        "start_time": "2023-01-29T19:11:10.243Z"
      },
      {
        "duration": 54,
        "start_time": "2023-01-29T19:11:10.255Z"
      },
      {
        "duration": 135,
        "start_time": "2023-01-29T19:11:10.311Z"
      },
      {
        "duration": 47,
        "start_time": "2023-01-29T19:11:10.447Z"
      },
      {
        "duration": 0,
        "start_time": "2023-01-29T19:11:10.496Z"
      },
      {
        "duration": 0,
        "start_time": "2023-01-29T19:11:10.497Z"
      },
      {
        "duration": 0,
        "start_time": "2023-01-29T19:11:10.499Z"
      },
      {
        "duration": 0,
        "start_time": "2023-01-29T19:11:10.500Z"
      },
      {
        "duration": 0,
        "start_time": "2023-01-29T19:11:10.500Z"
      },
      {
        "duration": 0,
        "start_time": "2023-01-29T19:11:10.502Z"
      },
      {
        "duration": 5,
        "start_time": "2023-01-29T19:11:34.878Z"
      },
      {
        "duration": 30,
        "start_time": "2023-01-29T19:11:41.310Z"
      },
      {
        "duration": 3,
        "start_time": "2023-01-29T19:11:44.666Z"
      },
      {
        "duration": 133,
        "start_time": "2023-01-29T19:11:50.293Z"
      },
      {
        "duration": 46,
        "start_time": "2023-01-30T08:06:57.031Z"
      },
      {
        "duration": 0,
        "start_time": "2023-01-30T08:06:57.078Z"
      },
      {
        "duration": 0,
        "start_time": "2023-01-30T08:06:57.079Z"
      },
      {
        "duration": 0,
        "start_time": "2023-01-30T08:06:57.081Z"
      },
      {
        "duration": 1663,
        "start_time": "2023-01-30T08:07:03.520Z"
      },
      {
        "duration": 31,
        "start_time": "2023-01-30T08:07:05.185Z"
      },
      {
        "duration": 35,
        "start_time": "2023-01-30T08:07:05.218Z"
      },
      {
        "duration": 28,
        "start_time": "2023-01-30T08:07:05.256Z"
      },
      {
        "duration": 70,
        "start_time": "2023-01-30T08:07:05.286Z"
      },
      {
        "duration": 14,
        "start_time": "2023-01-30T08:07:05.358Z"
      },
      {
        "duration": 42,
        "start_time": "2023-01-30T08:07:05.374Z"
      },
      {
        "duration": 10,
        "start_time": "2023-01-30T08:07:05.418Z"
      },
      {
        "duration": 10,
        "start_time": "2023-01-30T08:07:05.430Z"
      },
      {
        "duration": 7,
        "start_time": "2023-01-30T08:07:05.443Z"
      },
      {
        "duration": 55,
        "start_time": "2023-01-30T08:07:05.452Z"
      },
      {
        "duration": 12,
        "start_time": "2023-01-30T08:07:05.512Z"
      },
      {
        "duration": 12,
        "start_time": "2023-01-30T08:07:05.526Z"
      },
      {
        "duration": 25,
        "start_time": "2023-01-30T08:07:05.540Z"
      },
      {
        "duration": 32,
        "start_time": "2023-01-30T08:07:05.566Z"
      },
      {
        "duration": 21,
        "start_time": "2023-01-30T08:07:05.601Z"
      },
      {
        "duration": 4,
        "start_time": "2023-01-30T08:07:05.624Z"
      },
      {
        "duration": 23,
        "start_time": "2023-01-30T08:07:05.629Z"
      },
      {
        "duration": 14,
        "start_time": "2023-01-30T08:07:05.653Z"
      },
      {
        "duration": 18,
        "start_time": "2023-01-30T08:07:05.668Z"
      },
      {
        "duration": 15,
        "start_time": "2023-01-30T08:07:05.687Z"
      },
      {
        "duration": 33,
        "start_time": "2023-01-30T08:07:05.704Z"
      },
      {
        "duration": 160,
        "start_time": "2023-01-30T08:07:05.739Z"
      },
      {
        "duration": 9,
        "start_time": "2023-01-30T08:07:05.905Z"
      },
      {
        "duration": 66,
        "start_time": "2023-01-30T08:07:05.917Z"
      },
      {
        "duration": 4,
        "start_time": "2023-01-30T08:07:05.985Z"
      },
      {
        "duration": 176,
        "start_time": "2023-01-30T08:07:05.991Z"
      },
      {
        "duration": 24,
        "start_time": "2023-01-30T08:09:43.067Z"
      },
      {
        "duration": 31,
        "start_time": "2023-01-30T08:10:17.893Z"
      },
      {
        "duration": 68,
        "start_time": "2023-01-30T08:11:30.845Z"
      },
      {
        "duration": 5,
        "start_time": "2023-01-30T08:11:39.349Z"
      },
      {
        "duration": 7,
        "start_time": "2023-01-30T08:11:57.693Z"
      },
      {
        "duration": 48,
        "start_time": "2023-01-30T08:14:04.959Z"
      },
      {
        "duration": 49,
        "start_time": "2023-01-30T08:14:32.095Z"
      },
      {
        "duration": 9,
        "start_time": "2023-01-30T08:15:01.340Z"
      },
      {
        "duration": 12,
        "start_time": "2023-01-30T08:16:58.253Z"
      },
      {
        "duration": 21,
        "start_time": "2023-01-30T08:17:51.957Z"
      },
      {
        "duration": 778,
        "start_time": "2023-01-30T08:20:08.992Z"
      },
      {
        "duration": 717,
        "start_time": "2023-01-30T08:20:40.616Z"
      },
      {
        "duration": 706,
        "start_time": "2023-01-30T08:20:48.961Z"
      },
      {
        "duration": 16,
        "start_time": "2023-01-30T08:21:59.367Z"
      },
      {
        "duration": 951,
        "start_time": "2023-01-30T08:23:43.942Z"
      },
      {
        "duration": 49,
        "start_time": "2023-01-30T08:24:08.931Z"
      },
      {
        "duration": 716,
        "start_time": "2023-01-30T08:24:15.426Z"
      },
      {
        "duration": 15,
        "start_time": "2023-01-30T08:30:07.236Z"
      },
      {
        "duration": 49,
        "start_time": "2023-01-30T08:31:53.564Z"
      },
      {
        "duration": 4,
        "start_time": "2023-01-30T08:38:01.538Z"
      },
      {
        "duration": 250,
        "start_time": "2023-01-30T08:39:14.303Z"
      },
      {
        "duration": 4,
        "start_time": "2023-01-30T08:40:09.053Z"
      },
      {
        "duration": 12,
        "start_time": "2023-01-30T08:40:12.445Z"
      },
      {
        "duration": 17,
        "start_time": "2023-01-30T08:40:50.606Z"
      },
      {
        "duration": 4,
        "start_time": "2023-01-30T08:41:08.327Z"
      },
      {
        "duration": 18,
        "start_time": "2023-01-30T08:41:09.095Z"
      },
      {
        "duration": 42,
        "start_time": "2023-01-30T08:41:52.090Z"
      },
      {
        "duration": 6,
        "start_time": "2023-01-30T08:42:51.360Z"
      },
      {
        "duration": 51,
        "start_time": "2023-01-30T08:43:03.527Z"
      },
      {
        "duration": 17,
        "start_time": "2023-01-30T08:43:36.270Z"
      },
      {
        "duration": 18,
        "start_time": "2023-01-30T08:46:11.395Z"
      },
      {
        "duration": 19,
        "start_time": "2023-01-30T08:46:42.618Z"
      },
      {
        "duration": 56,
        "start_time": "2023-01-30T08:49:04.483Z"
      },
      {
        "duration": 12,
        "start_time": "2023-01-30T08:49:48.897Z"
      },
      {
        "duration": 11,
        "start_time": "2023-01-30T08:50:00.955Z"
      },
      {
        "duration": 13,
        "start_time": "2023-01-30T09:09:36.307Z"
      },
      {
        "duration": 15,
        "start_time": "2023-01-30T09:10:46.552Z"
      },
      {
        "duration": 18,
        "start_time": "2023-01-30T09:11:04.636Z"
      },
      {
        "duration": 55,
        "start_time": "2023-01-30T09:25:58.542Z"
      },
      {
        "duration": 13,
        "start_time": "2023-01-30T09:27:02.482Z"
      },
      {
        "duration": 19,
        "start_time": "2023-01-30T09:35:09.939Z"
      },
      {
        "duration": 13,
        "start_time": "2023-01-30T09:35:29.106Z"
      },
      {
        "duration": 6,
        "start_time": "2023-01-30T09:35:50.659Z"
      },
      {
        "duration": 19,
        "start_time": "2023-01-30T09:37:30.571Z"
      },
      {
        "duration": 20,
        "start_time": "2023-01-30T09:38:48.480Z"
      },
      {
        "duration": 1687,
        "start_time": "2023-01-31T07:17:05.747Z"
      },
      {
        "duration": 22,
        "start_time": "2023-01-31T07:17:07.436Z"
      },
      {
        "duration": 15,
        "start_time": "2023-01-31T07:17:07.460Z"
      },
      {
        "duration": 14,
        "start_time": "2023-01-31T07:17:07.476Z"
      },
      {
        "duration": 33,
        "start_time": "2023-01-31T07:17:07.492Z"
      },
      {
        "duration": 4,
        "start_time": "2023-01-31T07:17:07.527Z"
      },
      {
        "duration": 13,
        "start_time": "2023-01-31T07:17:07.532Z"
      },
      {
        "duration": 5,
        "start_time": "2023-01-31T07:17:07.546Z"
      },
      {
        "duration": 31,
        "start_time": "2023-01-31T07:17:07.553Z"
      },
      {
        "duration": 5,
        "start_time": "2023-01-31T07:17:07.586Z"
      },
      {
        "duration": 36,
        "start_time": "2023-01-31T07:17:07.593Z"
      },
      {
        "duration": 9,
        "start_time": "2023-01-31T07:17:07.631Z"
      },
      {
        "duration": 8,
        "start_time": "2023-01-31T07:17:07.642Z"
      },
      {
        "duration": 40,
        "start_time": "2023-01-31T07:17:07.653Z"
      },
      {
        "duration": 27,
        "start_time": "2023-01-31T07:17:07.695Z"
      },
      {
        "duration": 19,
        "start_time": "2023-01-31T07:17:07.725Z"
      },
      {
        "duration": 4,
        "start_time": "2023-01-31T07:17:07.745Z"
      },
      {
        "duration": 35,
        "start_time": "2023-01-31T07:17:07.750Z"
      },
      {
        "duration": 9,
        "start_time": "2023-01-31T07:17:07.786Z"
      },
      {
        "duration": 3,
        "start_time": "2023-01-31T07:17:07.797Z"
      },
      {
        "duration": 13,
        "start_time": "2023-01-31T07:17:07.801Z"
      },
      {
        "duration": 21,
        "start_time": "2023-01-31T07:17:07.816Z"
      },
      {
        "duration": 3,
        "start_time": "2023-01-31T07:17:07.839Z"
      },
      {
        "duration": 39,
        "start_time": "2023-01-31T07:17:07.843Z"
      },
      {
        "duration": 6,
        "start_time": "2023-01-31T07:17:07.884Z"
      },
      {
        "duration": 19,
        "start_time": "2023-01-31T07:17:07.892Z"
      },
      {
        "duration": 12,
        "start_time": "2023-01-31T07:17:07.913Z"
      },
      {
        "duration": 8,
        "start_time": "2023-01-31T07:17:07.927Z"
      },
      {
        "duration": 48,
        "start_time": "2023-01-31T07:17:07.937Z"
      },
      {
        "duration": 11,
        "start_time": "2023-01-31T07:17:07.987Z"
      },
      {
        "duration": 52,
        "start_time": "2023-01-31T07:19:24.657Z"
      },
      {
        "duration": 5,
        "start_time": "2023-01-31T07:22:11.910Z"
      },
      {
        "duration": 45,
        "start_time": "2023-01-31T07:22:34.292Z"
      },
      {
        "duration": 19,
        "start_time": "2023-01-31T07:24:36.731Z"
      },
      {
        "duration": 48,
        "start_time": "2023-01-31T07:28:22.893Z"
      },
      {
        "duration": 16,
        "start_time": "2023-01-31T07:29:38.576Z"
      },
      {
        "duration": 14,
        "start_time": "2023-01-31T08:18:00.975Z"
      },
      {
        "duration": 6,
        "start_time": "2023-01-31T08:18:22.906Z"
      },
      {
        "duration": 3,
        "start_time": "2023-01-31T08:18:57.633Z"
      },
      {
        "duration": 22,
        "start_time": "2023-01-31T08:19:21.500Z"
      },
      {
        "duration": 20,
        "start_time": "2023-01-31T08:19:40.167Z"
      },
      {
        "duration": 12,
        "start_time": "2023-01-31T08:21:17.545Z"
      },
      {
        "duration": 50,
        "start_time": "2023-01-31T08:22:13.238Z"
      },
      {
        "duration": 2,
        "start_time": "2023-01-31T08:30:55.270Z"
      },
      {
        "duration": 996,
        "start_time": "2023-01-31T08:32:11.069Z"
      },
      {
        "duration": 17,
        "start_time": "2023-01-31T08:33:48.771Z"
      },
      {
        "duration": 19,
        "start_time": "2023-01-31T08:35:01.793Z"
      },
      {
        "duration": 20,
        "start_time": "2023-01-31T08:35:11.542Z"
      },
      {
        "duration": 12,
        "start_time": "2023-01-31T08:35:23.479Z"
      },
      {
        "duration": 3,
        "start_time": "2023-01-31T08:37:10.051Z"
      },
      {
        "duration": 17,
        "start_time": "2023-01-31T08:37:11.437Z"
      },
      {
        "duration": 66,
        "start_time": "2023-01-31T08:37:20.407Z"
      },
      {
        "duration": 57,
        "start_time": "2023-01-31T08:38:23.009Z"
      },
      {
        "duration": 49,
        "start_time": "2023-01-31T08:47:25.858Z"
      },
      {
        "duration": 19,
        "start_time": "2023-01-31T09:00:05.138Z"
      },
      {
        "duration": 42,
        "start_time": "2023-01-31T09:00:33.035Z"
      },
      {
        "duration": 29,
        "start_time": "2023-01-31T09:01:59.437Z"
      },
      {
        "duration": 21,
        "start_time": "2023-01-31T09:02:05.248Z"
      },
      {
        "duration": 45,
        "start_time": "2023-01-31T09:03:39.332Z"
      },
      {
        "duration": 26,
        "start_time": "2023-01-31T09:04:35.769Z"
      },
      {
        "duration": 30,
        "start_time": "2023-01-31T09:04:56.693Z"
      },
      {
        "duration": 5,
        "start_time": "2023-01-31T09:44:58.325Z"
      },
      {
        "duration": 74,
        "start_time": "2023-01-31T09:45:44.731Z"
      },
      {
        "duration": 16,
        "start_time": "2023-01-31T09:45:44.806Z"
      },
      {
        "duration": 20,
        "start_time": "2023-01-31T09:45:44.824Z"
      },
      {
        "duration": 9,
        "start_time": "2023-01-31T09:45:44.846Z"
      },
      {
        "duration": 55,
        "start_time": "2023-01-31T09:45:44.857Z"
      },
      {
        "duration": 4,
        "start_time": "2023-01-31T09:45:44.913Z"
      },
      {
        "duration": 11,
        "start_time": "2023-01-31T09:45:44.918Z"
      },
      {
        "duration": 6,
        "start_time": "2023-01-31T09:45:44.931Z"
      },
      {
        "duration": 8,
        "start_time": "2023-01-31T09:45:44.938Z"
      },
      {
        "duration": 7,
        "start_time": "2023-01-31T09:45:44.949Z"
      },
      {
        "duration": 57,
        "start_time": "2023-01-31T09:45:44.957Z"
      },
      {
        "duration": 9,
        "start_time": "2023-01-31T09:45:45.016Z"
      },
      {
        "duration": 16,
        "start_time": "2023-01-31T09:45:45.027Z"
      },
      {
        "duration": 21,
        "start_time": "2023-01-31T09:45:45.044Z"
      },
      {
        "duration": 25,
        "start_time": "2023-01-31T09:45:45.067Z"
      },
      {
        "duration": 16,
        "start_time": "2023-01-31T09:45:45.094Z"
      },
      {
        "duration": 4,
        "start_time": "2023-01-31T09:45:45.111Z"
      },
      {
        "duration": 16,
        "start_time": "2023-01-31T09:45:45.116Z"
      },
      {
        "duration": 6,
        "start_time": "2023-01-31T09:45:45.134Z"
      },
      {
        "duration": 8,
        "start_time": "2023-01-31T09:45:45.142Z"
      },
      {
        "duration": 30,
        "start_time": "2023-01-31T09:45:45.152Z"
      },
      {
        "duration": 18,
        "start_time": "2023-01-31T09:45:45.183Z"
      },
      {
        "duration": 4,
        "start_time": "2023-01-31T09:45:45.202Z"
      },
      {
        "duration": 22,
        "start_time": "2023-01-31T09:45:45.207Z"
      },
      {
        "duration": 4,
        "start_time": "2023-01-31T09:45:45.231Z"
      },
      {
        "duration": 27,
        "start_time": "2023-01-31T09:45:45.237Z"
      },
      {
        "duration": 27,
        "start_time": "2023-01-31T09:45:45.265Z"
      },
      {
        "duration": 8,
        "start_time": "2023-01-31T09:45:45.296Z"
      },
      {
        "duration": 27,
        "start_time": "2023-01-31T09:45:45.306Z"
      },
      {
        "duration": 11,
        "start_time": "2023-01-31T09:45:45.334Z"
      },
      {
        "duration": 5,
        "start_time": "2023-01-31T09:45:45.347Z"
      },
      {
        "duration": 42,
        "start_time": "2023-01-31T09:45:45.354Z"
      },
      {
        "duration": 3,
        "start_time": "2023-01-31T09:45:45.398Z"
      },
      {
        "duration": 20,
        "start_time": "2023-01-31T09:45:45.402Z"
      },
      {
        "duration": 19,
        "start_time": "2023-01-31T09:45:45.424Z"
      },
      {
        "duration": 10,
        "start_time": "2023-01-31T09:45:45.444Z"
      },
      {
        "duration": 6,
        "start_time": "2023-01-31T09:45:45.481Z"
      },
      {
        "duration": 25,
        "start_time": "2023-01-31T09:45:45.489Z"
      },
      {
        "duration": 1114,
        "start_time": "2023-01-31T16:53:46.118Z"
      },
      {
        "duration": 18,
        "start_time": "2023-01-31T16:53:47.234Z"
      },
      {
        "duration": 13,
        "start_time": "2023-01-31T16:53:47.256Z"
      },
      {
        "duration": 15,
        "start_time": "2023-01-31T16:53:47.270Z"
      },
      {
        "duration": 44,
        "start_time": "2023-01-31T16:53:47.286Z"
      },
      {
        "duration": 4,
        "start_time": "2023-01-31T16:53:47.331Z"
      },
      {
        "duration": 19,
        "start_time": "2023-01-31T16:53:47.336Z"
      },
      {
        "duration": 4,
        "start_time": "2023-01-31T16:53:47.356Z"
      },
      {
        "duration": 7,
        "start_time": "2023-01-31T16:53:47.362Z"
      },
      {
        "duration": 4,
        "start_time": "2023-01-31T16:53:47.370Z"
      },
      {
        "duration": 40,
        "start_time": "2023-01-31T16:53:47.376Z"
      },
      {
        "duration": 36,
        "start_time": "2023-01-31T16:53:47.418Z"
      },
      {
        "duration": 4,
        "start_time": "2023-01-31T16:53:47.456Z"
      },
      {
        "duration": 14,
        "start_time": "2023-01-31T16:53:47.461Z"
      },
      {
        "duration": 18,
        "start_time": "2023-01-31T16:53:47.477Z"
      },
      {
        "duration": 16,
        "start_time": "2023-01-31T16:53:47.497Z"
      },
      {
        "duration": 33,
        "start_time": "2023-01-31T16:53:47.515Z"
      },
      {
        "duration": 10,
        "start_time": "2023-01-31T16:53:47.549Z"
      },
      {
        "duration": 8,
        "start_time": "2023-01-31T16:53:47.560Z"
      },
      {
        "duration": 8,
        "start_time": "2023-01-31T16:53:47.570Z"
      },
      {
        "duration": 13,
        "start_time": "2023-01-31T16:53:47.579Z"
      },
      {
        "duration": 17,
        "start_time": "2023-01-31T16:53:47.594Z"
      },
      {
        "duration": 3,
        "start_time": "2023-01-31T16:53:47.613Z"
      },
      {
        "duration": 42,
        "start_time": "2023-01-31T16:53:47.617Z"
      },
      {
        "duration": 6,
        "start_time": "2023-01-31T16:53:47.661Z"
      },
      {
        "duration": 23,
        "start_time": "2023-01-31T16:53:47.669Z"
      },
      {
        "duration": 10,
        "start_time": "2023-01-31T16:53:47.695Z"
      },
      {
        "duration": 19,
        "start_time": "2023-01-31T16:53:47.706Z"
      },
      {
        "duration": 31,
        "start_time": "2023-01-31T16:53:47.727Z"
      },
      {
        "duration": 10,
        "start_time": "2023-01-31T16:53:47.759Z"
      },
      {
        "duration": 12,
        "start_time": "2023-01-31T16:53:47.771Z"
      },
      {
        "duration": 23,
        "start_time": "2023-01-31T16:53:47.784Z"
      },
      {
        "duration": 6,
        "start_time": "2023-01-31T16:53:47.809Z"
      },
      {
        "duration": 48,
        "start_time": "2023-01-31T16:53:47.817Z"
      },
      {
        "duration": 22,
        "start_time": "2023-01-31T16:53:47.867Z"
      },
      {
        "duration": 11,
        "start_time": "2023-01-31T16:53:47.891Z"
      },
      {
        "duration": 26,
        "start_time": "2023-01-31T16:53:47.904Z"
      },
      {
        "duration": 32,
        "start_time": "2023-01-31T16:53:47.932Z"
      },
      {
        "duration": 92,
        "start_time": "2023-02-01T10:05:52.244Z"
      }
    ],
    "colab": {
      "provenance": []
    },
    "kernelspec": {
      "display_name": "Python 3 (ipykernel)",
      "language": "python",
      "name": "python3"
    },
    "language_info": {
      "codemirror_mode": {
        "name": "ipython",
        "version": 3
      },
      "file_extension": ".py",
      "mimetype": "text/x-python",
      "name": "python",
      "nbconvert_exporter": "python",
      "pygments_lexer": "ipython3",
      "version": "3.9.5"
    },
    "toc": {
      "base_numbering": 1,
      "nav_menu": {},
      "number_sections": true,
      "sideBar": true,
      "skip_h1_title": true,
      "title_cell": "Table of Contents",
      "title_sidebar": "Contents",
      "toc_cell": false,
      "toc_position": {
        "height": "calc(100% - 180px)",
        "left": "10px",
        "top": "150px",
        "width": "399.594px"
      },
      "toc_section_display": true,
      "toc_window_display": true
    }
  },
  "nbformat": 4,
  "nbformat_minor": 5
}